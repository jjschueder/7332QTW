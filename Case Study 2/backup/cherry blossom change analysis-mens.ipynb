{
 "cells": [
  {
   "cell_type": "code",
   "execution_count": 23,
   "metadata": {},
   "outputs": [],
   "source": [
    "import numpy as np # linear algebra\n",
    "import pandas as pd # data processing, CSV file I/O (e.g. pd.read_csv)\n",
    "import seaborn as sns\n",
    "import numpy as np\n",
    "#import altair as alt\n",
    "import matplotlib.pyplot as plt"
   ]
  },
  {
   "cell_type": "markdown",
   "metadata": {},
   "source": [
    "In another code all data was cleaned up via python: Following the approach developed in Section 2.2 to read the files for the female runners and \n",
    "then process them using the functions in Section 2.3 to create a data frame for analysis. You may need to generalize the createDF() and extractVariables() \n",
    "functions to handle additional oddities in the raw text files. "
   ]
  },
  {
   "cell_type": "code",
   "execution_count": 24,
   "metadata": {},
   "outputs": [
    {
     "data": {
      "text/html": [
       "<div>\n",
       "<style scoped>\n",
       "    .dataframe tbody tr th:only-of-type {\n",
       "        vertical-align: middle;\n",
       "    }\n",
       "\n",
       "    .dataframe tbody tr th {\n",
       "        vertical-align: top;\n",
       "    }\n",
       "\n",
       "    .dataframe thead th {\n",
       "        text-align: right;\n",
       "    }\n",
       "</style>\n",
       "<table border=\"1\" class=\"dataframe\">\n",
       "  <thead>\n",
       "    <tr style=\"text-align: right;\">\n",
       "      <th></th>\n",
       "      <th>Unnamed: 0</th>\n",
       "      <th>0</th>\n",
       "      <th>year</th>\n",
       "      <th>place</th>\n",
       "      <th>div_total</th>\n",
       "      <th>name</th>\n",
       "      <th>age</th>\n",
       "      <th>hometown</th>\n",
       "      <th>time</th>\n",
       "      <th>pace</th>\n",
       "      <th>numId</th>\n",
       "      <th>guntime</th>\n",
       "      <th>netTime</th>\n",
       "      <th>combtime</th>\n",
       "    </tr>\n",
       "  </thead>\n",
       "  <tbody>\n",
       "    <tr>\n",
       "      <td>66510</td>\n",
       "      <td>7101</td>\n",
       "      <td>7094   922/931    16558 Stephen Godfrey      ...</td>\n",
       "      <td>2012</td>\n",
       "      <td>7094</td>\n",
       "      <td>922/931</td>\n",
       "      <td>Stephen Godfrey</td>\n",
       "      <td>44</td>\n",
       "      <td>Arlington VA</td>\n",
       "      <td>NaN</td>\n",
       "      <td>12:57</td>\n",
       "      <td>16558.0</td>\n",
       "      <td>2:09:22</td>\n",
       "      <td>NaN</td>\n",
       "      <td>2:09:22</td>\n",
       "    </tr>\n",
       "    <tr>\n",
       "      <td>66511</td>\n",
       "      <td>7102</td>\n",
       "      <td>7095   638/648    13540 Elliott Lomax        ...</td>\n",
       "      <td>2012</td>\n",
       "      <td>7095</td>\n",
       "      <td>638/648</td>\n",
       "      <td>Elliott Lomax</td>\n",
       "      <td>46</td>\n",
       "      <td>Bowie MD</td>\n",
       "      <td>NaN</td>\n",
       "      <td>12:57</td>\n",
       "      <td>13540.0</td>\n",
       "      <td>2:09:27</td>\n",
       "      <td>NaN</td>\n",
       "      <td>2:09:27</td>\n",
       "    </tr>\n",
       "    <tr>\n",
       "      <td>66512</td>\n",
       "      <td>7103</td>\n",
       "      <td>7096  1078/1093   21251 Brian Hughes         ...</td>\n",
       "      <td>2012</td>\n",
       "      <td>7096</td>\n",
       "      <td>1078/1093</td>\n",
       "      <td>Brian Hughes</td>\n",
       "      <td>35</td>\n",
       "      <td>Herndon VA</td>\n",
       "      <td>NaN</td>\n",
       "      <td>12:57</td>\n",
       "      <td>21251.0</td>\n",
       "      <td>2:09:29</td>\n",
       "      <td>NaN</td>\n",
       "      <td>2:09:29</td>\n",
       "    </tr>\n",
       "    <tr>\n",
       "      <td>66513</td>\n",
       "      <td>7104</td>\n",
       "      <td>7097   923/931    20710 Jerry McGuigan       ...</td>\n",
       "      <td>2012</td>\n",
       "      <td>7097</td>\n",
       "      <td>923/931</td>\n",
       "      <td>Jerry McGuigan</td>\n",
       "      <td>41</td>\n",
       "      <td>Waldorf MD</td>\n",
       "      <td>NaN</td>\n",
       "      <td>12:58</td>\n",
       "      <td>20710.0</td>\n",
       "      <td>2:09:32</td>\n",
       "      <td>NaN</td>\n",
       "      <td>2:09:32</td>\n",
       "    </tr>\n",
       "    <tr>\n",
       "      <td>66514</td>\n",
       "      <td>7105</td>\n",
       "      <td>7098   369/375     8905 John Storey          ...</td>\n",
       "      <td>2012</td>\n",
       "      <td>7098</td>\n",
       "      <td>369/375</td>\n",
       "      <td>John Storey</td>\n",
       "      <td>55</td>\n",
       "      <td>York PA</td>\n",
       "      <td>NaN</td>\n",
       "      <td>12:58</td>\n",
       "      <td>8905.0</td>\n",
       "      <td>2:09:32</td>\n",
       "      <td>NaN</td>\n",
       "      <td>2:09:32</td>\n",
       "    </tr>\n",
       "    <tr>\n",
       "      <td>...</td>\n",
       "      <td>...</td>\n",
       "      <td>...</td>\n",
       "      <td>...</td>\n",
       "      <td>...</td>\n",
       "      <td>...</td>\n",
       "      <td>...</td>\n",
       "      <td>...</td>\n",
       "      <td>...</td>\n",
       "      <td>...</td>\n",
       "      <td>...</td>\n",
       "      <td>...</td>\n",
       "      <td>...</td>\n",
       "      <td>...</td>\n",
       "      <td>...</td>\n",
       "    </tr>\n",
       "    <tr>\n",
       "      <td>66605</td>\n",
       "      <td>7196</td>\n",
       "      <td>7189  1092/1093   19845 Jurek Grabowski      ...</td>\n",
       "      <td>2012</td>\n",
       "      <td>7189</td>\n",
       "      <td>1092/1093</td>\n",
       "      <td>Jurek Grabowski</td>\n",
       "      <td>39</td>\n",
       "      <td>Fairfax VA</td>\n",
       "      <td>NaN</td>\n",
       "      <td>14:44</td>\n",
       "      <td>19845.0</td>\n",
       "      <td>2:27:11</td>\n",
       "      <td>NaN</td>\n",
       "      <td>2:27:11</td>\n",
       "    </tr>\n",
       "    <tr>\n",
       "      <td>66606</td>\n",
       "      <td>7197</td>\n",
       "      <td>7190   375/375    18780 Larry Hume           ...</td>\n",
       "      <td>2012</td>\n",
       "      <td>7190</td>\n",
       "      <td>375/375</td>\n",
       "      <td>Larry Hume</td>\n",
       "      <td>56</td>\n",
       "      <td>Arlington VA</td>\n",
       "      <td>NaN</td>\n",
       "      <td>14:44</td>\n",
       "      <td>18780.0</td>\n",
       "      <td>2:27:20</td>\n",
       "      <td>NaN</td>\n",
       "      <td>2:27:20</td>\n",
       "    </tr>\n",
       "    <tr>\n",
       "      <td>66607</td>\n",
       "      <td>7198</td>\n",
       "      <td>7191  1093/1093   19104 Sean-Patrick Alexande...</td>\n",
       "      <td>2012</td>\n",
       "      <td>7191</td>\n",
       "      <td>1093/1093</td>\n",
       "      <td>Sean-Patrick Alexander</td>\n",
       "      <td>35</td>\n",
       "      <td>Alexandria VA</td>\n",
       "      <td>NaN</td>\n",
       "      <td>14:45</td>\n",
       "      <td>19104.0</td>\n",
       "      <td>2:27:30</td>\n",
       "      <td>NaN</td>\n",
       "      <td>2:27:30</td>\n",
       "    </tr>\n",
       "    <tr>\n",
       "      <td>66608</td>\n",
       "      <td>7199</td>\n",
       "      <td>7192              22280 Joseph White         ...</td>\n",
       "      <td>2012</td>\n",
       "      <td>7192</td>\n",
       "      <td></td>\n",
       "      <td>Joseph White</td>\n",
       "      <td>NaN</td>\n",
       "      <td>Forestville MD</td>\n",
       "      <td>NaN</td>\n",
       "      <td>14:54</td>\n",
       "      <td>22280.0</td>\n",
       "      <td>2:28:58</td>\n",
       "      <td>NaN</td>\n",
       "      <td>2:28:58</td>\n",
       "    </tr>\n",
       "    <tr>\n",
       "      <td>66609</td>\n",
       "      <td>7200</td>\n",
       "      <td>7193   648/648     6555 Lee Jordan           ...</td>\n",
       "      <td>2012</td>\n",
       "      <td>7193</td>\n",
       "      <td>648/648</td>\n",
       "      <td>Lee Jordan</td>\n",
       "      <td>48</td>\n",
       "      <td>Herndon VA</td>\n",
       "      <td>NaN</td>\n",
       "      <td>15:06</td>\n",
       "      <td>6555.0</td>\n",
       "      <td>2:30:59</td>\n",
       "      <td>NaN</td>\n",
       "      <td>2:30:59</td>\n",
       "    </tr>\n",
       "  </tbody>\n",
       "</table>\n",
       "<p>100 rows × 14 columns</p>\n",
       "</div>"
      ],
      "text/plain": [
       "       Unnamed: 0                                                  0  year  \\\n",
       "66510        7101   7094   922/931    16558 Stephen Godfrey      ...  2012   \n",
       "66511        7102   7095   638/648    13540 Elliott Lomax        ...  2012   \n",
       "66512        7103   7096  1078/1093   21251 Brian Hughes         ...  2012   \n",
       "66513        7104   7097   923/931    20710 Jerry McGuigan       ...  2012   \n",
       "66514        7105   7098   369/375     8905 John Storey          ...  2012   \n",
       "...           ...                                                ...   ...   \n",
       "66605        7196   7189  1092/1093   19845 Jurek Grabowski      ...  2012   \n",
       "66606        7197   7190   375/375    18780 Larry Hume           ...  2012   \n",
       "66607        7198   7191  1093/1093   19104 Sean-Patrick Alexande...  2012   \n",
       "66608        7199   7192              22280 Joseph White         ...  2012   \n",
       "66609        7200   7193   648/648     6555 Lee Jordan           ...  2012   \n",
       "\n",
       "       place    div_total                     name  age  \\\n",
       "66510   7094    922/931    Stephen Godfrey           44   \n",
       "66511   7095    638/648    Elliott Lomax             46   \n",
       "66512   7096   1078/1093   Brian Hughes              35   \n",
       "66513   7097    923/931    Jerry McGuigan            41   \n",
       "66514   7098    369/375    John Storey               55   \n",
       "...      ...          ...                      ...  ...   \n",
       "66605   7189   1092/1093   Jurek Grabowski           39   \n",
       "66606   7190    375/375    Larry Hume                56   \n",
       "66607   7191   1093/1093   Sean-Patrick Alexander    35   \n",
       "66608   7192               Joseph White             NaN   \n",
       "66609   7193    648/648    Lee Jordan                48   \n",
       "\n",
       "                    hometown time   pace    numId  guntime netTime combtime  \n",
       "66510  Arlington VA           NaN  12:57  16558.0  2:09:22     NaN  2:09:22  \n",
       "66511  Bowie MD               NaN  12:57  13540.0  2:09:27     NaN  2:09:27  \n",
       "66512  Herndon VA             NaN  12:57  21251.0  2:09:29     NaN  2:09:29  \n",
       "66513  Waldorf MD             NaN  12:58  20710.0  2:09:32     NaN  2:09:32  \n",
       "66514  York PA                NaN  12:58   8905.0  2:09:32     NaN  2:09:32  \n",
       "...                      ...  ...    ...      ...      ...     ...      ...  \n",
       "66605  Fairfax VA             NaN  14:44  19845.0  2:27:11     NaN  2:27:11  \n",
       "66606  Arlington VA           NaN  14:44  18780.0  2:27:20     NaN  2:27:20  \n",
       "66607  Alexandria VA          NaN  14:45  19104.0  2:27:30     NaN  2:27:30  \n",
       "66608  Forestville MD         NaN  14:54  22280.0  2:28:58     NaN  2:28:58  \n",
       "66609  Herndon VA             NaN  15:06   6555.0  2:30:59     NaN  2:30:59  \n",
       "\n",
       "[100 rows x 14 columns]"
      ]
     },
     "execution_count": 24,
     "metadata": {},
     "output_type": "execute_result"
    }
   ],
   "source": [
    "#df = pd.read_csv(\"/home/jjschued/Documents/womensrace.csv\")\n",
    "df = pd.read_csv(\"C:/Users/jjschued/Documents/SMU/7333 QTW/mensrace.csv\")\n",
    "# verify data read in\n",
    "df.tail(100)"
   ]
  },
  {
   "cell_type": "code",
   "execution_count": 25,
   "metadata": {},
   "outputs": [
    {
     "data": {
      "text/html": [
       "<div>\n",
       "<style scoped>\n",
       "    .dataframe tbody tr th:only-of-type {\n",
       "        vertical-align: middle;\n",
       "    }\n",
       "\n",
       "    .dataframe tbody tr th {\n",
       "        vertical-align: top;\n",
       "    }\n",
       "\n",
       "    .dataframe thead th {\n",
       "        text-align: right;\n",
       "    }\n",
       "</style>\n",
       "<table border=\"1\" class=\"dataframe\">\n",
       "  <thead>\n",
       "    <tr style=\"text-align: right;\">\n",
       "      <th></th>\n",
       "      <th>Unnamed: 0</th>\n",
       "      <th>0</th>\n",
       "      <th>year</th>\n",
       "      <th>place</th>\n",
       "      <th>div_total</th>\n",
       "      <th>name</th>\n",
       "      <th>age</th>\n",
       "      <th>hometown</th>\n",
       "      <th>time</th>\n",
       "      <th>pace</th>\n",
       "      <th>numId</th>\n",
       "      <th>guntime</th>\n",
       "      <th>netTime</th>\n",
       "      <th>combtime</th>\n",
       "    </tr>\n",
       "  </thead>\n",
       "  <tbody>\n",
       "    <tr>\n",
       "      <td>0</td>\n",
       "      <td>3</td>\n",
       "      <td>1    1/1584 Worku Bikila          28 Ethio...</td>\n",
       "      <td>1999</td>\n",
       "      <td>1</td>\n",
       "      <td>1/1584</td>\n",
       "      <td>Worku Bikila</td>\n",
       "      <td>28</td>\n",
       "      <td>Ethiopia</td>\n",
       "      <td>46:59</td>\n",
       "      <td>4:42</td>\n",
       "      <td>NaN</td>\n",
       "      <td>NaN</td>\n",
       "      <td>NaN</td>\n",
       "      <td>46:59</td>\n",
       "    </tr>\n",
       "    <tr>\n",
       "      <td>1</td>\n",
       "      <td>4</td>\n",
       "      <td>2    2/1584 Lazarus Nyakeraka     24 Kenya...</td>\n",
       "      <td>1999</td>\n",
       "      <td>2</td>\n",
       "      <td>2/1584</td>\n",
       "      <td>Lazarus Nyakeraka</td>\n",
       "      <td>24</td>\n",
       "      <td>Kenya</td>\n",
       "      <td>47:01</td>\n",
       "      <td>4:43</td>\n",
       "      <td>NaN</td>\n",
       "      <td>NaN</td>\n",
       "      <td>NaN</td>\n",
       "      <td>47:01</td>\n",
       "    </tr>\n",
       "    <tr>\n",
       "      <td>2</td>\n",
       "      <td>5</td>\n",
       "      <td>3    3/1584 James Kariuki         27 Kenya...</td>\n",
       "      <td>1999</td>\n",
       "      <td>3</td>\n",
       "      <td>3/1584</td>\n",
       "      <td>James Kariuki</td>\n",
       "      <td>27</td>\n",
       "      <td>Kenya</td>\n",
       "      <td>47:03</td>\n",
       "      <td>4:43</td>\n",
       "      <td>NaN</td>\n",
       "      <td>NaN</td>\n",
       "      <td>NaN</td>\n",
       "      <td>47:03</td>\n",
       "    </tr>\n",
       "    <tr>\n",
       "      <td>3</td>\n",
       "      <td>6</td>\n",
       "      <td>4    4/1584 William Kiptum        28 Kenya...</td>\n",
       "      <td>1999</td>\n",
       "      <td>4</td>\n",
       "      <td>4/1584</td>\n",
       "      <td>William Kiptum</td>\n",
       "      <td>28</td>\n",
       "      <td>Kenya</td>\n",
       "      <td>47:07</td>\n",
       "      <td>4:43</td>\n",
       "      <td>NaN</td>\n",
       "      <td>NaN</td>\n",
       "      <td>NaN</td>\n",
       "      <td>47:07</td>\n",
       "    </tr>\n",
       "    <tr>\n",
       "      <td>4</td>\n",
       "      <td>7</td>\n",
       "      <td>5    5/1584 Joseph Kimani         26 Kenya...</td>\n",
       "      <td>1999</td>\n",
       "      <td>5</td>\n",
       "      <td>5/1584</td>\n",
       "      <td>Joseph Kimani</td>\n",
       "      <td>26</td>\n",
       "      <td>Kenya</td>\n",
       "      <td>47:31</td>\n",
       "      <td>4:46</td>\n",
       "      <td>NaN</td>\n",
       "      <td>NaN</td>\n",
       "      <td>NaN</td>\n",
       "      <td>47:31</td>\n",
       "    </tr>\n",
       "    <tr>\n",
       "      <td>...</td>\n",
       "      <td>...</td>\n",
       "      <td>...</td>\n",
       "      <td>...</td>\n",
       "      <td>...</td>\n",
       "      <td>...</td>\n",
       "      <td>...</td>\n",
       "      <td>...</td>\n",
       "      <td>...</td>\n",
       "      <td>...</td>\n",
       "      <td>...</td>\n",
       "      <td>...</td>\n",
       "      <td>...</td>\n",
       "      <td>...</td>\n",
       "      <td>...</td>\n",
       "    </tr>\n",
       "    <tr>\n",
       "      <td>95</td>\n",
       "      <td>98</td>\n",
       "      <td>96   76/1584 Stephen Kortenkamp    31 Balti...</td>\n",
       "      <td>1999</td>\n",
       "      <td>96</td>\n",
       "      <td>76/1584</td>\n",
       "      <td>Stephen Kortenkamp</td>\n",
       "      <td>31</td>\n",
       "      <td>Baltimore MD</td>\n",
       "      <td>59:17</td>\n",
       "      <td>5:56</td>\n",
       "      <td>NaN</td>\n",
       "      <td>NaN</td>\n",
       "      <td>NaN</td>\n",
       "      <td>59:17</td>\n",
       "    </tr>\n",
       "    <tr>\n",
       "      <td>96</td>\n",
       "      <td>99</td>\n",
       "      <td>97   77/1584 Dale Christopher      30 Arlin...</td>\n",
       "      <td>1999</td>\n",
       "      <td>97</td>\n",
       "      <td>77/1584</td>\n",
       "      <td>Dale Christopher</td>\n",
       "      <td>30</td>\n",
       "      <td>Arlington VA</td>\n",
       "      <td>59:17</td>\n",
       "      <td>5:56</td>\n",
       "      <td>NaN</td>\n",
       "      <td>NaN</td>\n",
       "      <td>NaN</td>\n",
       "      <td>59:17</td>\n",
       "    </tr>\n",
       "    <tr>\n",
       "      <td>97</td>\n",
       "      <td>100</td>\n",
       "      <td>98   78/1584 Lorenzo Nelson        34 Distr...</td>\n",
       "      <td>1999</td>\n",
       "      <td>98</td>\n",
       "      <td>78/1584</td>\n",
       "      <td>Lorenzo Nelson</td>\n",
       "      <td>34</td>\n",
       "      <td>District Hgts MD</td>\n",
       "      <td>59:18</td>\n",
       "      <td>5:56</td>\n",
       "      <td>NaN</td>\n",
       "      <td>NaN</td>\n",
       "      <td>NaN</td>\n",
       "      <td>59:18</td>\n",
       "    </tr>\n",
       "    <tr>\n",
       "      <td>98</td>\n",
       "      <td>101</td>\n",
       "      <td>99   79/1584 Clay Warner           39 Falls...</td>\n",
       "      <td>1999</td>\n",
       "      <td>99</td>\n",
       "      <td>79/1584</td>\n",
       "      <td>Clay Warner</td>\n",
       "      <td>39</td>\n",
       "      <td>Falls Church VA</td>\n",
       "      <td>59:29</td>\n",
       "      <td>5:57</td>\n",
       "      <td>NaN</td>\n",
       "      <td>NaN</td>\n",
       "      <td>NaN</td>\n",
       "      <td>59:29</td>\n",
       "    </tr>\n",
       "    <tr>\n",
       "      <td>99</td>\n",
       "      <td>102</td>\n",
       "      <td>100   80/1584 Christopher Lipscomb  26 Sanfo...</td>\n",
       "      <td>1999</td>\n",
       "      <td>100</td>\n",
       "      <td>80/1584</td>\n",
       "      <td>Christopher Lipscomb</td>\n",
       "      <td>26</td>\n",
       "      <td>Sanford FL</td>\n",
       "      <td>59:31</td>\n",
       "      <td>5:58</td>\n",
       "      <td>NaN</td>\n",
       "      <td>NaN</td>\n",
       "      <td>NaN</td>\n",
       "      <td>59:31</td>\n",
       "    </tr>\n",
       "  </tbody>\n",
       "</table>\n",
       "<p>100 rows × 14 columns</p>\n",
       "</div>"
      ],
      "text/plain": [
       "    Unnamed: 0                                                  0  year  \\\n",
       "0            3      1    1/1584 Worku Bikila          28 Ethio...  1999   \n",
       "1            4      2    2/1584 Lazarus Nyakeraka     24 Kenya...  1999   \n",
       "2            5      3    3/1584 James Kariuki         27 Kenya...  1999   \n",
       "3            6      4    4/1584 William Kiptum        28 Kenya...  1999   \n",
       "4            7      5    5/1584 Joseph Kimani         26 Kenya...  1999   \n",
       "..         ...                                                ...   ...   \n",
       "95          98     96   76/1584 Stephen Kortenkamp    31 Balti...  1999   \n",
       "96          99     97   77/1584 Dale Christopher      30 Arlin...  1999   \n",
       "97         100     98   78/1584 Lorenzo Nelson        34 Distr...  1999   \n",
       "98         101     99   79/1584 Clay Warner           39 Falls...  1999   \n",
       "99         102    100   80/1584 Christopher Lipscomb  26 Sanfo...  1999   \n",
       "\n",
       "    place  div_total                   name age            hometown   time  \\\n",
       "0       1     1/1584  Worku Bikila           28  Ethiopia            46:59   \n",
       "1       2     2/1584  Lazarus Nyakeraka      24  Kenya               47:01   \n",
       "2       3     3/1584  James Kariuki          27  Kenya               47:03   \n",
       "3       4     4/1584  William Kiptum         28  Kenya               47:07   \n",
       "4       5     5/1584  Joseph Kimani          26  Kenya               47:31   \n",
       "..    ...        ...                    ...  ..                 ...    ...   \n",
       "95     96    76/1584  Stephen Kortenkamp     31  Baltimore MD        59:17   \n",
       "96     97    77/1584  Dale Christopher       30  Arlington VA        59:17   \n",
       "97     98    78/1584  Lorenzo Nelson         34  District Hgts MD    59:18   \n",
       "98     99    79/1584  Clay Warner            39  Falls Church VA     59:29   \n",
       "99    100    80/1584  Christopher Lipscomb   26  Sanford FL          59:31   \n",
       "\n",
       "    pace  numId guntime netTime combtime  \n",
       "0   4:42    NaN     NaN     NaN    46:59  \n",
       "1   4:43    NaN     NaN     NaN    47:01  \n",
       "2   4:43    NaN     NaN     NaN    47:03  \n",
       "3   4:43    NaN     NaN     NaN    47:07  \n",
       "4   4:46    NaN     NaN     NaN    47:31  \n",
       "..   ...    ...     ...     ...      ...  \n",
       "95  5:56    NaN     NaN     NaN    59:17  \n",
       "96  5:56    NaN     NaN     NaN    59:17  \n",
       "97  5:56    NaN     NaN     NaN    59:18  \n",
       "98  5:57    NaN     NaN     NaN    59:29  \n",
       "99  5:58    NaN     NaN     NaN    59:31  \n",
       "\n",
       "[100 rows x 14 columns]"
      ]
     },
     "execution_count": 25,
     "metadata": {},
     "output_type": "execute_result"
    }
   ],
   "source": [
    "df.head(100)"
   ]
  },
  {
   "cell_type": "code",
   "execution_count": 26,
   "metadata": {},
   "outputs": [
    {
     "name": "stdout",
     "output_type": "stream",
     "text": [
      "<class 'pandas.core.frame.DataFrame'>\n",
      "RangeIndex: 66610 entries, 0 to 66609\n",
      "Data columns (total 14 columns):\n",
      "Unnamed: 0    66610 non-null int64\n",
      "0             66610 non-null object\n",
      "year          66610 non-null int64\n",
      "place         66610 non-null int64\n",
      "div_total     59328 non-null object\n",
      "name          66610 non-null object\n",
      "age           66587 non-null object\n",
      "hometown      66610 non-null object\n",
      "time          6380 non-null object\n",
      "pace          43886 non-null object\n",
      "numId         60230 non-null float64\n",
      "guntime       60230 non-null object\n",
      "netTime       41880 non-null object\n",
      "combtime      66610 non-null object\n",
      "dtypes: float64(1), int64(3), object(10)\n",
      "memory usage: 7.1+ MB\n"
     ]
    }
   ],
   "source": [
    "df.info()"
   ]
  },
  {
   "cell_type": "code",
   "execution_count": 27,
   "metadata": {},
   "outputs": [
    {
     "data": {
      "text/plain": [
       "Unnamed: 0      int64\n",
       "0              object\n",
       "year            int64\n",
       "place           int64\n",
       "div_total      object\n",
       "name           object\n",
       "age            object\n",
       "hometown       object\n",
       "time           object\n",
       "pace           object\n",
       "numId         float64\n",
       "guntime        object\n",
       "netTime        object\n",
       "combtime       object\n",
       "dtype: object"
      ]
     },
     "execution_count": 27,
     "metadata": {},
     "output_type": "execute_result"
    }
   ],
   "source": [
    "df.dtypes"
   ]
  },
  {
   "cell_type": "markdown",
   "metadata": {},
   "source": [
    "Various cleanup to do analysis on time.  Covnerting to time format, then converting into seconds. "
   ]
  },
  {
   "cell_type": "code",
   "execution_count": 28,
   "metadata": {},
   "outputs": [],
   "source": [
    "df['time_length'] = df['combtime'].apply(len)"
   ]
  },
  {
   "cell_type": "code",
   "execution_count": 29,
   "metadata": {},
   "outputs": [],
   "source": [
    "df.loc[df.time_length == 5, 'fcobmine'] = \"00:\" + df['combtime']\n",
    "df.loc[df.time_length == 7, 'fcobmine'] =  df['combtime']"
   ]
  },
  {
   "cell_type": "code",
   "execution_count": 30,
   "metadata": {},
   "outputs": [],
   "source": [
    "df['finaltime'] = pd.to_datetime(df['fcobmine'], format='%H:%M:%S')"
   ]
  },
  {
   "cell_type": "code",
   "execution_count": 31,
   "metadata": {},
   "outputs": [],
   "source": [
    "df = df.dropna(subset=['fcobmine'])"
   ]
  },
  {
   "cell_type": "code",
   "execution_count": 32,
   "metadata": {},
   "outputs": [],
   "source": [
    "df['hour'] = df['finaltime'].dt.strftime(\"%H\")\n",
    "df['minutes'] = df['finaltime'].dt.strftime(\"%M\")\n",
    "df['seconds'] = df['finaltime'].dt.strftime(\"%S\")\n",
    "\n",
    "df['dursecs'] = pd.to_numeric(df['hour']) * 3600 + pd.to_numeric(df['minutes']) * 60 + pd.to_numeric(df['seconds'])"
   ]
  },
  {
   "cell_type": "markdown",
   "metadata": {},
   "source": [
    "A little cleanup of the age column.  After initial loading some of the ages contained alpha characters. Those characters are removed here."
   ]
  },
  {
   "cell_type": "code",
   "execution_count": 33,
   "metadata": {},
   "outputs": [],
   "source": [
    "df['agenum'] =df['age'].str.replace(r\"[a-zA-Z]\",'')\n",
    "df['agenum'] = pd.to_numeric(df['agenum'])"
   ]
  },
  {
   "cell_type": "code",
   "execution_count": 34,
   "metadata": {},
   "outputs": [],
   "source": [
    "df['durationminutes'] = df['dursecs'] / 60"
   ]
  },
  {
   "cell_type": "code",
   "execution_count": 35,
   "metadata": {},
   "outputs": [],
   "source": [
    "df = df.replace(r'^\\s+$', np.nan, regex=True)\n",
    "df = df.dropna(subset=['agenum'])"
   ]
  },
  {
   "cell_type": "markdown",
   "metadata": {},
   "source": [
    "Check out results of cleaning"
   ]
  },
  {
   "cell_type": "code",
   "execution_count": 36,
   "metadata": {},
   "outputs": [
    {
     "data": {
      "text/html": [
       "<div>\n",
       "<style scoped>\n",
       "    .dataframe tbody tr th:only-of-type {\n",
       "        vertical-align: middle;\n",
       "    }\n",
       "\n",
       "    .dataframe tbody tr th {\n",
       "        vertical-align: top;\n",
       "    }\n",
       "\n",
       "    .dataframe thead th {\n",
       "        text-align: right;\n",
       "    }\n",
       "</style>\n",
       "<table border=\"1\" class=\"dataframe\">\n",
       "  <thead>\n",
       "    <tr style=\"text-align: right;\">\n",
       "      <th></th>\n",
       "      <th>Unnamed: 0</th>\n",
       "      <th>0</th>\n",
       "      <th>year</th>\n",
       "      <th>place</th>\n",
       "      <th>div_total</th>\n",
       "      <th>name</th>\n",
       "      <th>age</th>\n",
       "      <th>hometown</th>\n",
       "      <th>time</th>\n",
       "      <th>pace</th>\n",
       "      <th>...</th>\n",
       "      <th>combtime</th>\n",
       "      <th>time_length</th>\n",
       "      <th>fcobmine</th>\n",
       "      <th>finaltime</th>\n",
       "      <th>hour</th>\n",
       "      <th>minutes</th>\n",
       "      <th>seconds</th>\n",
       "      <th>dursecs</th>\n",
       "      <th>agenum</th>\n",
       "      <th>durationminutes</th>\n",
       "    </tr>\n",
       "  </thead>\n",
       "  <tbody>\n",
       "    <tr>\n",
       "      <td>0</td>\n",
       "      <td>3</td>\n",
       "      <td>1    1/1584 Worku Bikila          28 Ethio...</td>\n",
       "      <td>1999</td>\n",
       "      <td>1</td>\n",
       "      <td>1/1584</td>\n",
       "      <td>Worku Bikila</td>\n",
       "      <td>28</td>\n",
       "      <td>Ethiopia</td>\n",
       "      <td>46:59</td>\n",
       "      <td>4:42</td>\n",
       "      <td>...</td>\n",
       "      <td>46:59</td>\n",
       "      <td>5</td>\n",
       "      <td>00:46:59</td>\n",
       "      <td>1900-01-01 00:46:59</td>\n",
       "      <td>00</td>\n",
       "      <td>46</td>\n",
       "      <td>59</td>\n",
       "      <td>2819</td>\n",
       "      <td>28.0</td>\n",
       "      <td>46.983333</td>\n",
       "    </tr>\n",
       "    <tr>\n",
       "      <td>1</td>\n",
       "      <td>4</td>\n",
       "      <td>2    2/1584 Lazarus Nyakeraka     24 Kenya...</td>\n",
       "      <td>1999</td>\n",
       "      <td>2</td>\n",
       "      <td>2/1584</td>\n",
       "      <td>Lazarus Nyakeraka</td>\n",
       "      <td>24</td>\n",
       "      <td>Kenya</td>\n",
       "      <td>47:01</td>\n",
       "      <td>4:43</td>\n",
       "      <td>...</td>\n",
       "      <td>47:01</td>\n",
       "      <td>5</td>\n",
       "      <td>00:47:01</td>\n",
       "      <td>1900-01-01 00:47:01</td>\n",
       "      <td>00</td>\n",
       "      <td>47</td>\n",
       "      <td>01</td>\n",
       "      <td>2821</td>\n",
       "      <td>24.0</td>\n",
       "      <td>47.016667</td>\n",
       "    </tr>\n",
       "    <tr>\n",
       "      <td>2</td>\n",
       "      <td>5</td>\n",
       "      <td>3    3/1584 James Kariuki         27 Kenya...</td>\n",
       "      <td>1999</td>\n",
       "      <td>3</td>\n",
       "      <td>3/1584</td>\n",
       "      <td>James Kariuki</td>\n",
       "      <td>27</td>\n",
       "      <td>Kenya</td>\n",
       "      <td>47:03</td>\n",
       "      <td>4:43</td>\n",
       "      <td>...</td>\n",
       "      <td>47:03</td>\n",
       "      <td>5</td>\n",
       "      <td>00:47:03</td>\n",
       "      <td>1900-01-01 00:47:03</td>\n",
       "      <td>00</td>\n",
       "      <td>47</td>\n",
       "      <td>03</td>\n",
       "      <td>2823</td>\n",
       "      <td>27.0</td>\n",
       "      <td>47.050000</td>\n",
       "    </tr>\n",
       "    <tr>\n",
       "      <td>3</td>\n",
       "      <td>6</td>\n",
       "      <td>4    4/1584 William Kiptum        28 Kenya...</td>\n",
       "      <td>1999</td>\n",
       "      <td>4</td>\n",
       "      <td>4/1584</td>\n",
       "      <td>William Kiptum</td>\n",
       "      <td>28</td>\n",
       "      <td>Kenya</td>\n",
       "      <td>47:07</td>\n",
       "      <td>4:43</td>\n",
       "      <td>...</td>\n",
       "      <td>47:07</td>\n",
       "      <td>5</td>\n",
       "      <td>00:47:07</td>\n",
       "      <td>1900-01-01 00:47:07</td>\n",
       "      <td>00</td>\n",
       "      <td>47</td>\n",
       "      <td>07</td>\n",
       "      <td>2827</td>\n",
       "      <td>28.0</td>\n",
       "      <td>47.116667</td>\n",
       "    </tr>\n",
       "    <tr>\n",
       "      <td>4</td>\n",
       "      <td>7</td>\n",
       "      <td>5    5/1584 Joseph Kimani         26 Kenya...</td>\n",
       "      <td>1999</td>\n",
       "      <td>5</td>\n",
       "      <td>5/1584</td>\n",
       "      <td>Joseph Kimani</td>\n",
       "      <td>26</td>\n",
       "      <td>Kenya</td>\n",
       "      <td>47:31</td>\n",
       "      <td>4:46</td>\n",
       "      <td>...</td>\n",
       "      <td>47:31</td>\n",
       "      <td>5</td>\n",
       "      <td>00:47:31</td>\n",
       "      <td>1900-01-01 00:47:31</td>\n",
       "      <td>00</td>\n",
       "      <td>47</td>\n",
       "      <td>31</td>\n",
       "      <td>2851</td>\n",
       "      <td>26.0</td>\n",
       "      <td>47.516667</td>\n",
       "    </tr>\n",
       "  </tbody>\n",
       "</table>\n",
       "<p>5 rows × 23 columns</p>\n",
       "</div>"
      ],
      "text/plain": [
       "   Unnamed: 0                                                  0  year  place  \\\n",
       "0           3      1    1/1584 Worku Bikila          28 Ethio...  1999      1   \n",
       "1           4      2    2/1584 Lazarus Nyakeraka     24 Kenya...  1999      2   \n",
       "2           5      3    3/1584 James Kariuki         27 Kenya...  1999      3   \n",
       "3           6      4    4/1584 William Kiptum        28 Kenya...  1999      4   \n",
       "4           7      5    5/1584 Joseph Kimani         26 Kenya...  1999      5   \n",
       "\n",
       "   div_total                   name age            hometown   time  pace  ...  \\\n",
       "0     1/1584  Worku Bikila           28  Ethiopia            46:59  4:42  ...   \n",
       "1     2/1584  Lazarus Nyakeraka      24  Kenya               47:01  4:43  ...   \n",
       "2     3/1584  James Kariuki          27  Kenya               47:03  4:43  ...   \n",
       "3     4/1584  William Kiptum         28  Kenya               47:07  4:43  ...   \n",
       "4     5/1584  Joseph Kimani          26  Kenya               47:31  4:46  ...   \n",
       "\n",
       "   combtime time_length  fcobmine           finaltime  hour minutes seconds  \\\n",
       "0     46:59           5  00:46:59 1900-01-01 00:46:59    00      46      59   \n",
       "1     47:01           5  00:47:01 1900-01-01 00:47:01    00      47      01   \n",
       "2     47:03           5  00:47:03 1900-01-01 00:47:03    00      47      03   \n",
       "3     47:07           5  00:47:07 1900-01-01 00:47:07    00      47      07   \n",
       "4     47:31           5  00:47:31 1900-01-01 00:47:31    00      47      31   \n",
       "\n",
       "  dursecs agenum durationminutes  \n",
       "0    2819   28.0       46.983333  \n",
       "1    2821   24.0       47.016667  \n",
       "2    2823   27.0       47.050000  \n",
       "3    2827   28.0       47.116667  \n",
       "4    2851   26.0       47.516667  \n",
       "\n",
       "[5 rows x 23 columns]"
      ]
     },
     "execution_count": 36,
     "metadata": {},
     "output_type": "execute_result"
    }
   ],
   "source": [
    "df.head()"
   ]
  },
  {
   "cell_type": "code",
   "execution_count": 37,
   "metadata": {},
   "outputs": [],
   "source": [
    "bins = [1, 19, 24, 29,\n",
    "34,\n",
    "39,\n",
    "44,\n",
    "49,\n",
    "54,\n",
    "59,\n",
    "64,\n",
    "69,\n",
    "74,\n",
    "79,\n",
    "99]\n",
    "df['agebinned'] = pd.cut(df['agenum'], bins)"
   ]
  },
  {
   "cell_type": "code",
   "execution_count": 38,
   "metadata": {},
   "outputs": [
    {
     "data": {
      "text/html": [
       "<div>\n",
       "<style scoped>\n",
       "    .dataframe tbody tr th:only-of-type {\n",
       "        vertical-align: middle;\n",
       "    }\n",
       "\n",
       "    .dataframe tbody tr th {\n",
       "        vertical-align: top;\n",
       "    }\n",
       "\n",
       "    .dataframe thead th {\n",
       "        text-align: right;\n",
       "    }\n",
       "</style>\n",
       "<table border=\"1\" class=\"dataframe\">\n",
       "  <thead>\n",
       "    <tr style=\"text-align: right;\">\n",
       "      <th></th>\n",
       "      <th>Unnamed: 0</th>\n",
       "      <th>0</th>\n",
       "      <th>year</th>\n",
       "      <th>place</th>\n",
       "      <th>div_total</th>\n",
       "      <th>name</th>\n",
       "      <th>age</th>\n",
       "      <th>hometown</th>\n",
       "      <th>time</th>\n",
       "      <th>pace</th>\n",
       "      <th>...</th>\n",
       "      <th>time_length</th>\n",
       "      <th>fcobmine</th>\n",
       "      <th>finaltime</th>\n",
       "      <th>hour</th>\n",
       "      <th>minutes</th>\n",
       "      <th>seconds</th>\n",
       "      <th>dursecs</th>\n",
       "      <th>agenum</th>\n",
       "      <th>durationminutes</th>\n",
       "      <th>agebinned</th>\n",
       "    </tr>\n",
       "  </thead>\n",
       "  <tbody>\n",
       "    <tr>\n",
       "      <td>65531</td>\n",
       "      <td>6122</td>\n",
       "      <td>6115   545/648     6339 K. John Hill         ...</td>\n",
       "      <td>2012</td>\n",
       "      <td>6115</td>\n",
       "      <td>545/648</td>\n",
       "      <td>K. John Hill</td>\n",
       "      <td>47</td>\n",
       "      <td>Washington DC</td>\n",
       "      <td>NaN</td>\n",
       "      <td>10:25</td>\n",
       "      <td>...</td>\n",
       "      <td>7</td>\n",
       "      <td>1:44:06</td>\n",
       "      <td>1900-01-01 01:44:06</td>\n",
       "      <td>01</td>\n",
       "      <td>44</td>\n",
       "      <td>06</td>\n",
       "      <td>6246</td>\n",
       "      <td>47.0</td>\n",
       "      <td>104.100000</td>\n",
       "      <td>(44, 49]</td>\n",
       "    </tr>\n",
       "    <tr>\n",
       "      <td>65532</td>\n",
       "      <td>6123</td>\n",
       "      <td>6116   405/483    12814 Mike Toomey          ...</td>\n",
       "      <td>2012</td>\n",
       "      <td>6116</td>\n",
       "      <td>405/483</td>\n",
       "      <td>Mike Toomey</td>\n",
       "      <td>53</td>\n",
       "      <td>North Bellmore NY</td>\n",
       "      <td>NaN</td>\n",
       "      <td>10:25</td>\n",
       "      <td>...</td>\n",
       "      <td>7</td>\n",
       "      <td>1:44:06</td>\n",
       "      <td>1900-01-01 01:44:06</td>\n",
       "      <td>01</td>\n",
       "      <td>44</td>\n",
       "      <td>06</td>\n",
       "      <td>6246</td>\n",
       "      <td>53.0</td>\n",
       "      <td>104.100000</td>\n",
       "      <td>(49, 54]</td>\n",
       "    </tr>\n",
       "    <tr>\n",
       "      <td>65533</td>\n",
       "      <td>6124</td>\n",
       "      <td>6117   788/931    21707 Tom Abner            ...</td>\n",
       "      <td>2012</td>\n",
       "      <td>6117</td>\n",
       "      <td>788/931</td>\n",
       "      <td>Tom Abner</td>\n",
       "      <td>42</td>\n",
       "      <td>Aldie VA</td>\n",
       "      <td>NaN</td>\n",
       "      <td>10:25</td>\n",
       "      <td>...</td>\n",
       "      <td>7</td>\n",
       "      <td>1:44:07</td>\n",
       "      <td>1900-01-01 01:44:07</td>\n",
       "      <td>01</td>\n",
       "      <td>44</td>\n",
       "      <td>07</td>\n",
       "      <td>6247</td>\n",
       "      <td>42.0</td>\n",
       "      <td>104.116667</td>\n",
       "      <td>(39, 44]</td>\n",
       "    </tr>\n",
       "    <tr>\n",
       "      <td>65534</td>\n",
       "      <td>6125</td>\n",
       "      <td>6118   789/931    11438 Dodd White           ...</td>\n",
       "      <td>2012</td>\n",
       "      <td>6118</td>\n",
       "      <td>789/931</td>\n",
       "      <td>Dodd White</td>\n",
       "      <td>41</td>\n",
       "      <td>Washington DC</td>\n",
       "      <td>NaN</td>\n",
       "      <td>10:25</td>\n",
       "      <td>...</td>\n",
       "      <td>7</td>\n",
       "      <td>1:44:08</td>\n",
       "      <td>1900-01-01 01:44:08</td>\n",
       "      <td>01</td>\n",
       "      <td>44</td>\n",
       "      <td>08</td>\n",
       "      <td>6248</td>\n",
       "      <td>41.0</td>\n",
       "      <td>104.133333</td>\n",
       "      <td>(39, 44]</td>\n",
       "    </tr>\n",
       "    <tr>\n",
       "      <td>65535</td>\n",
       "      <td>6126</td>\n",
       "      <td>6119  1279/1457   20460 Matthew Kirby        ...</td>\n",
       "      <td>2012</td>\n",
       "      <td>6119</td>\n",
       "      <td>1279/1457</td>\n",
       "      <td>Matthew Kirby</td>\n",
       "      <td>27</td>\n",
       "      <td>Washington DC</td>\n",
       "      <td>NaN</td>\n",
       "      <td>10:25</td>\n",
       "      <td>...</td>\n",
       "      <td>7</td>\n",
       "      <td>1:44:08</td>\n",
       "      <td>1900-01-01 01:44:08</td>\n",
       "      <td>01</td>\n",
       "      <td>44</td>\n",
       "      <td>08</td>\n",
       "      <td>6248</td>\n",
       "      <td>27.0</td>\n",
       "      <td>104.133333</td>\n",
       "      <td>(24, 29]</td>\n",
       "    </tr>\n",
       "  </tbody>\n",
       "</table>\n",
       "<p>5 rows × 24 columns</p>\n",
       "</div>"
      ],
      "text/plain": [
       "       Unnamed: 0                                                  0  year  \\\n",
       "65531        6122   6115   545/648     6339 K. John Hill         ...  2012   \n",
       "65532        6123   6116   405/483    12814 Mike Toomey          ...  2012   \n",
       "65533        6124   6117   788/931    21707 Tom Abner            ...  2012   \n",
       "65534        6125   6118   789/931    11438 Dodd White           ...  2012   \n",
       "65535        6126   6119  1279/1457   20460 Matthew Kirby        ...  2012   \n",
       "\n",
       "       place    div_total                     name age               hometown  \\\n",
       "65531   6115    545/648    K. John Hill             47  Washington DC           \n",
       "65532   6116    405/483    Mike Toomey              53  North Bellmore NY       \n",
       "65533   6117    788/931    Tom Abner                42  Aldie VA                \n",
       "65534   6118    789/931    Dodd White               41  Washington DC           \n",
       "65535   6119   1279/1457   Matthew Kirby            27  Washington DC           \n",
       "\n",
       "      time   pace  ...  time_length fcobmine           finaltime hour  \\\n",
       "65531  NaN  10:25  ...            7  1:44:06 1900-01-01 01:44:06   01   \n",
       "65532  NaN  10:25  ...            7  1:44:06 1900-01-01 01:44:06   01   \n",
       "65533  NaN  10:25  ...            7  1:44:07 1900-01-01 01:44:07   01   \n",
       "65534  NaN  10:25  ...            7  1:44:08 1900-01-01 01:44:08   01   \n",
       "65535  NaN  10:25  ...            7  1:44:08 1900-01-01 01:44:08   01   \n",
       "\n",
       "       minutes seconds dursecs agenum durationminutes agebinned  \n",
       "65531       44      06    6246   47.0      104.100000  (44, 49]  \n",
       "65532       44      06    6246   53.0      104.100000  (49, 54]  \n",
       "65533       44      07    6247   42.0      104.116667  (39, 44]  \n",
       "65534       44      08    6248   41.0      104.133333  (39, 44]  \n",
       "65535       44      08    6248   27.0      104.133333  (24, 29]  \n",
       "\n",
       "[5 rows x 24 columns]"
      ]
     },
     "execution_count": 38,
     "metadata": {},
     "output_type": "execute_result"
    }
   ],
   "source": [
    "df.tail()"
   ]
  },
  {
   "cell_type": "code",
   "execution_count": 39,
   "metadata": {},
   "outputs": [],
   "source": [
    "#get a time stamp for change point\n",
    "from datetime import datetime\n",
    "df[\"date\"] = '-04-01'\n",
    "df[\"racetimestamp\"] = df['year'].astype(str)  + df['date']"
   ]
  },
  {
   "cell_type": "code",
   "execution_count": 40,
   "metadata": {},
   "outputs": [],
   "source": [
    "df[\"racetimestamp2\"] = pd.to_datetime(df[\"racetimestamp\"])"
   ]
  },
  {
   "cell_type": "markdown",
   "metadata": {},
   "source": [
    "### Basic Visualizations\n",
    "\n",
    "We have seen that the 1999 runners were typically older than the 2012 runners. Compare the age distribution of the [female] runners across all 14 years of the races. Use quantile–quantile plots, boxplots, and density curves to make your comparisons. How do the distributions change over the years? Was it a gradual change? "
   ]
  },
  {
   "cell_type": "code",
   "execution_count": 41,
   "metadata": {},
   "outputs": [],
   "source": [
    "df['counter'] = 1\n",
    "dfgrpby = df.groupby(by=['year'])\n",
    "runnercounts = dfgrpby.counter.sum()\n",
    "dfrc = pd.DataFrame(runnercounts)"
   ]
  },
  {
   "cell_type": "markdown",
   "metadata": {},
   "source": [
    "#### Summary Statistics "
   ]
  },
  {
   "cell_type": "code",
   "execution_count": 42,
   "metadata": {},
   "outputs": [],
   "source": [
    "plt.rcParams['figure.figsize']=20,10"
   ]
  },
  {
   "cell_type": "code",
   "execution_count": 43,
   "metadata": {},
   "outputs": [
    {
     "data": {
      "text/html": [
       "<div>\n",
       "<style scoped>\n",
       "    .dataframe tbody tr th:only-of-type {\n",
       "        vertical-align: middle;\n",
       "    }\n",
       "\n",
       "    .dataframe tbody tr th {\n",
       "        vertical-align: top;\n",
       "    }\n",
       "\n",
       "    .dataframe thead th {\n",
       "        text-align: right;\n",
       "    }\n",
       "</style>\n",
       "<table border=\"1\" class=\"dataframe\">\n",
       "  <thead>\n",
       "    <tr style=\"text-align: right;\">\n",
       "      <th></th>\n",
       "      <th>counter</th>\n",
       "    </tr>\n",
       "    <tr>\n",
       "      <th>year</th>\n",
       "      <th></th>\n",
       "    </tr>\n",
       "  </thead>\n",
       "  <tbody>\n",
       "    <tr>\n",
       "      <td>1999</td>\n",
       "      <td>6378</td>\n",
       "    </tr>\n",
       "    <tr>\n",
       "      <td>2000</td>\n",
       "      <td>3016</td>\n",
       "    </tr>\n",
       "    <tr>\n",
       "      <td>2001</td>\n",
       "      <td>3559</td>\n",
       "    </tr>\n",
       "    <tr>\n",
       "      <td>2002</td>\n",
       "      <td>3721</td>\n",
       "    </tr>\n",
       "    <tr>\n",
       "      <td>2003</td>\n",
       "      <td>3946</td>\n",
       "    </tr>\n",
       "    <tr>\n",
       "      <td>2004</td>\n",
       "      <td>4156</td>\n",
       "    </tr>\n",
       "    <tr>\n",
       "      <td>2005</td>\n",
       "      <td>4314</td>\n",
       "    </tr>\n",
       "    <tr>\n",
       "      <td>2006</td>\n",
       "      <td>5235</td>\n",
       "    </tr>\n",
       "    <tr>\n",
       "      <td>2007</td>\n",
       "      <td>5249</td>\n",
       "    </tr>\n",
       "    <tr>\n",
       "      <td>2008</td>\n",
       "      <td>5904</td>\n",
       "    </tr>\n",
       "    <tr>\n",
       "      <td>2010</td>\n",
       "      <td>6905</td>\n",
       "    </tr>\n",
       "    <tr>\n",
       "      <td>2011</td>\n",
       "      <td>7009</td>\n",
       "    </tr>\n",
       "    <tr>\n",
       "      <td>2012</td>\n",
       "      <td>6119</td>\n",
       "    </tr>\n",
       "  </tbody>\n",
       "</table>\n",
       "</div>"
      ],
      "text/plain": [
       "      counter\n",
       "year         \n",
       "1999     6378\n",
       "2000     3016\n",
       "2001     3559\n",
       "2002     3721\n",
       "2003     3946\n",
       "2004     4156\n",
       "2005     4314\n",
       "2006     5235\n",
       "2007     5249\n",
       "2008     5904\n",
       "2010     6905\n",
       "2011     7009\n",
       "2012     6119"
      ]
     },
     "execution_count": 43,
     "metadata": {},
     "output_type": "execute_result"
    }
   ],
   "source": [
    "dfrc"
   ]
  },
  {
   "cell_type": "code",
   "execution_count": 44,
   "metadata": {},
   "outputs": [
    {
     "data": {
      "image/png": "[encoded data removed]",
      "text/plain": [
       "<Figure size 1440x720 with 1 Axes>"
      ]
     },
     "metadata": {
      "needs_background": "light"
     },
     "output_type": "display_data"
    }
   ],
   "source": [
    "import seaborn as sns\n",
    "cmap = sns.diverging_palette(220, 10, as_cmap=True) # one of the many color mappings\n",
    "sns.countplot(x='year', data=df);"
   ]
  },
  {
   "cell_type": "code",
   "execution_count": 24,
   "metadata": {},
   "outputs": [
    {
     "data": {
      "image/png": "[encoded data removed]",
      "text/plain": [
       "<Figure size 1440x720 with 1 Axes>"
      ]
     },
     "metadata": {
      "needs_background": "light"
     },
     "output_type": "display_data"
    }
   ],
   "source": [
    "bigbins = [1, 19, 29,\n",
    "39,\n",
    "49,\n",
    "59,\n",
    "69,\n",
    "79,\n",
    "89,\n",
    "99]\n",
    "df['age10binned'] = pd.cut(df['agenum'], bigbins)\n",
    "import seaborn as sns\n",
    "cmap = sns.diverging_palette(220, 10, as_cmap=True) # one of the many color mappings\n",
    "sns.countplot(x='year', hue='age10binned',data=df);"
   ]
  },
  {
   "cell_type": "markdown",
   "metadata": {},
   "source": [
    "#### Boxplots"
   ]
  },
  {
   "cell_type": "code",
   "execution_count": 25,
   "metadata": {},
   "outputs": [
    {
     "data": {
      "text/plain": [
       "<matplotlib.axes._subplots.AxesSubplot at 0x2aa082bd4e0>"
      ]
     },
     "execution_count": 25,
     "metadata": {},
     "output_type": "execute_result"
    },
    {
     "data": {
      "image/png": "[encoded data removed]",
      "text/plain": [
       "<Figure size 1008x504 with 1 Axes>"
      ]
     },
     "metadata": {
      "needs_background": "light"
     },
     "output_type": "display_data"
    }
   ],
   "source": [
    "# display boxplot \n",
    "bx = df.boxplot(column = 'agenum', by = 'year', figsize=(14,7))\n",
    "plt.xticks(rotation=45)\n",
    "bx"
   ]
  },
  {
   "cell_type": "code",
   "execution_count": 26,
   "metadata": {},
   "outputs": [
    {
     "data": {
      "text/plain": [
       "Unnamed: 0                  int64\n",
       "0                          object\n",
       "year                        int64\n",
       "place                       int64\n",
       "div_total                  object\n",
       "name                       object\n",
       "age                        object\n",
       "hometown                   object\n",
       "time                       object\n",
       "pace                       object\n",
       "numId                     float64\n",
       "guntime                    object\n",
       "netTime                    object\n",
       "combtime                   object\n",
       "time_length                 int64\n",
       "fcobmine                   object\n",
       "finaltime          datetime64[ns]\n",
       "hour                       object\n",
       "minutes                    object\n",
       "seconds                    object\n",
       "dursecs                     int64\n",
       "agenum                    float64\n",
       "durationminutes           float64\n",
       "agebinned                category\n",
       "date                       object\n",
       "racetimestamp              object\n",
       "racetimestamp2     datetime64[ns]\n",
       "counter                     int64\n",
       "age10binned              category\n",
       "dtype: object"
      ]
     },
     "execution_count": 26,
     "metadata": {},
     "output_type": "execute_result"
    }
   ],
   "source": [
    "df.dtypes"
   ]
  },
  {
   "cell_type": "code",
   "execution_count": 27,
   "metadata": {},
   "outputs": [
    {
     "data": {
      "text/plain": [
       "<matplotlib.axes._subplots.AxesSubplot at 0x2aa07f50c50>"
      ]
     },
     "execution_count": 27,
     "metadata": {},
     "output_type": "execute_result"
    },
    {
     "data": {
      "image/png": "[encoded data removed]",
      "text/plain": [
       "<Figure size 1008x504 with 1 Axes>"
      ]
     },
     "metadata": {
      "needs_background": "light"
     },
     "output_type": "display_data"
    }
   ],
   "source": [
    "bx = df.boxplot(column = 'dursecs', by = 'year', figsize=(14,7))\n",
    "plt.xticks(rotation=45)\n",
    "bx"
   ]
  },
  {
   "cell_type": "code",
   "execution_count": 28,
   "metadata": {},
   "outputs": [],
   "source": [
    "df['avgmile'] = df['dursecs'] / 10 "
   ]
  },
  {
   "cell_type": "code",
   "execution_count": 29,
   "metadata": {},
   "outputs": [
    {
     "data": {
      "text/plain": [
       "<matplotlib.axes._subplots.AxesSubplot at 0x2aa0a0d50b8>"
      ]
     },
     "execution_count": 29,
     "metadata": {},
     "output_type": "execute_result"
    },
    {
     "data": {
      "image/png": "[encoded data removed]",
      "text/plain": [
       "<Figure size 1008x504 with 1 Axes>"
      ]
     },
     "metadata": {
      "needs_background": "light"
     },
     "output_type": "display_data"
    }
   ],
   "source": [
    "bx = df.boxplot(column = 'avgmile', by = 'year', figsize=(14,7))\n",
    "plt.xticks(rotation=45)\n",
    "bx"
   ]
  },
  {
   "cell_type": "code",
   "execution_count": 30,
   "metadata": {},
   "outputs": [
    {
     "data": {
      "text/plain": [
       "<matplotlib.axes._subplots.AxesSubplot at 0x2aa09e99e10>"
      ]
     },
     "execution_count": 30,
     "metadata": {},
     "output_type": "execute_result"
    },
    {
     "data": {
      "image/png": "[encoded data removed]",
      "text/plain": [
       "<Figure size 1008x504 with 1 Axes>"
      ]
     },
     "metadata": {
      "needs_background": "light"
     },
     "output_type": "display_data"
    }
   ],
   "source": [
    "bx = df.boxplot(column = 'avgmile', by = 'agebinned', figsize=(14,7))\n",
    "plt.xticks(rotation=45)\n",
    "bx"
   ]
  },
  {
   "cell_type": "code",
   "execution_count": 31,
   "metadata": {},
   "outputs": [
    {
     "data": {
      "text/plain": [
       "<matplotlib.axes._subplots.AxesSubplot at 0x2aa09e67780>"
      ]
     },
     "execution_count": 31,
     "metadata": {},
     "output_type": "execute_result"
    },
    {
     "data": {
      "image/png": "[encoded data removed]",
      "text/plain": [
       "<Figure size 1008x504 with 1 Axes>"
      ]
     },
     "metadata": {
      "needs_background": "light"
     },
     "output_type": "display_data"
    }
   ],
   "source": [
    "bx = df.boxplot(column = 'dursecs', by = 'agebinned', figsize=(14,7))\n",
    "plt.xticks(rotation=45)\n",
    "bx"
   ]
  },
  {
   "cell_type": "code",
   "execution_count": 32,
   "metadata": {
    "scrolled": true
   },
   "outputs": [
    {
     "data": {
      "text/plain": [
       "<matplotlib.axes._subplots.AxesSubplot at 0x2aa09f09a90>"
      ]
     },
     "execution_count": 32,
     "metadata": {},
     "output_type": "execute_result"
    },
    {
     "data": {
      "image/png": "[encoded data removed]",
      "text/plain": [
       "<Figure size 1008x504 with 1 Axes>"
      ]
     },
     "metadata": {
      "needs_background": "light"
     },
     "output_type": "display_data"
    }
   ],
   "source": [
    "bx = df.boxplot(column = 'durationminutes', by = 'agebinned', figsize=(14,7))\n",
    "plt.xticks(rotation=45)\n",
    "bx"
   ]
  },
  {
   "cell_type": "code",
   "execution_count": null,
   "metadata": {},
   "outputs": [],
   "source": [
    "import seaborn as sns; sns.set(style=\"ticks\", color_codes=True)\n",
    "g = sns.pairplot(df, vars=[\"dursecs\", \"avgmile\", \"agenum\"], hue = \"year\", height=3.27, aspect=4.7/3.27)\n",
    "g.map_upper(plt.scatter)\n",
    "g.map_lower(sns.kdeplot)\n",
    "#iris = sns.load_dataset(\"iris\")8.7/8.27)\n",
    "plt.title('Pair Plots by with Year Coloring')"
   ]
  },
  {
   "cell_type": "code",
   "execution_count": null,
   "metadata": {},
   "outputs": [],
   "source": [
    "import seaborn as sns; sns.set(style=\"ticks\", color_codes=True)\n",
    "g = sns.pairplot(df, vars=[\"durationminutes\", \"avgmile\", \"agenum\"], hue = \"year\", height=3.27, aspect=4.7/3.27)\n",
    "g.map_upper(plt.scatter)\n",
    "g.map_lower(sns.kdeplot)\n",
    "#iris = sns.load_dataset(\"iris\")8.7/8.27)\n",
    "plt.title('Pair Plots by with Year Coloring')"
   ]
  },
  {
   "cell_type": "code",
   "execution_count": null,
   "metadata": {},
   "outputs": [],
   "source": [
    "# plot\n",
    "sns.set_style('ticks')\n",
    "fig, ax = plt.subplots()\n",
    "# the size of A4 paper\n",
    "fig.set_size_inches(11.7, 8.27)\n",
    "sns.violinplot(x=\"year\", y=\"agenum\", data=df)    \n",
    "sns.despine()\n",
    "plt.title('Violin Plot Ages by Year')\n",
    "plt.xticks(rotation=45)"
   ]
  },
  {
   "cell_type": "code",
   "execution_count": null,
   "metadata": {},
   "outputs": [],
   "source": [
    "# plot\n",
    "sns.set_style('ticks')\n",
    "fig, ax = plt.subplots()\n",
    "# the size of A4 paper\n",
    "fig.set_size_inches(11.7, 8.27)\n",
    "sns.violinplot(x=\"year\", y=\"dursecs\", data=df)    \n",
    "sns.despine()\n",
    "plt.title('Violin Plot Total Duration in Seconds by Year')\n",
    "plt.xticks(rotation=45)"
   ]
  },
  {
   "cell_type": "code",
   "execution_count": null,
   "metadata": {},
   "outputs": [],
   "source": [
    "# plot\n",
    "sns.set_style('ticks')\n",
    "fig, ax = plt.subplots()\n",
    "# the size of A4 paper\n",
    "fig.set_size_inches(11.7, 8.27)\n",
    "sns.violinplot(x=\"year\", y=\"durationminutes\", data=df)    \n",
    "sns.despine()\n",
    "plt.title('Violin Plot Total Duration in Minutes by Year')\n",
    "plt.xticks(rotation=45)"
   ]
  },
  {
   "cell_type": "code",
   "execution_count": null,
   "metadata": {},
   "outputs": [],
   "source": [
    "# List of years to plot\n",
    "years = [1999, 2000, 2001, 2002, 2003, 2004, 2005, 2006, 2007, 2008, 2009, 2010, 2011, 2012]\n",
    "\n",
    "# Iterate through the five airlines\n",
    "for years in years:\n",
    "    # Subset to the airline\n",
    "    subset = df[df['year'] == years]\n",
    "    \n",
    "    # Draw the density plot\n",
    "    g = sns.distplot(subset['agenum'], hist = False, kde = True,\n",
    "                 kde_kws = {'linewidth': 3},\n",
    "                 label = years)\n",
    "    \n",
    "# Plot formatting\n",
    "plt.legend(prop={'size': 16}, title = 'Year')\n",
    "plt.title('Density Plot with Multiple Year')\n",
    "plt.rcParams['figure.figsize']=20,10\n",
    "plt.xlabel('Distribution')\n",
    "plt.ylabel('Age')"
   ]
  },
  {
   "cell_type": "code",
   "execution_count": null,
   "metadata": {},
   "outputs": [],
   "source": [
    "# List of five airlines to plot\n",
    "years = [1999, 2000, 2001, 2002, 2003, 2004, 2005, 2006, 2007, 2008, 2009, 2010, 2011, 2012]\n",
    "f, axes = plt.subplots(5, 3, figsize=(20, 20), sharex=True)\n",
    "# Iterate through the five airlines\n",
    "x = 0\n",
    "y = 0\n",
    "for years in years:\n",
    "    # Subset to the airline\n",
    "    subset = df[df['year'] == years]\n",
    "    # Draw the density plot\n",
    "    g = sns.distplot(subset['agenum'], hist = False, kde = True,\n",
    "                 kde_kws = {'linewidth': 3},\n",
    "                 label = years, ax=axes[x, y])\n",
    "    y += 1\n",
    "    if (y% 3 == 0):\n",
    "     x += 1\n",
    "     y = 0\n",
    "# Plot formatting\n",
    "plt.legend(prop={'size': 16}, title = 'Year')\n",
    "plt.title('Density Plot with Multiple Year')\n",
    "#plt.rcParams['figure.figsize']=20,10\n",
    "plt.xlabel('Distribution')\n",
    "plt.ylabel('Age')\n",
    "plt.xticks(rotation=45)\n"
   ]
  },
  {
   "cell_type": "code",
   "execution_count": null,
   "metadata": {},
   "outputs": [],
   "source": [
    "# Make a separate list for each airline\n",
    "x1 = list(df[df['year'] == 1999]['agenum'])\n",
    "x2 = list(df[df['year'] == 2000]['agenum'])\n",
    "x3 = list(df[df['year'] == 2001]['agenum'])\n",
    "x4 = list(df[df['year'] == 2002]['agenum'])\n",
    "x5 = list(df[df['year'] == 2003]['agenum'])\n",
    "x6 = list(df[df['year'] == 2004]['agenum'])\n",
    "x7 = list(df[df['year'] == 2005]['agenum'])\n",
    "x8 = list(df[df['year'] == 2006]['agenum'])\n",
    "x9 = list(df[df['year'] == 2007]['agenum'])\n",
    "x10 = list(df[df['year'] == 2008]['agenum'])\n",
    "x11 = list(df[df['year'] == 2009]['agenum'])\n",
    "x12 = list(df[df['year'] == 2010]['agenum'])\n",
    "x13 = list(df[df['year'] == 2011]['agenum'])\n",
    "x14 = list(df[df['year'] == 2012]['agenum'])\n",
    "# Assign colors for each airline and the names\n",
    "colors = ['#E69F00', '#56B4E9', '#F0E442', '#009E73', '#D55E00']\n",
    "names = [1999, 2000, 2001, 2002, 2003, 2004, 2005, 2006, 2007, 2008, 2009, 2010, 2011, 2012]\n",
    "         \n",
    "# Make the histogram using a list of lists\n",
    "# Normalize the flights and assign colors and names\n",
    "plt.hist([x1, x2, x3, x4, x5, x6, x7, x8, x9, x10, x11, x12, x13, x14], bins = int(180/15), normed=True,\n",
    "          label=names)\n",
    "\n",
    "# Plot formatting\n",
    "plt.legend()\n",
    "plt.xlabel('Age')\n",
    "plt.ylabel('Normalized')\n",
    "plt.title('Side-by-Side Histogram with Age and Years')\n",
    "plt.xticks(rotation=45)"
   ]
  },
  {
   "cell_type": "code",
   "execution_count": null,
   "metadata": {},
   "outputs": [],
   "source": [
    "plt.rcParams['figure.figsize']=20,10\n",
    "g = sns.FacetGrid(df, col=\"year\", height=4, aspect=.5)\n",
    "g.map(sns.barplot, \"agenum\");"
   ]
  },
  {
   "cell_type": "code",
   "execution_count": null,
   "metadata": {},
   "outputs": [],
   "source": [
    "ordered_days = df.year.value_counts().index\n",
    "g = sns.FacetGrid(df, row=\"year\",  \n",
    "                  height=1.7, aspect=4,)\n",
    "g.map(sns.distplot, \"agenum\", hist=False, rug=True);"
   ]
  },
  {
   "cell_type": "code",
   "execution_count": null,
   "metadata": {},
   "outputs": [],
   "source": [
    "ordered_days = df.year.value_counts().index\n",
    "g = sns.FacetGrid(df, row=\"year\",  \n",
    "                  height=1.7, aspect=4,)\n",
    "g.map(sns.distplot, \"agenum\", hist=False, kde = True);"
   ]
  },
  {
   "cell_type": "code",
   "execution_count": null,
   "metadata": {},
   "outputs": [],
   "source": [
    "df.info()"
   ]
  },
  {
   "cell_type": "code",
   "execution_count": null,
   "metadata": {},
   "outputs": [],
   "source": [
    "g = sns.FacetGrid(df, row=\"year\",  margin_titles=True, height=5)\n",
    "g.map(plt.scatter, \"agenum\", \"dursecs\", color=\"#338844\", edgecolor=\"white\", s=50, lw=1)\n",
    "for ax in g.axes.flat:\n",
    "    m, b = np.polyfit(df['agenum'], df['dursecs'], 1)\n",
    "    ax.plot(df['agenum'], m*df['agenum'] + b)\n",
    "#g.set(xlim=(0, 60), ylim=(0, 14));"
   ]
  },
  {
   "cell_type": "code",
   "execution_count": null,
   "metadata": {},
   "outputs": [],
   "source": [
    "g = sns.FacetGrid(df, row=\"year\",  margin_titles=True, height=5)\n",
    "g.map(plt.scatter, \"agenum\", \"durationminutes\", color=\"#338844\", edgecolor=\"white\", s=50, lw=1)\n",
    "for ax in g.axes.flat:\n",
    "    m, b = np.polyfit(df['agenum'], df['durationminutes'], 1)\n",
    "    ax.plot(df['agenum'], m*df['agenum'] + b)\n",
    "#g.set(xlim=(0, 60), ylim=(0, 14));"
   ]
  },
  {
   "cell_type": "code",
   "execution_count": null,
   "metadata": {},
   "outputs": [],
   "source": [
    "from sklearn import preprocessing\n",
    "from sklearn.preprocessing import StandardScaler"
   ]
  },
  {
   "cell_type": "code",
   "execution_count": null,
   "metadata": {},
   "outputs": [],
   "source": [
    "features = [\"agenum\", \"durationminutes\"]\n",
    "\n",
    "X2 = df[features].copy()\n",
    "\n",
    "scaler = StandardScaler()\n",
    "scaler.fit(X2)\n",
    "X = scaler.transform(X2)"
   ]
  },
  {
   "cell_type": "code",
   "execution_count": null,
   "metadata": {},
   "outputs": [],
   "source": [
    "dfscale = pd.DataFrame(X)"
   ]
  },
  {
   "cell_type": "code",
   "execution_count": null,
   "metadata": {},
   "outputs": [],
   "source": [
    "dfscale.head()"
   ]
  },
  {
   "cell_type": "code",
   "execution_count": null,
   "metadata": {},
   "outputs": [],
   "source": [
    "df = pd.merge(df, dfscale, how = 'inner', left_index = True, right_index = True)"
   ]
  },
  {
   "cell_type": "code",
   "execution_count": null,
   "metadata": {},
   "outputs": [],
   "source": [
    "df = df.rename({0: 'agescale', 1: 'minutescale'}, axis=1)  # new method"
   ]
  },
  {
   "cell_type": "code",
   "execution_count": null,
   "metadata": {},
   "outputs": [],
   "source": [
    "bx = df.boxplot(column = 'minutescale', by = 'age10binned', figsize=(14,7))\n",
    "plt.xticks(rotation=45)\n",
    "bx"
   ]
  },
  {
   "cell_type": "code",
   "execution_count": null,
   "metadata": {},
   "outputs": [],
   "source": [
    "bx = df.boxplot(column = 'agescale', by = 'year', figsize=(14,7))\n",
    "plt.xticks(rotation=45)\n",
    "bx"
   ]
  },
  {
   "cell_type": "code",
   "execution_count": null,
   "metadata": {},
   "outputs": [],
   "source": [
    "bx = df.boxplot(column = 'minutescale', by = 'year', figsize=(14,7))\n",
    "plt.xticks(rotation=45)\n",
    "bx"
   ]
  },
  {
   "cell_type": "code",
   "execution_count": null,
   "metadata": {},
   "outputs": [],
   "source": [
    "g = sns.FacetGrid(df, row=\"year\",  margin_titles=True, height=5)\n",
    "g.map(plt.scatter, \"agenum\", \"minutescale\", color=\"#338844\", edgecolor=\"white\", s=50, lw=1)\n",
    "for ax in g.axes.flat:\n",
    "    m, b = np.polyfit(df['agenum'], df['minutescale'], 1)\n",
    "    ax.plot(df['agenum'], m*df['minutescale'] + b)\n",
    "#g.set(xlim=(0, 60), ylim=(0, 14));"
   ]
  },
  {
   "cell_type": "markdown",
   "metadata": {},
   "source": []
  },
  {
   "cell_type": "markdown",
   "metadata": {},
   "source": [
    "#### change point detection"
   ]
  },
  {
   "cell_type": "code",
   "execution_count": null,
   "metadata": {},
   "outputs": [],
   "source": [
    "#get unique people\n",
    "\n",
    "#crunch names and lower case\n",
    "\n",
    "df['namelower'] = df['name'].str.lower()\n",
    "df['namelower'] = df['namelower'].str.replace(' ', '')"
   ]
  },
  {
   "cell_type": "code",
   "execution_count": null,
   "metadata": {},
   "outputs": [],
   "source": [
    "df.head()"
   ]
  },
  {
   "cell_type": "code",
   "execution_count": null,
   "metadata": {},
   "outputs": [],
   "source": [
    "df.tail()"
   ]
  },
  {
   "cell_type": "code",
   "execution_count": null,
   "metadata": {},
   "outputs": [],
   "source": [
    "dfgrpby3 = df.groupby(by=['namelower'])\n",
    "runnercounts3 = dfgrpby3.counter.sum()\n",
    "dfrc3 = pd.DataFrame(runnercounts3)"
   ]
  },
  {
   "cell_type": "code",
   "execution_count": null,
   "metadata": {},
   "outputs": [],
   "source": [
    "dfrc3"
   ]
  },
  {
   "cell_type": "code",
   "execution_count": null,
   "metadata": {},
   "outputs": [],
   "source": [
    "names = dfrc3.sort_values(by='counter', ascending=False).head(1000)"
   ]
  },
  {
   "cell_type": "code",
   "execution_count": null,
   "metadata": {},
   "outputs": [],
   "source": [
    "names"
   ]
  },
  {
   "cell_type": "code",
   "execution_count": null,
   "metadata": {},
   "outputs": [],
   "source": [
    "df2012 = df.loc[df['year'] == 2011]\n",
    "points=np.array(df2012['agenum'])"
   ]
  },
  {
   "cell_type": "code",
   "execution_count": null,
   "metadata": {},
   "outputs": [],
   "source": [
    "len(points)"
   ]
  },
  {
   "cell_type": "code",
   "execution_count": null,
   "metadata": {},
   "outputs": [],
   "source": [
    "import matplotlib.pyplot as plt\n",
    "import ruptures as rpt\n",
    "#Changepoint detection with the Pelt search method\n",
    "model=\"rbf\"\n",
    "algo = rpt.Pelt(model=model).fit(points)\n",
    "result = algo.predict(pen=10)\n",
    "rpt.display(points, result, figsize=(10, 6))\n",
    "plt.title('Change Point Detection: Pelt Search Method')\n",
    "plt.show() "
   ]
  },
  {
   "cell_type": "code",
   "execution_count": null,
   "metadata": {},
   "outputs": [],
   "source": [
    "# Authors: Alexandre Gramfort <alexandre.gramfort@telecom-paristech.fr>\n",
    "#\n",
    "# License: BSD (3-clause)\n",
    "\n",
    "from math import ceil\n",
    "import numpy as np\n",
    "from scipy import linalg\n",
    "\n",
    "def lowess(x, y, f=2. / 3., iter=3):\n",
    "    \"\"\"lowess(x, y, f=2./3., iter=3) -> yest\n",
    "    Lowess smoother: Robust locally weighted regression.\n",
    "    The lowess function fits a nonparametric regression curve to a scatterplot.\n",
    "    The arrays x and y contain an equal number of elements; each pair\n",
    "    (x[i], y[i]) defines a data point in the scatterplot. The function returns\n",
    "    the estimated (smooth) values of y.\n",
    "    The smoothing span is given by f. A larger value for f will result in a\n",
    "    smoother curve. The number of robustifying iterations is given by iter. The\n",
    "    function will run faster with a smaller number of iterations.\n",
    "    \"\"\"\n",
    "    n = len(x)\n",
    "    r = int(ceil(f * n))\n",
    "    h = [np.sort(np.abs(x - x[i]))[r] for i in range(n)]\n",
    "    w = np.clip(np.abs((x[:, None] - x[None, :]) / h), 0.0, 1.0)\n",
    "    w = (1 - w ** 3) ** 3\n",
    "    yest = np.zeros(n)\n",
    "    delta = np.ones(n)\n",
    "    for iteration in range(iter):\n",
    "        for i in range(n):\n",
    "            weights = delta * w[:, i]\n",
    "            b = np.array([np.sum(weights * y), np.sum(weights * y * x)])\n",
    "            A = np.array([[np.sum(weights), np.sum(weights * x)],\n",
    "                          [np.sum(weights * x), np.sum(weights * x * x)]])\n",
    "            beta = linalg.solve(A, b)\n",
    "            yest[i] = beta[0] + beta[1] * x[i]\n",
    "\n",
    "        residuals = y - yest\n",
    "        s = np.median(np.abs(residuals))\n",
    "        delta = np.clip(residuals / (6.0 * s), -1, 1)\n",
    "        delta = (1 - delta ** 2) ** 2\n",
    "\n",
    "    return yest"
   ]
  },
  {
   "cell_type": "code",
   "execution_count": null,
   "metadata": {},
   "outputs": [],
   "source": [
    "import math\n",
    "n = 5968\n",
    "x = np.linspace(80, 160 * math.pi, n)\n",
    "y = np.sin(df2012['durationminutes']) + 0.3 * np.random.randn(n)\n",
    "\n",
    "f = 0.25"
   ]
  },
  {
   "cell_type": "code",
   "execution_count": null,
   "metadata": {},
   "outputs": [],
   "source": [
    "\n",
    "yest = lowess(np.array(df2012['agenum']), np.array(df2012['durationminutes']), f=f, iter=3)"
   ]
  },
  {
   "cell_type": "code",
   "execution_count": null,
   "metadata": {},
   "outputs": [],
   "source": [
    "len(yest)"
   ]
  },
  {
   "cell_type": "code",
   "execution_count": null,
   "metadata": {},
   "outputs": [],
   "source": [
    "len(y)"
   ]
  },
  {
   "cell_type": "code",
   "execution_count": null,
   "metadata": {},
   "outputs": [],
   "source": [
    "len(x)"
   ]
  },
  {
   "cell_type": "code",
   "execution_count": null,
   "metadata": {},
   "outputs": [],
   "source": [
    "x"
   ]
  },
  {
   "cell_type": "code",
   "execution_count": null,
   "metadata": {},
   "outputs": [],
   "source": [
    "import pylab as pl\n",
    "pl.clf()\n",
    "#pl.plot(x, y, label='y noisy')\n",
    "pl.plot(df2012['agenum'], yest, label='y pred')\n",
    "pl.legend()\n",
    "pl.show()"
   ]
  },
  {
   "cell_type": "code",
   "execution_count": null,
   "metadata": {},
   "outputs": [],
   "source": [
    "print(__doc__)\n",
    "\n",
    "# Author: Fabian Pedregosa <fabian.pedregosa@inria.fr>\n",
    "#         Alexandre Gramfort <alexandre.gramfort@inria.fr>\n",
    "# License: BSD 3 clause\n",
    "\n",
    "import numpy as np\n",
    "import matplotlib.pyplot as plt\n",
    "\n",
    "from sklearn import linear_model\n",
    "from sklearn import datasets\n",
    "\n",
    "#X, y = datasets.load_diabetes(return_X_y=True)\n",
    "\n",
    "print(\"Computing regularization path using the LARS ...\")\n",
    "_, _, coefs = linear_model.lars_path(df2012[['agenum']].values, df2012['durationminutes'], method='lasso', verbose=True)\n",
    "\n",
    "xx = np.sum(np.abs(coefs.T), axis=1)\n",
    "xx /= xx[-1]\n",
    "\n",
    "plt.plot(xx, coefs.T)\n",
    "ymin, ymax = plt.ylim()\n",
    "plt.vlines(xx, ymin, ymax, linestyle='dashed')\n",
    "plt.xlabel('|coef| / max|coef|')\n",
    "plt.ylabel('Coefficients')\n",
    "plt.title('LASSO Path')\n",
    "plt.axis('tight')\n",
    "plt.show()"
   ]
  },
  {
   "cell_type": "code",
   "execution_count": null,
   "metadata": {},
   "outputs": [],
   "source": [
    "from sklearn import linear_model\n",
    "rgr = linear_model.Ridge().fit(df2012[['agenum']], y = df2012['durationminutes'])"
   ]
  },
  {
   "cell_type": "code",
   "execution_count": null,
   "metadata": {},
   "outputs": [],
   "source": [
    "rgr"
   ]
  },
  {
   "cell_type": "code",
   "execution_count": null,
   "metadata": {},
   "outputs": [],
   "source": [
    "lars = linear_model.LassoLars(.1, normalize=False)\n",
    "coef_lars_ = lars.fit(df2012[['agenum']], df2012['durationminutes']).coef_"
   ]
  },
  {
   "cell_type": "code",
   "execution_count": null,
   "metadata": {},
   "outputs": [],
   "source": [
    "lars = lars.fit(df2012[['agenum']], y = df2012['durationminutes'])"
   ]
  },
  {
   "cell_type": "code",
   "execution_count": null,
   "metadata": {},
   "outputs": [],
   "source": [
    "lars.coef_"
   ]
  },
  {
   "cell_type": "code",
   "execution_count": null,
   "metadata": {},
   "outputs": [],
   "source": []
  }
 ],
 "metadata": {
  "kernelspec": {
   "display_name": "Python 3.7.1 64-bit ('ML7331': conda)",
   "language": "python",
   "name": "python37164bitml7331condaf5c5c353a7fa46f5b783ad99991c2b10"
  },
  "language_info": {
   "codemirror_mode": {
    "name": "ipython",
    "version": 3
   },
   "file_extension": ".py",
   "mimetype": "text/x-python",
   "name": "python",
   "nbconvert_exporter": "python",
   "pygments_lexer": "ipython3",
   "version": "3.7.1"
  }
 },
 "nbformat": 4,
 "nbformat_minor": 2
}
