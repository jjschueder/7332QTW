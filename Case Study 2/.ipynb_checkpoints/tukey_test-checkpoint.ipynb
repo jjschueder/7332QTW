{
 "cells": [
  {
   "cell_type": "markdown",
   "metadata": {
    "colab_type": "text",
    "id": "view-in-github"
   },
   "source": [
    "<a href=\"https://colab.research.google.com/github/jjschueder/7333QTW/blob/master/Case%20Study%202/tukey_test.ipynb\" target=\"_parent\"><img src=\"https://colab.research.google.com/assets/colab-badge.svg\" alt=\"Open In Colab\"/></a>"
   ]
  },
  {
   "cell_type": "markdown",
   "metadata": {
    "colab_type": "text",
    "id": "hAFYbkmH9-LM"
   },
   "source": [
    "Reference here: https://reneshbedre.github.io/blog/anova.html"
   ]
  },
  {
   "cell_type": "code",
   "execution_count": 0,
   "metadata": {
    "colab": {},
    "colab_type": "code",
    "id": "wWu7EYGsAFUO"
   },
   "outputs": [],
   "source": [
    "# load packages\n",
    "import pandas as pd"
   ]
  },
  {
   "cell_type": "code",
   "execution_count": 0,
   "metadata": {
    "colab": {},
    "colab_type": "code",
    "id": "PnUsKqde7apz"
   },
   "outputs": [],
   "source": [
    "\n",
    "df = pd.read_csv('https://raw.githubusercontent.com/jjschueder/7333QTW/master/Case%20Study%202/StevensFinal.csv',low_memory=False)"
   ]
  },
  {
   "cell_type": "code",
   "execution_count": 5,
   "metadata": {
    "colab": {
     "base_uri": "https://localhost:8080/",
     "height": 204
    },
    "colab_type": "code",
    "id": "-PrIEs257gX-",
    "outputId": "59d4d527-4096-48aa-f1ec-4e43597aaf43"
   },
   "outputs": [
    {
     "data": {
      "text/html": [
       "<div>\n",
       "<style scoped>\n",
       "    .dataframe tbody tr th:only-of-type {\n",
       "        vertical-align: middle;\n",
       "    }\n",
       "\n",
       "    .dataframe tbody tr th {\n",
       "        vertical-align: top;\n",
       "    }\n",
       "\n",
       "    .dataframe thead th {\n",
       "        text-align: right;\n",
       "    }\n",
       "</style>\n",
       "<table border=\"1\" class=\"dataframe\">\n",
       "  <thead>\n",
       "    <tr style=\"text-align: right;\">\n",
       "      <th></th>\n",
       "      <th>Gender</th>\n",
       "      <th>year</th>\n",
       "      <th>place</th>\n",
       "      <th>div_total</th>\n",
       "      <th>name</th>\n",
       "      <th>age</th>\n",
       "      <th>hometown</th>\n",
       "      <th>time</th>\n",
       "      <th>pace</th>\n",
       "      <th>numId</th>\n",
       "      <th>guntime</th>\n",
       "      <th>netTime</th>\n",
       "      <th>combtime</th>\n",
       "      <th>time_length</th>\n",
       "      <th>fcobmine</th>\n",
       "      <th>finaltime</th>\n",
       "      <th>hour</th>\n",
       "      <th>minutes</th>\n",
       "      <th>seconds</th>\n",
       "      <th>dursecs</th>\n",
       "      <th>durationminutes</th>\n",
       "      <th>calcpace</th>\n",
       "      <th>counter</th>\n",
       "    </tr>\n",
       "  </thead>\n",
       "  <tbody>\n",
       "    <tr>\n",
       "      <th>0</th>\n",
       "      <td>Female</td>\n",
       "      <td>1999</td>\n",
       "      <td>1</td>\n",
       "      <td>1/1683</td>\n",
       "      <td>Jane Omoro</td>\n",
       "      <td>26.0</td>\n",
       "      <td>Kenya</td>\n",
       "      <td>53:37:00</td>\n",
       "      <td>5:22</td>\n",
       "      <td>NaN</td>\n",
       "      <td>NaN</td>\n",
       "      <td>NaN</td>\n",
       "      <td>53:37:00</td>\n",
       "      <td>5</td>\n",
       "      <td>0:53:37</td>\n",
       "      <td>1/1/1900 0:53</td>\n",
       "      <td>0</td>\n",
       "      <td>53</td>\n",
       "      <td>37</td>\n",
       "      <td>3217</td>\n",
       "      <td>53.616667</td>\n",
       "      <td>5.361667</td>\n",
       "      <td>NaN</td>\n",
       "    </tr>\n",
       "    <tr>\n",
       "      <th>1</th>\n",
       "      <td>Female</td>\n",
       "      <td>1999</td>\n",
       "      <td>2</td>\n",
       "      <td>2/1683</td>\n",
       "      <td>Jane Ngotho</td>\n",
       "      <td>29.0</td>\n",
       "      <td>Kenya</td>\n",
       "      <td>53:38:00</td>\n",
       "      <td>5:22</td>\n",
       "      <td>NaN</td>\n",
       "      <td>NaN</td>\n",
       "      <td>NaN</td>\n",
       "      <td>53:38:00</td>\n",
       "      <td>5</td>\n",
       "      <td>0:53:38</td>\n",
       "      <td>1/1/1900 0:53</td>\n",
       "      <td>0</td>\n",
       "      <td>53</td>\n",
       "      <td>38</td>\n",
       "      <td>3218</td>\n",
       "      <td>53.633333</td>\n",
       "      <td>5.363333</td>\n",
       "      <td>NaN</td>\n",
       "    </tr>\n",
       "    <tr>\n",
       "      <th>2</th>\n",
       "      <td>Female</td>\n",
       "      <td>1999</td>\n",
       "      <td>3</td>\n",
       "      <td></td>\n",
       "      <td>Lidiya Grigoryeva</td>\n",
       "      <td>25.0</td>\n",
       "      <td>Russia</td>\n",
       "      <td>53:40:00</td>\n",
       "      <td>5:22</td>\n",
       "      <td>NaN</td>\n",
       "      <td>NaN</td>\n",
       "      <td>NaN</td>\n",
       "      <td>53:40:00</td>\n",
       "      <td>5</td>\n",
       "      <td>0:53:40</td>\n",
       "      <td>1/1/1900 0:53</td>\n",
       "      <td>0</td>\n",
       "      <td>53</td>\n",
       "      <td>40</td>\n",
       "      <td>3220</td>\n",
       "      <td>53.666667</td>\n",
       "      <td>5.366667</td>\n",
       "      <td>NaN</td>\n",
       "    </tr>\n",
       "    <tr>\n",
       "      <th>3</th>\n",
       "      <td>Female</td>\n",
       "      <td>1999</td>\n",
       "      <td>4</td>\n",
       "      <td>3/1683</td>\n",
       "      <td>Eunice Sagero</td>\n",
       "      <td>20.0</td>\n",
       "      <td>Kenya</td>\n",
       "      <td>53:55:00</td>\n",
       "      <td>5:24</td>\n",
       "      <td>NaN</td>\n",
       "      <td>NaN</td>\n",
       "      <td>NaN</td>\n",
       "      <td>53:55:00</td>\n",
       "      <td>5</td>\n",
       "      <td>0:53:55</td>\n",
       "      <td>1/1/1900 0:53</td>\n",
       "      <td>0</td>\n",
       "      <td>53</td>\n",
       "      <td>55</td>\n",
       "      <td>3235</td>\n",
       "      <td>53.916667</td>\n",
       "      <td>5.391667</td>\n",
       "      <td>NaN</td>\n",
       "    </tr>\n",
       "    <tr>\n",
       "      <th>4</th>\n",
       "      <td>Female</td>\n",
       "      <td>1999</td>\n",
       "      <td>5</td>\n",
       "      <td>4/1683</td>\n",
       "      <td>Alla Zhilyayeva</td>\n",
       "      <td>29.0</td>\n",
       "      <td>Russia</td>\n",
       "      <td>54:08:00</td>\n",
       "      <td>5:25</td>\n",
       "      <td>NaN</td>\n",
       "      <td>NaN</td>\n",
       "      <td>NaN</td>\n",
       "      <td>54:08:00</td>\n",
       "      <td>5</td>\n",
       "      <td>0:54:08</td>\n",
       "      <td>1/1/1900 0:54</td>\n",
       "      <td>0</td>\n",
       "      <td>54</td>\n",
       "      <td>8</td>\n",
       "      <td>3248</td>\n",
       "      <td>54.133333</td>\n",
       "      <td>5.413333</td>\n",
       "      <td>NaN</td>\n",
       "    </tr>\n",
       "  </tbody>\n",
       "</table>\n",
       "</div>"
      ],
      "text/plain": [
       "   Gender  year  place  div_total  ... dursecs  durationminutes  calcpace counter\n",
       "0  Female  1999      1     1/1683  ...    3217        53.616667  5.361667     NaN\n",
       "1  Female  1999      2     2/1683  ...    3218        53.633333  5.363333     NaN\n",
       "2  Female  1999      3             ...    3220        53.666667  5.366667     NaN\n",
       "3  Female  1999      4     3/1683  ...    3235        53.916667  5.391667     NaN\n",
       "4  Female  1999      5     4/1683  ...    3248        54.133333  5.413333     NaN\n",
       "\n",
       "[5 rows x 23 columns]"
      ]
     },
     "execution_count": 5,
     "metadata": {
      "tags": []
     },
     "output_type": "execute_result"
    }
   ],
   "source": [
    "df.head()"
   ]
  },
  {
   "cell_type": "code",
   "execution_count": 14,
   "metadata": {
    "colab": {
     "base_uri": "https://localhost:8080/",
     "height": 221
    },
    "colab_type": "code",
    "id": "jaFGHADi8k4J",
    "outputId": "932bc4d4-264e-4c56-f4c8-231ee78080d3"
   },
   "outputs": [
    {
     "data": {
      "text/plain": [
       "<bound method Series.unique of 0         26.0\n",
       "1         29.0\n",
       "2         25.0\n",
       "3         20.0\n",
       "4         29.0\n",
       "          ... \n",
       "146034    41.0\n",
       "146035    39.0\n",
       "146036    56.0\n",
       "146037    35.0\n",
       "146039    48.0\n",
       "Name: age, Length: 146008, dtype: float64>"
      ]
     },
     "execution_count": 14,
     "metadata": {
      "tags": []
     },
     "output_type": "execute_result"
    }
   ],
   "source": [
    "df.age.unique"
   ]
  },
  {
   "cell_type": "code",
   "execution_count": 0,
   "metadata": {
    "colab": {},
    "colab_type": "code",
    "id": "TM0VsQ_Y80pP"
   },
   "outputs": [],
   "source": [
    "df = df.dropna(subset=['age', 'year'])"
   ]
  },
  {
   "cell_type": "markdown",
   "metadata": {
    "colab_type": "text",
    "id": "ab8A9QWa-O-7"
   },
   "source": [
    "Interpretation: The P-value obtained from ANOVA analysis is significant (P<0.05), and therefore, we conclude that there are significant differences among years."
   ]
  },
  {
   "cell_type": "code",
   "execution_count": 15,
   "metadata": {
    "colab": {
     "base_uri": "https://localhost:8080/",
     "height": 111
    },
    "colab_type": "code",
    "id": "E64Sq54a7xYV",
    "outputId": "edb7ce24-5c67-4750-a078-dc1886fbe12d"
   },
   "outputs": [
    {
     "data": {
      "text/html": [
       "<div>\n",
       "<style scoped>\n",
       "    .dataframe tbody tr th:only-of-type {\n",
       "        vertical-align: middle;\n",
       "    }\n",
       "\n",
       "    .dataframe tbody tr th {\n",
       "        vertical-align: top;\n",
       "    }\n",
       "\n",
       "    .dataframe thead th {\n",
       "        text-align: right;\n",
       "    }\n",
       "</style>\n",
       "<table border=\"1\" class=\"dataframe\">\n",
       "  <thead>\n",
       "    <tr style=\"text-align: right;\">\n",
       "      <th></th>\n",
       "      <th>sum_sq</th>\n",
       "      <th>df</th>\n",
       "      <th>F</th>\n",
       "      <th>PR(&gt;F)</th>\n",
       "    </tr>\n",
       "  </thead>\n",
       "  <tbody>\n",
       "    <tr>\n",
       "      <th>C(year)</th>\n",
       "      <td>1.805059e+05</td>\n",
       "      <td>13.0</td>\n",
       "      <td>131.525065</td>\n",
       "      <td>0.0</td>\n",
       "    </tr>\n",
       "    <tr>\n",
       "      <th>Residual</th>\n",
       "      <td>1.541255e+07</td>\n",
       "      <td>145994.0</td>\n",
       "      <td>NaN</td>\n",
       "      <td>NaN</td>\n",
       "    </tr>\n",
       "  </tbody>\n",
       "</table>\n",
       "</div>"
      ],
      "text/plain": [
       "                sum_sq        df           F  PR(>F)\n",
       "C(year)   1.805059e+05      13.0  131.525065     0.0\n",
       "Residual  1.541255e+07  145994.0         NaN     NaN"
      ]
     },
     "execution_count": 15,
     "metadata": {
      "tags": []
     },
     "output_type": "execute_result"
    }
   ],
   "source": [
    "# Ordinary Least Squares (OLS) model\n",
    "model2 = ols('age ~ C(year)', data=df).fit()\n",
    "anova_table2 = sm.stats.anova_lm(model2, typ=2)\n",
    "anova_table2"
   ]
  },
  {
   "cell_type": "markdown",
   "metadata": {
    "colab_type": "text",
    "id": "GjE_TtKi-TtM"
   },
   "source": [
    "Above results from Tukey HSD suggests that True values in the reject column  rejects null hypothesis and indicates statistical significant differences. False Values Suggests the means are not signficantly different. "
   ]
  },
  {
   "cell_type": "code",
   "execution_count": 16,
   "metadata": {
    "colab": {
     "base_uri": "https://localhost:8080/",
     "height": 1000
    },
    "colab_type": "code",
    "id": "LJEElbul8MY_",
    "outputId": "e8c6e906-7a05-4fbe-e841-70560986d31d"
   },
   "outputs": [
    {
     "name": "stdout",
     "output_type": "stream",
     "text": [
      "Multiple Comparison of Means - Tukey HSD, FWER=0.05 \n",
      "====================================================\n",
      "group1 group2 meandiff p-adj   lower   upper  reject\n",
      "----------------------------------------------------\n",
      "  1999   2000   0.3527 0.8816 -0.3132  1.0185  False\n",
      "  1999   2001  -0.2171    0.9 -0.8464  0.4122  False\n",
      "  1999   2002  -0.1604    0.9  -0.779  0.4581  False\n",
      "  1999   2003   -0.175    0.9 -0.7855  0.4356  False\n",
      "  1999   2004  -1.3177  0.001  -1.919 -0.7163   True\n",
      "  1999   2005  -1.1656  0.001 -1.7585 -0.5726   True\n",
      "  1999   2006  -1.7929  0.001 -2.3634 -1.2224   True\n",
      "  1999   2007  -2.1205  0.001 -2.6894 -1.5516   True\n",
      "  1999   2008  -2.6207  0.001 -3.1781 -2.0633   True\n",
      "  1999   2009  -3.0431  0.001 -3.5848 -2.5013   True\n",
      "  1999   2010  -3.1175  0.001 -3.6556 -2.5794   True\n",
      "  1999   2011  -2.6317  0.001 -3.1686 -2.0949   True\n",
      "  1999   2012  -2.5029  0.001 -3.0362 -1.9696   True\n",
      "  2000   2001  -0.5698 0.1448 -1.2109  0.0713  False\n",
      "  2000   2002  -0.5131 0.2621 -1.1436  0.1174  False\n",
      "  2000   2003  -0.5276 0.2039 -1.1503  0.0951  False\n",
      "  2000   2004  -1.6703  0.001  -2.284 -1.0567   True\n",
      "  2000   2005  -1.5182  0.001 -2.1237 -0.9128   True\n",
      "  2000   2006  -2.1456  0.001  -2.729 -1.5621   True\n",
      "  2000   2007  -2.4732  0.001 -3.0551 -1.8913   True\n",
      "  2000   2008  -2.9733  0.001  -3.544 -2.4027   True\n",
      "  2000   2009  -3.3957  0.001 -3.9511 -2.8403   True\n",
      "  2000   2010  -3.4702  0.001  -4.022 -2.9184   True\n",
      "  2000   2011  -2.9844  0.001  -3.535 -2.4338   True\n",
      "  2000   2012  -2.8556  0.001 -3.4027 -2.3084   True\n",
      "  2001   2002   0.0567    0.9 -0.5351  0.6485  False\n",
      "  2001   2003   0.0422    0.9 -0.5413  0.6257  False\n",
      "  2001   2004  -1.1005  0.001 -1.6743 -0.5267   True\n",
      "  2001   2005  -0.9485  0.001 -1.5135 -0.3834   True\n",
      "  2001   2006  -1.5758  0.001 -2.1172 -1.0344   True\n",
      "  2001   2007  -1.9034  0.001 -2.4431 -1.3637   True\n",
      "  2001   2008  -2.4036  0.001 -2.9312  -1.876   True\n",
      "  2001   2009  -2.8259  0.001  -3.337 -2.3149   True\n",
      "  2001   2010  -2.9004  0.001 -3.4076 -2.3933   True\n",
      "  2001   2011  -2.4146  0.001 -2.9204 -1.9088   True\n",
      "  2001   2012  -2.2858  0.001 -2.7878 -1.7838   True\n",
      "  2002   2003  -0.0145    0.9 -0.5864  0.5573  False\n",
      "  2002   2004  -1.1572  0.001 -1.7192 -0.5952   True\n",
      "  2002   2005  -1.0051  0.001 -1.5581 -0.4522   True\n",
      "  2002   2006  -1.6325  0.001 -2.1613 -1.1036   True\n",
      "  2002   2007  -1.9601  0.001 -2.4872  -1.433   True\n",
      "  2002   2008  -2.4602  0.001 -2.9749 -1.9456   True\n",
      "  2002   2009  -2.8826  0.001 -3.3803 -2.3849   True\n",
      "  2002   2010  -2.9571  0.001 -3.4508 -2.4634   True\n",
      "  2002   2011  -2.4713  0.001 -2.9636 -1.9789   True\n",
      "  2002   2012  -2.3425  0.001 -2.8309  -1.854   True\n",
      "  2003   2004  -1.1427  0.001 -1.6959 -0.5895   True\n",
      "  2003   2005  -0.9906  0.001 -1.5347 -0.4465   True\n",
      "  2003   2006  -1.6179  0.001 -2.1375 -1.0984   True\n",
      "  2003   2007  -1.9456  0.001 -2.4633 -1.4278   True\n",
      "  2003   2008  -2.4457  0.001 -2.9508 -1.9406   True\n",
      "  2003   2009  -2.8681  0.001 -3.3559 -2.3803   True\n",
      "  2003   2010  -2.9426  0.001 -3.4263 -2.4589   True\n",
      "  2003   2011  -2.4568  0.001 -2.9391 -1.9744   True\n",
      "  2003   2012  -2.3279  0.001 -2.8063 -1.8496   True\n",
      "  2004   2005   0.1521    0.9 -0.3816  0.6858  False\n",
      "  2004   2006  -0.4753  0.096 -0.9839  0.0334  False\n",
      "  2004   2007  -0.8029  0.001 -1.3097 -0.2961   True\n",
      "  2004   2008   -1.303  0.001 -1.7969 -0.8091   True\n",
      "  2004   2009  -1.7254  0.001 -2.2016 -1.2492   True\n",
      "  2004   2010  -1.7999  0.001 -2.2719 -1.3279   True\n",
      "  2004   2011  -1.3141  0.001 -1.7847 -0.8435   True\n",
      "  2004   2012  -1.1852  0.001 -1.6517 -0.7188   True\n",
      "  2005   2006  -0.6273  0.002  -1.126 -0.1287   True\n",
      "  2005   2007  -0.9549  0.001 -1.4518 -0.4581   True\n",
      "  2005   2008  -1.4551  0.001 -1.9388 -0.9715   True\n",
      "  2005   2009  -1.8775  0.001  -2.343  -1.412   True\n",
      "  2005   2010   -1.952  0.001 -2.4132 -1.4907   True\n",
      "  2005   2011  -1.4662  0.001  -1.926 -1.0064   True\n",
      "  2005   2012  -1.3373  0.001 -1.7929 -0.8817   True\n",
      "  2006   2007  -0.3276 0.5222 -0.7974  0.1422  False\n",
      "  2006   2008  -0.8278  0.001 -1.2836 -0.3719   True\n",
      "  2006   2009  -1.2501  0.001 -1.6867 -0.8136   True\n",
      "  2006   2010  -1.3246  0.001 -1.7566 -0.8926   True\n",
      "  2006   2011  -0.8388  0.001 -1.2693 -0.4084   True\n",
      "  2006   2012    -0.71  0.001  -1.136  -0.284   True\n",
      "  2007   2008  -0.5002 0.0157  -0.954 -0.0463   True\n",
      "  2007   2009  -0.9225  0.001  -1.357 -0.4881   True\n",
      "  2007   2010   -0.997  0.001 -1.4269 -0.5671   True\n",
      "  2007   2011  -0.5112 0.0049 -0.9395 -0.0829   True\n",
      "  2007   2012  -0.3824 0.1283 -0.8062  0.0414  False\n",
      "  2008   2009  -0.4224 0.0464 -0.8417  -0.003   True\n",
      "  2008   2010  -0.4968 0.0046 -0.9114 -0.0823   True\n",
      "  2008   2011   -0.011    0.9  -0.424  0.4019  False\n",
      "  2008   2012   0.1178    0.9 -0.2905  0.5261  False\n",
      "  2009   2010  -0.0745    0.9 -0.4678  0.3188  False\n",
      "  2009   2011   0.4113 0.0288  0.0197  0.8029   True\n",
      "  2009   2012   0.5402  0.001  0.1535  0.9268   True\n",
      "  2010   2011   0.4858  0.002  0.0993  0.8723   True\n",
      "  2010   2012   0.6146  0.001  0.2332  0.9961   True\n",
      "  2011   2012   0.1288    0.9 -0.2509  0.5086  False\n",
      "----------------------------------------------------\n"
     ]
    }
   ],
   "source": [
    "# load packages\n",
    "from statsmodels.stats.multicomp import pairwise_tukeyhsd\n",
    "# perform multiple pairwise comparison (Tukey HSD)\n",
    "m_comp = pairwise_tukeyhsd(endog=df['age'], groups=df['year'], alpha=0.05)\n",
    "print(m_comp)"
   ]
  },
  {
   "cell_type": "markdown",
   "metadata": {
    "colab_type": "text",
    "id": "RTZskXFQAwX2"
   },
   "source": [
    "Reference example below"
   ]
  },
  {
   "cell_type": "code",
   "execution_count": 0,
   "metadata": {
    "colab": {},
    "colab_type": "code",
    "id": "tHr1eM0N6u3N"
   },
   "outputs": [],
   "source": [
    "\n",
    "# load data file\n",
    "d = pd.read_csv(\"https://reneshbedre.github.io/assets/posts/anova/onewayanova.txt\", sep=\"\\t\")\n",
    "\n",
    "# generate a boxplot to see the data distribution by treatments. Using boxplot, we can easily detect the differences \n",
    "# between different treatments"
   ]
  },
  {
   "cell_type": "code",
   "execution_count": 17,
   "metadata": {
    "colab": {
     "base_uri": "https://localhost:8080/",
     "height": 282
    },
    "colab_type": "code",
    "id": "YVWPK4T-AC3H",
    "outputId": "cff138ec-020c-4446-fad1-de349146bcdd"
   },
   "outputs": [
    {
     "data": {
      "text/plain": [
       "<matplotlib.axes._subplots.AxesSubplot at 0x7f970e804860>"
      ]
     },
     "execution_count": 17,
     "metadata": {
      "tags": []
     },
     "output_type": "execute_result"
    },
    {
     "data": {
      "image/png": "[encoded data removed]",
      "text/plain": [
       "<Figure size 432x288 with 1 Axes>"
      ]
     },
     "metadata": {
      "needs_background": "light",
      "tags": []
     },
     "output_type": "display_data"
    }
   ],
   "source": [
    "\n",
    "d.boxplot(column=['A', 'B', 'C', 'D'], grid=False)"
   ]
  },
  {
   "cell_type": "code",
   "execution_count": 0,
   "metadata": {
    "colab": {
     "base_uri": "https://localhost:8080/",
     "height": 162
    },
    "colab_type": "code",
    "id": "ehTRtbXJ61Wz",
    "outputId": "8a9116e1-1676-4b3d-80c1-cfe1ad929b0f"
   },
   "outputs": [
    {
     "name": "stdout",
     "output_type": "stream",
     "text": [
      "17.492810457516338 2.639241146210922e-05\n"
     ]
    },
    {
     "name": "stderr",
     "output_type": "stream",
     "text": [
      "/usr/local/lib/python3.6/dist-packages/statsmodels/tools/_testing.py:19: FutureWarning: pandas.util.testing is deprecated. Use the functions in the public API at pandas.testing instead.\n",
      "  import pandas.util.testing as tm\n"
     ]
    },
    {
     "data": {
      "text/html": [
       "<div>\n",
       "<style scoped>\n",
       "    .dataframe tbody tr th:only-of-type {\n",
       "        vertical-align: middle;\n",
       "    }\n",
       "\n",
       "    .dataframe tbody tr th {\n",
       "        vertical-align: top;\n",
       "    }\n",
       "\n",
       "    .dataframe thead th {\n",
       "        text-align: right;\n",
       "    }\n",
       "</style>\n",
       "<table border=\"1\" class=\"dataframe\">\n",
       "  <thead>\n",
       "    <tr style=\"text-align: right;\">\n",
       "      <th></th>\n",
       "      <th>sum_sq</th>\n",
       "      <th>df</th>\n",
       "      <th>F</th>\n",
       "      <th>PR(&gt;F)</th>\n",
       "    </tr>\n",
       "  </thead>\n",
       "  <tbody>\n",
       "    <tr>\n",
       "      <th>C(treatments)</th>\n",
       "      <td>3010.95</td>\n",
       "      <td>3.0</td>\n",
       "      <td>17.49281</td>\n",
       "      <td>0.000026</td>\n",
       "    </tr>\n",
       "    <tr>\n",
       "      <th>Residual</th>\n",
       "      <td>918.00</td>\n",
       "      <td>16.0</td>\n",
       "      <td>NaN</td>\n",
       "      <td>NaN</td>\n",
       "    </tr>\n",
       "  </tbody>\n",
       "</table>\n",
       "</div>"
      ],
      "text/plain": [
       "                sum_sq    df         F    PR(>F)\n",
       "C(treatments)  3010.95   3.0  17.49281  0.000026\n",
       "Residual        918.00  16.0       NaN       NaN"
      ]
     },
     "execution_count": 2,
     "metadata": {
      "tags": []
     },
     "output_type": "execute_result"
    }
   ],
   "source": [
    "# load packages\n",
    "import scipy.stats as stats\n",
    "# stats f_oneway functions takes the groups as input and returns F and P-value\n",
    "fvalue, pvalue = stats.f_oneway(d['A'], d['B'], d['C'], d['D'])\n",
    "print(fvalue, pvalue)\n",
    "# 17.492810457516338 2.639241146210922e-05\n",
    "\n",
    "# get ANOVA table as R like output\n",
    "import statsmodels.api as sm\n",
    "from statsmodels.formula.api import ols\n",
    "# reshape the d dataframe suitable for statsmodels package \n",
    "d_melt = pd.melt(d.reset_index(), id_vars=['index'], value_vars=['A', 'B', 'C', 'D'])\n",
    "# replace column names\n",
    "d_melt.columns = ['index', 'treatments', 'value']\n",
    "# Ordinary Least Squares (OLS) model\n",
    "model = ols('value ~ C(treatments)', data=d_melt).fit()\n",
    "anova_table = sm.stats.anova_lm(model, typ=2)\n",
    "anova_table"
   ]
  },
  {
   "cell_type": "code",
   "execution_count": 3,
   "metadata": {
    "colab": {
     "base_uri": "https://localhost:8080/",
     "height": 204
    },
    "colab_type": "code",
    "id": "ttsNR-AU7GSG",
    "outputId": "c808ecef-9a61-4660-952e-f93bd5068224"
   },
   "outputs": [
    {
     "name": "stdout",
     "output_type": "stream",
     "text": [
      " Multiple Comparison of Means - Tukey HSD, FWER=0.05 \n",
      "=====================================================\n",
      "group1 group2 meandiff p-adj   lower    upper  reject\n",
      "-----------------------------------------------------\n",
      "     A      B     15.4 0.0251   1.6929 29.1071   True\n",
      "     A      C      1.6    0.9 -12.1071 15.3071  False\n",
      "     A      D     30.4  0.001  16.6929 44.1071   True\n",
      "     B      C    -13.8 0.0482 -27.5071 -0.0929   True\n",
      "     B      D     15.0 0.0296   1.2929 28.7071   True\n",
      "     C      D     28.8  0.001  15.0929 42.5071   True\n",
      "-----------------------------------------------------\n"
     ]
    }
   ],
   "source": [
    "# load packages\n",
    "from statsmodels.stats.multicomp import pairwise_tukeyhsd\n",
    "# perform multiple pairwise comparison (Tukey HSD)\n",
    "m_comp = pairwise_tukeyhsd(endog=d_melt['value'], groups=d_melt['treatments'], alpha=0.05)\n",
    "print(m_comp)"
   ]
  }
 ],
 "metadata": {
  "colab": {
   "authorship_tag": "ABX9TyNbTSTx/9DrYAdRK17rCcdg",
   "collapsed_sections": [],
   "include_colab_link": true,
   "name": "tukey test.ipynb",
   "provenance": []
  },
  "kernelspec": {
   "display_name": "Python 3",
   "language": "python",
   "name": "python3"
  },
  "language_info": {
   "codemirror_mode": {
    "name": "ipython",
    "version": 3
   },
   "file_extension": ".py",
   "mimetype": "text/x-python",
   "name": "python",
   "nbconvert_exporter": "python",
   "pygments_lexer": "ipython3",
   "version": "3.7.6"
  }
 },
 "nbformat": 4,
 "nbformat_minor": 1
}
