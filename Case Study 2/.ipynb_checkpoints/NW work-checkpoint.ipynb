{
 "cells": [
  {
   "cell_type": "code",
   "execution_count": null,
   "metadata": {},
   "outputs": [],
   "source": [
    "import numpy as np # linear algebra\n",
    "import pandas as pd # data processing, CSV file I/O (e.g. pd.read_csv)\n",
    "import seaborn as sns\n",
    "import numpy as np\n",
    "#import altair as alt\n",
    "import matplotlib.pyplot as plt"
   ]
  },
  {
   "cell_type": "code",
   "execution_count": null,
   "metadata": {},
   "outputs": [],
   "source": [
    "df = pd.read_csv('https://raw.githubusercontent.com/jjschueder/7333QTW/master/Case%20Study%202/StevensFinal.csv',low_memory=False)"
   ]
  },
  {
   "cell_type": "code",
   "execution_count": null,
   "metadata": {},
   "outputs": [],
   "source": [
    "df.head(20)"
   ]
  },
  {
   "cell_type": "code",
   "execution_count": null,
   "metadata": {},
   "outputs": [],
   "source": [
    "df.tail(20)"
   ]
  },
  {
   "cell_type": "code",
   "execution_count": null,
   "metadata": {},
   "outputs": [],
   "source": [
    "df.info()"
   ]
  },
  {
   "cell_type": "code",
   "execution_count": null,
   "metadata": {},
   "outputs": [],
   "source": [
    "df.dtypes"
   ]
  },
  {
   "cell_type": "code",
   "execution_count": null,
   "metadata": {},
   "outputs": [],
   "source": [
    "bins = [1, 19, 24, 29,\n",
    "34,\n",
    "39,\n",
    "44,\n",
    "49,\n",
    "54,\n",
    "59,\n",
    "64,\n",
    "69,\n",
    "74,\n",
    "79,\n",
    "99]\n",
    "df['agebinned'] = pd.cut(df['age'], bins)"
   ]
  },
  {
   "cell_type": "code",
   "execution_count": null,
   "metadata": {},
   "outputs": [],
   "source": [
    "# Create Male Data Set, Bins\n",
    "dfm = df[df.Gender == \"Male\"]"
   ]
  },
  {
   "cell_type": "code",
   "execution_count": null,
   "metadata": {},
   "outputs": [],
   "source": [
    "bins = [1, 19, 24, 29,\n",
    "34,\n",
    "39,\n",
    "44,\n",
    "49,\n",
    "54,\n",
    "59,\n",
    "64,\n",
    "69,\n",
    "74,\n",
    "79,\n",
    "99]\n",
    "dfm['agebinned'] = pd.cut(dfm['age'], bins)"
   ]
  },
  {
   "cell_type": "code",
   "execution_count": null,
   "metadata": {},
   "outputs": [],
   "source": [
    "# Create Female Data Set, Bins\n",
    "dfw = df[df.Gender == \"Female\"]"
   ]
  },
  {
   "cell_type": "code",
   "execution_count": null,
   "metadata": {},
   "outputs": [],
   "source": [
    "bins = [1, 19, 24, 29,\n",
    "34,\n",
    "39,\n",
    "44,\n",
    "49,\n",
    "54,\n",
    "59,\n",
    "64,\n",
    "69,\n",
    "74,\n",
    "79,\n",
    "99]\n",
    "dfw['agebinned'] = pd.cut(dfw['age'], bins)"
   ]
  },
  {
   "cell_type": "markdown",
   "metadata": {},
   "source": [
    "# BASIC VISUALIZATIONS\n",
    "\n",
    "We have seen that the 1999 runners were typically older than the 2012 runners. Compare the age distribution of the both female and male runners across all 14 years of the races. Use quantile–quantile plots, boxplots, and density curves to make your comparisons. How do the distributions change over the years? Was it a gradual change? "
   ]
  },
  {
   "cell_type": "markdown",
   "metadata": {},
   "source": [
    "## WOMEN"
   ]
  },
  {
   "cell_type": "code",
   "execution_count": null,
   "metadata": {},
   "outputs": [],
   "source": [
    "bigbins = [1, 19, 29,\n",
    "39,\n",
    "49,\n",
    "59,\n",
    "69,\n",
    "79,\n",
    "89,\n",
    "99]\n",
    "dfw['age10binned'] = pd.cut(dfw['age'], bigbins)\n"
   ]
  },
  {
   "cell_type": "markdown",
   "metadata": {},
   "source": [
    "### Histograms"
   ]
  },
  {
   "cell_type": "code",
   "execution_count": null,
   "metadata": {},
   "outputs": [],
   "source": [
    "# WOMEN HISTOGRAM - Age by Year\n",
    "import seaborn as sns\n",
    "sns.set(rc={'figure.figsize':(15.7,8.27)})\n",
    "cmap = sns.diverging_palette(220, 10, as_cmap=True) # one of the many color mappings\n",
    "sns.countplot(x='year', hue='agebinned',data=dfw);"
   ]
  },
  {
   "cell_type": "code",
   "execution_count": null,
   "metadata": {},
   "outputs": [],
   "source": [
    "# WOMEN HISTOGRAM - Age by Year, Normalized\n",
    "# Make a separate list for each airline\n",
    "x1 = list(dfw[dfw['year'] == 1999]['age'])\n",
    "x2 = list(dfw[dfw['year'] == 2000]['age'])\n",
    "x3 = list(dfw[dfw['year'] == 2001]['age'])\n",
    "x4 = list(dfw[dfw['year'] == 2002]['age'])\n",
    "x5 = list(dfw[dfw['year'] == 2003]['age'])\n",
    "x6 = list(dfw[dfw['year'] == 2004]['age'])\n",
    "x7 = list(dfw[dfw['year'] == 2005]['age'])\n",
    "x8 = list(dfw[dfw['year'] == 2006]['age'])\n",
    "x9 = list(dfw[dfw['year'] == 2007]['age'])\n",
    "x10 = list(dfw[dfw['year'] == 2008]['age'])\n",
    "x11 = list(dfw[dfw['year'] == 2009]['age'])\n",
    "x12 = list(dfw[dfw['year'] == 2010]['age'])\n",
    "x13 = list(dfw[dfw['year'] == 2011]['age'])\n",
    "x14 = list(dfw[dfw['year'] == 2012]['age'])\n",
    "# Assign colors for each airline and the names\n",
    "colors = ['#E69F00', '#56B4E9', '#F0E442', '#009E73', '#D55E00']\n",
    "names = [1999, 2000, 2001, 2002, 2003, 2004, 2005, 2006, 2007, 2008, 2009, 2010, 2011, 2012]\n",
    "         \n",
    "# Make the histogram using a list of lists\n",
    "# Normalize the flights and assign colors and names\n",
    "plt.hist([x1, x2, x3, x4, x5, x6, x7, x8, x9, x10, x11, x12, x13, x14], bins = int(180/15), normed=True,\n",
    "          label=names)\n",
    "\n",
    "# Plot formatting\n",
    "plt.legend(prop={'size': 20}, title='Year', fontsize = 25)\n",
    "plt.xlabel('Age')\n",
    "plt.ylabel('Normalized')\n",
    "plt.title('WOMEN: Side-by-Side Histogram with Age and Years', fontsize = 20)\n",
    "plt.xticks(rotation=45)"
   ]
  },
  {
   "cell_type": "code",
   "execution_count": null,
   "metadata": {},
   "outputs": [],
   "source": [
    "# WOMEN HISTOGRAM - Time by Year, Normalized\n",
    "# Make a separate list for each airline\n",
    "x1 = list(dfw[dfw['year'] == 1999]['dursecs'])\n",
    "x2 = list(dfw[dfw['year'] == 2000]['dursecs'])\n",
    "x3 = list(dfw[dfw['year'] == 2001]['dursecs'])\n",
    "x4 = list(dfw[dfw['year'] == 2002]['dursecs'])\n",
    "x5 = list(dfw[dfw['year'] == 2003]['dursecs'])\n",
    "x6 = list(dfw[dfw['year'] == 2004]['dursecs'])\n",
    "x7 = list(dfw[dfw['year'] == 2005]['dursecs'])\n",
    "x8 = list(dfw[dfw['year'] == 2006]['dursecs'])\n",
    "x9 = list(dfw[dfw['year'] == 2007]['dursecs'])\n",
    "x10 = list(dfw[dfw['year'] == 2008]['dursecs'])\n",
    "x11 = list(dfw[dfw['year'] == 2009]['dursecs'])\n",
    "x12 = list(dfw[dfw['year'] == 2010]['dursecs'])\n",
    "x13 = list(dfw[dfw['year'] == 2011]['dursecs'])\n",
    "x14 = list(dfw[dfw['year'] == 2012]['dursecs'])\n",
    "# Assign colors for each airline and the names\n",
    "colors = ['#E69F00', '#56B4E9', '#F0E442', '#009E73', '#D55E00']\n",
    "names = [1999, 2000, 2001, 2002, 2003, 2004, 2005, 2006, 2007, 2008, 2009, 2010, 2011, 2012]\n",
    "         \n",
    "# Make the histogram using a list of lists\n",
    "# Normalize the flights and assign colors and names\n",
    "plt.hist([x1, x2, x3, x4, x5, x6, x7, x8, x9, x10, x11, x12, x13, x14], bins = int(180/15), normed=True,\n",
    "          label=names)\n",
    "\n",
    "# Plot formatting\n",
    "plt.legend(prop={'size': 30}, title='Year', fontsize = 25)\n",
    "plt.xlabel('DurSecs')\n",
    "plt.ylabel('Normalized')\n",
    "plt.title('WOMEN: Side-by-Side Histogram with Time and Years', fontsize = 20)\n",
    "plt.xticks(rotation=45)"
   ]
  },
  {
   "cell_type": "markdown",
   "metadata": {},
   "source": [
    "### Box Plots"
   ]
  },
  {
   "cell_type": "code",
   "execution_count": null,
   "metadata": {},
   "outputs": [],
   "source": [
    "# WOMEN BOX PLOT - Age by Year\n",
    "bx = dfw.boxplot(column = 'age', by = 'year', figsize=(14,7))\n",
    "plt.xticks(rotation=45)\n",
    "bx"
   ]
  },
  {
   "cell_type": "code",
   "execution_count": null,
   "metadata": {},
   "outputs": [],
   "source": [
    "# WOMEN BOX PLOT - Time by Year\n",
    "bx = dfw.boxplot(column = 'durationminutes', by = 'year', figsize=(14,7))\n",
    "plt.xticks(rotation=45)\n",
    "bx"
   ]
  },
  {
   "cell_type": "markdown",
   "metadata": {},
   "source": [
    "### QQ Plots"
   ]
  },
  {
   "cell_type": "markdown",
   "metadata": {},
   "source": [
    "QQ plot for duration indicates that the tails of data set are not normally distributed. We will look for further normality ."
   ]
  },
  {
   "cell_type": "code",
   "execution_count": null,
   "metadata": {},
   "outputs": [],
   "source": [
    "# WOMEN QQ PLOT - Age\n",
    "import matplotlib.pyplot as plt\n",
    "import statsmodels.api as sm\n",
    "sm.qqplot(dfw['age'])\n",
    "plt.show()"
   ]
  },
  {
   "cell_type": "code",
   "execution_count": null,
   "metadata": {},
   "outputs": [],
   "source": [
    "# WOMEN QQ PLOT - Time\n",
    "import matplotlib.pyplot as plt\n",
    "import statsmodels.api as sm\n",
    "sm.qqplot(dfw['durationminutes'])\n",
    "plt.show()"
   ]
  },
  {
   "cell_type": "markdown",
   "metadata": {},
   "source": [
    "### Density Plots"
   ]
  },
  {
   "cell_type": "code",
   "execution_count": null,
   "metadata": {},
   "outputs": [],
   "source": [
    "# WOMEN DENSITY PLOT - Age Distribution\n",
    "years = [1999, 2000, 2001, 2002, 2003, 2004, 2005, 2006, 2007, 2008, 2009, 2010, 2011, 2012]\n",
    "\n",
    "# Iterate through the five airlines\n",
    "for years in years:\n",
    "    # Subset to the airline\n",
    "    subset = dfw[dfw['year'] == years]\n",
    "    \n",
    "    # Draw the density plot\n",
    "    g = sns.distplot(subset['age'], hist = False, kde = True,\n",
    "                 kde_kws = {'linewidth': 3},\n",
    "                 label = years)\n",
    "    \n",
    "# Plot formatting\n",
    "plt.title('WOMEN: Density Plot with Multiple Years', fontsize = 30)\n",
    "plt.legend(prop={'size': 30}, title='Year', fontsize = 25)\n",
    "plt.rcParams['figure.figsize']=30,20\n",
    "plt.xlabel('Age', fontsize = 30)\n",
    "plt.ylabel('Density Distribution', fontsize = 30)\n",
    "plt.xticks(fontsize=25)\n",
    "plt.yticks(fontsize=25)"
   ]
  },
  {
   "cell_type": "code",
   "execution_count": null,
   "metadata": {},
   "outputs": [],
   "source": [
    "# WOMEN DENSITY PLOTS - Age Broken Out by Year\n",
    "# List of five airlines to plot\n",
    "years = [1999, 2000, 2001, 2002, 2003, 2004, 2005, 2006, 2007, 2008, 2009, 2010, 2011, 2012]\n",
    "f, axes = plt.subplots(5, 3, figsize=(20, 20), sharex=True)\n",
    "# Iterate through the five airlines\n",
    "x = 0\n",
    "y = 0\n",
    "for years in years:\n",
    "    # Subset to the airline\n",
    "    subset = dfw[dfw['year'] == years]\n",
    "    # Draw the density plot\n",
    "    g = sns.distplot(subset['age'], hist = False, kde = True,\n",
    "                 kde_kws = {'linewidth': 3},\n",
    "                 label = years, ax=axes[x, y])\n",
    "    y += 1\n",
    "    if (y% 3 == 0):\n",
    "     x += 1\n",
    "     y = 0\n",
    "# Plot formatting\n",
    "plt.legend(prop={'size': 16}, title = 'Year')\n",
    "plt.title('Density Plot with Multiple Year')\n",
    "#plt.rcParams['figure.figsize']=20,10\n",
    "plt.xlabel('Age')\n",
    "plt.ylabel('Distribution')\n",
    "plt.xticks(rotation=45)"
   ]
  },
  {
   "cell_type": "code",
   "execution_count": null,
   "metadata": {},
   "outputs": [],
   "source": [
    "# WOMEN DENSITY PLOT - Time By Year\n",
    "years = [1999, 2000, 2001, 2002, 2003, 2004, 2005, 2006, 2007, 2008, 2009, 2010, 2011, 2012]\n",
    "\n",
    "# Iterate through the five airlines\n",
    "for years in years:\n",
    "    # Subset to the airline\n",
    "    subset = dfw[dfw['year'] == years]\n",
    "    \n",
    "    # Draw the density plot\n",
    "    g = sns.distplot(subset['dursecs'], hist = False, kde = True,\n",
    "                 kde_kws = {'linewidth': 3},\n",
    "                 label = years)\n",
    "    \n",
    "# Plot formatting\n",
    "plt.title('WOMEN: Density Plot with Multiple Years', fontsize = 30)\n",
    "plt.legend(prop={'size': 30}, title='Year', fontsize = 25)\n",
    "plt.rcParams['figure.figsize']=30,20\n",
    "plt.xlabel('dursecs', fontsize = 30)\n",
    "plt.ylabel('Density Distribution', fontsize = 30)\n",
    "plt.xticks(fontsize=25)\n",
    "plt.yticks(fontsize=25)"
   ]
  },
  {
   "cell_type": "code",
   "execution_count": null,
   "metadata": {},
   "outputs": [],
   "source": [
    "# WOMEN DENSITY PLOTS - Time Broken Out by Year\n",
    "# List of five airlines to plot\n",
    "years = [1999, 2000, 2001, 2002, 2003, 2004, 2005, 2006, 2007, 2008, 2009, 2010, 2011, 2012]\n",
    "f, axes = plt.subplots(5, 3, figsize=(20, 20), sharex=True)\n",
    "# Iterate through the five airlines\n",
    "x = 0\n",
    "y = 0\n",
    "for years in years:\n",
    "    # Subset to the airline\n",
    "    subset = dfw[dfw['year'] == years]\n",
    "    # Draw the density plot\n",
    "    g = sns.distplot(subset['dursecs'], hist = False, kde = True,\n",
    "                 kde_kws = {'linewidth': 3},\n",
    "                 label = years, ax=axes[x, y])\n",
    "    y += 1\n",
    "    if (y% 3 == 0):\n",
    "     x += 1\n",
    "     y = 0\n",
    "# Plot formatting\n",
    "plt.legend(prop={'size': 16}, title = 'Year')\n",
    "plt.title('Density Plot with Multiple Year')\n",
    "#plt.rcParams['figure.figsize']=20,10\n",
    "plt.xlabel('Time')\n",
    "plt.ylabel('Distribution')\n",
    "plt.xticks(rotation=45)"
   ]
  },
  {
   "cell_type": "markdown",
   "metadata": {},
   "source": [
    "### Scatterplots"
   ]
  },
  {
   "cell_type": "code",
   "execution_count": null,
   "metadata": {},
   "outputs": [],
   "source": [
    "# WOMEN SCATTER PLOT - Age vs Time. *** LOST LINEAR MODEL***\n",
    "g = sns.FacetGrid(dfw, row=\"year\",  margin_titles=True, height=5)\n",
    "g.map(plt.scatter, \"age\", \"dursecs\", color=\"#338844\", edgecolor=\"white\", s=50, lw=1)\n",
    "for ax in g.axes.flat:\n",
    "    m, b = np.polyfit(dfw['age'], dfw['dursecs'], 1)\n",
    "    ax.plot(dfw['age'], m*dfw['age'] + b)\n",
    "#g.set(xlim=(0, 60), ylim=(0, 14));"
   ]
  },
  {
   "cell_type": "markdown",
   "metadata": {},
   "source": [
    "### Pair Plots"
   ]
  },
  {
   "cell_type": "code",
   "execution_count": null,
   "metadata": {},
   "outputs": [],
   "source": [
    "# WOMEN PAIR PLOTS - Time in Seconds\n",
    "import seaborn as sns; sns.set(style=\"ticks\", color_codes=True)\n",
    "g = sns.pairplot(df, vars=[\"dursecs\", \"pace\", \"age\"], hue = \"year\", height=3.27, aspect=4.7/3.27)\n",
    "g.map_upper(plt.scatter)\n",
    "g.map_lower(sns.kdeplot)\n",
    "#iris = sns.load_dataset(\"iris\")8.7/8.27)\n",
    "plt.title('Pair Plots by with Year Coloring')"
   ]
  },
  {
   "cell_type": "markdown",
   "metadata": {},
   "source": [
    "### ============================================================================================="
   ]
  },
  {
   "cell_type": "markdown",
   "metadata": {},
   "source": [
    "## MEN"
   ]
  },
  {
   "cell_type": "markdown",
   "metadata": {},
   "source": [
    "### Histograms"
   ]
  },
  {
   "cell_type": "code",
   "execution_count": null,
   "metadata": {},
   "outputs": [],
   "source": [
    "# MEN HISTOGRAM - Age by Year\n",
    "import seaborn as sns\n",
    "sns.set(rc={'figure.figsize':(15.7,8.27)})\n",
    "cmap = sns.diverging_palette(220, 10, as_cmap=True) # one of the many color mappings\n",
    "sns.countplot(x='year', hue='agebinned',data=dfm);"
   ]
  },
  {
   "cell_type": "code",
   "execution_count": null,
   "metadata": {},
   "outputs": [],
   "source": [
    "# MEN HISTOGRAM - Time by Year, Normalized\n",
    "# Make a separate list for each airline\n",
    "x1 = list(dfm[dfm['year'] == 1999]['dursecs'])\n",
    "x2 = list(dfm[dfm['year'] == 2000]['dursecs'])\n",
    "x3 = list(dfm[dfm['year'] == 2001]['dursecs'])\n",
    "x4 = list(dfm[dfm['year'] == 2002]['dursecs'])\n",
    "x5 = list(dfm[dfm['year'] == 2003]['dursecs'])\n",
    "x6 = list(dfm[dfm['year'] == 2004]['dursecs'])\n",
    "x7 = list(dfm[dfm['year'] == 2005]['dursecs'])\n",
    "x8 = list(dfm[dfm['year'] == 2006]['dursecs'])\n",
    "x9 = list(dfm[dfm['year'] == 2007]['dursecs'])\n",
    "x10 = list(dfm[dfm['year'] == 2008]['dursecs'])\n",
    "x11 = list(dfm[dfm['year'] == 2009]['dursecs'])\n",
    "x12 = list(dfm[dfm['year'] == 2010]['dursecs'])\n",
    "x13 = list(dfm[dfm['year'] == 2011]['dursecs'])\n",
    "x14 = list(dfm[dfm['year'] == 2012]['dursecs'])\n",
    "# Assign colors for each airline and the names\n",
    "colors = ['#E69F00', '#56B4E9', '#F0E442', '#009E73', '#D55E00']\n",
    "names = [1999, 2000, 2001, 2002, 2003, 2004, 2005, 2006, 2007, 2008, 2009, 2010, 2011, 2012]\n",
    "         \n",
    "# Make the histogram using a list of lists\n",
    "# Normalize the flights and assign colors and names\n",
    "plt.hist([x1, x2, x3, x4, x5, x6, x7, x8, x9, x10, x11, x12, x13, x14], bins = int(180/15), normed=True,\n",
    "          label=names)\n",
    "\n",
    "# Plot formatting\n",
    "plt.legend(prop={'size': 20}, title='Year', fontsize = 25)\n",
    "plt.xlabel('Time')\n",
    "plt.ylabel('Normalized')\n",
    "plt.title('WOMEN: Side-by-Side Histogram with Age and Years', fontsize = 20)\n",
    "plt.xticks(rotation=45)"
   ]
  },
  {
   "cell_type": "markdown",
   "metadata": {},
   "source": [
    "### Box Plots"
   ]
  },
  {
   "cell_type": "code",
   "execution_count": null,
   "metadata": {},
   "outputs": [],
   "source": [
    "# MEN BOX PLOT - Age by Year\n",
    "bx = dfm.boxplot(column = 'age', by = 'year', figsize=(14,7))\n",
    "plt.xticks(rotation=45)\n",
    "bx"
   ]
  },
  {
   "cell_type": "code",
   "execution_count": null,
   "metadata": {},
   "outputs": [],
   "source": [
    "# MEN BOX PLOT - Time by Year\n",
    "bx = dfm.boxplot(column = 'durationminutes', by = 'year', figsize=(14,7))\n",
    "plt.xticks(rotation=45)\n",
    "bx"
   ]
  },
  {
   "cell_type": "markdown",
   "metadata": {},
   "source": [
    "### QQ Plots"
   ]
  },
  {
   "cell_type": "code",
   "execution_count": null,
   "metadata": {},
   "outputs": [],
   "source": [
    "# MEN QQ PLOT - Age\n",
    "import matplotlib.pyplot as plt\n",
    "import statsmodels.api as sm\n",
    "sm.qqplot(dfm['age'])\n",
    "plt.show()"
   ]
  },
  {
   "cell_type": "code",
   "execution_count": null,
   "metadata": {},
   "outputs": [],
   "source": [
    "# MEN QQ PLOT - Time\n",
    "import matplotlib.pyplot as plt\n",
    "import statsmodels.api as sm\n",
    "sm.qqplot(dfm['durationminutes'])\n",
    "plt.show()"
   ]
  },
  {
   "cell_type": "markdown",
   "metadata": {},
   "source": [
    "### Density Plots"
   ]
  },
  {
   "cell_type": "code",
   "execution_count": null,
   "metadata": {},
   "outputs": [],
   "source": [
    "# MEN DENSITY PLOT - Age\n",
    "years = [1999, 2000, 2001, 2002, 2003, 2004, 2005, 2006, 2007, 2008, 2009, 2010, 2011, 2012]\n",
    "\n",
    "# Iterate through the five airlines\n",
    "for years in years:\n",
    "    # Subset to the airline\n",
    "    subset = dfm[dfm['year'] == years]\n",
    "    \n",
    "    # Draw the density plot\n",
    "    g = sns.distplot(subset['age'], hist = False, kde = True,\n",
    "                 kde_kws = {'linewidth': 3},\n",
    "                 label = years)\n",
    "    \n",
    "# Plot formatting\n",
    "plt.legend(prop={'size': 30}, title = 'Year')\n",
    "plt.title('MEN: Density Plot with Multiple Year')\n",
    "plt.rcParams['figure.figsize']=30,20\n",
    "plt.xlabel('Distribution')\n",
    "plt.ylabel('Age')"
   ]
  },
  {
   "cell_type": "code",
   "execution_count": null,
   "metadata": {},
   "outputs": [],
   "source": [
    "# MEN DENSITY PLOT - Age Broken Out by Year\n",
    "# List of five airlines to plot\n",
    "years = [1999, 2000, 2001, 2002, 2003, 2004, 2005, 2006, 2007, 2008, 2009, 2010, 2011, 2012]\n",
    "f, axes = plt.subplots(5, 3, figsize=(20, 20), sharex=True)\n",
    "# Iterate through the five airlines\n",
    "x = 0\n",
    "y = 0\n",
    "for years in years:\n",
    "    # Subset to the airline\n",
    "    subset = dfm[dfm['year'] == years]\n",
    "    # Draw the density plot\n",
    "    g = sns.distplot(subset['age'], hist = False, kde = True,\n",
    "                 kde_kws = {'linewidth': 3},\n",
    "                 label = years, ax=axes[x, y])\n",
    "    y += 1\n",
    "    if (y% 3 == 0):\n",
    "     x += 1\n",
    "     y = 0\n",
    "# Plot formatting\n",
    "plt.legend(prop={'size': 16}, title = 'Year')\n",
    "plt.title('Density Plot with Multiple Year')\n",
    "#plt.rcParams['figure.figsize']=20,10\n",
    "plt.xlabel('age')\n",
    "plt.ylabel('Distribution')\n",
    "plt.xticks(rotation=45)"
   ]
  },
  {
   "cell_type": "code",
   "execution_count": null,
   "metadata": {},
   "outputs": [],
   "source": [
    "# MEN DENSITY PLOT - Time\n",
    "years = [1999, 2000, 2001, 2002, 2003, 2004, 2005, 2006, 2007, 2008, 2009, 2010, 2011, 2012]\n",
    "\n",
    "# Iterate through the five airlines\n",
    "for years in years:\n",
    "    # Subset to the airline\n",
    "    subset = dfm[dfm['year'] == years]\n",
    "    \n",
    "    # Draw the density plot\n",
    "    g = sns.distplot(subset['dursecs''], hist = False, kde = True,\n",
    "                 kde_kws = {'linewidth': 3},\n",
    "                 label = years)\n",
    "    \n",
    "# Plot formatting\n",
    "plt.legend(prop={'size': 30}, title = 'Year')\n",
    "plt.title('MEN: Density Plot with Multiple Year')\n",
    "plt.rcParams['figure.figsize']=30,20\n",
    "plt.xlabel('Time')\n",
    "plt.ylabel('Distribution')"
   ]
  },
  {
   "cell_type": "code",
   "execution_count": null,
   "metadata": {},
   "outputs": [],
   "source": [
    "# MEN DENSITY PLOT - Time Broken Out by Year\n",
    "# List of five airlines to plot\n",
    "years = [1999, 2000, 2001, 2002, 2003, 2004, 2005, 2006, 2007, 2008, 2009, 2010, 2011, 2012]\n",
    "f, axes = plt.subplots(5, 3, figsize=(20, 20), sharex=True)\n",
    "# Iterate through the five airlines\n",
    "x = 0\n",
    "y = 0\n",
    "for years in years:\n",
    "    # Subset to the airline\n",
    "    subset = dfm[dfm['year'] == years]\n",
    "    # Draw the density plot\n",
    "    g = sns.distplot(subset['dursecs'], hist = False, kde = True,\n",
    "                 kde_kws = {'linewidth': 3},\n",
    "                 label = years, ax=axes[x, y])\n",
    "    y += 1\n",
    "    if (y% 3 == 0):\n",
    "     x += 1\n",
    "     y = 0\n",
    "# Plot formatting\n",
    "plt.legend(prop={'size': 16}, title = 'Year')\n",
    "plt.title('Density Plot with Multiple Year')\n",
    "#plt.rcParams['figure.figsize']=20,10\n",
    "plt.xlabel('DurSecs')\n",
    "plt.ylabel('Distribution')\n",
    "plt.xticks(rotation=45)"
   ]
  },
  {
   "cell_type": "markdown",
   "metadata": {},
   "source": [
    "### Scatterplots"
   ]
  },
  {
   "cell_type": "code",
   "execution_count": null,
   "metadata": {},
   "outputs": [],
   "source": [
    "# MEN SCATTER PLOT - Age vs Time. *** LOST LINEAR MODEL***\n",
    "g = sns.FacetGrid(df, row=\"year\",  margin_titles=True, height=5)\n",
    "g.map(plt.scatter, \"age\", \"dursecs\", color=\"#338844\", edgecolor=\"white\", s=50, lw=1)\n",
    "for ax in g.axes.flat:\n",
    "    m, b = np.polyfit(dfm['age'], dfm['dursecs'], 1)\n",
    "    ax.plot(dfm['age'], m*dfm['age'] + b)\n",
    "#g.set(xlim=(0, 60), ylim=(0, 14));"
   ]
  },
  {
   "cell_type": "markdown",
   "metadata": {},
   "source": [
    "### =========================================================================================="
   ]
  },
  {
   "cell_type": "markdown",
   "metadata": {},
   "source": [
    "## COMBINED GENDERS"
   ]
  },
  {
   "cell_type": "markdown",
   "metadata": {},
   "source": [
    "### Violin Plots"
   ]
  },
  {
   "cell_type": "code",
   "execution_count": null,
   "metadata": {},
   "outputs": [],
   "source": [
    "# COMBINED VIOLIN PLOT - Age by Year\n",
    "sns.set_style('ticks')\n",
    "fig, ax = plt.subplots()\n",
    "# the size of A4 paper\n",
    "fig.set_size_inches(11.7, 8.27)\n",
    "sns.violinplot(x=\"year\", y=\"age\",hue=\"Gender\", data=df,split=True)    \n",
    "sns.despine()\n",
    "plt.title('Violin Plot Ages by Year')\n",
    "plt.xticks(rotation=45)"
   ]
  },
  {
   "cell_type": "code",
   "execution_count": null,
   "metadata": {},
   "outputs": [],
   "source": [
    "# COMBINED VIOLIN PLOT - Time by Year\n",
    "sns.set_style('ticks')\n",
    "fig, ax = plt.subplots()\n",
    "# the size of A4 paper\n",
    "fig.set_size_inches(11.7, 8.27)\n",
    "sns.violinplot(x=\"year\", y=\"dursecs\",hue=\"Gender\", data=df,split=True)    \n",
    "sns.despine()\n",
    "plt.title('Violin Plot Total Duration in Seconds by Year')\n",
    "plt.xticks(rotation=45)"
   ]
  },
  {
   "cell_type": "markdown",
   "metadata": {},
   "source": [
    "### Histograms"
   ]
  },
  {
   "cell_type": "code",
   "execution_count": null,
   "metadata": {},
   "outputs": [],
   "source": [
    "# COMBINTED HISTOGRAM - Age Bin Distribution by Year\n",
    "df['counter'] = 1\n",
    "dfgrpby = df.groupby(by=['year', 'Gender', 'agebinned'])\n",
    "runnercounts = dfgrpby.counter.sum()\n",
    "dfrc = pd.DataFrame(runnercounts)\n",
    "\n",
    "import seaborn as sns\n",
    "cmap = sns.diverging_palette(220, 10, as_cmap=True) # one of the many color mappings\n",
    "dfrc.unstack().plot(kind='bar', stacked=True)"
   ]
  },
  {
   "cell_type": "markdown",
   "metadata": {},
   "source": [
    "### Box Plots"
   ]
  },
  {
   "cell_type": "code",
   "execution_count": null,
   "metadata": {},
   "outputs": [],
   "source": [
    "# COMBINED BOX PLOT - Age by Year\n",
    "bx = df.boxplot(column = 'age', by = 'year', figsize=(14,7))\n",
    "plt.xticks(rotation=45)\n",
    "bx"
   ]
  },
  {
   "cell_type": "code",
   "execution_count": null,
   "metadata": {},
   "outputs": [],
   "source": [
    "# COMBINED BOX PLOT - Time by Year\n",
    "bx = df.boxplot(column = 'durationminutes', by = 'year', figsize=(14,7))\n",
    "plt.xticks(rotation=45)\n",
    "bx"
   ]
  },
  {
   "cell_type": "markdown",
   "metadata": {},
   "source": [
    "### QQ Plots"
   ]
  },
  {
   "cell_type": "code",
   "execution_count": null,
   "metadata": {},
   "outputs": [],
   "source": [
    "# COMBINED QQ PLOT - Age\n",
    "import matplotlib.pyplot as plt\n",
    "import statsmodels.api as sm\n",
    "sm.qqplot(df['age'])\n",
    "plt.show()"
   ]
  },
  {
   "cell_type": "code",
   "execution_count": null,
   "metadata": {},
   "outputs": [],
   "source": [
    "# COMBINED QQ PLOT - Time\n",
    "import matplotlib.pyplot as plt\n",
    "import statsmodels.api as sm\n",
    "sm.qqplot(df['durationminutes'])\n",
    "plt.show()"
   ]
  },
  {
   "cell_type": "markdown",
   "metadata": {},
   "source": [
    "### Density Plots"
   ]
  },
  {
   "cell_type": "code",
   "execution_count": null,
   "metadata": {},
   "outputs": [],
   "source": [
    "# COMBINED DENSITY PLOT - Age by Year\n",
    "years = [1999, 2000, 2001, 2002, 2003, 2004, 2005, 2006, 2007, 2008, 2009, 2010, 2011, 2012]\n",
    "\n",
    "# Iterate through the years\n",
    "for years in years:\n",
    "    # Subset to the year\n",
    "    subset = df[df['year'] == years]\n",
    "    \n",
    "    # Draw the density plot\n",
    "    g = sns.distplot(subset['age'], hist = False, kde = True,\n",
    "                 kde_kws = {'linewidth': 3},\n",
    "                 label = years)\n",
    "    \n",
    "# Plot formatting\n",
    "plt.legend(prop={'size': 30}, title = 'Year')\n",
    "plt.title('ALL: Density Plot with Multiple Year')\n",
    "plt.rcParams['figure.figsize']=30,20\n",
    "plt.xlabel('Distribution')\n",
    "plt.ylabel('Age')"
   ]
  },
  {
   "cell_type": "markdown",
   "metadata": {},
   "source": [
    "### Scatterplots"
   ]
  },
  {
   "cell_type": "code",
   "execution_count": null,
   "metadata": {},
   "outputs": [],
   "source": [
    "# COMBINED SCATTER PLOT - Age vs Time. *** LOST LINEAR MODEL***\n",
    "g = sns.FacetGrid(df, row=\"year\",  margin_titles=True, height=5)\n",
    "g.map(plt.scatter, \"age\", \"dursecs\", color=\"#338844\", edgecolor=\"white\", s=50, lw=1)\n",
    "for ax in g.axes.flat:\n",
    "    m, b = np.polyfit(df['age'], df['dursecs'], 1)\n",
    "    ax.plot(df['age'], m*df['age'] + b)\n",
    "#g.set(xlim=(0, 60), ylim=(0, 14));"
   ]
  },
  {
   "cell_type": "code",
   "execution_count": null,
   "metadata": {},
   "outputs": [],
   "source": [
    "FemaleDur=df[df['Gender']=='Female']\n",
    "maleDur=df[df['Gender']=='Male']\n",
    "print(df.shape)\n",
    "print(FemaleDur.shape)\n",
    "print(maleDur.shape)"
   ]
  },
  {
   "cell_type": "markdown",
   "metadata": {},
   "source": [
    "# STATISTICAL ANALYSIS"
   ]
  },
  {
   "cell_type": "markdown",
   "metadata": {},
   "source": [
    "We test Normality with the Shapiro-Wilk test. The null-hypothesis of this test is that the population is normally distributed. The test shows strong evidence that the distribution is not normal. This backs the findings of the qq plot."
   ]
  },
  {
   "cell_type": "code",
   "execution_count": null,
   "metadata": {
    "scrolled": true
   },
   "outputs": [],
   "source": [
    "import pingouin as pg\n",
    "print(pg.normality(df,dv='age',group='Gender'))\n"
   ]
  },
  {
   "cell_type": "markdown",
   "metadata": {},
   "source": [
    "We test the difference in means between male and female runners using a t-test. The evidence suggest that the data is not normally disturbed and has unequal sample size between males and females.  We will use the  Welch–Satterthwaite equation to approximate the adjusted degrees of freedom to help correct for this. \n",
    "\n",
    "The null hypotheses is rejected providing strong evidence that the means for men and woman race duration  is different. This is also true that the mean age is also different for men and woman.\n"
   ]
  },
  {
   "cell_type": "code",
   "execution_count": null,
   "metadata": {},
   "outputs": [],
   "source": [
    "FemaleDur=df[df['Gender']=='Female']\n",
    "maleDur=df[df['Gender']=='Male']\n",
    "print(df.shape)\n",
    "print(FemaleDur.shape)\n",
    "print(maleDur.shape)"
   ]
  },
  {
   "cell_type": "code",
   "execution_count": null,
   "metadata": {},
   "outputs": [],
   "source": [
    "print(\"#####################################################################\")\n",
    "print(\"t-test for difference in mean between Males and Females(Race duration)\" )\n",
    "print(\"#####################################################################\")\n",
    "print(pg.ttest(maleDur.durationminutes, FemaleDur.durationminutes, correction='auto'))\n",
    "print(\"#####################################################################\")\n",
    "print(\"t-test for difference in mean between Males and Females(Age)\")\n",
    "print(\"#####################################################################\")\n",
    "print(pg.ttest(maleDur.age, FemaleDur.age, correction='auto'))"
   ]
  },
  {
   "cell_type": "code",
   "execution_count": null,
   "metadata": {},
   "outputs": [],
   "source": [
    "# drops nulls\n",
    "LRmodelDf=df[~df['age'].isnull()]\n",
    "\n",
    "# creats a dummy variable for woman and drops the men column \n",
    "LRmodelDf['Is_Female'] = pd.get_dummies(LRmodelDf['Gender']).drop('Male',axis=1)\n",
    "\n",
    "#encodes year 0-12\n",
    "from sklearn import preprocessing\n",
    "le = preprocessing.LabelEncoder()\n",
    "LRmodelDf['year_encoded'] = le.fit_transform(LRmodelDf['year'])\n",
    "\n"
   ]
  },
  {
   "cell_type": "markdown",
   "metadata": {},
   "source": [
    "A simple OLS regression model was ran to help answer a few questions.\n",
    "\n",
    "* Does gender impact duration of the race?\n",
    "* Does Age impact the duration of the race?\n",
    "* Is the race taking longer for the runners to complete since the race started back in 1999?\n",
    "\n",
    "The regression results suggest the answer of yes for all three of these question with highly significate p-values for each dependent variable. The Rsquard is also extremely high indicating a great model. That said, the results seem too perfect, and it would be beneficial to do further investigation with other models that are not so reliant on assumption about the data set. \n"
   ]
  },
  {
   "cell_type": "code",
   "execution_count": null,
   "metadata": {},
   "outputs": [],
   "source": [
    "import statsmodels.api as sm\n",
    "mod = sm.OLS(LRmodelDf['durationminutes'],LRmodelDf[['age','Is_Female','year_encoded']])\n",
    "fii = mod.fit()\n",
    "fii.summary2()"
   ]
  }
 ],
 "metadata": {
  "kernelspec": {
   "display_name": "Python 3",
   "language": "python",
   "name": "python3"
  },
  "language_info": {
   "codemirror_mode": {
    "name": "ipython",
    "version": 3
   },
   "file_extension": ".py",
   "mimetype": "text/x-python",
   "name": "python",
   "nbconvert_exporter": "python",
   "pygments_lexer": "ipython3",
   "version": "3.7.3"
  }
 },
 "nbformat": 4,
 "nbformat_minor": 2
}
