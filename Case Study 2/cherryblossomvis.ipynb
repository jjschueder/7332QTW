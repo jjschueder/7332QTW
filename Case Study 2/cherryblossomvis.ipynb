{
 "cells": [
  {
   "cell_type": "code",
   "execution_count": 3,
   "metadata": {},
   "outputs": [],
   "source": [
    "import numpy as np # linear algebra\n",
    "import pandas as pd # data processing, CSV file I/O (e.g. pd.read_csv)\n",
    "import seaborn as sns\n",
    "import numpy as np\n",
    "#import altair as alt\n",
    "import matplotlib.pyplot as plt"
   ]
  },
  {
   "cell_type": "code",
   "execution_count": 4,
   "metadata": {},
   "outputs": [
    {
     "ename": "FileNotFoundError",
     "evalue": "[Errno 2] File /womensrace.csv does not exist: '/womensrace.csv'",
     "output_type": "error",
     "traceback": [
      "\u001b[1;31m---------------------------------------------------------------------------\u001b[0m",
      "\u001b[1;31mFileNotFoundError\u001b[0m                         Traceback (most recent call last)",
      "\u001b[1;32m<ipython-input-4-af1c13733cb8>\u001b[0m in \u001b[0;36m<module>\u001b[1;34m\u001b[0m\n\u001b[1;32m----> 1\u001b[1;33m \u001b[0mdf\u001b[0m \u001b[1;33m=\u001b[0m \u001b[0mpd\u001b[0m\u001b[1;33m.\u001b[0m\u001b[0mread_csv\u001b[0m\u001b[1;33m(\u001b[0m\u001b[1;34m\"/womensrace.csv\"\u001b[0m\u001b[1;33m)\u001b[0m\u001b[1;33m\u001b[0m\u001b[1;33m\u001b[0m\u001b[0m\n\u001b[0m\u001b[0;32m      2\u001b[0m \u001b[1;33m\u001b[0m\u001b[0m\n\u001b[0;32m      3\u001b[0m \u001b[1;31m# verify data read in\u001b[0m\u001b[1;33m\u001b[0m\u001b[1;33m\u001b[0m\u001b[1;33m\u001b[0m\u001b[0m\n\u001b[0;32m      4\u001b[0m \u001b[0mdf\u001b[0m\u001b[1;33m.\u001b[0m\u001b[0mtail\u001b[0m\u001b[1;33m(\u001b[0m\u001b[1;36m100\u001b[0m\u001b[1;33m)\u001b[0m\u001b[1;33m\u001b[0m\u001b[1;33m\u001b[0m\u001b[0m\n",
      "\u001b[1;32m~\\Anaconda3\\envs\\RPy\\lib\\site-packages\\pandas\\io\\parsers.py\u001b[0m in \u001b[0;36mparser_f\u001b[1;34m(filepath_or_buffer, sep, delimiter, header, names, index_col, usecols, squeeze, prefix, mangle_dupe_cols, dtype, engine, converters, true_values, false_values, skipinitialspace, skiprows, skipfooter, nrows, na_values, keep_default_na, na_filter, verbose, skip_blank_lines, parse_dates, infer_datetime_format, keep_date_col, date_parser, dayfirst, cache_dates, iterator, chunksize, compression, thousands, decimal, lineterminator, quotechar, quoting, doublequote, escapechar, comment, encoding, dialect, error_bad_lines, warn_bad_lines, delim_whitespace, low_memory, memory_map, float_precision)\u001b[0m\n\u001b[0;32m    674\u001b[0m         )\n\u001b[0;32m    675\u001b[0m \u001b[1;33m\u001b[0m\u001b[0m\n\u001b[1;32m--> 676\u001b[1;33m         \u001b[1;32mreturn\u001b[0m \u001b[0m_read\u001b[0m\u001b[1;33m(\u001b[0m\u001b[0mfilepath_or_buffer\u001b[0m\u001b[1;33m,\u001b[0m \u001b[0mkwds\u001b[0m\u001b[1;33m)\u001b[0m\u001b[1;33m\u001b[0m\u001b[1;33m\u001b[0m\u001b[0m\n\u001b[0m\u001b[0;32m    677\u001b[0m \u001b[1;33m\u001b[0m\u001b[0m\n\u001b[0;32m    678\u001b[0m     \u001b[0mparser_f\u001b[0m\u001b[1;33m.\u001b[0m\u001b[0m__name__\u001b[0m \u001b[1;33m=\u001b[0m \u001b[0mname\u001b[0m\u001b[1;33m\u001b[0m\u001b[1;33m\u001b[0m\u001b[0m\n",
      "\u001b[1;32m~\\Anaconda3\\envs\\RPy\\lib\\site-packages\\pandas\\io\\parsers.py\u001b[0m in \u001b[0;36m_read\u001b[1;34m(filepath_or_buffer, kwds)\u001b[0m\n\u001b[0;32m    446\u001b[0m \u001b[1;33m\u001b[0m\u001b[0m\n\u001b[0;32m    447\u001b[0m     \u001b[1;31m# Create the parser.\u001b[0m\u001b[1;33m\u001b[0m\u001b[1;33m\u001b[0m\u001b[1;33m\u001b[0m\u001b[0m\n\u001b[1;32m--> 448\u001b[1;33m     \u001b[0mparser\u001b[0m \u001b[1;33m=\u001b[0m \u001b[0mTextFileReader\u001b[0m\u001b[1;33m(\u001b[0m\u001b[0mfp_or_buf\u001b[0m\u001b[1;33m,\u001b[0m \u001b[1;33m**\u001b[0m\u001b[0mkwds\u001b[0m\u001b[1;33m)\u001b[0m\u001b[1;33m\u001b[0m\u001b[1;33m\u001b[0m\u001b[0m\n\u001b[0m\u001b[0;32m    449\u001b[0m \u001b[1;33m\u001b[0m\u001b[0m\n\u001b[0;32m    450\u001b[0m     \u001b[1;32mif\u001b[0m \u001b[0mchunksize\u001b[0m \u001b[1;32mor\u001b[0m \u001b[0miterator\u001b[0m\u001b[1;33m:\u001b[0m\u001b[1;33m\u001b[0m\u001b[1;33m\u001b[0m\u001b[0m\n",
      "\u001b[1;32m~\\Anaconda3\\envs\\RPy\\lib\\site-packages\\pandas\\io\\parsers.py\u001b[0m in \u001b[0;36m__init__\u001b[1;34m(self, f, engine, **kwds)\u001b[0m\n\u001b[0;32m    878\u001b[0m             \u001b[0mself\u001b[0m\u001b[1;33m.\u001b[0m\u001b[0moptions\u001b[0m\u001b[1;33m[\u001b[0m\u001b[1;34m\"has_index_names\"\u001b[0m\u001b[1;33m]\u001b[0m \u001b[1;33m=\u001b[0m \u001b[0mkwds\u001b[0m\u001b[1;33m[\u001b[0m\u001b[1;34m\"has_index_names\"\u001b[0m\u001b[1;33m]\u001b[0m\u001b[1;33m\u001b[0m\u001b[1;33m\u001b[0m\u001b[0m\n\u001b[0;32m    879\u001b[0m \u001b[1;33m\u001b[0m\u001b[0m\n\u001b[1;32m--> 880\u001b[1;33m         \u001b[0mself\u001b[0m\u001b[1;33m.\u001b[0m\u001b[0m_make_engine\u001b[0m\u001b[1;33m(\u001b[0m\u001b[0mself\u001b[0m\u001b[1;33m.\u001b[0m\u001b[0mengine\u001b[0m\u001b[1;33m)\u001b[0m\u001b[1;33m\u001b[0m\u001b[1;33m\u001b[0m\u001b[0m\n\u001b[0m\u001b[0;32m    881\u001b[0m \u001b[1;33m\u001b[0m\u001b[0m\n\u001b[0;32m    882\u001b[0m     \u001b[1;32mdef\u001b[0m \u001b[0mclose\u001b[0m\u001b[1;33m(\u001b[0m\u001b[0mself\u001b[0m\u001b[1;33m)\u001b[0m\u001b[1;33m:\u001b[0m\u001b[1;33m\u001b[0m\u001b[1;33m\u001b[0m\u001b[0m\n",
      "\u001b[1;32m~\\Anaconda3\\envs\\RPy\\lib\\site-packages\\pandas\\io\\parsers.py\u001b[0m in \u001b[0;36m_make_engine\u001b[1;34m(self, engine)\u001b[0m\n\u001b[0;32m   1112\u001b[0m     \u001b[1;32mdef\u001b[0m \u001b[0m_make_engine\u001b[0m\u001b[1;33m(\u001b[0m\u001b[0mself\u001b[0m\u001b[1;33m,\u001b[0m \u001b[0mengine\u001b[0m\u001b[1;33m=\u001b[0m\u001b[1;34m\"c\"\u001b[0m\u001b[1;33m)\u001b[0m\u001b[1;33m:\u001b[0m\u001b[1;33m\u001b[0m\u001b[1;33m\u001b[0m\u001b[0m\n\u001b[0;32m   1113\u001b[0m         \u001b[1;32mif\u001b[0m \u001b[0mengine\u001b[0m \u001b[1;33m==\u001b[0m \u001b[1;34m\"c\"\u001b[0m\u001b[1;33m:\u001b[0m\u001b[1;33m\u001b[0m\u001b[1;33m\u001b[0m\u001b[0m\n\u001b[1;32m-> 1114\u001b[1;33m             \u001b[0mself\u001b[0m\u001b[1;33m.\u001b[0m\u001b[0m_engine\u001b[0m \u001b[1;33m=\u001b[0m \u001b[0mCParserWrapper\u001b[0m\u001b[1;33m(\u001b[0m\u001b[0mself\u001b[0m\u001b[1;33m.\u001b[0m\u001b[0mf\u001b[0m\u001b[1;33m,\u001b[0m \u001b[1;33m**\u001b[0m\u001b[0mself\u001b[0m\u001b[1;33m.\u001b[0m\u001b[0moptions\u001b[0m\u001b[1;33m)\u001b[0m\u001b[1;33m\u001b[0m\u001b[1;33m\u001b[0m\u001b[0m\n\u001b[0m\u001b[0;32m   1115\u001b[0m         \u001b[1;32melse\u001b[0m\u001b[1;33m:\u001b[0m\u001b[1;33m\u001b[0m\u001b[1;33m\u001b[0m\u001b[0m\n\u001b[0;32m   1116\u001b[0m             \u001b[1;32mif\u001b[0m \u001b[0mengine\u001b[0m \u001b[1;33m==\u001b[0m \u001b[1;34m\"python\"\u001b[0m\u001b[1;33m:\u001b[0m\u001b[1;33m\u001b[0m\u001b[1;33m\u001b[0m\u001b[0m\n",
      "\u001b[1;32m~\\Anaconda3\\envs\\RPy\\lib\\site-packages\\pandas\\io\\parsers.py\u001b[0m in \u001b[0;36m__init__\u001b[1;34m(self, src, **kwds)\u001b[0m\n\u001b[0;32m   1889\u001b[0m         \u001b[0mkwds\u001b[0m\u001b[1;33m[\u001b[0m\u001b[1;34m\"usecols\"\u001b[0m\u001b[1;33m]\u001b[0m \u001b[1;33m=\u001b[0m \u001b[0mself\u001b[0m\u001b[1;33m.\u001b[0m\u001b[0musecols\u001b[0m\u001b[1;33m\u001b[0m\u001b[1;33m\u001b[0m\u001b[0m\n\u001b[0;32m   1890\u001b[0m \u001b[1;33m\u001b[0m\u001b[0m\n\u001b[1;32m-> 1891\u001b[1;33m         \u001b[0mself\u001b[0m\u001b[1;33m.\u001b[0m\u001b[0m_reader\u001b[0m \u001b[1;33m=\u001b[0m \u001b[0mparsers\u001b[0m\u001b[1;33m.\u001b[0m\u001b[0mTextReader\u001b[0m\u001b[1;33m(\u001b[0m\u001b[0msrc\u001b[0m\u001b[1;33m,\u001b[0m \u001b[1;33m**\u001b[0m\u001b[0mkwds\u001b[0m\u001b[1;33m)\u001b[0m\u001b[1;33m\u001b[0m\u001b[1;33m\u001b[0m\u001b[0m\n\u001b[0m\u001b[0;32m   1892\u001b[0m         \u001b[0mself\u001b[0m\u001b[1;33m.\u001b[0m\u001b[0munnamed_cols\u001b[0m \u001b[1;33m=\u001b[0m \u001b[0mself\u001b[0m\u001b[1;33m.\u001b[0m\u001b[0m_reader\u001b[0m\u001b[1;33m.\u001b[0m\u001b[0munnamed_cols\u001b[0m\u001b[1;33m\u001b[0m\u001b[1;33m\u001b[0m\u001b[0m\n\u001b[0;32m   1893\u001b[0m \u001b[1;33m\u001b[0m\u001b[0m\n",
      "\u001b[1;32mpandas\\_libs\\parsers.pyx\u001b[0m in \u001b[0;36mpandas._libs.parsers.TextReader.__cinit__\u001b[1;34m()\u001b[0m\n",
      "\u001b[1;32mpandas\\_libs\\parsers.pyx\u001b[0m in \u001b[0;36mpandas._libs.parsers.TextReader._setup_parser_source\u001b[1;34m()\u001b[0m\n",
      "\u001b[1;31mFileNotFoundError\u001b[0m: [Errno 2] File /womensrace.csv does not exist: '/womensrace.csv'"
     ]
    }
   ],
   "source": [
    "df = pd.read_csv(\"/womensrace.csv\")\n",
    "pd.read_csv('https://raw.githubusercontent.com/skhayden/SMU-Capstone-Age-Bias-in-Predictive-Modeling-/master/WA_Fn-UseC_-HR-Employee-Attrition.csv',low_memory=False)\n",
    "# verify data read in\n",
    "df.tail(100)"
   ]
  },
  {
   "cell_type": "code",
   "execution_count": 41,
   "metadata": {},
   "outputs": [
    {
     "data": {
      "text/html": [
       "<div>\n",
       "<style scoped>\n",
       "    .dataframe tbody tr th:only-of-type {\n",
       "        vertical-align: middle;\n",
       "    }\n",
       "\n",
       "    .dataframe tbody tr th {\n",
       "        vertical-align: top;\n",
       "    }\n",
       "\n",
       "    .dataframe thead th {\n",
       "        text-align: right;\n",
       "    }\n",
       "</style>\n",
       "<table border=\"1\" class=\"dataframe\">\n",
       "  <thead>\n",
       "    <tr style=\"text-align: right;\">\n",
       "      <th></th>\n",
       "      <th>Unnamed: 0</th>\n",
       "      <th>0</th>\n",
       "      <th>year</th>\n",
       "      <th>place</th>\n",
       "      <th>div_total</th>\n",
       "      <th>name</th>\n",
       "      <th>age</th>\n",
       "      <th>hometown</th>\n",
       "      <th>time</th>\n",
       "      <th>pace</th>\n",
       "      <th>numId</th>\n",
       "      <th>guntime</th>\n",
       "      <th>netTime</th>\n",
       "      <th>combtime</th>\n",
       "    </tr>\n",
       "  </thead>\n",
       "  <tbody>\n",
       "    <tr>\n",
       "      <td>0</td>\n",
       "      <td>25</td>\n",
       "      <td>18   17/2902   316 Casey Smith             ...</td>\n",
       "      <td>2004</td>\n",
       "      <td>18</td>\n",
       "      <td>17/2902</td>\n",
       "      <td>Casey Smith</td>\n",
       "      <td>24</td>\n",
       "      <td>Arlington VA</td>\n",
       "      <td>NaN</td>\n",
       "      <td>NaN</td>\n",
       "      <td>316</td>\n",
       "      <td>1:00:01</td>\n",
       "      <td>59:57</td>\n",
       "      <td>1:00:01</td>\n",
       "    </tr>\n",
       "    <tr>\n",
       "      <td>1</td>\n",
       "      <td>22</td>\n",
       "      <td>15    11/2781      46 Amanda Trotter       ...</td>\n",
       "      <td>2012</td>\n",
       "      <td>15</td>\n",
       "      <td>11/2781</td>\n",
       "      <td>Amanda Trotter</td>\n",
       "      <td>26</td>\n",
       "      <td>Arlington VA</td>\n",
       "      <td>NaN</td>\n",
       "      <td>6:01</td>\n",
       "      <td>46</td>\n",
       "      <td>1:00:01</td>\n",
       "      <td>NaN</td>\n",
       "      <td>1:00:01</td>\n",
       "    </tr>\n",
       "    <tr>\n",
       "      <td>2</td>\n",
       "      <td>17</td>\n",
       "      <td>10     2/1265     157 Kara Waters          ...</td>\n",
       "      <td>2011</td>\n",
       "      <td>10</td>\n",
       "      <td>2/1265</td>\n",
       "      <td>Kara Waters</td>\n",
       "      <td>36</td>\n",
       "      <td>Ellicott City MD</td>\n",
       "      <td>NaN</td>\n",
       "      <td>6:01</td>\n",
       "      <td>157</td>\n",
       "      <td>1:00:03</td>\n",
       "      <td>1:00:03</td>\n",
       "      <td>1:00:03</td>\n",
       "    </tr>\n",
       "    <tr>\n",
       "      <td>3</td>\n",
       "      <td>23</td>\n",
       "      <td>16    12/2781   24385 Kaitlin Koplin       ...</td>\n",
       "      <td>2012</td>\n",
       "      <td>16</td>\n",
       "      <td>12/2781</td>\n",
       "      <td>Kaitlin Koplin</td>\n",
       "      <td>27</td>\n",
       "      <td>Washington DC</td>\n",
       "      <td>NaN</td>\n",
       "      <td>6:01</td>\n",
       "      <td>24385</td>\n",
       "      <td>1:00:05</td>\n",
       "      <td>NaN</td>\n",
       "      <td>1:00:05</td>\n",
       "    </tr>\n",
       "    <tr>\n",
       "      <td>4</td>\n",
       "      <td>25</td>\n",
       "      <td>19     6/1659      32 Veena Reddy          ...</td>\n",
       "      <td>2007</td>\n",
       "      <td>19</td>\n",
       "      <td>6/1659</td>\n",
       "      <td>Veena Reddy</td>\n",
       "      <td>28</td>\n",
       "      <td>Philadelphia PA</td>\n",
       "      <td>NaN</td>\n",
       "      <td>6:01</td>\n",
       "      <td>32</td>\n",
       "      <td>1:00:06</td>\n",
       "      <td>NaN</td>\n",
       "      <td>1:00:06</td>\n",
       "    </tr>\n",
       "    <tr>\n",
       "      <td>...</td>\n",
       "      <td>...</td>\n",
       "      <td>...</td>\n",
       "      <td>...</td>\n",
       "      <td>...</td>\n",
       "      <td>...</td>\n",
       "      <td>...</td>\n",
       "      <td>...</td>\n",
       "      <td>...</td>\n",
       "      <td>...</td>\n",
       "      <td>...</td>\n",
       "      <td>...</td>\n",
       "      <td>...</td>\n",
       "      <td>...</td>\n",
       "      <td>...</td>\n",
       "    </tr>\n",
       "    <tr>\n",
       "      <td>95</td>\n",
       "      <td>29</td>\n",
       "      <td>27   23/1683 Christina Heming      34 Shore...</td>\n",
       "      <td>1999</td>\n",
       "      <td>27</td>\n",
       "      <td>23/1683</td>\n",
       "      <td>Christina Heming</td>\n",
       "      <td>34</td>\n",
       "      <td>Shorewood WI</td>\n",
       "      <td>1:02:12</td>\n",
       "      <td>6:14</td>\n",
       "      <td>NaN</td>\n",
       "      <td>NaN</td>\n",
       "      <td>NaN</td>\n",
       "      <td>1:02:12</td>\n",
       "    </tr>\n",
       "    <tr>\n",
       "      <td>96</td>\n",
       "      <td>27</td>\n",
       "      <td>25  6074 Lorraine JASPER       39 Birchrunv...</td>\n",
       "      <td>2001</td>\n",
       "      <td>25</td>\n",
       "      <td>NaN</td>\n",
       "      <td>Lorraine JASPER</td>\n",
       "      <td>39</td>\n",
       "      <td>Birchrunville PA</td>\n",
       "      <td>NaN</td>\n",
       "      <td>NaN</td>\n",
       "      <td>6074</td>\n",
       "      <td>1:02:12</td>\n",
       "      <td>1:03:45</td>\n",
       "      <td>1:02:12</td>\n",
       "    </tr>\n",
       "    <tr>\n",
       "      <td>97</td>\n",
       "      <td>38</td>\n",
       "      <td>31    18/2781     173 Wendi Robinson       ...</td>\n",
       "      <td>2012</td>\n",
       "      <td>31</td>\n",
       "      <td>18/2781</td>\n",
       "      <td>Wendi Robinson</td>\n",
       "      <td>25</td>\n",
       "      <td>Washington DC</td>\n",
       "      <td>NaN</td>\n",
       "      <td>6:14</td>\n",
       "      <td>173</td>\n",
       "      <td>1:02:12</td>\n",
       "      <td>NaN</td>\n",
       "      <td>1:02:12</td>\n",
       "    </tr>\n",
       "    <tr>\n",
       "      <td>98</td>\n",
       "      <td>30</td>\n",
       "      <td>23  22/4069     28 Elida Xuya             2...</td>\n",
       "      <td>2006</td>\n",
       "      <td>23</td>\n",
       "      <td>22/4069</td>\n",
       "      <td>Elida Xuya</td>\n",
       "      <td>25</td>\n",
       "      <td>uatemala</td>\n",
       "      <td>NaN</td>\n",
       "      <td>6:14</td>\n",
       "      <td>28</td>\n",
       "      <td>1:02:15</td>\n",
       "      <td>1:02:15</td>\n",
       "      <td>1:02:15</td>\n",
       "    </tr>\n",
       "    <tr>\n",
       "      <td>99</td>\n",
       "      <td>30</td>\n",
       "      <td>28   24/1683 Patty Fulton          33 Silve...</td>\n",
       "      <td>1999</td>\n",
       "      <td>28</td>\n",
       "      <td>24/1683</td>\n",
       "      <td>Patty Fulton</td>\n",
       "      <td>33</td>\n",
       "      <td>Silver Spring MD</td>\n",
       "      <td>1:02:16</td>\n",
       "      <td>6:14</td>\n",
       "      <td>NaN</td>\n",
       "      <td>NaN</td>\n",
       "      <td>NaN</td>\n",
       "      <td>1:02:16</td>\n",
       "    </tr>\n",
       "  </tbody>\n",
       "</table>\n",
       "<p>100 rows × 14 columns</p>\n",
       "</div>"
      ],
      "text/plain": [
       "    Unnamed: 0                                                  0  year  \\\n",
       "0           25     18   17/2902   316 Casey Smith             ...  2004   \n",
       "1           22     15    11/2781      46 Amanda Trotter       ...  2012   \n",
       "2           17     10     2/1265     157 Kara Waters          ...  2011   \n",
       "3           23     16    12/2781   24385 Kaitlin Koplin       ...  2012   \n",
       "4           25     19     6/1659      32 Veena Reddy          ...  2007   \n",
       "..         ...                                                ...   ...   \n",
       "95          29     27   23/1683 Christina Heming      34 Shore...  1999   \n",
       "96          27     25  6074 Lorraine JASPER       39 Birchrunv...  2001   \n",
       "97          38     31    18/2781     173 Wendi Robinson       ...  2012   \n",
       "98          30     23  22/4069     28 Elida Xuya             2...  2006   \n",
       "99          30     28   24/1683 Patty Fulton          33 Silve...  1999   \n",
       "\n",
       "    place    div_total                             name age  \\\n",
       "0      18      17/2902   Casey Smith                     24   \n",
       "1      15     11/2781           Amanda Trotter           26   \n",
       "2      10      2/1265           Kara Waters              36   \n",
       "3      16     12/2781           Kaitlin Koplin           27   \n",
       "4      19      6/1659           Veena Reddy              28   \n",
       "..    ...          ...                              ...  ..   \n",
       "95     27      23/1683            Christina Heming       34   \n",
       "96     25          NaN            Lorraine JASPER        39   \n",
       "97     31     18/2781           Wendi Robinson           25   \n",
       "98     23     22/4069           Elida Xuya               25   \n",
       "99     28      24/1683            Patty Fulton           33   \n",
       "\n",
       "                 hometown     time  pace  numId  guntime  netTime combtime  \n",
       "0     Arlington VA             NaN   NaN    316  1:00:01    59:57  1:00:01  \n",
       "1   Arlington VA               NaN  6:01     46  1:00:01      NaN  1:00:01  \n",
       "2   Ellicott City MD           NaN  6:01    157  1:00:03  1:00:03  1:00:03  \n",
       "3   Washington DC              NaN  6:01  24385  1:00:05      NaN  1:00:05  \n",
       "4     Philadelphia PA          NaN  6:01     32  1:00:06      NaN  1:00:06  \n",
       "..                    ...      ...   ...    ...      ...      ...      ...  \n",
       "95     Shorewood WI        1:02:12  6:14    NaN      NaN      NaN  1:02:12  \n",
       "96     Birchrunville PA        NaN   NaN   6074  1:02:12  1:03:45  1:02:12  \n",
       "97  Washington DC              NaN  6:14    173  1:02:12      NaN  1:02:12  \n",
       "98        uatemala             NaN  6:14     28  1:02:15  1:02:15  1:02:15  \n",
       "99     Silver Spring MD    1:02:16  6:14    NaN      NaN      NaN  1:02:16  \n",
       "\n",
       "[100 rows x 14 columns]"
      ]
     },
     "execution_count": 41,
     "metadata": {},
     "output_type": "execute_result"
    }
   ],
   "source": [
    "df.head(100)"
   ]
  },
  {
   "cell_type": "code",
   "execution_count": 3,
   "metadata": {},
   "outputs": [
    {
     "name": "stdout",
     "output_type": "stream",
     "text": [
      "<class 'pandas.core.frame.DataFrame'>\n",
      "RangeIndex: 76161 entries, 0 to 76160\n",
      "Data columns (total 14 columns):\n",
      "Unnamed: 0    76161 non-null int64\n",
      "0             76161 non-null object\n",
      "year          76161 non-null int64\n",
      "place         76161 non-null int64\n",
      "div_total     69855 non-null object\n",
      "name          76161 non-null object\n",
      "age           76137 non-null object\n",
      "hometown      76161 non-null object\n",
      "time          4712 non-null object\n",
      "pace          58081 non-null object\n",
      "numId         71449 non-null object\n",
      "guntime       71449 non-null object\n",
      "netTime       49721 non-null object\n",
      "combtime      76161 non-null object\n",
      "dtypes: int64(3), object(11)\n",
      "memory usage: 8.1+ MB\n"
     ]
    }
   ],
   "source": [
    "df.info()"
   ]
  },
  {
   "cell_type": "code",
   "execution_count": 4,
   "metadata": {},
   "outputs": [
    {
     "data": {
      "text/plain": [
       "Unnamed: 0     int64\n",
       "0             object\n",
       "year           int64\n",
       "place          int64\n",
       "div_total     object\n",
       "name          object\n",
       "age           object\n",
       "hometown      object\n",
       "time          object\n",
       "pace          object\n",
       "numId         object\n",
       "guntime       object\n",
       "netTime       object\n",
       "combtime      object\n",
       "dtype: object"
      ]
     },
     "execution_count": 4,
     "metadata": {},
     "output_type": "execute_result"
    }
   ],
   "source": [
    "df.dtypes"
   ]
  },
  {
   "cell_type": "code",
   "execution_count": 43,
   "metadata": {},
   "outputs": [],
   "source": [
    "df['time_length'] = df['combtime'].apply(len)"
   ]
  },
  {
   "cell_type": "code",
   "execution_count": 111,
   "metadata": {},
   "outputs": [
    {
     "data": {
      "text/html": [
       "<div>\n",
       "<style scoped>\n",
       "    .dataframe tbody tr th:only-of-type {\n",
       "        vertical-align: middle;\n",
       "    }\n",
       "\n",
       "    .dataframe tbody tr th {\n",
       "        vertical-align: top;\n",
       "    }\n",
       "\n",
       "    .dataframe thead th {\n",
       "        text-align: right;\n",
       "    }\n",
       "</style>\n",
       "<table border=\"1\" class=\"dataframe\">\n",
       "  <thead>\n",
       "    <tr style=\"text-align: right;\">\n",
       "      <th></th>\n",
       "      <th>Unnamed: 0</th>\n",
       "      <th>0</th>\n",
       "      <th>year</th>\n",
       "      <th>place</th>\n",
       "      <th>div_total</th>\n",
       "      <th>name</th>\n",
       "      <th>age</th>\n",
       "      <th>hometown</th>\n",
       "      <th>time</th>\n",
       "      <th>pace</th>\n",
       "      <th>...</th>\n",
       "      <th>time_length</th>\n",
       "      <th>fcobmine</th>\n",
       "      <th>finaltime</th>\n",
       "      <th>agenum</th>\n",
       "      <th>tothurs</th>\n",
       "      <th>tothours</th>\n",
       "      <th>hour</th>\n",
       "      <th>minutes</th>\n",
       "      <th>seconds</th>\n",
       "      <th>dursecs</th>\n",
       "    </tr>\n",
       "  </thead>\n",
       "  <tbody>\n",
       "    <tr>\n",
       "      <td>76155</td>\n",
       "      <td>23</td>\n",
       "      <td>16  15/4069    204 Sharon Lemberger       3...</td>\n",
       "      <td>2006</td>\n",
       "      <td>16</td>\n",
       "      <td>15/4069</td>\n",
       "      <td>Sharon Lemberger</td>\n",
       "      <td>32</td>\n",
       "      <td>tamford</td>\n",
       "      <td>NaN</td>\n",
       "      <td>5:59</td>\n",
       "      <td>...</td>\n",
       "      <td>5</td>\n",
       "      <td>00:59:51</td>\n",
       "      <td>1900-01-01 00:59:51</td>\n",
       "      <td>32.0</td>\n",
       "      <td>NaN</td>\n",
       "      <td>0        01:00:01\\n1        01:00:01\\n2       ...</td>\n",
       "      <td>00</td>\n",
       "      <td>59</td>\n",
       "      <td>51</td>\n",
       "      <td>3591</td>\n",
       "    </tr>\n",
       "    <tr>\n",
       "      <td>76156</td>\n",
       "      <td>16</td>\n",
       "      <td>9     3/2706     167 Katie Howery         ...</td>\n",
       "      <td>2011</td>\n",
       "      <td>9</td>\n",
       "      <td>3/2706</td>\n",
       "      <td>Katie Howery</td>\n",
       "      <td>25</td>\n",
       "      <td>Verona WI</td>\n",
       "      <td>NaN</td>\n",
       "      <td>6:00</td>\n",
       "      <td>...</td>\n",
       "      <td>5</td>\n",
       "      <td>00:59:52</td>\n",
       "      <td>1900-01-01 00:59:52</td>\n",
       "      <td>25.0</td>\n",
       "      <td>NaN</td>\n",
       "      <td>0        01:00:01\\n1        01:00:01\\n2       ...</td>\n",
       "      <td>00</td>\n",
       "      <td>59</td>\n",
       "      <td>52</td>\n",
       "      <td>3592</td>\n",
       "    </tr>\n",
       "    <tr>\n",
       "      <td>76157</td>\n",
       "      <td>18</td>\n",
       "      <td>16   16/2510  6091  Michelle Pomfrey       ...</td>\n",
       "      <td>2003</td>\n",
       "      <td>16</td>\n",
       "      <td>16/2510</td>\n",
       "      <td>Michelle Pomfrey</td>\n",
       "      <td>30</td>\n",
       "      <td>Lakewood OH</td>\n",
       "      <td>NaN</td>\n",
       "      <td>NaN</td>\n",
       "      <td>...</td>\n",
       "      <td>5</td>\n",
       "      <td>00:59:58</td>\n",
       "      <td>1900-01-01 00:59:58</td>\n",
       "      <td>30.0</td>\n",
       "      <td>NaN</td>\n",
       "      <td>0        01:00:01\\n1        01:00:01\\n2       ...</td>\n",
       "      <td>00</td>\n",
       "      <td>59</td>\n",
       "      <td>58</td>\n",
       "      <td>3598</td>\n",
       "    </tr>\n",
       "    <tr>\n",
       "      <td>76158</td>\n",
       "      <td>19</td>\n",
       "      <td>17   17/2510  6089  Sunny Newsome          ...</td>\n",
       "      <td>2003</td>\n",
       "      <td>17</td>\n",
       "      <td>17/2510</td>\n",
       "      <td>Sunny Newsome</td>\n",
       "      <td>26</td>\n",
       "      <td>Arlington VA</td>\n",
       "      <td>NaN</td>\n",
       "      <td>NaN</td>\n",
       "      <td>...</td>\n",
       "      <td>5</td>\n",
       "      <td>00:59:59</td>\n",
       "      <td>1900-01-01 00:59:59</td>\n",
       "      <td>26.0</td>\n",
       "      <td>NaN</td>\n",
       "      <td>0        01:00:01\\n1        01:00:01\\n2       ...</td>\n",
       "      <td>00</td>\n",
       "      <td>59</td>\n",
       "      <td>59</td>\n",
       "      <td>3599</td>\n",
       "    </tr>\n",
       "    <tr>\n",
       "      <td>76159</td>\n",
       "      <td>21</td>\n",
       "      <td>14    10/2781     193 Dalena Custer        ...</td>\n",
       "      <td>2012</td>\n",
       "      <td>14</td>\n",
       "      <td>10/2781</td>\n",
       "      <td>Dalena Custer</td>\n",
       "      <td>29</td>\n",
       "      <td>Charlotte NC</td>\n",
       "      <td>NaN</td>\n",
       "      <td>6:00</td>\n",
       "      <td>...</td>\n",
       "      <td>5</td>\n",
       "      <td>00:59:59</td>\n",
       "      <td>1900-01-01 00:59:59</td>\n",
       "      <td>29.0</td>\n",
       "      <td>NaN</td>\n",
       "      <td>0        01:00:01\\n1        01:00:01\\n2       ...</td>\n",
       "      <td>00</td>\n",
       "      <td>59</td>\n",
       "      <td>59</td>\n",
       "      <td>3599</td>\n",
       "    </tr>\n",
       "  </tbody>\n",
       "</table>\n",
       "<p>5 rows × 24 columns</p>\n",
       "</div>"
      ],
      "text/plain": [
       "       Unnamed: 0                                                  0  year  \\\n",
       "76155          23     16  15/4069    204 Sharon Lemberger       3...  2006   \n",
       "76156          16      9     3/2706     167 Katie Howery         ...  2011   \n",
       "76157          18     16   16/2510  6091  Michelle Pomfrey       ...  2003   \n",
       "76158          19     17   17/2510  6089  Sunny Newsome          ...  2003   \n",
       "76159          21     14    10/2781     193 Dalena Custer        ...  2012   \n",
       "\n",
       "       place    div_total                             name age  \\\n",
       "76155     16     15/4069           Sharon Lemberger         32   \n",
       "76156      9      3/2706           Katie Howery             25   \n",
       "76157     16      16/2510   Michelle Pomfrey                30   \n",
       "76158     17      17/2510   Sunny Newsome                   26   \n",
       "76159     14     10/2781           Dalena Custer            29   \n",
       "\n",
       "                    hometown time  pace  ... time_length  fcobmine  \\\n",
       "76155        tamford          NaN  5:59  ...           5  00:59:51   \n",
       "76156  Verona WI              NaN  6:00  ...           5  00:59:52   \n",
       "76157    Lakewood OH          NaN   NaN  ...           5  00:59:58   \n",
       "76158    Arlington VA         NaN   NaN  ...           5  00:59:59   \n",
       "76159  Charlotte NC           NaN  6:00  ...           5  00:59:59   \n",
       "\n",
       "                finaltime agenum  tothurs  \\\n",
       "76155 1900-01-01 00:59:51   32.0      NaN   \n",
       "76156 1900-01-01 00:59:52   25.0      NaN   \n",
       "76157 1900-01-01 00:59:58   30.0      NaN   \n",
       "76158 1900-01-01 00:59:59   26.0      NaN   \n",
       "76159 1900-01-01 00:59:59   29.0      NaN   \n",
       "\n",
       "                                                tothours hour  minutes  \\\n",
       "76155  0        01:00:01\\n1        01:00:01\\n2       ...   00       59   \n",
       "76156  0        01:00:01\\n1        01:00:01\\n2       ...   00       59   \n",
       "76157  0        01:00:01\\n1        01:00:01\\n2       ...   00       59   \n",
       "76158  0        01:00:01\\n1        01:00:01\\n2       ...   00       59   \n",
       "76159  0        01:00:01\\n1        01:00:01\\n2       ...   00       59   \n",
       "\n",
       "      seconds dursecs  \n",
       "76155      51    3591  \n",
       "76156      52    3592  \n",
       "76157      58    3598  \n",
       "76158      59    3599  \n",
       "76159      59    3599  \n",
       "\n",
       "[5 rows x 24 columns]"
      ]
     },
     "execution_count": 111,
     "metadata": {},
     "output_type": "execute_result"
    }
   ],
   "source": [
    "df.tail()"
   ]
  },
  {
   "cell_type": "code",
   "execution_count": 122,
   "metadata": {},
   "outputs": [
    {
     "data": {
      "text/html": [
       "<div>\n",
       "<style scoped>\n",
       "    .dataframe tbody tr th:only-of-type {\n",
       "        vertical-align: middle;\n",
       "    }\n",
       "\n",
       "    .dataframe tbody tr th {\n",
       "        vertical-align: top;\n",
       "    }\n",
       "\n",
       "    .dataframe thead th {\n",
       "        text-align: right;\n",
       "    }\n",
       "</style>\n",
       "<table border=\"1\" class=\"dataframe\">\n",
       "  <thead>\n",
       "    <tr style=\"text-align: right;\">\n",
       "      <th></th>\n",
       "      <th>Unnamed: 0</th>\n",
       "      <th>0</th>\n",
       "      <th>year</th>\n",
       "      <th>place</th>\n",
       "      <th>div_total</th>\n",
       "      <th>name</th>\n",
       "      <th>age</th>\n",
       "      <th>hometown</th>\n",
       "      <th>time</th>\n",
       "      <th>pace</th>\n",
       "      <th>...</th>\n",
       "      <th>finaltime</th>\n",
       "      <th>agenum</th>\n",
       "      <th>tothurs</th>\n",
       "      <th>tothours</th>\n",
       "      <th>hour</th>\n",
       "      <th>minutes</th>\n",
       "      <th>seconds</th>\n",
       "      <th>dursecs</th>\n",
       "      <th>avgmile</th>\n",
       "      <th>agebinned</th>\n",
       "    </tr>\n",
       "  </thead>\n",
       "  <tbody>\n",
       "    <tr>\n",
       "      <td>0</td>\n",
       "      <td>25</td>\n",
       "      <td>18   17/2902   316 Casey Smith             ...</td>\n",
       "      <td>2004</td>\n",
       "      <td>18</td>\n",
       "      <td>17/2902</td>\n",
       "      <td>Casey Smith</td>\n",
       "      <td>24</td>\n",
       "      <td>Arlington VA</td>\n",
       "      <td>NaN</td>\n",
       "      <td>NaN</td>\n",
       "      <td>...</td>\n",
       "      <td>1900-01-01 01:00:01</td>\n",
       "      <td>24.0</td>\n",
       "      <td>01:00:01</td>\n",
       "      <td>0        01:00:01\\n1        01:00:01\\n2       ...</td>\n",
       "      <td>01</td>\n",
       "      <td>00</td>\n",
       "      <td>01</td>\n",
       "      <td>3601</td>\n",
       "      <td>360.1</td>\n",
       "      <td>(19, 24]</td>\n",
       "    </tr>\n",
       "    <tr>\n",
       "      <td>1</td>\n",
       "      <td>22</td>\n",
       "      <td>15    11/2781      46 Amanda Trotter       ...</td>\n",
       "      <td>2012</td>\n",
       "      <td>15</td>\n",
       "      <td>11/2781</td>\n",
       "      <td>Amanda Trotter</td>\n",
       "      <td>26</td>\n",
       "      <td>Arlington VA</td>\n",
       "      <td>NaN</td>\n",
       "      <td>6:01</td>\n",
       "      <td>...</td>\n",
       "      <td>1900-01-01 01:00:01</td>\n",
       "      <td>26.0</td>\n",
       "      <td>NaN</td>\n",
       "      <td>0        01:00:01\\n1        01:00:01\\n2       ...</td>\n",
       "      <td>01</td>\n",
       "      <td>00</td>\n",
       "      <td>01</td>\n",
       "      <td>3601</td>\n",
       "      <td>360.1</td>\n",
       "      <td>(24, 29]</td>\n",
       "    </tr>\n",
       "    <tr>\n",
       "      <td>2</td>\n",
       "      <td>17</td>\n",
       "      <td>10     2/1265     157 Kara Waters          ...</td>\n",
       "      <td>2011</td>\n",
       "      <td>10</td>\n",
       "      <td>2/1265</td>\n",
       "      <td>Kara Waters</td>\n",
       "      <td>36</td>\n",
       "      <td>Ellicott City MD</td>\n",
       "      <td>NaN</td>\n",
       "      <td>6:01</td>\n",
       "      <td>...</td>\n",
       "      <td>1900-01-01 01:00:03</td>\n",
       "      <td>36.0</td>\n",
       "      <td>NaN</td>\n",
       "      <td>0        01:00:01\\n1        01:00:01\\n2       ...</td>\n",
       "      <td>01</td>\n",
       "      <td>00</td>\n",
       "      <td>03</td>\n",
       "      <td>3603</td>\n",
       "      <td>360.3</td>\n",
       "      <td>(34, 39]</td>\n",
       "    </tr>\n",
       "    <tr>\n",
       "      <td>3</td>\n",
       "      <td>23</td>\n",
       "      <td>16    12/2781   24385 Kaitlin Koplin       ...</td>\n",
       "      <td>2012</td>\n",
       "      <td>16</td>\n",
       "      <td>12/2781</td>\n",
       "      <td>Kaitlin Koplin</td>\n",
       "      <td>27</td>\n",
       "      <td>Washington DC</td>\n",
       "      <td>NaN</td>\n",
       "      <td>6:01</td>\n",
       "      <td>...</td>\n",
       "      <td>1900-01-01 01:00:05</td>\n",
       "      <td>27.0</td>\n",
       "      <td>NaN</td>\n",
       "      <td>0        01:00:01\\n1        01:00:01\\n2       ...</td>\n",
       "      <td>01</td>\n",
       "      <td>00</td>\n",
       "      <td>05</td>\n",
       "      <td>3605</td>\n",
       "      <td>360.5</td>\n",
       "      <td>(24, 29]</td>\n",
       "    </tr>\n",
       "    <tr>\n",
       "      <td>4</td>\n",
       "      <td>25</td>\n",
       "      <td>19     6/1659      32 Veena Reddy          ...</td>\n",
       "      <td>2007</td>\n",
       "      <td>19</td>\n",
       "      <td>6/1659</td>\n",
       "      <td>Veena Reddy</td>\n",
       "      <td>28</td>\n",
       "      <td>Philadelphia PA</td>\n",
       "      <td>NaN</td>\n",
       "      <td>6:01</td>\n",
       "      <td>...</td>\n",
       "      <td>1900-01-01 01:00:06</td>\n",
       "      <td>28.0</td>\n",
       "      <td>NaN</td>\n",
       "      <td>0        01:00:01\\n1        01:00:01\\n2       ...</td>\n",
       "      <td>01</td>\n",
       "      <td>00</td>\n",
       "      <td>06</td>\n",
       "      <td>3606</td>\n",
       "      <td>360.6</td>\n",
       "      <td>(24, 29]</td>\n",
       "    </tr>\n",
       "  </tbody>\n",
       "</table>\n",
       "<p>5 rows × 26 columns</p>\n",
       "</div>"
      ],
      "text/plain": [
       "   Unnamed: 0                                                  0  year  place  \\\n",
       "0          25     18   17/2902   316 Casey Smith             ...  2004     18   \n",
       "1          22     15    11/2781      46 Amanda Trotter       ...  2012     15   \n",
       "2          17     10     2/1265     157 Kara Waters          ...  2011     10   \n",
       "3          23     16    12/2781   24385 Kaitlin Koplin       ...  2012     16   \n",
       "4          25     19     6/1659      32 Veena Reddy          ...  2007     19   \n",
       "\n",
       "     div_total                             name age               hometown  \\\n",
       "0      17/2902   Casey Smith                     24    Arlington VA          \n",
       "1     11/2781           Amanda Trotter           26  Arlington VA            \n",
       "2      2/1265           Kara Waters              36  Ellicott City MD        \n",
       "3     12/2781           Kaitlin Koplin           27  Washington DC           \n",
       "4      6/1659           Veena Reddy              28    Philadelphia PA       \n",
       "\n",
       "  time  pace  ...           finaltime agenum   tothurs  \\\n",
       "0  NaN   NaN  ... 1900-01-01 01:00:01   24.0  01:00:01   \n",
       "1  NaN  6:01  ... 1900-01-01 01:00:01   26.0       NaN   \n",
       "2  NaN  6:01  ... 1900-01-01 01:00:03   36.0       NaN   \n",
       "3  NaN  6:01  ... 1900-01-01 01:00:05   27.0       NaN   \n",
       "4  NaN  6:01  ... 1900-01-01 01:00:06   28.0       NaN   \n",
       "\n",
       "                                            tothours  hour minutes seconds  \\\n",
       "0  0        01:00:01\\n1        01:00:01\\n2       ...    01      00      01   \n",
       "1  0        01:00:01\\n1        01:00:01\\n2       ...    01      00      01   \n",
       "2  0        01:00:01\\n1        01:00:01\\n2       ...    01      00      03   \n",
       "3  0        01:00:01\\n1        01:00:01\\n2       ...    01      00      05   \n",
       "4  0        01:00:01\\n1        01:00:01\\n2       ...    01      00      06   \n",
       "\n",
       "   dursecs avgmile agebinned  \n",
       "0     3601   360.1  (19, 24]  \n",
       "1     3601   360.1  (24, 29]  \n",
       "2     3603   360.3  (34, 39]  \n",
       "3     3605   360.5  (24, 29]  \n",
       "4     3606   360.6  (24, 29]  \n",
       "\n",
       "[5 rows x 26 columns]"
      ]
     },
     "execution_count": 122,
     "metadata": {},
     "output_type": "execute_result"
    }
   ],
   "source": [
    "df.head()"
   ]
  },
  {
   "cell_type": "code",
   "execution_count": 49,
   "metadata": {},
   "outputs": [],
   "source": [
    "df.loc[df.time_length == 5, 'fcobmine'] = \"00:\" + df['combtime']\n",
    "df.loc[df.time_length == 7, 'fcobmine'] =  df['combtime']"
   ]
  },
  {
   "cell_type": "code",
   "execution_count": 96,
   "metadata": {},
   "outputs": [],
   "source": [
    "df['finaltime'] = pd.to_datetime(df['fcobmine'], format='%H:%M:%S')"
   ]
  },
  {
   "cell_type": "code",
   "execution_count": 108,
   "metadata": {},
   "outputs": [],
   "source": [
    "df = df.dropna(subset=['fcobmine'])"
   ]
  },
  {
   "cell_type": "code",
   "execution_count": 109,
   "metadata": {},
   "outputs": [
    {
     "name": "stderr",
     "output_type": "stream",
     "text": [
      "/home/jjschued/anaconda3/lib/python3.7/site-packages/ipykernel_launcher.py:1: SettingWithCopyWarning: \n",
      "A value is trying to be set on a copy of a slice from a DataFrame.\n",
      "Try using .loc[row_indexer,col_indexer] = value instead\n",
      "\n",
      "See the caveats in the documentation: http://pandas.pydata.org/pandas-docs/stable/user_guide/indexing.html#returning-a-view-versus-a-copy\n",
      "  \"\"\"Entry point for launching an IPython kernel.\n",
      "/home/jjschued/anaconda3/lib/python3.7/site-packages/ipykernel_launcher.py:2: SettingWithCopyWarning: \n",
      "A value is trying to be set on a copy of a slice from a DataFrame.\n",
      "Try using .loc[row_indexer,col_indexer] = value instead\n",
      "\n",
      "See the caveats in the documentation: http://pandas.pydata.org/pandas-docs/stable/user_guide/indexing.html#returning-a-view-versus-a-copy\n",
      "  \n",
      "/home/jjschued/anaconda3/lib/python3.7/site-packages/ipykernel_launcher.py:3: SettingWithCopyWarning: \n",
      "A value is trying to be set on a copy of a slice from a DataFrame.\n",
      "Try using .loc[row_indexer,col_indexer] = value instead\n",
      "\n",
      "See the caveats in the documentation: http://pandas.pydata.org/pandas-docs/stable/user_guide/indexing.html#returning-a-view-versus-a-copy\n",
      "  This is separate from the ipykernel package so we can avoid doing imports until\n",
      "/home/jjschued/anaconda3/lib/python3.7/site-packages/ipykernel_launcher.py:5: SettingWithCopyWarning: \n",
      "A value is trying to be set on a copy of a slice from a DataFrame.\n",
      "Try using .loc[row_indexer,col_indexer] = value instead\n",
      "\n",
      "See the caveats in the documentation: http://pandas.pydata.org/pandas-docs/stable/user_guide/indexing.html#returning-a-view-versus-a-copy\n",
      "  \"\"\"\n"
     ]
    }
   ],
   "source": [
    "df['hour'] = df['finaltime'].dt.strftime(\"%H\")\n",
    "df['minutes'] = df['finaltime'].dt.strftime(\"%M\")\n",
    "df['seconds'] = df['finaltime'].dt.strftime(\"%S\")\n",
    "\n",
    "df['dursecs'] = pd.to_numeric(df['hour']) * 3600 + pd.to_numeric(df['minutes']) * 60 + pd.to_numeric(df['seconds'])"
   ]
  },
  {
   "cell_type": "code",
   "execution_count": 62,
   "metadata": {},
   "outputs": [],
   "source": [
    "df['agenum'] =df['age'].str.replace(r\"[a-zA-Z]\",'')\n",
    "df['agenum'] = pd.to_numeric(df['agenum'])"
   ]
  },
  {
   "cell_type": "code",
   "execution_count": 63,
   "metadata": {},
   "outputs": [
    {
     "data": {
      "text/plain": [
       "<matplotlib.axes._subplots.AxesSubplot at 0x7f93c01a5dd0>"
      ]
     },
     "execution_count": 63,
     "metadata": {},
     "output_type": "execute_result"
    },
    {
     "data": {
      "image/png": "[encoded data removed]",
      "text/plain": [
       "<Figure size 1008x504 with 1 Axes>"
      ]
     },
     "metadata": {
      "needs_background": "light"
     },
     "output_type": "display_data"
    }
   ],
   "source": [
    "# display boxplot of cost_per_liter grouped by liquor_category\n",
    "bx = df.boxplot(column = 'agenum', by = 'year', figsize=(14,7))\n",
    "plt.xticks(rotation=45)\n",
    "bx"
   ]
  },
  {
   "cell_type": "code",
   "execution_count": 97,
   "metadata": {},
   "outputs": [
    {
     "data": {
      "text/plain": [
       "Unnamed: 0              int64\n",
       "0                      object\n",
       "year                    int64\n",
       "place                   int64\n",
       "div_total              object\n",
       "name                   object\n",
       "age                    object\n",
       "hometown               object\n",
       "time                   object\n",
       "pace                   object\n",
       "numId                  object\n",
       "guntime                object\n",
       "netTime                object\n",
       "combtime               object\n",
       "time_length             int64\n",
       "fcobmine               object\n",
       "finaltime      datetime64[ns]\n",
       "agenum                float64\n",
       "tothurs                object\n",
       "tothours               object\n",
       "dtype: object"
      ]
     },
     "execution_count": 97,
     "metadata": {},
     "output_type": "execute_result"
    }
   ],
   "source": [
    "df.dtypes"
   ]
  },
  {
   "cell_type": "code",
   "execution_count": 112,
   "metadata": {},
   "outputs": [
    {
     "data": {
      "text/plain": [
       "<matplotlib.axes._subplots.AxesSubplot at 0x7f93b5c3cc10>"
      ]
     },
     "execution_count": 112,
     "metadata": {},
     "output_type": "execute_result"
    },
    {
     "data": {
      "image/png": "[encoded data removed]",
      "text/plain": [
       "<Figure size 1008x504 with 1 Axes>"
      ]
     },
     "metadata": {
      "needs_background": "light"
     },
     "output_type": "display_data"
    }
   ],
   "source": [
    "bx = df.boxplot(column = 'dursecs', by = 'year', figsize=(14,7))\n",
    "plt.xticks(rotation=45)\n",
    "bx"
   ]
  },
  {
   "cell_type": "code",
   "execution_count": 114,
   "metadata": {},
   "outputs": [
    {
     "name": "stderr",
     "output_type": "stream",
     "text": [
      "/home/jjschued/anaconda3/lib/python3.7/site-packages/ipykernel_launcher.py:1: SettingWithCopyWarning: \n",
      "A value is trying to be set on a copy of a slice from a DataFrame.\n",
      "Try using .loc[row_indexer,col_indexer] = value instead\n",
      "\n",
      "See the caveats in the documentation: http://pandas.pydata.org/pandas-docs/stable/user_guide/indexing.html#returning-a-view-versus-a-copy\n",
      "  \"\"\"Entry point for launching an IPython kernel.\n"
     ]
    }
   ],
   "source": [
    "df['avgmile'] = df['dursecs'] / 10 "
   ]
  },
  {
   "cell_type": "code",
   "execution_count": 115,
   "metadata": {},
   "outputs": [
    {
     "data": {
      "text/plain": [
       "<matplotlib.axes._subplots.AxesSubplot at 0x7f93b42b4f50>"
      ]
     },
     "execution_count": 115,
     "metadata": {},
     "output_type": "execute_result"
    },
    {
     "data": {
      "image/png": "[encoded data removed]",
      "text/plain": [
       "<Figure size 1008x504 with 1 Axes>"
      ]
     },
     "metadata": {
      "needs_background": "light"
     },
     "output_type": "display_data"
    }
   ],
   "source": [
    "bx = df.boxplot(column = 'avgmile', by = 'year', figsize=(14,7))\n",
    "plt.xticks(rotation=45)\n",
    "bx"
   ]
  },
  {
   "cell_type": "code",
   "execution_count": 121,
   "metadata": {},
   "outputs": [
    {
     "name": "stderr",
     "output_type": "stream",
     "text": [
      "/home/jjschued/anaconda3/lib/python3.7/site-packages/ipykernel_launcher.py:13: SettingWithCopyWarning: \n",
      "A value is trying to be set on a copy of a slice from a DataFrame.\n",
      "Try using .loc[row_indexer,col_indexer] = value instead\n",
      "\n",
      "See the caveats in the documentation: http://pandas.pydata.org/pandas-docs/stable/user_guide/indexing.html#returning-a-view-versus-a-copy\n",
      "  del sys.path[0]\n"
     ]
    }
   ],
   "source": [
    "bins = [1, 19, 24, 29,\n",
    "34,\n",
    "39,\n",
    "44,\n",
    "49,\n",
    "54,\n",
    "59,\n",
    "64,\n",
    "69,\n",
    "74,\n",
    "79,\n",
    "99]\n",
    "df['agebinned'] = pd.cut(df['agenum'], bins)"
   ]
  },
  {
   "cell_type": "code",
   "execution_count": 123,
   "metadata": {},
   "outputs": [
    {
     "data": {
      "text/plain": [
       "<matplotlib.axes._subplots.AxesSubplot at 0x7f93aeca5e50>"
      ]
     },
     "execution_count": 123,
     "metadata": {},
     "output_type": "execute_result"
    },
    {
     "data": {
      "image/png": "[encoded data removed]",
      "text/plain": [
       "<Figure size 1008x504 with 1 Axes>"
      ]
     },
     "metadata": {
      "needs_background": "light"
     },
     "output_type": "display_data"
    }
   ],
   "source": [
    "bx = df.boxplot(column = 'avgmile', by = 'agebinned', figsize=(14,7))\n",
    "plt.xticks(rotation=45)\n",
    "bx"
   ]
  },
  {
   "cell_type": "code",
   "execution_count": 124,
   "metadata": {},
   "outputs": [
    {
     "data": {
      "text/plain": [
       "<matplotlib.axes._subplots.AxesSubplot at 0x7f93b70cc790>"
      ]
     },
     "execution_count": 124,
     "metadata": {},
     "output_type": "execute_result"
    },
    {
     "data": {
      "image/png": "[encoded data removed]",
      "text/plain": [
       "<Figure size 1008x504 with 1 Axes>"
      ]
     },
     "metadata": {
      "needs_background": "light"
     },
     "output_type": "display_data"
    }
   ],
   "source": [
    "bx = df.boxplot(column = 'dursecs', by = 'agebinned', figsize=(14,7))\n",
    "plt.xticks(rotation=45)\n",
    "bx"
   ]
  },
  {
   "cell_type": "code",
   "execution_count": null,
   "metadata": {},
   "outputs": [],
   "source": []
  }
 ],
 "metadata": {
  "kernelspec": {
   "display_name": "Python 3",
   "language": "python",
   "name": "python3"
  },
  "language_info": {
   "codemirror_mode": {
    "name": "ipython",
    "version": 3
   },
   "file_extension": ".py",
   "mimetype": "text/x-python",
   "name": "python",
   "nbconvert_exporter": "python",
   "pygments_lexer": "ipython3",
   "version": "3.7.1"
  }
 },
 "nbformat": 4,
 "nbformat_minor": 2
}
