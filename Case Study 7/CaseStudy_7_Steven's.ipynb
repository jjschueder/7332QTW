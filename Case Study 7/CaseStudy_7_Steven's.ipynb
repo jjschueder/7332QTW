{
 "cells": [
  {
   "cell_type": "code",
   "execution_count": null,
   "metadata": {},
   "outputs": [],
   "source": [
    "import pandas as pd\n"
   ]
  },
  {
   "cell_type": "code",
   "execution_count": null,
   "metadata": {},
   "outputs": [],
   "source": [
    "\n",
    "#load Data\n",
    "#df = pd.read_csv(r'C:/Users/shayden/Documents/School/7333QTW/Case Study 7/final_project.csv')\n",
    "df = pd.read_csv(r'C:/Users/shayden/OneDrive - T-Mobile USA/school/final_project.csv')\n"
   ]
  },
  {
   "cell_type": "code",
   "execution_count": null,
   "metadata": {},
   "outputs": [],
   "source": [
    "df.head()"
   ]
  },
  {
   "cell_type": "code",
   "execution_count": null,
   "metadata": {},
   "outputs": [],
   "source": [
    "from pandas_profiling import ProfileReport\n",
    "profile = ProfileReport(df, plot={'histogram': {'bins': 8}}, explorative=True)\n",
    "profile.to_notebook_iframe()\n",
    "profile.to_file(\"Interview.html\")"
   ]
  },
  {
   "cell_type": "code",
   "execution_count": null,
   "metadata": {},
   "outputs": [],
   "source": [
    "df.isnull().sum()"
   ]
  },
  {
   "cell_type": "code",
   "execution_count": null,
   "metadata": {},
   "outputs": [],
   "source": [
    "#prepare data set for model\n",
    "Categorical_Columns= list(df.select_dtypes(exclude = 'float64').columns)\n",
    "df['x37']=df['x37'].str.strip('$').astype('float64')\n",
    "df['x32']=df['x32'].str.strip('%').astype('float64')\n",
    "Categorical_Columns= list(df.select_dtypes(exclude = 'float64').columns)\n",
    "########\n",
    "#onehot\n",
    "OneHotdf = pd.get_dummies(df[Categorical_Columns].drop('y',axis=1))\n",
    "df=df.drop(Categorical_Columns,axis=1)\n",
    "df = pd.concat([df,OneHotdf], axis=1)\n",
    "   "
   ]
  },
  {
   "cell_type": "code",
   "execution_count": null,
   "metadata": {},
   "outputs": [],
   "source": [
    "# Split the data into test and train using scikit learn built-ins\n",
    "from sklearn.model_selection import ShuffleSplit\n",
    "cvx = ShuffleSplit(n_splits=10, test_size=0.20, random_state=101)\n",
    "print (cvx)"
   ]
  },
  {
   "cell_type": "code",
   "execution_count": null,
   "metadata": {},
   "outputs": [],
   "source": [
    "#https://www.kaggle.com/tflare/testing-multiple-models-with-scikit-learn-0-79425\n",
    "\n",
    "import numpy as np\n",
    "from sklearn.pipeline import Pipeline\n",
    "from sklearn.impute import SimpleImputer\n",
    "from sklearn.tree import DecisionTreeClassifier\n",
    "from sklearn.linear_model import LogisticRegression\n",
    "\n",
    "parameters ={'classify__criterion':['gini','entropy'],\n",
    "             'classify__max_depth':[10,20,30,40,50,70,90],\n",
    "             'classify__min_samples_leaf': [5,6,7,8,9,10,11,15,20,30,40,50,75,100,150],\n",
    "             'classify__max_features': ['auto','auto', 'log2'],\n",
    "             'model__C':[.01,.05,.1,.5,1,5,10],\n",
    "             'model__penalty':['l1','l2']}\n",
    "\n",
    "Pipeline = Pipeline([(\"imputer\", SimpleImputer(missing_values = np.nan, strategy = 'mean')),\n",
    "                     (\"classify\",DecisionTreeClassifier()),\n",
    "                     ('model',LogisticRegression())])"
   ]
  },
  {
   "cell_type": "code",
   "execution_count": null,
   "metadata": {},
   "outputs": [],
   "source": [
    "# the cv=cvx parameter sets the grid search to split the training and testing data 10 times. \n",
    "from sklearn.model_selection import train_test_split, GridSearchCV, KFold, TimeSeriesSplit, StratifiedShuffleSplit\n",
    "from sklearn import metrics as mt\n",
    "X1_train, X1_test, y1_train, y1_test = train_test_split(df.drop('y',axis=1), df['y'], test_size = 0.2, random_state = 101)\n",
    "dt_clf = GridSearchCV(Pipeline, param_grid = parameters, cv = cvx)\n",
    "\n",
    "# train the decision tree algorithm\n",
    "%time dt_clf.fit(X,y)\n",
    "yhat = dt_clf.best_estimator_.predict(X1_test)\n",
    "print ('accuracy:', mt.accuracy_score(y1_test,yhat))\n",
    "print (dt_clf.best_params_)"
   ]
  }
 ],
 "metadata": {
  "kernelspec": {
   "display_name": "Python 3",
   "language": "python",
   "name": "python3"
  },
  "language_info": {
   "codemirror_mode": {
    "name": "ipython",
    "version": 3
   },
   "file_extension": ".py",
   "mimetype": "text/x-python",
   "name": "python",
   "nbconvert_exporter": "python",
   "pygments_lexer": "ipython3",
   "version": "3.7.6"
  }
 },
 "nbformat": 4,
 "nbformat_minor": 4
}
