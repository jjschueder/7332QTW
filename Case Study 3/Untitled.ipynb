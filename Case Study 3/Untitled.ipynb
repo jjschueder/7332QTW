{
 "cells": [
  {
   "cell_type": "markdown",
   "metadata": {},
   "source": [
    "#Method 1\n",
    "![title](img/python1.jpg) #cell is markdown"
   ]
  },
  {
   "cell_type": "code",
   "execution_count": 8,
   "metadata": {},
   "outputs": [
    {
     "data": {
      "image/jpeg": "[encoded data removed]",
      "text/plain": [
       "<IPython.core.display.Image object>"
      ]
     },
     "execution_count": 8,
     "metadata": {
      "image/jpeg": {
       "height": 400,
       "width": 400
      }
     },
     "output_type": "execute_result"
    }
   ],
   "source": [
    "#Method 2\n",
    "from IPython.display import Image\n",
    "Image(filename = \"img/python1.jpg\", width=400, height=400) # cell is code"
   ]
  },
  {
   "cell_type": "markdown",
   "metadata": {},
   "source": [
    "#Method 3\n",
    "<img src=\"img/python1.jpg\", width=200, height=200> #cell is markdown"
   ]
  },
  {
   "cell_type": "code",
   "execution_count": 6,
   "metadata": {},
   "outputs": [
    {
     "ename": "SyntaxError",
     "evalue": "invalid syntax (<ipython-input-6-06f2edbe7ab2>, line 4)",
     "output_type": "error",
     "traceback": [
      "\u001b[1;36m  File \u001b[1;32m\"<ipython-input-6-06f2edbe7ab2>\"\u001b[1;36m, line \u001b[1;32m4\u001b[0m\n\u001b[1;33m    <img src=\"img/python1.png\".width=60,height=600> # cell is code\u001b[0m\n\u001b[1;37m    ^\u001b[0m\n\u001b[1;31mSyntaxError\u001b[0m\u001b[1;31m:\u001b[0m invalid syntax\n"
     ]
    }
   ],
   "source": [
    "#Method 4\n",
    "#Use \"\"%%html\" to render the cell as a block of HTML\n",
    "%%html\n",
    "<img src=\"img/python1.png\".width=60,height=600> # cell is code"
   ]
  },
  {
   "cell_type": "code",
   "execution_count": null,
   "metadata": {},
   "outputs": [],
   "source": []
  }
 ],
 "metadata": {
  "kernelspec": {
   "display_name": "Python 3",
   "language": "python",
   "name": "python3"
  },
  "language_info": {
   "codemirror_mode": {
    "name": "ipython",
    "version": 3
   },
   "file_extension": ".py",
   "mimetype": "text/x-python",
   "name": "python",
   "nbconvert_exporter": "python",
   "pygments_lexer": "ipython3",
   "version": "3.7.6"
  }
 },
 "nbformat": 4,
 "nbformat_minor": 4
}
