{
 "cells": [
  {
   "cell_type": "markdown",
   "metadata": {},
   "source": [
    "An End-to-End Project on Time Series Analysis and Forecasting with Python"
   ]
  },
  {
   "cell_type": "markdown",
   "metadata": {},
   "source": [
    "Time series analysis comprises methods for analyzing time series data in order to extract meaningful statistics and other characteristics of the data. Time series forecasting is the use of a model to predict future values based on previously observed values.\n",
    "Time series are widely used for non-stationary data, like economic, weather, stock price, and retail sales in this post. We will demonstrate different approaches for forecasting retail sales time series. Let’s get started"
   ]
  },
  {
   "cell_type": "markdown",
   "metadata": {},
   "source": [
    "# The Data\n",
    "# We are using Superstore sales data that can be downloaded from here.\n",
    "\n",
    "https://community.tableau.com/docs/DOC-1236"
   ]
  },
  {
   "cell_type": "code",
   "execution_count": 3,
   "metadata": {},
   "outputs": [],
   "source": [
    "import warnings\n",
    "import itertools\n",
    "import os\n",
    "import numpy as np\n",
    "import matplotlib.pyplot as plt\n",
    "warnings.filterwarnings(\"ignore\")\n",
    "plt.style.use('fivethirtyeight')\n",
    "import pandas as pd\n",
    "import statsmodels.api as sm\n",
    "import matplotlib\n",
    "matplotlib.rcParams['axes.labelsize'] = 14\n",
    "matplotlib.rcParams['xtick.labelsize'] = 12\n",
    "matplotlib.rcParams['ytick.labelsize'] = 12\n",
    "matplotlib.rcParams['text.color'] = 'k'"
   ]
  },
  {
   "cell_type": "markdown",
   "metadata": {},
   "source": [
    "There are several categories in the Superstore sales data, we start from time series analysis and forecasting for furniture sales."
   ]
  },
  {
   "cell_type": "code",
   "execution_count": 4,
   "metadata": {},
   "outputs": [],
   "source": [
    "df = pd.read_csv(\"https://raw.githubusercontent.com/jjschueder/7333QTW/master/Case%20Study%204/Data/Sample%20-%20Superstore.csv\")\n",
    "furniture = df.loc[df['Category'] == 'Furniture']"
   ]
  },
  {
   "cell_type": "markdown",
   "metadata": {},
   "source": [
    "We have a good 4-year furniture sales data."
   ]
  },
  {
   "cell_type": "code",
   "execution_count": 5,
   "metadata": {},
   "outputs": [
    {
     "data": {
      "text/html": [
       "<div>\n",
       "<style scoped>\n",
       "    .dataframe tbody tr th:only-of-type {\n",
       "        vertical-align: middle;\n",
       "    }\n",
       "\n",
       "    .dataframe tbody tr th {\n",
       "        vertical-align: top;\n",
       "    }\n",
       "\n",
       "    .dataframe thead th {\n",
       "        text-align: right;\n",
       "    }\n",
       "</style>\n",
       "<table border=\"1\" class=\"dataframe\">\n",
       "  <thead>\n",
       "    <tr style=\"text-align: right;\">\n",
       "      <th></th>\n",
       "      <th>Row ID</th>\n",
       "      <th>Order ID</th>\n",
       "      <th>Order Date</th>\n",
       "      <th>Ship Date</th>\n",
       "      <th>Ship Mode</th>\n",
       "      <th>Customer ID</th>\n",
       "      <th>Customer Name</th>\n",
       "      <th>Segment</th>\n",
       "      <th>Country</th>\n",
       "      <th>City</th>\n",
       "      <th>...</th>\n",
       "      <th>Postal Code</th>\n",
       "      <th>Region</th>\n",
       "      <th>Product ID</th>\n",
       "      <th>Category</th>\n",
       "      <th>Sub-Category</th>\n",
       "      <th>Product Name</th>\n",
       "      <th>Sales</th>\n",
       "      <th>Quantity</th>\n",
       "      <th>Discount</th>\n",
       "      <th>Profit</th>\n",
       "    </tr>\n",
       "  </thead>\n",
       "  <tbody>\n",
       "    <tr>\n",
       "      <th>7</th>\n",
       "      <td>7475</td>\n",
       "      <td>CA-2011-167199</td>\n",
       "      <td>1/6/2013</td>\n",
       "      <td>1/10/2013</td>\n",
       "      <td>Standard Class</td>\n",
       "      <td>ME-17320</td>\n",
       "      <td>Maria Etezadi</td>\n",
       "      <td>Home Office</td>\n",
       "      <td>United States</td>\n",
       "      <td>Henderson</td>\n",
       "      <td>...</td>\n",
       "      <td>42420</td>\n",
       "      <td>South</td>\n",
       "      <td>FUR-CH-10004063</td>\n",
       "      <td>Furniture</td>\n",
       "      <td>Chairs</td>\n",
       "      <td>Global Deluxe High-Back Manager's Chair</td>\n",
       "      <td>2573.820</td>\n",
       "      <td>9</td>\n",
       "      <td>0.0</td>\n",
       "      <td>746.4078</td>\n",
       "    </tr>\n",
       "    <tr>\n",
       "      <th>14</th>\n",
       "      <td>7661</td>\n",
       "      <td>CA-2011-105417</td>\n",
       "      <td>1/7/2013</td>\n",
       "      <td>1/12/2013</td>\n",
       "      <td>Standard Class</td>\n",
       "      <td>VS-21820</td>\n",
       "      <td>Vivek Sundaresam</td>\n",
       "      <td>Consumer</td>\n",
       "      <td>United States</td>\n",
       "      <td>Huntsville</td>\n",
       "      <td>...</td>\n",
       "      <td>77340</td>\n",
       "      <td>Central</td>\n",
       "      <td>FUR-FU-10004864</td>\n",
       "      <td>Furniture</td>\n",
       "      <td>Furnishings</td>\n",
       "      <td>Howard Miller 14-1/2\" Diameter Chrome Round Wa...</td>\n",
       "      <td>76.728</td>\n",
       "      <td>3</td>\n",
       "      <td>0.6</td>\n",
       "      <td>-53.7096</td>\n",
       "    </tr>\n",
       "    <tr>\n",
       "      <th>19</th>\n",
       "      <td>867</td>\n",
       "      <td>CA-2011-149020</td>\n",
       "      <td>1/10/2013</td>\n",
       "      <td>1/15/2013</td>\n",
       "      <td>Standard Class</td>\n",
       "      <td>AJ-10780</td>\n",
       "      <td>Anthony Jacobs</td>\n",
       "      <td>Corporate</td>\n",
       "      <td>United States</td>\n",
       "      <td>Springfield</td>\n",
       "      <td>...</td>\n",
       "      <td>22153</td>\n",
       "      <td>South</td>\n",
       "      <td>FUR-FU-10000965</td>\n",
       "      <td>Furniture</td>\n",
       "      <td>Furnishings</td>\n",
       "      <td>Howard Miller 11-1/2\" Diameter Ridgewood Wall ...</td>\n",
       "      <td>51.940</td>\n",
       "      <td>1</td>\n",
       "      <td>0.0</td>\n",
       "      <td>21.2954</td>\n",
       "    </tr>\n",
       "    <tr>\n",
       "      <th>20</th>\n",
       "      <td>717</td>\n",
       "      <td>CA-2011-130092</td>\n",
       "      <td>1/11/2013</td>\n",
       "      <td>1/14/2013</td>\n",
       "      <td>First Class</td>\n",
       "      <td>SV-20365</td>\n",
       "      <td>Seth Vernon</td>\n",
       "      <td>Consumer</td>\n",
       "      <td>United States</td>\n",
       "      <td>Dover</td>\n",
       "      <td>...</td>\n",
       "      <td>19901</td>\n",
       "      <td>East</td>\n",
       "      <td>FUR-FU-10000010</td>\n",
       "      <td>Furniture</td>\n",
       "      <td>Furnishings</td>\n",
       "      <td>DAX Value U-Channel Document Frames, Easel Back</td>\n",
       "      <td>9.940</td>\n",
       "      <td>2</td>\n",
       "      <td>0.0</td>\n",
       "      <td>3.0814</td>\n",
       "    </tr>\n",
       "    <tr>\n",
       "      <th>26</th>\n",
       "      <td>2979</td>\n",
       "      <td>CA-2011-109232</td>\n",
       "      <td>1/13/2013</td>\n",
       "      <td>1/16/2013</td>\n",
       "      <td>Second Class</td>\n",
       "      <td>ND-18370</td>\n",
       "      <td>Natalie DeCherney</td>\n",
       "      <td>Consumer</td>\n",
       "      <td>United States</td>\n",
       "      <td>Mount Pleasant</td>\n",
       "      <td>...</td>\n",
       "      <td>29464</td>\n",
       "      <td>South</td>\n",
       "      <td>FUR-CH-10000422</td>\n",
       "      <td>Furniture</td>\n",
       "      <td>Chairs</td>\n",
       "      <td>Global Highback Leather Tilter in Burgundy</td>\n",
       "      <td>545.940</td>\n",
       "      <td>6</td>\n",
       "      <td>0.0</td>\n",
       "      <td>87.3504</td>\n",
       "    </tr>\n",
       "    <tr>\n",
       "      <th>...</th>\n",
       "      <td>...</td>\n",
       "      <td>...</td>\n",
       "      <td>...</td>\n",
       "      <td>...</td>\n",
       "      <td>...</td>\n",
       "      <td>...</td>\n",
       "      <td>...</td>\n",
       "      <td>...</td>\n",
       "      <td>...</td>\n",
       "      <td>...</td>\n",
       "      <td>...</td>\n",
       "      <td>...</td>\n",
       "      <td>...</td>\n",
       "      <td>...</td>\n",
       "      <td>...</td>\n",
       "      <td>...</td>\n",
       "      <td>...</td>\n",
       "      <td>...</td>\n",
       "      <td>...</td>\n",
       "      <td>...</td>\n",
       "      <td>...</td>\n",
       "    </tr>\n",
       "    <tr>\n",
       "      <th>9981</th>\n",
       "      <td>5458</td>\n",
       "      <td>CA-2014-130631</td>\n",
       "      <td>12/29/2016</td>\n",
       "      <td>1/2/2017</td>\n",
       "      <td>Standard Class</td>\n",
       "      <td>BS-11755</td>\n",
       "      <td>Bruce Stewart</td>\n",
       "      <td>Consumer</td>\n",
       "      <td>United States</td>\n",
       "      <td>Edmonds</td>\n",
       "      <td>...</td>\n",
       "      <td>98026</td>\n",
       "      <td>West</td>\n",
       "      <td>FUR-FU-10004093</td>\n",
       "      <td>Furniture</td>\n",
       "      <td>Furnishings</td>\n",
       "      <td>Hand-Finished Solid Wood Document Frame</td>\n",
       "      <td>68.460</td>\n",
       "      <td>2</td>\n",
       "      <td>0.0</td>\n",
       "      <td>20.5380</td>\n",
       "    </tr>\n",
       "    <tr>\n",
       "      <th>9982</th>\n",
       "      <td>7633</td>\n",
       "      <td>US-2014-158526</td>\n",
       "      <td>12/29/2016</td>\n",
       "      <td>1/1/2017</td>\n",
       "      <td>Second Class</td>\n",
       "      <td>KH-16360</td>\n",
       "      <td>Katherine Hughes</td>\n",
       "      <td>Consumer</td>\n",
       "      <td>United States</td>\n",
       "      <td>Louisville</td>\n",
       "      <td>...</td>\n",
       "      <td>40214</td>\n",
       "      <td>South</td>\n",
       "      <td>FUR-CH-10002602</td>\n",
       "      <td>Furniture</td>\n",
       "      <td>Chairs</td>\n",
       "      <td>DMI Arturo Collection Mission-style Design Woo...</td>\n",
       "      <td>1207.840</td>\n",
       "      <td>8</td>\n",
       "      <td>0.0</td>\n",
       "      <td>314.0384</td>\n",
       "    </tr>\n",
       "    <tr>\n",
       "      <th>9985</th>\n",
       "      <td>7636</td>\n",
       "      <td>US-2014-158526</td>\n",
       "      <td>12/29/2016</td>\n",
       "      <td>1/1/2017</td>\n",
       "      <td>Second Class</td>\n",
       "      <td>KH-16360</td>\n",
       "      <td>Katherine Hughes</td>\n",
       "      <td>Consumer</td>\n",
       "      <td>United States</td>\n",
       "      <td>Louisville</td>\n",
       "      <td>...</td>\n",
       "      <td>40214</td>\n",
       "      <td>South</td>\n",
       "      <td>FUR-CH-10004495</td>\n",
       "      <td>Furniture</td>\n",
       "      <td>Chairs</td>\n",
       "      <td>Global Leather and Oak Executive Chair, Black</td>\n",
       "      <td>300.980</td>\n",
       "      <td>1</td>\n",
       "      <td>0.0</td>\n",
       "      <td>87.2842</td>\n",
       "    </tr>\n",
       "    <tr>\n",
       "      <th>9986</th>\n",
       "      <td>7637</td>\n",
       "      <td>US-2014-158526</td>\n",
       "      <td>12/29/2016</td>\n",
       "      <td>1/1/2017</td>\n",
       "      <td>Second Class</td>\n",
       "      <td>KH-16360</td>\n",
       "      <td>Katherine Hughes</td>\n",
       "      <td>Consumer</td>\n",
       "      <td>United States</td>\n",
       "      <td>Louisville</td>\n",
       "      <td>...</td>\n",
       "      <td>40214</td>\n",
       "      <td>South</td>\n",
       "      <td>FUR-CH-10001270</td>\n",
       "      <td>Furniture</td>\n",
       "      <td>Chairs</td>\n",
       "      <td>Harbour Creations Steel Folding Chair</td>\n",
       "      <td>258.750</td>\n",
       "      <td>3</td>\n",
       "      <td>0.0</td>\n",
       "      <td>77.6250</td>\n",
       "    </tr>\n",
       "    <tr>\n",
       "      <th>9988</th>\n",
       "      <td>907</td>\n",
       "      <td>CA-2014-143259</td>\n",
       "      <td>12/30/2016</td>\n",
       "      <td>1/3/2017</td>\n",
       "      <td>Standard Class</td>\n",
       "      <td>PO-18865</td>\n",
       "      <td>Patrick O'Donnell</td>\n",
       "      <td>Consumer</td>\n",
       "      <td>United States</td>\n",
       "      <td>New York City</td>\n",
       "      <td>...</td>\n",
       "      <td>10009</td>\n",
       "      <td>East</td>\n",
       "      <td>FUR-BO-10003441</td>\n",
       "      <td>Furniture</td>\n",
       "      <td>Bookcases</td>\n",
       "      <td>Bush Westfield Collection Bookcases, Fully Ass...</td>\n",
       "      <td>323.136</td>\n",
       "      <td>4</td>\n",
       "      <td>0.2</td>\n",
       "      <td>12.1176</td>\n",
       "    </tr>\n",
       "  </tbody>\n",
       "</table>\n",
       "<p>2121 rows × 21 columns</p>\n",
       "</div>"
      ],
      "text/plain": [
       "      Row ID        Order ID  Order Date  Ship Date       Ship Mode  \\\n",
       "7       7475  CA-2011-167199    1/6/2013  1/10/2013  Standard Class   \n",
       "14      7661  CA-2011-105417    1/7/2013  1/12/2013  Standard Class   \n",
       "19       867  CA-2011-149020   1/10/2013  1/15/2013  Standard Class   \n",
       "20       717  CA-2011-130092   1/11/2013  1/14/2013     First Class   \n",
       "26      2979  CA-2011-109232   1/13/2013  1/16/2013    Second Class   \n",
       "...      ...             ...         ...        ...             ...   \n",
       "9981    5458  CA-2014-130631  12/29/2016   1/2/2017  Standard Class   \n",
       "9982    7633  US-2014-158526  12/29/2016   1/1/2017    Second Class   \n",
       "9985    7636  US-2014-158526  12/29/2016   1/1/2017    Second Class   \n",
       "9986    7637  US-2014-158526  12/29/2016   1/1/2017    Second Class   \n",
       "9988     907  CA-2014-143259  12/30/2016   1/3/2017  Standard Class   \n",
       "\n",
       "     Customer ID      Customer Name      Segment        Country  \\\n",
       "7       ME-17320      Maria Etezadi  Home Office  United States   \n",
       "14      VS-21820   Vivek Sundaresam     Consumer  United States   \n",
       "19      AJ-10780     Anthony Jacobs    Corporate  United States   \n",
       "20      SV-20365        Seth Vernon     Consumer  United States   \n",
       "26      ND-18370  Natalie DeCherney     Consumer  United States   \n",
       "...          ...                ...          ...            ...   \n",
       "9981    BS-11755      Bruce Stewart     Consumer  United States   \n",
       "9982    KH-16360   Katherine Hughes     Consumer  United States   \n",
       "9985    KH-16360   Katherine Hughes     Consumer  United States   \n",
       "9986    KH-16360   Katherine Hughes     Consumer  United States   \n",
       "9988    PO-18865  Patrick O'Donnell     Consumer  United States   \n",
       "\n",
       "                City  ... Postal Code   Region       Product ID   Category  \\\n",
       "7          Henderson  ...       42420    South  FUR-CH-10004063  Furniture   \n",
       "14        Huntsville  ...       77340  Central  FUR-FU-10004864  Furniture   \n",
       "19       Springfield  ...       22153    South  FUR-FU-10000965  Furniture   \n",
       "20             Dover  ...       19901     East  FUR-FU-10000010  Furniture   \n",
       "26    Mount Pleasant  ...       29464    South  FUR-CH-10000422  Furniture   \n",
       "...              ...  ...         ...      ...              ...        ...   \n",
       "9981         Edmonds  ...       98026     West  FUR-FU-10004093  Furniture   \n",
       "9982      Louisville  ...       40214    South  FUR-CH-10002602  Furniture   \n",
       "9985      Louisville  ...       40214    South  FUR-CH-10004495  Furniture   \n",
       "9986      Louisville  ...       40214    South  FUR-CH-10001270  Furniture   \n",
       "9988   New York City  ...       10009     East  FUR-BO-10003441  Furniture   \n",
       "\n",
       "     Sub-Category                                       Product Name  \\\n",
       "7          Chairs            Global Deluxe High-Back Manager's Chair   \n",
       "14    Furnishings  Howard Miller 14-1/2\" Diameter Chrome Round Wa...   \n",
       "19    Furnishings  Howard Miller 11-1/2\" Diameter Ridgewood Wall ...   \n",
       "20    Furnishings    DAX Value U-Channel Document Frames, Easel Back   \n",
       "26         Chairs         Global Highback Leather Tilter in Burgundy   \n",
       "...           ...                                                ...   \n",
       "9981  Furnishings            Hand-Finished Solid Wood Document Frame   \n",
       "9982       Chairs  DMI Arturo Collection Mission-style Design Woo...   \n",
       "9985       Chairs      Global Leather and Oak Executive Chair, Black   \n",
       "9986       Chairs              Harbour Creations Steel Folding Chair   \n",
       "9988    Bookcases  Bush Westfield Collection Bookcases, Fully Ass...   \n",
       "\n",
       "         Sales  Quantity  Discount    Profit  \n",
       "7     2573.820         9       0.0  746.4078  \n",
       "14      76.728         3       0.6  -53.7096  \n",
       "19      51.940         1       0.0   21.2954  \n",
       "20       9.940         2       0.0    3.0814  \n",
       "26     545.940         6       0.0   87.3504  \n",
       "...        ...       ...       ...       ...  \n",
       "9981    68.460         2       0.0   20.5380  \n",
       "9982  1207.840         8       0.0  314.0384  \n",
       "9985   300.980         1       0.0   87.2842  \n",
       "9986   258.750         3       0.0   77.6250  \n",
       "9988   323.136         4       0.2   12.1176  \n",
       "\n",
       "[2121 rows x 21 columns]"
      ]
     },
     "execution_count": 5,
     "metadata": {},
     "output_type": "execute_result"
    }
   ],
   "source": [
    "furniture"
   ]
  },
  {
   "cell_type": "code",
   "execution_count": 6,
   "metadata": {},
   "outputs": [
    {
     "data": {
      "text/plain": [
       "('1/10/2013', '9/9/2016')"
      ]
     },
     "execution_count": 6,
     "metadata": {},
     "output_type": "execute_result"
    }
   ],
   "source": [
    "furniture['Order Date'].min(), furniture['Order Date'].max()"
   ]
  },
  {
   "cell_type": "markdown",
   "metadata": {},
   "source": [
    "Data Preprocessing\n",
    "This step includes removing columns we do not need, check missing values, aggregate sales by date and so on."
   ]
  },
  {
   "cell_type": "code",
   "execution_count": 7,
   "metadata": {},
   "outputs": [
    {
     "data": {
      "text/plain": [
       "Row ID           0\n",
       "Order ID         0\n",
       "Order Date       0\n",
       "Ship Date        0\n",
       "Ship Mode        0\n",
       "Customer ID      0\n",
       "Customer Name    0\n",
       "Segment          0\n",
       "Country          0\n",
       "City             0\n",
       "State            0\n",
       "Postal Code      0\n",
       "Region           0\n",
       "Product ID       0\n",
       "Category         0\n",
       "Sub-Category     0\n",
       "Product Name     0\n",
       "Sales            0\n",
       "Quantity         0\n",
       "Discount         0\n",
       "Profit           0\n",
       "dtype: int64"
      ]
     },
     "execution_count": 7,
     "metadata": {},
     "output_type": "execute_result"
    }
   ],
   "source": [
    "#cols = ['Row ID', 'Order ID', 'Ship Date', 'Ship Mode', 'Customer ID', 'Customer Name', 'Segment', 'Country', 'City', 'State', 'Postal Code', 'Region', 'Product ID', 'Category', 'Sub-Category', 'Product Name', 'Quantity', 'Discount', 'Profit']\n",
    "#furniture.drop(cols, axis=1, inplace=True)\n",
    "furniture = furniture.sort_values('Order Date')\n",
    "furniture.isnull().sum()"
   ]
  },
  {
   "cell_type": "code",
   "execution_count": 8,
   "metadata": {},
   "outputs": [
    {
     "name": "stdout",
     "output_type": "stream",
     "text": [
      "<class 'pandas.core.frame.DataFrame'>\n",
      "Int64Index: 2121 entries, 19 to 8455\n",
      "Data columns (total 21 columns):\n",
      "Row ID           2121 non-null int64\n",
      "Order ID         2121 non-null object\n",
      "Order Date       2121 non-null object\n",
      "Ship Date        2121 non-null object\n",
      "Ship Mode        2121 non-null object\n",
      "Customer ID      2121 non-null object\n",
      "Customer Name    2121 non-null object\n",
      "Segment          2121 non-null object\n",
      "Country          2121 non-null object\n",
      "City             2121 non-null object\n",
      "State            2121 non-null object\n",
      "Postal Code      2121 non-null int64\n",
      "Region           2121 non-null object\n",
      "Product ID       2121 non-null object\n",
      "Category         2121 non-null object\n",
      "Sub-Category     2121 non-null object\n",
      "Product Name     2121 non-null object\n",
      "Sales            2121 non-null float64\n",
      "Quantity         2121 non-null int64\n",
      "Discount         2121 non-null float64\n",
      "Profit           2121 non-null float64\n",
      "dtypes: float64(3), int64(3), object(15)\n",
      "memory usage: 364.5+ KB\n"
     ]
    }
   ],
   "source": [
    "furniture.info()"
   ]
  },
  {
   "cell_type": "code",
   "execution_count": 9,
   "metadata": {},
   "outputs": [],
   "source": [
    "furniture['Order Date'] = pd.to_datetime(furniture['Order Date'].str.strip(), format='%m/%d/%Y')"
   ]
  },
  {
   "cell_type": "code",
   "execution_count": 10,
   "metadata": {},
   "outputs": [],
   "source": [
    "furniture = furniture.groupby('Order Date')['Sales'].sum().reset_index()"
   ]
  },
  {
   "cell_type": "markdown",
   "metadata": {},
   "source": [
    "# Indexing with Time Series Data"
   ]
  },
  {
   "cell_type": "code",
   "execution_count": 11,
   "metadata": {},
   "outputs": [
    {
     "data": {
      "text/plain": [
       "DatetimeIndex(['2013-01-06', '2013-01-07', '2013-01-10', '2013-01-11',\n",
       "               '2013-01-13', '2013-01-14', '2013-01-16', '2013-01-19',\n",
       "               '2013-01-20', '2013-01-21',\n",
       "               ...\n",
       "               '2016-12-18', '2016-12-19', '2016-12-21', '2016-12-22',\n",
       "               '2016-12-23', '2016-12-24', '2016-12-25', '2016-12-28',\n",
       "               '2016-12-29', '2016-12-30'],\n",
       "              dtype='datetime64[ns]', name='Order Date', length=889, freq=None)"
      ]
     },
     "execution_count": 11,
     "metadata": {},
     "output_type": "execute_result"
    }
   ],
   "source": [
    "furniture = furniture.set_index('Order Date')\n",
    "furniture.index"
   ]
  },
  {
   "cell_type": "markdown",
   "metadata": {},
   "source": [
    "Our current datetime data can be tricky to work with, therefore, we will use the averages daily sales value for that month instead, and we are using the start of each month as the timestamp."
   ]
  },
  {
   "cell_type": "code",
   "execution_count": 12,
   "metadata": {},
   "outputs": [],
   "source": [
    "y = furniture['Sales'].resample('MS').mean()"
   ]
  },
  {
   "cell_type": "markdown",
   "metadata": {},
   "source": [
    "Have a quick peek 2017 furniture sales data."
   ]
  },
  {
   "cell_type": "code",
   "execution_count": 13,
   "metadata": {},
   "outputs": [
    {
     "data": {
      "text/plain": [
       "Order Date\n",
       "2013-01-01     480.194231\n",
       "2013-02-01     367.931600\n",
       "2013-03-01     857.291529\n",
       "2013-04-01     567.488357\n",
       "2013-05-01     432.049187\n",
       "2013-06-01     695.059242\n",
       "2013-07-01     601.169500\n",
       "2013-08-01     457.521656\n",
       "2013-09-01     992.353367\n",
       "2013-10-01     769.015437\n",
       "2013-11-01     980.221486\n",
       "2013-12-01    1532.298325\n",
       "2014-01-01     978.328467\n",
       "2014-02-01     522.395667\n",
       "2014-03-01     781.236437\n",
       "2014-04-01     805.822962\n",
       "2014-05-01     624.996700\n",
       "2014-06-01     428.565500\n",
       "2014-07-01     719.706316\n",
       "2014-08-01     602.412012\n",
       "2014-09-01    1382.790684\n",
       "2014-10-01     632.980184\n",
       "2014-11-01    1286.701354\n",
       "2014-12-01    1049.355418\n",
       "2015-01-01     508.182867\n",
       "2015-02-01     356.868273\n",
       "2015-03-01     623.654800\n",
       "2015-04-01     705.557368\n",
       "2015-05-01     683.235818\n",
       "2015-06-01     751.678437\n",
       "2015-07-01     776.430059\n",
       "2015-08-01     756.627794\n",
       "2015-09-01    1162.563517\n",
       "2015-10-01     533.198526\n",
       "2015-11-01    1346.375352\n",
       "2015-12-01    1372.914259\n",
       "2016-01-01     397.602133\n",
       "2016-02-01     528.179800\n",
       "2016-03-01     544.672240\n",
       "2016-04-01     453.297905\n",
       "2016-05-01     678.302328\n",
       "2016-06-01     826.460291\n",
       "2016-07-01     562.524857\n",
       "2016-08-01     857.881889\n",
       "2016-09-01    1209.508583\n",
       "2016-10-01     875.362728\n",
       "2016-11-01    1277.817759\n",
       "2016-12-01    1256.298672\n",
       "Freq: MS, Name: Sales, dtype: float64"
      ]
     },
     "execution_count": 13,
     "metadata": {},
     "output_type": "execute_result"
    }
   ],
   "source": [
    "y['2010':]"
   ]
  },
  {
   "cell_type": "markdown",
   "metadata": {},
   "source": [
    "# Visualizing Furniture Sales Time Series Data"
   ]
  },
  {
   "cell_type": "code",
   "execution_count": 14,
   "metadata": {},
   "outputs": [
    {
     "data": {
      "image/png": "[encoded data removed]",
      "text/plain": [
       "<Figure size 1080x432 with 1 Axes>"
      ]
     },
     "metadata": {},
     "output_type": "display_data"
    }
   ],
   "source": [
    "y.plot(figsize=(15, 6))\n",
    "plt.show()"
   ]
  },
  {
   "cell_type": "markdown",
   "metadata": {},
   "source": [
    "Some distinguishable patterns appear when we plot the data. The time-series has seasonality pattern, such as sales are always low at the beginning of the year and high at the end of the year. There is always an upward trend within any single year with a couple of low months in the mid of the year.\n",
    "\n",
    "We can also visualize our data using a method called time-series decomposition that allows us to decompose our time series into three distinct components: trend, seasonality, and noise."
   ]
  },
  {
   "cell_type": "code",
   "execution_count": 15,
   "metadata": {},
   "outputs": [
    {
     "data": {
      "image/png": "[encoded data removed]",
      "text/plain": [
       "<Figure size 1296x576 with 4 Axes>"
      ]
     },
     "metadata": {},
     "output_type": "display_data"
    }
   ],
   "source": [
    "from pylab import rcParams\n",
    "rcParams['figure.figsize'] = 18, 8\n",
    "decomposition = sm.tsa.seasonal_decompose(y, model='additive')\n",
    "fig = decomposition.plot()\n",
    "plt.show()"
   ]
  },
  {
   "cell_type": "code",
   "execution_count": 19,
   "metadata": {},
   "outputs": [
    {
     "data": {
      "text/plain": [
       "Order Date\n",
       "2013-01-01     480.194231\n",
       "2013-02-01     367.931600\n",
       "2013-03-01     857.291529\n",
       "2013-04-01     567.488357\n",
       "2013-05-01     432.049187\n",
       "2013-06-01     695.059242\n",
       "2013-07-01     601.169500\n",
       "2013-08-01     457.521656\n",
       "2013-09-01     992.353367\n",
       "2013-10-01     769.015437\n",
       "2013-11-01     980.221486\n",
       "2013-12-01    1532.298325\n",
       "2014-01-01     978.328467\n",
       "2014-02-01     522.395667\n",
       "2014-03-01     781.236437\n",
       "2014-04-01     805.822962\n",
       "2014-05-01     624.996700\n",
       "2014-06-01     428.565500\n",
       "2014-07-01     719.706316\n",
       "2014-08-01     602.412012\n",
       "2014-09-01    1382.790684\n",
       "2014-10-01     632.980184\n",
       "2014-11-01    1286.701354\n",
       "2014-12-01    1049.355418\n",
       "2015-01-01     508.182867\n",
       "2015-02-01     356.868273\n",
       "2015-03-01     623.654800\n",
       "2015-04-01     705.557368\n",
       "2015-05-01     683.235818\n",
       "2015-06-01     751.678437\n",
       "2015-07-01     776.430059\n",
       "2015-08-01     756.627794\n",
       "2015-09-01    1162.563517\n",
       "2015-10-01     533.198526\n",
       "2015-11-01    1346.375352\n",
       "2015-12-01    1372.914259\n",
       "2016-01-01     397.602133\n",
       "2016-02-01     528.179800\n",
       "2016-03-01     544.672240\n",
       "2016-04-01     453.297905\n",
       "2016-05-01     678.302328\n",
       "2016-06-01     826.460291\n",
       "2016-07-01     562.524857\n",
       "2016-08-01     857.881889\n",
       "2016-09-01    1209.508583\n",
       "2016-10-01     875.362728\n",
       "2016-11-01    1277.817759\n",
       "2016-12-01    1256.298672\n",
       "Freq: MS, Name: Sales, dtype: float64"
      ]
     },
     "execution_count": 19,
     "metadata": {},
     "output_type": "execute_result"
    }
   ],
   "source": [
    "y"
   ]
  },
  {
   "cell_type": "markdown",
   "metadata": {},
   "source": [
    "The plot above clearly shows that the sales of furniture is unstable, along with its obvious seasonality."
   ]
  },
  {
   "cell_type": "markdown",
   "metadata": {},
   "source": [
    "# Time series forecasting with ARIMA\n",
    "We are going to apply one of the most commonly used method for time-series forecasting, known as ARIMA, which stands for Autoregressive Integrated Moving Average.\n",
    "ARIMA models are denoted with the notation ARIMA(p, d, q). These three parameters account for seasonality, trend, and noise in data:"
   ]
  },
  {
   "cell_type": "code",
   "execution_count": 57,
   "metadata": {},
   "outputs": [
    {
     "name": "stdout",
     "output_type": "stream",
     "text": [
      "Examples of parameter combinations for Seasonal ARIMA...\n",
      "SARIMAX: (0, 0, 1) x (0, 0, 1, 12)\n",
      "SARIMAX: (0, 0, 1) x (0, 1, 0, 12)\n",
      "SARIMAX: (0, 1, 0) x (0, 1, 1, 12)\n",
      "SARIMAX: (0, 1, 0) x (1, 0, 0, 12)\n"
     ]
    }
   ],
   "source": [
    "p = d = q = range(0, 2)\n",
    "pdq = list(itertools.product(p, d, q))\n",
    "seasonal_pdq = [(x[0], x[1], x[2], 12) for x in list(itertools.product(p, d, q))]\n",
    "print('Examples of parameter combinations for Seasonal ARIMA...')\n",
    "print('SARIMAX: {} x {}'.format(pdq[1], seasonal_pdq[1]))\n",
    "print('SARIMAX: {} x {}'.format(pdq[1], seasonal_pdq[2]))\n",
    "print('SARIMAX: {} x {}'.format(pdq[2], seasonal_pdq[3]))\n",
    "print('SARIMAX: {} x {}'.format(pdq[2], seasonal_pdq[4]))"
   ]
  },
  {
   "cell_type": "markdown",
   "metadata": {},
   "source": [
    "This step is parameter Selection for our furniture’s sales ARIMA Time Series Model. Our goal here is to use a “grid search” to find the optimal set of parameters that yields the best performance for our model."
   ]
  },
  {
   "cell_type": "code",
   "execution_count": 58,
   "metadata": {},
   "outputs": [
    {
     "name": "stdout",
     "output_type": "stream",
     "text": [
      "ARIMA(0, 0, 0)x(0, 0, 0, 12)12 - AIC:769.1028329076864\n",
      "ARIMA(0, 0, 0)x(0, 0, 1, 12)12 - AIC:1474.3761724352948\n",
      "ARIMA(0, 0, 0)x(0, 1, 0, 12)12 - AIC:477.388066155564\n",
      "ARIMA(0, 0, 0)x(1, 0, 0, 12)12 - AIC:496.941688492852\n",
      "ARIMA(0, 0, 0)x(1, 0, 1, 12)12 - AIC:1421.5631336763167\n",
      "ARIMA(0, 0, 0)x(1, 1, 0, 12)12 - AIC:319.4769282249068\n",
      "ARIMA(0, 0, 1)x(0, 0, 0, 12)12 - AIC:721.8054702526435\n",
      "ARIMA(0, 0, 1)x(0, 0, 1, 12)12 - AIC:3076.342007999636\n",
      "ARIMA(0, 0, 1)x(0, 1, 0, 12)12 - AIC:466.2292493113579\n",
      "ARIMA(0, 0, 1)x(1, 0, 0, 12)12 - AIC:498.50152562566865\n",
      "ARIMA(0, 0, 1)x(1, 0, 1, 12)12 - AIC:2750.454857352279\n",
      "ARIMA(0, 0, 1)x(1, 1, 0, 12)12 - AIC:321.47680101884583\n",
      "ARIMA(0, 1, 0)x(0, 0, 0, 12)12 - AIC:679.8426756163989\n",
      "ARIMA(0, 1, 0)x(0, 0, 1, 12)12 - AIC:1257.1959138744378\n",
      "ARIMA(0, 1, 0)x(0, 1, 0, 12)12 - AIC:486.39264018885507\n",
      "ARIMA(0, 1, 0)x(1, 0, 0, 12)12 - AIC:497.71214734967083\n",
      "ARIMA(0, 1, 0)x(1, 0, 1, 12)12 - AIC:1592.108208965271\n",
      "ARIMA(0, 1, 0)x(1, 1, 0, 12)12 - AIC:321.3936311404286\n",
      "ARIMA(0, 1, 1)x(0, 0, 0, 12)12 - AIC:650.8057227356564\n",
      "ARIMA(0, 1, 1)x(0, 0, 1, 12)12 - AIC:2852.722974088264\n",
      "ARIMA(0, 1, 1)x(0, 1, 0, 12)12 - AIC:458.57498414825864\n",
      "ARIMA(0, 1, 1)x(1, 0, 0, 12)12 - AIC:486.09002552700804\n",
      "ARIMA(0, 1, 1)x(1, 0, 1, 12)12 - AIC:2737.8223372357843\n",
      "ARIMA(0, 1, 1)x(1, 1, 0, 12)12 - AIC:308.5900472353479\n",
      "ARIMA(1, 0, 0)x(0, 0, 0, 12)12 - AIC:694.0509358217613\n",
      "ARIMA(1, 0, 0)x(0, 0, 1, 12)12 - AIC:1501.3935222502664\n",
      "ARIMA(1, 0, 0)x(0, 1, 0, 12)12 - AIC:479.1280776489843\n",
      "ARIMA(1, 0, 0)x(1, 0, 0, 12)12 - AIC:480.59877058922194\n",
      "ARIMA(1, 0, 0)x(1, 0, 1, 12)12 - AIC:1420.2763205025262\n",
      "ARIMA(1, 0, 0)x(1, 1, 0, 12)12 - AIC:305.5326539515214\n",
      "ARIMA(1, 0, 1)x(0, 0, 0, 12)12 - AIC:666.7655840930347\n",
      "ARIMA(1, 0, 1)x(0, 0, 1, 12)12 - AIC:2691.8872011362528\n",
      "ARIMA(1, 0, 1)x(0, 1, 0, 12)12 - AIC:468.2153661015201\n",
      "ARIMA(1, 0, 1)x(1, 0, 0, 12)12 - AIC:481.67226946441644\n",
      "ARIMA(1, 0, 1)x(1, 0, 1, 12)12 - AIC:2880.820014682054\n",
      "ARIMA(1, 0, 1)x(1, 1, 0, 12)12 - AIC:305.01987675821374\n",
      "ARIMA(1, 1, 0)x(0, 0, 0, 12)12 - AIC:672.8145653210245\n",
      "ARIMA(1, 1, 0)x(0, 0, 1, 12)12 - AIC:1469.8585749248775\n",
      "ARIMA(1, 1, 0)x(0, 1, 0, 12)12 - AIC:479.95296456288435\n",
      "ARIMA(1, 1, 0)x(1, 0, 0, 12)12 - AIC:476.3039885690325\n",
      "ARIMA(1, 1, 0)x(1, 0, 1, 12)12 - AIC:1404.2805015045424\n",
      "ARIMA(1, 1, 0)x(1, 1, 0, 12)12 - AIC:303.4338528917298\n",
      "ARIMA(1, 1, 1)x(0, 0, 0, 12)12 - AIC:650.3325731986206\n",
      "ARIMA(1, 1, 1)x(0, 0, 1, 12)12 - AIC:3029.478825400604\n",
      "ARIMA(1, 1, 1)x(0, 1, 0, 12)12 - AIC:460.16759184692273\n",
      "ARIMA(1, 1, 1)x(1, 0, 0, 12)12 - AIC:469.44124881268203\n",
      "ARIMA(1, 1, 1)x(1, 0, 1, 12)12 - AIC:112275.27329252246\n",
      "ARIMA(1, 1, 1)x(1, 1, 0, 12)12 - AIC:297.41521137112653\n"
     ]
    }
   ],
   "source": [
    "import warnings\n",
    "from statsmodels.tools.sm_exceptions import ConvergenceWarning\n",
    "warnings.simplefilter('ignore', ConvergenceWarning)\n",
    "\n",
    "for param in pdq:\n",
    "    for param_seasonal in seasonal_pdq:\n",
    "        try:\n",
    "            mod = sm.tsa.statespace.SARIMAX(y,\n",
    "                                            order=param,\n",
    "                                            seasonal_order=param_seasonal,\n",
    "                                            enforce_stationarity=False,\n",
    "                                            enforce_invertibility=False)\n",
    "            results = mod.fit()\n",
    "            print('ARIMA{}x{}12 - AIC:{}'.format(param, param_seasonal, results.aic))\n",
    "        except:\n",
    "            continue\n",
    "            \n",
    "            df = pd.DataFrame('ARIMA{}x{}12 - AIC:{}'.format(param, param_seasonal, results.aic))"
   ]
  },
  {
   "cell_type": "code",
   "execution_count": 59,
   "metadata": {},
   "outputs": [
    {
     "data": {
      "text/html": [
       "<div>\n",
       "<style scoped>\n",
       "    .dataframe tbody tr th:only-of-type {\n",
       "        vertical-align: middle;\n",
       "    }\n",
       "\n",
       "    .dataframe tbody tr th {\n",
       "        vertical-align: top;\n",
       "    }\n",
       "\n",
       "    .dataframe thead th {\n",
       "        text-align: right;\n",
       "    }\n",
       "</style>\n",
       "<table border=\"1\" class=\"dataframe\">\n",
       "  <thead>\n",
       "    <tr style=\"text-align: right;\">\n",
       "      <th></th>\n",
       "      <th>Row ID</th>\n",
       "      <th>Order ID</th>\n",
       "      <th>Order Date</th>\n",
       "      <th>Ship Date</th>\n",
       "      <th>Ship Mode</th>\n",
       "      <th>Customer ID</th>\n",
       "      <th>Customer Name</th>\n",
       "      <th>Segment</th>\n",
       "      <th>Country</th>\n",
       "      <th>City</th>\n",
       "      <th>...</th>\n",
       "      <th>Postal Code</th>\n",
       "      <th>Region</th>\n",
       "      <th>Product ID</th>\n",
       "      <th>Category</th>\n",
       "      <th>Sub-Category</th>\n",
       "      <th>Product Name</th>\n",
       "      <th>Sales</th>\n",
       "      <th>Quantity</th>\n",
       "      <th>Discount</th>\n",
       "      <th>Profit</th>\n",
       "    </tr>\n",
       "  </thead>\n",
       "  <tbody>\n",
       "    <tr>\n",
       "      <th>0</th>\n",
       "      <td>7981</td>\n",
       "      <td>CA-2011-103800</td>\n",
       "      <td>1/3/2013</td>\n",
       "      <td>1/7/2013</td>\n",
       "      <td>Standard Class</td>\n",
       "      <td>DP-13000</td>\n",
       "      <td>Darren Powers</td>\n",
       "      <td>Consumer</td>\n",
       "      <td>United States</td>\n",
       "      <td>Houston</td>\n",
       "      <td>...</td>\n",
       "      <td>77095</td>\n",
       "      <td>Central</td>\n",
       "      <td>OFF-PA-10000174</td>\n",
       "      <td>Office Supplies</td>\n",
       "      <td>Paper</td>\n",
       "      <td>Message Book, Wirebound, Four 5 1/2\" X 4\" Form...</td>\n",
       "      <td>16.448</td>\n",
       "      <td>2</td>\n",
       "      <td>0.2</td>\n",
       "      <td>5.5512</td>\n",
       "    </tr>\n",
       "    <tr>\n",
       "      <th>1</th>\n",
       "      <td>740</td>\n",
       "      <td>CA-2011-112326</td>\n",
       "      <td>1/4/2013</td>\n",
       "      <td>1/8/2013</td>\n",
       "      <td>Standard Class</td>\n",
       "      <td>PO-19195</td>\n",
       "      <td>Phillina Ober</td>\n",
       "      <td>Home Office</td>\n",
       "      <td>United States</td>\n",
       "      <td>Naperville</td>\n",
       "      <td>...</td>\n",
       "      <td>60540</td>\n",
       "      <td>Central</td>\n",
       "      <td>OFF-LA-10003223</td>\n",
       "      <td>Office Supplies</td>\n",
       "      <td>Labels</td>\n",
       "      <td>Avery 508</td>\n",
       "      <td>11.784</td>\n",
       "      <td>3</td>\n",
       "      <td>0.2</td>\n",
       "      <td>4.2717</td>\n",
       "    </tr>\n",
       "    <tr>\n",
       "      <th>2</th>\n",
       "      <td>741</td>\n",
       "      <td>CA-2011-112326</td>\n",
       "      <td>1/4/2013</td>\n",
       "      <td>1/8/2013</td>\n",
       "      <td>Standard Class</td>\n",
       "      <td>PO-19195</td>\n",
       "      <td>Phillina Ober</td>\n",
       "      <td>Home Office</td>\n",
       "      <td>United States</td>\n",
       "      <td>Naperville</td>\n",
       "      <td>...</td>\n",
       "      <td>60540</td>\n",
       "      <td>Central</td>\n",
       "      <td>OFF-ST-10002743</td>\n",
       "      <td>Office Supplies</td>\n",
       "      <td>Storage</td>\n",
       "      <td>SAFCO Boltless Steel Shelving</td>\n",
       "      <td>272.736</td>\n",
       "      <td>3</td>\n",
       "      <td>0.2</td>\n",
       "      <td>-64.7748</td>\n",
       "    </tr>\n",
       "    <tr>\n",
       "      <th>3</th>\n",
       "      <td>742</td>\n",
       "      <td>CA-2011-112326</td>\n",
       "      <td>1/4/2013</td>\n",
       "      <td>1/8/2013</td>\n",
       "      <td>Standard Class</td>\n",
       "      <td>PO-19195</td>\n",
       "      <td>Phillina Ober</td>\n",
       "      <td>Home Office</td>\n",
       "      <td>United States</td>\n",
       "      <td>Naperville</td>\n",
       "      <td>...</td>\n",
       "      <td>60540</td>\n",
       "      <td>Central</td>\n",
       "      <td>OFF-BI-10004094</td>\n",
       "      <td>Office Supplies</td>\n",
       "      <td>Binders</td>\n",
       "      <td>GBC Standard Plastic Binding Systems Combs</td>\n",
       "      <td>3.540</td>\n",
       "      <td>2</td>\n",
       "      <td>0.8</td>\n",
       "      <td>-5.4870</td>\n",
       "    </tr>\n",
       "    <tr>\n",
       "      <th>4</th>\n",
       "      <td>1760</td>\n",
       "      <td>CA-2011-141817</td>\n",
       "      <td>1/5/2013</td>\n",
       "      <td>1/12/2013</td>\n",
       "      <td>Standard Class</td>\n",
       "      <td>MB-18085</td>\n",
       "      <td>Mick Brown</td>\n",
       "      <td>Consumer</td>\n",
       "      <td>United States</td>\n",
       "      <td>Philadelphia</td>\n",
       "      <td>...</td>\n",
       "      <td>19143</td>\n",
       "      <td>East</td>\n",
       "      <td>OFF-AR-10003478</td>\n",
       "      <td>Office Supplies</td>\n",
       "      <td>Art</td>\n",
       "      <td>Avery Hi-Liter EverBold Pen Style Fluorescent ...</td>\n",
       "      <td>19.536</td>\n",
       "      <td>3</td>\n",
       "      <td>0.2</td>\n",
       "      <td>4.8840</td>\n",
       "    </tr>\n",
       "    <tr>\n",
       "      <th>...</th>\n",
       "      <td>...</td>\n",
       "      <td>...</td>\n",
       "      <td>...</td>\n",
       "      <td>...</td>\n",
       "      <td>...</td>\n",
       "      <td>...</td>\n",
       "      <td>...</td>\n",
       "      <td>...</td>\n",
       "      <td>...</td>\n",
       "      <td>...</td>\n",
       "      <td>...</td>\n",
       "      <td>...</td>\n",
       "      <td>...</td>\n",
       "      <td>...</td>\n",
       "      <td>...</td>\n",
       "      <td>...</td>\n",
       "      <td>...</td>\n",
       "      <td>...</td>\n",
       "      <td>...</td>\n",
       "      <td>...</td>\n",
       "      <td>...</td>\n",
       "    </tr>\n",
       "    <tr>\n",
       "      <th>9989</th>\n",
       "      <td>908</td>\n",
       "      <td>CA-2014-143259</td>\n",
       "      <td>12/30/2016</td>\n",
       "      <td>1/3/2017</td>\n",
       "      <td>Standard Class</td>\n",
       "      <td>PO-18865</td>\n",
       "      <td>Patrick O'Donnell</td>\n",
       "      <td>Consumer</td>\n",
       "      <td>United States</td>\n",
       "      <td>New York City</td>\n",
       "      <td>...</td>\n",
       "      <td>10009</td>\n",
       "      <td>East</td>\n",
       "      <td>TEC-PH-10004774</td>\n",
       "      <td>Technology</td>\n",
       "      <td>Phones</td>\n",
       "      <td>Gear Head AU3700S Headset</td>\n",
       "      <td>90.930</td>\n",
       "      <td>7</td>\n",
       "      <td>0.0</td>\n",
       "      <td>2.7279</td>\n",
       "    </tr>\n",
       "    <tr>\n",
       "      <th>9990</th>\n",
       "      <td>909</td>\n",
       "      <td>CA-2014-143259</td>\n",
       "      <td>12/30/2016</td>\n",
       "      <td>1/3/2017</td>\n",
       "      <td>Standard Class</td>\n",
       "      <td>PO-18865</td>\n",
       "      <td>Patrick O'Donnell</td>\n",
       "      <td>Consumer</td>\n",
       "      <td>United States</td>\n",
       "      <td>New York City</td>\n",
       "      <td>...</td>\n",
       "      <td>10009</td>\n",
       "      <td>East</td>\n",
       "      <td>OFF-BI-10003684</td>\n",
       "      <td>Office Supplies</td>\n",
       "      <td>Binders</td>\n",
       "      <td>Wilson Jones Legal Size Ring Binders</td>\n",
       "      <td>52.776</td>\n",
       "      <td>3</td>\n",
       "      <td>0.2</td>\n",
       "      <td>19.7910</td>\n",
       "    </tr>\n",
       "    <tr>\n",
       "      <th>9991</th>\n",
       "      <td>1297</td>\n",
       "      <td>CA-2014-115427</td>\n",
       "      <td>12/30/2016</td>\n",
       "      <td>1/3/2017</td>\n",
       "      <td>Standard Class</td>\n",
       "      <td>EB-13975</td>\n",
       "      <td>Erica Bern</td>\n",
       "      <td>Corporate</td>\n",
       "      <td>United States</td>\n",
       "      <td>Fairfield</td>\n",
       "      <td>...</td>\n",
       "      <td>94533</td>\n",
       "      <td>West</td>\n",
       "      <td>OFF-BI-10002103</td>\n",
       "      <td>Office Supplies</td>\n",
       "      <td>Binders</td>\n",
       "      <td>Cardinal Slant-D Ring Binder, Heavy Gauge Vinyl</td>\n",
       "      <td>13.904</td>\n",
       "      <td>2</td>\n",
       "      <td>0.2</td>\n",
       "      <td>4.5188</td>\n",
       "    </tr>\n",
       "    <tr>\n",
       "      <th>9992</th>\n",
       "      <td>1298</td>\n",
       "      <td>CA-2014-115427</td>\n",
       "      <td>12/30/2016</td>\n",
       "      <td>1/3/2017</td>\n",
       "      <td>Standard Class</td>\n",
       "      <td>EB-13975</td>\n",
       "      <td>Erica Bern</td>\n",
       "      <td>Corporate</td>\n",
       "      <td>United States</td>\n",
       "      <td>Fairfield</td>\n",
       "      <td>...</td>\n",
       "      <td>94533</td>\n",
       "      <td>West</td>\n",
       "      <td>OFF-BI-10004632</td>\n",
       "      <td>Office Supplies</td>\n",
       "      <td>Binders</td>\n",
       "      <td>GBC Binding covers</td>\n",
       "      <td>20.720</td>\n",
       "      <td>2</td>\n",
       "      <td>0.2</td>\n",
       "      <td>6.4750</td>\n",
       "    </tr>\n",
       "    <tr>\n",
       "      <th>9993</th>\n",
       "      <td>5092</td>\n",
       "      <td>CA-2014-156720</td>\n",
       "      <td>12/30/2016</td>\n",
       "      <td>1/3/2017</td>\n",
       "      <td>Standard Class</td>\n",
       "      <td>JM-15580</td>\n",
       "      <td>Jill Matthias</td>\n",
       "      <td>Consumer</td>\n",
       "      <td>United States</td>\n",
       "      <td>Loveland</td>\n",
       "      <td>...</td>\n",
       "      <td>80538</td>\n",
       "      <td>West</td>\n",
       "      <td>OFF-FA-10003472</td>\n",
       "      <td>Office Supplies</td>\n",
       "      <td>Fasteners</td>\n",
       "      <td>Bagged Rubber Bands</td>\n",
       "      <td>3.024</td>\n",
       "      <td>3</td>\n",
       "      <td>0.2</td>\n",
       "      <td>-0.6048</td>\n",
       "    </tr>\n",
       "  </tbody>\n",
       "</table>\n",
       "<p>9994 rows × 21 columns</p>\n",
       "</div>"
      ],
      "text/plain": [
       "      Row ID        Order ID  Order Date  Ship Date       Ship Mode  \\\n",
       "0       7981  CA-2011-103800    1/3/2013   1/7/2013  Standard Class   \n",
       "1        740  CA-2011-112326    1/4/2013   1/8/2013  Standard Class   \n",
       "2        741  CA-2011-112326    1/4/2013   1/8/2013  Standard Class   \n",
       "3        742  CA-2011-112326    1/4/2013   1/8/2013  Standard Class   \n",
       "4       1760  CA-2011-141817    1/5/2013  1/12/2013  Standard Class   \n",
       "...      ...             ...         ...        ...             ...   \n",
       "9989     908  CA-2014-143259  12/30/2016   1/3/2017  Standard Class   \n",
       "9990     909  CA-2014-143259  12/30/2016   1/3/2017  Standard Class   \n",
       "9991    1297  CA-2014-115427  12/30/2016   1/3/2017  Standard Class   \n",
       "9992    1298  CA-2014-115427  12/30/2016   1/3/2017  Standard Class   \n",
       "9993    5092  CA-2014-156720  12/30/2016   1/3/2017  Standard Class   \n",
       "\n",
       "     Customer ID      Customer Name      Segment        Country  \\\n",
       "0       DP-13000      Darren Powers     Consumer  United States   \n",
       "1       PO-19195      Phillina Ober  Home Office  United States   \n",
       "2       PO-19195      Phillina Ober  Home Office  United States   \n",
       "3       PO-19195      Phillina Ober  Home Office  United States   \n",
       "4       MB-18085         Mick Brown     Consumer  United States   \n",
       "...          ...                ...          ...            ...   \n",
       "9989    PO-18865  Patrick O'Donnell     Consumer  United States   \n",
       "9990    PO-18865  Patrick O'Donnell     Consumer  United States   \n",
       "9991    EB-13975         Erica Bern    Corporate  United States   \n",
       "9992    EB-13975         Erica Bern    Corporate  United States   \n",
       "9993    JM-15580      Jill Matthias     Consumer  United States   \n",
       "\n",
       "               City  ... Postal Code   Region       Product ID  \\\n",
       "0           Houston  ...       77095  Central  OFF-PA-10000174   \n",
       "1        Naperville  ...       60540  Central  OFF-LA-10003223   \n",
       "2        Naperville  ...       60540  Central  OFF-ST-10002743   \n",
       "3        Naperville  ...       60540  Central  OFF-BI-10004094   \n",
       "4      Philadelphia  ...       19143     East  OFF-AR-10003478   \n",
       "...             ...  ...         ...      ...              ...   \n",
       "9989  New York City  ...       10009     East  TEC-PH-10004774   \n",
       "9990  New York City  ...       10009     East  OFF-BI-10003684   \n",
       "9991      Fairfield  ...       94533     West  OFF-BI-10002103   \n",
       "9992      Fairfield  ...       94533     West  OFF-BI-10004632   \n",
       "9993       Loveland  ...       80538     West  OFF-FA-10003472   \n",
       "\n",
       "             Category Sub-Category  \\\n",
       "0     Office Supplies        Paper   \n",
       "1     Office Supplies       Labels   \n",
       "2     Office Supplies      Storage   \n",
       "3     Office Supplies      Binders   \n",
       "4     Office Supplies          Art   \n",
       "...               ...          ...   \n",
       "9989       Technology       Phones   \n",
       "9990  Office Supplies      Binders   \n",
       "9991  Office Supplies      Binders   \n",
       "9992  Office Supplies      Binders   \n",
       "9993  Office Supplies    Fasteners   \n",
       "\n",
       "                                           Product Name    Sales  Quantity  \\\n",
       "0     Message Book, Wirebound, Four 5 1/2\" X 4\" Form...   16.448         2   \n",
       "1                                             Avery 508   11.784         3   \n",
       "2                         SAFCO Boltless Steel Shelving  272.736         3   \n",
       "3            GBC Standard Plastic Binding Systems Combs    3.540         2   \n",
       "4     Avery Hi-Liter EverBold Pen Style Fluorescent ...   19.536         3   \n",
       "...                                                 ...      ...       ...   \n",
       "9989                          Gear Head AU3700S Headset   90.930         7   \n",
       "9990               Wilson Jones Legal Size Ring Binders   52.776         3   \n",
       "9991    Cardinal Slant-D Ring Binder, Heavy Gauge Vinyl   13.904         2   \n",
       "9992                                 GBC Binding covers   20.720         2   \n",
       "9993                                Bagged Rubber Bands    3.024         3   \n",
       "\n",
       "      Discount   Profit  \n",
       "0          0.2   5.5512  \n",
       "1          0.2   4.2717  \n",
       "2          0.2 -64.7748  \n",
       "3          0.8  -5.4870  \n",
       "4          0.2   4.8840  \n",
       "...        ...      ...  \n",
       "9989       0.0   2.7279  \n",
       "9990       0.2  19.7910  \n",
       "9991       0.2   4.5188  \n",
       "9992       0.2   6.4750  \n",
       "9993       0.2  -0.6048  \n",
       "\n",
       "[9994 rows x 21 columns]"
      ]
     },
     "execution_count": 59,
     "metadata": {},
     "output_type": "execute_result"
    }
   ],
   "source": [
    "df"
   ]
  },
  {
   "cell_type": "markdown",
   "metadata": {},
   "source": [
    "The above output suggests that SARIMAX(1, 1, 1)x(1, 1, 0, 12) yields the lowest AIC value of 297.78. Therefore we should consider this to be optimal option."
   ]
  },
  {
   "cell_type": "markdown",
   "metadata": {},
   "source": [
    "# Fitting the ARIMA model"
   ]
  },
  {
   "cell_type": "code",
   "execution_count": 60,
   "metadata": {},
   "outputs": [
    {
     "name": "stdout",
     "output_type": "stream",
     "text": [
      "==============================================================================\n",
      "                 coef    std err          z      P>|z|      [0.025      0.975]\n",
      "------------------------------------------------------------------------------\n",
      "ar.L1          0.0054      0.318      0.017      0.987      -0.618       0.629\n",
      "ma.L1         -1.0000      0.403     -2.480      0.013      -1.790      -0.210\n",
      "ar.S.L12      -0.0219      0.039     -0.557      0.577      -0.099       0.055\n",
      "sigma2      2.898e+04   1.39e-05   2.08e+09      0.000     2.9e+04     2.9e+04\n",
      "==============================================================================\n"
     ]
    }
   ],
   "source": [
    "mod = sm.tsa.statespace.SARIMAX(y,\n",
    "                                order=(1, 1, 1),\n",
    "                                seasonal_order=(1, 1, 0, 12),\n",
    "                                enforce_stationarity=False,\n",
    "                                enforce_invertibility=False)\n",
    "results = mod.fit()\n",
    "print(results.summary().tables[1])"
   ]
  },
  {
   "cell_type": "markdown",
   "metadata": {},
   "source": [
    "We should always run model diagnostics to investigate any unusual behavior."
   ]
  },
  {
   "cell_type": "code",
   "execution_count": 61,
   "metadata": {},
   "outputs": [
    {
     "data": {
      "image/png": "[encoded data removed]",
      "text/plain": [
       "<Figure size 1152x576 with 4 Axes>"
      ]
     },
     "metadata": {},
     "output_type": "display_data"
    }
   ],
   "source": [
    "results.plot_diagnostics(figsize=(16, 8))\n",
    "plt.show()"
   ]
  },
  {
   "cell_type": "markdown",
   "metadata": {},
   "source": [
    "It is not perfect, however, our model diagnostics suggests that the model residuals are near normally distributed."
   ]
  },
  {
   "cell_type": "markdown",
   "metadata": {},
   "source": [
    "# Validating forecasts\n",
    "To help us understand the accuracy of our forecasts, we compare predicted sales to real sales of the time series, and we set forecasts to start at 2017–01–01 to the end of the data."
   ]
  },
  {
   "cell_type": "code",
   "execution_count": null,
   "metadata": {},
   "outputs": [],
   "source": [
    "pred = results.get_prediction(start=pd.to_datetime('2017-01-01'), dynamic=False)\n",
    "pred_ci = pred.conf_int()\n",
    "ax = y['2014':].plot(label='observed')\n",
    "pred.predicted_mean.plot(ax=ax, label='One-step ahead Forecast', alpha=.7, figsize=(14, 7))\n",
    "ax.fill_between(pred_ci.index,\n",
    "                pred_ci.iloc[:, 0],\n",
    "                pred_ci.iloc[:, 1], color='k', alpha=.2)\n",
    "ax.set_xlabel('Date')\n",
    "ax.set_ylabel('Furniture Sales')\n",
    "plt.legend()\n",
    "plt.show()"
   ]
  },
  {
   "cell_type": "markdown",
   "metadata": {},
   "source": [
    "The line plot is showing the observed values compared to the rolling forecast predictions. Overall, our forecasts align with the true values very well, showing an upward trend starts from the beginning of the year and captured the seasonality toward the end of the year."
   ]
  },
  {
   "cell_type": "code",
   "execution_count": null,
   "metadata": {},
   "outputs": [],
   "source": [
    "y_forecasted = pred.predicted_mean\n",
    "y_truth = y['2017-01-01':]\n",
    "mse = ((y_forecasted - y_truth) ** 2).mean()\n",
    "print('The Mean Squared Error of our forecasts is {}'.format(round(mse, 2)))"
   ]
  },
  {
   "cell_type": "code",
   "execution_count": null,
   "metadata": {},
   "outputs": [],
   "source": [
    "print('The Root Mean Squared Error of our forecasts is {}'.format(round(np.sqrt(mse), 2)))"
   ]
  },
  {
   "cell_type": "markdown",
   "metadata": {},
   "source": [
    "In statistics, the mean squared error (MSE) of an estimator measures the average of the squares of the errors — that is, the average squared difference between the estimated values and what is estimated. The MSE is a measure of the quality of an estimator — it is always non-negative, and the smaller the MSE, the closer we are to finding the line of best fit.\n",
    "\n",
    "Root Mean Square Error (RMSE) tells us that our model was able to forecast the average daily furniture sales in the test set within 151.64 of the real sales. Our furniture daily sales range from around 400 to over 1200. In my opinion, this is a pretty good model so far."
   ]
  },
  {
   "cell_type": "markdown",
   "metadata": {},
   "source": [
    "# Producing and visualizing forecasts"
   ]
  },
  {
   "cell_type": "code",
   "execution_count": null,
   "metadata": {},
   "outputs": [],
   "source": [
    "pred_uc = results.get_forecast(steps=100)\n",
    "pred_ci = pred_uc.conf_int()\n",
    "ax = y.plot(label='observed', figsize=(14, 7))\n",
    "pred_uc.predicted_mean.plot(ax=ax, label='Forecast')\n",
    "ax.fill_between(pred_ci.index,\n",
    "                pred_ci.iloc[:, 0],\n",
    "                pred_ci.iloc[:, 1], color='k', alpha=.25)\n",
    "ax.set_xlabel('Date')\n",
    "ax.set_ylabel('Furniture Sales')\n",
    "plt.legend()\n",
    "plt.show()"
   ]
  },
  {
   "cell_type": "markdown",
   "metadata": {},
   "source": [
    "Our model clearly captured furniture sales seasonality. As we forecast further out into the future, it is natural for us to become less confident in our values. This is reflected by the confidence intervals generated by our model, which grow larger as we move further out into the future.\n",
    "\n",
    "The above time series analysis for furniture makes me curious about other categories, and how do they compare with each other over time. Therefore, we are going to compare time series of furniture and office supplier."
   ]
  },
  {
   "cell_type": "markdown",
   "metadata": {},
   "source": [
    "# Time Series of Furniture vs. Office Supplies\n",
    "\n",
    "According to our data, there were way more number of sales from Office Supplies than from Furniture over the years."
   ]
  },
  {
   "cell_type": "code",
   "execution_count": null,
   "metadata": {},
   "outputs": [],
   "source": [
    "furniture = df.loc[df['Category'] == 'Furniture']\n",
    "office = df.loc[df['Category'] == 'Office Supplies']\n",
    "furniture.shape, office.shape"
   ]
  },
  {
   "cell_type": "markdown",
   "metadata": {},
   "source": [
    "# Data Exploration\n",
    "\n",
    "We are going to compare two categories’ sales in the same time period. This means combine two data frames into one and plot these two categories’ time series into one plot."
   ]
  },
  {
   "cell_type": "code",
   "execution_count": null,
   "metadata": {},
   "outputs": [],
   "source": [
    "cols = ['Row ID', 'Order ID', 'Ship Date', 'Ship Mode', 'Customer ID', 'Customer Name', 'Segment', 'Country', 'City', 'State', 'Postal Code', 'Region', 'Product ID', 'Category', 'Sub-Category', 'Product Name', 'Quantity', 'Discount', 'Profit']\n",
    "furniture.drop(cols, axis=1, inplace=True)\n",
    "office.drop(cols, axis=1, inplace=True)\n",
    "furniture = furniture.sort_values('Order Date')\n",
    "office = office.sort_values('Order Date')\n",
    "furniture = furniture.groupby('Order Date')['Sales'].sum().reset_index()\n",
    "office = office.groupby('Order Date')['Sales'].sum().reset_index()\n",
    "furniture = furniture.set_index('Order Date')\n",
    "office = office.set_index('Order Date')\n",
    "y_furniture = furniture['Sales'].resample('MS').mean()\n",
    "y_office = office['Sales'].resample('MS').mean()\n",
    "furniture = pd.DataFrame({'Order Date':y_furniture.index, 'Sales':y_furniture.values})\n",
    "office = pd.DataFrame({'Order Date': y_office.index, 'Sales': y_office.values})\n",
    "store = furniture.merge(office, how='inner', on='Order Date')\n",
    "store.rename(columns={'Sales_x': 'furniture_sales', 'Sales_y': 'office_sales'}, inplace=True)\n",
    "store.head()\n"
   ]
  },
  {
   "cell_type": "code",
   "execution_count": null,
   "metadata": {},
   "outputs": [],
   "source": [
    "plt.figure(figsize=(20, 8))\n",
    "plt.plot(store['Order Date'], store['furniture_sales'], 'b-', label = 'furniture')\n",
    "plt.plot(store['Order Date'], store['office_sales'], 'r-', label = 'office supplies')\n",
    "plt.xlabel('Date'); plt.ylabel('Sales'); plt.title('Sales of Furniture and Office Supplies')\n",
    "plt.legend();"
   ]
  },
  {
   "cell_type": "markdown",
   "metadata": {},
   "source": [
    "We observe that sales of furniture and office supplies shared a similar seasonal pattern. Early of the year is the off season for both of the two categories. It seems summer time is quiet for office supplies too. in addition, average daily sales for furniture are higher than those of office supplies in most of the months. It is understandable, as the value of furniture should be much higher than those of office supplies. Occasionally, office supplies passed furniture on average daily sales. Let’s find out when was the first time office supplies’ sales surpassed those of furniture’s."
   ]
  },
  {
   "cell_type": "code",
   "execution_count": null,
   "metadata": {},
   "outputs": [],
   "source": [
    "store.columns"
   ]
  },
  {
   "cell_type": "code",
   "execution_count": null,
   "metadata": {},
   "outputs": [],
   "source": [
    "first_date = store.ax[np.min(list(np.where(store['office_sales'] > store['furniture_sales'])[0])), 'Order Date']\n",
    "\n"
   ]
  },
  {
   "cell_type": "markdown",
   "metadata": {},
   "source": [
    "# Time Series Modeling with Prophet\n",
    "Released by Facebook in 2017, forecasting tool Prophet is designed for analyzing time-series that display patterns on different time scales such as yearly, weekly and daily. It also has advanced capabilities for modeling the effects of holidays on a time-series and implementing custom changepoints. Therefore, we are using Prophet to get a model up and running."
   ]
  },
  {
   "cell_type": "code",
   "execution_count": null,
   "metadata": {},
   "outputs": [],
   "source": [
    "from fbprophet import Prophet\n",
    "furniture = furniture.rename(columns={'Order Date': 'ds', 'Sales': 'y'})\n",
    "furniture_model = Prophet(interval_width=0.95)\n",
    "furniture_model.fit(furniture)\n",
    "office = office.rename(columns={'Order Date': 'ds', 'Sales': 'y'})\n",
    "office_model = Prophet(interval_width=0.95)\n",
    "office_model.fit(office)\n",
    "furniture_forecast = furniture_model.make_future_dataframe(periods=36, freq='MS')\n",
    "furniture_forecast = furniture_model.predict(furniture_forecast)\n",
    "office_forecast = office_model.make_future_dataframe(periods=36, freq='MS')\n",
    "office_forecast = office_model.predict(office_forecast)\n",
    "plt.figure(figsize=(18, 6))\n",
    "furniture_model.plot(furniture_forecast, xlabel = 'Date', ylabel = 'Sales')\n",
    "plt.title('Furniture Sales');"
   ]
  },
  {
   "cell_type": "code",
   "execution_count": null,
   "metadata": {},
   "outputs": [],
   "source": [
    "import warnings\n",
    "import itertools\n",
    "import pandas as pd\n",
    "import numpy as np\n",
    "import statsmodels.api as sm\n",
    "import matplotlib.pyplot as plt\n",
    "plt.style.use('fivethirtyeight')"
   ]
  },
  {
   "cell_type": "code",
   "execution_count": null,
   "metadata": {},
   "outputs": [],
   "source": [
    "data = sm.datasets.co2.load_pandas()\n",
    "y = data.data"
   ]
  },
  {
   "cell_type": "code",
   "execution_count": null,
   "metadata": {},
   "outputs": [],
   "source": [
    "# The 'MS' string groups the data in buckets by start of the month\n",
    "y = y['co2'].resample('MS').mean()\n",
    "\n",
    "# The term bfill means that we use the value before filling in missing values\n",
    "y = y.fillna(y.bfill())\n",
    "\n",
    "print(y)"
   ]
  },
  {
   "cell_type": "code",
   "execution_count": null,
   "metadata": {},
   "outputs": [],
   "source": [
    "y.plot(figsize=(15, 6))\n",
    "plt.show()"
   ]
  },
  {
   "cell_type": "code",
   "execution_count": null,
   "metadata": {},
   "outputs": [],
   "source": [
    "# Define the p, d and q parameters to take any value between 0 and 2\n",
    "p = d = q = range(0, 2)\n",
    "\n",
    "# Generate all different combinations of p, q and q triplets\n",
    "pdq = list(itertools.product(p, d, q))\n",
    "\n",
    "# Generate all different combinations of seasonal p, q and q triplets\n",
    "seasonal_pdq = [(x[0], x[1], x[2], 12) for x in list(itertools.product(p, d, q))]\n",
    "\n",
    "print('Examples of parameter combinations for Seasonal ARIMA...')\n",
    "print('SARIMAX: {} x {}'.format(pdq[1], seasonal_pdq[1]))\n",
    "print('SARIMAX: {} x {}'.format(pdq[1], seasonal_pdq[2]))\n",
    "print('SARIMAX: {} x {}'.format(pdq[2], seasonal_pdq[3]))\n",
    "print('SARIMAX: {} x {}'.format(pdq[2], seasonal_pdq[4]))"
   ]
  },
  {
   "cell_type": "code",
   "execution_count": null,
   "metadata": {},
   "outputs": [],
   "source": [
    "warnings.filterwarnings(\"ignore\") # specify to ignore warning messages\n",
    "\n",
    "for param in pdq:\n",
    "    for param_seasonal in seasonal_pdq:\n",
    "        try:\n",
    "            mod = sm.tsa.statespace.SARIMAX(y,\n",
    "                                            order=param,\n",
    "                                            seasonal_order=param_seasonal,\n",
    "                                            enforce_stationarity=False,\n",
    "                                            enforce_invertibility=False)\n",
    "\n",
    "            results = mod.fit()\n",
    "\n",
    "            print('ARIMA{}x{}12 - AIC:{}'.format(param, param_seasonal, results.aic))\n",
    "        except:\n",
    "            continue"
   ]
  },
  {
   "cell_type": "code",
   "execution_count": 9,
   "metadata": {},
   "outputs": [
    {
     "ename": "NameError",
     "evalue": "name 'y' is not defined",
     "output_type": "error",
     "traceback": [
      "\u001b[1;31m---------------------------------------------------------------------------\u001b[0m",
      "\u001b[1;31mNameError\u001b[0m                                 Traceback (most recent call last)",
      "\u001b[1;32m<ipython-input-9-fbdee454670a>\u001b[0m in \u001b[0;36m<module>\u001b[1;34m\u001b[0m\n\u001b[1;32m----> 1\u001b[1;33m mod = sm.tsa.statespace.SARIMAX(y,\n\u001b[0m\u001b[0;32m      2\u001b[0m                                 \u001b[0morder\u001b[0m\u001b[1;33m=\u001b[0m\u001b[1;33m(\u001b[0m\u001b[1;36m1\u001b[0m\u001b[1;33m,\u001b[0m \u001b[1;36m1\u001b[0m\u001b[1;33m,\u001b[0m \u001b[1;36m1\u001b[0m\u001b[1;33m)\u001b[0m\u001b[1;33m,\u001b[0m\u001b[1;33m\u001b[0m\u001b[1;33m\u001b[0m\u001b[0m\n\u001b[0;32m      3\u001b[0m                                 \u001b[0mseasonal_order\u001b[0m\u001b[1;33m=\u001b[0m\u001b[1;33m(\u001b[0m\u001b[1;36m1\u001b[0m\u001b[1;33m,\u001b[0m \u001b[1;36m1\u001b[0m\u001b[1;33m,\u001b[0m \u001b[1;36m1\u001b[0m\u001b[1;33m,\u001b[0m \u001b[1;36m12\u001b[0m\u001b[1;33m)\u001b[0m\u001b[1;33m,\u001b[0m\u001b[1;33m\u001b[0m\u001b[1;33m\u001b[0m\u001b[0m\n\u001b[0;32m      4\u001b[0m                                 \u001b[0menforce_stationarity\u001b[0m\u001b[1;33m=\u001b[0m\u001b[1;32mFalse\u001b[0m\u001b[1;33m,\u001b[0m\u001b[1;33m\u001b[0m\u001b[1;33m\u001b[0m\u001b[0m\n\u001b[0;32m      5\u001b[0m                                 enforce_invertibility=False)\n",
      "\u001b[1;31mNameError\u001b[0m: name 'y' is not defined"
     ]
    }
   ],
   "source": [
    "mod = sm.tsa.statespace.SARIMAX(y,\n",
    "                                order=(1, 1, 1),\n",
    "                                seasonal_order=(1, 1, 1, 12),\n",
    "                                enforce_stationarity=False,\n",
    "                                enforce_invertibility=False)\n",
    "\n",
    "results = mod.fit()\n",
    "\n",
    "print(results.summary().tables[1])"
   ]
  },
  {
   "cell_type": "code",
   "execution_count": null,
   "metadata": {},
   "outputs": [],
   "source": [
    "results.plot_diagnostics(figsize=(15, 12))\n",
    "plt.show()"
   ]
  },
  {
   "cell_type": "code",
   "execution_count": null,
   "metadata": {},
   "outputs": [],
   "source": [
    "pred = results.get_prediction(start=pd.to_datetime('1998-01-01'), dynamic=False)\n",
    "pred_ci = pred.conf_int()"
   ]
  },
  {
   "cell_type": "code",
   "execution_count": null,
   "metadata": {},
   "outputs": [],
   "source": [
    "ax = y['1990':].plot(label='observed')\n",
    "pred.predicted_mean.plot(ax=ax, label='One-step ahead Forecast', alpha=.7)\n",
    "\n",
    "ax.fill_between(pred_ci.index,\n",
    "                pred_ci.iloc[:, 0],\n",
    "                pred_ci.iloc[:, 1], color='k', alpha=.2)\n",
    "\n",
    "ax.set_xlabel('Date')\n",
    "ax.set_ylabel('CO2 Levels')\n",
    "plt.legend()\n",
    "\n",
    "plt.show()"
   ]
  },
  {
   "cell_type": "code",
   "execution_count": null,
   "metadata": {},
   "outputs": [],
   "source": [
    "y_forecasted = pred.predicted_mean\n",
    "y_truth = y['1998-01-01':]\n",
    "\n",
    "# Compute the mean square error\n",
    "mse = ((y_forecasted - y_truth) ** 2).mean()\n",
    "print('The Mean Squared Error of our forecasts is {}'.format(round(mse, 2)))"
   ]
  },
  {
   "cell_type": "code",
   "execution_count": null,
   "metadata": {},
   "outputs": [],
   "source": [
    "pred_dynamic = results.get_prediction(start=pd.to_datetime('1998-01-01'), dynamic=True, full_results=True)\n",
    "pred_dynamic_ci = pred_dynamic.conf_int()"
   ]
  },
  {
   "cell_type": "code",
   "execution_count": null,
   "metadata": {},
   "outputs": [],
   "source": [
    "ax = y['1990':].plot(label='observed', figsize=(20, 15))\n",
    "pred_dynamic.predicted_mean.plot(label='Dynamic Forecast', ax=ax)\n",
    "\n",
    "ax.fill_between(pred_dynamic_ci.index,\n",
    "                pred_dynamic_ci.iloc[:, 0],\n",
    "                pred_dynamic_ci.iloc[:, 1], color='k', alpha=.25)\n",
    "\n",
    "ax.fill_betweenx(ax.get_ylim(), pd.to_datetime('1998-01-01'), y.index[-1],\n",
    "                 alpha=.1, zorder=-1)\n",
    "\n",
    "ax.set_xlabel('Date')\n",
    "ax.set_ylabel('CO2 Levels')\n",
    "\n",
    "plt.legend()\n",
    "plt.show()"
   ]
  },
  {
   "cell_type": "code",
   "execution_count": null,
   "metadata": {},
   "outputs": [],
   "source": [
    "# Extract the predicted and true values of our time series\n",
    "y_forecasted = pred_dynamic.predicted_mean\n",
    "y_truth = y['1998-01-01':]\n",
    "\n",
    "# Compute the mean square error\n",
    "mse = ((y_forecasted - y_truth) ** 2).mean()\n",
    "print('The Mean Squared Error of our forecasts is {}'.format(round(mse, 2)))"
   ]
  },
  {
   "cell_type": "code",
   "execution_count": null,
   "metadata": {},
   "outputs": [],
   "source": [
    "# Get forecast 500 steps ahead in future\n",
    "pred_uc = results.get_forecast(steps=500)\n",
    "\n",
    "# Get confidence intervals of forecasts\n",
    "pred_ci = pred_uc.conf_int()"
   ]
  },
  {
   "cell_type": "code",
   "execution_count": null,
   "metadata": {},
   "outputs": [],
   "source": [
    "ax = y.plot(label='observed', figsize=(20, 15))\n",
    "pred_uc.predicted_mean.plot(ax=ax, label='Forecast')\n",
    "ax.fill_between(pred_ci.index,\n",
    "                pred_ci.iloc[:, 0],\n",
    "                pred_ci.iloc[:, 1], color='k', alpha=.25)\n",
    "ax.set_xlabel('Date')\n",
    "ax.set_ylabel('CO2 Levels')\n",
    "\n",
    "plt.legend()\n",
    "plt.show()"
   ]
  },
  {
   "cell_type": "code",
   "execution_count": null,
   "metadata": {},
   "outputs": [],
   "source": []
  }
 ],
 "metadata": {
  "kernelspec": {
   "display_name": "Python 3",
   "language": "python",
   "name": "python3"
  },
  "language_info": {
   "codemirror_mode": {
    "name": "ipython",
    "version": 3
   },
   "file_extension": ".py",
   "mimetype": "text/x-python",
   "name": "python",
   "nbconvert_exporter": "python",
   "pygments_lexer": "ipython3",
   "version": "3.7.1"
  }
 },
 "nbformat": 4,
 "nbformat_minor": 4
}
