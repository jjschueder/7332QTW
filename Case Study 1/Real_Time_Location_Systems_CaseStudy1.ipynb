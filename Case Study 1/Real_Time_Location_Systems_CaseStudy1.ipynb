{
 "cells": [
  {
   "cell_type": "markdown",
   "metadata": {},
   "source": [
    "## Indoor Positioning System (IPS) - R-code\n",
    "#### Nicole Wittlin, Steven Hayden, Joseph Schueder, Kevin Mendonsa\n"
   ]
  },
  {
   "cell_type": "markdown",
   "metadata": {},
   "source": [
    "### Understanding and processing the data collected"
   ]
  },
  {
   "cell_type": "code",
   "execution_count": 1,
   "metadata": {},
   "outputs": [
    {
     "name": "stderr",
     "output_type": "stream",
     "text": [
      "Warning message:\n",
      "\"package 'lattice' was built under R version 3.6.3\""
     ]
    }
   ],
   "source": [
    "#set path to the file, the data file should be in the folder as a script\n",
    "#setwd(\"C:/Users/kevinm/Documents/SMU/MSDS7333_QuantifyingTheWorld/Week1\")\n",
    "options(digits = 2)\n",
    "library(lattice)\n",
    "\n",
    "offlineRAW = readLines(\"offline.final.trace.txt\")"
   ]
  },
  {
   "cell_type": "code",
   "execution_count": 2,
   "metadata": {},
   "outputs": [
    {
     "name": "stdout",
     "output_type": "stream",
     "text": [
      "[1] \"The classes of the variables in the offline data set are...\"\n"
     ]
    },
    {
     "data": {
      "text/html": [
       "<dl class=dl-horizontal>\n",
       "\t<dt>time1</dt>\n",
       "\t\t<dd>'POSIXt'</dd>\n",
       "\t<dt>time2</dt>\n",
       "\t\t<dd>'POSIXct'</dd>\n",
       "\t<dt>scanMac</dt>\n",
       "\t\t<dd>'character'</dd>\n",
       "\t<dt>posX</dt>\n",
       "\t\t<dd>'numeric'</dd>\n",
       "\t<dt>posY</dt>\n",
       "\t\t<dd>'numeric'</dd>\n",
       "\t<dt>posZ</dt>\n",
       "\t\t<dd>'numeric'</dd>\n",
       "\t<dt>orientation</dt>\n",
       "\t\t<dd>'numeric'</dd>\n",
       "\t<dt>mac</dt>\n",
       "\t\t<dd>'character'</dd>\n",
       "\t<dt>signal</dt>\n",
       "\t\t<dd>'numeric'</dd>\n",
       "\t<dt>channel</dt>\n",
       "\t\t<dd>'character'</dd>\n",
       "\t<dt>rawTime</dt>\n",
       "\t\t<dd>'numeric'</dd>\n",
       "</dl>\n"
      ],
      "text/latex": [
       "\\begin{description*}\n",
       "\\item[time1] 'POSIXt'\n",
       "\\item[time2] 'POSIXct'\n",
       "\\item[scanMac] 'character'\n",
       "\\item[posX] 'numeric'\n",
       "\\item[posY] 'numeric'\n",
       "\\item[posZ] 'numeric'\n",
       "\\item[orientation] 'numeric'\n",
       "\\item[mac] 'character'\n",
       "\\item[signal] 'numeric'\n",
       "\\item[channel] 'character'\n",
       "\\item[rawTime] 'numeric'\n",
       "\\end{description*}\n"
      ],
      "text/markdown": [
       "time1\n",
       ":   'POSIXt'time2\n",
       ":   'POSIXct'scanMac\n",
       ":   'character'posX\n",
       ":   'numeric'posY\n",
       ":   'numeric'posZ\n",
       ":   'numeric'orientation\n",
       ":   'numeric'mac\n",
       ":   'character'signal\n",
       ":   'numeric'channel\n",
       ":   'character'rawTime\n",
       ":   'numeric'\n",
       "\n"
      ],
      "text/plain": [
       "      time1       time2     scanMac        posX        posY        posZ \n",
       "   \"POSIXt\"   \"POSIXct\" \"character\"   \"numeric\"   \"numeric\"   \"numeric\" \n",
       "orientation         mac      signal     channel     rawTime \n",
       "  \"numeric\" \"character\"   \"numeric\" \"character\"   \"numeric\" "
      ]
     },
     "metadata": {},
     "output_type": "display_data"
    }
   ],
   "source": [
    "# Create a function to process the data by line/row/record\n",
    "processLine = function(x)\n",
    "{\n",
    "  tokens = strsplit(x, \"[;=,]\")[[1]]\n",
    "  if (length(tokens) == 10) # if length equql=10 then NULL - eliminates warnings in \"R\"\n",
    "    return(NULL)\n",
    "  tmp = matrix(tokens[ - (1:10) ], , 4, byrow = TRUE)\n",
    "  cbind(matrix(tokens[c(2, 4, 6:8, 10)], nrow(tmp), 6,\n",
    "               byrow = TRUE), tmp)\n",
    "}\n",
    "\n",
    "# exclude rows starting with \"#\"\n",
    "lines = offlineRAW[ substr(offlineRAW, 1, 1) != \"#\" ]\n",
    "\n",
    "tmp = lapply(lines, processLine)\n",
    "offlineStage = as.data.frame(do.call(\"rbind\", tmp), \n",
    "                        stringsAsFactors = FALSE)\n",
    "\n",
    "# Cleaning the Data and Building a Representation for EDA\n",
    "# Rename the fields with meaningful names\n",
    "names(offlineStage) = c(\"time\", \"scanMac\", \"posX\", \"posY\", \"posZ\", \n",
    "                   \"orientation\", \"mac\", \"signal\", \n",
    "                   \"channel\", \"type\")\n",
    "\n",
    "# we convert the position, signal, and time variables to numeric\n",
    "numVars = c(\"time\", \"posX\", \"posY\", \"posZ\", \n",
    "            \"orientation\", \"signal\")\n",
    "offlineStage[ numVars ] =  lapply(offlineStage[ numVars ], as.numeric)\n",
    "\n",
    "# filter adhoc measurement records and drop the type variable \n",
    "offlineStage = offlineStage[ offlineStage$type == \"3\", ]\n",
    "offlineStage = offlineStage[ , \"type\" != names(offlineStage) ]\n",
    "\n",
    "# convert time to POSIX class\n",
    "offlineStage$rawTime = offlineStage$time\n",
    "offlineStage$time = offlineStage$time/1000\n",
    "class(offlineStage$time) = c(\"POSIXt\", \"POSIXct\")\n",
    "\n",
    "# verify that variables\n",
    "print('The classes of the variables in the offline data set are...')\n",
    "unlist(lapply(offlineStage, class))"
   ]
  },
  {
   "cell_type": "code",
   "execution_count": 3,
   "metadata": {},
   "outputs": [
    {
     "name": "stdout",
     "output_type": "stream",
     "text": [
      "[1] \"The summary basic fit statistics for the variables in the offline data set are...\"\n"
     ]
    },
    {
     "data": {
      "text/plain": [
       "      time                          posX         posY           posZ  \n",
       " Min.   :2006-02-10 23:31:58   Min.   : 0   Min.   : 0.0   Min.   :0  \n",
       " 1st Qu.:2006-02-11 05:21:27   1st Qu.: 2   1st Qu.: 3.0   1st Qu.:0  \n",
       " Median :2006-02-11 11:57:58   Median :12   Median : 6.0   Median :0  \n",
       " Mean   :2006-02-16 06:57:37   Mean   :14   Mean   : 5.9   Mean   :0  \n",
       " 3rd Qu.:2006-02-19 06:52:40   3rd Qu.:23   3rd Qu.: 8.0   3rd Qu.:0  \n",
       " Max.   :2006-03-09 12:41:10   Max.   :33   Max.   :13.0   Max.   :0  \n",
       "  orientation      signal   \n",
       " Min.   :  0   Min.   :-99  \n",
       " 1st Qu.: 90   1st Qu.:-69  \n",
       " Median :180   Median :-60  \n",
       " Mean   :167   Mean   :-62  \n",
       " 3rd Qu.:270   3rd Qu.:-53  \n",
       " Max.   :360   Max.   :-25  "
      ]
     },
     "metadata": {},
     "output_type": "display_data"
    }
   ],
   "source": [
    "# review summary stats for numeric variables\n",
    "print('The summary basic fit statistics for the variables in the offline data set are...')\n",
    "summary(offlineStage[, numVars])"
   ]
  },
  {
   "cell_type": "code",
   "execution_count": 4,
   "metadata": {},
   "outputs": [
    {
     "name": "stdout",
     "output_type": "stream",
     "text": [
      "[1] \"The MAC addresses and channels in the data set are...\"\n"
     ]
    },
    {
     "data": {
      "text/plain": [
       "                mac               channel                    scanMac      \n",
       " 00:0f:a3:39:e1:c0:145862   2462000000:189774   00:02:2D:21:0F:33:978443  \n",
       " 00:0f:a3:39:dd:cd:145619   2437000000:152124                             \n",
       " 00:14:bf:b1:97:8a:132962   2412000000:145619                             \n",
       " 00:14:bf:3b:c7:c6:126529   2432000000:126529                             \n",
       " 00:14:bf:b1:97:90:122315   2427000000:122315                             \n",
       " 00:14:bf:b1:97:8d:121325   2442000000:121325                             \n",
       " (Other)          :183831   (Other)   :120757                             "
      ]
     },
     "metadata": {},
     "output_type": "display_data"
    }
   ],
   "source": [
    "# convert character variables to factors and examine with summary\n",
    "print('The MAC addresses and channels in the data set are...')\n",
    "summary(sapply(offlineStage[ , c(\"mac\", \"channel\", \"scanMac\")],\n",
    "               as.factor))\n",
    "# drop variables scanMac and posZ\n",
    "offlineStage = offlineStage[ , !(names(offlineStage) %in% c(\"scanMac\", \"posZ\"))]"
   ]
  },
  {
   "cell_type": "markdown",
   "metadata": {},
   "source": [
    "### Exploratory Data Analysis (EDA)"
   ]
  },
  {
   "cell_type": "code",
   "execution_count": 5,
   "metadata": {},
   "outputs": [
    {
     "name": "stdout",
     "output_type": "stream",
     "text": [
      "[1] \"We can see from the plot that the measurements of angles are not exactly at 45degree intervals. Therefore we need to round the orientations to the nearest 45degree angle for further analysis.\"\n"
     ]
    },
    {
     "data": {
      "image/png": "[encoded data removed]",
      "text/plain": [
       "Plot with title \"Distribution of Orientation\""
      ]
     },
     "metadata": {},
     "output_type": "display_data"
    }
   ],
   "source": [
    "# Plot the distribution of orientation\n",
    "plot(ecdf(offlineStage$orientation), pch = 19, cex = 0.3,\n",
    "     xlim = c(-5, 365), axes = FALSE,\n",
    "     xlab = \"Orientation\", ylab = \"Empirical CDF\", main = \"Distribution of Orientation\")\n",
    "box()\n",
    "axis(2)\n",
    "axis(side = 1, at = seq(0, 360, by = 45))\n",
    "\n",
    "print('We can see from the plot that the measurements of angles are not exactly at 45degree intervals. Therefore we need to round the orientations to the nearest 45degree angle for further analysis.')"
   ]
  },
  {
   "cell_type": "code",
   "execution_count": 6,
   "metadata": {},
   "outputs": [
    {
     "name": "stdout",
     "output_type": "stream",
     "text": [
      "[1] \"It is evident that the number of measurements at each approximate angle are similar.  Angle 0 and 360 need to be combined to a single category\"\n"
     ]
    },
    {
     "data": {
      "image/png": "[encoded data removed]",
      "text/plain": [
       "Plot with title \"Density of Orientation\""
      ]
     },
     "metadata": {},
     "output_type": "display_data"
    }
   ],
   "source": [
    "# Plot the density of orientation:\n",
    "plot(density(offlineStage$orientation, bw = 2), \n",
    "     xlab = \"orientation\", main = \"Density of Orientation\")\n",
    "\n",
    "print('It is evident that the number of measurements at each approximate angle are similar.  Angle 0 and 360 need to be combined to a single category')"
   ]
  },
  {
   "cell_type": "code",
   "execution_count": 7,
   "metadata": {},
   "outputs": [
    {
     "name": "stdout",
     "output_type": "stream",
     "text": [
      "[1] \"After rounding the angles and assigning them to the nearest 45degree they are normally distributed\"\n"
     ]
    },
    {
     "data": {
      "image/png": "[encoded data removed]",
      "text/plain": [
       "Plot with title \"Boxplots of Orientations to nearest 45 degree\""
      ]
     },
     "metadata": {},
     "output_type": "display_data"
    }
   ],
   "source": [
    "# Map orientations to 8 equi-spaced angles 360/8 = 45 degrees \n",
    "roundOrientation = function(angles) {\n",
    "  refs = seq(0, by = 45, length  = 9)\n",
    "  q = sapply(angles, function(o) which.min(abs(o - refs)))\n",
    "  c(refs[1:8], 0)[q]\n",
    "}\n",
    "\n",
    "# Round the angles using roundOrientation()\n",
    "offlineStage$angle = roundOrientation(offlineStage$orientation)\n",
    "\n",
    "with(offlineStage, boxplot(orientation ~ angle,\n",
    "                      main = \"Boxplots of Orientations to nearest 45 degree\",\n",
    "                      xlab = \"nearest 45 degree angle\",\n",
    "                      ylab = \"orientation\"))\n",
    "print('After rounding the angles and assigning them to the nearest 45degree they are normally distributed')"
   ]
  },
  {
   "cell_type": "code",
   "execution_count": 8,
   "metadata": {},
   "outputs": [
    {
     "name": "stdout",
     "output_type": "stream",
     "text": [
      "[1] \"MAC addresses in offline data set\"\n"
     ]
    },
    {
     "data": {
      "text/html": [
       "<dl class=dl-horizontal>\n",
       "\t<dt>00:0f:a3:39:dd:cd</dt>\n",
       "\t\t<dd>1</dd>\n",
       "\t<dt>00:0f:a3:39:e1:c0</dt>\n",
       "\t\t<dd>1</dd>\n",
       "\t<dt>00:14:bf:3b:c7:c6</dt>\n",
       "\t\t<dd>1</dd>\n",
       "\t<dt>00:14:bf:b1:97:81</dt>\n",
       "\t\t<dd>1</dd>\n",
       "\t<dt>00:14:bf:b1:97:8a</dt>\n",
       "\t\t<dd>1</dd>\n",
       "\t<dt>00:14:bf:b1:97:8d</dt>\n",
       "\t\t<dd>1</dd>\n",
       "\t<dt>00:14:bf:b1:97:90</dt>\n",
       "\t\t<dd>1</dd>\n",
       "</dl>\n"
      ],
      "text/latex": [
       "\\begin{description*}\n",
       "\\item[00:0f:a3:39:dd:cd] 1\n",
       "\\item[00:0f:a3:39:e1:c0] 1\n",
       "\\item[00:14:bf:3b:c7:c6] 1\n",
       "\\item[00:14:bf:b1:97:81] 1\n",
       "\\item[00:14:bf:b1:97:8a] 1\n",
       "\\item[00:14:bf:b1:97:8d] 1\n",
       "\\item[00:14:bf:b1:97:90] 1\n",
       "\\end{description*}\n"
      ],
      "text/markdown": [
       "00:0f:a3:39:dd:cd\n",
       ":   100:0f:a3:39:e1:c0\n",
       ":   100:14:bf:3b:c7:c6\n",
       ":   100:14:bf:b1:97:81\n",
       ":   100:14:bf:b1:97:8a\n",
       ":   100:14:bf:b1:97:8d\n",
       ":   100:14:bf:b1:97:90\n",
       ":   1\n",
       "\n"
      ],
      "text/plain": [
       "00:0f:a3:39:dd:cd 00:0f:a3:39:e1:c0 00:14:bf:3b:c7:c6 00:14:bf:b1:97:81 \n",
       "                1                 1                 1                 1 \n",
       "00:14:bf:b1:97:8a 00:14:bf:b1:97:8d 00:14:bf:b1:97:90 \n",
       "                1                 1                 1 "
      ]
     },
     "metadata": {},
     "output_type": "display_data"
    }
   ],
   "source": [
    "# Exploring MAC Addresses\n",
    "subMacs = names(sort(table(offlineStage$mac), decreasing = TRUE))[1:7]\n",
    "offlineStage = offlineStage[ offlineStage$mac %in% subMacs, ]\n",
    "\n",
    "macChannel = with(offlineStage, table(mac, channel))\n",
    "print('MAC addresses in offline data set')\n",
    "apply(macChannel, 1, function(x) sum(x > 0))\n",
    "offline = offlineStage[ , \"channel\" != names(offlineStage)]\n",
    "\n",
    "# Exploring the Position of the Hand-Held Device\n",
    "locDF = with(offlineStage,\n",
    "             by(offlineStage, list(posX, posY), function(x) x))\n",
    "\n",
    "# drop these unneeded elements\n",
    "locDF = locDF[ !sapply(locDF, is.null) ]\n",
    "locCounts = sapply(locDF, nrow)\n",
    "locCounts = sapply(locDF,\n",
    "                   function(df)\n",
    "                     c(df[1, c(\"posX\", \"posY\")], count = nrow(df)))"
   ]
  },
  {
   "cell_type": "code",
   "execution_count": 9,
   "metadata": {},
   "outputs": [
    {
     "name": "stdout",
     "output_type": "stream",
     "text": [
      "[1] \"The plot below represents a count of signals detected at every position mapped\"\n"
     ]
    },
    {
     "data": {
      "image/png": "[encoded data removed]",
      "text/plain": [
       "Plot with title \"Counts of signals detected at each position\""
      ]
     },
     "metadata": {},
     "output_type": "display_data"
    }
   ],
   "source": [
    "#class(locCounts)\n",
    "#dim(locCounts)\n",
    "#locCounts[ , 1:8]\n",
    "print('The plot below represents a count of signals detected at every position mapped')\n",
    "\n",
    "locCounts = t(locCounts)\n",
    "plot(locCounts, type = \"n\", \n",
    "                main = \"Counts of signals detected at each position\",\n",
    "                xlab = \"\", \n",
    "                ylab = \"\")\n",
    "text(locCounts, labels = locCounts[,3], cex = .8, srt = 45)"
   ]
  },
  {
   "cell_type": "code",
   "execution_count": 10,
   "metadata": {},
   "outputs": [
    {
     "name": "stdout",
     "output_type": "stream",
     "text": [
      "[1] \"Below is a distribution of signals by angle for every access point\"\n"
     ]
    },
    {
     "data": {
      "image/png": "[encoded data removed]",
      "text/plain": [
       "plot without title"
      ]
     },
     "metadata": {},
     "output_type": "display_data"
    }
   ],
   "source": [
    "# Signal Strength Analysis excluding mac 00:0f:a3:39:dd:cd\n",
    "print('Below is a distribution of signals by angle for every access point')\n",
    "bwplot(signal ~ factor(angle) | mac, data = offlineStage,\n",
    "       subset = posX == 2 & posY == 12\n",
    "       & mac != \"00:0f:a3:39:dd:cd\",\n",
    "       main = \"Distribution of Signal by Angle for Each Access Point\",\n",
    "       layout = c(2,3))\n"
   ]
  },
  {
   "cell_type": "code",
   "execution_count": 11,
   "metadata": {},
   "outputs": [
    {
     "data": {
      "image/png": "[encoded data removed]",
      "text/plain": [
       "plot without title"
      ]
     },
     "metadata": {},
     "output_type": "display_data"
    }
   ],
   "source": [
    "# Density Analysis excluding mac 00:0f:a3:39:dd:cd\n",
    "densityplot( ~ signal | mac + factor(angle), data = offlineStage,\n",
    "             subset = posX == 24 & posY == 4 &\n",
    "             mac != \"00:0f:a3:39:dd:cd\",\n",
    "             main = \"Signal Strength by Angle for Each Access Point\",\n",
    "             bw = 0.5, plot.points = FALSE)"
   ]
  },
  {
   "cell_type": "code",
   "execution_count": 12,
   "metadata": {},
   "outputs": [],
   "source": [
    "# Distribution of Signal Strength\n",
    "offlineStage$posXY = paste(offlineStage$posX, offlineStage$posY, sep = \"-\")\n",
    "\n",
    "byLocAngleAP = with(offlineStage,\n",
    "                    by(offlineStage, list(posXY, angle, mac),\n",
    "                       function(x) x))\n",
    "                       \n",
    "# Adding in additional Signal stats as columns\n",
    "signalSummary =\n",
    "  lapply(byLocAngleAP,\n",
    "         function(oneLoc) {\n",
    "           ans = oneLoc[1, ]\n",
    "           ans$medSignal = median(oneLoc$signal)\n",
    "           ans$avgSignal = mean(oneLoc$signal)\n",
    "           ans$num = length(oneLoc$signal)\n",
    "           ans$sdSignal = sd(oneLoc$signal)\n",
    "           ans$iqrSignal = IQR(oneLoc$signal)\n",
    "           ans\n",
    "         })\n",
    "\n",
    "offlineSummary = do.call(\"rbind\", signalSummary)\n",
    "breaks = seq(-90, -30, by = 5)\n"
   ]
  },
  {
   "cell_type": "code",
   "execution_count": 13,
   "metadata": {},
   "outputs": [
    {
     "data": {
      "image/png": "[encoded data removed]",
      "text/plain": [
       "plot without title"
      ]
     },
     "metadata": {},
     "output_type": "display_data"
    }
   ],
   "source": [
    "bwplot(sdSignal ~ cut(avgSignal, breaks = breaks),\n",
    "       data = offlineSummary,\n",
    "       subset = mac != \"00:0f:a3:39:dd:cd\",\n",
    "       xlab = \"Mean Signal\", \n",
    "       ylab = \"SD Signal\",\n",
    "       main = \"SD of Signal Strength by Mean Signal Strength\")"
   ]
  },
  {
   "cell_type": "markdown",
   "metadata": {},
   "source": [
    "### OFFLINE DATA - Load, Analyze, Clean and Transform for modeling"
   ]
  },
  {
   "cell_type": "code",
   "execution_count": 14,
   "metadata": {},
   "outputs": [],
   "source": [
    "# Create function readData() to read the data, cleanse, format and retain required variables\n",
    "readData =\n",
    "  function(filename = 'Data/offline.final.trace.txt', \n",
    "           subMacs = c(\"00:0f:a3:39:e1:c0\", \"00:0f:a3:39:dd:cd\", \"00:14:bf:b1:97:8a\",\n",
    "                       \"00:14:bf:3b:c7:c6\", \"00:14:bf:b1:97:90\", \"00:14:bf:b1:97:8d\",\n",
    "                       \"00:14:bf:b1:97:81\"))\n",
    "  {\n",
    "    txt = readLines(filename)\n",
    "    lines = txt[ substr(txt, 1, 1) != \"#\" ]\n",
    "    tmp = lapply(lines, processLine)\n",
    "    offline = as.data.frame(do.call(\"rbind\", tmp),\n",
    "                            stringsAsFactors= FALSE)\n",
    "    names(offline) = c(\"time\", \"scanMac\",\n",
    "                       \"posX\", \"posY\", \"posZ\", \"orientation\",\n",
    "                       \"mac\", \"signal\", \"channel\", \"type\")\n",
    "    # Retain signals from access points\n",
    "    offline = offline[ offline$type == \"3\", ]\n",
    "    # drop scanMac, posZ, channel, and type - no info in them\n",
    "    dropVars = c(\"scanMac\", \"posZ\", \"channel\", \"type\")\n",
    "    offline = offline[ , !( names(offline) %in% dropVars ) ]\n",
    "    # drop unnecessary access points\n",
    "    offline = offline[ offline$mac %in% subMacs, ]\n",
    "    # convert numeric values\n",
    "    numVars = c(\"time\", \"posX\", \"posY\", \"orientation\", \"signal\")\n",
    "    offline[ numVars ] = lapply(offline[ numVars ], as.numeric)    \n",
    "    # convert time to POSIX class\n",
    "    offline$rawTime = offline$time\n",
    "    offline$time = offline$time/1000\n",
    "    class(offline$time) = c(\"POSIXt\", \"POSIXct\")    \n",
    "    # round orientations to nearest 45\n",
    "    offline$angle = roundOrientation(offline$orientation)\n",
    "    return(offline)\n",
    "  }\n",
    "\n",
    "# Create a function to process the data by line/row/record  \n",
    "# the if statement handles null values to avoid warnings in \"R\"\n",
    "processLine = function(x)\n",
    "{\n",
    "  tokens = strsplit(x, \"[;=,]\")[[1]]\n",
    "  if (length(tokens) == 10)\n",
    "    return(NULL)\n",
    "  tmp = matrix(tokens[ - (1:10) ], , 4, byrow = TRUE)\n",
    "  cbind(matrix(tokens[c(2, 4, 6:8, 10)], nrow(tmp), 6,\n",
    "               byrow = TRUE), tmp)\n",
    "}\n",
    "\n",
    "# create a function that will round off to the nearest major angle\n",
    "roundOrientation = function(angles) {\n",
    "  refs = seq(0, by = 45, length = 9)\n",
    "  q = sapply(angles, function(o) which.min(abs(o - refs)))\n",
    "  c(refs[1:8], 0)[q]\n",
    "}\n",
    "\n",
    "#read the data file\n",
    "offline = readData()\n",
    "\n",
    "#Setup all the data using the data summary\n",
    "offline$posXY = paste(offline$posX, offline$posY, sep = \"-\")\n",
    "byLocAngleAP = with(offline,\n",
    "                    by(offline, list(posXY, angle, mac),\n",
    "                       function(x) x))\n",
    "signalSummary =\n",
    "  lapply(byLocAngleAP,\n",
    "         function(oneLoc) {\n",
    "           ans = oneLoc[1, ]\n",
    "           ans$medSignal = median(oneLoc$signal)\n",
    "           11\n",
    "           ans$avgSignal = mean(oneLoc$signal)\n",
    "           ans$num = length(oneLoc$signal)\n",
    "           ans$sdSignal = sd(oneLoc$signal)\n",
    "           ans$iqrSignal = IQR(oneLoc$signal)\n",
    "           ans\n",
    "         })\n",
    "\n",
    "#concatenate rows\n",
    "offlineSummary = do.call(\"rbind\", signalSummary)\n",
    "\n",
    "#create vector of all MACS\n",
    "subMacs = c(\"00:0f:a3:39:e1:c0\", \"00:0f:a3:39:dd:cd\", \"00:14:bf:b1:97:8a\",\n",
    "            \"00:14:bf:3b:c7:c6\", \"00:14:bf:b1:97:90\", \"00:14:bf:b1:97:8d\",\n",
    "            \"00:14:bf:b1:97:81\")\n",
    "\n",
    "#create new variable that holds length of the MAC number\n",
    "mac_number=length(subMacs)"
   ]
  },
  {
   "cell_type": "markdown",
   "metadata": {},
   "source": [
    "### Preparing the TEST data (online data) - Load, Analyze, Clean, Transform for modeling"
   ]
  },
  {
   "cell_type": "code",
   "execution_count": 15,
   "metadata": {},
   "outputs": [
    {
     "data": {
      "text/plain": [
       "            \n",
       "               0  45  90 135 180 225 270 315\n",
       "  0-0.05       0   0   0 704   0   0   0   0\n",
       "  0.15-9.42    0   0 717   0   0   0   0   0\n",
       "  0.31-11.09   0   0   0   0   0 684   0   0\n",
       "  0.47-8.2   701   0   0   0   0   0   0   0\n",
       "  0.78-10.94 695   0   0   0   0   0   0   0\n",
       "  0.93-11.69   0   0   0   0 691   0   0   0"
      ]
     },
     "metadata": {},
     "output_type": "display_data"
    },
    {
     "name": "stdout",
     "output_type": "stream",
     "text": [
      "[1] \"In reviewing the online data set, we can see that there are no signal readings for some angles\"\n"
     ]
    }
   ],
   "source": [
    "# Get the unique macs from the offline data\n",
    "macs = unique(offlineSummary$mac)\n",
    "\n",
    "# Read the online data\n",
    "online = readData(\"online.final.trace.txt\", subMacs = macs)\n",
    "\n",
    "# create a unique location identifier column posXY by concatenating posX and posY\n",
    "online$posXY = paste(online$posX, online$posY, sep = \"-\")\n",
    "\n",
    "# check the unique values of posXY (test locations) in the data\n",
    "# length(unique(online$posXY))\n",
    "\n",
    "# tally the number of signal strengths recorded at each location\n",
    "tabonlineXYA = table(online$posXY, online$angle) # pivot variables posXY and angle\n",
    "\n",
    "# check the data\n",
    "tabonlineXYA[1:6, ] # review the top 6 rows\n",
    "print('In reviewing the online data set, we can see that there are no signal readings for some angles')"
   ]
  },
  {
   "cell_type": "code",
   "execution_count": 16,
   "metadata": {},
   "outputs": [
    {
     "name": "stdout",
     "output_type": "stream",
     "text": [
      "[1] \"The onlineSummary data now consists of the following columns\"\n"
     ]
    },
    {
     "data": {
      "text/html": [
       "<table>\n",
       "<thead><tr><th></th><th scope=col>posXY</th><th scope=col>posX</th><th scope=col>posY</th><th scope=col>orientation</th><th scope=col>angle</th><th scope=col>00:0f:a3:39:dd:cd</th><th scope=col>00:0f:a3:39:e1:c0</th><th scope=col>00:14:bf:3b:c7:c6</th><th scope=col>00:14:bf:b1:97:81</th><th scope=col>00:14:bf:b1:97:8a</th><th scope=col>00:14:bf:b1:97:8d</th><th scope=col>00:14:bf:b1:97:90</th></tr></thead>\n",
       "<tbody>\n",
       "\t<tr><th scope=row>0-0.05</th><td>0-0.05    </td><td>0.00      </td><td> 0.05     </td><td>130.5     </td><td>135       </td><td>-63       </td><td>-52       </td><td>-63       </td><td>-62       </td><td>-40       </td><td>-63       </td><td>-55       </td></tr>\n",
       "\t<tr><th scope=row>0.15-9.42</th><td>0.15-9.42 </td><td>0.15      </td><td> 9.42     </td><td>112.3     </td><td> 90       </td><td>-66       </td><td>-55       </td><td>-74       </td><td>-73       </td><td>-48       </td><td>-69       </td><td>-47       </td></tr>\n",
       "\t<tr><th scope=row>0.31-11.09</th><td>0.31-11.09</td><td>0.31      </td><td>11.09     </td><td>230.1     </td><td>225       </td><td>-67       </td><td>-52       </td><td>-70       </td><td>-70       </td><td>-54       </td><td>-69       </td><td>-54       </td></tr>\n",
       "\t<tr><th scope=row>0.47-8.2</th><td>0.47-8.2  </td><td>0.47      </td><td> 8.20     </td><td>  5.8     </td><td>  0       </td><td>-74       </td><td>-50       </td><td>-64       </td><td>-73       </td><td>-46       </td><td>-61       </td><td>-50       </td></tr>\n",
       "\t<tr><th scope=row>0.78-10.94</th><td>0.78-10.94</td><td>0.78      </td><td>10.94     </td><td>348.3     </td><td>  0       </td><td>-71       </td><td>-53       </td><td>-67       </td><td>-67       </td><td>-48       </td><td>-65       </td><td>-55       </td></tr>\n",
       "\t<tr><th scope=row>0.93-11.69</th><td>0.93-11.69</td><td>0.93      </td><td>11.69     </td><td>158.3     </td><td>180       </td><td>-70       </td><td>-58       </td><td>-70       </td><td>-71       </td><td>-44       </td><td>-66       </td><td>-47       </td></tr>\n",
       "</tbody>\n",
       "</table>\n"
      ],
      "text/latex": [
       "\\begin{tabular}{r|llllllllllll}\n",
       "  & posXY & posX & posY & orientation & angle & 00:0f:a3:39:dd:cd & 00:0f:a3:39:e1:c0 & 00:14:bf:3b:c7:c6 & 00:14:bf:b1:97:81 & 00:14:bf:b1:97:8a & 00:14:bf:b1:97:8d & 00:14:bf:b1:97:90\\\\\n",
       "\\hline\n",
       "\t0-0.05 & 0-0.05     & 0.00       &  0.05      & 130.5      & 135        & -63        & -52        & -63        & -62        & -40        & -63        & -55       \\\\\n",
       "\t0.15-9.42 & 0.15-9.42  & 0.15       &  9.42      & 112.3      &  90        & -66        & -55        & -74        & -73        & -48        & -69        & -47       \\\\\n",
       "\t0.31-11.09 & 0.31-11.09 & 0.31       & 11.09      & 230.1      & 225        & -67        & -52        & -70        & -70        & -54        & -69        & -54       \\\\\n",
       "\t0.47-8.2 & 0.47-8.2   & 0.47       &  8.20      &   5.8      &   0        & -74        & -50        & -64        & -73        & -46        & -61        & -50       \\\\\n",
       "\t0.78-10.94 & 0.78-10.94 & 0.78       & 10.94      & 348.3      &   0        & -71        & -53        & -67        & -67        & -48        & -65        & -55       \\\\\n",
       "\t0.93-11.69 & 0.93-11.69 & 0.93       & 11.69      & 158.3      & 180        & -70        & -58        & -70        & -71        & -44        & -66        & -47       \\\\\n",
       "\\end{tabular}\n"
      ],
      "text/markdown": [
       "\n",
       "| <!--/--> | posXY | posX | posY | orientation | angle | 00:0f:a3:39:dd:cd | 00:0f:a3:39:e1:c0 | 00:14:bf:3b:c7:c6 | 00:14:bf:b1:97:81 | 00:14:bf:b1:97:8a | 00:14:bf:b1:97:8d | 00:14:bf:b1:97:90 |\n",
       "|---|---|---|---|---|---|---|---|---|---|---|---|---|\n",
       "| 0-0.05 | 0-0.05     | 0.00       |  0.05      | 130.5      | 135        | -63        | -52        | -63        | -62        | -40        | -63        | -55        |\n",
       "| 0.15-9.42 | 0.15-9.42  | 0.15       |  9.42      | 112.3      |  90        | -66        | -55        | -74        | -73        | -48        | -69        | -47        |\n",
       "| 0.31-11.09 | 0.31-11.09 | 0.31       | 11.09      | 230.1      | 225        | -67        | -52        | -70        | -70        | -54        | -69        | -54        |\n",
       "| 0.47-8.2 | 0.47-8.2   | 0.47       |  8.20      |   5.8      |   0        | -74        | -50        | -64        | -73        | -46        | -61        | -50        |\n",
       "| 0.78-10.94 | 0.78-10.94 | 0.78       | 10.94      | 348.3      |   0        | -71        | -53        | -67        | -67        | -48        | -65        | -55        |\n",
       "| 0.93-11.69 | 0.93-11.69 | 0.93       | 11.69      | 158.3      | 180        | -70        | -58        | -70        | -71        | -44        | -66        | -47        |\n",
       "\n"
      ],
      "text/plain": [
       "           posXY      posX posY  orientation angle 00:0f:a3:39:dd:cd\n",
       "0-0.05     0-0.05     0.00  0.05 130.5       135   -63              \n",
       "0.15-9.42  0.15-9.42  0.15  9.42 112.3        90   -66              \n",
       "0.31-11.09 0.31-11.09 0.31 11.09 230.1       225   -67              \n",
       "0.47-8.2   0.47-8.2   0.47  8.20   5.8         0   -74              \n",
       "0.78-10.94 0.78-10.94 0.78 10.94 348.3         0   -71              \n",
       "0.93-11.69 0.93-11.69 0.93 11.69 158.3       180   -70              \n",
       "           00:0f:a3:39:e1:c0 00:14:bf:3b:c7:c6 00:14:bf:b1:97:81\n",
       "0-0.05     -52               -63               -62              \n",
       "0.15-9.42  -55               -74               -73              \n",
       "0.31-11.09 -52               -70               -70              \n",
       "0.47-8.2   -50               -64               -73              \n",
       "0.78-10.94 -53               -67               -67              \n",
       "0.93-11.69 -58               -70               -71              \n",
       "           00:14:bf:b1:97:8a 00:14:bf:b1:97:8d 00:14:bf:b1:97:90\n",
       "0-0.05     -40               -63               -55              \n",
       "0.15-9.42  -48               -69               -47              \n",
       "0.31-11.09 -54               -69               -54              \n",
       "0.47-8.2   -46               -61               -50              \n",
       "0.78-10.94 -48               -65               -55              \n",
       "0.93-11.69 -44               -66               -47              "
      ]
     },
     "metadata": {},
     "output_type": "display_data"
    }
   ],
   "source": [
    "# Variables to keep\n",
    "keepVars = c(\"posXY\", \"posX\",\"posY\", \"orientation\", \"angle\")\n",
    "\n",
    "# create a function to transpose the data\n",
    "byLoc = with(online,\n",
    "             by(online, list(posXY),\n",
    "                function(x) {\n",
    "                  ans = x[1, keepVars]\n",
    "                  avgSS = tapply(x$signal, x$mac, mean)\n",
    "                  y = matrix(avgSS, nrow = 1, ncol = mac_number, dimnames = list(ans$posXY, names(avgSS)))\n",
    "                  cbind(ans, y)\n",
    "                }))\n",
    "\n",
    "# Run the function byLoc and bind as rows\n",
    "onlineSummary = do.call(\"rbind\", byLoc)\n",
    "\n",
    "# data is now transformed to new structure with macs in headers\n",
    "print('The onlineSummary data now consists of the following columns')\n",
    "head(onlineSummary)\n",
    "\n",
    "# write.csv(data.frame(onlineSummary),\"onlinecsv.txt\", row.names = TRUE)\n",
    "\n",
    "# new variable holds the maximum column number, 12 - all Macs, 11 - other 2 cases\n",
    "max_col=ncol(onlineSummary)\n",
    "\n",
    "# new data frame should have 60 rows and 11 variables, \n",
    "# including 6 average signal strengths at the corresponding MAC addresses\n",
    "# dim(onlineSummary)\n",
    "#names(onlineSummary)\n",
    "# new variable holds the angles number through the analysis\n",
    "numAngles=3"
   ]
  },
  {
   "cell_type": "markdown",
   "metadata": {},
   "source": [
    "### Choice of Orientation\n",
    "#### In our nearest neighbor model, we want to find records in our offline data, that have similar orientations to our new observation as orientation can impact strength of signal"
   ]
  },
  {
   "cell_type": "code",
   "execution_count": 17,
   "metadata": {},
   "outputs": [],
   "source": [
    "# create data frame and functions to aggregate/select data with similar angles\n",
    "m = 3; angleNewObs = 230\n",
    "refs = seq(0, by = 45, length = 8)\n",
    "nearestAngle = roundOrientation(angleNewObs)\n",
    "if (m %% 2 == 1) {\n",
    "  angles = seq(-45 * (m - 1) /2, 45 * (m - 1) /2, length = m)\n",
    "} else {\n",
    "  m = m + 1\n",
    "  angles = seq(-45 * (m - 1) /2, 45 * (m - 1) /2, length = m)\n",
    "  if (sign(angleNewObs - nearestAngle) > -1)\n",
    "    angles = angles[ -1 ]\n",
    "  else\n",
    "    angles = angles[ -m ]\n",
    "}\n",
    "angles = angles + nearestAngle\n",
    "angles[angles < 0] = angles[ angles < 0 ] + 360\n",
    "angles[angles > 360] = angles[ angles > 360 ] - 360\n",
    "\n",
    "# After we have the subset of the desired angles, we select the observations to analyze\n",
    "offlineSubset = offlineSummary[ offlineSummary$angle %in% angles, ]\n",
    "\n",
    "# Review the unique angles that exist in offlineSubset\n",
    "# unique(offlineSubset$angle)\n",
    "\n",
    "# transpose offline data, take a signal mean and reshape\n",
    "reshapeSS = function(data, varSignal = \"signal\",\n",
    "                     keepVars = c(\"posXY\", \"posX\",\"posY\")) {\n",
    "  byLocation =\n",
    "    with(data, by(data, list(posXY),\n",
    "                  function(x) {\n",
    "                    ans = x[1, keepVars]\n",
    "                    avgSS = tapply(x[ , varSignal ], x$mac, mean)\n",
    "                    y = matrix(avgSS, nrow = 1, ncol = mac_number,\n",
    "                               dimnames = list(ans$posXY,\n",
    "                                               names(avgSS)))\n",
    "                    cbind(ans, y)\n",
    "                  }))\n",
    "  newDataSS = do.call(\"rbind\", byLocation)\n",
    "  return(newDataSS)\n",
    "}\n",
    "\n",
    "# Set offline data as trainSS\n",
    "trainSS = reshapeSS(offlineSubset, varSignal = \"avgSignal\")\n",
    "\n",
    "# The selectTrain() function averages the signal strengths for the different angles to produce\n",
    "# one set of signal strengths for each of the 166 locations in the training data\n",
    "selectTrain = function(angleNewObs, signals = NULL, m = 1){\n",
    "  # m is the number of angles to keep between 1 and 5\n",
    "  refs = seq(0, by = 45, length = 8)\n",
    "  nearestAngle = roundOrientation(angleNewObs)\n",
    "  if (m %% 2 == 1)\n",
    "    angles = seq(-45 * (m - 1) /2, 45 * (m - 1) /2, length = m)\n",
    "  else {\n",
    "    m = m + 1\n",
    "    angles = seq(-45 * (m - 1) /2, 45 * (m - 1) /2, length = m)\n",
    "    if (sign(angleNewObs - nearestAngle) > -1)\n",
    "      angles = angles[ -1 ]\n",
    "  else\n",
    "      angles = angles[ -m ]\n",
    "  }\n",
    "  angles = angles + nearestAngle\n",
    "  angles[angles < 0] = angles[ angles < 0 ] + 360\n",
    "  angles[angles > 360] = angles[ angles > 360 ] - 360\n",
    "  angles = sort(angles)\n",
    "  offlineSubset = signals[ signals$angle %in% angles, ]\n",
    "  reshapeSS(offlineSubset, varSignal = \"avgSignal\")\n",
    "}"
   ]
  },
  {
   "cell_type": "markdown",
   "metadata": {},
   "source": [
    "### Finding the Nearest Neighbors\n",
    "##### We have the training data to predict the location of our new point. We need to look at the distance in terms of signal strengths from the training data to the new point. Whether we want 1 nearest neighbor or 3 nearest neighbors we need to calculate the distance from the new point to all observations in the training set."
   ]
  },
  {
   "cell_type": "code",
   "execution_count": 18,
   "metadata": {},
   "outputs": [],
   "source": [
    "# Create NN function for simple average\n",
    "findNN = function(newSignal, trainSubset) {\n",
    "  diffs = apply(trainSubset[ , 4:(max_col-2)], 1,\n",
    "                function(x) x - newSignal)\n",
    "  dists = apply(diffs, 2, function(x) sqrt(sum(x^2)) )\n",
    "  closest = order(dists)\n",
    "  return(trainSubset[closest, 1:3 ])\n",
    "}\n",
    "\n",
    "# Create NNW function for weighted average\n",
    "findNNW = function(newSignal, trainSubset) {\n",
    "  diffs = apply(trainSubset[ , 4:(max_col-2)], 1,\n",
    "                function(x) x - newSignal)\n",
    "  dists = apply(diffs, 2, function(x) sqrt(sum(x^2)))\n",
    "  closest = order(dists) # order by distance\n",
    "  closeXY = trainSubset[closest, 1:3 ] # Position index\n",
    "  weight1d = as.numeric(1/dists[closest]) # With weight calculation 1/distance\n",
    "  return(cbind(closeXY, weight1d))\n",
    "}\n",
    "\n",
    "# the function predXY returns the locations of the training observations \n",
    "# in order of closeness to the new observation’s signal strength\n",
    "# predict X-Y using a Simple Average based on the nearest k neighbors (using default k=3)\n",
    "predXY = function(newSignals, newAngles, trainData,\n",
    "                  numAngles = 1, k = 3){\n",
    "  closeXY = list(length = nrow(newSignals)) # closeXY contains the x and y values returned from findNN()\n",
    "  for (i in 1:nrow(newSignals)) {\n",
    "                  trainSS = selectTrain(newAngles[i], trainData, m = numAngles)# get all data matches for the angles\n",
    "                  closeXY[[i]] =\n",
    "                  findNN(newSignal = as.numeric(newSignals[i, ]), trainSS)\n",
    "                }\n",
    " estXY = lapply(closeXY, # we estimate the location of the new observation with\n",
    " function(x) sapply(x[ , 2:3],\n",
    "                    function(x) mean(x[1:k])))#average of k locations\n",
    " estXY = do.call(\"rbind\", estXY)\n",
    " return(estXY)\n",
    "}\n",
    "\n",
    "# we can use weights in the average that are inversely proportional to the \n",
    "# distance (in signal strength) from the test observation\n",
    "# predict X-Y using a Weighted Average based on the the nearest k neighbors (using default k=3)\n",
    "predXYW = function(newSignals, newAngles, trainData,\n",
    "                   numAngles = 1, k = 3){\n",
    "  closeXY = list(length = nrow(newSignals))\n",
    "  for (i in 1:nrow(newSignals)) {\n",
    "    trainSS = selectTrain(newAngles[i], trainData, m = numAngles)\n",
    "    weight1d =\n",
    "      findNNW(newSignal = as.numeric(newSignals[i, ]), trainSS)\n",
    "    weight = weight1d[1:k, 4]/sum(weight1d[1:k, 4])\n",
    "    weight= append(weight,replicate( nrow(weight1d)-k, 0)) # add zeros to more than k members\n",
    "    weight1d[ , 2:3] = weight1d[ , 2:3] * weight # multiply position by weight\n",
    "    closeXY[[i]] = weight1d[ ,1:3]\n",
    "  }\n",
    "  estXY = lapply(closeXY,\n",
    "                 function(x) sapply(x[ , 2:3],\n",
    "                                    function(x) sum(x)))\n",
    "  estXY = do.call(\"rbind\", estXY)\n",
    "  return(estXY)\n",
    "}"
   ]
  },
  {
   "cell_type": "markdown",
   "metadata": {},
   "source": [
    "----------------------------------------------------------------------------------------------------------------------------\n",
    "# Cross-Validation to obtain optimal k using:\n",
    "\n",
    "## KNN Simple Average Model\n",
    "####        1. With all MAC addresses\n",
    "####        2. Excluding MAC 00:0f:a3:39:dd:cd\n",
    "####        3. Excluding MAC 00:0f:a3:39:e1:c0\n",
    "\n",
    "## KNN Weighted Average Model\n",
    "####       1. With all MAC addresses\n",
    "####       2. Excluding MAC 00:0f:a3:39:dd:cd\n",
    "####       3. Excluding MAC 00:0f:a3:39:e1:c0\n",
    "----------------------------------------------------------------------------------------------------------------------------"
   ]
  },
  {
   "cell_type": "markdown",
   "metadata": {},
   "source": [
    "## KNN Simple Average Model using all MAC addresses\n",
    "#### We calculate the error with nearest 1 neighbor, nearest 3 neighbors and then obtain the optimal \"k\" and calculate the least error"
   ]
  },
  {
   "cell_type": "code",
   "execution_count": 19,
   "metadata": {},
   "outputs": [
    {
     "name": "stdout",
     "output_type": "stream",
     "text": [
      "[1] \"Using KNN Simple Average with all MACs, the SSE for 1 neighbor is: 478.64\"\n",
      "[1] \"Using KNN Simple Average with all MACs, the SSE for 3 neighbors is: 249.427\"\n",
      "[1] \"Using KNN Simple Average with all MACs, the optimal k is: 8\"\n",
      "[1] \"Using KNN Simple Average with all MACs and optimal k, the least SSE is: 221.74\"\n"
     ]
    },
    {
     "data": {
      "image/png": "[encoded data removed]",
      "text/plain": [
       "Plot with title \"Cross Validation - Using KNN Simple Average with all MACs\""
      ]
     },
     "metadata": {},
     "output_type": "display_data"
    }
   ],
   "source": [
    "# calculation of nearest 1 neighbor using Simple Average and the onlineSummary test data\n",
    "estXYk1 = predXY(newSignals = onlineSummary[ , 6:max_col],\n",
    "                 newAngles = onlineSummary[ , 4],\n",
    "                 offlineSummary, \n",
    "                 numAngles = numAngles, \n",
    "                 k = 1)\n",
    "\n",
    "# calculation of nearest 3 neighbors using Simple Average and the onlineSummary test data\n",
    "estXYk3 = predXY(newSignals = onlineSummary[ , 6:max_col],\n",
    "                 newAngles = onlineSummary[ , 4],\n",
    "                 offlineSummary, \n",
    "                 numAngles = numAngles,\n",
    "                 k = 3)\n",
    "\n",
    "# Sum of Squared Errors (SSE) calculation\n",
    "calcError = function(estXY, actualXY) {\n",
    "              #show(estXY ) -- uncomment for verbose mode\n",
    "              #show(actualXY) -- uncomment for verbose mode\n",
    "              return (sum( rowSums( (estXY - actualXY)^2) ))\n",
    "            }\n",
    "# apply the calcError function for k=1 and k=3 neighbors\n",
    "actualXY = onlineSummary[ , c(\"posX\", \"posY\")]\n",
    "print(paste(\n",
    "  'Using KNN Simple Average with all MACs, the SSE for 1 neighbor is:', \n",
    "    signif(sapply(list(estXYk1), calcError, actualXY) )),digits = 5)\n",
    "\n",
    "print(paste(\n",
    "  'Using KNN Simple Average with all MACs, the SSE for 3 neighbors is:', \n",
    "    signif(sapply(list(estXYk3), calcError, actualXY) )),digits = 5)\n",
    "                                    \n",
    "# plot the sum of squared errors as a function of k\n",
    "plot(y = err, \n",
    "     x = (1:K), \n",
    "     type = \"l\", \n",
    "     lwd= 2,\n",
    "     ylim = c(min(err)-100, max(err)+100),\n",
    "     main = \"Cross Validation - Using KNN Simple Average with all MACs\",\n",
    "     xlab = \"Number of Neighbors\",\n",
    "     ylab = \"Sum of Square Errors\")\n",
    "rmseMin = min(err)\n",
    "kMin = which(err == rmseMin)[1]\n",
    "segments(x0 = 0, \n",
    "         x1 = kMin, \n",
    "         y0 = rmseMin, \n",
    "         col = \"blue\",\n",
    "         lty = 2, \n",
    "         lwd = 2)\n",
    "segments(x0 = kMin, \n",
    "         x1 = kMin, \n",
    "         y0 = 1100, \n",
    "         y1 = rmseMin,\n",
    "         col = \"blue\",\n",
    "         lty = 2, \n",
    "         lwd = 2)\n",
    "text(x = kMin - 2, y = rmseMin + 40,\n",
    "     label = as.character(round(rmseMin)), col = \"red\")\n",
    "\n",
    "# All MACs Optimal \"k\"\n",
    "print(paste('Using KNN Simple Average with all MACs, the optimal k is:',kMin))\n",
    "\n",
    "# Error calculation for Simple average with optimal k\n",
    "estXYk_best = predXY(newSignals = onlineSummary[ , 6:max_col],\n",
    "                     newAngles = onlineSummary[ , 4],\n",
    "                     offlineSummary, numAngles = numAngles, k = kMin)\n",
    "allMac_SimpleAvg_Best=calcError(estXYk_best, actualXY)\n",
    "\n",
    "# all MAC Simple Average Estimated Error using optimal kmin\n",
    "# allMac_SimpleAvg_Best\n",
    "print(paste('Using KNN Simple Average with all MACs and optimal k, the least SSE is:',\n",
    "            signif(allMac_SimpleAvg_Best,digits = 5)))"
   ]
  },
  {
   "cell_type": "markdown",
   "metadata": {},
   "source": [
    "## KNN Weighted Average Model using all MAC addresses\n",
    "#### We calculate the error with nearest 1 neighbor, nearest 3 neighbors and then obtain the optimal \"k\" and calculate the least error"
   ]
  },
  {
   "cell_type": "code",
   "execution_count": 20,
   "metadata": {},
   "outputs": [
    {
     "name": "stdout",
     "output_type": "stream",
     "text": [
      "[1] \"Using KNN Weighted Average with all MACs, the SSE for 1 neighbor is:  478.64\"\n",
      "[1] \"Using KNN Weighted Average with all MACs, the SSE for 3 neighbors is:  249.972\"\n",
      "[1] \"Using KNN Weighted Average with all MACs, the optimal k :  8\"\n",
      "[1] \"Using KNN Weighted Average with all MACs and optimal k, the least SSE is:  214.86\"\n"
     ]
    },
    {
     "data": {
      "image/png": "[encoded data removed]",
      "text/plain": [
       "Plot with title \"CV - KNN Weighted Average with all MACs\""
      ]
     },
     "metadata": {},
     "output_type": "display_data"
    }
   ],
   "source": [
    "# Error calculation of nearest 1 neighbor using Weighted Average\n",
    "estXYk1 = predXYW(newSignals = onlineSummary[ , 6:max_col],\n",
    "                  newAngles = onlineSummary[ , 4],\n",
    "                  offlineSummary, \n",
    "                  numAngles = numAngles, \n",
    "                  k = 1)\n",
    "\n",
    "# Error calculation of nearest 3 neighbors using Weighted Average\n",
    "estXYk3 = predXYW(newSignals = onlineSummary[ , 6:max_col],\n",
    "                  newAngles = onlineSummary[ , 4],\n",
    "                  offlineSummary, \n",
    "                  numAngles = numAngles, \n",
    "                  k = 3)\n",
    "\n",
    "# Error calculation for 1 and 3 neighbors using Weighted Average\n",
    "calcError =\n",
    "  function(estXY, actualXY) {\n",
    "    return (sum( rowSums( (estXY - actualXY)^2) ))\n",
    "  }\n",
    "# apply the calcError function to our two sets of errors\n",
    "actualXY = onlineSummary[ , c(\"posX\", \"posY\")]\n",
    "print(paste(\n",
    "  'Using KNN Weighted Average with all MACs, the SSE for 1 neighbor is: ',\n",
    "        signif(sapply(list(estXYk1), calcError, actualXY) )),digits = 5)\n",
    "\n",
    "print(paste(\n",
    "  'Using KNN Weighted Average with all MACs, the SSE for 3 neighbors is: ',\n",
    "        signif(sapply(list(estXYk3), calcError, actualXY) )),digits = 5)\n",
    "\n",
    "# ALL MACs - Weighted Average\n",
    "K = 10\n",
    "err = rep(0, K)\n",
    "for (j in 1:v) {\n",
    "  onlineFold = subset(onlineCVSummary,\n",
    "                      posXY %in% permuteLocs[ , j])\n",
    "  offlineFold = subset(offlineSummary,\n",
    "                       posXY %in% permuteLocs[ , -j])\n",
    "  actualFold = onlineFold[ , c(\"posX\", \"posY\")]\n",
    "  for (k in 1:K) {\n",
    "    estFold = predXYW(newSignals = onlineFold[ , 6:max_col],\n",
    "                      newAngles = onlineFold[ , 4],\n",
    "                      offlineFold, numAngles = numAngles, k = k)\n",
    "    err[k] = err[k] + calcError(estFold, actualFold)\n",
    "  }\n",
    "}\n",
    "# ALL MACs - Weighted Average optimal k\n",
    "print(paste('Using KNN Weighted Average with all MACs, the optimal k : ',kMin))\n",
    "\n",
    "#Plot CV result using all MACs with Weighted Average\n",
    "plot(y = err, x = (1:K), type = \"l\", lwd= 2,\n",
    "     ylim = c(min(err)-100, max(err)+100),\n",
    "     main = \"CV - KNN Weighted Average with all MACs\",\n",
    "     xlab = \"Number of Neighbors\",\n",
    "     ylab = \"Sum of Square Errors\")\n",
    "rmseMin = min(err)\n",
    "kMin = which(err == rmseMin)[1]\n",
    "segments(x0 = 0, x1 = kMin, y0 = rmseMin, col = \"blue\",\n",
    "         lty = 2, lwd = 2)\n",
    "segments(x0 = kMin, x1 = kMin, y0 = 1100, y1 = rmseMin,\n",
    "         col = \"blue\", lty = 2, lwd = 2)\n",
    "text(x = kMin - 2, y = rmseMin + 40,\n",
    "     label = as.character(round(rmseMin)), col = \"red\")\n",
    "\n",
    "# Error calculation with Weighted Average\n",
    "estXYk_best = predXYW(newSignals = onlineSummary[ , 6:max_col],\n",
    "                      newAngles = onlineSummary[ , 4],\n",
    "                      offlineSummary, numAngles = numAngles, k = kMin)\n",
    "allMac_WeightedAvg_Best=calcError(estXYk_best, actualXY)\n",
    "\n",
    "# all MAC Weighted Average Estimated Error using optimal k\n",
    "print(paste('Using KNN Weighted Average with all MACs and optimal k, the least SSE is: ',\n",
    "            signif(allMac_WeightedAvg_Best,digits = 5)))"
   ]
  },
  {
   "cell_type": "markdown",
   "metadata": {},
   "source": [
    "## KNN Simple Average Model excluding MAC: 00:0f:a3:39:dd:cd\n",
    "#### We calculate the error with nearest 1 neighbor, nearest 3 neighbors and then obtain the optimal \"k\" and calculate the least error"
   ]
  },
  {
   "cell_type": "code",
   "execution_count": 21,
   "metadata": {},
   "outputs": [
    {
     "name": "stdout",
     "output_type": "stream",
     "text": [
      "[1] \"Using KNN Simple Average excluding MAC 00:0f:a3:39:dd:cd, the SSE for 1 neighbor is:  659.4\"\n",
      "[1] \"Using KNN Simple Average excluding MAC 00:0f:a3:39:dd:cd, the SSE for 3 neighbors is:  306.703\"\n",
      "[1] \"Using KNN Simple Average excluding MAC 00:0f:a3:39:dd:cd, the optimal k is:  6\"\n",
      "[1] \"Using KNN Simple Average excluding MAC 00:0f:a3:39:dd:cd and optimal k, the least SSE is:  272.41\"\n"
     ]
    },
    {
     "data": {
      "image/png": "[encoded data removed]",
      "text/plain": [
       "Plot with title \"CV - KNN Simple Average excluding MAC 00:0f:a3:39:dd:cd\""
      ]
     },
     "metadata": {},
     "output_type": "display_data"
    }
   ],
   "source": [
    "# Keep 00:0f:a3:39:e1:c0 and  exclude 00:0f:a3:39:dd:cd\n",
    "# making a copy of offlineSummary if required for later use\n",
    "offlineSummary_copy=offlineSummary\n",
    "\n",
    "subMacs = c(\"00:0f:a3:39:e1:c0\", \"00:0f:a3:39:dd:cd\", \"00:14:bf:b1:97:8a\",\n",
    "            \"00:14:bf:3b:c7:c6\", \"00:14:bf:b1:97:90\", \"00:14:bf:b1:97:8d\",\n",
    "            \"00:14:bf:b1:97:81\")\n",
    "\n",
    "# Exclude MAC 00:0f:a3:39:dd:cd from the data\n",
    "offlineSummary = subset(offlineSummary_copy, mac !=subMacs[2])\n",
    "mac_number = length(unique(offlineSummary$mac))\n",
    "\n",
    "# signal strength matching offline table\n",
    "macs = unique(offlineSummary$mac)\n",
    "online = readData(\"online.final.trace.txt\", subMacs = macs)\n",
    "online$posXY = paste(online$posX, online$posY, sep = \"-\")\n",
    "tabonlineXYA = table(online$posXY, online$angle)\n",
    "\n",
    "keepVars = c(\"posXY\", \"posX\",\"posY\", \"orientation\", \"angle\")\n",
    "byLoc = with(online,\n",
    "             by(online, list(posXY),\n",
    "                function(x) {\n",
    "                  ans = x[1, keepVars]\n",
    "                  avgSS = tapply(x$signal, x$mac, mean)\n",
    "                  #print(avgSS)\n",
    "                  y = matrix(avgSS, nrow = 1, ncol = mac_number,\n",
    "                             dimnames = list(ans$posXY, names(avgSS)))\n",
    "                  cbind(ans, y)\n",
    "                }))\n",
    "onlineSummary = do.call(\"rbind\", byLoc)\n",
    "\n",
    "#create new variable that holds maximum number of columns\n",
    "max_col=ncol(onlineSummary)\n",
    "\n",
    "# Error calculation 1 and 3 neighbors - Simple Average\n",
    "estXYk3 = predXY(newSignals = onlineSummary[ , 6:max_col],\n",
    "                 newAngles = onlineSummary[ , 4],\n",
    "                 offlineSummary, numAngles = numAngles, k = 3)\n",
    "\n",
    "estXYk1 = predXY(newSignals = onlineSummary[ , 6:max_col],\n",
    "                 newAngles = onlineSummary[ , 4],\n",
    "                 offlineSummary, numAngles = numAngles, k = 1)\n",
    "calcError =\n",
    "  function(estXY, actualXY)\n",
    "    sum( rowSums( (estXY - actualXY)^2) )\n",
    "actualXY = onlineSummary[ , c(\"posX\", \"posY\")]\n",
    "# sapply(list(estXYk1, estXYk3), calcError, actualXY)  \n",
    "print(paste(\n",
    "  'Using KNN Simple Average excluding MAC 00:0f:a3:39:dd:cd, the SSE for 1 neighbor is: ',\n",
    "            signif(sapply(list(estXYk1), calcError, actualXY) )),digits = 5)\n",
    "print(paste(\n",
    "  'Using KNN Simple Average excluding MAC 00:0f:a3:39:dd:cd, the SSE for 3 neighbors is: ',\n",
    "            signif(sapply(list(estXYk3), calcError, actualXY) )),digits = 5)\n",
    "\n",
    "# Fold creation up to 10 neighbors, 11 folds\n",
    "offline_copy=offline\n",
    "offline = offline_copy[ offline_copy$mac != \"00:0f:a3:39:dd:cd\", ]\n",
    "keepVars = c(\"posXY\", \"posX\",\"posY\", \"orientation\", \"angle\")\n",
    "onlineCVSummary = reshapeSS1(offline, keepVars = keepVars,\n",
    "                             sampleAngle = TRUE)\n",
    "onlineFold = subset(onlineCVSummary,\n",
    "                    posXY %in% permuteLocs[ , 1])\n",
    "offlineFold = subset(offlineSummary,\n",
    "                     posXY %in% permuteLocs[ , -1])\n",
    "estFold = predXY(newSignals = onlineFold[ , 6:max_col],\n",
    "                 newAngles = onlineFold[ , 4],\n",
    "                 offlineFold, numAngles = numAngles, k = 3)\n",
    "\n",
    "# CV calculation using Simple Average and excluding MAC: 00:0f:a3:39:dd:cd\"\n",
    "K = 10\n",
    "err = rep(0, K)\n",
    "for (j in 1:v) {\n",
    "  onlineFold = subset(onlineCVSummary,\n",
    "                      posXY %in% permuteLocs[ , j])\n",
    "  offlineFold = subset(offlineSummary,\n",
    "                       posXY %in% permuteLocs[ , -j])\n",
    "  actualFold = onlineFold[ , c(\"posX\", \"posY\")]\n",
    "  for (k in 1:K) {\n",
    "    estFold = predXY(newSignals = onlineFold[ , 6:max_col],\n",
    "                     newAngles = onlineFold[ , 4],\n",
    "                     offlineFold, numAngles = numAngles, k = k)\n",
    "    err[k] = err[k] + calcError(estFold, actualFold)\n",
    "  }\n",
    "}\n",
    "\n",
    "# Plot result\n",
    "plot(y = err, x = (1:K), type = \"l\", lwd= 2,\n",
    "     ylim = c(min(err)-100, max(err)+100),\n",
    "     main = \"CV - KNN Simple Average excluding MAC 00:0f:a3:39:dd:cd\",\n",
    "     xlab = \"Number of Neighbors\",\n",
    "     ylab = \"Sum of Square Errors\")\n",
    "\n",
    "rmseMin = min(err)\n",
    "kMin = which(err == rmseMin)[1]\n",
    "segments(x0 = 0, x1 = kMin, y0 = rmseMin, col = \"blue\",\n",
    "         lty = 2, lwd = 2)\n",
    "segments(x0 = kMin, x1 = kMin, y0 = 1100, y1 = rmseMin,\n",
    "         col = \"blue\", lty = 2, lwd = 2)\n",
    "text(x = kMin - 2, y = rmseMin + 40,\n",
    "     label = as.character(round(rmseMin)), col = \"red\")\n",
    "\n",
    "print(paste('Using KNN Simple Average excluding MAC 00:0f:a3:39:dd:cd, the optimal k is: ',kMin))\n",
    "\n",
    "# Error calculation using Simple Average and excluding MAC: 00:0f:a3:39:dd:cd\"\n",
    "estXYk_best = predXY(newSignals = onlineSummary[ , 6:max_col],\n",
    "                     newAngles = onlineSummary[ , 4],\n",
    "                     offlineSummary, numAngles = numAngles, k = kMin)\n",
    "no_cd_mac_SimpleAverage_best=calcError(estXYk_best, actualXY)\n",
    "print(paste('Using KNN Simple Average excluding MAC 00:0f:a3:39:dd:cd and optimal k, the least SSE is: ',\n",
    "            signif(no_cd_mac_SimpleAverage_best,digits = 5)))"
   ]
  },
  {
   "cell_type": "code",
   "execution_count": 22,
   "metadata": {},
   "outputs": [
    {
     "name": "stdout",
     "output_type": "stream",
     "text": [
      "[1] \"Using KNN Weighted Average excluding MAC 00:0f:a3:39:dd:cd, the SSE for 1 neighbor is:  659.4\"\n",
      "[1] \"Using KNN Weighted Average excluding MAC 00:0f:a3:39:dd:cd, the SSE for 3 neighbors is:  302.456\"\n",
      "[1] \"Using KNN Weighted Average excluding MAC 00:0f:a3:39:dd:cd, the optimal k is:  6\"\n",
      "[1] \"Using KNN Weighted Average excluding MAC 00:0f:a3:39:dd:cd and optimal k, the least SSE is:  271.28\"\n"
     ]
    },
    {
     "data": {
      "image/png": "[encoded data removed]",
      "text/plain": [
       "Plot with title \"CV - KNN Weighted Average excluding MAC 00:0f:a3:39:dd:cd\""
      ]
     },
     "metadata": {},
     "output_type": "display_data"
    }
   ],
   "source": [
    "# Error calculation 1 and 3 neighbors - Weighted Average\n",
    "estXYk3 = predXYW(newSignals = onlineSummary[ , 6:max_col],\n",
    "                  newAngles = onlineSummary[ , 4],\n",
    "                  offlineSummary, numAngles = numAngles, k = 3)\n",
    "estXYk1 = predXYW(newSignals = onlineSummary[ , 6:max_col],\n",
    "                  newAngles = onlineSummary[ , 4],\n",
    "                  offlineSummary, numAngles = numAngles, k = 1)\n",
    "calcError =\n",
    "  function(estXY, actualXY)\n",
    "    sum( rowSums( (estXY - actualXY)^2) )\n",
    "actualXY = onlineSummary[ , c(\"posX\", \"posY\")]\n",
    "#sapply(list(estXYk1, estXYk3), calcError, actualXY) \n",
    "print(paste(\n",
    "  'Using KNN Weighted Average excluding MAC 00:0f:a3:39:dd:cd, the SSE for 1 neighbor is: '\n",
    "  ,signif(sapply(list(estXYk1), calcError, actualXY) )), digits = 5)\n",
    "\n",
    "print(paste(\n",
    "  'Using KNN Weighted Average excluding MAC 00:0f:a3:39:dd:cd, the SSE for 3 neighbors is: '\n",
    "  ,signif(sapply(list(estXYk3), calcError, actualXY) )), digits = 5)\n",
    "\n",
    "# CV calculation using Weighted Average and excluding MAC: 00:0f:a3:39:dd:cd\"\n",
    "K = 10\n",
    "err = rep(0, K)\n",
    "for (j in 1:v) {\n",
    "  onlineFold = subset(onlineCVSummary,\n",
    "                      posXY %in% permuteLocs[ , j])\n",
    "  offlineFold = subset(offlineSummary,\n",
    "                       posXY %in% permuteLocs[ , -j])\n",
    "  25\n",
    "  actualFold = onlineFold[ , c(\"posX\", \"posY\")]\n",
    "  for (k in 1:K) {\n",
    "    estFold = predXYW(newSignals = onlineFold[ , 6:max_col],\n",
    "                      newAngles = onlineFold[ , 4],\n",
    "                      offlineFold, numAngles = numAngles, k = k)\n",
    "    err[k] = err[k] + calcError(estFold, actualFold)\n",
    "  }\n",
    "}\n",
    "\n",
    "# Plot result\n",
    "plot(y = err, x = (1:K), type = \"l\", lwd= 2,\n",
    "     ylim = c(min(err)-100, max(err)+100),\n",
    "     main = \"CV - KNN Weighted Average excluding MAC 00:0f:a3:39:dd:cd\",\n",
    "     xlab = \"Number of Neighbors\",\n",
    "     ylab = \"Sum of Square Errors\")\n",
    "\n",
    "rmseMin = min(err)\n",
    "kMin = which(err == rmseMin)[1]\n",
    "segments(x0 = 0, x1 = kMin, y0 = rmseMin, col = \"blue\",\n",
    "         lty = 2, lwd = 2)\n",
    "segments(x0 = kMin, x1 = kMin, y0 = 1100, y1 = rmseMin,\n",
    "         col = \"blue\", lty = 2, lwd = 2)\n",
    "text(x = kMin - 2, y = rmseMin + 40,\n",
    "     label = as.character(round(rmseMin)), col = \"red\")\n",
    "\n",
    "print(paste('Using KNN Weighted Average excluding MAC 00:0f:a3:39:dd:cd, the optimal k is: ',kMin))\n",
    "\n",
    "# Error calculation using Weighted Average and excluding MAC: 00:0f:a3:39:dd:cd\"\n",
    "estXYk_best = predXYW(newSignals = onlineSummary[ , 6:max_col],\n",
    "                      newAngles = onlineSummary[ , 4],\n",
    "                      offlineSummary, numAngles = numAngles, k = kMin)\n",
    "no_cd_mac_WeightedAverage_best =calcError(estXYk_best, actualXY)\n",
    "print(paste('Using KNN Weighted Average excluding MAC 00:0f:a3:39:dd:cd and optimal k, the least SSE is: ',\n",
    "                                signif(no_cd_mac_WeightedAverage_best, digits = 5)))"
   ]
  },
  {
   "cell_type": "markdown",
   "metadata": {},
   "source": [
    "## KNN Simple Average Model excluding MAC 00:0f:a3:39:e1:c0\n",
    "#### We calculate the error with nearest 1 neighbor, nearest 3 neighbors and then obtain the optimal \"k\" and calculate the least error"
   ]
  },
  {
   "cell_type": "code",
   "execution_count": 23,
   "metadata": {},
   "outputs": [
    {
     "name": "stdout",
     "output_type": "stream",
     "text": [
      "[1] \"Using KNN Simple Average excluding MAC 00:0f:a3:39:e1:c0, the SSE for 1 neighbor is:  411.64\"\n",
      "[1] \"Using KNN Simple Average excluding MAC 00:0f:a3:39:e1:c0, the SSE for 3 neighbors is:  270.458\"\n",
      "[1] \"Using KNN Simple Average excluding MAC 00:0f:a3:39:e1:c0, the optimal k is: 6\"\n",
      "[1] \"Using KNN Simple Average excluding MAC 00:0f:a3:39:e1:c0 and optimal k, the least SSE is:  252.34\"\n"
     ]
    },
    {
     "data": {
      "image/png": "[encoded data removed]",
      "text/plain": [
       "Plot with title \"CV - KNN Simple Average excluding MAC 00:0f:a3:39:e1:c0\""
      ]
     },
     "metadata": {},
     "output_type": "display_data"
    }
   ],
   "source": [
    "# Keep MAC 00:0f:a3:39:dd:cd ##### remove MAC 00:0f:a3:39:e1:c0\n",
    "# Copy of offlineSummary for later use\n",
    "offlineSummary_copy2=offlineSummary\n",
    "subMacs = c(\"00:0f:a3:39:e1:c0\", \"00:0f:a3:39:dd:cd\", \"00:14:bf:b1:97:8a\",\n",
    "            \"00:14:bf:3b:c7:c6\", \"00:14:bf:b1:97:90\", \"00:14:bf:b1:97:8d\",\n",
    "            \"00:14:bf:b1:97:81\")\n",
    "\n",
    "# remove 00:0f:a3:39:e1:c0 MAC\n",
    "offlineSummary = subset(offlineSummary_copy, mac !=subMacs[1])\n",
    "mac_number = length(unique(offlineSummary$mac))\n",
    "\n",
    "# Matching online data with offline\n",
    "macs = unique(offlineSummary$mac)\n",
    "online = readData(\"online.final.trace.txt\", subMacs = macs)\n",
    "online$posXY = paste(online$posX, online$posY, sep = \"-\")\n",
    "tabonlineXYA = table(online$posXY, online$angle)\n",
    "keepVars = c(\"posXY\", \"posX\",\"posY\", \"orientation\", \"angle\")\n",
    "byLoc = with(online,\n",
    "             by(online, list(posXY),\n",
    "                function(x) {\n",
    "                  ans = x[1, keepVars]\n",
    "                  avgSS = tapply(x$signal, x$mac, mean)\n",
    "                  y = matrix(avgSS, nrow = 1, ncol = mac_number,\n",
    "                             dimnames = list(ans$posXY, names(avgSS)))\n",
    "                  cbind(ans, y)\n",
    "                }))\n",
    "\n",
    "onlineSummary = do.call(\"rbind\", byLoc)\n",
    "max_col=ncol(onlineSummary)\n",
    "\n",
    "#Error calculation using Simple Average excluding MAC 00:0f:a3:39:e1:c0\n",
    "estXYk3 = predXY(newSignals = onlineSummary[ , 6:max_col],\n",
    "                 newAngles = onlineSummary[ , 4],\n",
    "                 offlineSummary, numAngles = numAngles, k = 3)\n",
    "estXYk1 = predXY(newSignals = onlineSummary[ , 6:max_col],\n",
    "                 newAngles = onlineSummary[ , 4],\n",
    "                 offlineSummary, numAngles = numAngles, k = 1)\n",
    "calcError =\n",
    "  function(estXY, actualXY)\n",
    "    sum( rowSums( (estXY - actualXY)^2) )\n",
    "actualXY = onlineSummary[ , c(\"posX\", \"posY\")]\n",
    "#sapply(list(estXYk1, estXYk3), calcError, actualXY)\n",
    "print(paste(\n",
    "  'Using KNN Simple Average excluding MAC 00:0f:a3:39:e1:c0, the SSE for 1 neighbor is: '\n",
    "  ,signif(sapply(list(estXYk1), calcError, actualXY) )),digits = 5)\n",
    "\n",
    "print(paste(\n",
    "  'Using KNN Simple Average excluding MAC 00:0f:a3:39:e1:c0, the SSE for 3 neighbors is: '\n",
    "  ,signif(sapply(list(estXYk3), calcError, actualXY) )),digits = 5)\n",
    "\n",
    "# estXYk_best = predXY(newSignals = onlineSummary[ , 6:max_col],\n",
    "#                      newAngles = onlineSummary[ , 4],\n",
    "#                      offlineSummary, numAngles = numAngles, k = kMin)\n",
    "# noc0_mac_SimpleAverage_best=calcError(estXYk_best, actualXY)\n",
    "# print(paste('Using KNN Simple Average excluding MAC 00:0f:a3:39:e1:c0 and optimal k, the least SSE is: ',\n",
    "#             signif(noc0_mac_SimpleAverage_best,digits = 5)))\n",
    "\n",
    "# Plot result\n",
    "plot(y = err, x = (1:K), type = \"l\", lwd= 2,\n",
    "     ylim = c(min(err)-100, max(err)+100),\n",
    "     main = \"CV - KNN Simple Average excluding MAC 00:0f:a3:39:e1:c0\",\n",
    "     xlab = \"Number of Neighbors\",\n",
    "     ylab = \"Sum of Square Errors\")\n",
    "rmseMin = min(err)\n",
    "kMin = which(err == rmseMin)[1]\n",
    "segments(x0 = 0, x1 = kMin, y0 = rmseMin, col = \"blue\",\n",
    "         lty = 2, lwd = 2)\n",
    "segments(x0 = kMin, x1 = kMin, y0 = 1100, y1 = rmseMin,\n",
    "         col = \"blue\", lty = 2, lwd = 2)\n",
    "text(x = kMin - 2, y = rmseMin + 40,\n",
    "     label = as.character(round(rmseMin)), col = \"red\")\n",
    "\n",
    "print(paste('Using KNN Simple Average excluding MAC 00:0f:a3:39:e1:c0, the optimal k is:',kMin))\n",
    "\n",
    "estXYk_best = predXY(newSignals = onlineSummary[ , 6:max_col],\n",
    "                     newAngles = onlineSummary[ , 4],\n",
    "                     offlineSummary, numAngles = numAngles, k = kMin)\n",
    "noc0_mac_SimpleAverage_best=calcError(estXYk_best, actualXY)\n",
    "print(paste('Using KNN Simple Average excluding MAC 00:0f:a3:39:e1:c0 and optimal k, the least SSE is: ',\n",
    "            signif(noc0_mac_SimpleAverage_best,digits = 5)))"
   ]
  },
  {
   "cell_type": "code",
   "execution_count": 24,
   "metadata": {},
   "outputs": [
    {
     "name": "stdout",
     "output_type": "stream",
     "text": [
      "[1] \"Using KNN Weighted Average excluding MAC 00:0f:a3:39:e1:c0, the SSE for 1 neighbor is:  411.64\"\n",
      "[1] \"Using KNN Weighted Average excluding MAC 00:0f:a3:39:e1:c0, the SSE for 3 neighbors is:  267.112\"\n",
      "[1] \"Using KNN Weighted Average excluding MAC 00:0f:a3:39:e1:c0, the optimal k is: 8\"\n",
      "[1] \"Using KNN Weighted Average excluding MAC 00:0f:a3:39:e1:c0 and optimal k, the least SSE is:  247.34\"\n"
     ]
    },
    {
     "data": {
      "image/png": "[encoded data removed]",
      "text/plain": [
       "Plot with title \"CV - KNN Weighted Average excluding MAC 00:0f:a3:39:e1:c0\""
      ]
     },
     "metadata": {},
     "output_type": "display_data"
    }
   ],
   "source": [
    "# Error calculation using Weighted Average excluding MAC 00:0f:a3:39:e1:c0\n",
    "estXYk3 = predXYW(newSignals = onlineSummary[ , 6:max_col],\n",
    "                  newAngles = onlineSummary[ , 4],\n",
    "                  offlineSummary, numAngles = numAngles, k = 3)\n",
    "\n",
    "estXYk1 = predXYW(newSignals = onlineSummary[ , 6:max_col],\n",
    "                  newAngles = onlineSummary[ , 4],\n",
    "                  offlineSummary, numAngles = numAngles, k = 1)\n",
    "calcError =\n",
    "  function(estXY, actualXY)\n",
    "    sum( rowSums( (estXY - actualXY)^2) )\n",
    "actualXY = onlineSummary[ , c(\"posX\", \"posY\")]\n",
    "#sapply(list(estXYk1, estXYk3), calcError, actualXY)\n",
    "print(paste(\n",
    "  'Using KNN Weighted Average excluding MAC 00:0f:a3:39:e1:c0, the SSE for 1 neighbor is: '\n",
    "  ,signif(sapply(list(estXYk1), calcError, actualXY) )),digits=5)\n",
    "\n",
    "print(paste(\n",
    "  'Using KNN Weighted Average excluding MAC 00:0f:a3:39:e1:c0, the SSE for 3 neighbors is: '\n",
    "  ,signif(sapply(list(estXYk3), calcError, actualXY) )),digits=5)\n",
    "\n",
    "# CV calculation adding weight factor\n",
    "K = 10\n",
    "err = rep(0, K)\n",
    "for (j in 1:v) {\n",
    "  onlineFold = subset(onlineCVSummary,\n",
    "                      posXY %in% permuteLocs[ , j])\n",
    "  offlineFold = subset(offlineSummary,\n",
    "                       posXY %in% permuteLocs[ , -j])\n",
    "  actualFold = onlineFold[ , c(\"posX\", \"posY\")]\n",
    "  for (k in 1:K) {\n",
    "    estFold = predXYW(newSignals = onlineFold[ , 6:max_col],\n",
    "                      newAngles = onlineFold[ , 4],\n",
    "                      offlineFold, numAngles = numAngles, k = k)\n",
    "    err[k] = err[k] + calcError(estFold, actualFold)\n",
    "  }\n",
    "}\n",
    "\n",
    "# Plot result\n",
    "plot(y = err, x = (1:K), type = \"l\", lwd= 2,\n",
    "     ylim = c(min(err)-100, max(err)+100),\n",
    "     main = \"CV - KNN Weighted Average excluding MAC 00:0f:a3:39:e1:c0\",\n",
    "     xlab = \"Number of Neighbors\",\n",
    "     ylab = \"Sum of Square Errors\")\n",
    "\n",
    "rmseMin = min(err)\n",
    "kMin = which(err == rmseMin)[1]\n",
    "segments(x0 = 0, x1 = kMin, y0 = rmseMin, col = \"blue\",\n",
    "         lty = 2, lwd = 2)\n",
    "segments(x0 = kMin, x1 = kMin, y0 = 1100, y1 = rmseMin,\n",
    "         col = \"blue\", lty = 2, lwd = 2)\n",
    "text(x = kMin - 2, y = rmseMin + 40,\n",
    "     label = as.character(round(rmseMin)), col = \"red\")\n",
    "\n",
    "print(paste('Using KNN Weighted Average excluding MAC 00:0f:a3:39:e1:c0, the optimal k is:',kMin))\n",
    "\n",
    "# error calculation with weight factor\n",
    "estXYk_best = predXYW(newSignals = onlineSummary[ , 6:max_col],\n",
    "                      newAngles = onlineSummary[ , 4],\n",
    "                      offlineSummary, numAngles = numAngles, k = kMin)\n",
    "noc0_mac_weight_best=calcError(estXYk_best, actualXY)\n",
    "print(paste('Using KNN Weighted Average excluding MAC 00:0f:a3:39:e1:c0 and optimal k, the least SSE is: ',\n",
    "            signif(noc0_mac_weight_best,digits = 5)))"
   ]
  },
  {
   "cell_type": "code",
   "execution_count": null,
   "metadata": {},
   "outputs": [],
   "source": []
  }
 ],
 "metadata": {
  "kernelspec": {
   "display_name": "R",
   "language": "R",
   "name": "ir"
  },
  "language_info": {
   "codemirror_mode": "r",
   "file_extension": ".r",
   "mimetype": "text/x-r-source",
   "name": "R",
   "pygments_lexer": "r",
   "version": "3.6.1"
  }
 },
 "nbformat": 4,
 "nbformat_minor": 4
}
