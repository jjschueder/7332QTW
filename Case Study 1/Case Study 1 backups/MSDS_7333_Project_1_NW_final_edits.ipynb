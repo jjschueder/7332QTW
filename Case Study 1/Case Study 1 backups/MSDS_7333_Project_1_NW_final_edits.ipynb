{
 "cells": [
  {
   "cell_type": "markdown",
   "metadata": {
    "colab_type": "text",
    "id": "DDuxH7hE72wO"
   },
   "source": [
    "## MSDS 7333 Project 1 -- Predicting Location via Indoor Positioning Systems\n",
    "\n",
    "#### Stephen Hayden, Joe Schueder, Nicole Witten, Kevin Mendonsa"
   ]
  },
  {
   "cell_type": "markdown",
   "metadata": {
    "colab_type": "text",
    "id": "X2Fc7tgK72wP"
   },
   "source": [
    "### 1.1 Introduction\n",
    "\n",
    "#### Business Understanding\n",
    "\n",
    "**Introduction & describing the purpose of the data set (i.e., why was this data collected in the first place?).**\n",
    "\n",
    "Here is the floor plan of the building that we are building the location system for. \n",
    "\n",
    "![alt text](https://github.com/jjschueder/7333QTW/blob/master/floorplan.JPG?raw=true \"Logo Title Text 1\")\n"
   ]
  },
  {
   "cell_type": "markdown",
   "metadata": {
    "colab_type": "text",
    "id": "eQSl0Hv272wQ"
   },
   "source": [
    "### 1.1.2 Methods\n",
    "\n",
    "**How will we measure the effectiveness of a good algorithm?** \n",
    "\n",
    "To measure the effectiveness of each clustering algorithm we will be comparing the calculated Silhouette score (i.e. Silhouette Coefficient). Additional details regarding the silhouette score is below.\n",
    "    \n",
    "Silhouette Score – Per scikit learn documentation, “The Silhouette Coefficient is calculated using the mean intra-cluster distance (a) and the mean nearest-cluster distance (b) for each sample. The Silhouette Coefficient for a sample is (b - a) / max(a, b). To clarify, b is the distance between a sample and the nearest cluster that the sample is not a part of. Note that Silhouette Coefficient is only defined if number of labels is 2 <= n_labels <= n_samples - 1. \n",
    "    \n",
    "The best value is 1 and the worst value is -1. Values near 0 indicate overlapping clusters. Negative values indicate that the values located in each cluster have little in common with one another, suggesting the cluster was not based on a unified characteristic. We are going to use Silhouette score because it's a simple scoring metric to interpret, it shows a direct correlation to additional metrics we've reviewed such as homogeneity, completeness and V-measure. \n",
    "\n",
    "Outside of these quality measures, we will also be factoring time to run into the model performance as well, since we are working with a subset of data and will need to consider the computation resources needed to model the entire dataset. \n",
    "\n",
    "Additionally, we will want to keep in mind the number of observations that appear in each cluster, since we have equal balance of liquor types we are classifying, we will want as balanced as a cluster distribution as possible. "
   ]
  },
  {
   "cell_type": "markdown",
   "metadata": {
    "colab_type": "text",
    "id": "opsx_e--72wS"
   },
   "source": [
    "### 1.2 Raw Data\n",
    "\n",
    "The “offline” data has 151,392 lines. The data documentation says the expected row count 146,080 lines. The difference between expected and retrieved is 5,312. Therefore some cleanup needs to be done. "
   ]
  },
  {
   "cell_type": "code",
   "execution_count": 1,
   "metadata": {
    "colab": {},
    "colab_type": "code",
    "id": "YUVP_ZJg72wS",
    "outputId": "2234e9df-4a5c-419b-de34-c8459be43684"
   },
   "outputs": [
    {
     "name": "stdout",
     "output_type": "stream",
     "text": [
      "[1] \"Total Number of rows in dataset starting with '#':  5312\"\n",
      "[1] \"Total Number of rows in dataset:  151392\"\n"
     ]
    }
   ],
   "source": [
    "options(digits = 2)\n",
    "txt = readLines(\"http://rdatasciencecases.org/Data/offline.final.trace.txt\")\n",
    "\n",
    "# Rows in dataset starting with #\n",
    "print(paste(\"Total Number of rows in dataset starting with '#': \",sum(substr(txt, 1, 1) == \"#\")))\n",
    "\n",
    "# Total Number of rows in dataset, inc comment rows\n",
    "print(paste(\"Total Number of rows in dataset: \",length(txt)))\n"
   ]
  },
  {
   "cell_type": "markdown",
   "metadata": {
    "colab_type": "text",
    "id": "Z8EeF53b72wZ"
   },
   "source": [
    "### 1.2.1 Processing Raw Data\n",
    "\n",
    "Create a function named processLine to process data (split by ; = or ,). The function returns matrix with rows for each MAC address and columns for position and orientation. Therefore, the number of rows in the dataset grow in size while achieving seperate columns representing various attributes of the data. Next, exclude rows starting with # as these are not relevant to the analysis. The rows in the data that start with # are removed also. "
   ]
  },
  {
   "cell_type": "code",
   "execution_count": 2,
   "metadata": {
    "colab": {},
    "colab_type": "code",
    "id": "LkHI5Lwx72wa"
   },
   "outputs": [],
   "source": [
    "# Create a function named processLine to process data (split by ; = or ,)\n",
    "# Returns matrix w/11 rows for each MAC address and columns for position and orientation\n",
    "processLine = function(x)\n",
    "{\n",
    "tokens = strsplit(x, \"[;=,]\")[[1]]\n",
    "if (length(tokens) == 10)\n",
    "    return(NULL)\n",
    "tmp = matrix(tokens[ - (1:10) ], , 4, byrow = TRUE)\n",
    "cbind(matrix(tokens[c(2, 4, 6:8, 10)], nrow(tmp), 6,\n",
    "byrow = TRUE), tmp)\n",
    "}\n"
   ]
  },
  {
   "cell_type": "code",
   "execution_count": 3,
   "metadata": {
    "colab": {},
    "colab_type": "code",
    "id": "p8f93_cd72wf",
    "outputId": "1acb1b10-c9ea-45ea-c016-fe25916a0b99"
   },
   "outputs": [
    {
     "name": "stdout",
     "output_type": "stream",
     "text": [
      "[1] \"Sample of rows in each time set\"\n"
     ]
    },
    {
     "data": {
      "text/html": [
       "<ol class=list-inline>\n",
       "\t<li>11</li>\n",
       "\t<li>10</li>\n",
       "\t<li>10</li>\n",
       "\t<li>11</li>\n",
       "\t<li>9</li>\n",
       "\t<li>10</li>\n",
       "\t<li>9</li>\n",
       "\t<li>9</li>\n",
       "\t<li>10</li>\n",
       "\t<li>11</li>\n",
       "\t<li>11</li>\n",
       "\t<li>9</li>\n",
       "\t<li>9</li>\n",
       "\t<li>9</li>\n",
       "\t<li>8</li>\n",
       "\t<li>10</li>\n",
       "\t<li>14</li>\n",
       "</ol>\n"
      ],
      "text/latex": [
       "\\begin{enumerate*}\n",
       "\\item 11\n",
       "\\item 10\n",
       "\\item 10\n",
       "\\item 11\n",
       "\\item 9\n",
       "\\item 10\n",
       "\\item 9\n",
       "\\item 9\n",
       "\\item 10\n",
       "\\item 11\n",
       "\\item 11\n",
       "\\item 9\n",
       "\\item 9\n",
       "\\item 9\n",
       "\\item 8\n",
       "\\item 10\n",
       "\\item 14\n",
       "\\end{enumerate*}\n"
      ],
      "text/markdown": [
       "1. 11\n",
       "2. 10\n",
       "3. 10\n",
       "4. 11\n",
       "5. 9\n",
       "6. 10\n",
       "7. 9\n",
       "8. 9\n",
       "9. 10\n",
       "10. 11\n",
       "11. 11\n",
       "12. 9\n",
       "13. 9\n",
       "14. 9\n",
       "15. 8\n",
       "16. 10\n",
       "17. 14\n",
       "\n",
       "\n"
      ],
      "text/plain": [
       " [1] 11 10 10 11  9 10  9  9 10 11 11  9  9  9  8 10 14"
      ]
     },
     "metadata": {},
     "output_type": "display_data"
    },
    {
     "name": "stdout",
     "output_type": "stream",
     "text": [
      "[1] \"# of rows in tmp data set:  170\"\n",
      "[1] \"# of columns in tmp data set:  10\"\n"
     ]
    }
   ],
   "source": [
    "# Apply the processLine function to rows 4 through 20\n",
    "tmp = lapply(txt[4:20], processLine)\n",
    "\n",
    "# Count of rows at each time, returns 17 matrices and # of signals at each point\n",
    "print(\"Sample of rows in each time set\")\n",
    "sapply(tmp, nrow)\n",
    "\n",
    "# Convert a list of data frames into one data frame (Add all times together)\n",
    "offline = as.data.frame(do.call(\"rbind\", tmp))\n",
    "print(paste(\"# of rows in tmp data set: \",dim(offline)[1]))\n",
    "print(paste(\"# of columns in tmp data set: \",dim(offline)[2]))\n"
   ]
  },
  {
   "cell_type": "code",
   "execution_count": 4,
   "metadata": {
    "colab": {},
    "colab_type": "code",
    "id": "IyRtI-e972wl",
    "outputId": "0f72531c-4ee2-4112-f77e-5c93c0d28df6"
   },
   "outputs": [
    {
     "data": {
      "text/html": [
       "1181628"
      ],
      "text/latex": [
       "1181628"
      ],
      "text/markdown": [
       "1181628"
      ],
      "text/plain": [
       "[1] 1181628"
      ]
     },
     "metadata": {},
     "output_type": "display_data"
    }
   ],
   "source": [
    "# Must exclude rows starting with #\n",
    "lines = txt[ substr(txt, 1, 1) != \"#\" ]\n",
    "\n",
    "# Options(error = recover, warn = 1)\n",
    "# load in full dataset\n",
    "# Apply the function processLine to each row/line\n",
    "tmp = lapply(lines, processLine)\n",
    "offline = as.data.frame(do.call(\"rbind\", tmp), \n",
    "                        stringsAsFactors = FALSE)\n",
    "\n",
    "# Check data set dimensions\n",
    "nrow(offline)"
   ]
  },
  {
   "cell_type": "markdown",
   "metadata": {
    "colab_type": "text",
    "id": "E_iNOC3Q72wr"
   },
   "source": []
  },
  {
   "cell_type": "markdown",
   "metadata": {
    "colab_type": "text",
    "id": "7yeOnHF472ws"
   },
   "source": [
    "### 1.3 Clean Data and Build Representation for Analysis"
   ]
  },
  {
   "cell_type": "code",
   "execution_count": 5,
   "metadata": {
    "colab": {},
    "colab_type": "code",
    "id": "6yMOqjMR72wt",
    "outputId": "f4ee1f31-3149-4c7a-c51a-9c8ca3b6b424"
   },
   "outputs": [
    {
     "data": {
      "text/html": [
       "<ol class=list-inline>\n",
       "\t<li>978443</li>\n",
       "\t<li>9</li>\n",
       "</ol>\n"
      ],
      "text/latex": [
       "\\begin{enumerate*}\n",
       "\\item 978443\n",
       "\\item 9\n",
       "\\end{enumerate*}\n"
      ],
      "text/markdown": [
       "1. 978443\n",
       "2. 9\n",
       "\n",
       "\n"
      ],
      "text/plain": [
       "[1] 978443      9"
      ]
     },
     "metadata": {},
     "output_type": "display_data"
    }
   ],
   "source": [
    "# Rename fields with meaningful names\n",
    "names(offline) = c(\"time\", \"scanMac\", \"posX\", \"posY\", \"posZ\",\n",
    "\"orientation\", \"mac\", \"signal\",\n",
    "\"channel\", \"type\")\n",
    "\n",
    "# Convert position, signal, and time variables to numeric\n",
    "numVars = c(\"time\", \"posX\", \"posY\", \"posZ\", \n",
    "            \"orientation\", \"signal\")\n",
    "offline[ numVars ] =  lapply(offline[ numVars ], as.numeric)\n",
    "\n",
    "# Drop all records for adhoc measurements and remove the type variable from our data frame\n",
    "# Confirm current dataframe dimensions\n",
    "offline = offline[ offline$type == \"3\", ]\n",
    "offline = offline[ , \"type\" != names(offline) ]\n",
    "dim(offline)"
   ]
  },
  {
   "cell_type": "code",
   "execution_count": 6,
   "metadata": {
    "colab": {},
    "colab_type": "code",
    "id": "3c4xj5ZI72wz"
   },
   "outputs": [],
   "source": [
    "# Time variable; time measured in milliseconds from midnight on January 1st, 1970.\n",
    "# POSIXt is measured in seconds, not milliseconds. Must scale value of time to seconds \n",
    "# and set class of the time element to have values appear and operate as date-times in R.\n",
    "# Keep the more precise time in rawTime, in case needed.\n",
    "\n",
    "offline$rawTime = offline$time\n",
    "offline$time = offline$time/1000\n",
    "class(offline$time) = c(\"POSIXt\", \"POSIXct\")"
   ]
  },
  {
   "cell_type": "code",
   "execution_count": 7,
   "metadata": {
    "colab": {},
    "colab_type": "code",
    "id": "8hBEk9EC72w3",
    "outputId": "bd1f9ea0-3a08-4461-e0dd-a8790cd5cb3a"
   },
   "outputs": [
    {
     "data": {
      "text/html": [
       "<dl class=dl-horizontal>\n",
       "\t<dt>time1</dt>\n",
       "\t\t<dd>'POSIXt'</dd>\n",
       "\t<dt>time2</dt>\n",
       "\t\t<dd>'POSIXct'</dd>\n",
       "\t<dt>scanMac</dt>\n",
       "\t\t<dd>'character'</dd>\n",
       "\t<dt>posX</dt>\n",
       "\t\t<dd>'numeric'</dd>\n",
       "\t<dt>posY</dt>\n",
       "\t\t<dd>'numeric'</dd>\n",
       "\t<dt>posZ</dt>\n",
       "\t\t<dd>'numeric'</dd>\n",
       "\t<dt>orientation</dt>\n",
       "\t\t<dd>'numeric'</dd>\n",
       "\t<dt>mac</dt>\n",
       "\t\t<dd>'character'</dd>\n",
       "\t<dt>signal</dt>\n",
       "\t\t<dd>'numeric'</dd>\n",
       "\t<dt>channel</dt>\n",
       "\t\t<dd>'character'</dd>\n",
       "\t<dt>rawTime</dt>\n",
       "\t\t<dd>'numeric'</dd>\n",
       "</dl>\n"
      ],
      "text/latex": [
       "\\begin{description*}\n",
       "\\item[time1] 'POSIXt'\n",
       "\\item[time2] 'POSIXct'\n",
       "\\item[scanMac] 'character'\n",
       "\\item[posX] 'numeric'\n",
       "\\item[posY] 'numeric'\n",
       "\\item[posZ] 'numeric'\n",
       "\\item[orientation] 'numeric'\n",
       "\\item[mac] 'character'\n",
       "\\item[signal] 'numeric'\n",
       "\\item[channel] 'character'\n",
       "\\item[rawTime] 'numeric'\n",
       "\\end{description*}\n"
      ],
      "text/markdown": [
       "time1\n",
       ":   'POSIXt'time2\n",
       ":   'POSIXct'scanMac\n",
       ":   'character'posX\n",
       ":   'numeric'posY\n",
       ":   'numeric'posZ\n",
       ":   'numeric'orientation\n",
       ":   'numeric'mac\n",
       ":   'character'signal\n",
       ":   'numeric'channel\n",
       ":   'character'rawTime\n",
       ":   'numeric'\n",
       "\n"
      ],
      "text/plain": [
       "      time1       time2     scanMac        posX        posY        posZ \n",
       "   \"POSIXt\"   \"POSIXct\" \"character\"   \"numeric\"   \"numeric\"   \"numeric\" \n",
       "orientation         mac      signal     channel     rawTime \n",
       "  \"numeric\" \"character\"   \"numeric\" \"character\"   \"numeric\" "
      ]
     },
     "metadata": {},
     "output_type": "display_data"
    },
    {
     "data": {
      "text/plain": [
       "      time                          posX         posY           posZ  \n",
       " Min.   :2006-02-10 23:31:58   Min.   : 0   Min.   : 0.0   Min.   :0  \n",
       " 1st Qu.:2006-02-11 05:21:27   1st Qu.: 2   1st Qu.: 3.0   1st Qu.:0  \n",
       " Median :2006-02-11 11:57:58   Median :12   Median : 6.0   Median :0  \n",
       " Mean   :2006-02-16 06:57:37   Mean   :14   Mean   : 5.9   Mean   :0  \n",
       " 3rd Qu.:2006-02-19 06:52:40   3rd Qu.:23   3rd Qu.: 8.0   3rd Qu.:0  \n",
       " Max.   :2006-03-09 12:41:10   Max.   :33   Max.   :13.0   Max.   :0  \n",
       "  orientation      signal   \n",
       " Min.   :  0   Min.   :-99  \n",
       " 1st Qu.: 90   1st Qu.:-69  \n",
       " Median :180   Median :-60  \n",
       " Mean   :167   Mean   :-62  \n",
       " 3rd Qu.:270   3rd Qu.:-53  \n",
       " Max.   :360   Max.   :-25  "
      ]
     },
     "metadata": {},
     "output_type": "display_data"
    },
    {
     "data": {
      "text/plain": [
       "                mac               channel                    scanMac      \n",
       " 00:0f:a3:39:e1:c0:145862   2462000000:189774   00:02:2D:21:0F:33:978443  \n",
       " 00:0f:a3:39:dd:cd:145619   2437000000:152124                             \n",
       " 00:14:bf:b1:97:8a:132962   2412000000:145619                             \n",
       " 00:14:bf:3b:c7:c6:126529   2432000000:126529                             \n",
       " 00:14:bf:b1:97:90:122315   2427000000:122315                             \n",
       " 00:14:bf:b1:97:8d:121325   2442000000:121325                             \n",
       " (Other)          :183831   (Other)   :120757                             "
      ]
     },
     "metadata": {},
     "output_type": "display_data"
    }
   ],
   "source": [
    "# Check the types of the variables in the data frame\n",
    "unlist(lapply(offline, class))\n",
    "\n",
    "# Next verify that actual values of the data look reasonable. Start w/summary of each numeric variable\n",
    "summary(offline[, numVars])\n",
    "\n",
    "# Convert character variables to factors. Examine summary\n",
    "summary(sapply(offline[ , c(\"mac\", \"channel\", \"scanMac\")],\n",
    "               as.factor))"
   ]
  },
  {
   "cell_type": "markdown",
   "metadata": {
    "colab_type": "text",
    "id": "Fd1xJVRh72w-"
   },
   "source": [
    "Results of Note: \n",
    "\n",
    "1. There is only one value for scanMac, the MAC address for the hand-held device from which the measurements were taken. We might as well discard this variable from our data frame. However, we may want to note this value to compare it with the online data. \n",
    "\n",
    "2. All of the values for posZ, the elevation of the hand-held device, are 0. This is because all of the measurements were taken on one floor of the building. We can eliminate this variable."
   ]
  },
  {
   "cell_type": "code",
   "execution_count": 8,
   "metadata": {
    "colab": {},
    "colab_type": "code",
    "id": "0UFtQ18i72w_"
   },
   "outputs": [],
   "source": [
    "# Discard scanMac and eliminate posZ\n",
    "offline = offline[ , !(names(offline) %in% c(\"scanMac\", \"posZ\"))]\n"
   ]
  },
  {
   "cell_type": "markdown",
   "metadata": {
    "colab_type": "text",
    "id": "HwksNvAL72xE"
   },
   "source": [
    "### 1.3.1 Explore Orientation"
   ]
  },
  {
   "cell_type": "code",
   "execution_count": 9,
   "metadata": {
    "colab": {},
    "colab_type": "code",
    "id": "ILMF8T6d72xF",
    "outputId": "17b4867b-73a8-48ea-9a12-657ae38283fb"
   },
   "outputs": [
    {
     "data": {
      "text/html": [
       "203"
      ],
      "text/latex": [
       "203"
      ],
      "text/markdown": [
       "203"
      ],
      "text/plain": [
       "[1] 203"
      ]
     },
     "metadata": {},
     "output_type": "display_data"
    },
    {
     "data": {
      "image/png": "[encoded data removed]",
      "text/plain": [
       "Plot with title \"ecdf(offline$orientation)\""
      ]
     },
     "metadata": {},
     "output_type": "display_data"
    }
   ],
   "source": [
    "# Per documentation, should have 8 values for orientation (0, 45, 90,..., 315)\n",
    "length(unique(offline$orientation))\n",
    "\n",
    "# At 203, this is not the case. Examine the distribution of orientation\n",
    "plot(ecdf(offline$orientation))\n"
   ]
  },
  {
   "cell_type": "markdown",
   "metadata": {
    "colab_type": "text",
    "id": "Ts-4e5EB72xJ"
   },
   "source": [
    "Figure 1.2: Empirical CDF of Orientation for the Hand-Held Device. Shows 8 basic orientations that are 45 degrees apart."
   ]
  },
  {
   "cell_type": "markdown",
   "metadata": {
    "colab_type": "text",
    "id": "vraVobgC72xK"
   },
   "source": [
    "Although the experiment was designed to measure signal strength at 8 orientations - 45 degree intervals from 0 to 315 - these orientations are not exact. However, it may be useful to work with values corresponding to the 8 equi-spaced angles, i.e. map 47.5 to 45, and 358.2 to 0, and so on. To do this, take each value and find out which of the 8 orientations is closest and that orientation. Pay special attention to values such as 358.2, as they should map to 0, not to the closer 315."
   ]
  },
  {
   "cell_type": "code",
   "execution_count": 10,
   "metadata": {
    "colab": {},
    "colab_type": "code",
    "id": "HvFFZogi72xL"
   },
   "outputs": [],
   "source": [
    "# Use roundOrientation() to create the rounded angles, from notes above\n",
    "\n",
    "roundOrientation = function(angles) {\n",
    "  refs = seq(0, by = 45, length  = 9)\n",
    "  q = sapply(angles, function(o) which.min(abs(o - refs)))\n",
    "  c(refs[1:8], 0)[q]\n",
    "}\n"
   ]
  },
  {
   "cell_type": "code",
   "execution_count": 11,
   "metadata": {
    "colab": {},
    "colab_type": "code",
    "id": "zKEuc3LI72xP",
    "outputId": "70ac5340-0772-4bfc-f221-020a727e83ef"
   },
   "outputs": [
    {
     "data": {
      "image/png": "[encoded data removed]",
      "text/plain": [
       "Plot with title \"Main title\""
      ]
     },
     "metadata": {},
     "output_type": "display_data"
    }
   ],
   "source": [
    "# Create rounded angles and check boxplots\n",
    "offline$angle = roundOrientation(offline$orientation)\n",
    "\n",
    "with(offline, boxplot(orientation ~ angle,\n",
    "                     xlab = \"nearest 45 degree angle\",\n",
    "                     ylab = \"orientation\",\n",
    "                     main=\"Main title\"))\n"
   ]
  },
  {
   "cell_type": "markdown",
   "metadata": {
    "colab_type": "text",
    "id": "IdW9tP3r72xT"
   },
   "source": [
    "Figure 1.3: Boxplots of Orientation for the Hand-Held Device. Confirm that values have mapped correctly."
   ]
  },
  {
   "cell_type": "markdown",
   "metadata": {
    "colab_type": "text",
    "id": "lP2PBla272xU"
   },
   "source": [
    "### 1.3.2 EXPLORE MAC ADDRESSES"
   ]
  },
  {
   "cell_type": "code",
   "execution_count": 12,
   "metadata": {
    "colab": {},
    "colab_type": "code",
    "id": "P8c3OJXd72xU",
    "outputId": "50faabbb-0218-42d8-e2d8-c1e88adb64d5"
   },
   "outputs": [
    {
     "data": {
      "text/html": [
       "<ol class=list-inline>\n",
       "\t<li>12</li>\n",
       "\t<li>8</li>\n",
       "</ol>\n"
      ],
      "text/latex": [
       "\\begin{enumerate*}\n",
       "\\item 12\n",
       "\\item 8\n",
       "\\end{enumerate*}\n"
      ],
      "text/markdown": [
       "1. 12\n",
       "2. 8\n",
       "\n",
       "\n"
      ],
      "text/plain": [
       "[1] 12  8"
      ]
     },
     "metadata": {},
     "output_type": "display_data"
    }
   ],
   "source": [
    "# From the summary() information, there may be a one-to-one mapping between MAC address of the access points and channel. \n",
    "# For example, the summary statistics show 126,529 occurrences of the address 00:14:bf:3b:c7:c6 and the same number of \n",
    "# occurrences of channel 2432000000.\n",
    "\n",
    "# To check for 1:1 mapping, look at relationship between MAC address and channel. The unique addresses and channels should\n",
    "# be the same number if 1:1.\n",
    "c(length(unique(offline$mac)), length(unique(offline$channel)))\n"
   ]
  },
  {
   "cell_type": "markdown",
   "metadata": {
    "colab_type": "text",
    "id": "9zoRJXc672xZ"
   },
   "source": [
    "First and last two MAC addresses are not near the testing area or were only working/active for a short time  during the measurement process because their counts are very low. \n",
    " \n",
    "Also likely that third and fifth addresses are not among the access points displayed because they have much lower counts.\n"
   ]
  },
  {
   "cell_type": "code",
   "execution_count": 13,
   "metadata": {
    "colab": {},
    "colab_type": "code",
    "id": "vMNs1IDQ72xZ",
    "outputId": "4375a7a9-48c3-4325-bc66-8f107df33808"
   },
   "outputs": [
    {
     "data": {
      "text/plain": [
       "\n",
       "00:04:0e:5c:23:fc 00:0f:a3:39:dd:cd 00:0f:a3:39:e0:4b 00:0f:a3:39:e1:c0 \n",
       "              418            145619             43508            145862 \n",
       "00:0f:a3:39:e2:10 00:14:bf:3b:c7:c6 00:14:bf:b1:97:81 00:14:bf:b1:97:8a \n",
       "            19162            126529            120339            132962 \n",
       "00:14:bf:b1:97:8d 00:14:bf:b1:97:90 00:30:bd:f8:7f:c5 00:e0:63:82:8b:a9 \n",
       "           121325            122315               301               103 "
      ]
     },
     "metadata": {},
     "output_type": "display_data"
    }
   ],
   "source": [
    "# Results -  12 MAC addresses and 8 channels.\n",
    "# Building plan (figure 1.1) indcates 6 access points. Documentation notes there are additional access points that \n",
    "# are not part of the testing area, so not seen on the floor plan.\n",
    "# Check counts of observations for the various MAC addresses\n",
    "table(offline$mac)\n"
   ]
  },
  {
   "cell_type": "code",
   "execution_count": 14,
   "metadata": {
    "colab": {},
    "colab_type": "code",
    "id": "GkDK5rMP72xd"
   },
   "outputs": [],
   "source": [
    "# First and last two MAC addresses are not near the testing area or were only working/active for a short time \n",
    "# during the measurement process because their counts are very low. \n",
    "# Also likely that third and fifth addresses are not among the access points displayed because they have much lower counts.\n",
    "# Possible 146,080 recordings total (recall that there are potentially signals recorded at 166 grid points, 8 orientations,\n",
    "# and 110 replications).\n",
    "\n",
    "# Per documentation, access points consist of 5 Linksys/Cisco and one Lancom L-54g routers. \n",
    "# Look up MAC addresses to find the vendor addresses: 00:14:bf -- Linksys, 00:0f:a3 -- Alpha Networks, and \n",
    "# 00:a0:57 -- Lancom devices.\n",
    "# 5 devices with an address that begins are Linksys; none from Lancom (conflict with documentation)\n",
    "# For now, keep the records from top 7 devices.\n",
    "subMacs = names(sort(table(offline$mac), decreasing = TRUE))[1:7]\n",
    "offline = offline[ offline$mac %in% subMacs, ]\n"
   ]
  },
  {
   "cell_type": "code",
   "execution_count": 15,
   "metadata": {
    "colab": {},
    "colab_type": "code",
    "id": "57AAZd-872xh",
    "outputId": "85d55185-e59d-48ba-8dc9-c69488af03a6"
   },
   "outputs": [
    {
     "data": {
      "text/html": [
       "<dl class=dl-horizontal>\n",
       "\t<dt>00:0f:a3:39:dd:cd</dt>\n",
       "\t\t<dd>1</dd>\n",
       "\t<dt>00:0f:a3:39:e1:c0</dt>\n",
       "\t\t<dd>1</dd>\n",
       "\t<dt>00:14:bf:3b:c7:c6</dt>\n",
       "\t\t<dd>1</dd>\n",
       "\t<dt>00:14:bf:b1:97:81</dt>\n",
       "\t\t<dd>1</dd>\n",
       "\t<dt>00:14:bf:b1:97:8a</dt>\n",
       "\t\t<dd>1</dd>\n",
       "\t<dt>00:14:bf:b1:97:8d</dt>\n",
       "\t\t<dd>1</dd>\n",
       "\t<dt>00:14:bf:b1:97:90</dt>\n",
       "\t\t<dd>1</dd>\n",
       "</dl>\n"
      ],
      "text/latex": [
       "\\begin{description*}\n",
       "\\item[00:0f:a3:39:dd:cd] 1\n",
       "\\item[00:0f:a3:39:e1:c0] 1\n",
       "\\item[00:14:bf:3b:c7:c6] 1\n",
       "\\item[00:14:bf:b1:97:81] 1\n",
       "\\item[00:14:bf:b1:97:8a] 1\n",
       "\\item[00:14:bf:b1:97:8d] 1\n",
       "\\item[00:14:bf:b1:97:90] 1\n",
       "\\end{description*}\n"
      ],
      "text/markdown": [
       "00:0f:a3:39:dd:cd\n",
       ":   100:0f:a3:39:e1:c0\n",
       ":   100:14:bf:3b:c7:c6\n",
       ":   100:14:bf:b1:97:81\n",
       ":   100:14:bf:b1:97:8a\n",
       ":   100:14:bf:b1:97:8d\n",
       ":   100:14:bf:b1:97:90\n",
       ":   1\n",
       "\n"
      ],
      "text/plain": [
       "00:0f:a3:39:dd:cd 00:0f:a3:39:e1:c0 00:14:bf:3b:c7:c6 00:14:bf:b1:97:81 \n",
       "                1                 1                 1                 1 \n",
       "00:14:bf:b1:97:8a 00:14:bf:b1:97:8d 00:14:bf:b1:97:90 \n",
       "                1                 1                 1 "
      ]
     },
     "metadata": {},
     "output_type": "display_data"
    }
   ],
   "source": [
    "# Create table of counts for the remaining MAC × channel combination, confirm there is one non-zero entry in each row.\n",
    "macChannel = with(offline, table(mac, channel))\n",
    "apply(macChannel, 1, function(x) sum(x > 0))\n",
    "\n",
    "# There is 1:1 correspondence between MAC address and channel for 7 devices. Eliminate channel from offline.\n",
    "\n",
    "offline = offline[ , \"channel\" != names(offline)]\n"
   ]
  },
  {
   "cell_type": "markdown",
   "metadata": {
    "colab_type": "text",
    "id": "6hYyDHzU72xm"
   },
   "source": [
    "### 1.3.3 EXPLORE HAND-HELD DEVICE"
   ]
  },
  {
   "cell_type": "code",
   "execution_count": 16,
   "metadata": {
    "colab": {},
    "colab_type": "code",
    "id": "vPsYxnmZ72xn",
    "outputId": "96a87f8d-1b84-4423-d517-729da7822fc0"
   },
   "outputs": [
    {
     "data": {
      "text/html": [
       "476"
      ],
      "text/latex": [
       "476"
      ],
      "text/markdown": [
       "476"
      ],
      "text/plain": [
       "[1] 476"
      ]
     },
     "metadata": {},
     "output_type": "display_data"
    }
   ],
   "source": [
    "# Tally number of rows in data frame for each unique (x, y) combination.\n",
    "\n",
    "locDF <- with(offline, by(offline, list(posX, posY), function(x) x))\n",
    "\n",
    "# Check\n",
    "length(locDF)\n"
   ]
  },
  {
   "cell_type": "code",
   "execution_count": 17,
   "metadata": {
    "colab": {},
    "colab_type": "code",
    "id": "6rkcXMtA72xr",
    "outputId": "593754d6-c007-42a2-959e-8d0d1ed5ba89"
   },
   "outputs": [
    {
     "data": {
      "text/html": [
       "310"
      ],
      "text/latex": [
       "310"
      ],
      "text/markdown": [
       "310"
      ],
      "text/plain": [
       "[1] 310"
      ]
     },
     "metadata": {},
     "output_type": "display_data"
    }
   ],
   "source": [
    "# 476 is longer than number of combinations of actual (x, y) locations at which measurements were recorded.\n",
    "# Many of these elements are empty.\n",
    "\n",
    "sum(sapply(locDF, is.null))"
   ]
  },
  {
   "cell_type": "code",
   "execution_count": 18,
   "metadata": {
    "colab": {},
    "colab_type": "code",
    "id": "mIss7vzp72xw",
    "outputId": "fc28f266-346c-4f37-f584-33570cbfb54c"
   },
   "outputs": [
    {
     "data": {
      "text/html": [
       "166"
      ],
      "text/latex": [
       "166"
      ],
      "text/markdown": [
       "166"
      ],
      "text/plain": [
       "[1] 166"
      ]
     },
     "metadata": {},
     "output_type": "display_data"
    }
   ],
   "source": [
    "# Null values correspond to combinations of the xs and ys that were not observed. Drop unneeded elements.\n",
    "locDF <- locDF[!sapply(locDF, is.null)]\n",
    "\n",
    "# Check/Confirm only 166 locations\n",
    "length(locDF)\n"
   ]
  },
  {
   "cell_type": "code",
   "execution_count": 19,
   "metadata": {
    "colab": {},
    "colab_type": "code",
    "id": "DH1PBtWu72x2",
    "outputId": "7788133b-5a94-480c-f968-3f1636600b2f"
   },
   "outputs": [
    {
     "data": {
      "text/html": [
       "'matrix'"
      ],
      "text/latex": [
       "'matrix'"
      ],
      "text/markdown": [
       "'matrix'"
      ],
      "text/plain": [
       "[1] \"matrix\""
      ]
     },
     "metadata": {},
     "output_type": "display_data"
    }
   ],
   "source": [
    "# Determine the number of observations recorded at each location.\n",
    "locCounts <- sapply(locDF, nrow)\n",
    "\n",
    "# Keep position information with lcoation. \n",
    "locCounts <- sapply(locDF, function(df) c(df[1, c(\"posX\", \"posY\")], count = nrow(df)))\n",
    "\n",
    "# Confirm matrix matrix strucutre\n",
    "class(locCounts)"
   ]
  },
  {
   "cell_type": "code",
   "execution_count": 20,
   "metadata": {
    "colab": {},
    "colab_type": "code",
    "id": "coOtHLqn72x6",
    "outputId": "8b66bc2c-10b9-454c-cfd4-eeffdeda7acd"
   },
   "outputs": [
    {
     "data": {
      "text/html": [
       "<ol class=list-inline>\n",
       "\t<li>3</li>\n",
       "\t<li>166</li>\n",
       "</ol>\n"
      ],
      "text/latex": [
       "\\begin{enumerate*}\n",
       "\\item 3\n",
       "\\item 166\n",
       "\\end{enumerate*}\n"
      ],
      "text/markdown": [
       "1. 3\n",
       "2. 166\n",
       "\n",
       "\n"
      ],
      "text/plain": [
       "[1]   3 166"
      ]
     },
     "metadata": {},
     "output_type": "display_data"
    }
   ],
   "source": [
    "# Confirm 3 rows\n",
    "dim(locCounts)"
   ]
  },
  {
   "cell_type": "code",
   "execution_count": 21,
   "metadata": {
    "colab": {},
    "colab_type": "code",
    "id": "PwXPWAhZ72x9",
    "outputId": "502e939a-9a09-4cc2-9d90-217da7e09eb3"
   },
   "outputs": [
    {
     "data": {
      "text/html": [
       "<table>\n",
       "<tbody>\n",
       "\t<tr><th scope=row>posX</th><td>0</td><td>1</td><td>2</td><td>0</td><td>1</td><td>2</td><td>0</td><td>1</td></tr>\n",
       "\t<tr><th scope=row>posY</th><td>0</td><td>0</td><td>0</td><td>1</td><td>1</td><td>1</td><td>2</td><td>2</td></tr>\n",
       "\t<tr><th scope=row>count</th><td>5505</td><td>5505</td><td>5506</td><td>5524</td><td>5543</td><td>5558</td><td>5503</td><td>5564</td></tr>\n",
       "</tbody>\n",
       "</table>\n"
      ],
      "text/latex": [
       "\\begin{tabular}{r|llllllll}\n",
       "\tposX & 0 & 1 & 2 & 0 & 1 & 2 & 0 & 1\\\\\n",
       "\tposY & 0 & 0 & 0 & 1 & 1 & 1 & 2 & 2\\\\\n",
       "\tcount & 5505 & 5505 & 5506 & 5524 & 5543 & 5558 & 5503 & 5564\\\\\n",
       "\\end{tabular}\n"
      ],
      "text/markdown": [
       "\n",
       "| posX | 0 | 1 | 2 | 0 | 1 | 2 | 0 | 1 |\n",
       "| posY | 0 | 0 | 0 | 1 | 1 | 1 | 2 | 2 |\n",
       "| count | 5505 | 5505 | 5506 | 5524 | 5543 | 5558 | 5503 | 5564 |\n",
       "\n"
      ],
      "text/plain": [
       "      [,1] [,2] [,3] [,4] [,5] [,6] [,7] [,8]\n",
       "posX  0    1    2    0    1    2    0    1   \n",
       "posY  0    0    0    1    1    1    2    2   \n",
       "count 5505 5505 5506 5524 5543 5558 5503 5564"
      ]
     },
     "metadata": {},
     "output_type": "display_data"
    }
   ],
   "source": [
    "# Examine a few counts\n",
    "locCounts[, 1:8]"
   ]
  },
  {
   "cell_type": "code",
   "execution_count": 22,
   "metadata": {
    "colab": {},
    "colab_type": "code",
    "id": "3qZnFYtE72yC",
    "outputId": "2ea24d5b-db2e-4d84-fc7c-4fec3c22430b"
   },
   "outputs": [
    {
     "data": {
      "image/png": "[encoded data removed]",
      "text/plain": [
       "Plot with title \"Main title\""
      ]
     },
     "metadata": {},
     "output_type": "display_data"
    }
   ],
   "source": [
    "# There are roughly 5,500 recordings at each position, which aligns with 8 orientations × 110 replications × 7 access points,\n",
    "# which is 6,160 signal strength measurements. Visualize all 166 counts by adding the counts as text at respective locations.\n",
    "# Transpose matrix so locations are columns of matrix and change size/angle of characters to plot.\n",
    "locCounts = t(locCounts)\n",
    "plot(locCounts, type = \"n\", xlab = \"\", ylab = \"\", main=\"Main title\")\n",
    "text(locCounts, labels = locCounts[, 3], cex = 0.8, srt = 45)\n"
   ]
  },
  {
   "cell_type": "markdown",
   "metadata": {
    "colab_type": "text",
    "id": "KmU8J9lG72yG"
   },
   "source": [
    "Figure 1.5: Counts of Signals at Each Position. Ideally 110 signals measured at 8 angles for 6 access pooints, for a total of 5,280. Data includes 7th MAC address and not all signals detected, resulting in approximately 5,500 reading at each location."
   ]
  },
  {
   "cell_type": "markdown",
   "metadata": {
    "colab_type": "text",
    "id": "6ZxtLYPV72yH"
   },
   "source": [
    "### 1.3.4 CREATE A FUNCTION TO PREPARE DATA -- NEED HELP HERE"
   ]
  },
  {
   "cell_type": "markdown",
   "metadata": {
    "colab_type": "text",
    "id": "O2JrRSd372yI"
   },
   "source": [
    "MAY NOT NEED THIS SECTION"
   ]
  },
  {
   "cell_type": "markdown",
   "metadata": {
    "colab_type": "text",
    "id": "7i5mv2de72yI"
   },
   "source": [
    "'We have examined all the variables except time and signal. This process has helped us\n",
    "clean our data and reduce it to those records that are relevant to our analysis. We leave the\n",
    "examination of the signals to the next section where we study its distributional properties.\n",
    "As for time, while this variable is not directly related to our model, it indicates the order\n",
    "in which the observations were taken. In an experiment, this can be helpful in uncovering\n",
    "potential sources of bias. For example, the person carrying the hand-held device may have\n",
    "changed how the device was carried as the experiment progressed and this change may lead\n",
    "to a change in the strength of the signal. Plots and analyses of the relationship between time\n",
    "and other variables can help us uncover such potential problems. We leave this investigation\n",
    "as an exercise.\n",
    "Since we also want to read the online data in R, we turn all of these commands into\n",
    "a function called readData(). Additionally, if we later change our mind as to how we want\n",
    "to handle some of these special cases, e.g., to keep channel or posZ, then we can make a\n",
    "simple update to our function and rerun it. We might even add a parameter to the function\n",
    "definition to allow us to process the data in different ways. We leave it as an exercise to\n",
    "create readData()."
   ]
  },
  {
   "cell_type": "markdown",
   "metadata": {
    "colab_type": "text",
    "id": "FesScsBi72yJ"
   },
   "source": [
    "#### We call readData() to create the offline data frame with'\n",
    "\n",
    "readData = \n",
    "  function(filename = 'offline.final.trace.txt', \n",
    "           subMacs = c(\"00:0f:a3:39:e1:c0\", \"00:0f:a3:39:dd:cd\", \"00:14:bf:b1:97:8a\",\n",
    "                       \"00:14:bf:3b:c7:c6\", \"00:14:bf:b1:97:90\", \"00:14:bf:b1:97:8d\",\n",
    "                       \"00:14:bf:b1:97:81\"))\n",
    "  {\n",
    "    txt = readLines(filename)\n",
    "    lines = txt[ substr(txt, 1, 1) != \"#\" ]\n",
    "    tmp = lapply(lines, processLine)\n",
    "    offline = as.data.frame(do.call(\"rbind\", tmp), \n",
    "                            stringsAsFactors= FALSE) \n",
    "    \n",
    "    names(offline) = c(\"time\", \"scanMac\", \n",
    "                       \"posX\", \"posY\", \"posZ\", \"orientation\", \n",
    "                       \"mac\", \"signal\", \"channel\", \"type\")\n",
    "    \n",
    "    # keep only signals from access points\n",
    "    offline = offline[ offline$type == \"3\", ]\n",
    "    \n",
    "    # drop scanMac, posZ, channel, and type - no info in them\n",
    "    dropVars = c(\"scanMac\", \"posZ\", \"channel\", \"type\")\n",
    "    offline = offline[ , !( names(offline) %in% dropVars ) ]\n",
    "    \n",
    "    # drop more unwanted access points\n",
    "    offline = offline[ offline$mac %in% subMacs, ]\n",
    "    \n",
    "    # convert numeric values\n",
    "    numVars = c(\"time\", \"posX\", \"posY\", \"orientation\", \"signal\")\n",
    "    offline[ numVars ] = lapply(offline[ numVars ], as.numeric)\n",
    "    \n",
    "    # convert time to POSIX\n",
    "    offline$rawTime = offline$time\n",
    "    offline$time = offline$time/1000\n",
    "    class(offline$time) = c(\"POSIXt\", \"POSIXct\")\n",
    "    \n",
    "    # round orientations to nearest 45\n",
    "    offline$angle = roundOrientation(offline$orientation)\n",
    "    \n",
    "    return(offline)\n",
    "  }\n",
    "\n",
    "offlineRedo = readData()\n",
    "\n",
    "Then we use the identical() function to check this version of the data frame against the one that we already created:\n",
    "\n",
    "library(codetools)\n",
    "\n",
    "identical(offline, offlineRedo)\n",
    "\n",
    "findGlobals(readData, merge = FALSE)$variables"
   ]
  },
  {
   "cell_type": "markdown",
   "metadata": {
    "colab_type": "text",
    "id": "0ZuhfTmm72yK"
   },
   "source": [
    "### 1.4.1 Distribution of Signal Strength"
   ]
  },
  {
   "cell_type": "code",
   "execution_count": 23,
   "metadata": {
    "colab": {},
    "colab_type": "code",
    "id": "u4tlygW-72yL"
   },
   "outputs": [],
   "source": [
    "# Load packages needed\n",
    "library(codetools)\n",
    "library(lattice)\n"
   ]
  },
  {
   "cell_type": "code",
   "execution_count": 24,
   "metadata": {
    "colab": {},
    "colab_type": "code",
    "id": "JC1GSLnb72yO",
    "outputId": "5f0c15f0-ceb0-440c-dc18-50b65d1ed1ee"
   },
   "outputs": [
    {
     "data": {
      "image/png": "[encoded data removed]",
      "text/plain": [
       "plot without title"
      ]
     },
     "metadata": {},
     "output_type": "display_data"
    }
   ],
   "source": [
    "# Compare distribution of signal strength at different orientations and for different access points.\n",
    "# Subdivide data. COnsider impact of orientation on signal strength by fixing a location on the map to see how the signal changes as the experimenter forates through 8 angles. \n",
    "# Examine MAC addresses because at an orientation of 90 degress the experimentater mgith be facing toward on access point and away from another. \n",
    "\n",
    "bwplot(signal ~ factor(angle) | mac, data = offline, subset = posX == 2 & posY == \n",
    "    12 & mac != \"00:0f:a3:39:dd:cd\", layout = c(2, 3))"
   ]
  },
  {
   "cell_type": "markdown",
   "metadata": {
    "colab_type": "text",
    "id": "y2GdoBnG72yS"
   },
   "source": [
    "See that Signal Strength varies with orientation for both close and distant access points. \n",
    "Dropped MAC address 00:0f: - a3:39:dd:cd"
   ]
  },
  {
   "cell_type": "code",
   "execution_count": 25,
   "metadata": {
    "colab": {},
    "colab_type": "code",
    "id": "bTDWlc-T72yT",
    "outputId": "76577605-b04d-4dc7-b294-b241ce3b235e"
   },
   "outputs": [
    {
     "data": {
      "text/plain": [
       "   Min. 1st Qu.  Median    Mean 3rd Qu.    Max. \n",
       "    -98     -67     -59     -60     -53     -25 "
      ]
     },
     "metadata": {},
     "output_type": "display_data"
    }
   ],
   "source": [
    "# Signal Strength is measured as negative values. \n",
    "\n",
    "summary(offline$signal)\n",
    "\n",
    "# Small values correspond to weak signals and large values are strong. "
   ]
  },
  {
   "cell_type": "code",
   "execution_count": 26,
   "metadata": {
    "colab": {},
    "colab_type": "code",
    "id": "F96j8L4v72yW",
    "outputId": "2f1253e5-b1a0-4548-d8b0-a24f27aa2c1a"
   },
   "outputs": [
    {
     "data": {
      "text/html": [
       "<strong>null device:</strong> 1"
      ],
      "text/latex": [
       "\\textbf{null device:} 1"
      ],
      "text/markdown": [
       "**null device:** 1"
      ],
      "text/plain": [
       "null device \n",
       "          1 "
      ]
     },
     "metadata": {},
     "output_type": "display_data"
    },
    {
     "data": {
      "image/png": "[encoded data removed]",
      "text/plain": [
       "plot without title"
      ]
     },
     "metadata": {},
     "output_type": "display_data"
    }
   ],
   "source": [
    "# Find a similar dependence of signal strength on angle. Produce 48 density curves for one location.\n",
    "\n",
    "#pdf(file = \"Geo_DensitySignalByMacAngle.pdf\", width = 8, height = 12)\n",
    "oldPar = par(mar = c(3.1, 3, 1, 1))\n",
    "\n",
    "densityplot(~signal | mac + factor(angle), data = offline, subset = posX == \n",
    "    24 & posY == 4 & mac != \"00:0f:a3:39:dd:cd\", bw = 0.5, plot.points = FALSE)\n",
    "\n",
    "par(oldPar)\n",
    "dev.off()"
   ]
  },
  {
   "cell_type": "markdown",
   "metadata": {
    "colab_type": "text",
    "id": "K7SkAKVr72ya"
   },
   "source": [
    "Many distributions look approximately normal. Although there are some serious departures with secondary modes and and skewness. The center of the distribution varies with angle and MAC address, so conditioning on angle and MAC address is warranted. "
   ]
  },
  {
   "cell_type": "code",
   "execution_count": 27,
   "metadata": {
    "colab": {},
    "colab_type": "code",
    "id": "-cdsp4Yo72yb"
   },
   "outputs": [],
   "source": [
    "# Examine summary statistics of mean and SD or media and IQR of signal strength for all location-orientation-access point combinations. \n",
    "\n",
    "offline$posXY <- paste(offline$posX, offline$posY, sep = \"-\")"
   ]
  },
  {
   "cell_type": "code",
   "execution_count": 28,
   "metadata": {
    "colab": {},
    "colab_type": "code",
    "id": "7VaJfV5Q72ye"
   },
   "outputs": [],
   "source": [
    "#write.csv(offline,\"C:/Users/jjschued/Documents/SMU/7333 QTW/offline.csv\", row.names = TRUE)"
   ]
  },
  {
   "cell_type": "code",
   "execution_count": 29,
   "metadata": {
    "colab": {},
    "colab_type": "code",
    "id": "YCauA3aC72yh"
   },
   "outputs": [],
   "source": [
    "# Create list of data frames for every combination of (x, y), angle, and access point\n",
    "\n",
    "byLocAngleAP <- with(offline, by(offline, list(posXY, angle, mac), function(x) x))"
   ]
  },
  {
   "cell_type": "code",
   "execution_count": 30,
   "metadata": {
    "colab": {},
    "colab_type": "code",
    "id": "uqhS5CAg72yn",
    "outputId": "bbc64c11-e8a1-444a-8322-be61a2b27bc8"
   },
   "outputs": [
    {
     "data": {
      "text/html": [
       "9"
      ],
      "text/latex": [
       "9"
      ],
      "text/markdown": [
       "9"
      ],
      "text/plain": [
       "[1] 9"
      ]
     },
     "metadata": {},
     "output_type": "display_data"
    }
   ],
   "source": [
    "length(offline[offline$posXY == '0-1',])"
   ]
  },
  {
   "cell_type": "code",
   "execution_count": 31,
   "metadata": {
    "colab": {},
    "colab_type": "code",
    "id": "vV8cNL8k72yq"
   },
   "outputs": [],
   "source": [
    "# Calculate summary stats for each data frame\n",
    "\n",
    "signalSummary = lapply(byLocAngleAP, function(oneLoc) {\n",
    "    ans = oneLoc[1, ]\n",
    "    ans$medSignal = median(oneLoc$signal)\n",
    "    ans$avgSignal = mean(oneLoc$signal)\n",
    "    ans$num = length(oneLoc$signal)\n",
    "    ans$sdSignal = sd(oneLoc$signal)\n",
    "    ans$iqrSignal = IQR(oneLoc$signal)\n",
    "    ans\n",
    "})\n",
    "\n",
    "offlineSummary = do.call(\"rbind\", signalSummary)"
   ]
  },
  {
   "cell_type": "code",
   "execution_count": 32,
   "metadata": {
    "colab": {},
    "colab_type": "code",
    "id": "E58vH-nd72yv",
    "outputId": "01e750c1-4b0b-4553-ac31-f7c2d540670a"
   },
   "outputs": [
    {
     "data": {
      "text/html": [
       "<strong>null device:</strong> 1"
      ],
      "text/latex": [
       "\\textbf{null device:} 1"
      ],
      "text/markdown": [
       "**null device:** 1"
      ],
      "text/plain": [
       "null device \n",
       "          1 "
      ]
     },
     "metadata": {},
     "output_type": "display_data"
    },
    {
     "data": {
      "image/png": "[encoded data removed]",
      "text/plain": [
       "plot without title"
      ]
     },
     "metadata": {},
     "output_type": "display_data"
    }
   ],
   "source": [
    "# Examine standard, see if they vary by average signal strength. Make box plots of sdSignal for subgroups of avgSignal by turning avgSignal into categorial variable. \n",
    "\n",
    "#pdf(file = \"Geo_BoxplotSignalSDByAvg.pdf\", width = 10)\n",
    "oldPar = par(mar = c(3.1, 3, 1, 1))\n",
    "\n",
    "breaks = seq(-90, -30, by = 5)\n",
    "bwplot(sdSignal ~ cut(avgSignal, breaks = breaks),\n",
    "       data = offlineSummary, \n",
    "       subset = mac != \"00:0f:a3:39:dd:cd\",\n",
    "       xlab = \"Mean Signal\", ylab = \"SD Signal\")\n",
    "\n",
    "par(oldPar)\n",
    "dev.off()\n",
    "\n",
    "#pdf(file = \"Geo_ScatterMean-Median.pdf\", width = 10)\n",
    "oldPar = par(mar = c(4.1, 4.1, 1, 1))"
   ]
  },
  {
   "cell_type": "markdown",
   "metadata": {
    "colab_type": "text",
    "id": "R6nbP4MI72yz"
   },
   "source": [
    "See that weakest signals have small standard deviations and it appears that SD increase with average signal strength."
   ]
  },
  {
   "cell_type": "markdown",
   "metadata": {
    "colab_type": "text",
    "id": "Viy3TRgf72y0"
   },
   "source": [
    "See that these two measures of centrailty are similar to each other; they typically differ by less than 1 or 2 dBm."
   ]
  },
  {
   "cell_type": "code",
   "execution_count": 33,
   "metadata": {
    "colab": {},
    "colab_type": "code",
    "id": "dKD8weVD72y0",
    "outputId": "c5abb5b3-a44f-41f5-cbbd-0e42fa6ff234"
   },
   "outputs": [
    {
     "data": {
      "image/png": "[encoded data removed]",
      "text/plain": [
       "plot without title"
      ]
     },
     "metadata": {},
     "output_type": "display_data"
    }
   ],
   "source": [
    "# Examine skewness of signal strength by plotting difference avgSignal - medSignal against observations. \n",
    "# Smooth scatter avoids problems with over plotting; add local average of difference between mean and median to better assess size. \n",
    "\n",
    "with(offlineSummary, smoothScatter((avgSignal - medSignal) ~ num, xlab = \"Number of Observations\", \n",
    "    ylab = \"mean - median\"))\n",
    "abline(h = 0, col = \"#984ea3\", lwd = 2)\n",
    "\n",
    "# Use loess() to locally smooth differences between mean and median.\n",
    "\n",
    "lo.obj = with(offlineSummary, loess(diff ~ num, data = data.frame(diff = (avgSignal - \n",
    "    medSignal), num = num)))\n",
    "\n",
    "# Then use fitted model to predict the idffernce for each value of num and add those to scatter plot.\n",
    "lo.obj.pr = predict(lo.obj, newdata = data.frame(num = (70:120)))\n",
    "lines(x = 70:120, y = lo.obj.pr, col = \"#4daf4a\", lwd = 2)"
   ]
  },
  {
   "cell_type": "markdown",
   "metadata": {
    "colab_type": "text",
    "id": "Lzj1zUlo72y4"
   },
   "source": [
    "## Relationship between Signal and Distance\n",
    " Examine relationship between distance and signal strength is to smooth signal strength over the region where it is measured and create a contour plot -- portion of floor plan where there is strong signal corresponds to mountainous regions on map. "
   ]
  },
  {
   "cell_type": "code",
   "execution_count": 36,
   "metadata": {
    "colab": {},
    "colab_type": "code",
    "id": "RmIHFAs872y4",
    "outputId": "db9ffca8-d45a-48a4-f497-6b8def2c45d8"
   },
   "outputs": [
    {
     "ename": "ERROR",
     "evalue": "Error in library(fields): there is no package called 'fields'\n",
     "output_type": "error",
     "traceback": [
      "Error in library(fields): there is no package called 'fields'\nTraceback:\n",
      "1. library(fields)"
     ]
    }
   ],
   "source": [
    "#install.packages(\"fields\")\n",
    "library(fields)"
   ]
  },
  {
   "cell_type": "code",
   "execution_count": null,
   "metadata": {
    "colab": {},
    "colab_type": "code",
    "id": "-iiYQ-5s72y9",
    "outputId": "2fa93b59-13fb-431a-d61d-5bda421fbc24"
   },
   "outputs": [],
   "source": [
    "# Select one MAC address and one orientation. Choose summary stats for an angle x MAC combination\n",
    "oneAPAngle <- subset(offline, mac == subMacs[5] & angle == 0)\n",
    "\n",
    "# Make topographical map, using fields package. Uses the method of thin plate splines to fit a surface to the signal stregnth values at the observed locations. \n",
    "# Tps() requres a \"z\" value, so must subset offLine Summary\n",
    "oneAPAngle = subset(offlineSummary, mac == subMacs[5] & angle == 0)\n",
    "\n",
    "# Call Tps() to fit a smooth surface to mean signal strength \n",
    "smoothSS = Tps(oneAPAngle[, c(\"posX\", \"posY\")], oneAPAngle$avgSignal)\n",
    "\n",
    "# Use predictSurface() to predict the value for the fitted surface at a grid of the observed posX and posY \n",
    "vizSmooth = predictSurface(smoothSS)\n",
    "\n",
    "#Plot predicted signal strength using plot.surface()\n",
    "plot.surface(vizSmooth, type = \"C\")\n",
    "\n",
    "# Lastly add locations where measurements were taken\n",
    "points(oneAPAngle$posX, oneAPAngle$posY, pch = 19, cex = 0.5)"
   ]
  },
  {
   "cell_type": "code",
   "execution_count": null,
   "metadata": {
    "colab": {},
    "colab_type": "code",
    "id": "RTjPOG5B72zB",
    "outputId": "433ee4c0-0f79-4cf7-898b-36782e5c0d1b"
   },
   "outputs": [],
   "source": [
    "# Wrap plotting routine into own function so that we can parameterize the MAC address and angle, other other plotting parameters. \n",
    "# surfaceSS() has 3 args - data, MAC, angle\n",
    "# call surfaceSS() with a couple MAC addresses and angles to compare. Modify R plotting parameters to place 4 contour plots on one canvas. \n",
    "\n",
    "surfaceSS = function(data, mac, angle = 45) {\n",
    "    require(fields)\n",
    "    oneAPAngle = data[data$mac == mac & data$angle == angle, ]\n",
    "    smoothSS = Tps(oneAPAngle[, c(\"posX\", \"posY\")], oneAPAngle$avgSignal)\n",
    "    vizSmooth = predictSurface(smoothSS)\n",
    "    plot.surface(vizSmooth, type = \"C\", xlab = \"\", ylab = \"\", xaxt = \"n\", yaxt = \"n\")\n",
    "    points(oneAPAngle$posX, oneAPAngle$posY, pch = 19, cex = 0.5)\n",
    "}\n",
    "\n",
    "# Save Current Settings\n",
    "parCur = par(mfrow = c(2, 2), mar = rep(1, 4))\n",
    "\n",
    "# Mak 4 calls to surfaceSS() using mapply()\n",
    "mapply(surfaceSS, mac = subMacs[rep(c(5, 1), each = 2)], angle = rep(c(0, 135), \n",
    "    2), data = list(data = offlineSummary))"
   ]
  },
  {
   "cell_type": "markdown",
   "metadata": {
    "colab_type": "text",
    "id": "ZDly2nbY72zE"
   },
   "source": [
    "Above, identify the location of access points as the dark red region at top of mountain. Confirm effect of orientation on signal strength. A corridor effect emerges - the signal is stronger relative to distance along ocorridors where the signals are not blocked by walls. "
   ]
  },
  {
   "cell_type": "code",
   "execution_count": null,
   "metadata": {
    "colab": {},
    "colab_type": "code",
    "id": "dDY0ouPN72zE"
   },
   "outputs": [],
   "source": [
    "# We find that two MAC addresses have similiar heat maps; these correspond to access points near center of building (i.e. x=7.5, y=6.3)\n",
    "# Choose first of these.\n",
    "\n",
    "offlineSummary <- subset(offlineSummary, mac != subMacs[2])"
   ]
  },
  {
   "cell_type": "code",
   "execution_count": null,
   "metadata": {
    "colab": {},
    "colab_type": "code",
    "id": "Wf8yV6lm72zI",
    "outputId": "9ec03033-897d-4210-e0c3-93b6eb4709d7"
   },
   "outputs": [],
   "source": [
    "# Create small matrix with relevant positions for the 6 access points on floor plan.\n",
    "\n",
    "AP <- matrix(c(7.5, 6.3, 2.5, -0.8, 12.8, -2.8, 1, 14, 33.5, 9.3, 33.5, 2.8), \n",
    "    ncol = 2, byrow = TRUE, dimnames = list(subMacs[-2], c(\"x\", \"y\")))\n",
    "\n",
    "AP"
   ]
  },
  {
   "cell_type": "code",
   "execution_count": null,
   "metadata": {
    "colab": {},
    "colab_type": "code",
    "id": "i69MVc3V72zM"
   },
   "outputs": [],
   "source": [
    "# To examine relationship between signal strength and distance from the access point, compute distances from locations of device emitting signal to the access point receiving signal.\n",
    "# First compute difference between x coorindate and acces point x coordiante; then for y coordinates.\n",
    "\n",
    "diffs <- offlineSummary[, c(\"posX\", \"posY\")] - AP[offlineSummary$mac, ]"
   ]
  },
  {
   "cell_type": "code",
   "execution_count": null,
   "metadata": {
    "colab": {},
    "colab_type": "code",
    "id": "YkknZ3R-72zQ"
   },
   "outputs": [],
   "source": [
    "# Use differnces to find Euclidean distance between position of hand-held device and access point.\n",
    "\n",
    "offlineSummary$dist <- sqrt(diffs[, 1]^2 + diffs[, 2]^2)"
   ]
  },
  {
   "cell_type": "markdown",
   "metadata": {
    "colab_type": "text",
    "id": "b6Y96SOp72zT"
   },
   "source": [
    "Appears to be curvature to plots. A log transform might improve relationship; but signals are negative so need to be cautious. "
   ]
  },
  {
   "cell_type": "code",
   "execution_count": null,
   "metadata": {
    "colab": {},
    "colab_type": "code",
    "id": "RVkcw1Js72zT",
    "outputId": "59c51919-00a9-448e-f79e-ab3ef387950a"
   },
   "outputs": [],
   "source": [
    "# Make series of scatter plots for access point and device orientation. \n",
    "\n",
    "xyplot(signal ~ dist | factor(mac) + factor(angle), data = offlineSummary, pch = 19, \n",
    "    cex = 0.3, xlab = \"distance\")"
   ]
  },
  {
   "cell_type": "markdown",
   "metadata": {
    "colab_type": "text",
    "id": "wd_Ah4-Q72zX"
   },
   "source": [
    "## 1.5 Nearest Neighbor Methods to Predict Location"
   ]
  },
  {
   "cell_type": "markdown",
   "metadata": {
    "colab_type": "text",
    "id": "cSR42Cvq72zY"
   },
   "source": [
    "#### Numerous statistical techniques to estimate location of device from signal strength between device and several access points. Here, using simple and intuitive k-NN: have training data where signal is measured to several access points from known position throughout building; when get a new observation (new set of signal strengths from unknown location), find observation in training data that is close to new observation. "
   ]
  },
  {
   "cell_type": "markdown",
   "metadata": {
    "colab_type": "text",
    "id": "nID3tL5o72zY"
   },
   "source": [
    "### 1.5.1 Preparing Test Data\n",
    "#### Online data are in online.final.trace.txt; use readData() from Section 1.2 to process raw data. "
   ]
  },
  {
   "cell_type": "code",
   "execution_count": null,
   "metadata": {
    "colab": {},
    "colab_type": "code",
    "id": "KqGX2B3P72zZ"
   },
   "outputs": [],
   "source": [
    "macs <- unique(offlineSummary$mac)"
   ]
  },
  {
   "cell_type": "code",
   "execution_count": null,
   "metadata": {
    "colab": {},
    "colab_type": "code",
    "id": "-8kyJNXE72zb",
    "outputId": "6344eaa0-ab4e-4e83-a93f-b611763e6fa4"
   },
   "outputs": [],
   "source": [
    "# edited to match book\n",
    "#online <- readLines(\"C:/Users/jjschued/Documents/SMU/7333 QTW//online.final.trace.txt\", subMacs = macs)\n",
    "\n",
    "# Joe's code; SEE REMAINDER OF CODE BELOW\n",
    "online <- readLines(\"C:/Users/jjschued/Documents/SMU/7333 QTW//online.final.trace.txt\")\n",
    "    # subMacs = macs)\n",
    "\n",
    "onlines = online[ substr(online, 1, 1) != \"#\" ]\n",
    "tmp = lapply(onlines, processLine)\n",
    "online = as.data.frame(do.call(\"rbind\", tmp),stringsAsFactors = FALSE)\n",
    "\n",
    "\n",
    "names(online) = c(\"time\", \"scanMac\", \"posX\", \"posY\", \"posZ\", \"orientation\", \n",
    "        \"mac\", \"signal\", \"channel\", \"type\")\n",
    "\n",
    "roundOrientation = function(angles) {\n",
    "    refs = seq(0, by = 45, length = 9)\n",
    "    q = sapply(angles, function(o) which.min(abs(o - refs)))\n",
    "    c(refs[1:8], 0)[q]\n",
    "}\n",
    "# keep only signals from access points\n",
    "online = online[online$type == \"3\", ]\n",
    "               \n",
    "macs <-unique(offlineSummary$mac)\n",
    "macs               \n",
    "\n",
    "# drop scanMac, posZ, channel, and type - no info in them\n",
    "dropVars = c(\"scanMac\", \"posZ\", \"channel\", \"type\")\n",
    "online = online[, !(names(online) %in% dropVars)]\n",
    "\n",
    "# convert numeric values\n",
    "numVars = c(\"time\", \"posX\", \"posY\", \"orientation\", \"signal\")\n",
    "online[numVars] = lapply(online[numVars], as.numeric)\n",
    "\n",
    "\n",
    "# drop more unwanted access points\n",
    "subMacs = c(\"00:0f:a3:39:e1:c0\", \"00:14:bf:b1:97:8a\", \n",
    "        \"00:14:bf:3b:c7:c6\", \"00:14:bf:b1:97:90\", \"00:14:bf:b1:97:8d\", \"00:14:bf:b1:97:81\")               \n",
    "online = online[online$mac %in% subMacs, ]\n",
    "               \n",
    "# convert time to POSIX\n",
    "online$rawTime = online$time\n",
    "online$time = online$time/1000\n",
    "class(online$time) = c(\"POSIXt\", \"POSIXct\")\n",
    "    \n",
    "# round orientations to nearest 45\n",
    "online$angle = roundOrientation(online$orientation)\n",
    "# Create unique location identifier\n",
    "online$posXY <- paste(online$posX, online$posY, sep = \"-\")\n",
    "\n",
    "length(unique(online$posXY))               "
   ]
  },
  {
   "cell_type": "code",
   "execution_count": null,
   "metadata": {
    "colab": {},
    "colab_type": "code",
    "id": "jVYD2jWR72zd",
    "outputId": "63805f15-4d5f-4870-e2a3-cc2cfb97645b"
   },
   "outputs": [],
   "source": [
    "# Use new variable to determine that we have 60 unique test locations\n",
    "\n",
    "length(unique(online$posXY))"
   ]
  },
  {
   "cell_type": "code",
   "execution_count": null,
   "metadata": {
    "colab": {},
    "colab_type": "code",
    "id": "iJ9Rjfbx72zh",
    "outputId": "4615c027-5623-489d-b028-77bd1315d004"
   },
   "outputs": [],
   "source": [
    "# Tally number of signal strengths recorded at each location\n",
    "\n",
    "tabonlineXYA = table(online$posXY, online$angle)\n",
    "tabonlineXYA[1:6, ]\n",
    "\n",
    "# Output indicates that signal strengths were recorded at one orientation for each location"
   ]
  },
  {
   "cell_type": "code",
   "execution_count": null,
   "metadata": {
    "colab": {},
    "colab_type": "code",
    "id": "Xnus_XUE72zm"
   },
   "outputs": [],
   "source": [
    "# Organize data in different structure; organize data into 6 columns of signal strengths\n",
    "# Summarize online data into new format, providing average signal strength at each location\n",
    "\n",
    "keepVars = c(\"posXY\", \"posX\",\"posY\", \"orientation\", \"angle\")\n",
    "byLoc = with(online, \n",
    "             by(online, list(posXY), \n",
    "                function(x) {\n",
    "                  ans = x[1, keepVars]\n",
    "                  avgSS = tapply(x$signal, x$mac, mean)\n",
    "                  y = matrix(avgSS, nrow = 1, ncol = 6,\n",
    "                             dimnames = list(ans$posXY, names(avgSS)))\n",
    "                  cbind(ans, y)\n",
    "                }))\n",
    "\n",
    "onlineSummary = do.call(\"rbind\", byLoc)  \n"
   ]
  },
  {
   "cell_type": "code",
   "execution_count": null,
   "metadata": {
    "colab": {},
    "colab_type": "code",
    "id": "lxxLCxwk72zq",
    "outputId": "a16dbaba-d591-49b8-fc54-290b27cb5885"
   },
   "outputs": [],
   "source": [
    "# New Frame should have 60 rows and 11 variables, including 6 average signal strengths at the corresponding MAC addresses\n",
    "\n",
    "dim(onlineSummary)"
   ]
  },
  {
   "cell_type": "code",
   "execution_count": null,
   "metadata": {
    "colab": {},
    "colab_type": "code",
    "id": "q50Z6FxQ72zw",
    "outputId": "59121716-109e-4972-f85e-713948cc974c"
   },
   "outputs": [],
   "source": [
    "# Confirm\n",
    "\n",
    "names(onlineSummary)"
   ]
  },
  {
   "cell_type": "markdown",
   "metadata": {
    "colab_type": "text",
    "id": "mWC0VBC072z2"
   },
   "source": [
    "### 1.5.2 Choice of Orientation\n",
    "#### Find records in offline data that have similar orientations to our new observations. Consider using all records with an orientation that is within a specified range of the new point's orientation."
   ]
  },
  {
   "cell_type": "code",
   "execution_count": null,
   "metadata": {
    "colab": {},
    "colab_type": "code",
    "id": "082IlwsX72z2"
   },
   "outputs": [],
   "source": [
    "# m for the number of angles and angleNewObs the angle of new observation. Find angles to include.\n",
    "\n",
    "m = 3; angleNewObs = 230\n",
    "refs = seq(0, by = 45, length  = 8)\n",
    "nearestAngle = roundOrientation(angleNewObs)\n",
    "\n",
    "if (m %% 2 == 1) {\n",
    "  angles = seq(-45 * (m - 1) /2, 45 * (m - 1) /2, length = m)\n",
    "} else {\n",
    "  m = m + 1\n",
    "  angles = seq(-45 * (m - 1) /2, 45 * (m - 1) /2, length = m)\n",
    "  if (sign(angleNewObs - nearestAngle) > -1) \n",
    "    angles = angles[ -1 ]\n",
    "  else \n",
    "    angles = angles[ -m ]\n",
    "}\n"
   ]
  },
  {
   "cell_type": "code",
   "execution_count": null,
   "metadata": {
    "colab": {},
    "colab_type": "code",
    "id": "_EQoKlPo72z7"
   },
   "outputs": [],
   "source": [
    "# Handle case of m odd and even separately; must also map angles to values in refs, -45 to 355 and 405 maps to 45. So adjust angles:\n",
    "\n",
    "angles = angles + nearestAngle\n",
    "angles[angles < 0] = angles[ angles < 0 ] + 360\n",
    "angles[angles > 360] = angles[ angles > 360 ] - 360\n"
   ]
  },
  {
   "cell_type": "code",
   "execution_count": null,
   "metadata": {
    "colab": {},
    "colab_type": "code",
    "id": "A1eiRK4S72z-"
   },
   "outputs": [],
   "source": [
    "# Select observations from offlineSummary to analyze\n",
    "\n",
    "offlineSubset = \n",
    "  offlineSummary[ offlineSummary$angle %in% angles, ]\n"
   ]
  },
  {
   "cell_type": "code",
   "execution_count": null,
   "metadata": {
    "colab": {},
    "colab_type": "code",
    "id": "HP-ts19x720B"
   },
   "outputs": [],
   "source": [
    "# Aggregate signal strengths from angles and create data structure that is similar to onlineSummary\n",
    "# Use helper function reshapeSS()\n",
    "\n",
    "reshapeSS = function(data, varSignal = \"signal\", \n",
    "                     keepVars = c(\"posXY\", \"posX\",\"posY\")) {\n",
    "  byLocation =\n",
    "    with(data, by(data, list(posXY), \n",
    "                  function(x) {\n",
    "                    ans = x[1, keepVars]\n",
    "                    avgSS = tapply(x[ , varSignal ], x$mac, mean)\n",
    "                    y = matrix(avgSS, nrow = 1, ncol = 6,\n",
    "                               dimnames = list(ans$posXY,\n",
    "                                               names(avgSS)))\n",
    "                    cbind(ans, y)\n",
    "                  }))\n",
    "  \n",
    "  newDataSS = do.call(\"rbind\", byLocation)\n",
    "  return(newDataSS)\n",
    "}\n"
   ]
  },
  {
   "cell_type": "code",
   "execution_count": null,
   "metadata": {
    "colab": {},
    "colab_type": "code",
    "id": "8iMSx1lV720E"
   },
   "outputs": [],
   "source": [
    "# Summarize and Reshape offlineSubset (Set Training Set)\n",
    "\n",
    "trainSS = reshapeSS(offlineSubset, varSignal = \"avgSignal\")\n"
   ]
  },
  {
   "cell_type": "code",
   "execution_count": null,
   "metadata": {
    "colab": {},
    "colab_type": "code",
    "id": "5GIe3pkp720J"
   },
   "outputs": [],
   "source": [
    "# Wrap code to select angles and call to reshapeSS() into function called selectTrain()\n",
    "# selectTrain() has 3 args: angleNewObs, angle of new observation; singals, the training data/data in format of offlineSummary; m, number of angles to include form signals.\n",
    "# Returns data frame that matches trainSS\n",
    "\n",
    "selectTrain = function(angleNewObs, signals = NULL, m = 1){\n",
    "  # m is the number of angles to keep between 1 and 5\n",
    "  refs = seq(0, by = 45, length  = 8)\n",
    "  nearestAngle = roundOrientation(angleNewObs)\n",
    "  \n",
    "  if (m %% 2 == 1) \n",
    "    angles = seq(-45 * (m - 1) /2, 45 * (m - 1) /2, length = m)\n",
    "  else {\n",
    "    m = m + 1\n",
    "    angles = seq(-45 * (m - 1) /2, 45 * (m - 1) /2, length = m)\n",
    "    if (sign(angleNewObs - nearestAngle) > -1) \n",
    "      angles = angles[ -1 ]\n",
    "    else \n",
    "      angles = angles[ -m ]\n",
    "  }\n",
    "  angles = angles + nearestAngle\n",
    "  angles[angles < 0] = angles[ angles < 0 ] + 360\n",
    "  angles[angles > 360] = angles[ angles > 360 ] - 360\n",
    "  angles = sort(angles) \n",
    "  \n",
    "  offlineSubset = signals[ signals$angle %in% angles, ]\n",
    "  reshapeSS(offlineSubset, varSignal = \"avgSignal\")\n",
    "}\n"
   ]
  },
  {
   "cell_type": "code",
   "execution_count": null,
   "metadata": {
    "colab": {},
    "colab_type": "code",
    "id": "ekXwpEbn720O",
    "outputId": "fb799d37-6d25-418a-eccf-a2ec6975bfd5"
   },
   "outputs": [],
   "source": [
    "# Test function for angle of 130 and m of 3; aggregate offline data angles of 90, 135, 180\n",
    "train130 = selectTrain(130, offlineSummary, m = 3)\n",
    "\n",
    "# Reformatted results for readability\n",
    "head(train130)\n"
   ]
  },
  {
   "cell_type": "code",
   "execution_count": null,
   "metadata": {
    "colab": {},
    "colab_type": "code",
    "id": "xmpiyA-K720Q",
    "outputId": "4db9e2a5-903d-4028-b709-cc23cf23d65a"
   },
   "outputs": [],
   "source": [
    "# selectTrain() averages signal strength for different angles to produce one set of signal strengths for each 166 location in training data\n",
    "length(train130[[1]])"
   ]
  },
  {
   "cell_type": "code",
   "execution_count": null,
   "metadata": {
    "colab": {},
    "colab_type": "code",
    "id": "zWfKQazN720U"
   },
   "outputs": [],
   "source": [
    "# May not want to collapse signal strengths across m angles and instead return a set of mX166 signals\n",
    "# Try alternative approach"
   ]
  },
  {
   "cell_type": "markdown",
   "metadata": {
    "colab_type": "text",
    "id": "PnLnw3Me720W"
   },
   "source": [
    "### 1.5.3 Finding the Nearest Neighbors\n",
    "#### have training data to use to predict location of new points; look at distance in terms of signal strengths from these training data to new point. "
   ]
  },
  {
   "cell_type": "code",
   "execution_count": null,
   "metadata": {
    "colab": {},
    "colab_type": "code",
    "id": "sECK5bn0720W"
   },
   "outputs": [],
   "source": [
    "m <- 3\n",
    "angleNewObs <- 230\n",
    "refs <- seq(0, by = 45, length = 8)\n",
    "nearestAngle <- roundOrientation(angleNewObs)\n",
    "\n",
    "if (m%%2 == 1) {\n",
    "    angles = seq(-45 * (m - 1)/2, 45 * (m - 1)/2, length = m)\n",
    "} else {\n",
    "    m = m + 1\n",
    "    angles = seq(-45 * (m - 1)/2, 45 * (m - 1)/2, length = m)\n",
    "    if (sign(angleNewObs - nearestAngle) > -1) \n",
    "        angles = angles[-1] else angles = angles[-m]\n",
    "}\n",
    "\n",
    "## m odd and even are handled seperatly. Map angles to refs Adjustments\n",
    "angles <- angles + nearestAngle\n",
    "angles[angles < 0] = angles[angles < 0] + 360\n",
    "angles[angles > 360] = angles[angles > 360] - 360"
   ]
  },
  {
   "cell_type": "code",
   "execution_count": null,
   "metadata": {
    "colab": {},
    "colab_type": "code",
    "id": "lh15H64p720Z"
   },
   "outputs": [],
   "source": [
    "offlineSubset <- offlineSummary[offlineSummary$angle %in% angles, ]"
   ]
  },
  {
   "cell_type": "code",
   "execution_count": null,
   "metadata": {
    "colab": {},
    "colab_type": "code",
    "id": "yZnA-jXa720b"
   },
   "outputs": [],
   "source": [
    "reshapeSS <- function(data, varSignal = \"signal\", keepVars = c(\"posXY\", \"posX\", \n",
    "    \"posY\")) {\n",
    "    byLocation <- with(data, by(data, list(posXY), function(x) {\n",
    "        ans = x[1, keepVars]\n",
    "        avgSS = tapply(x[, varSignal], x$mac, mean)\n",
    "        y = matrix(avgSS, nrow = 1, ncol = 6, dimnames = list(ans$posXY, names(avgSS)))\n",
    "        cbind(ans, y)\n",
    "    }))\n",
    "    \n",
    "    newDataSS <- do.call(\"rbind\", byLocation)\n",
    "    return(newDataSS)\n",
    "}"
   ]
  },
  {
   "cell_type": "code",
   "execution_count": null,
   "metadata": {
    "colab": {},
    "colab_type": "code",
    "id": "S33_Hpsa720d"
   },
   "outputs": [],
   "source": [
    "trainSS <- reshapeSS(offlineSubset, varSignal = \"avgSignal\")"
   ]
  },
  {
   "cell_type": "code",
   "execution_count": null,
   "metadata": {
    "colab": {},
    "colab_type": "code",
    "id": "AoogiwcK720g"
   },
   "outputs": [],
   "source": [
    "trainSS = reshapeSS(offlineSubset, varSignal = \"avgSignal\")\n",
    "\n",
    "selectTrain = function(angleNewObs, signals = NULL, m = 1) {\n",
    "    # m is the number of angles to keep between 1 and 5\n",
    "    refs = seq(0, by = 45, length = 8)\n",
    "    nearestAngle = roundOrientation(angleNewObs)\n",
    "    \n",
    "    if (m%%2 == 1) \n",
    "        angles = seq(-45 * (m - 1)/2, 45 * (m - 1)/2, length = m) else {\n",
    "        m = m + 1\n",
    "        angles = seq(-45 * (m - 1)/2, 45 * (m - 1)/2, length = m)\n",
    "        if (sign(angleNewObs - nearestAngle) > -1) \n",
    "            angles = angles[-1] else angles = angles[-m]\n",
    "    }\n",
    "    angles = angles + nearestAngle\n",
    "    angles[angles < 0] = angles[angles < 0] + 360\n",
    "    angles[angles > 360] = angles[angles > 360] - 360\n",
    "    angles = sort(angles)\n",
    "    \n",
    "    offlineSubset = signals[signals$angle %in% angles, ]\n",
    "    reshapeSS(offlineSubset, varSignal = \"avgSignal\")\n",
    "}"
   ]
  },
  {
   "cell_type": "code",
   "execution_count": null,
   "metadata": {
    "colab": {},
    "colab_type": "code",
    "id": "d-wzaqL7720i",
    "outputId": "f139a0cc-7bab-458b-8cc9-841d1e667a53"
   },
   "outputs": [],
   "source": [
    "train130 <- selectTrain(130, offlineSummary, m = 3)\n",
    "head(train130)"
   ]
  },
  {
   "cell_type": "code",
   "execution_count": null,
   "metadata": {
    "colab": {},
    "colab_type": "code",
    "id": "__6kiHRk720k"
   },
   "outputs": [],
   "source": [
    "# Use findNN() to calcluate distance from new point to all observations in training set\n",
    "# Parameters are numeric vector of 6 new signal strengths and the return value from selectTrain()\n",
    "# Returns locations of training observations in order of closeness to new observation's signal strength\n",
    "\n",
    "findNN = function(newSignal, trainSubset) {\n",
    "  diffs = apply(trainSubset[ , 4:9], 1, \n",
    "                function(x) x - newSignal)\n",
    "  dists = apply(diffs, 2, function(x) sqrt(sum(x^2)) )\n",
    "  closest = order(dists)\n",
    "  return(trainSubset[closest, 1:3 ])\n",
    "}\n"
   ]
  },
  {
   "cell_type": "code",
   "execution_count": null,
   "metadata": {
    "colab": {},
    "colab_type": "code",
    "id": "ckADllAP720p"
   },
   "outputs": [],
   "source": [
    "# Two functions, trainSelect() and findNN(), to provide locations in trainig data that have signals strengths close to test obsercvation.\n",
    "# Formalize approach to make predictions for all test data, with predXY()\n",
    "predXY <- function(newSignals, newAngles, trainData, numAngles = 1, k = 5) {\n",
    "    \n",
    "    closeXY = list(length = nrow(newSignals))\n",
    "    \n",
    "    for (i in 1:nrow(newSignals)) {\n",
    "        trainSS = selectTrain(newAngles[i], trainData, m = numAngles)\n",
    "        closeXY[[i]] = findNN(newSignal = as.numeric(newSignals[i, ]), trainSS)\n",
    "    }\n",
    "    \n",
    "    estXY = lapply(closeXY, function(x) sapply(x[, 2:3], function(x) mean(x[1:k])))\n",
    "    estXY = do.call(\"rbind\", estXY)\n",
    "    return(estXY)\n",
    "}"
   ]
  },
  {
   "cell_type": "code",
   "execution_count": null,
   "metadata": {
    "colab": {},
    "colab_type": "code",
    "id": "52Y1hADK720r"
   },
   "outputs": [],
   "source": [
    "# Test functions with case of 3 nearest neighbors and 3 orientation\n",
    "# Map k = 3 and Map k = 1\n",
    "\n",
    "estXYk3 = predXY(newSignals = onlineSummary[ , 6:11], \n",
    "                 newAngles = onlineSummary[ , 4], \n",
    "                 offlineSummary, numAngles = 3, k = 3)\n",
    "\n",
    "estXYk1 = predXY(newSignals = onlineSummary[ , 6:11], \n",
    "                 newAngles = onlineSummary[ , 4], \n",
    "                 offlineSummary, numAngles = 3, k = 1)\n"
   ]
  },
  {
   "cell_type": "code",
   "execution_count": null,
   "metadata": {
    "colab": {},
    "colab_type": "code",
    "id": "VaEouWjP720u"
   },
   "outputs": [],
   "source": [
    "floorErrorMap = function(estXY, actualXY, trainPoints = NULL, AP = NULL){\n",
    "  \n",
    "  plot(0, 0, xlim = c(0, 35), ylim = c(-3, 15), type = \"n\",\n",
    "       xlab = \"\", ylab = \"\", main = \"Nearest Neighbors Comparison\", axes = FALSE)\n",
    "  box()\n",
    "  if ( !is.null(AP) ) points(AP, pch = 15)\n",
    "  if ( !is.null(trainPoints) )\n",
    "    points(trainPoints, pch = 19, col=\"grey\", cex = 0.6)\n",
    "  \n",
    "  points(x = actualXY[, 1], y = actualXY[, 2], \n",
    "         pch = 19, cex = 0.8 )\n",
    "  points(x = estXY[, 1], y = estXY[, 2], \n",
    "         pch = 8, cex = 0.8 )\n",
    "  segments(x0 = estXY[, 1], y0 = estXY[, 2],\n",
    "           x1 = actualXY[, 1], y1 = actualXY[ , 2],\n",
    "           lwd = 2, col = \"red\")\n",
    "}"
   ]
  },
  {
   "cell_type": "code",
   "execution_count": null,
   "metadata": {
    "colab": {},
    "colab_type": "code",
    "id": "OlcyoGpn720v"
   },
   "outputs": [],
   "source": [
    "trainPoints = offlineSummary[ offlineSummary$angle == 0 & \n",
    "                                offlineSummary$mac == \"00:0f:a3:39:e1:c0\" ,\n",
    "                              c(\"posX\", \"posY\")]"
   ]
  },
  {
   "cell_type": "code",
   "execution_count": null,
   "metadata": {
    "colab": {},
    "colab_type": "code",
    "id": "mVntnqOH720y",
    "outputId": "4d5216a3-4b67-4fd3-c79d-41c750bfd231"
   },
   "outputs": [],
   "source": [
    "#pdf(file=\"GEO_FloorPlanK3Errors.pdf\", width = 10, height = 7)\n",
    "oldPar = par(mar = c(1, 1, 1, 1))\n",
    "floorErrorMap(estXYk3, onlineSummary[ , c(\"posX\",\"posY\")], \n",
    "              trainPoints = trainPoints, AP = AP)\n",
    "par(oldPar)\n",
    "dev.off()"
   ]
  },
  {
   "cell_type": "code",
   "execution_count": null,
   "metadata": {
    "colab": {},
    "colab_type": "code",
    "id": "jvajtrYE7200",
    "outputId": "80f068b3-ac3d-41d8-bc45-f0d2c75cd5a1"
   },
   "outputs": [],
   "source": [
    "#pdf(file=\"GEO_FloorPlanK1Errors.pdf\", width = 10, height = 7)\n",
    "oldPar = par(mar = c(1, 1, 1, 1))\n",
    "floorErrorMap(estXYk1, onlineSummary[ , c(\"posX\",\"posY\")], \n",
    "              trainPoints = trainPoints, AP = AP)\n",
    "par(oldPar)\n",
    "dev.off()"
   ]
  },
  {
   "cell_type": "code",
   "execution_count": null,
   "metadata": {
    "colab": {},
    "colab_type": "code",
    "id": "7BVsf7Ox7202",
    "outputId": "72fe1daf-ed9a-47e5-e3ca-900d76cd31b6"
   },
   "outputs": [],
   "source": [
    "# Compare fits numerically\n",
    "# Find sum of squared errors\n",
    "\n",
    "calcError = \n",
    "  function(estXY, actualXY) \n",
    "    sum( rowSums( (estXY - actualXY)^2) )\n",
    "\n",
    "# Apply function to two sets of errors\n",
    "actualXY = onlineSummary[ , c(\"posX\", \"posY\")]\n",
    "sapply(list(estXYk1, estXYk3), calcError, actualXY)\n"
   ]
  },
  {
   "cell_type": "markdown",
   "metadata": {
    "colab_type": "text",
    "id": "m99suwzj7204"
   },
   "source": [
    "### 1.5.4 Cross-Validation and Choice of k\n",
    "#### Choice of k - number of neighbors to include in estimate of new observation's position - is a model select problem. Cross validation can help here. "
   ]
  },
  {
   "cell_type": "code",
   "execution_count": null,
   "metadata": {
    "colab": {},
    "colab_type": "code",
    "id": "N3_xRoZv7204",
    "outputId": "7f0a6dc3-9d1e-46e0-d4d5-504e5cbc977f"
   },
   "outputs": [],
   "source": [
    "# Use all 8 orientations and 6 MAC addresses with each location\n",
    "# Cross Validate on 166 locations\n",
    "# try v = 11, each fold has floor(166/v), or 15 locations\n",
    "\n",
    "v = 11\n",
    "permuteLocs = sample(unique(offlineSummary$posXY))\n",
    "permuteLocs = matrix(permuteLocs, ncol = v, \n",
    "                     nrow = floor(length(permuteLocs)/v))\n",
    "\n",
    "onlineFold = subset(offlineSummary, posXY %in% permuteLocs[ , 1])\n",
    "\n",
    "# Warning message with matrix() because v doesn't divide evenly into 166, so permuteLocs doesn't have all 166 locations."
   ]
  },
  {
   "cell_type": "code",
   "execution_count": null,
   "metadata": {
    "colab": {},
    "colab_type": "code",
    "id": "dFM9KC307207"
   },
   "outputs": [],
   "source": [
    "# Summarize data so data structure matches online Summary, includes selecting an orientation at random because each test observation has only 1 orientation\n",
    "# Online data has structure that had 6 columns of signal strength, one for each access point\n",
    "# Create test data from offline and divide into folds, augment reshapeSS()\n",
    "\n",
    "reshapeSS = function(data, varSignal = \"signal\", \n",
    "                     keepVars = c(\"posXY\", \"posX\",\"posY\"),\n",
    "                     sampleAngle = FALSE, \n",
    "                     refs = seq(0, 315, by = 45)) {\n",
    "  byLocation =\n",
    "    with(data, by(data, list(posXY), \n",
    "                  function(x) {\n",
    "                    if (sampleAngle) {\n",
    "                      x = x[x$angle == sample(refs, size = 1), ]}\n",
    "                    ans = x[1, keepVars]\n",
    "                    avgSS = tapply(x[ , varSignal ], x$mac, mean)\n",
    "                    y = matrix(avgSS, nrow = 1, ncol = 6,\n",
    "                               dimnames = list(ans$posXY,\n",
    "                                               names(avgSS)))\n",
    "                    cbind(ans, y)\n",
    "                  }))\n",
    "  \n",
    "  newDataSS = do.call(\"rbind\", byLocation)\n",
    "  return(newDataSS)\n",
    "}\n"
   ]
  },
  {
   "cell_type": "code",
   "execution_count": null,
   "metadata": {
    "colab": {},
    "colab_type": "code",
    "id": "UwDcIu2n7209"
   },
   "outputs": [],
   "source": [
    "# Summarize and format offline (after revising reshapeSS() and augmenting with sampleAngle with default = FALSE)\n",
    "\n",
    "offline = offline[ offline$mac != \"00:0f:a3:39:dd:cd\", ]\n",
    "\n",
    "keepVars = c(\"posXY\", \"posX\",\"posY\", \"orientation\", \"angle\")\n",
    "\n",
    "onlineCVSummary = reshapeSS(offline, keepVars = keepVars, \n",
    "                            sampleAngle = TRUE)"
   ]
  },
  {
   "cell_type": "code",
   "execution_count": null,
   "metadata": {
    "colab": {},
    "colab_type": "code",
    "id": "b0t7n07Y720_"
   },
   "outputs": [],
   "source": [
    "# First fold\n",
    "onlineFold = subset(onlineCVSummary, \n",
    "                    posXY %in% permuteLocs[ , 1])"
   ]
  },
  {
   "cell_type": "code",
   "execution_count": null,
   "metadata": {
    "colab": {},
    "colab_type": "code",
    "id": "TbpUiaJv721B"
   },
   "outputs": [],
   "source": [
    "# Training data for first fold\n",
    "offlineFold = subset(offlineSummary,\n",
    "                     posXY %in% permuteLocs[ , -1])"
   ]
  },
  {
   "cell_type": "code",
   "execution_count": null,
   "metadata": {
    "colab": {},
    "colab_type": "code",
    "id": "MlRVu4Eu721F"
   },
   "outputs": [],
   "source": [
    "# Use predXY() with cross-validated versions of online and offline data\n",
    "estFold = predXY(newSignals = onlineFold[ , 6:11], \n",
    "                 newAngles = onlineFold[ , 4], \n",
    "                 offlineFold, numAngles = 3, k = 3)\n"
   ]
  },
  {
   "cell_type": "code",
   "execution_count": null,
   "metadata": {
    "colab": {},
    "colab_type": "code",
    "id": "P4mCMrJ4721G",
    "outputId": "cce8ece9-17f5-4a55-9812-a941f315a8ac"
   },
   "outputs": [],
   "source": [
    "# Find Error in Estimates\n",
    "\n",
    "actualFold = onlineFold[ , c(\"posX\", \"posY\")]\n",
    "calcError(estFold, actualFold)"
   ]
  },
  {
   "cell_type": "code",
   "execution_count": null,
   "metadata": {
    "colab": {},
    "colab_type": "code",
    "id": "DRdz-KMD721J"
   },
   "outputs": [],
   "source": [
    "# For each fold, find k-NN for k=1, 2,...,K. Aggregate errors over v folds.\n",
    "# Wrap code from above in loops over folds and number of neighbors\n",
    "\n",
    "K = 20\n",
    "err = rep(0, K)\n",
    "\n",
    "for (j in 1:v) {\n",
    "  onlineFold = subset(onlineCVSummary, \n",
    "                      posXY %in% permuteLocs[ , j])\n",
    "  offlineFold = subset(offlineSummary,\n",
    "                       posXY %in% permuteLocs[ , -j])\n",
    "  actualFold = onlineFold[ , c(\"posX\", \"posY\")]\n",
    "  \n",
    "  for (k in 1:K) {\n",
    "    estFold = predXY(newSignals = onlineFold[ , 6:11],\n",
    "                     newAngles = onlineFold[ , 4], \n",
    "                     offlineFold, numAngles = 3, k = k)\n",
    "    err[k] = err[k] + calcError(estFold, actualFold)\n",
    "  }\n",
    "}\n"
   ]
  },
  {
   "cell_type": "code",
   "execution_count": null,
   "metadata": {
    "colab": {},
    "colab_type": "code",
    "id": "xeIXd4Jf721L",
    "outputId": "1344b87e-f5b7-40c1-ab4a-350f9c6e74c6"
   },
   "outputs": [],
   "source": [
    "# Plot Sum of Squared Errors as function of k (figure 1.13)\n",
    "\n",
    "#pdf(file = \"Geo_CVChoiceOfK.pdf\", width = 10, height = 6)\n",
    "oldPar = par(mar = c(4, 3, 1, 1))\n",
    "plot(y = err, x = (1:K),  type = \"l\", lwd= 2,\n",
    "     ylim = c(1200, 2100),\n",
    "     xlab = \"Number of Neighbors\",\n",
    "     ylab = \"Sum of Square Errors\")\n",
    "\n",
    "rmseMin = min(err)\n",
    "kMin = which(err == rmseMin)[1]\n",
    "segments(x0 = 0, x1 = kMin, y0 = rmseMin, col = gray(0.4), \n",
    "         lty = 2, lwd = 2)\n",
    "segments(x0 = kMin, x1 = kMin, y0 = 1100,  y1 = rmseMin, \n",
    "         col = grey(0.4), lty = 2, lwd = 2)\n",
    "\n",
    "#mtext(kMin, side = 1, line = 1, at = kMin, col = grey(0.4))\n",
    "text(x = kMin - 2, y = rmseMin + 40, \n",
    "     label = as.character(round(rmseMin)), col = grey(0.4))\n",
    "par(oldPar)\n",
    "dev.off()\n"
   ]
  },
  {
   "cell_type": "markdown",
   "metadata": {},
   "source": [
    "We plotted the mean squared errors as the number of neighbors increase from 1 up through 20. In most plots of the error in clustering, you get a hockey stick shape and it is not as clear what “K” to pick. We are lucky in that the shape has a trough. We should picked the lowest point (k=7) to minimize the error but at the tradeoff of complexity of more neighbors. For that reason, k=5 is picked. "
   ]
  },
  {
   "cell_type": "code",
   "execution_count": null,
   "metadata": {
    "colab": {},
    "colab_type": "code",
    "id": "o_vojDHd721N"
   },
   "outputs": [],
   "source": [
    "# Use value of 5 for nearest neighbor from cross-validation and apply to original training and test\n",
    "estXYk5 = predXY(newSignals = onlineSummary[ , 6:11], \n",
    "                 newAngles = onlineSummary[ , 4], \n",
    "                 offlineSummary, numAngles = 3, k = 5)"
   ]
  },
  {
   "cell_type": "code",
   "execution_count": null,
   "metadata": {
    "colab": {},
    "colab_type": "code",
    "id": "OqFcm1mt721Q",
    "outputId": "6ffd5e9e-a9fc-4de6-9b53-586f723613a5"
   },
   "outputs": [],
   "source": [
    "# Tally errors in preidctions\n",
    "\n",
    "calcError(estXYk5, actualXY)\n",
    "\n",
    "# values for k = 1 and k = 3 were 659 and 307\n",
    "# value of k = 5 may not minimize value for online data because it was chosen without refernce to online data\n",
    "# hence use cross validation (don't use online data in both selection of k and assessment of prediction"
   ]
  },
  {
   "cell_type": "code",
   "execution_count": null,
   "metadata": {
    "colab": {},
    "colab_type": "code",
    "id": "-dKpdsxm721T"
   },
   "outputs": [],
   "source": [
    "# Speed up Cross Validation Code, consider predXY()\n",
    "\n",
    "predXY = function(newSignals, newAngles, trainData, \n",
    "                  numAngles = 1, k = 3){\n",
    "  \n",
    "  closeXY = list(length = nrow(newSignals))\n",
    "  \n",
    "  for (i in 1:nrow(newSignals)) {\n",
    "    trainSS = selectTrain(newAngles[i], trainData, m = numAngles)\n",
    "    closeXY[[i]] = findNN(newSignal = as.numeric(newSignals[i, ]),\n",
    "                          trainSS)\n",
    "  }\n",
    "  \n",
    "  estXY = lapply(closeXY, function(x)\n",
    "    sapply(x[ , 2:3], \n",
    "           function(x) mean(x[1:k])))\n",
    "  estXY = do.call(\"rbind\", estXY)\n",
    "  return(estXY)\n",
    "}\n",
    "\n",
    "# Recall findNN() returns all positions for training data, ordered according to their distance from the new observation's signal strength.\n",
    "# Use first k positions but we have all locations so we can calculate estimates for all values of k; cumsum() helpful\n",
    "# cumsum(x[1-:K])/(1:K) provides K means\n",
    "# modify predXY() to return all K estiates and eliminate inner loop over k \n"
   ]
  },
  {
   "cell_type": "markdown",
   "metadata": {
    "colab_type": "text",
    "id": "wxs3SxLM721V"
   },
   "source": [
    "## Investigate number of angles to include in the trainig data; can use cross-validation to select parameter.\n",
    "## Can be selected jointly via cross-valudation\n",
    "\n",
    "## Ideas -\n",
    "\n",
    "* KNN regression  \n",
    "* Manhattan distance  \n",
    "* creating a larger grid size e.g. instead of 15 by 26 in 1 meter increments positions do 5 meter increments. This would reduce the number of classes, while hopefully being granular enough for the purpose.   \n",
    "* dimensionality reduction  \n",
    "* scaling signals  "
   ]
  },
  {
   "cell_type": "markdown",
   "metadata": {
    "colab_type": "text",
    "id": "hWvYgwty721W"
   },
   "source": [
    "### 1.6 Results"
   ]
  },
  {
   "cell_type": "markdown",
   "metadata": {
    "colab_type": "text",
    "id": "cQXxHPXt721X"
   },
   "source": [
    "### 1.7 Conclusion"
   ]
  },
  {
   "cell_type": "markdown",
   "metadata": {},
   "source": [
    "In this exercise we looked at clustering as a way to locate device in an indoor environment based on signal strength and angles. Clustering was successfully because due to the extensive work to measure signal strength though the building to use as the neighbors for Cluttering. We used a couple variation of KNN to produce the six outcomes above.\n",
    "\n",
    "The algorithm utilized k-means clustering, weighted KMeans to produce the results.\n",
    "\n",
    "Future research could include exploration of other methods to determine location. There are other clustering algorithms to determine like groups.  Another approach is to use a mixture of clustering and classification. This would involve using the offline data and clustering as we already have, but then training a classification model on the dataset to classify the cluster. New data could then be fed into the classification model to predict location. \n"
   ]
  },
  {
   "cell_type": "markdown",
   "metadata": {
    "colab_type": "text",
    "id": "kWjfPuHj721X"
   },
   "source": [
    "### 1.8 References"
   ]
  },
  {
   "cell_type": "code",
   "execution_count": null,
   "metadata": {},
   "outputs": [],
   "source": []
  },
  {
   "cell_type": "code",
   "execution_count": null,
   "metadata": {
    "colab": {},
    "colab_type": "code",
    "id": "_55NfPwH721X"
   },
   "outputs": [],
   "source": []
  }
 ],
 "metadata": {
  "colab": {
   "name": "MSDS 7333 Project 1 -- NW final edits.ipynb",
   "provenance": []
  },
  "kernelspec": {
   "display_name": "R",
   "language": "R",
   "name": "ir"
  },
  "language_info": {
   "codemirror_mode": "r",
   "file_extension": ".r",
   "mimetype": "text/x-r-source",
   "name": "R",
   "pygments_lexer": "r",
   "version": "3.6.1"
  }
 },
 "nbformat": 4,
 "nbformat_minor": 1
}
