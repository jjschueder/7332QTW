{
 "cells": [
  {
   "cell_type": "markdown",
   "metadata": {
    "colab_type": "text",
    "id": "-yNWpXMe4Jfa"
   },
   "source": [
    "## MSDS 7333 Project 1 -- Predicting Location via Indoor Positioning Systems\n",
    "\n",
    "#### Stephen Hayden, Joe Schueder, Nicole Witten, Kevin Mendonsa\n",
    "\n"
   ]
  },
  {
   "cell_type": "markdown",
   "metadata": {
    "colab_type": "text",
    "id": "RZMu95a14g15"
   },
   "source": [
    "### Introduction\n",
    "\n",
    "Our company has been designing an Indoor Positioning System (IPS) to track critical equipment in the office building in near real-time. The technology team built the IPS infrastructure with a set of access points and collected initial readings from defined locations. \n",
    "\n",
    "Data Preparation (Q1) - completed in another notebook.\n",
    "\n",
    "The technology team provided our team with two data sets: the offline data contained signal strength measurements between a hand-held device and each access points at 166 specific locations (Figure 1 grey circles); the online data set with signal strength readings for each access point from which to predict location; and a reference document. The two data sets were large, text files with information provides as strings. Per the documentation, the offline data set contained: time of each reading; the access point identification; the location coordinates of readings; and the orientation between location and access points in degrees; the signal strength of each reading; and data about access point channels, frequencies, and modes. The online data set contained similar information without location coordinates. Given the similar structure between the offline and online data sets, our preparation steps were used on both sets.\n",
    "\n",
    "\n",
    "The team selected two distinct clustering methods to explore the two data sets: K-Nearest Neighbors (KNN) and Random Forest. KNN will group the most similar items in a data set, depending on the number of neighbors selected. We evaluated k values in a grid serch. "
   ]
  },
  {
   "cell_type": "markdown",
   "metadata": {},
   "source": [
    "Data utilized here matches what was done in R vs other versions used more training data. "
   ]
  },
  {
   "cell_type": "code",
   "execution_count": 3,
   "metadata": {
    "colab": {
     "base_uri": "https://localhost:8080/",
     "height": 1000
    },
    "colab_type": "code",
    "id": "v9WmuBys4fB5",
    "outputId": "c64365b7-e821-4493-f44a-48c4f931d5aa"
   },
   "outputs": [],
   "source": [
    "import pandas as pd\n",
    "\n",
    "\n",
    "url_dataset1 = 'https://raw.githubusercontent.com/jjschueder/7333QTW/master/Case%20Study%201/Case%20Study%201%20data/trainofflinecdss.csv'\n",
    "url_dataset2 = 'https://raw.githubusercontent.com/jjschueder/7333QTW/master/Case%20Study%201/Case%20Study%201%20data/onlinewithcd.csv'\n",
    "    \n",
    "onlineSummary = pd.read_csv(url_dataset2)\n",
    "offlineSummary = pd.read_csv(url_dataset1) \n"
   ]
  },
  {
   "cell_type": "code",
   "execution_count": 4,
   "metadata": {},
   "outputs": [
    {
     "name": "stdout",
     "output_type": "stream",
     "text": [
      "<class 'pandas.core.frame.DataFrame'>\n",
      "RangeIndex: 166 entries, 0 to 165\n",
      "Data columns (total 13 columns):\n",
      "Unnamed: 0           166 non-null object\n",
      "posXY                166 non-null object\n",
      "posX                 166 non-null int64\n",
      "posY                 166 non-null int64\n",
      "orientation          166 non-null float64\n",
      "angle                166 non-null int64\n",
      "00:0f:a3:39:dd:cd    166 non-null float64\n",
      "00:0f:a3:39:e1:c0    166 non-null float64\n",
      "00:14:bf:3b:c7:c6    166 non-null float64\n",
      "00:14:bf:b1:97:81    166 non-null float64\n",
      "00:14:bf:b1:97:8a    166 non-null float64\n",
      "00:14:bf:b1:97:8d    166 non-null float64\n",
      "00:14:bf:b1:97:90    166 non-null float64\n",
      "dtypes: float64(8), int64(3), object(2)\n",
      "memory usage: 17.0+ KB\n"
     ]
    }
   ],
   "source": [
    "offlineSummary.info()"
   ]
  },
  {
   "cell_type": "code",
   "execution_count": 5,
   "metadata": {},
   "outputs": [
    {
     "name": "stdout",
     "output_type": "stream",
     "text": [
      "<class 'pandas.core.frame.DataFrame'>\n",
      "RangeIndex: 60 entries, 0 to 59\n",
      "Data columns (total 13 columns):\n",
      "Unnamed: 0           60 non-null object\n",
      "posXY                60 non-null object\n",
      "posX                 60 non-null float64\n",
      "posY                 60 non-null float64\n",
      "orientation          60 non-null float64\n",
      "angle                60 non-null int64\n",
      "00:0f:a3:39:dd:cd    60 non-null float64\n",
      "00:0f:a3:39:e1:c0    60 non-null float64\n",
      "00:14:bf:3b:c7:c6    60 non-null float64\n",
      "00:14:bf:b1:97:81    60 non-null float64\n",
      "00:14:bf:b1:97:8a    60 non-null float64\n",
      "00:14:bf:b1:97:8d    60 non-null float64\n",
      "00:14:bf:b1:97:90    60 non-null float64\n",
      "dtypes: float64(10), int64(1), object(2)\n",
      "memory usage: 6.2+ KB\n"
     ]
    }
   ],
   "source": [
    "onlineSummary.info()"
   ]
  },
  {
   "cell_type": "code",
   "execution_count": 6,
   "metadata": {
    "colab": {
     "base_uri": "https://localhost:8080/",
     "height": 243
    },
    "colab_type": "code",
    "id": "ZSxAGB4B6nLq",
    "outputId": "cab7e950-36dd-441b-c589-35b5244750e1"
   },
   "outputs": [],
   "source": [
    "# Import all necessary libraries we will be using in our dataset\n",
    "\n",
    "import pandas as pd\n",
    "import numpy as np\n",
    "import matplotlib\n",
    "import matplotlib.pyplot as plt\n",
    "import seaborn as sns\n",
    "import math\n",
    "import re\n",
    "import sklearn\n",
    "import statistics\n",
    "import random\n",
    "\n",
    "from sklearn.feature_selection import SelectKBest, chi2, SelectPercentile, RFE, SelectFromModel\n",
    "\n",
    "from sklearn.preprocessing import StandardScaler, Binarizer\n",
    "\n",
    "from sklearn.linear_model import LogisticRegression, SGDClassifier\n",
    "from sklearn.svm import SVC, LinearSVC\n",
    "\n",
    "from sklearn.metrics import accuracy_score, confusion_matrix, roc_auc_score, auc, roc_curve\n",
    "from IPython.display import display, HTML\n",
    "\n",
    "from sklearn.pipeline import make_pipeline, Pipeline\n",
    "from sklearn.model_selection import train_test_split, GridSearchCV, KFold, TimeSeriesSplit, StratifiedShuffleSplit\n",
    "\n",
    "from sklearn.naive_bayes import MultinomialNB\n",
    "\n",
    "from sklearn.ensemble import GradientBoostingClassifier,GradientBoostingRegressor,AdaBoostClassifier,RandomForestClassifier, BaggingClassifier\n",
    "from sklearn.tree import DecisionTreeClassifier\n",
    "from sklearn.linear_model import LogisticRegression\n",
    "from sklearn.neighbors import KNeighborsClassifier\n",
    "\n",
    "%matplotlib inline\n",
    "\n",
    "matplotlib.style.use('ggplot')\n",
    "\n",
    "import warnings\n",
    "warnings.filterwarnings('ignore')\n",
    "\n"
   ]
  },
  {
   "cell_type": "code",
   "execution_count": 7,
   "metadata": {},
   "outputs": [
    {
     "name": "stdout",
     "output_type": "stream",
     "text": [
      "(60, 13)\n"
     ]
    },
    {
     "data": {
      "text/html": [
       "<div>\n",
       "<style scoped>\n",
       "    .dataframe tbody tr th:only-of-type {\n",
       "        vertical-align: middle;\n",
       "    }\n",
       "\n",
       "    .dataframe tbody tr th {\n",
       "        vertical-align: top;\n",
       "    }\n",
       "\n",
       "    .dataframe thead th {\n",
       "        text-align: right;\n",
       "    }\n",
       "</style>\n",
       "<table border=\"1\" class=\"dataframe\">\n",
       "  <thead>\n",
       "    <tr style=\"text-align: right;\">\n",
       "      <th></th>\n",
       "      <th>Unnamed: 0</th>\n",
       "      <th>posXY</th>\n",
       "      <th>posX</th>\n",
       "      <th>posY</th>\n",
       "      <th>orientation</th>\n",
       "      <th>angle</th>\n",
       "      <th>00:0f:a3:39:dd:cd</th>\n",
       "      <th>00:0f:a3:39:e1:c0</th>\n",
       "      <th>00:14:bf:3b:c7:c6</th>\n",
       "      <th>00:14:bf:b1:97:81</th>\n",
       "      <th>00:14:bf:b1:97:8a</th>\n",
       "      <th>00:14:bf:b1:97:8d</th>\n",
       "      <th>00:14:bf:b1:97:90</th>\n",
       "    </tr>\n",
       "  </thead>\n",
       "  <tbody>\n",
       "    <tr>\n",
       "      <td>0</td>\n",
       "      <td>0-0.05</td>\n",
       "      <td>0-0.05</td>\n",
       "      <td>0.00</td>\n",
       "      <td>0.05</td>\n",
       "      <td>130.5</td>\n",
       "      <td>135</td>\n",
       "      <td>-63.207207</td>\n",
       "      <td>-52.227273</td>\n",
       "      <td>-62.948980</td>\n",
       "      <td>-61.813953</td>\n",
       "      <td>-40.068966</td>\n",
       "      <td>-63.043011</td>\n",
       "      <td>-55.233333</td>\n",
       "    </tr>\n",
       "    <tr>\n",
       "      <td>1</td>\n",
       "      <td>0.15-9.42</td>\n",
       "      <td>0.15-9.42</td>\n",
       "      <td>0.15</td>\n",
       "      <td>9.42</td>\n",
       "      <td>112.3</td>\n",
       "      <td>90</td>\n",
       "      <td>-66.117117</td>\n",
       "      <td>-55.275229</td>\n",
       "      <td>-73.961905</td>\n",
       "      <td>-72.701031</td>\n",
       "      <td>-47.813084</td>\n",
       "      <td>-69.454545</td>\n",
       "      <td>-46.880000</td>\n",
       "    </tr>\n",
       "    <tr>\n",
       "      <td>2</td>\n",
       "      <td>0.31-11.09</td>\n",
       "      <td>0.31-11.09</td>\n",
       "      <td>0.31</td>\n",
       "      <td>11.09</td>\n",
       "      <td>230.1</td>\n",
       "      <td>225</td>\n",
       "      <td>-67.054054</td>\n",
       "      <td>-51.709091</td>\n",
       "      <td>-70.082474</td>\n",
       "      <td>-70.098901</td>\n",
       "      <td>-54.088235</td>\n",
       "      <td>-69.131579</td>\n",
       "      <td>-53.886598</td>\n",
       "    </tr>\n",
       "    <tr>\n",
       "      <td>3</td>\n",
       "      <td>0.47-8.2</td>\n",
       "      <td>0.47-8.2</td>\n",
       "      <td>0.47</td>\n",
       "      <td>8.20</td>\n",
       "      <td>5.8</td>\n",
       "      <td>0</td>\n",
       "      <td>-74.153153</td>\n",
       "      <td>-49.500000</td>\n",
       "      <td>-64.258065</td>\n",
       "      <td>-72.597701</td>\n",
       "      <td>-45.652893</td>\n",
       "      <td>-60.797468</td>\n",
       "      <td>-49.580000</td>\n",
       "    </tr>\n",
       "    <tr>\n",
       "      <td>4</td>\n",
       "      <td>0.78-10.94</td>\n",
       "      <td>0.78-10.94</td>\n",
       "      <td>0.78</td>\n",
       "      <td>10.94</td>\n",
       "      <td>348.3</td>\n",
       "      <td>0</td>\n",
       "      <td>-71.403670</td>\n",
       "      <td>-53.263636</td>\n",
       "      <td>-66.960000</td>\n",
       "      <td>-66.809524</td>\n",
       "      <td>-48.413793</td>\n",
       "      <td>-65.000000</td>\n",
       "      <td>-54.846939</td>\n",
       "    </tr>\n",
       "  </tbody>\n",
       "</table>\n",
       "</div>"
      ],
      "text/plain": [
       "   Unnamed: 0       posXY  posX   posY  orientation  angle  00:0f:a3:39:dd:cd  \\\n",
       "0      0-0.05      0-0.05  0.00   0.05        130.5    135         -63.207207   \n",
       "1   0.15-9.42   0.15-9.42  0.15   9.42        112.3     90         -66.117117   \n",
       "2  0.31-11.09  0.31-11.09  0.31  11.09        230.1    225         -67.054054   \n",
       "3    0.47-8.2    0.47-8.2  0.47   8.20          5.8      0         -74.153153   \n",
       "4  0.78-10.94  0.78-10.94  0.78  10.94        348.3      0         -71.403670   \n",
       "\n",
       "   00:0f:a3:39:e1:c0  00:14:bf:3b:c7:c6  00:14:bf:b1:97:81  00:14:bf:b1:97:8a  \\\n",
       "0         -52.227273         -62.948980         -61.813953         -40.068966   \n",
       "1         -55.275229         -73.961905         -72.701031         -47.813084   \n",
       "2         -51.709091         -70.082474         -70.098901         -54.088235   \n",
       "3         -49.500000         -64.258065         -72.597701         -45.652893   \n",
       "4         -53.263636         -66.960000         -66.809524         -48.413793   \n",
       "\n",
       "   00:14:bf:b1:97:8d  00:14:bf:b1:97:90  \n",
       "0         -63.043011         -55.233333  \n",
       "1         -69.454545         -46.880000  \n",
       "2         -69.131579         -53.886598  \n",
       "3         -60.797468         -49.580000  \n",
       "4         -65.000000         -54.846939  "
      ]
     },
     "execution_count": 7,
     "metadata": {},
     "output_type": "execute_result"
    }
   ],
   "source": [
    "print(onlineSummary.shape)\n",
    "onlineSummary.head()"
   ]
  },
  {
   "cell_type": "markdown",
   "metadata": {
    "colab_type": "text",
    "id": "vlmmpWgzQfQC"
   },
   "source": [
    "## Modeling and Evaluation 1\n",
    "Within this notebook, we have built models to evaluate location prediction.  This is a multi-classification problem in which our goal is to correctly classify a set of signals as a location in a building.  A detailed description of the metrics we will use to evaluate the models are noted below.\n",
    "\n",
    "\n",
    "**Error Rate* - \n",
    "\n",
    "Predicition are made with the algorithm and compared to known locations.  Each prediction and location has an x and y coordinate. The distance is measured in a 'Pythagorean Theorem' or angular distance.  \n",
    "\n",
    "              y  \n",
    "             /   \n",
    "            /   \n",
    "           /    \n",
    "          /    \n",
    "         x    \n",
    "We then take the distance as measured above and do a sum and average(mean) of the distance as - dist err mean & dist err sum."
   ]
  },
  {
   "cell_type": "code",
   "execution_count": 8,
   "metadata": {
    "colab": {},
    "colab_type": "code",
    "id": "mdb5L4AI6X0Q"
   },
   "outputs": [],
   "source": [
    "#Source: https://github.com/jakemdrew/EducationDataNC/blob/master/2017/Models/2017ComparingSegregatedMiddleSchoolCampuses.ipynb\n",
    "from sklearn.model_selection import cross_validate\n",
    "from sklearn.model_selection import StratifiedKFold\n",
    "cv = StratifiedKFold(n_splits=10)\n",
    "\n",
    "\n",
    "def EvaluateClassifierEstimator(classifierEstimator, X, Y2, cv):\n",
    "\n",
    "\n",
    "\n",
    "#Perform cross validation \n",
    "    scores = cross_validate(classifierEstimator, X, Y2,\n",
    "                            scoring=['accuracy', 'precision','recall'], \n",
    "                            cv=cv, return_train_score=True, \n",
    "                            )\n",
    "\n",
    "    Accavg = scores['test_accuracy'].mean()\n",
    "    Preavg = scores['test_precision'].mean()\n",
    "    Rreavg = scores['test_recall'].mean()\n",
    "\n",
    "    print_str = \"The average accuracy for all cv folds is: \\t\\t\\t {Accavg:.5}\"\n",
    "    print_str2 = \"The average precision for all cv folds is: \\t\\t\\t {Preavg:.5}\"\n",
    "    print_str3 = \"The average Recall for all cv folds is: \\t\\t\\t {Rreavg:.5}\"\n",
    "\n",
    "    print(print_str.format(Accavg=Accavg))\n",
    "    print(print_str2.format(Preavg=Preavg))\n",
    "    print(print_str3.format(Rreavg=Rreavg))\n",
    "    print('*********************************************************')\n",
    "\n",
    "    print('Cross Validation Fold Mean Error Scores')\n",
    "    scoresResults = pd.DataFrame()\n",
    "    scoresResults['Accuracy'] = scores['test_accuracy']\n",
    "    scoresResults['Precision'] = scores['test_precision']\n",
    "    scoresResults['Recall'] = scores['test_recall']\n",
    "    print(scoresResults)\n",
    "    return scoresResults\n",
    "\n",
    "def EvaluateClassifierEstimator2(classifierEstimator, X, Y2, cv):\n",
    "    \n",
    "  #Perform cross validation \n",
    "  from sklearn.model_selection import cross_val_predict\n",
    "  predictions = cross_val_predict(classifierEstimator, \n",
    "                                  X, Y2, cv=cv)\n",
    "    \n",
    "#model evaluation \n",
    "  from sklearn.metrics import classification_report, confusion_matrix, accuracy_score\n",
    "\n",
    "#pass true test set values and predictions to classification_report\n",
    "  classReport = classification_report(Y2,predictions)\n",
    "  confMat = confusion_matrix(Y2,predictions)\n",
    "  acc = accuracy_score(Y2,predictions)\n",
    "    \n",
    "  print(classReport)\n",
    "  print(confMat)\n",
    "  print(acc)\n",
    "#from imblearn.over_sampling import SMOTE    \n",
    "def EvaluateClassifierEstimator3(classifierEstimator, X, Y2, cv):\n",
    "  from sklearn import metrics as mt\n",
    "  for fold, (train_index, test_index) in enumerate(cv.split(X,Y2)):\n",
    "     X_train = X[train_index]    \n",
    "     y_train = Y2[train_index]  # Based on your code, you might need a ravel call here, but I would look into how you're generating your y\n",
    "     X_test = X[test_index]\n",
    "     y_test = Y2[test_index]  # See comment on ravel and  y_train\n",
    "     sm = SMOTE(random_state=101)\n",
    "     X_train_oversampled, y_train_oversampled = sm.fit_sample(X_train, y_train)\n",
    "     classifierEstimator.fit(X_train, y_train) \n",
    "     y_pred = classifierEstimator.predict(X_test)\n",
    "     acc = mt.accuracy_score(y_test,y_pred)\n",
    "     conf = mt.confusion_matrix(y_test,y_pred)\n",
    "     print(\"====Iteration\",fold,\" ====\")\n",
    "     print(\"accuracy\", acc )\n",
    "     print(\"confusion matrix\\n\",conf)\n"
   ]
  },
  {
   "cell_type": "markdown",
   "metadata": {
    "colab_type": "text",
    "id": "3TWp5arOWqMM"
   },
   "source": [
    "## Modeling and Evaluation 2\n",
    "Choose the method you will use for dividing your data into training and testing splits (i.e., are you using Stratified 10-fold cross validation? Why?). Explain why your chosen method is appropriate or use more than one method as appropriate. For example, if you are using time series data then you should be using continuous training and testing sets across time."
   ]
  },
  {
   "cell_type": "code",
   "execution_count": 9,
   "metadata": {
    "colab": {
     "base_uri": "https://localhost:8080/",
     "height": 212
    },
    "colab_type": "code",
    "id": "BlP7r4nNQPhY",
    "outputId": "84194b32-87cf-4e1d-9dc6-ef847cd22c8e"
   },
   "outputs": [
    {
     "data": {
      "text/plain": [
       "posXY       posX   posY \n",
       "0-0.05      0.00   0.05     1.666667\n",
       "0.15-9.42   0.15   9.42     1.666667\n",
       "0.31-11.09  0.31   11.09    1.666667\n",
       "0.47-8.2    0.47   8.20     1.666667\n",
       "0.78-10.94  0.78   10.94    1.666667\n",
       "0.93-11.69  0.93   11.69    1.666667\n",
       "1.08-12.19  1.08   12.19    1.666667\n",
       "1.24-3.93   1.24   3.93     1.666667\n",
       "1.39-6.61   1.39   6.61     1.666667\n",
       "1.52-9.32   1.52   9.32     1.666667\n",
       "1.55-0.96   1.55   0.96     1.666667\n",
       "1.58-5.26   1.58   5.26     1.666667\n",
       "1.71-1.81   1.71   1.81     1.666667\n",
       "1.86-8.08   1.86   8.08     1.666667\n",
       "10.23-6.88  10.23  6.88     1.666667\n",
       "10.46-5.8   10.46  5.80     1.666667\n",
       "10.62-3.87  10.62  3.87     1.666667\n",
       "10.99-7.19  10.99  7.19     1.666667\n",
       "11.39-5     11.39  5.00     1.666667\n",
       "11.76-7.76  11.76  7.76     1.666667\n",
       "12.16-5.25  12.16  5.25     1.666667\n",
       "12.18-3.4   12.18  3.40     1.666667\n",
       "12.26-6.72  12.26  6.72     1.666667\n",
       "12.55-7.38  12.55  7.38     1.666667\n",
       "12.95-5.25  12.95  5.25     1.666667\n",
       "14.98-7.55  14.98  7.55     1.666667\n",
       "16.44-7.45  16.44  7.45     1.666667\n",
       "2.02-7.45   2.02   7.45     1.666667\n",
       "2.49-7.6    2.49   7.60     1.666667\n",
       "21.23-5.47  21.23  5.47     1.666667\n",
       "21.3-3.8    21.30  3.80     1.666667\n",
       "21.45-6.62  21.45  6.62     1.666667\n",
       "21.6-7.63   21.60  7.63     1.666667\n",
       "21.98-7.46  21.98  7.46     1.666667\n",
       "22.3-6.36   22.30  6.36     1.666667\n",
       "22.38-3.94  22.38  3.94     1.666667\n",
       "22.76-5.06  22.76  5.06     1.666667\n",
       "23.24-7.5   23.24  7.50     1.666667\n",
       "23.36-3.4   23.36  3.40     1.666667\n",
       "23.53-4.22  23.53  4.22     1.666667\n",
       "23.9-7      23.90  7.00     1.666667\n",
       "24.31-3.89  24.31  3.89     1.666667\n",
       "24.7-7.7    24.70  7.70     1.666667\n",
       "25.23-7.78  25.23  7.78     1.666667\n",
       "25.76-7.34  25.76  7.34     1.666667\n",
       "26.71-7.5   26.71  7.50     1.666667\n",
       "28.12-7.57  28.12  7.57     1.666667\n",
       "29.58-7.93  29.58  7.93     1.666667\n",
       "3.44-7.43   3.44   7.43     1.666667\n",
       "31.06-7.19  31.06  7.19     1.666667\n",
       "31.78-7.62  31.78  7.62     1.666667\n",
       "32.16-7.08  32.16  7.08     1.666667\n",
       "32.54-7.08  32.54  7.08     1.666667\n",
       "4.51-7.63   4.51   7.63     1.666667\n",
       "6-7.88      6.00   7.88     1.666667\n",
       "7.48-7.36   7.48   7.36     1.666667\n",
       "8.56-7.64   8.56   7.64     1.666667\n",
       "9.08-7.24   9.08   7.24     1.666667\n",
       "9.46-7.77   9.46   7.77     1.666667\n",
       "9.86-3.88   9.86   3.88     1.666667\n",
       "Name: posXY, dtype: float64"
      ]
     },
     "execution_count": 9,
     "metadata": {},
     "output_type": "execute_result"
    }
   ],
   "source": [
    "#class percentage split\n",
    "dfgrp = onlineSummary.groupby(['posXY', 'posX', 'posY'])\n",
    "onlineSummary['posXY'].value_counts()\n",
    "dfgrp['posXY'].count() / len(onlineSummary) *100"
   ]
  },
  {
   "cell_type": "code",
   "execution_count": 10,
   "metadata": {
    "colab": {
     "base_uri": "https://localhost:8080/",
     "height": 212
    },
    "colab_type": "code",
    "id": "yU3ttrh3QrDV",
    "outputId": "a3b18f34-19dc-4973-f7d1-2259b0dd770e"
   },
   "outputs": [
    {
     "data": {
      "text/plain": [
       "25.76-7.34    1\n",
       "23.9-7        1\n",
       "9.08-7.24     1\n",
       "23.53-4.22    1\n",
       "21.3-3.8      1\n",
       "28.12-7.57    1\n",
       "23.36-3.4     1\n",
       "1.52-9.32     1\n",
       "32.16-7.08    1\n",
       "2.49-7.6      1\n",
       "21.98-7.46    1\n",
       "1.24-3.93     1\n",
       "0.78-10.94    1\n",
       "0.31-11.09    1\n",
       "11.76-7.76    1\n",
       "7.48-7.36     1\n",
       "21.6-7.63     1\n",
       "1.08-12.19    1\n",
       "10.23-6.88    1\n",
       "0.47-8.2      1\n",
       "0.93-11.69    1\n",
       "9.86-3.88     1\n",
       "24.7-7.7      1\n",
       "31.06-7.19    1\n",
       "14.98-7.55    1\n",
       "22.76-5.06    1\n",
       "3.44-7.43     1\n",
       "26.71-7.5     1\n",
       "0-0.05        1\n",
       "21.23-5.47    1\n",
       "1.86-8.08     1\n",
       "6-7.88        1\n",
       "2.02-7.45     1\n",
       "23.24-7.5     1\n",
       "10.62-3.87    1\n",
       "10.99-7.19    1\n",
       "1.39-6.61     1\n",
       "9.46-7.77     1\n",
       "0.15-9.42     1\n",
       "31.78-7.62    1\n",
       "12.16-5.25    1\n",
       "10.46-5.8     1\n",
       "22.38-3.94    1\n",
       "21.45-6.62    1\n",
       "25.23-7.78    1\n",
       "12.55-7.38    1\n",
       "1.55-0.96     1\n",
       "1.71-1.81     1\n",
       "32.54-7.08    1\n",
       "8.56-7.64     1\n",
       "29.58-7.93    1\n",
       "1.58-5.26     1\n",
       "16.44-7.45    1\n",
       "11.39-5       1\n",
       "22.3-6.36     1\n",
       "12.18-3.4     1\n",
       "12.95-5.25    1\n",
       "12.26-6.72    1\n",
       "4.51-7.63     1\n",
       "24.31-3.89    1\n",
       "Name: posXY, dtype: int64"
      ]
     },
     "execution_count": 10,
     "metadata": {},
     "output_type": "execute_result"
    }
   ],
   "source": [
    "onlineSummary['posXY'].value_counts()"
   ]
  },
  {
   "cell_type": "code",
   "execution_count": 11,
   "metadata": {},
   "outputs": [
    {
     "data": {
      "text/plain": [
       "6-8     1\n",
       "21-4    1\n",
       "28-7    1\n",
       "32-8    1\n",
       "6-3     1\n",
       "       ..\n",
       "3-7     1\n",
       "8-3     1\n",
       "13-3    1\n",
       "1-13    1\n",
       "27-8    1\n",
       "Name: posXY, Length: 166, dtype: int64"
      ]
     },
     "execution_count": 11,
     "metadata": {},
     "output_type": "execute_result"
    }
   ],
   "source": [
    "offlineSummary['posXY'].value_counts()"
   ]
  },
  {
   "cell_type": "code",
   "execution_count": 12,
   "metadata": {},
   "outputs": [
    {
     "data": {
      "text/plain": [
       "Index(['Unnamed: 0', 'posXY', 'posX', 'posY', 'orientation', 'angle',\n",
       "       '00:0f:a3:39:dd:cd', '00:0f:a3:39:e1:c0', '00:14:bf:3b:c7:c6',\n",
       "       '00:14:bf:b1:97:81', '00:14:bf:b1:97:8a', '00:14:bf:b1:97:8d',\n",
       "       '00:14:bf:b1:97:90'],\n",
       "      dtype='object')"
      ]
     },
     "execution_count": 12,
     "metadata": {},
     "output_type": "execute_result"
    }
   ],
   "source": [
    "onlineSummary.columns"
   ]
  },
  {
   "cell_type": "code",
   "execution_count": 13,
   "metadata": {},
   "outputs": [
    {
     "data": {
      "text/plain": [
       "Index(['Unnamed: 0', 'posXY', 'posX', 'posY', 'orientation', 'angle',\n",
       "       '00:0f:a3:39:dd:cd', '00:0f:a3:39:e1:c0', '00:14:bf:3b:c7:c6',\n",
       "       '00:14:bf:b1:97:81', '00:14:bf:b1:97:8a', '00:14:bf:b1:97:8d',\n",
       "       '00:14:bf:b1:97:90'],\n",
       "      dtype='object')"
      ]
     },
     "execution_count": 13,
     "metadata": {},
     "output_type": "execute_result"
    }
   ],
   "source": [
    "offlineSummary.columns"
   ]
  },
  {
   "cell_type": "code",
   "execution_count": 14,
   "metadata": {},
   "outputs": [
    {
     "data": {
      "text/html": [
       "<div>\n",
       "<style scoped>\n",
       "    .dataframe tbody tr th:only-of-type {\n",
       "        vertical-align: middle;\n",
       "    }\n",
       "\n",
       "    .dataframe tbody tr th {\n",
       "        vertical-align: top;\n",
       "    }\n",
       "\n",
       "    .dataframe thead th {\n",
       "        text-align: right;\n",
       "    }\n",
       "</style>\n",
       "<table border=\"1\" class=\"dataframe\">\n",
       "  <thead>\n",
       "    <tr style=\"text-align: right;\">\n",
       "      <th></th>\n",
       "      <th>Unnamed: 0</th>\n",
       "      <th>posXY</th>\n",
       "      <th>posX</th>\n",
       "      <th>posY</th>\n",
       "      <th>orientation</th>\n",
       "      <th>angle</th>\n",
       "      <th>00:0f:a3:39:dd:cd</th>\n",
       "      <th>00:0f:a3:39:e1:c0</th>\n",
       "      <th>00:14:bf:3b:c7:c6</th>\n",
       "      <th>00:14:bf:b1:97:81</th>\n",
       "      <th>00:14:bf:b1:97:8a</th>\n",
       "      <th>00:14:bf:b1:97:8d</th>\n",
       "      <th>00:14:bf:b1:97:90</th>\n",
       "    </tr>\n",
       "  </thead>\n",
       "  <tbody>\n",
       "    <tr>\n",
       "      <td>0</td>\n",
       "      <td>0-0.05</td>\n",
       "      <td>0-0.05</td>\n",
       "      <td>0.00</td>\n",
       "      <td>0.05</td>\n",
       "      <td>130.5</td>\n",
       "      <td>135</td>\n",
       "      <td>-63.207207</td>\n",
       "      <td>-52.227273</td>\n",
       "      <td>-62.948980</td>\n",
       "      <td>-61.813953</td>\n",
       "      <td>-40.068966</td>\n",
       "      <td>-63.043011</td>\n",
       "      <td>-55.233333</td>\n",
       "    </tr>\n",
       "    <tr>\n",
       "      <td>1</td>\n",
       "      <td>0.15-9.42</td>\n",
       "      <td>0.15-9.42</td>\n",
       "      <td>0.15</td>\n",
       "      <td>9.42</td>\n",
       "      <td>112.3</td>\n",
       "      <td>90</td>\n",
       "      <td>-66.117117</td>\n",
       "      <td>-55.275229</td>\n",
       "      <td>-73.961905</td>\n",
       "      <td>-72.701031</td>\n",
       "      <td>-47.813084</td>\n",
       "      <td>-69.454545</td>\n",
       "      <td>-46.880000</td>\n",
       "    </tr>\n",
       "    <tr>\n",
       "      <td>2</td>\n",
       "      <td>0.31-11.09</td>\n",
       "      <td>0.31-11.09</td>\n",
       "      <td>0.31</td>\n",
       "      <td>11.09</td>\n",
       "      <td>230.1</td>\n",
       "      <td>225</td>\n",
       "      <td>-67.054054</td>\n",
       "      <td>-51.709091</td>\n",
       "      <td>-70.082474</td>\n",
       "      <td>-70.098901</td>\n",
       "      <td>-54.088235</td>\n",
       "      <td>-69.131579</td>\n",
       "      <td>-53.886598</td>\n",
       "    </tr>\n",
       "    <tr>\n",
       "      <td>3</td>\n",
       "      <td>0.47-8.2</td>\n",
       "      <td>0.47-8.2</td>\n",
       "      <td>0.47</td>\n",
       "      <td>8.20</td>\n",
       "      <td>5.8</td>\n",
       "      <td>0</td>\n",
       "      <td>-74.153153</td>\n",
       "      <td>-49.500000</td>\n",
       "      <td>-64.258065</td>\n",
       "      <td>-72.597701</td>\n",
       "      <td>-45.652893</td>\n",
       "      <td>-60.797468</td>\n",
       "      <td>-49.580000</td>\n",
       "    </tr>\n",
       "    <tr>\n",
       "      <td>4</td>\n",
       "      <td>0.78-10.94</td>\n",
       "      <td>0.78-10.94</td>\n",
       "      <td>0.78</td>\n",
       "      <td>10.94</td>\n",
       "      <td>348.3</td>\n",
       "      <td>0</td>\n",
       "      <td>-71.403670</td>\n",
       "      <td>-53.263636</td>\n",
       "      <td>-66.960000</td>\n",
       "      <td>-66.809524</td>\n",
       "      <td>-48.413793</td>\n",
       "      <td>-65.000000</td>\n",
       "      <td>-54.846939</td>\n",
       "    </tr>\n",
       "  </tbody>\n",
       "</table>\n",
       "</div>"
      ],
      "text/plain": [
       "   Unnamed: 0       posXY  posX   posY  orientation  angle  00:0f:a3:39:dd:cd  \\\n",
       "0      0-0.05      0-0.05  0.00   0.05        130.5    135         -63.207207   \n",
       "1   0.15-9.42   0.15-9.42  0.15   9.42        112.3     90         -66.117117   \n",
       "2  0.31-11.09  0.31-11.09  0.31  11.09        230.1    225         -67.054054   \n",
       "3    0.47-8.2    0.47-8.2  0.47   8.20          5.8      0         -74.153153   \n",
       "4  0.78-10.94  0.78-10.94  0.78  10.94        348.3      0         -71.403670   \n",
       "\n",
       "   00:0f:a3:39:e1:c0  00:14:bf:3b:c7:c6  00:14:bf:b1:97:81  00:14:bf:b1:97:8a  \\\n",
       "0         -52.227273         -62.948980         -61.813953         -40.068966   \n",
       "1         -55.275229         -73.961905         -72.701031         -47.813084   \n",
       "2         -51.709091         -70.082474         -70.098901         -54.088235   \n",
       "3         -49.500000         -64.258065         -72.597701         -45.652893   \n",
       "4         -53.263636         -66.960000         -66.809524         -48.413793   \n",
       "\n",
       "   00:14:bf:b1:97:8d  00:14:bf:b1:97:90  \n",
       "0         -63.043011         -55.233333  \n",
       "1         -69.454545         -46.880000  \n",
       "2         -69.131579         -53.886598  \n",
       "3         -60.797468         -49.580000  \n",
       "4         -65.000000         -54.846939  "
      ]
     },
     "execution_count": 14,
     "metadata": {},
     "output_type": "execute_result"
    }
   ],
   "source": [
    "onlineSummary.head()"
   ]
  },
  {
   "cell_type": "code",
   "execution_count": 15,
   "metadata": {
    "colab": {
     "base_uri": "https://localhost:8080/",
     "height": 50
    },
    "colab_type": "code",
    "id": "cZHxHg1g4rnZ",
    "outputId": "ae6690b0-9e80-44f2-d91a-9aa9ac5376f0"
   },
   "outputs": [
    {
     "name": "stdout",
     "output_type": "stream",
     "text": [
      "Wall time: 13 ms\n"
     ]
    }
   ],
   "source": [
    "%%time\n",
    "from sklearn.neighbors import KNeighborsClassifier\n",
    "from sklearn.model_selection import StratifiedKFold\n",
    "from sklearn.preprocessing import StandardScaler\n",
    "import numpy as np\n",
    "from sklearn import metrics as mt\n",
    "\n",
    "cv = StratifiedKFold(n_splits=10)\n",
    "\n",
    "features = ['angle',\n",
    "       '00:0f:a3:39:e1:c0', '00:14:bf:3b:c7:c6', '00:14:bf:b1:97:81',\n",
    "       '00:14:bf:b1:97:8a', '00:14:bf:b1:97:8d', '00:14:bf:b1:97:90']\n",
    "\n",
    "X2 = offlineSummary[features].copy()\n",
    "X3 = onlineSummary[features].copy()\n",
    "scaler = StandardScaler()\n",
    "scaler.fit(X2)\n",
    "\n",
    "#This makes our model's coefficients take on the same scale for accurate feature importance analysis\n",
    "#Notice we scaled the data before the cross validation\n",
    "X = scaler.transform(X2)\n",
    "X = offlineSummary[features].copy()\n",
    "Y= offlineSummary[['posXY']].copy()\n",
    "Y3= onlineSummary[['posXY']].copy()\n",
    "Y2 = Y.values\n",
    "\n",
    "#Divide data into test and training splits\n",
    "from sklearn.model_selection import ShuffleSplit\n",
    "cv = ShuffleSplit(n_splits=2, test_size=0.20, random_state=0)"
   ]
  },
  {
   "cell_type": "code",
   "execution_count": 16,
   "metadata": {
    "colab": {},
    "colab_type": "code",
    "id": "SQZ4SBbsf_N9"
   },
   "outputs": [],
   "source": [
    "from sklearn import metrics as mt\n",
    "\n",
    "# train and test split before resampling\n",
    "X1_train, X1_test, y1_train, y1_test = train_test_split(X, Y, test_size = 0.01, random_state = 101) \n"
   ]
  },
  {
   "cell_type": "markdown",
   "metadata": {
    "colab_type": "text",
    "id": "Jriu2c-MZ7SP"
   },
   "source": [
    "## Classification \n"
   ]
  },
  {
   "cell_type": "markdown",
   "metadata": {
    "colab_type": "text",
    "id": "y713JBi1Mage"
   },
   "source": [
    "### Task 1 - Modeling and Evaluation 3\n",
    "Create different classification models for each task e.g., random forest, KNN. \n",
    "\n",
    "The algorithms used are as follows:  \n",
    "\n",
    "*   K-Nearest Neighbor\n",
    "*   Random Forest Classification\n"
   ]
  },
  {
   "cell_type": "markdown",
   "metadata": {
    "colab_type": "text",
    "id": "it9ofY8j4Xi0"
   },
   "source": [
    "#### Model 1: KNN Classification"
   ]
  },
  {
   "cell_type": "code",
   "execution_count": 17,
   "metadata": {
    "colab": {
     "base_uri": "https://localhost:8080/",
     "height": 98
    },
    "colab_type": "code",
    "id": "H-xo_Rm-fe2j",
    "outputId": "87d67084-636c-431a-d549-be122dbf736c"
   },
   "outputs": [
    {
     "name": "stdout",
     "output_type": "stream",
     "text": [
      "Fitting 2 folds for each of 90 candidates, totalling 180 fits\n"
     ]
    },
    {
     "name": "stderr",
     "output_type": "stream",
     "text": [
      "[Parallel(n_jobs=-1)]: Using backend LokyBackend with 8 concurrent workers.\n",
      "[Parallel(n_jobs=-1)]: Done  34 tasks      | elapsed:   13.6s\n",
      "[Parallel(n_jobs=-1)]: Done 180 out of 180 | elapsed:   19.1s finished\n"
     ]
    }
   ],
   "source": [
    "\n",
    "param_grid = [\n",
    "    {\n",
    "         'weights': ['uniform','distance'],\n",
    "         'leaf_size': [5,10, 20],\n",
    "         'metric': ['minkowski','euclidean', 'manhattan'],\n",
    "         'n_neighbors':[2,3,5, 6,7],\n",
    "         \n",
    "    }\n",
    "]\n",
    "\n",
    "clf_KNN = KNeighborsClassifier()\n",
    "grid_search_KNN = GridSearchCV(clf_KNN, param_grid=param_grid,cv=cv,n_jobs=-1, verbose=1, scoring='accuracy' )\n",
    "\n",
    "KNearest_model1 = grid_search_KNN.fit(X, Y)\n",
    "\n",
    "y_KNN_score1 = KNearest_model1.predict(X1_test)\n",
    "\n"
   ]
  },
  {
   "cell_type": "code",
   "execution_count": 18,
   "metadata": {
    "colab": {
     "base_uri": "https://localhost:8080/",
     "height": 66
    },
    "colab_type": "code",
    "id": "xXbdtmoF4itK",
    "outputId": "a91783f5-1c40-44af-9ebd-ee6ffff7a285"
   },
   "outputs": [
    {
     "data": {
      "text/plain": [
       "KNeighborsClassifier(algorithm='auto', leaf_size=5, metric='minkowski',\n",
       "                     metric_params=None, n_jobs=None, n_neighbors=2, p=2,\n",
       "                     weights='uniform')"
      ]
     },
     "execution_count": 18,
     "metadata": {},
     "output_type": "execute_result"
    }
   ],
   "source": [
    "classifierEstimaterKNN1 = KNearest_model1.best_estimator_\n",
    "classifierEstimaterKNN1\n"
   ]
  },
  {
   "cell_type": "markdown",
   "metadata": {
    "colab_type": "text",
    "id": "7fZ5JmCWmdpK"
   },
   "source": [
    "According to our grid search, the best estimator is to include 5 neighbors, a leaf size of 10 and a minkowski metric to learn from. "
   ]
  },
  {
   "cell_type": "code",
   "execution_count": 19,
   "metadata": {
    "colab": {},
    "colab_type": "code",
    "id": "apv--OjhpvAv"
   },
   "outputs": [],
   "source": [
    "#import pickle\n",
    "#filename = r'C:/Users/jjsch/Documents/GitHub/7331lab1/7331DataMiningNotebooks/lab2/classifierEstimaterKNN1.pickle'\n",
    "#infile = open(filename,'rb')\n",
    "#classifierEstimaterKNN1 = pickle.loads(infile)\n",
    "#infile.close()\n",
    "#outfile = open(filename,'wb')\n",
    "#pickle.dumps(classifierEstimaterKNN1, filename)\n",
    "#from joblib import dump, load\n",
    "#dump(classifierEstimaterKNN1, filename)"
   ]
  },
  {
   "cell_type": "code",
   "execution_count": 20,
   "metadata": {},
   "outputs": [
    {
     "data": {
      "text/plain": [
       "array(['0-4', '1-13', '0-11', '1-11', '0-11', '1-13', '0-11', '0-0',\n",
       "       '0-9', '1-9', '0-4', '1-3', '1-0', '1-8', '10-8', '10-6', '12-3',\n",
       "       '10-5', '11-4', '8-7', '13-5', '12-3', '12-7', '10-7', '11-3',\n",
       "       '20-8', '17-7', '0-7', '2-11', '22-4', '23-3', '23-8', '21-5',\n",
       "       '19-8', '22-6', '23-7', '23-7', '16-3', '19-3', '22-3', '16-3',\n",
       "       '23-4', '26-7', '22-8', '24-8', '27-8', '26-6', '28-8', '4-7',\n",
       "       '31-3', '28-8', '32-8', '33-7', '1-6', '6-8', '6-8', '7-8', '8-7',\n",
       "       '11-7', '12-3'], dtype=object)"
      ]
     },
     "execution_count": 20,
     "metadata": {},
     "output_type": "execute_result"
    }
   ],
   "source": [
    "y_KNN_score1 = classifierEstimaterKNN1.predict(X3)\n",
    "y_KNN_score1"
   ]
  },
  {
   "cell_type": "markdown",
   "metadata": {},
   "source": [
    "### Error Measure\n",
    "Various bits of code to compare test prediction to actuals, cacluate the distance and error."
   ]
  },
  {
   "cell_type": "code",
   "execution_count": 22,
   "metadata": {},
   "outputs": [
    {
     "data": {
      "text/html": [
       "<div>\n",
       "<style scoped>\n",
       "    .dataframe tbody tr th:only-of-type {\n",
       "        vertical-align: middle;\n",
       "    }\n",
       "\n",
       "    .dataframe tbody tr th {\n",
       "        vertical-align: top;\n",
       "    }\n",
       "\n",
       "    .dataframe thead th {\n",
       "        text-align: right;\n",
       "    }\n",
       "</style>\n",
       "<table border=\"1\" class=\"dataframe\">\n",
       "  <thead>\n",
       "    <tr style=\"text-align: right;\">\n",
       "      <th></th>\n",
       "      <th>posXY</th>\n",
       "    </tr>\n",
       "  </thead>\n",
       "  <tbody>\n",
       "    <tr>\n",
       "      <td>0</td>\n",
       "      <td>0-0.05</td>\n",
       "    </tr>\n",
       "    <tr>\n",
       "      <td>1</td>\n",
       "      <td>0.15-9.42</td>\n",
       "    </tr>\n",
       "    <tr>\n",
       "      <td>2</td>\n",
       "      <td>0.31-11.09</td>\n",
       "    </tr>\n",
       "    <tr>\n",
       "      <td>3</td>\n",
       "      <td>0.47-8.2</td>\n",
       "    </tr>\n",
       "    <tr>\n",
       "      <td>4</td>\n",
       "      <td>0.78-10.94</td>\n",
       "    </tr>\n",
       "  </tbody>\n",
       "</table>\n",
       "</div>"
      ],
      "text/plain": [
       "        posXY\n",
       "0      0-0.05\n",
       "1   0.15-9.42\n",
       "2  0.31-11.09\n",
       "3    0.47-8.2\n",
       "4  0.78-10.94"
      ]
     },
     "execution_count": 22,
     "metadata": {},
     "output_type": "execute_result"
    }
   ],
   "source": [
    "Y3.head()"
   ]
  },
  {
   "cell_type": "code",
   "execution_count": 23,
   "metadata": {},
   "outputs": [],
   "source": [
    "y1_test = Y3['posXY'].str.split(\"-\", n = 1, expand = True)"
   ]
  },
  {
   "cell_type": "code",
   "execution_count": 24,
   "metadata": {},
   "outputs": [],
   "source": [
    "yscore = pd.DataFrame(y_KNN_score1)"
   ]
  },
  {
   "cell_type": "code",
   "execution_count": 25,
   "metadata": {},
   "outputs": [],
   "source": [
    "yscore=yscore[0].str.split(\"-\", n = 1, expand = True)"
   ]
  },
  {
   "cell_type": "code",
   "execution_count": 26,
   "metadata": {},
   "outputs": [
    {
     "data": {
      "text/html": [
       "<div>\n",
       "<style scoped>\n",
       "    .dataframe tbody tr th:only-of-type {\n",
       "        vertical-align: middle;\n",
       "    }\n",
       "\n",
       "    .dataframe tbody tr th {\n",
       "        vertical-align: top;\n",
       "    }\n",
       "\n",
       "    .dataframe thead th {\n",
       "        text-align: right;\n",
       "    }\n",
       "</style>\n",
       "<table border=\"1\" class=\"dataframe\">\n",
       "  <thead>\n",
       "    <tr style=\"text-align: right;\">\n",
       "      <th></th>\n",
       "      <th>0</th>\n",
       "      <th>1</th>\n",
       "    </tr>\n",
       "  </thead>\n",
       "  <tbody>\n",
       "    <tr>\n",
       "      <td>0</td>\n",
       "      <td>0</td>\n",
       "      <td>4</td>\n",
       "    </tr>\n",
       "    <tr>\n",
       "      <td>1</td>\n",
       "      <td>1</td>\n",
       "      <td>13</td>\n",
       "    </tr>\n",
       "    <tr>\n",
       "      <td>2</td>\n",
       "      <td>0</td>\n",
       "      <td>11</td>\n",
       "    </tr>\n",
       "    <tr>\n",
       "      <td>3</td>\n",
       "      <td>1</td>\n",
       "      <td>11</td>\n",
       "    </tr>\n",
       "    <tr>\n",
       "      <td>4</td>\n",
       "      <td>0</td>\n",
       "      <td>11</td>\n",
       "    </tr>\n",
       "  </tbody>\n",
       "</table>\n",
       "</div>"
      ],
      "text/plain": [
       "   0   1\n",
       "0  0   4\n",
       "1  1  13\n",
       "2  0  11\n",
       "3  1  11\n",
       "4  0  11"
      ]
     },
     "execution_count": 26,
     "metadata": {},
     "output_type": "execute_result"
    }
   ],
   "source": [
    "yscore.head()"
   ]
  },
  {
   "cell_type": "code",
   "execution_count": 27,
   "metadata": {},
   "outputs": [
    {
     "data": {
      "text/html": [
       "<div>\n",
       "<style scoped>\n",
       "    .dataframe tbody tr th:only-of-type {\n",
       "        vertical-align: middle;\n",
       "    }\n",
       "\n",
       "    .dataframe tbody tr th {\n",
       "        vertical-align: top;\n",
       "    }\n",
       "\n",
       "    .dataframe thead th {\n",
       "        text-align: right;\n",
       "    }\n",
       "</style>\n",
       "<table border=\"1\" class=\"dataframe\">\n",
       "  <thead>\n",
       "    <tr style=\"text-align: right;\">\n",
       "      <th></th>\n",
       "      <th>0</th>\n",
       "      <th>1</th>\n",
       "    </tr>\n",
       "  </thead>\n",
       "  <tbody>\n",
       "    <tr>\n",
       "      <td>0</td>\n",
       "      <td>0.0</td>\n",
       "      <td>0.0</td>\n",
       "    </tr>\n",
       "    <tr>\n",
       "      <td>1</td>\n",
       "      <td>0.0</td>\n",
       "      <td>9.0</td>\n",
       "    </tr>\n",
       "    <tr>\n",
       "      <td>2</td>\n",
       "      <td>0.0</td>\n",
       "      <td>11.0</td>\n",
       "    </tr>\n",
       "    <tr>\n",
       "      <td>3</td>\n",
       "      <td>0.0</td>\n",
       "      <td>8.0</td>\n",
       "    </tr>\n",
       "    <tr>\n",
       "      <td>4</td>\n",
       "      <td>1.0</td>\n",
       "      <td>11.0</td>\n",
       "    </tr>\n",
       "  </tbody>\n",
       "</table>\n",
       "</div>"
      ],
      "text/plain": [
       "     0     1\n",
       "0  0.0   0.0\n",
       "1  0.0   9.0\n",
       "2  0.0  11.0\n",
       "3  0.0   8.0\n",
       "4  1.0  11.0"
      ]
     },
     "execution_count": 27,
     "metadata": {},
     "output_type": "execute_result"
    }
   ],
   "source": [
    "y1_test[0] = y1_test[0].astype(float) \n",
    "y1_test[0] = y1_test[0].round()\n",
    "y1_test[1] = y1_test[1].astype(float) \n",
    "y1_test[1] = y1_test[1].round()\n",
    "y1_test.head()"
   ]
  },
  {
   "cell_type": "code",
   "execution_count": 28,
   "metadata": {},
   "outputs": [
    {
     "data": {
      "text/plain": [
       "RangeIndex(start=0, stop=60, step=1)"
      ]
     },
     "execution_count": 28,
     "metadata": {},
     "output_type": "execute_result"
    }
   ],
   "source": [
    "y1_test = y1_test.reset_index()\n",
    "y1_test.index"
   ]
  },
  {
   "cell_type": "code",
   "execution_count": 29,
   "metadata": {},
   "outputs": [
    {
     "data": {
      "text/html": [
       "<div>\n",
       "<style scoped>\n",
       "    .dataframe tbody tr th:only-of-type {\n",
       "        vertical-align: middle;\n",
       "    }\n",
       "\n",
       "    .dataframe tbody tr th {\n",
       "        vertical-align: top;\n",
       "    }\n",
       "\n",
       "    .dataframe thead th {\n",
       "        text-align: right;\n",
       "    }\n",
       "</style>\n",
       "<table border=\"1\" class=\"dataframe\">\n",
       "  <thead>\n",
       "    <tr style=\"text-align: right;\">\n",
       "      <th></th>\n",
       "      <th>0</th>\n",
       "      <th>1</th>\n",
       "    </tr>\n",
       "  </thead>\n",
       "  <tbody>\n",
       "    <tr>\n",
       "      <td>0</td>\n",
       "      <td>0</td>\n",
       "      <td>4</td>\n",
       "    </tr>\n",
       "    <tr>\n",
       "      <td>1</td>\n",
       "      <td>1</td>\n",
       "      <td>13</td>\n",
       "    </tr>\n",
       "    <tr>\n",
       "      <td>2</td>\n",
       "      <td>0</td>\n",
       "      <td>11</td>\n",
       "    </tr>\n",
       "    <tr>\n",
       "      <td>3</td>\n",
       "      <td>1</td>\n",
       "      <td>11</td>\n",
       "    </tr>\n",
       "    <tr>\n",
       "      <td>4</td>\n",
       "      <td>0</td>\n",
       "      <td>11</td>\n",
       "    </tr>\n",
       "  </tbody>\n",
       "</table>\n",
       "</div>"
      ],
      "text/plain": [
       "   0   1\n",
       "0  0   4\n",
       "1  1  13\n",
       "2  0  11\n",
       "3  1  11\n",
       "4  0  11"
      ]
     },
     "execution_count": 29,
     "metadata": {},
     "output_type": "execute_result"
    }
   ],
   "source": [
    "yscore.head()"
   ]
  },
  {
   "cell_type": "code",
   "execution_count": 30,
   "metadata": {},
   "outputs": [
    {
     "data": {
      "text/html": [
       "<div>\n",
       "<style scoped>\n",
       "    .dataframe tbody tr th:only-of-type {\n",
       "        vertical-align: middle;\n",
       "    }\n",
       "\n",
       "    .dataframe tbody tr th {\n",
       "        vertical-align: top;\n",
       "    }\n",
       "\n",
       "    .dataframe thead th {\n",
       "        text-align: right;\n",
       "    }\n",
       "</style>\n",
       "<table border=\"1\" class=\"dataframe\">\n",
       "  <thead>\n",
       "    <tr style=\"text-align: right;\">\n",
       "      <th></th>\n",
       "      <th>level_0</th>\n",
       "      <th>index</th>\n",
       "      <th>0_x</th>\n",
       "      <th>1_x</th>\n",
       "      <th>0_y</th>\n",
       "      <th>1_y</th>\n",
       "    </tr>\n",
       "  </thead>\n",
       "  <tbody>\n",
       "    <tr>\n",
       "      <td>0</td>\n",
       "      <td>0</td>\n",
       "      <td>0</td>\n",
       "      <td>0.0</td>\n",
       "      <td>0.0</td>\n",
       "      <td>0</td>\n",
       "      <td>4</td>\n",
       "    </tr>\n",
       "    <tr>\n",
       "      <td>1</td>\n",
       "      <td>1</td>\n",
       "      <td>1</td>\n",
       "      <td>0.0</td>\n",
       "      <td>9.0</td>\n",
       "      <td>1</td>\n",
       "      <td>13</td>\n",
       "    </tr>\n",
       "    <tr>\n",
       "      <td>2</td>\n",
       "      <td>2</td>\n",
       "      <td>2</td>\n",
       "      <td>0.0</td>\n",
       "      <td>11.0</td>\n",
       "      <td>0</td>\n",
       "      <td>11</td>\n",
       "    </tr>\n",
       "    <tr>\n",
       "      <td>3</td>\n",
       "      <td>3</td>\n",
       "      <td>3</td>\n",
       "      <td>0.0</td>\n",
       "      <td>8.0</td>\n",
       "      <td>1</td>\n",
       "      <td>11</td>\n",
       "    </tr>\n",
       "    <tr>\n",
       "      <td>4</td>\n",
       "      <td>4</td>\n",
       "      <td>4</td>\n",
       "      <td>1.0</td>\n",
       "      <td>11.0</td>\n",
       "      <td>0</td>\n",
       "      <td>11</td>\n",
       "    </tr>\n",
       "  </tbody>\n",
       "</table>\n",
       "</div>"
      ],
      "text/plain": [
       "   level_0  index  0_x   1_x 0_y 1_y\n",
       "0        0      0  0.0   0.0   0   4\n",
       "1        1      1  0.0   9.0   1  13\n",
       "2        2      2  0.0  11.0   0  11\n",
       "3        3      3  0.0   8.0   1  11\n",
       "4        4      4  1.0  11.0   0  11"
      ]
     },
     "execution_count": 30,
     "metadata": {},
     "output_type": "execute_result"
    }
   ],
   "source": [
    "ygroup2 = y1_test.reset_index()\n",
    "ygroup2 = pd.merge(ygroup2, yscore, left_index=True, right_index=True)\n",
    "ygroup2.head()\n"
   ]
  },
  {
   "cell_type": "code",
   "execution_count": 31,
   "metadata": {},
   "outputs": [],
   "source": [
    "\n",
    "ygroup2['0_x'] = ygroup2['0_x'].astype(float) \n",
    "ygroup2['1_x'] = ygroup2['1_x'].astype(float) \n",
    "ygroup2['0_y'] = ygroup2['0_y'].astype(float) \n",
    "ygroup2['1_y'] = ygroup2['1_y'].astype(float) \n",
    "ygroup2['xdist'] = ygroup2['0_x'] - ygroup2['0_y']\n",
    "ygroup2['ydist'] = ygroup2['1_x'] - ygroup2['1_y']\n",
    "ygroup2['obatuple'] = ygroup2[['0_x', '1_x']].apply(tuple, axis=1)\n",
    "ygroup2['obttuple'] = ygroup2[['0_y', '1_y']].apply(tuple, axis=1) "
   ]
  },
  {
   "cell_type": "code",
   "execution_count": 32,
   "metadata": {},
   "outputs": [],
   "source": [
    "ygroup2['xsqr'] = (ygroup2['0_x'] - ygroup2['0_y'])**2\n",
    "ygroup2['ysqr'] = (ygroup2['1_x'] - ygroup2['1_y'])**2"
   ]
  },
  {
   "cell_type": "code",
   "execution_count": 33,
   "metadata": {},
   "outputs": [],
   "source": [
    "ygroup2['distance'] = ygroup2['xsqr'] + ygroup2['ysqr']"
   ]
  },
  {
   "cell_type": "code",
   "execution_count": 34,
   "metadata": {},
   "outputs": [],
   "source": [
    "ygroup2['distancefinalerror'] = np.sqrt(ygroup2['distance'])"
   ]
  },
  {
   "cell_type": "code",
   "execution_count": 35,
   "metadata": {},
   "outputs": [
    {
     "data": {
      "text/html": [
       "<div>\n",
       "<style scoped>\n",
       "    .dataframe tbody tr th:only-of-type {\n",
       "        vertical-align: middle;\n",
       "    }\n",
       "\n",
       "    .dataframe tbody tr th {\n",
       "        vertical-align: top;\n",
       "    }\n",
       "\n",
       "    .dataframe thead th {\n",
       "        text-align: right;\n",
       "    }\n",
       "</style>\n",
       "<table border=\"1\" class=\"dataframe\">\n",
       "  <thead>\n",
       "    <tr style=\"text-align: right;\">\n",
       "      <th></th>\n",
       "      <th>level_0</th>\n",
       "      <th>index</th>\n",
       "      <th>0_x</th>\n",
       "      <th>1_x</th>\n",
       "      <th>0_y</th>\n",
       "      <th>1_y</th>\n",
       "      <th>xdist</th>\n",
       "      <th>ydist</th>\n",
       "      <th>obatuple</th>\n",
       "      <th>obttuple</th>\n",
       "      <th>xsqr</th>\n",
       "      <th>ysqr</th>\n",
       "      <th>distance</th>\n",
       "      <th>distancefinalerror</th>\n",
       "    </tr>\n",
       "  </thead>\n",
       "  <tbody>\n",
       "    <tr>\n",
       "      <td>0</td>\n",
       "      <td>0</td>\n",
       "      <td>0</td>\n",
       "      <td>0.0</td>\n",
       "      <td>0.0</td>\n",
       "      <td>0.0</td>\n",
       "      <td>4.0</td>\n",
       "      <td>0.0</td>\n",
       "      <td>-4.0</td>\n",
       "      <td>(0.0, 0.0)</td>\n",
       "      <td>(0.0, 4.0)</td>\n",
       "      <td>0.0</td>\n",
       "      <td>16.0</td>\n",
       "      <td>16.0</td>\n",
       "      <td>4.000000</td>\n",
       "    </tr>\n",
       "    <tr>\n",
       "      <td>1</td>\n",
       "      <td>1</td>\n",
       "      <td>1</td>\n",
       "      <td>0.0</td>\n",
       "      <td>9.0</td>\n",
       "      <td>1.0</td>\n",
       "      <td>13.0</td>\n",
       "      <td>-1.0</td>\n",
       "      <td>-4.0</td>\n",
       "      <td>(0.0, 9.0)</td>\n",
       "      <td>(1.0, 13.0)</td>\n",
       "      <td>1.0</td>\n",
       "      <td>16.0</td>\n",
       "      <td>17.0</td>\n",
       "      <td>4.123106</td>\n",
       "    </tr>\n",
       "    <tr>\n",
       "      <td>2</td>\n",
       "      <td>2</td>\n",
       "      <td>2</td>\n",
       "      <td>0.0</td>\n",
       "      <td>11.0</td>\n",
       "      <td>0.0</td>\n",
       "      <td>11.0</td>\n",
       "      <td>0.0</td>\n",
       "      <td>0.0</td>\n",
       "      <td>(0.0, 11.0)</td>\n",
       "      <td>(0.0, 11.0)</td>\n",
       "      <td>0.0</td>\n",
       "      <td>0.0</td>\n",
       "      <td>0.0</td>\n",
       "      <td>0.000000</td>\n",
       "    </tr>\n",
       "    <tr>\n",
       "      <td>3</td>\n",
       "      <td>3</td>\n",
       "      <td>3</td>\n",
       "      <td>0.0</td>\n",
       "      <td>8.0</td>\n",
       "      <td>1.0</td>\n",
       "      <td>11.0</td>\n",
       "      <td>-1.0</td>\n",
       "      <td>-3.0</td>\n",
       "      <td>(0.0, 8.0)</td>\n",
       "      <td>(1.0, 11.0)</td>\n",
       "      <td>1.0</td>\n",
       "      <td>9.0</td>\n",
       "      <td>10.0</td>\n",
       "      <td>3.162278</td>\n",
       "    </tr>\n",
       "    <tr>\n",
       "      <td>4</td>\n",
       "      <td>4</td>\n",
       "      <td>4</td>\n",
       "      <td>1.0</td>\n",
       "      <td>11.0</td>\n",
       "      <td>0.0</td>\n",
       "      <td>11.0</td>\n",
       "      <td>1.0</td>\n",
       "      <td>0.0</td>\n",
       "      <td>(1.0, 11.0)</td>\n",
       "      <td>(0.0, 11.0)</td>\n",
       "      <td>1.0</td>\n",
       "      <td>0.0</td>\n",
       "      <td>1.0</td>\n",
       "      <td>1.000000</td>\n",
       "    </tr>\n",
       "  </tbody>\n",
       "</table>\n",
       "</div>"
      ],
      "text/plain": [
       "   level_0  index  0_x   1_x  0_y   1_y  xdist  ydist     obatuple  \\\n",
       "0        0      0  0.0   0.0  0.0   4.0    0.0   -4.0   (0.0, 0.0)   \n",
       "1        1      1  0.0   9.0  1.0  13.0   -1.0   -4.0   (0.0, 9.0)   \n",
       "2        2      2  0.0  11.0  0.0  11.0    0.0    0.0  (0.0, 11.0)   \n",
       "3        3      3  0.0   8.0  1.0  11.0   -1.0   -3.0   (0.0, 8.0)   \n",
       "4        4      4  1.0  11.0  0.0  11.0    1.0    0.0  (1.0, 11.0)   \n",
       "\n",
       "      obttuple  xsqr  ysqr  distance  distancefinalerror  \n",
       "0   (0.0, 4.0)   0.0  16.0      16.0            4.000000  \n",
       "1  (1.0, 13.0)   1.0  16.0      17.0            4.123106  \n",
       "2  (0.0, 11.0)   0.0   0.0       0.0            0.000000  \n",
       "3  (1.0, 11.0)   1.0   9.0      10.0            3.162278  \n",
       "4  (0.0, 11.0)   1.0   0.0       1.0            1.000000  "
      ]
     },
     "execution_count": 35,
     "metadata": {},
     "output_type": "execute_result"
    }
   ],
   "source": [
    "ygroup2.head()"
   ]
  },
  {
   "cell_type": "code",
   "execution_count": 36,
   "metadata": {},
   "outputs": [
    {
     "data": {
      "text/plain": [
       "2.262188562689794"
      ]
     },
     "execution_count": 36,
     "metadata": {},
     "output_type": "execute_result"
    }
   ],
   "source": [
    "ygroup2['distancefinalerror'].mean()"
   ]
  },
  {
   "cell_type": "code",
   "execution_count": 37,
   "metadata": {},
   "outputs": [
    {
     "data": {
      "text/plain": [
       "135.73131376138764"
      ]
     },
     "execution_count": 37,
     "metadata": {},
     "output_type": "execute_result"
    }
   ],
   "source": [
    "ygroup2['distancefinalerror'].sum()"
   ]
  },
  {
   "cell_type": "code",
   "execution_count": 38,
   "metadata": {},
   "outputs": [],
   "source": [
    "x1, x2, y1, y2 = None,None,None,None"
   ]
  },
  {
   "cell_type": "code",
   "execution_count": 39,
   "metadata": {},
   "outputs": [
    {
     "data": {
      "text/html": [
       "<div>\n",
       "<style scoped>\n",
       "    .dataframe tbody tr th:only-of-type {\n",
       "        vertical-align: middle;\n",
       "    }\n",
       "\n",
       "    .dataframe tbody tr th {\n",
       "        vertical-align: top;\n",
       "    }\n",
       "\n",
       "    .dataframe thead th {\n",
       "        text-align: right;\n",
       "    }\n",
       "</style>\n",
       "<table border=\"1\" class=\"dataframe\">\n",
       "  <thead>\n",
       "    <tr style=\"text-align: right;\">\n",
       "      <th></th>\n",
       "      <th>level_0</th>\n",
       "      <th>index</th>\n",
       "      <th>0_x</th>\n",
       "      <th>1_x</th>\n",
       "      <th>0_y</th>\n",
       "      <th>1_y</th>\n",
       "      <th>xdist</th>\n",
       "      <th>ydist</th>\n",
       "      <th>obatuple</th>\n",
       "      <th>obttuple</th>\n",
       "      <th>xsqr</th>\n",
       "      <th>ysqr</th>\n",
       "      <th>distance</th>\n",
       "      <th>distancefinalerror</th>\n",
       "    </tr>\n",
       "  </thead>\n",
       "  <tbody>\n",
       "    <tr>\n",
       "      <td>55</td>\n",
       "      <td>55</td>\n",
       "      <td>55</td>\n",
       "      <td>7.0</td>\n",
       "      <td>7.0</td>\n",
       "      <td>6.0</td>\n",
       "      <td>8.0</td>\n",
       "      <td>1.0</td>\n",
       "      <td>-1.0</td>\n",
       "      <td>(7.0, 7.0)</td>\n",
       "      <td>(6.0, 8.0)</td>\n",
       "      <td>1.0</td>\n",
       "      <td>1.0</td>\n",
       "      <td>2.0</td>\n",
       "      <td>1.414214</td>\n",
       "    </tr>\n",
       "    <tr>\n",
       "      <td>56</td>\n",
       "      <td>56</td>\n",
       "      <td>56</td>\n",
       "      <td>9.0</td>\n",
       "      <td>8.0</td>\n",
       "      <td>7.0</td>\n",
       "      <td>8.0</td>\n",
       "      <td>2.0</td>\n",
       "      <td>0.0</td>\n",
       "      <td>(9.0, 8.0)</td>\n",
       "      <td>(7.0, 8.0)</td>\n",
       "      <td>4.0</td>\n",
       "      <td>0.0</td>\n",
       "      <td>4.0</td>\n",
       "      <td>2.000000</td>\n",
       "    </tr>\n",
       "    <tr>\n",
       "      <td>57</td>\n",
       "      <td>57</td>\n",
       "      <td>57</td>\n",
       "      <td>9.0</td>\n",
       "      <td>7.0</td>\n",
       "      <td>8.0</td>\n",
       "      <td>7.0</td>\n",
       "      <td>1.0</td>\n",
       "      <td>0.0</td>\n",
       "      <td>(9.0, 7.0)</td>\n",
       "      <td>(8.0, 7.0)</td>\n",
       "      <td>1.0</td>\n",
       "      <td>0.0</td>\n",
       "      <td>1.0</td>\n",
       "      <td>1.000000</td>\n",
       "    </tr>\n",
       "    <tr>\n",
       "      <td>58</td>\n",
       "      <td>58</td>\n",
       "      <td>58</td>\n",
       "      <td>9.0</td>\n",
       "      <td>8.0</td>\n",
       "      <td>11.0</td>\n",
       "      <td>7.0</td>\n",
       "      <td>-2.0</td>\n",
       "      <td>1.0</td>\n",
       "      <td>(9.0, 8.0)</td>\n",
       "      <td>(11.0, 7.0)</td>\n",
       "      <td>4.0</td>\n",
       "      <td>1.0</td>\n",
       "      <td>5.0</td>\n",
       "      <td>2.236068</td>\n",
       "    </tr>\n",
       "    <tr>\n",
       "      <td>59</td>\n",
       "      <td>59</td>\n",
       "      <td>59</td>\n",
       "      <td>10.0</td>\n",
       "      <td>4.0</td>\n",
       "      <td>12.0</td>\n",
       "      <td>3.0</td>\n",
       "      <td>-2.0</td>\n",
       "      <td>1.0</td>\n",
       "      <td>(10.0, 4.0)</td>\n",
       "      <td>(12.0, 3.0)</td>\n",
       "      <td>4.0</td>\n",
       "      <td>1.0</td>\n",
       "      <td>5.0</td>\n",
       "      <td>2.236068</td>\n",
       "    </tr>\n",
       "  </tbody>\n",
       "</table>\n",
       "</div>"
      ],
      "text/plain": [
       "    level_0  index   0_x  1_x   0_y  1_y  xdist  ydist     obatuple  \\\n",
       "55       55     55   7.0  7.0   6.0  8.0    1.0   -1.0   (7.0, 7.0)   \n",
       "56       56     56   9.0  8.0   7.0  8.0    2.0    0.0   (9.0, 8.0)   \n",
       "57       57     57   9.0  7.0   8.0  7.0    1.0    0.0   (9.0, 7.0)   \n",
       "58       58     58   9.0  8.0  11.0  7.0   -2.0    1.0   (9.0, 8.0)   \n",
       "59       59     59  10.0  4.0  12.0  3.0   -2.0    1.0  (10.0, 4.0)   \n",
       "\n",
       "       obttuple  xsqr  ysqr  distance  distancefinalerror  \n",
       "55   (6.0, 8.0)   1.0   1.0       2.0            1.414214  \n",
       "56   (7.0, 8.0)   4.0   0.0       4.0            2.000000  \n",
       "57   (8.0, 7.0)   1.0   0.0       1.0            1.000000  \n",
       "58  (11.0, 7.0)   4.0   1.0       5.0            2.236068  \n",
       "59  (12.0, 3.0)   4.0   1.0       5.0            2.236068  "
      ]
     },
     "execution_count": 39,
     "metadata": {},
     "output_type": "execute_result"
    }
   ],
   "source": [
    "ygroup2.tail()"
   ]
  },
  {
   "cell_type": "code",
   "execution_count": 40,
   "metadata": {},
   "outputs": [
    {
     "data": {
      "text/plain": [
       "<matplotlib.legend.Legend at 0x170ad278e10>"
      ]
     },
     "execution_count": 40,
     "metadata": {},
     "output_type": "execute_result"
    },
    {
     "data": {
      "image/png": "[encoded data removed]",
      "text/plain": [
       "<Figure size 1440x720 with 1 Axes>"
      ]
     },
     "metadata": {
      "needs_background": "light"
     },
     "output_type": "display_data"
    }
   ],
   "source": [
    "plt.figure(figsize=(20,10))\n",
    "plt.title('Predicted vs Actual locations KNN')\n",
    "for i, row in ygroup2.iterrows():\n",
    "    x1, x2 = ygroup2.loc[i,'0_x'], ygroup2.loc[i,'0_y']\n",
    "    y1, y2 = ygroup2.loc[i,'1_x'], ygroup2.loc[i,'1_y']\n",
    "    plt.plot([x1,x2], [y1,y2],'k-')\n",
    "#plt.scatter(ygroup2['0_x'], ygroup2['1_x'], c = 'blue', label = 'Actual')\n",
    "#plt.scatter(ygroup2['0_y'], ygroup2['1_y'], c = 'red', label = 'Predicted')\n",
    "p1 = plt.scatter(ygroup2['0_x'], ygroup2['1_x'], c = 'blue', label = 'Actual')\n",
    "p2 = plt.scatter(ygroup2['0_y'], ygroup2['1_y'], c = 'red', label = 'Predicted')\n",
    "plt.legend((p1, p2), ('Actual', 'Predicted'))\n",
    "\n"
   ]
  },
  {
   "cell_type": "markdown",
   "metadata": {
    "colab_type": "text",
    "id": "fi35yamMtVOm"
   },
   "source": [
    "#### Model 2: Random Forest Classification"
   ]
  },
  {
   "cell_type": "code",
   "execution_count": 41,
   "metadata": {
    "colab": {
     "base_uri": "https://localhost:8080/",
     "height": 82
    },
    "colab_type": "code",
    "id": "n9vHxo7itYVh",
    "outputId": "cae198ac-c8bd-4759-a9b0-c0ff9613ae3d"
   },
   "outputs": [
    {
     "name": "stdout",
     "output_type": "stream",
     "text": [
      "Fitting 2 folds for each of 6 candidates, totalling 12 fits\n"
     ]
    },
    {
     "name": "stderr",
     "output_type": "stream",
     "text": [
      "[Parallel(n_jobs=-1)]: Using backend LokyBackend with 8 concurrent workers.\n",
      "[Parallel(n_jobs=-1)]: Done  10 out of  12 | elapsed:    3.6s remaining:    0.6s\n",
      "[Parallel(n_jobs=-1)]: Done  12 out of  12 | elapsed:    5.1s finished\n"
     ]
    }
   ],
   "source": [
    "param_grid = [\n",
    "    {\n",
    "         'n_estimators': [200, 500], \n",
    "         'max_depth': [20,30,35],\n",
    "         'random_state':[101]\n",
    "     }\n",
    "]\n",
    "\n",
    "clf_RF = RandomForestClassifier()\n",
    "grid_search_RF = GridSearchCV(clf_RF, param_grid=param_grid, cv=cv,n_jobs=-1, verbose=1, scoring='accuracy' )\n",
    "\n",
    "RandomForest_model1 = grid_search_RF.fit(X, Y)\n",
    "\n",
    "y_RF_score1 = RandomForest_model1.predict(X3)\n"
   ]
  },
  {
   "cell_type": "code",
   "execution_count": 41,
   "metadata": {},
   "outputs": [
    {
     "name": "stdout",
     "output_type": "stream",
     "text": [
      "Fitting 2 folds for each of 3960 candidates, totalling 7920 fits\n"
     ]
    },
    {
     "name": "stderr",
     "output_type": "stream",
     "text": [
      "[Parallel(n_jobs=-1)]: Using backend LokyBackend with 12 concurrent workers.\n",
      "[Parallel(n_jobs=-1)]: Done  26 tasks      | elapsed:   21.2s\n",
      "[Parallel(n_jobs=-1)]: Done 176 tasks      | elapsed:  2.1min\n",
      "[Parallel(n_jobs=-1)]: Done 426 tasks      | elapsed:  5.2min\n",
      "[Parallel(n_jobs=-1)]: Done 776 tasks      | elapsed:  9.8min\n",
      "[Parallel(n_jobs=-1)]: Done 1226 tasks      | elapsed: 15.7min\n",
      "[Parallel(n_jobs=-1)]: Done 1776 tasks      | elapsed: 23.0min\n",
      "[Parallel(n_jobs=-1)]: Done 2426 tasks      | elapsed: 31.6min\n",
      "[Parallel(n_jobs=-1)]: Done 3176 tasks      | elapsed: 41.4min\n",
      "[Parallel(n_jobs=-1)]: Done 4026 tasks      | elapsed: 52.6min\n",
      "[Parallel(n_jobs=-1)]: Done 4976 tasks      | elapsed: 69.1min\n",
      "[Parallel(n_jobs=-1)]: Done 6026 tasks      | elapsed: 88.0min\n",
      "[Parallel(n_jobs=-1)]: Done 7176 tasks      | elapsed: 108.5min\n",
      "[Parallel(n_jobs=-1)]: Done 7920 out of 7920 | elapsed: 122.0min finished\n"
     ]
    }
   ],
   "source": [
    "param_grid = [\n",
    "    {'bootstrap': [True, False],\n",
    "     'max_depth': [10, 20, 30, 40, 50, 60, 70, 80, 90, 100, None],\n",
    "     'max_features': ['auto', 'sqrt'],\n",
    "     'min_samples_leaf': [1, 2, 4],\n",
    "     'min_samples_split': [2, 5, 10],\n",
    "     'n_estimators': [200, 400, 600, 800, 1000, 1200, 1400, 1600, 1800, 2000]\n",
    "          }\n",
    "]\n",
    "\n",
    "clf_RF = RandomForestClassifier()\n",
    "grid_search_RF = GridSearchCV(clf_RF, param_grid=param_grid, cv=cv,n_jobs=-1, verbose=1, scoring='accuracy' )\n",
    "\n",
    "RandomForest_model1 = grid_search_RF.fit(X, Y)\n",
    "\n",
    "y_RF_score1 = RandomForest_model1.predict(X3)"
   ]
  },
  {
   "cell_type": "code",
   "execution_count": 42,
   "metadata": {},
   "outputs": [],
   "source": [
    "yrfscore = pd.DataFrame(y_RF_score1)\n",
    "yrfscore=yrfscore[0].str.split(\"-\", n = 1, expand = True)"
   ]
  },
  {
   "cell_type": "markdown",
   "metadata": {
    "colab_type": "text",
    "id": "0HtPQHbEqz1P"
   },
   "source": [
    "In model 2, we ran a Random Forest Classification procedure to classify liquor types. You can learn more in the documentation below. \n",
    "\n",
    "https://stackabuse.com/random-forest-algorithm-with-python-and-scikit-learn/\n",
    "\n",
    "Like the KNN model before, we decided to run a grid search procedure as well to help us find the optimal hyperparameters to tune to. "
   ]
  },
  {
   "cell_type": "code",
   "execution_count": 43,
   "metadata": {
    "colab": {
     "base_uri": "https://localhost:8080/",
     "height": 147
    },
    "colab_type": "code",
    "id": "Uc_OTys6trdf",
    "outputId": "1345806c-1c8e-484e-b5ad-62c7ad2be656"
   },
   "outputs": [
    {
     "data": {
      "text/plain": [
       "RandomForestClassifier(bootstrap=True, class_weight=None, criterion='gini',\n",
       "                       max_depth=20, max_features='auto', max_leaf_nodes=None,\n",
       "                       min_impurity_decrease=0.0, min_impurity_split=None,\n",
       "                       min_samples_leaf=1, min_samples_split=2,\n",
       "                       min_weight_fraction_leaf=0.0, n_estimators=200,\n",
       "                       n_jobs=None, oob_score=False, random_state=101,\n",
       "                       verbose=0, warm_start=False)"
      ]
     },
     "execution_count": 43,
     "metadata": {},
     "output_type": "execute_result"
    }
   ],
   "source": [
    "classifierEstimaterRF1 = RandomForest_model1.best_estimator_\n",
    "classifierEstimaterRF1"
   ]
  },
  {
   "cell_type": "markdown",
   "metadata": {
    "colab_type": "text",
    "id": "x5xlEV0NrPmg"
   },
   "source": [
    "After running our Random Forest procedure, we can see the grid search selected, a max depth of 20, a number of estimators split of 500 and no warm start with our model. "
   ]
  },
  {
   "cell_type": "code",
   "execution_count": 44,
   "metadata": {},
   "outputs": [
    {
     "data": {
      "text/html": [
       "<div>\n",
       "<style scoped>\n",
       "    .dataframe tbody tr th:only-of-type {\n",
       "        vertical-align: middle;\n",
       "    }\n",
       "\n",
       "    .dataframe tbody tr th {\n",
       "        vertical-align: top;\n",
       "    }\n",
       "\n",
       "    .dataframe thead th {\n",
       "        text-align: right;\n",
       "    }\n",
       "</style>\n",
       "<table border=\"1\" class=\"dataframe\">\n",
       "  <thead>\n",
       "    <tr style=\"text-align: right;\">\n",
       "      <th></th>\n",
       "      <th>level_0</th>\n",
       "      <th>index</th>\n",
       "      <th>0_x</th>\n",
       "      <th>1_x</th>\n",
       "      <th>0_y</th>\n",
       "      <th>1_y</th>\n",
       "      <th>obatuple</th>\n",
       "      <th>obttuple</th>\n",
       "      <th>xdist</th>\n",
       "      <th>ydist</th>\n",
       "      <th>xsqr</th>\n",
       "      <th>ysqr</th>\n",
       "      <th>distance</th>\n",
       "      <th>distancefinalerror</th>\n",
       "    </tr>\n",
       "  </thead>\n",
       "  <tbody>\n",
       "    <tr>\n",
       "      <td>0</td>\n",
       "      <td>0</td>\n",
       "      <td>0</td>\n",
       "      <td>0.0</td>\n",
       "      <td>0.0</td>\n",
       "      <td>0.0</td>\n",
       "      <td>2.0</td>\n",
       "      <td>(0.0, 0.0)</td>\n",
       "      <td>(0.0, 2.0)</td>\n",
       "      <td>0.0</td>\n",
       "      <td>-2.0</td>\n",
       "      <td>0.0</td>\n",
       "      <td>4.0</td>\n",
       "      <td>4.0</td>\n",
       "      <td>2.000000</td>\n",
       "    </tr>\n",
       "    <tr>\n",
       "      <td>1</td>\n",
       "      <td>1</td>\n",
       "      <td>1</td>\n",
       "      <td>0.0</td>\n",
       "      <td>9.0</td>\n",
       "      <td>2.0</td>\n",
       "      <td>13.0</td>\n",
       "      <td>(0.0, 9.0)</td>\n",
       "      <td>(2.0, 13.0)</td>\n",
       "      <td>-2.0</td>\n",
       "      <td>-4.0</td>\n",
       "      <td>4.0</td>\n",
       "      <td>16.0</td>\n",
       "      <td>20.0</td>\n",
       "      <td>4.472136</td>\n",
       "    </tr>\n",
       "    <tr>\n",
       "      <td>2</td>\n",
       "      <td>2</td>\n",
       "      <td>2</td>\n",
       "      <td>0.0</td>\n",
       "      <td>11.0</td>\n",
       "      <td>0.0</td>\n",
       "      <td>13.0</td>\n",
       "      <td>(0.0, 11.0)</td>\n",
       "      <td>(0.0, 13.0)</td>\n",
       "      <td>0.0</td>\n",
       "      <td>-2.0</td>\n",
       "      <td>0.0</td>\n",
       "      <td>4.0</td>\n",
       "      <td>4.0</td>\n",
       "      <td>2.000000</td>\n",
       "    </tr>\n",
       "    <tr>\n",
       "      <td>3</td>\n",
       "      <td>3</td>\n",
       "      <td>3</td>\n",
       "      <td>0.0</td>\n",
       "      <td>8.0</td>\n",
       "      <td>2.0</td>\n",
       "      <td>10.0</td>\n",
       "      <td>(0.0, 8.0)</td>\n",
       "      <td>(2.0, 10.0)</td>\n",
       "      <td>-2.0</td>\n",
       "      <td>-2.0</td>\n",
       "      <td>4.0</td>\n",
       "      <td>4.0</td>\n",
       "      <td>8.0</td>\n",
       "      <td>2.828427</td>\n",
       "    </tr>\n",
       "    <tr>\n",
       "      <td>4</td>\n",
       "      <td>4</td>\n",
       "      <td>4</td>\n",
       "      <td>1.0</td>\n",
       "      <td>11.0</td>\n",
       "      <td>0.0</td>\n",
       "      <td>11.0</td>\n",
       "      <td>(1.0, 11.0)</td>\n",
       "      <td>(0.0, 11.0)</td>\n",
       "      <td>1.0</td>\n",
       "      <td>0.0</td>\n",
       "      <td>1.0</td>\n",
       "      <td>0.0</td>\n",
       "      <td>1.0</td>\n",
       "      <td>1.000000</td>\n",
       "    </tr>\n",
       "  </tbody>\n",
       "</table>\n",
       "</div>"
      ],
      "text/plain": [
       "   level_0  index  0_x   1_x  0_y   1_y     obatuple     obttuple  xdist  \\\n",
       "0        0      0  0.0   0.0  0.0   2.0   (0.0, 0.0)   (0.0, 2.0)    0.0   \n",
       "1        1      1  0.0   9.0  2.0  13.0   (0.0, 9.0)  (2.0, 13.0)   -2.0   \n",
       "2        2      2  0.0  11.0  0.0  13.0  (0.0, 11.0)  (0.0, 13.0)    0.0   \n",
       "3        3      3  0.0   8.0  2.0  10.0   (0.0, 8.0)  (2.0, 10.0)   -2.0   \n",
       "4        4      4  1.0  11.0  0.0  11.0  (1.0, 11.0)  (0.0, 11.0)    1.0   \n",
       "\n",
       "   ydist  xsqr  ysqr  distance  distancefinalerror  \n",
       "0   -2.0   0.0   4.0       4.0            2.000000  \n",
       "1   -4.0   4.0  16.0      20.0            4.472136  \n",
       "2   -2.0   0.0   4.0       4.0            2.000000  \n",
       "3   -2.0   4.0   4.0       8.0            2.828427  \n",
       "4    0.0   1.0   0.0       1.0            1.000000  "
      ]
     },
     "execution_count": 44,
     "metadata": {},
     "output_type": "execute_result"
    }
   ],
   "source": [
    "ygroup3 = y1_test.reset_index()\n",
    "ygroup3 = pd.merge(ygroup3, yrfscore, left_index=True, right_index=True)\n",
    "ygroup3['obatuple'] = ygroup3[['0_x', '0_y']].apply(tuple, axis=1)\n",
    "ygroup3['obttuple'] = ygroup3[['1_x', '1_y']].apply(tuple, axis=1)\n",
    "ygroup3['0_x'] = ygroup3['0_x'].astype(float) \n",
    "ygroup3['1_x'] = ygroup3['1_x'].astype(float) \n",
    "ygroup3['0_y'] = ygroup3['0_y'].astype(float) \n",
    "ygroup3['1_y'] = ygroup3['1_y'].astype(float) \n",
    "ygroup3['xdist'] = ygroup3['0_x'] - ygroup3['0_y']\n",
    "ygroup3['ydist'] = ygroup3['1_x'] - ygroup3['1_y']\n",
    "ygroup3['xsqr'] = (ygroup3['0_x'] - ygroup3['0_y'])**2\n",
    "ygroup3['ysqr'] = (ygroup3['1_x'] - ygroup3['1_y'])**2\n",
    "ygroup3['distance'] = ygroup3['xsqr'] + ygroup3['ysqr']\n",
    "ygroup3['distancefinalerror'] = np.sqrt(ygroup3['distance'])\n",
    "\n",
    "ygroup3['obatuple'] = ygroup3[['0_x', '1_x']].apply(tuple, axis=1)\n",
    "ygroup3['obttuple'] = ygroup3[['0_y', '1_y']].apply(tuple, axis=1) \n",
    "ygroup3.head()"
   ]
  },
  {
   "cell_type": "code",
   "execution_count": 45,
   "metadata": {},
   "outputs": [
    {
     "data": {
      "text/plain": [
       "2.678446101963018"
      ]
     },
     "execution_count": 45,
     "metadata": {},
     "output_type": "execute_result"
    }
   ],
   "source": [
    "ygroup3['distancefinalerror'].mean()"
   ]
  },
  {
   "cell_type": "code",
   "execution_count": 46,
   "metadata": {},
   "outputs": [
    {
     "data": {
      "text/plain": [
       "160.70676611778111"
      ]
     },
     "execution_count": 46,
     "metadata": {},
     "output_type": "execute_result"
    }
   ],
   "source": [
    "ygroup3['distancefinalerror'].sum()"
   ]
  },
  {
   "cell_type": "code",
   "execution_count": 47,
   "metadata": {},
   "outputs": [
    {
     "data": {
      "text/plain": [
       "Text(0.5,1,'Actual and predicted values')"
      ]
     },
     "execution_count": 47,
     "metadata": {},
     "output_type": "execute_result"
    },
    {
     "data": {
      "image/png": "[encoded data removed]",
      "text/plain": [
       "<Figure size 432x288 with 1 Axes>"
      ]
     },
     "metadata": {
      "needs_background": "light"
     },
     "output_type": "display_data"
    }
   ],
   "source": [
    "plt.figure(figsize=(20,10))\n",
    "from matplotlib import pyplot as plt\n",
    "import numpy as np\n",
    "%matplotlib inline\n",
    "plt.scatter(ygroup3['0_x'], ygroup3['1_x'], c = 'blue', label = 'Actual')\n",
    "plt.scatter(ygroup3['0_y'], ygroup3['1_y'], c = 'red', label = 'Predicted')\n",
    "\n",
    "\n",
    "plt.title('Actual and predicted values')\n"
   ]
  },
  {
   "cell_type": "code",
   "execution_count": 48,
   "metadata": {},
   "outputs": [
    {
     "data": {
      "text/plain": [
       "<matplotlib.legend.Legend at 0x170ad3cd710>"
      ]
     },
     "execution_count": 48,
     "metadata": {},
     "output_type": "execute_result"
    },
    {
     "data": {
      "image/png": "[encoded data removed]",
      "text/plain": [
       "<Figure size 1440x720 with 1 Axes>"
      ]
     },
     "metadata": {
      "needs_background": "light"
     },
     "output_type": "display_data"
    }
   ],
   "source": [
    "plt.figure(figsize=(20,10))\n",
    "plt.title('Predicted vs Actual locations Random Forest')\n",
    "for i, row in ygroup3.iterrows():\n",
    "    x1, x2 = ygroup3.loc[i,'0_x'], ygroup3.loc[i,'0_y']\n",
    "    y1, y2 = ygroup3.loc[i,'1_x'], ygroup3.loc[i,'1_y']\n",
    "    plt.plot([x1,x2], [y1,y2],'k-')\n",
    "p1 = plt.scatter(ygroup3['0_x'], ygroup3['1_x'], c = 'blue', label = 'Actual')\n",
    "p2 = plt.scatter(ygroup3['0_y'], ygroup3['1_y'], c = 'red', label = 'Predicted')\n",
    "plt.legend((p1, p2), ('Actual', 'Predicted'))"
   ]
  },
  {
   "cell_type": "code",
   "execution_count": null,
   "metadata": {},
   "outputs": [],
   "source": []
  },
  {
   "cell_type": "code",
   "execution_count": null,
   "metadata": {},
   "outputs": [],
   "source": []
  }
 ],
 "metadata": {
  "colab": {
   "collapsed_sections": [],
   "name": "Copy of Lab2_DC.ipynb",
   "provenance": [],
   "toc_visible": true
  },
  "kernelspec": {
   "display_name": "Python 3.7.1 64-bit ('ML7331': conda)",
   "language": "python",
   "name": "python37164bitml7331condaf5c5c353a7fa46f5b783ad99991c2b10"
  },
  "language_info": {
   "codemirror_mode": {
    "name": "ipython",
    "version": 3
   },
   "file_extension": ".py",
   "mimetype": "text/x-python",
   "name": "python",
   "nbconvert_exporter": "python",
   "pygments_lexer": "ipython3",
   "version": "3.7.1"
  }
 },
 "nbformat": 4,
 "nbformat_minor": 1
}
