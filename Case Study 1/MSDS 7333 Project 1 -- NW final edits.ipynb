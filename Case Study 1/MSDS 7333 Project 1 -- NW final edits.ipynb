{
 "cells": [
  {
   "cell_type": "markdown",
   "metadata": {},
   "source": [
    "## MSDS 7333 Project 1 -- Predicting Location via Indoor Positioning Systems\n",
    "\n",
    "#### Stephen Hayden, Joe Schueder, Nicole Witten, Kevin Mendonsa"
   ]
  },
  {
   "cell_type": "markdown",
   "metadata": {},
   "source": [
    "### 1.1 Introduction\n",
    "\n",
    "#### Business Understanding\n",
    "\n",
    "**Introduction & describing the purpose of the data set (i.e., why was this data collected in the first place?).**\n",
    "\n",
    "Here is the floor plan of the building that we are building the location system for. \n",
    "\n",
    "![alt text](https://github.com/jjschueder/7333QTW/blob/master/floorplan.JPG?raw=true \"Logo Title Text 1\")\n"
   ]
  },
  {
   "cell_type": "markdown",
   "metadata": {},
   "source": [
    "### 1.1.2 Methods\n",
    "\n",
    "**How will we measure the effectiveness of a good algorithm?** \n",
    "\n",
    "To measure the effectiveness of each clustering algorithm we will be comparing the calculated Silhouette score (i.e. Silhouette Coefficient). Additional details regarding the silhouette score is below.\n",
    "    \n",
    "Silhouette Score – Per scikit learn documentation, “The Silhouette Coefficient is calculated using the mean intra-cluster distance (a) and the mean nearest-cluster distance (b) for each sample. The Silhouette Coefficient for a sample is (b - a) / max(a, b). To clarify, b is the distance between a sample and the nearest cluster that the sample is not a part of. Note that Silhouette Coefficient is only defined if number of labels is 2 <= n_labels <= n_samples - 1. \n",
    "    \n",
    "The best value is 1 and the worst value is -1. Values near 0 indicate overlapping clusters. Negative values indicate that the values located in each cluster have little in common with one another, suggesting the cluster was not based on a unified characteristic. We are going to use Silhouette score because it's a simple scoring metric to interpret, it shows a direct correlation to additional metrics we've reviewed such as homogeneity, completeness and V-measure. \n",
    "\n",
    "Outside of these quality measures, we will also be factoring time to run into the model performance as well, since we are working with a subset of data and will need to consider the computation resources needed to model the entire dataset. \n",
    "\n",
    "Additionally, we will want to keep in mind the number of observations that appear in each cluster, since we have equal balance of liquor types we are classifying, we will want as balanced as a cluster distribution as possible. "
   ]
  },
  {
   "cell_type": "markdown",
   "metadata": {},
   "source": [
    "### 1.2 Raw Data\n",
    "\n",
    "The “offline” data has 151,392 lines. The data documentation says the expected row count 146,080 lines. The difference between expected and retrieved is 5,312. Therefore some cleanup needs to be done. "
   ]
  },
  {
   "cell_type": "code",
   "execution_count": 18,
   "metadata": {},
   "outputs": [
    {
     "name": "stdout",
     "output_type": "stream",
     "text": [
      "[1] \"Total Number of rows in dataset starting with '#':  5312\"\n",
      "[1] \"Total Number of rows in dataset:  151392\"\n"
     ]
    }
   ],
   "source": [
    "options(digits = 2)\n",
    "txt = readLines(\"http://rdatasciencecases.org/Data/offline.final.trace.txt\")\n",
    "\n",
    "# Rows in dataset starting with #\n",
    "print(paste(\"Total Number of rows in dataset starting with '#': \",sum(substr(txt, 1, 1) == \"#\")))\n",
    "\n",
    "# Total Number of rows in dataset, inc comment rows\n",
    "print(paste(\"Total Number of rows in dataset: \",length(txt)))\n"
   ]
  },
  {
   "cell_type": "markdown",
   "metadata": {},
   "source": [
    "### 1.2.1 Processing Raw Data\n",
    "\n",
    "Create a function named processLine to process data (split by ; = or ,). The function returns matrix with rows for each MAC address and columns for position and orientation. Therefore, the number of rows in the dataset grow in size while achieving seperate columns representing various attributes of the data. Next, exclude rows starting with # as these are not relevant to the analysis. The rows in the data that start with # are removed also. "
   ]
  },
  {
   "cell_type": "code",
   "execution_count": 19,
   "metadata": {},
   "outputs": [],
   "source": [
    "# Create a function named processLine to process data (split by ; = or ,)\n",
    "# Returns matrix w/11 rows for each MAC address and columns for position and orientation\n",
    "processLine = function(x)\n",
    "{\n",
    "tokens = strsplit(x, \"[;=,]\")[[1]]\n",
    "if (length(tokens) == 10)\n",
    "    return(NULL)\n",
    "tmp = matrix(tokens[ - (1:10) ], , 4, byrow = TRUE)\n",
    "cbind(matrix(tokens[c(2, 4, 6:8, 10)], nrow(tmp), 6,\n",
    "byrow = TRUE), tmp)\n",
    "}\n"
   ]
  },
  {
   "cell_type": "code",
   "execution_count": 20,
   "metadata": {},
   "outputs": [
    {
     "name": "stdout",
     "output_type": "stream",
     "text": [
      "[1] \"Sample of rows in each time set\"\n"
     ]
    },
    {
     "data": {
      "text/html": [
       "<ol class=list-inline>\n",
       "\t<li>11</li>\n",
       "\t<li>10</li>\n",
       "\t<li>10</li>\n",
       "\t<li>11</li>\n",
       "\t<li>9</li>\n",
       "\t<li>10</li>\n",
       "\t<li>9</li>\n",
       "\t<li>9</li>\n",
       "\t<li>10</li>\n",
       "\t<li>11</li>\n",
       "\t<li>11</li>\n",
       "\t<li>9</li>\n",
       "\t<li>9</li>\n",
       "\t<li>9</li>\n",
       "\t<li>8</li>\n",
       "\t<li>10</li>\n",
       "\t<li>14</li>\n",
       "</ol>\n"
      ],
      "text/latex": [
       "\\begin{enumerate*}\n",
       "\\item 11\n",
       "\\item 10\n",
       "\\item 10\n",
       "\\item 11\n",
       "\\item 9\n",
       "\\item 10\n",
       "\\item 9\n",
       "\\item 9\n",
       "\\item 10\n",
       "\\item 11\n",
       "\\item 11\n",
       "\\item 9\n",
       "\\item 9\n",
       "\\item 9\n",
       "\\item 8\n",
       "\\item 10\n",
       "\\item 14\n",
       "\\end{enumerate*}\n"
      ],
      "text/markdown": [
       "1. 11\n",
       "2. 10\n",
       "3. 10\n",
       "4. 11\n",
       "5. 9\n",
       "6. 10\n",
       "7. 9\n",
       "8. 9\n",
       "9. 10\n",
       "10. 11\n",
       "11. 11\n",
       "12. 9\n",
       "13. 9\n",
       "14. 9\n",
       "15. 8\n",
       "16. 10\n",
       "17. 14\n",
       "\n",
       "\n"
      ],
      "text/plain": [
       " [1] 11 10 10 11  9 10  9  9 10 11 11  9  9  9  8 10 14"
      ]
     },
     "metadata": {},
     "output_type": "display_data"
    },
    {
     "name": "stdout",
     "output_type": "stream",
     "text": [
      "[1] \"# of rows in tmp data set:  170\"\n",
      "[1] \"# of columns in tmp data set:  10\"\n"
     ]
    }
   ],
   "source": [
    "# Apply the processLine function to rows 4 through 20\n",
    "tmp = lapply(txt[4:20], processLine)\n",
    "\n",
    "# Count of rows at each time, returns 17 matrices and # of signals at each point\n",
    "print(\"Sample of rows in each time set\")\n",
    "sapply(tmp, nrow)\n",
    "\n",
    "# Convert a list of data frames into one data frame (Add all times together)\n",
    "offline = as.data.frame(do.call(\"rbind\", tmp))\n",
    "print(paste(\"# of rows in tmp data set: \",dim(offline)[1]))\n",
    "print(paste(\"# of columns in tmp data set: \",dim(offline)[2]))\n"
   ]
  },
  {
   "cell_type": "code",
   "execution_count": 21,
   "metadata": {},
   "outputs": [
    {
     "data": {
      "text/html": [
       "1181628"
      ],
      "text/latex": [
       "1181628"
      ],
      "text/markdown": [
       "1181628"
      ],
      "text/plain": [
       "[1] 1181628"
      ]
     },
     "metadata": {},
     "output_type": "display_data"
    }
   ],
   "source": [
    "# Must exclude rows starting with #\n",
    "lines = txt[ substr(txt, 1, 1) != \"#\" ]\n",
    "\n",
    "# Options(error = recover, warn = 1)\n",
    "# load in full dataset\n",
    "# Apply the function processLine to each row/line\n",
    "tmp = lapply(lines, processLine)\n",
    "offline = as.data.frame(do.call(\"rbind\", tmp), \n",
    "                        stringsAsFactors = FALSE)\n",
    "\n",
    "# Check data set dimensions\n",
    "nrow(offline)"
   ]
  },
  {
   "cell_type": "markdown",
   "metadata": {},
   "source": []
  },
  {
   "cell_type": "markdown",
   "metadata": {},
   "source": [
    "### 1.3 Clean Data and Build Representation for Analysis"
   ]
  },
  {
   "cell_type": "code",
   "execution_count": 22,
   "metadata": {},
   "outputs": [
    {
     "data": {
      "text/html": [
       "<ol class=list-inline>\n",
       "\t<li>978443</li>\n",
       "\t<li>9</li>\n",
       "</ol>\n"
      ],
      "text/latex": [
       "\\begin{enumerate*}\n",
       "\\item 978443\n",
       "\\item 9\n",
       "\\end{enumerate*}\n"
      ],
      "text/markdown": [
       "1. 978443\n",
       "2. 9\n",
       "\n",
       "\n"
      ],
      "text/plain": [
       "[1] 978443      9"
      ]
     },
     "metadata": {},
     "output_type": "display_data"
    }
   ],
   "source": [
    "# Rename fields with meaningful names\n",
    "names(offline) = c(\"time\", \"scanMac\", \"posX\", \"posY\", \"posZ\",\n",
    "\"orientation\", \"mac\", \"signal\",\n",
    "\"channel\", \"type\")\n",
    "\n",
    "# Convert position, signal, and time variables to numeric\n",
    "numVars = c(\"time\", \"posX\", \"posY\", \"posZ\", \n",
    "            \"orientation\", \"signal\")\n",
    "offline[ numVars ] =  lapply(offline[ numVars ], as.numeric)\n",
    "\n",
    "# Drop all records for adhoc measurements and remove the type variable from our data frame\n",
    "# Confirm current dataframe dimensions\n",
    "offline = offline[ offline$type == \"3\", ]\n",
    "offline = offline[ , \"type\" != names(offline) ]\n",
    "dim(offline)"
   ]
  },
  {
   "cell_type": "code",
   "execution_count": 23,
   "metadata": {},
   "outputs": [],
   "source": [
    "# Time variable; time measured in milliseconds from midnight on January 1st, 1970.\n",
    "# POSIXt is measured in seconds, not milliseconds. Must scale value of time to seconds \n",
    "# and set class of the time element to have values appear and operate as date-times in R.\n",
    "# Keep the more precise time in rawTime, in case needed.\n",
    "\n",
    "offline$rawTime = offline$time\n",
    "offline$time = offline$time/1000\n",
    "class(offline$time) = c(\"POSIXt\", \"POSIXct\")"
   ]
  },
  {
   "cell_type": "code",
   "execution_count": 24,
   "metadata": {},
   "outputs": [
    {
     "data": {
      "text/html": [
       "<dl class=dl-horizontal>\n",
       "\t<dt>time1</dt>\n",
       "\t\t<dd>'POSIXt'</dd>\n",
       "\t<dt>time2</dt>\n",
       "\t\t<dd>'POSIXct'</dd>\n",
       "\t<dt>scanMac</dt>\n",
       "\t\t<dd>'character'</dd>\n",
       "\t<dt>posX</dt>\n",
       "\t\t<dd>'numeric'</dd>\n",
       "\t<dt>posY</dt>\n",
       "\t\t<dd>'numeric'</dd>\n",
       "\t<dt>posZ</dt>\n",
       "\t\t<dd>'numeric'</dd>\n",
       "\t<dt>orientation</dt>\n",
       "\t\t<dd>'numeric'</dd>\n",
       "\t<dt>mac</dt>\n",
       "\t\t<dd>'character'</dd>\n",
       "\t<dt>signal</dt>\n",
       "\t\t<dd>'numeric'</dd>\n",
       "\t<dt>channel</dt>\n",
       "\t\t<dd>'character'</dd>\n",
       "\t<dt>rawTime</dt>\n",
       "\t\t<dd>'numeric'</dd>\n",
       "</dl>\n"
      ],
      "text/latex": [
       "\\begin{description*}\n",
       "\\item[time1] 'POSIXt'\n",
       "\\item[time2] 'POSIXct'\n",
       "\\item[scanMac] 'character'\n",
       "\\item[posX] 'numeric'\n",
       "\\item[posY] 'numeric'\n",
       "\\item[posZ] 'numeric'\n",
       "\\item[orientation] 'numeric'\n",
       "\\item[mac] 'character'\n",
       "\\item[signal] 'numeric'\n",
       "\\item[channel] 'character'\n",
       "\\item[rawTime] 'numeric'\n",
       "\\end{description*}\n"
      ],
      "text/markdown": [
       "time1\n",
       ":   'POSIXt'time2\n",
       ":   'POSIXct'scanMac\n",
       ":   'character'posX\n",
       ":   'numeric'posY\n",
       ":   'numeric'posZ\n",
       ":   'numeric'orientation\n",
       ":   'numeric'mac\n",
       ":   'character'signal\n",
       ":   'numeric'channel\n",
       ":   'character'rawTime\n",
       ":   'numeric'\n",
       "\n"
      ],
      "text/plain": [
       "      time1       time2     scanMac        posX        posY        posZ \n",
       "   \"POSIXt\"   \"POSIXct\" \"character\"   \"numeric\"   \"numeric\"   \"numeric\" \n",
       "orientation         mac      signal     channel     rawTime \n",
       "  \"numeric\" \"character\"   \"numeric\" \"character\"   \"numeric\" "
      ]
     },
     "metadata": {},
     "output_type": "display_data"
    },
    {
     "data": {
      "text/plain": [
       "      time                          posX         posY           posZ  \n",
       " Min.   :2006-02-11 01:31:58   Min.   : 0   Min.   : 0.0   Min.   :0  \n",
       " 1st Qu.:2006-02-11 07:21:27   1st Qu.: 2   1st Qu.: 3.0   1st Qu.:0  \n",
       " Median :2006-02-11 13:57:58   Median :12   Median : 6.0   Median :0  \n",
       " Mean   :2006-02-16 08:57:37   Mean   :14   Mean   : 5.9   Mean   :0  \n",
       " 3rd Qu.:2006-02-19 08:52:40   3rd Qu.:23   3rd Qu.: 8.0   3rd Qu.:0  \n",
       " Max.   :2006-03-09 14:41:10   Max.   :33   Max.   :13.0   Max.   :0  \n",
       "  orientation      signal   \n",
       " Min.   :  0   Min.   :-99  \n",
       " 1st Qu.: 90   1st Qu.:-69  \n",
       " Median :180   Median :-60  \n",
       " Mean   :167   Mean   :-62  \n",
       " 3rd Qu.:270   3rd Qu.:-53  \n",
       " Max.   :360   Max.   :-25  "
      ]
     },
     "metadata": {},
     "output_type": "display_data"
    },
    {
     "data": {
      "text/plain": [
       "                mac               channel                    scanMac      \n",
       " 00:0f:a3:39:e1:c0:145862   2462000000:189774   00:02:2D:21:0F:33:978443  \n",
       " 00:0f:a3:39:dd:cd:145619   2437000000:152124                             \n",
       " 00:14:bf:b1:97:8a:132962   2412000000:145619                             \n",
       " 00:14:bf:3b:c7:c6:126529   2432000000:126529                             \n",
       " 00:14:bf:b1:97:90:122315   2427000000:122315                             \n",
       " 00:14:bf:b1:97:8d:121325   2442000000:121325                             \n",
       " (Other)          :183831   (Other)   :120757                             "
      ]
     },
     "metadata": {},
     "output_type": "display_data"
    }
   ],
   "source": [
    "# Check the types of the variables in the data frame\n",
    "unlist(lapply(offline, class))\n",
    "\n",
    "# Next verify that actual values of the data look reasonable. Start w/summary of each numeric variable\n",
    "summary(offline[, numVars])\n",
    "\n",
    "# Convert character variables to factors. Examine summary\n",
    "summary(sapply(offline[ , c(\"mac\", \"channel\", \"scanMac\")],\n",
    "               as.factor))"
   ]
  },
  {
   "cell_type": "markdown",
   "metadata": {},
   "source": [
    "Results of Note: \n",
    "\n",
    "1. There is only one value for scanMac, the MAC address for the hand-held device from which the measurements were taken. We might as well discard this variable from our data frame. However, we may want to note this value to compare it with the online data. \n",
    "\n",
    "2. All of the values for posZ, the elevation of the hand-held device, are 0. This is because all of the measurements were taken on one floor of the building. We can eliminate this variable."
   ]
  },
  {
   "cell_type": "code",
   "execution_count": 25,
   "metadata": {},
   "outputs": [],
   "source": [
    "# Discard scanMac and eliminate posZ\n",
    "offline = offline[ , !(names(offline) %in% c(\"scanMac\", \"posZ\"))]\n"
   ]
  },
  {
   "cell_type": "markdown",
   "metadata": {},
   "source": [
    "### 1.3.1 Explore Orientation"
   ]
  },
  {
   "cell_type": "code",
   "execution_count": 26,
   "metadata": {},
   "outputs": [
    {
     "data": {
      "text/html": [
       "203"
      ],
      "text/latex": [
       "203"
      ],
      "text/markdown": [
       "203"
      ],
      "text/plain": [
       "[1] 203"
      ]
     },
     "metadata": {},
     "output_type": "display_data"
    },
    {
     "data": {
      "image/png": "[encoded data removed]",
      "text/plain": [
       "Plot with title \"ecdf(offline$orientation)\""
      ]
     },
     "metadata": {},
     "output_type": "display_data"
    }
   ],
   "source": [
    "# Per documentation, should have 8 values for orientation (0, 45, 90,..., 315)\n",
    "length(unique(offline$orientation))\n",
    "\n",
    "# At 203, this is not the case. Examine the distribution of orientation\n",
    "plot(ecdf(offline$orientation))\n"
   ]
  },
  {
   "cell_type": "markdown",
   "metadata": {},
   "source": [
    "Figure 1.2: Empirical CDF of Orientation for the Hand-Held Device. Shows 8 basic orientations that are 45 degrees apart."
   ]
  },
  {
   "cell_type": "markdown",
   "metadata": {},
   "source": [
    "Although the experiment was designed to measure signal strength at 8 orientations - 45 degree intervals from 0 to 315 - these orientations are not exact. However, it may be useful to work with values corresponding to the 8 equi-spaced angles, i.e. map 47.5 to 45, and 358.2 to 0, and so on. To do this, take each value and find out which of the 8 orientations is closest and that orientation. Pay special attention to values such as 358.2, as they should map to 0, not to the closer 315."
   ]
  },
  {
   "cell_type": "code",
   "execution_count": 27,
   "metadata": {},
   "outputs": [],
   "source": [
    "# Use roundOrientation() to create the rounded angles, from notes above\n",
    "\n",
    "roundOrientation = function(angles) {\n",
    "  refs = seq(0, by = 45, length  = 9)\n",
    "  q = sapply(angles, function(o) which.min(abs(o - refs)))\n",
    "  c(refs[1:8], 0)[q]\n",
    "}\n"
   ]
  },
  {
   "cell_type": "code",
   "execution_count": 28,
   "metadata": {},
   "outputs": [
    {
     "data": {
      "image/png": "[encoded data removed]",
      "text/plain": [
       "Plot with title \"Main title\""
      ]
     },
     "metadata": {},
     "output_type": "display_data"
    }
   ],
   "source": [
    "# Create rounded angles and check boxplots\n",
    "offline$angle = roundOrientation(offline$orientation)\n",
    "\n",
    "with(offline, boxplot(orientation ~ angle,\n",
    "                     xlab = \"nearest 45 degree angle\",\n",
    "                     ylab = \"orientation\",\n",
    "                     main=\"Main title\"))\n"
   ]
  },
  {
   "cell_type": "markdown",
   "metadata": {},
   "source": [
    "Figure 1.3: Boxplots of Orientation for the Hand-Held Device. Confirm that values have mapped correctly."
   ]
  },
  {
   "cell_type": "markdown",
   "metadata": {},
   "source": [
    "### 1.3.2 EXPLORE MAC ADDRESSES"
   ]
  },
  {
   "cell_type": "code",
   "execution_count": 29,
   "metadata": {},
   "outputs": [
    {
     "data": {
      "text/html": [
       "<ol class=list-inline>\n",
       "\t<li>12</li>\n",
       "\t<li>8</li>\n",
       "</ol>\n"
      ],
      "text/latex": [
       "\\begin{enumerate*}\n",
       "\\item 12\n",
       "\\item 8\n",
       "\\end{enumerate*}\n"
      ],
      "text/markdown": [
       "1. 12\n",
       "2. 8\n",
       "\n",
       "\n"
      ],
      "text/plain": [
       "[1] 12  8"
      ]
     },
     "metadata": {},
     "output_type": "display_data"
    }
   ],
   "source": [
    "# From the summary() information, there may be a one-to-one mapping between MAC address of the access points and channel. \n",
    "# For example, the summary statistics show 126,529 occurrences of the address 00:14:bf:3b:c7:c6 and the same number of \n",
    "# occurrences of channel 2432000000.\n",
    "\n",
    "# To check for 1:1 mapping, look at relationship between MAC address and channel. The unique addresses and channels should\n",
    "# be the same number if 1:1.\n",
    "c(length(unique(offline$mac)), length(unique(offline$channel)))\n"
   ]
  },
  {
   "cell_type": "markdown",
   "metadata": {},
   "source": [
    "First and last two MAC addresses are not near the testing area or were only working/active for a short time  during the measurement process because their counts are very low. \n",
    " \n",
    "Also likely that third and fifth addresses are not among the access points displayed because they have much lower counts.\n"
   ]
  },
  {
   "cell_type": "code",
   "execution_count": 30,
   "metadata": {},
   "outputs": [
    {
     "data": {
      "text/plain": [
       "\n",
       "00:04:0e:5c:23:fc 00:0f:a3:39:dd:cd 00:0f:a3:39:e0:4b 00:0f:a3:39:e1:c0 \n",
       "              418            145619             43508            145862 \n",
       "00:0f:a3:39:e2:10 00:14:bf:3b:c7:c6 00:14:bf:b1:97:81 00:14:bf:b1:97:8a \n",
       "            19162            126529            120339            132962 \n",
       "00:14:bf:b1:97:8d 00:14:bf:b1:97:90 00:30:bd:f8:7f:c5 00:e0:63:82:8b:a9 \n",
       "           121325            122315               301               103 "
      ]
     },
     "metadata": {},
     "output_type": "display_data"
    }
   ],
   "source": [
    "# Results -  12 MAC addresses and 8 channels.\n",
    "# Building plan (figure 1.1) indcates 6 access points. Documentation notes there are additional access points that \n",
    "# are not part of the testing area, so not seen on the floor plan.\n",
    "# Check counts of observations for the various MAC addresses\n",
    "table(offline$mac)\n"
   ]
  },
  {
   "cell_type": "code",
   "execution_count": 31,
   "metadata": {},
   "outputs": [],
   "source": [
    "# First and last two MAC addresses are not near the testing area or were only working/active for a short time \n",
    "# during the measurement process because their counts are very low. \n",
    "# Also likely that third and fifth addresses are not among the access points displayed because they have much lower counts.\n",
    "# Possible 146,080 recordings total (recall that there are potentially signals recorded at 166 grid points, 8 orientations,\n",
    "# and 110 replications).\n",
    "\n",
    "# Per documentation, access points consist of 5 Linksys/Cisco and one Lancom L-54g routers. \n",
    "# Look up MAC addresses to find the vendor addresses: 00:14:bf -- Linksys, 00:0f:a3 -- Alpha Networks, and \n",
    "# 00:a0:57 -- Lancom devices.\n",
    "# 5 devices with an address that begins are Linksys; none from Lancom (conflict with documentation)\n",
    "# For now, keep the records from top 7 devices.\n",
    "subMacs = names(sort(table(offline$mac), decreasing = TRUE))[1:7]\n",
    "offline = offline[ offline$mac %in% subMacs, ]\n"
   ]
  },
  {
   "cell_type": "code",
   "execution_count": 32,
   "metadata": {},
   "outputs": [
    {
     "data": {
      "text/html": [
       "<dl class=dl-horizontal>\n",
       "\t<dt>00:0f:a3:39:dd:cd</dt>\n",
       "\t\t<dd>1</dd>\n",
       "\t<dt>00:0f:a3:39:e1:c0</dt>\n",
       "\t\t<dd>1</dd>\n",
       "\t<dt>00:14:bf:3b:c7:c6</dt>\n",
       "\t\t<dd>1</dd>\n",
       "\t<dt>00:14:bf:b1:97:81</dt>\n",
       "\t\t<dd>1</dd>\n",
       "\t<dt>00:14:bf:b1:97:8a</dt>\n",
       "\t\t<dd>1</dd>\n",
       "\t<dt>00:14:bf:b1:97:8d</dt>\n",
       "\t\t<dd>1</dd>\n",
       "\t<dt>00:14:bf:b1:97:90</dt>\n",
       "\t\t<dd>1</dd>\n",
       "</dl>\n"
      ],
      "text/latex": [
       "\\begin{description*}\n",
       "\\item[00:0f:a3:39:dd:cd] 1\n",
       "\\item[00:0f:a3:39:e1:c0] 1\n",
       "\\item[00:14:bf:3b:c7:c6] 1\n",
       "\\item[00:14:bf:b1:97:81] 1\n",
       "\\item[00:14:bf:b1:97:8a] 1\n",
       "\\item[00:14:bf:b1:97:8d] 1\n",
       "\\item[00:14:bf:b1:97:90] 1\n",
       "\\end{description*}\n"
      ],
      "text/markdown": [
       "00:0f:a3:39:dd:cd\n",
       ":   100:0f:a3:39:e1:c0\n",
       ":   100:14:bf:3b:c7:c6\n",
       ":   100:14:bf:b1:97:81\n",
       ":   100:14:bf:b1:97:8a\n",
       ":   100:14:bf:b1:97:8d\n",
       ":   100:14:bf:b1:97:90\n",
       ":   1\n",
       "\n"
      ],
      "text/plain": [
       "00:0f:a3:39:dd:cd 00:0f:a3:39:e1:c0 00:14:bf:3b:c7:c6 00:14:bf:b1:97:81 \n",
       "                1                 1                 1                 1 \n",
       "00:14:bf:b1:97:8a 00:14:bf:b1:97:8d 00:14:bf:b1:97:90 \n",
       "                1                 1                 1 "
      ]
     },
     "metadata": {},
     "output_type": "display_data"
    }
   ],
   "source": [
    "# Create table of counts for the remaining MAC × channel combination, confirm there is one non-zero entry in each row.\n",
    "macChannel = with(offline, table(mac, channel))\n",
    "apply(macChannel, 1, function(x) sum(x > 0))\n",
    "\n",
    "# There is 1:1 correspondence between MAC address and channel for 7 devices. Eliminate channel from offline.\n",
    "\n",
    "offline = offline[ , \"channel\" != names(offline)]\n"
   ]
  },
  {
   "cell_type": "markdown",
   "metadata": {},
   "source": [
    "### 1.3.3 EXPLORE HAND-HELD DEVICE"
   ]
  },
  {
   "cell_type": "code",
   "execution_count": 33,
   "metadata": {},
   "outputs": [
    {
     "data": {
      "text/html": [
       "476"
      ],
      "text/latex": [
       "476"
      ],
      "text/markdown": [
       "476"
      ],
      "text/plain": [
       "[1] 476"
      ]
     },
     "metadata": {},
     "output_type": "display_data"
    }
   ],
   "source": [
    "# Tally number of rows in data frame for each unique (x, y) combination.\n",
    "\n",
    "locDF <- with(offline, by(offline, list(posX, posY), function(x) x))\n",
    "\n",
    "# Check\n",
    "length(locDF)\n"
   ]
  },
  {
   "cell_type": "code",
   "execution_count": 34,
   "metadata": {},
   "outputs": [
    {
     "data": {
      "text/html": [
       "310"
      ],
      "text/latex": [
       "310"
      ],
      "text/markdown": [
       "310"
      ],
      "text/plain": [
       "[1] 310"
      ]
     },
     "metadata": {},
     "output_type": "display_data"
    }
   ],
   "source": [
    "# 476 is longer than number of combinations of actual (x, y) locations at which measurements were recorded.\n",
    "# Many of these elements are empty.\n",
    "\n",
    "sum(sapply(locDF, is.null))"
   ]
  },
  {
   "cell_type": "code",
   "execution_count": 35,
   "metadata": {},
   "outputs": [
    {
     "data": {
      "text/html": [
       "166"
      ],
      "text/latex": [
       "166"
      ],
      "text/markdown": [
       "166"
      ],
      "text/plain": [
       "[1] 166"
      ]
     },
     "metadata": {},
     "output_type": "display_data"
    }
   ],
   "source": [
    "# Null values correspond to combinations of the xs and ys that were not observed. Drop unneeded elements.\n",
    "locDF <- locDF[!sapply(locDF, is.null)]\n",
    "\n",
    "# Check/Confirm only 166 locations\n",
    "length(locDF)\n"
   ]
  },
  {
   "cell_type": "code",
   "execution_count": 36,
   "metadata": {},
   "outputs": [
    {
     "data": {
      "text/html": [
       "'matrix'"
      ],
      "text/latex": [
       "'matrix'"
      ],
      "text/markdown": [
       "'matrix'"
      ],
      "text/plain": [
       "[1] \"matrix\""
      ]
     },
     "metadata": {},
     "output_type": "display_data"
    }
   ],
   "source": [
    "# Determine the number of observations recorded at each location.\n",
    "locCounts <- sapply(locDF, nrow)\n",
    "\n",
    "# Keep position information with lcoation. \n",
    "locCounts <- sapply(locDF, function(df) c(df[1, c(\"posX\", \"posY\")], count = nrow(df)))\n",
    "\n",
    "# Confirm matrix matrix strucutre\n",
    "class(locCounts)"
   ]
  },
  {
   "cell_type": "code",
   "execution_count": 37,
   "metadata": {},
   "outputs": [
    {
     "data": {
      "text/html": [
       "<ol class=list-inline>\n",
       "\t<li>3</li>\n",
       "\t<li>166</li>\n",
       "</ol>\n"
      ],
      "text/latex": [
       "\\begin{enumerate*}\n",
       "\\item 3\n",
       "\\item 166\n",
       "\\end{enumerate*}\n"
      ],
      "text/markdown": [
       "1. 3\n",
       "2. 166\n",
       "\n",
       "\n"
      ],
      "text/plain": [
       "[1]   3 166"
      ]
     },
     "metadata": {},
     "output_type": "display_data"
    }
   ],
   "source": [
    "# Confirm 3 rows\n",
    "dim(locCounts)"
   ]
  },
  {
   "cell_type": "code",
   "execution_count": 38,
   "metadata": {},
   "outputs": [
    {
     "data": {
      "text/html": [
       "<table>\n",
       "<tbody>\n",
       "\t<tr><th scope=row>posX</th><td>0</td><td>1</td><td>2</td><td>0</td><td>1</td><td>2</td><td>0</td><td>1</td></tr>\n",
       "\t<tr><th scope=row>posY</th><td>0</td><td>0</td><td>0</td><td>1</td><td>1</td><td>1</td><td>2</td><td>2</td></tr>\n",
       "\t<tr><th scope=row>count</th><td>5505</td><td>5505</td><td>5506</td><td>5524</td><td>5543</td><td>5558</td><td>5503</td><td>5564</td></tr>\n",
       "</tbody>\n",
       "</table>\n"
      ],
      "text/latex": [
       "\\begin{tabular}{r|llllllll}\n",
       "\tposX & 0 & 1 & 2 & 0 & 1 & 2 & 0 & 1\\\\\n",
       "\tposY & 0 & 0 & 0 & 1 & 1 & 1 & 2 & 2\\\\\n",
       "\tcount & 5505 & 5505 & 5506 & 5524 & 5543 & 5558 & 5503 & 5564\\\\\n",
       "\\end{tabular}\n"
      ],
      "text/markdown": [
       "\n",
       "| posX | 0 | 1 | 2 | 0 | 1 | 2 | 0 | 1 |\n",
       "| posY | 0 | 0 | 0 | 1 | 1 | 1 | 2 | 2 |\n",
       "| count | 5505 | 5505 | 5506 | 5524 | 5543 | 5558 | 5503 | 5564 |\n",
       "\n"
      ],
      "text/plain": [
       "      [,1] [,2] [,3] [,4] [,5] [,6] [,7] [,8]\n",
       "posX  0    1    2    0    1    2    0    1   \n",
       "posY  0    0    0    1    1    1    2    2   \n",
       "count 5505 5505 5506 5524 5543 5558 5503 5564"
      ]
     },
     "metadata": {},
     "output_type": "display_data"
    }
   ],
   "source": [
    "# Examine a few counts\n",
    "locCounts[, 1:8]"
   ]
  },
  {
   "cell_type": "code",
   "execution_count": 39,
   "metadata": {},
   "outputs": [
    {
     "data": {
      "image/png": "[encoded data removed]",
      "text/plain": [
       "Plot with title \"Main title\""
      ]
     },
     "metadata": {},
     "output_type": "display_data"
    }
   ],
   "source": [
    "# There are roughly 5,500 recordings at each position, which aligns with 8 orientations × 110 replications × 7 access points,\n",
    "# which is 6,160 signal strength measurements. Visualize all 166 counts by adding the counts as text at respective locations.\n",
    "# Transpose matrix so locations are columns of matrix and change size/angle of characters to plot.\n",
    "locCounts = t(locCounts)\n",
    "plot(locCounts, type = \"n\", xlab = \"\", ylab = \"\", main=\"Main title\")\n",
    "text(locCounts, labels = locCounts[, 3], cex = 0.8, srt = 45)\n"
   ]
  },
  {
   "cell_type": "markdown",
   "metadata": {},
   "source": [
    "Figure 1.5: Counts of Signals at Each Position. Ideally 110 signals measured at 8 angles for 6 access pooints, for a total of 5,280. Data includes 7th MAC address and not all signals detected, resulting in approximately 5,500 reading at each location."
   ]
  },
  {
   "cell_type": "markdown",
   "metadata": {},
   "source": [
    "### 1.3.4 CREATE A FUNCTION TO PREPARE DATA -- NEED HELP HERE"
   ]
  },
  {
   "cell_type": "markdown",
   "metadata": {},
   "source": [
    "MAY NOT NEED THIS SECTION"
   ]
  },
  {
   "cell_type": "markdown",
   "metadata": {},
   "source": [
    "'We have examined all the variables except time and signal. This process has helped us\n",
    "clean our data and reduce it to those records that are relevant to our analysis. We leave the\n",
    "examination of the signals to the next section where we study its distributional properties.\n",
    "As for time, while this variable is not directly related to our model, it indicates the order\n",
    "in which the observations were taken. In an experiment, this can be helpful in uncovering\n",
    "potential sources of bias. For example, the person carrying the hand-held device may have\n",
    "changed how the device was carried as the experiment progressed and this change may lead\n",
    "to a change in the strength of the signal. Plots and analyses of the relationship between time\n",
    "and other variables can help us uncover such potential problems. We leave this investigation\n",
    "as an exercise.\n",
    "Since we also want to read the online data in R, we turn all of these commands into\n",
    "a function called readData(). Additionally, if we later change our mind as to how we want\n",
    "to handle some of these special cases, e.g., to keep channel or posZ, then we can make a\n",
    "simple update to our function and rerun it. We might even add a parameter to the function\n",
    "definition to allow us to process the data in different ways. We leave it as an exercise to\n",
    "create readData()."
   ]
  },
  {
   "cell_type": "markdown",
   "metadata": {},
   "source": [
    "#### We call readData() to create the offline data frame with'\n",
    "\n",
    "readData = \n",
    "  function(filename = 'offline.final.trace.txt', \n",
    "           subMacs = c(\"00:0f:a3:39:e1:c0\", \"00:0f:a3:39:dd:cd\", \"00:14:bf:b1:97:8a\",\n",
    "                       \"00:14:bf:3b:c7:c6\", \"00:14:bf:b1:97:90\", \"00:14:bf:b1:97:8d\",\n",
    "                       \"00:14:bf:b1:97:81\"))\n",
    "  {\n",
    "    txt = readLines(filename)\n",
    "    lines = txt[ substr(txt, 1, 1) != \"#\" ]\n",
    "    tmp = lapply(lines, processLine)\n",
    "    offline = as.data.frame(do.call(\"rbind\", tmp), \n",
    "                            stringsAsFactors= FALSE) \n",
    "    \n",
    "    names(offline) = c(\"time\", \"scanMac\", \n",
    "                       \"posX\", \"posY\", \"posZ\", \"orientation\", \n",
    "                       \"mac\", \"signal\", \"channel\", \"type\")\n",
    "    \n",
    "    # keep only signals from access points\n",
    "    offline = offline[ offline$type == \"3\", ]\n",
    "    \n",
    "    # drop scanMac, posZ, channel, and type - no info in them\n",
    "    dropVars = c(\"scanMac\", \"posZ\", \"channel\", \"type\")\n",
    "    offline = offline[ , !( names(offline) %in% dropVars ) ]\n",
    "    \n",
    "    # drop more unwanted access points\n",
    "    offline = offline[ offline$mac %in% subMacs, ]\n",
    "    \n",
    "    # convert numeric values\n",
    "    numVars = c(\"time\", \"posX\", \"posY\", \"orientation\", \"signal\")\n",
    "    offline[ numVars ] = lapply(offline[ numVars ], as.numeric)\n",
    "    \n",
    "    # convert time to POSIX\n",
    "    offline$rawTime = offline$time\n",
    "    offline$time = offline$time/1000\n",
    "    class(offline$time) = c(\"POSIXt\", \"POSIXct\")\n",
    "    \n",
    "    # round orientations to nearest 45\n",
    "    offline$angle = roundOrientation(offline$orientation)\n",
    "    \n",
    "    return(offline)\n",
    "  }\n",
    "\n",
    "offlineRedo = readData()\n",
    "\n",
    "Then we use the identical() function to check this version of the data frame against the one that we already created:\n",
    "\n",
    "library(codetools)\n",
    "\n",
    "identical(offline, offlineRedo)\n",
    "\n",
    "findGlobals(readData, merge = FALSE)$variables"
   ]
  },
  {
   "cell_type": "markdown",
   "metadata": {},
   "source": [
    "### 1.4.1 Distribution of Signal Strength"
   ]
  },
  {
   "cell_type": "code",
   "execution_count": 40,
   "metadata": {},
   "outputs": [],
   "source": [
    "# Load packages needed\n",
    "library(codetools)\n",
    "library(lattice)\n"
   ]
  },
  {
   "cell_type": "code",
   "execution_count": 41,
   "metadata": {},
   "outputs": [
    {
     "data": {
      "image/png": "[encoded data removed]",
      "text/plain": [
       "plot without title"
      ]
     },
     "metadata": {},
     "output_type": "display_data"
    }
   ],
   "source": [
    "# Compare distribution of signal strength at different orientations and for different access points.\n",
    "# Subdivide data. COnsider impact of orientation on signal strength by fixing a location on the map to see how the signal changes as the experimenter forates through 8 angles. \n",
    "# Examine MAC addresses because at an orientation of 90 degress the experimentater mgith be facing toward on access point and away from another. \n",
    "\n",
    "bwplot(signal ~ factor(angle) | mac, data = offline, subset = posX == 2 & posY == \n",
    "    12 & mac != \"00:0f:a3:39:dd:cd\", layout = c(2, 3))"
   ]
  },
  {
   "cell_type": "markdown",
   "metadata": {},
   "source": [
    "See that Signal Strength varies with orientation for both close and distant access points. \n",
    "Dropped MAC address 00:0f: - a3:39:dd:cd"
   ]
  },
  {
   "cell_type": "code",
   "execution_count": 42,
   "metadata": {},
   "outputs": [
    {
     "data": {
      "text/plain": [
       "   Min. 1st Qu.  Median    Mean 3rd Qu.    Max. \n",
       "    -98     -67     -59     -60     -53     -25 "
      ]
     },
     "metadata": {},
     "output_type": "display_data"
    }
   ],
   "source": [
    "# Signal Strength is measured as negative values. \n",
    "\n",
    "summary(offline$signal)\n",
    "\n",
    "# Small values correspond to weak signals and large values are strong. "
   ]
  },
  {
   "cell_type": "code",
   "execution_count": 43,
   "metadata": {},
   "outputs": [
    {
     "data": {
      "text/html": [
       "<strong>null device:</strong> 1"
      ],
      "text/latex": [
       "\\textbf{null device:} 1"
      ],
      "text/markdown": [
       "**null device:** 1"
      ],
      "text/plain": [
       "null device \n",
       "          1 "
      ]
     },
     "metadata": {},
     "output_type": "display_data"
    },
    {
     "data": {
      "image/png": "[encoded data removed]",
      "text/plain": [
       "plot without title"
      ]
     },
     "metadata": {},
     "output_type": "display_data"
    }
   ],
   "source": [
    "# Find a similar dependence of signal strength on angle. Produce 48 density curves for one location.\n",
    "\n",
    "#pdf(file = \"Geo_DensitySignalByMacAngle.pdf\", width = 8, height = 12)\n",
    "oldPar = par(mar = c(3.1, 3, 1, 1))\n",
    "\n",
    "densityplot(~signal | mac + factor(angle), data = offline, subset = posX == \n",
    "    24 & posY == 4 & mac != \"00:0f:a3:39:dd:cd\", bw = 0.5, plot.points = FALSE)\n",
    "\n",
    "par(oldPar)\n",
    "dev.off()"
   ]
  },
  {
   "cell_type": "markdown",
   "metadata": {},
   "source": [
    "Many distributions look approximately normal. Although there are some serious departures with secondary modes and and skewness. The center of the distribution varies with angle and MAC address, so conditioning on angle and MAC address is warranted. "
   ]
  },
  {
   "cell_type": "code",
   "execution_count": 44,
   "metadata": {},
   "outputs": [],
   "source": [
    "# Examine summary statistics of mean and SD or media and IQR of signal strength for all location-orientation-access point combinations. \n",
    "\n",
    "offline$posXY <- paste(offline$posX, offline$posY, sep = \"-\")"
   ]
  },
  {
   "cell_type": "code",
   "execution_count": 45,
   "metadata": {},
   "outputs": [],
   "source": [
    "write.csv(offline,\"C:/Users/jjschued/Documents/SMU/7333 QTW/offline.csv\", row.names = TRUE)"
   ]
  },
  {
   "cell_type": "code",
   "execution_count": 46,
   "metadata": {},
   "outputs": [],
   "source": [
    "# Create list of data frames for every combination of (x, y), angle, and access point\n",
    "\n",
    "byLocAngleAP <- with(offline, by(offline, list(posXY, angle, mac), function(x) x))"
   ]
  },
  {
   "cell_type": "code",
   "execution_count": 47,
   "metadata": {},
   "outputs": [
    {
     "data": {
      "text/html": [
       "9"
      ],
      "text/latex": [
       "9"
      ],
      "text/markdown": [
       "9"
      ],
      "text/plain": [
       "[1] 9"
      ]
     },
     "metadata": {},
     "output_type": "display_data"
    }
   ],
   "source": [
    "length(offline[offline$posXY == '0-1',])"
   ]
  },
  {
   "cell_type": "code",
   "execution_count": 152,
   "metadata": {},
   "outputs": [],
   "source": [
    "# Calculate summary stats for each data frame\n",
    "\n",
    "signalSummary = lapply(byLocAngleAP, function(oneLoc) {\n",
    "    ans = oneLoc[1, ]\n",
    "    ans$medSignal = median(oneLoc$signal)\n",
    "    ans$avgSignal = mean(oneLoc$signal)\n",
    "    ans$num = length(oneLoc$signal)\n",
    "    ans$sdSignal = sd(oneLoc$signal)\n",
    "    ans$iqrSignal = IQR(oneLoc$signal)\n",
    "    ans\n",
    "})\n",
    "\n",
    "offlineSummary = do.call(\"rbind\", signalSummary)"
   ]
  },
  {
   "cell_type": "code",
   "execution_count": 156,
   "metadata": {},
   "outputs": [
    {
     "data": {
      "text/html": [
       "<table>\n",
       "<thead><tr><th></th><th scope=col>time</th><th scope=col>posX</th><th scope=col>posY</th><th scope=col>orientation</th><th scope=col>mac</th><th scope=col>signal</th><th scope=col>rawTime</th><th scope=col>angle</th><th scope=col>posXY</th><th scope=col>medSignal</th><th scope=col>avgSignal</th><th scope=col>num</th><th scope=col>sdSignal</th><th scope=col>iqrSignal</th></tr></thead>\n",
       "<tbody>\n",
       "\t<tr><th scope=row>7</th><td>2006-02-11 01:31:58</td><td>0                  </td><td> 0                 </td><td>0.0                </td><td>00:0f:a3:39:dd:cd  </td><td>-75                </td><td>1.1e+12            </td><td>0                  </td><td>0-0                </td><td>-67                </td><td>-68                </td><td>111                </td><td>3.2                </td><td>4.5                </td></tr>\n",
       "\t<tr><th scope=row>24512</th><td>2006-02-11 02:03:44</td><td>0                  </td><td> 1                 </td><td>0.7                </td><td>00:0f:a3:39:dd:cd  </td><td>-73                </td><td>1.1e+12            </td><td>0                  </td><td>0-1                </td><td>-70                </td><td>-70                </td><td>110                </td><td>2.4                </td><td>3.0                </td></tr>\n",
       "\t<tr><th scope=row>221777</th><td>2006-02-11 05:46:02</td><td>0                  </td><td>10                 </td><td>0.9                </td><td>00:0f:a3:39:dd:cd  </td><td>-69                </td><td>1.1e+12            </td><td>0                  </td><td>0-10               </td><td>-67                </td><td>-69                </td><td>111                </td><td>4.4                </td><td>6.5                </td></tr>\n",
       "\t<tr><th scope=row>229191</th><td>2006-02-11 05:54:05</td><td>0                  </td><td>11                 </td><td>0.4                </td><td>00:0f:a3:39:dd:cd  </td><td>-72                </td><td>1.1e+12            </td><td>0                  </td><td>0-11               </td><td>-73                </td><td>-74                </td><td>111                </td><td>5.4                </td><td>7.0                </td></tr>\n",
       "\t<tr><th scope=row>236493</th><td>2006-02-11 06:02:32</td><td>0                  </td><td>12                 </td><td>0.2                </td><td>00:0f:a3:39:dd:cd  </td><td>-72                </td><td>1.1e+12            </td><td>0                  </td><td>0-12               </td><td>-70                </td><td>-70                </td><td>114                </td><td>2.4                </td><td>3.0                </td></tr>\n",
       "\t<tr><th scope=row>243546</th><td>2006-02-11 06:14:12</td><td>0                  </td><td>13                 </td><td>0.1                </td><td>00:0f:a3:39:dd:cd  </td><td>-69                </td><td>1.1e+12            </td><td>0                  </td><td>0-13               </td><td>-74                </td><td>-74                </td><td>109                </td><td>3.5                </td><td>4.0                </td></tr>\n",
       "</tbody>\n",
       "</table>\n"
      ],
      "text/latex": [
       "\\begin{tabular}{r|llllllllllllll}\n",
       "  & time & posX & posY & orientation & mac & signal & rawTime & angle & posXY & medSignal & avgSignal & num & sdSignal & iqrSignal\\\\\n",
       "\\hline\n",
       "\t7 & 2006-02-11 01:31:58 & 0                   &  0                  & 0.0                 & 00:0f:a3:39:dd:cd   & -75                 & 1.1e+12             & 0                   & 0-0                 & -67                 & -68                 & 111                 & 3.2                 & 4.5                \\\\\n",
       "\t24512 & 2006-02-11 02:03:44 & 0                   &  1                  & 0.7                 & 00:0f:a3:39:dd:cd   & -73                 & 1.1e+12             & 0                   & 0-1                 & -70                 & -70                 & 110                 & 2.4                 & 3.0                \\\\\n",
       "\t221777 & 2006-02-11 05:46:02 & 0                   & 10                  & 0.9                 & 00:0f:a3:39:dd:cd   & -69                 & 1.1e+12             & 0                   & 0-10                & -67                 & -69                 & 111                 & 4.4                 & 6.5                \\\\\n",
       "\t229191 & 2006-02-11 05:54:05 & 0                   & 11                  & 0.4                 & 00:0f:a3:39:dd:cd   & -72                 & 1.1e+12             & 0                   & 0-11                & -73                 & -74                 & 111                 & 5.4                 & 7.0                \\\\\n",
       "\t236493 & 2006-02-11 06:02:32 & 0                   & 12                  & 0.2                 & 00:0f:a3:39:dd:cd   & -72                 & 1.1e+12             & 0                   & 0-12                & -70                 & -70                 & 114                 & 2.4                 & 3.0                \\\\\n",
       "\t243546 & 2006-02-11 06:14:12 & 0                   & 13                  & 0.1                 & 00:0f:a3:39:dd:cd   & -69                 & 1.1e+12             & 0                   & 0-13                & -74                 & -74                 & 109                 & 3.5                 & 4.0                \\\\\n",
       "\\end{tabular}\n"
      ],
      "text/markdown": [
       "\n",
       "| <!--/--> | time | posX | posY | orientation | mac | signal | rawTime | angle | posXY | medSignal | avgSignal | num | sdSignal | iqrSignal |\n",
       "|---|---|---|---|---|---|---|---|---|---|---|---|---|---|---|\n",
       "| 7 | 2006-02-11 01:31:58 | 0                   |  0                  | 0.0                 | 00:0f:a3:39:dd:cd   | -75                 | 1.1e+12             | 0                   | 0-0                 | -67                 | -68                 | 111                 | 3.2                 | 4.5                 |\n",
       "| 24512 | 2006-02-11 02:03:44 | 0                   |  1                  | 0.7                 | 00:0f:a3:39:dd:cd   | -73                 | 1.1e+12             | 0                   | 0-1                 | -70                 | -70                 | 110                 | 2.4                 | 3.0                 |\n",
       "| 221777 | 2006-02-11 05:46:02 | 0                   | 10                  | 0.9                 | 00:0f:a3:39:dd:cd   | -69                 | 1.1e+12             | 0                   | 0-10                | -67                 | -69                 | 111                 | 4.4                 | 6.5                 |\n",
       "| 229191 | 2006-02-11 05:54:05 | 0                   | 11                  | 0.4                 | 00:0f:a3:39:dd:cd   | -72                 | 1.1e+12             | 0                   | 0-11                | -73                 | -74                 | 111                 | 5.4                 | 7.0                 |\n",
       "| 236493 | 2006-02-11 06:02:32 | 0                   | 12                  | 0.2                 | 00:0f:a3:39:dd:cd   | -72                 | 1.1e+12             | 0                   | 0-12                | -70                 | -70                 | 114                 | 2.4                 | 3.0                 |\n",
       "| 243546 | 2006-02-11 06:14:12 | 0                   | 13                  | 0.1                 | 00:0f:a3:39:dd:cd   | -69                 | 1.1e+12             | 0                   | 0-13                | -74                 | -74                 | 109                 | 3.5                 | 4.0                 |\n",
       "\n"
      ],
      "text/plain": [
       "       time                posX posY orientation mac               signal\n",
       "7      2006-02-11 01:31:58 0     0   0.0         00:0f:a3:39:dd:cd -75   \n",
       "24512  2006-02-11 02:03:44 0     1   0.7         00:0f:a3:39:dd:cd -73   \n",
       "221777 2006-02-11 05:46:02 0    10   0.9         00:0f:a3:39:dd:cd -69   \n",
       "229191 2006-02-11 05:54:05 0    11   0.4         00:0f:a3:39:dd:cd -72   \n",
       "236493 2006-02-11 06:02:32 0    12   0.2         00:0f:a3:39:dd:cd -72   \n",
       "243546 2006-02-11 06:14:12 0    13   0.1         00:0f:a3:39:dd:cd -69   \n",
       "       rawTime angle posXY medSignal avgSignal num sdSignal iqrSignal\n",
       "7      1.1e+12 0     0-0   -67       -68       111 3.2      4.5      \n",
       "24512  1.1e+12 0     0-1   -70       -70       110 2.4      3.0      \n",
       "221777 1.1e+12 0     0-10  -67       -69       111 4.4      6.5      \n",
       "229191 1.1e+12 0     0-11  -73       -74       111 5.4      7.0      \n",
       "236493 1.1e+12 0     0-12  -70       -70       114 2.4      3.0      \n",
       "243546 1.1e+12 0     0-13  -74       -74       109 3.5      4.0      "
      ]
     },
     "metadata": {},
     "output_type": "display_data"
    }
   ],
   "source": [
    "head(offlineSummary)"
   ]
  },
  {
   "cell_type": "code",
   "execution_count": 49,
   "metadata": {},
   "outputs": [
    {
     "data": {
      "text/html": [
       "<strong>null device:</strong> 1"
      ],
      "text/latex": [
       "\\textbf{null device:} 1"
      ],
      "text/markdown": [
       "**null device:** 1"
      ],
      "text/plain": [
       "null device \n",
       "          1 "
      ]
     },
     "metadata": {},
     "output_type": "display_data"
    },
    {
     "data": {
      "image/png": "[encoded data removed]",
      "text/plain": [
       "plot without title"
      ]
     },
     "metadata": {},
     "output_type": "display_data"
    }
   ],
   "source": [
    "# Examine standard, see if they vary by average signal strength. Make box plots of sdSignal for subgroups of avgSignal by turning avgSignal into categorial variable. \n",
    "\n",
    "#pdf(file = \"Geo_BoxplotSignalSDByAvg.pdf\", width = 10)\n",
    "oldPar = par(mar = c(3.1, 3, 1, 1))\n",
    "\n",
    "breaks = seq(-90, -30, by = 5)\n",
    "bwplot(sdSignal ~ cut(avgSignal, breaks = breaks),\n",
    "       data = offlineSummary, \n",
    "       subset = mac != \"00:0f:a3:39:dd:cd\",\n",
    "       xlab = \"Mean Signal\", ylab = \"SD Signal\")\n",
    "\n",
    "par(oldPar)\n",
    "dev.off()\n",
    "\n",
    "#pdf(file = \"Geo_ScatterMean-Median.pdf\", width = 10)\n",
    "oldPar = par(mar = c(4.1, 4.1, 1, 1))"
   ]
  },
  {
   "cell_type": "markdown",
   "metadata": {},
   "source": [
    "See that weakest signals have small standard deviations and it appears that SD increase with average signal strength."
   ]
  },
  {
   "cell_type": "markdown",
   "metadata": {},
   "source": [
    "See that these two measures of centrailty are similar to each other; they typically differ by less than 1 or 2 dBm."
   ]
  },
  {
   "cell_type": "code",
   "execution_count": 50,
   "metadata": {},
   "outputs": [
    {
     "data": {
      "image/png": "[encoded data removed]",
      "text/plain": [
       "plot without title"
      ]
     },
     "metadata": {},
     "output_type": "display_data"
    }
   ],
   "source": [
    "# Examine skewness of signal strength by plotting difference avgSignal - medSignal against observations. \n",
    "# Smooth scatter avoids problems with over plotting; add local average of difference between mean and median to better assess size. \n",
    "\n",
    "with(offlineSummary, smoothScatter((avgSignal - medSignal) ~ num, xlab = \"Number of Observations\", \n",
    "    ylab = \"mean - median\"))\n",
    "abline(h = 0, col = \"#984ea3\", lwd = 2)\n",
    "\n",
    "# Use loess() to locally smooth differences between mean and median.\n",
    "\n",
    "lo.obj = with(offlineSummary, loess(diff ~ num, data = data.frame(diff = (avgSignal - \n",
    "    medSignal), num = num)))\n",
    "\n",
    "# Then use fitted model to predict the idffernce for each value of num and add those to scatter plot.\n",
    "lo.obj.pr = predict(lo.obj, newdata = data.frame(num = (70:120)))\n",
    "lines(x = 70:120, y = lo.obj.pr, col = \"#4daf4a\", lwd = 2)"
   ]
  },
  {
   "cell_type": "markdown",
   "metadata": {},
   "source": [
    "## Relationship between Signal and Distance\n",
    " Examine relationship between distance and signal strength is to smooth signal strength over the region where it is measured and create a contour plot -- portion of floor plan where there is strong signal corresponds to mountainous regions on map. "
   ]
  },
  {
   "cell_type": "code",
   "execution_count": 51,
   "metadata": {},
   "outputs": [
    {
     "name": "stderr",
     "output_type": "stream",
     "text": [
      "Warning message:\n",
      "\"package 'fields' was built under R version 3.6.3\"Loading required package: spam\n",
      "Warning message:\n",
      "\"package 'spam' was built under R version 3.6.3\"Loading required package: dotCall64\n",
      "Warning message:\n",
      "\"package 'dotCall64' was built under R version 3.6.3\"Loading required package: grid\n",
      "Spam version 2.5-1 (2019-12-12) is loaded.\n",
      "Type 'help( Spam)' or 'demo( spam)' for a short introduction \n",
      "and overview of this package.\n",
      "Help for individual functions is also obtained by adding the\n",
      "suffix '.spam' to the function name, e.g. 'help( chol.spam)'.\n",
      "\n",
      "Attaching package: 'spam'\n",
      "\n",
      "The following objects are masked from 'package:base':\n",
      "\n",
      "    backsolve, forwardsolve\n",
      "\n",
      "Loading required package: maps\n",
      "See https://github.com/NCAR/Fields for\n",
      " an extensive vignette, other supplements and source code \n"
     ]
    }
   ],
   "source": [
    "#install.packages(\"fields\")\n",
    "library(fields)"
   ]
  },
  {
   "cell_type": "code",
   "execution_count": 52,
   "metadata": {},
   "outputs": [
    {
     "data": {
      "image/png": "[encoded data removed]",
      "text/plain": [
       "plot without title"
      ]
     },
     "metadata": {},
     "output_type": "display_data"
    }
   ],
   "source": [
    "# Select one MAC address and one orientation. Choose summary stats for an angle x MAC combination\n",
    "oneAPAngle <- subset(offline, mac == subMacs[5] & angle == 0)\n",
    "\n",
    "# Make topographical map, using fields package. Uses the method of thin plate splines to fit a surface to the signal stregnth values at the observed locations. \n",
    "# Tps() requres a \"z\" value, so must subset offLine Summary\n",
    "oneAPAngle = subset(offlineSummary, mac == subMacs[5] & angle == 0)\n",
    "\n",
    "# Call Tps() to fit a smooth surface to mean signal strength \n",
    "smoothSS = Tps(oneAPAngle[, c(\"posX\", \"posY\")], oneAPAngle$avgSignal)\n",
    "\n",
    "# Use predictSurface() to predict the value for the fitted surface at a grid of the observed posX and posY \n",
    "vizSmooth = predictSurface(smoothSS)\n",
    "\n",
    "#Plot predicted signal strength using plot.surface()\n",
    "plot.surface(vizSmooth, type = \"C\")\n",
    "\n",
    "# Lastly add locations where measurements were taken\n",
    "points(oneAPAngle$posX, oneAPAngle$posY, pch = 19, cex = 0.5)"
   ]
  },
  {
   "cell_type": "code",
   "execution_count": 53,
   "metadata": {},
   "outputs": [
    {
     "data": {
      "text/html": [
       "<dl>\n",
       "\t<dt>$`00:14:bf:b1:97:90`</dt>\n",
       "\t\t<dd>NULL</dd>\n",
       "\t<dt>$`00:14:bf:b1:97:90`</dt>\n",
       "\t\t<dd>NULL</dd>\n",
       "\t<dt>$`00:0f:a3:39:e1:c0`</dt>\n",
       "\t\t<dd>NULL</dd>\n",
       "\t<dt>$`00:0f:a3:39:e1:c0`</dt>\n",
       "\t\t<dd>NULL</dd>\n",
       "</dl>\n"
      ],
      "text/latex": [
       "\\begin{description}\n",
       "\\item[\\$`00:14:bf:b1:97:90`] NULL\n",
       "\\item[\\$`00:14:bf:b1:97:90`] NULL\n",
       "\\item[\\$`00:0f:a3:39:e1:c0`] NULL\n",
       "\\item[\\$`00:0f:a3:39:e1:c0`] NULL\n",
       "\\end{description}\n"
      ],
      "text/markdown": [
       "$`00:14:bf:b1:97:90`\n",
       ":   NULL\n",
       "$`00:14:bf:b1:97:90`\n",
       ":   NULL\n",
       "$`00:0f:a3:39:e1:c0`\n",
       ":   NULL\n",
       "$`00:0f:a3:39:e1:c0`\n",
       ":   NULL\n",
       "\n",
       "\n"
      ],
      "text/plain": [
       "$`00:14:bf:b1:97:90`\n",
       "NULL\n",
       "\n",
       "$`00:14:bf:b1:97:90`\n",
       "NULL\n",
       "\n",
       "$`00:0f:a3:39:e1:c0`\n",
       "NULL\n",
       "\n",
       "$`00:0f:a3:39:e1:c0`\n",
       "NULL\n"
      ]
     },
     "metadata": {},
     "output_type": "display_data"
    },
    {
     "data": {
      "image/png": "[encoded data removed]",
      "text/plain": [
       "plot without title"
      ]
     },
     "metadata": {},
     "output_type": "display_data"
    }
   ],
   "source": [
    "# Wrap plotting routine into own function so that we can parameterize the MAC address and angle, other other plotting parameters. \n",
    "# surfaceSS() has 3 args - data, MAC, angle\n",
    "# call surfaceSS() with a couple MAC addresses and angles to compare. Modify R plotting parameters to place 4 contour plots on one canvas. \n",
    "\n",
    "surfaceSS = function(data, mac, angle = 45) {\n",
    "    require(fields)\n",
    "    oneAPAngle = data[data$mac == mac & data$angle == angle, ]\n",
    "    smoothSS = Tps(oneAPAngle[, c(\"posX\", \"posY\")], oneAPAngle$avgSignal)\n",
    "    vizSmooth = predictSurface(smoothSS)\n",
    "    plot.surface(vizSmooth, type = \"C\", xlab = \"\", ylab = \"\", xaxt = \"n\", yaxt = \"n\")\n",
    "    points(oneAPAngle$posX, oneAPAngle$posY, pch = 19, cex = 0.5)\n",
    "}\n",
    "\n",
    "# Save Current Settings\n",
    "parCur = par(mfrow = c(2, 2), mar = rep(1, 4))\n",
    "\n",
    "# Mak 4 calls to surfaceSS() using mapply()\n",
    "mapply(surfaceSS, mac = subMacs[rep(c(5, 1), each = 2)], angle = rep(c(0, 135), \n",
    "    2), data = list(data = offlineSummary))"
   ]
  },
  {
   "cell_type": "markdown",
   "metadata": {},
   "source": [
    "Above, identify the location of access points as the dark red region. We can also confirm the effect of orientation on signal strength. A corridor effect emerges - the signal is stronger relative to distance along ocorridors where the signals are not blocked by walls. "
   ]
  },
  {
   "cell_type": "code",
   "execution_count": 54,
   "metadata": {},
   "outputs": [],
   "source": [
    "# We find that two MAC addresses have similiar heat maps; these correspond to access points near center of building (i.e. x=7.5, y=6.3)\n",
    "# Choose first of these.\n",
    "\n",
    "offlineSummary <- subset(offlineSummary, mac != subMacs[2])"
   ]
  },
  {
   "cell_type": "code",
   "execution_count": 157,
   "metadata": {},
   "outputs": [
    {
     "data": {
      "text/html": [
       "<table>\n",
       "<thead><tr><th></th><th scope=col>x</th><th scope=col>y</th></tr></thead>\n",
       "<tbody>\n",
       "\t<tr><th scope=row>00:0f:a3:39:e1:c0</th><td> 7.5</td><td> 6.3</td></tr>\n",
       "\t<tr><th scope=row>00:14:bf:3b:c7:c6</th><td> 2.5</td><td>-0.8</td></tr>\n",
       "\t<tr><th scope=row>00:14:bf:b1:97:90</th><td>12.8</td><td>-2.8</td></tr>\n",
       "\t<tr><th scope=row>00:14:bf:b1:97:8d</th><td> 1.0</td><td>14.0</td></tr>\n",
       "\t<tr><th scope=row>00:14:bf:b1:97:81</th><td>33.5</td><td> 9.3</td></tr>\n",
       "\t<tr><th scope=row>00:0f:a3:39:dd:cd</th><td>33.5</td><td> 2.8</td></tr>\n",
       "</tbody>\n",
       "</table>\n"
      ],
      "text/latex": [
       "\\begin{tabular}{r|ll}\n",
       "  & x & y\\\\\n",
       "\\hline\n",
       "\t00:0f:a3:39:e1:c0 &  7.5 &  6.3\\\\\n",
       "\t00:14:bf:3b:c7:c6 &  2.5 & -0.8\\\\\n",
       "\t00:14:bf:b1:97:90 & 12.8 & -2.8\\\\\n",
       "\t00:14:bf:b1:97:8d &  1.0 & 14.0\\\\\n",
       "\t00:14:bf:b1:97:81 & 33.5 &  9.3\\\\\n",
       "\t00:0f:a3:39:dd:cd & 33.5 &  2.8\\\\\n",
       "\\end{tabular}\n"
      ],
      "text/markdown": [
       "\n",
       "| <!--/--> | x | y |\n",
       "|---|---|---|\n",
       "| 00:0f:a3:39:e1:c0 |  7.5 |  6.3 |\n",
       "| 00:14:bf:3b:c7:c6 |  2.5 | -0.8 |\n",
       "| 00:14:bf:b1:97:90 | 12.8 | -2.8 |\n",
       "| 00:14:bf:b1:97:8d |  1.0 | 14.0 |\n",
       "| 00:14:bf:b1:97:81 | 33.5 |  9.3 |\n",
       "| 00:0f:a3:39:dd:cd | 33.5 |  2.8 |\n",
       "\n"
      ],
      "text/plain": [
       "                  x    y   \n",
       "00:0f:a3:39:e1:c0  7.5  6.3\n",
       "00:14:bf:3b:c7:c6  2.5 -0.8\n",
       "00:14:bf:b1:97:90 12.8 -2.8\n",
       "00:14:bf:b1:97:8d  1.0 14.0\n",
       "00:14:bf:b1:97:81 33.5  9.3\n",
       "00:0f:a3:39:dd:cd 33.5  2.8"
      ]
     },
     "metadata": {},
     "output_type": "display_data"
    }
   ],
   "source": [
    "# Create small matrix with relevant positions for the 6 access points on floor plan.\n",
    "\n",
    "AP <- matrix(c(7.5, 6.3, 2.5, -0.8, 12.8, -2.8, 1, 14, 33.5, 9.3, 33.5, 2.8), \n",
    "    ncol = 2, byrow = TRUE, dimnames = list(subMacs[-2], c(\"x\", \"y\")))\n",
    "\n",
    "AP"
   ]
  },
  {
   "cell_type": "code",
   "execution_count": 158,
   "metadata": {},
   "outputs": [
    {
     "ename": "ERROR",
     "evalue": "Error in AP[offlineSummary$mac, ]: subscript out of bounds\n",
     "output_type": "error",
     "traceback": [
      "Error in AP[offlineSummary$mac, ]: subscript out of bounds\nTraceback:\n"
     ]
    }
   ],
   "source": [
    "# To examine relationship between signal strength and distance from the access point, compute distances from locations of device emitting signal to the access point receiving signal.\n",
    "# First compute difference between x coorindate and acces point x coordiante; then for y coordinates.\n",
    "\n",
    "diffs <- offlineSummary[, c(\"posX\", \"posY\")] - AP[offlineSummary$mac, ]"
   ]
  },
  {
   "cell_type": "code",
   "execution_count": 159,
   "metadata": {},
   "outputs": [
    {
     "ename": "ERROR",
     "evalue": "Error in `$<-.data.frame`(`*tmp*`, dist, value = c(9.7948966303887, 9.18368117913509, : replacement has 7968 rows, data has 9296\n",
     "output_type": "error",
     "traceback": [
      "Error in `$<-.data.frame`(`*tmp*`, dist, value = c(9.7948966303887, 9.18368117913509, : replacement has 7968 rows, data has 9296\nTraceback:\n",
      "1. `$<-`(`*tmp*`, dist, value = c(9.7948966303887, 9.18368117913509, \n . 8.36301381082203, 8.85098864534353, 9.42019108086455, 10.0568384694197, \n . 8.64522989862039, 8.1939001702486, 7.84474346298208, 7.53259583410659, \n . 7.69025357189215, 7.97119815335185, 9.05207158610668, 8.3868945385047, \n . 7.47930478052606, 8.02122185206219, 8.64522989862039, 9.33488082409197, \n . 7.79358710735949, 7.28971878744304, 6.89492567037528, 6.62872536767062, \n . 6.50691939399898, 6.53758365147246, 6.71863081289633, 7.03846574190711, \n . 4.14004830889689, 3.39705755029261, 2.81780056072107, 2.51793566240283, \n . 2.59615099714943, 3.0232432915662, 4.81040538832228, 4.18807831827438, \n . 3.73363094051889, 3.51283361405006, 3.56931365951495, 3.89101529166874, \n . 5.58032257132148, 5.05371150739731, 4.68401537145215, 4.50998891351187, \n . 4.55411901469428, 4.81040538832228, 6.41404708432983, 5.96154342431555, \n . 5.65154846037792, 5.50817574156816, 5.54436651025164, 5.7567351858497, \n . 7.28971878744304, 6.53758365147246, 6.71863081289633, 8.1939001702486, \n . 7.53259583410659, 7.69025357189215, 9.11811384004389, 8.52877482408816, \n . 8.66833317310773, 10.0568384694197, 9.52575456328789, 9.65090669315583, \n . 11.0063617967065, 10.523307464861, 10.6367288204598, 11.96411300515, \n . 11.5212846505934, 11.6249731182485, 8.36301381082203, 7.63806258157132, \n . 6.62872536767062, 7.23463889907437, 7.92085853932514, 8.66833317310773, \n . 6.98140387028282, 6.41404708432983, 5.96154342431555, 5.65154846037792, \n . 5.50817574156816, 5.54436651025164, 5.7567351858497, 6.12698947281616, \n . 12.9282636111738, 12.5195846576474, 12.6150703525585, 13.8974817862806, \n . 13.6945244532258, 13.5624481565829, 13.5033329219123, 13.5181359661752, \n . 13.6066160377957, 14.8707767113894, 14.681280598095, 14.5581592242976, \n . 14.50310311623, 14.5168867185771, 14.5993150524263, 15.8473972626422, \n . 15.6697160152952, 15.5544205935162, 15.5029029539632, 15.5157984003402, \n . 15.5929471236197, 16.8267643948562, 16.6595318061463, 16.5511328917389, \n . 16.5027270473701, 16.5148418097177, 16.5873445734994, 17.8084249724674, \n . 17.6504957437461, 17.5139944044755, 17.5823775411632, 18.792019582791, \n . 18.6424247349963, 18.545619428857, 18.5024322725419, 18.513238506539, \n . 18.5779439120695, 19.7772596686194, 19.5125600575629, 19.5739622968882, \n . 20.7639109996166, 20.5119477378429, 20.5703670361032, 21.7517815362328, \n . 21.5113923305768, 21.5671045808194, 5.58032257132148, 4.55411901469428, \n . 4.81040538832228, 22.7407123898967, 22.510886255321, 22.5641308274881, \n . 23.7305710002941, 23.5104232203506, 23.5614091259415, 24.7212459232944, \n . 24.6077223651438, 24.534465553584, 24.5018366658502, 24.5099979600162, \n . 24.558908770546, 25.7126428046593, 25.6035153836343, 25.5096060338062, \n . 25.5566038432339, 4.81040538832228, 3.56931365951495, 3.89101529166874, \n . 4.14004830889689, 2.59615099714943, 3.0232432915662, 3.62491379207837, \n . 1.65529453572468, 2.26715680975093, 3.33766385365573, 0.860232526704263, \n . 1.77200451466694, 3.33766385365573, 0.860232526704263, 1.77200451466694, \n . 3.62491379207837, 2.7459060435492, 1.65529453572468, 2.26715680975093, \n . 9.7948966303887, 9.18368117913509, 8.36301381082203, 8.85098864534353, \n . 9.42019108086455, 10.0568384694197, 8.64522989862039, 8.1939001702486, \n . 7.84474346298208, 7.53259583410659, 7.69025357189215, 7.97119815335185, \n . 9.05207158610668, 8.3868945385047, 7.47930478052606, 8.02122185206219, \n . 8.64522989862039, 9.33488082409197, 7.79358710735949, 7.28971878744304, \n . 6.89492567037528, 6.62872536767062, 6.50691939399898, 6.53758365147246, \n . 6.71863081289633, 7.03846574190711, 4.14004830889689, 3.39705755029261, \n . 2.81780056072107, 2.51793566240283, 2.59615099714943, 3.0232432915662, \n . 4.81040538832228, 4.18807831827438, 3.73363094051889, 3.51283361405006, \n . 3.56931365951495, 3.89101529166874, 5.58032257132148, 5.05371150739731, \n . 4.68401537145215, 4.50998891351187, 4.55411901469428, 4.81040538832228, \n . 6.41404708432983, 5.96154342431555, 5.65154846037792, 5.50817574156816, \n . 5.54436651025164, 5.7567351858497, 7.28971878744304, 6.53758365147246, \n . 6.71863081289633, 8.1939001702486, 7.53259583410659, 7.69025357189215, \n . 9.11811384004389, 8.52877482408816, 8.66833317310773, 10.0568384694197, \n . 9.52575456328789, 9.65090669315583, 11.0063617967065, 10.523307464861, \n . 10.6367288204598, 11.96411300515, 11.5212846505934, 11.6249731182485, \n . 8.36301381082203, 7.63806258157132, 6.62872536767062, 7.23463889907437, \n . 7.92085853932514, 8.66833317310773, 6.98140387028282, 6.41404708432983, \n . 5.96154342431555, 5.65154846037792, 5.50817574156816, 5.54436651025164, \n . 5.7567351858497, 6.12698947281616, 12.9282636111738, 12.5195846576474, \n . 12.6150703525585, 13.8974817862806, 13.6945244532258, 13.5624481565829, \n . 13.5033329219123, 13.5181359661752, 13.6066160377957, 14.8707767113894, \n . 14.681280598095, 14.5581592242976, 14.50310311623, 14.5168867185771, \n . 14.5993150524263, 15.8473972626422, 15.6697160152952, 15.5544205935162, \n . 15.5029029539632, 15.5157984003402, 15.5929471236197, 16.8267643948562, \n . 16.6595318061463, 16.5511328917389, 16.5027270473701, 16.5148418097177, \n . 16.5873445734994, 17.8084249724674, 17.6504957437461, 17.5139944044755, \n . 17.5823775411632, 18.792019582791, 18.6424247349963, 18.545619428857, \n . 18.5024322725419, 18.513238506539, 18.5779439120695, 19.7772596686194, \n . 19.5125600575629, 19.5739622968882, 20.7639109996166, 20.5119477378429, \n . 20.5703670361032, 21.7517815362328, 21.5113923305768, 21.5671045808194, \n . 5.58032257132148, 4.55411901469428, 4.81040538832228, 22.7407123898967, \n . 22.510886255321, 22.5641308274881, 23.7305710002941, 23.5104232203506, \n . 23.5614091259415, 24.7212459232944, 24.6077223651438, 24.534465553584, \n . 24.5018366658502, 24.5099979600162, 24.558908770546, 25.7126428046593, \n . 25.6035153836343, 25.5096060338062, 25.5566038432339, 4.81040538832228, \n . 3.56931365951495, 3.89101529166874, 4.14004830889689, 2.59615099714943, \n . 3.0232432915662, 3.62491379207837, 1.65529453572468, 2.26715680975093, \n . 3.33766385365573, 0.860232526704263, 1.77200451466694, 3.33766385365573, \n . 0.860232526704263, 1.77200451466694, 3.62491379207837, 2.7459060435492, \n . 1.65529453572468, 2.26715680975093, 9.7948966303887, 9.18368117913509, \n . 8.36301381082203, 8.85098864534353, 9.42019108086455, 10.0568384694197, \n . 8.64522989862039, 8.1939001702486, 7.84474346298208, 7.53259583410659, \n . 7.69025357189215, 7.97119815335185, 9.05207158610668, 8.3868945385047, \n . 7.47930478052606, 8.02122185206219, 8.64522989862039, 9.33488082409197, \n . 7.79358710735949, 7.28971878744304, 6.89492567037528, 6.62872536767062, \n . 6.50691939399898, 6.53758365147246, 6.71863081289633, 7.03846574190711, \n . 4.14004830889689, 3.39705755029261, 2.81780056072107, 2.51793566240283, \n . 2.59615099714943, 3.0232432915662, 4.81040538832228, 4.18807831827438, \n . 3.73363094051889, 3.51283361405006, 3.56931365951495, 3.89101529166874, \n . 5.58032257132148, 5.05371150739731, 4.68401537145215, 4.50998891351187, \n . 4.55411901469428, 4.81040538832228, 6.41404708432983, 5.96154342431555, \n . 5.65154846037792, 5.50817574156816, 5.54436651025164, 5.7567351858497, \n . 7.28971878744304, 6.53758365147246, 6.71863081289633, 8.1939001702486, \n . 7.53259583410659, 7.69025357189215, 9.11811384004389, 8.52877482408816, \n . 8.66833317310773, 10.0568384694197, 9.52575456328789, 9.65090669315583, \n . 11.0063617967065, 10.523307464861, 10.6367288204598, 11.96411300515, \n . 11.5212846505934, 11.6249731182485, 8.36301381082203, 7.63806258157132, \n . 6.62872536767062, 7.23463889907437, 7.92085853932514, 8.66833317310773, \n . 6.98140387028282, 6.41404708432983, 5.96154342431555, 5.65154846037792, \n . 5.50817574156816, 5.54436651025164, 5.7567351858497, 6.12698947281616, \n . 12.9282636111738, 12.5195846576474, 12.6150703525585, 13.8974817862806, \n . 13.6945244532258, 13.5624481565829, 13.5033329219123, 13.5181359661752, \n . 13.6066160377957, 14.8707767113894, 14.681280598095, 14.5581592242976, \n . 14.50310311623, 14.5168867185771, 14.5993150524263, 15.8473972626422, \n . 15.6697160152952, 15.5544205935162, 15.5029029539632, 15.5157984003402, \n . 15.5929471236197, 16.8267643948562, 16.6595318061463, 16.5511328917389, \n . 16.5027270473701, 16.5148418097177, 16.5873445734994, 17.8084249724674, \n . 17.6504957437461, 17.5139944044755, 17.5823775411632, 18.792019582791, \n . 18.6424247349963, 18.545619428857, 18.5024322725419, 18.513238506539, \n . 18.5779439120695, 19.7772596686194, 19.5125600575629, 19.5739622968882, \n . 20.7639109996166, 20.5119477378429, 20.5703670361032, 21.7517815362328, \n . 21.5113923305768, 21.5671045808194, 5.58032257132148, 4.55411901469428, \n . 4.81040538832228, 22.7407123898967, 22.510886255321, 22.5641308274881, \n . 23.7305710002941, 23.5104232203506, 23.5614091259415, 24.7212459232944, \n . 24.6077223651438, 24.534465553584, 24.5018366658502, 24.5099979600162, \n . 24.558908770546, 25.7126428046593, 25.6035153836343, 25.5096060338062, \n . 25.5566038432339, 4.81040538832228, 3.56931365951495, 3.89101529166874, \n . 4.14004830889689, 2.59615099714943, 3.0232432915662, 3.62491379207837, \n . 1.65529453572468, 2.26715680975093, 3.33766385365573, 0.860232526704263, \n . 1.77200451466694, 3.33766385365573, 0.860232526704263, 1.77200451466694, \n . 3.62491379207837, 2.7459060435492, 1.65529453572468, 2.26715680975093, \n . 9.7948966303887, 9.18368117913509, 8.36301381082203, 8.85098864534353, \n . 9.42019108086455, 10.0568384694197, 8.64522989862039, 8.1939001702486, \n . 7.84474346298208, 7.53259583410659, 7.69025357189215, 7.97119815335185, \n . 9.05207158610668, 8.3868945385047, 7.47930478052606, 8.02122185206219, \n . 8.64522989862039, 9.33488082409197, 7.79358710735949, 7.28971878744304, \n . 6.89492567037528, 6.62872536767062, 6.50691939399898, 6.53758365147246, \n . 6.71863081289633, 7.03846574190711, 4.14004830889689, 3.39705755029261, \n . 2.81780056072107, 2.51793566240283, 2.59615099714943, 3.0232432915662, \n . 4.81040538832228, 4.18807831827438, 3.73363094051889, 3.51283361405006, \n . 3.56931365951495, 3.89101529166874, 5.58032257132148, 5.05371150739731, \n . 4.68401537145215, 4.50998891351187, 4.55411901469428, 4.81040538832228, \n . 6.41404708432983, 5.96154342431555, 5.65154846037792, 5.50817574156816, \n . 5.54436651025164, 5.7567351858497, 7.28971878744304, 6.53758365147246, \n . 6.71863081289633, 8.1939001702486, 7.53259583410659, 7.69025357189215, \n . 9.11811384004389, 8.52877482408816, 8.66833317310773, 10.0568384694197, \n . 9.52575456328789, 9.65090669315583, 11.0063617967065, 10.523307464861, \n . 10.6367288204598, 11.96411300515, 11.5212846505934, 11.6249731182485, \n . 8.36301381082203, 7.63806258157132, 6.62872536767062, 7.23463889907437, \n . 7.92085853932514, 8.66833317310773, 6.98140387028282, 6.41404708432983, \n . 5.96154342431555, 5.65154846037792, 5.50817574156816, 5.54436651025164, \n . 5.7567351858497, 6.12698947281616, 12.9282636111738, 12.5195846576474, \n . 12.6150703525585, 13.8974817862806, 13.6945244532258, 13.5624481565829, \n . 13.5033329219123, 13.5181359661752, 13.6066160377957, 14.8707767113894, \n . 14.681280598095, 14.5581592242976, 14.50310311623, 14.5168867185771, \n . 14.5993150524263, 15.8473972626422, 15.6697160152952, 15.5544205935162, \n . 15.5029029539632, 15.5157984003402, 15.5929471236197, 16.8267643948562, \n . 16.6595318061463, 16.5511328917389, 16.5027270473701, 16.5148418097177, \n . 16.5873445734994, 17.8084249724674, 17.6504957437461, 17.5139944044755, \n . 17.5823775411632, 18.792019582791, 18.6424247349963, 18.545619428857, \n . 18.5024322725419, 18.513238506539, 18.5779439120695, 19.7772596686194, \n . 19.5125600575629, 19.5739622968882, 20.7639109996166, 20.5119477378429, \n . 20.5703670361032, 21.7517815362328, 21.5113923305768, 21.5671045808194, \n . 5.58032257132148, 4.55411901469428, 4.81040538832228, 22.7407123898967, \n . 22.510886255321, 22.5641308274881, 23.7305710002941, 23.5104232203506, \n . 23.5614091259415, 24.7212459232944, 24.6077223651438, 24.534465553584, \n . 24.5018366658502, 24.5099979600162, 24.558908770546, 25.7126428046593, \n . 25.6035153836343, 25.5096060338062, 25.5566038432339, 4.81040538832228, \n . 3.56931365951495, 3.89101529166874, 4.14004830889689, 2.59615099714943, \n . 3.0232432915662, 3.62491379207837, 1.65529453572468, 2.26715680975093, \n . 3.33766385365573, 0.860232526704263, 1.77200451466694, 3.33766385365573, \n . 0.860232526704263, 1.77200451466694, 3.62491379207837, 2.7459060435492, \n . 1.65529453572468, 2.26715680975093, 9.7948966303887, 9.18368117913509, \n . 8.36301381082203, 8.85098864534353, 9.42019108086455, 10.0568384694197, \n . 8.64522989862039, 8.1939001702486, 7.84474346298208, 7.53259583410659, \n . 7.69025357189215, 7.97119815335185, 9.05207158610668, 8.3868945385047, \n . 7.47930478052606, 8.02122185206219, 8.64522989862039, 9.33488082409197, \n . 7.79358710735949, 7.28971878744304, 6.89492567037528, 6.62872536767062, \n . 6.50691939399898, 6.53758365147246, 6.71863081289633, 7.03846574190711, \n . 4.14004830889689, 3.39705755029261, 2.81780056072107, 2.51793566240283, \n . 2.59615099714943, 3.0232432915662, 4.81040538832228, 4.18807831827438, \n . 3.73363094051889, 3.51283361405006, 3.56931365951495, 3.89101529166874, \n . 5.58032257132148, 5.05371150739731, 4.68401537145215, 4.50998891351187, \n . 4.55411901469428, 4.81040538832228, 6.41404708432983, 5.96154342431555, \n . 5.65154846037792, 5.50817574156816, 5.54436651025164, 5.7567351858497, \n . 7.28971878744304, 6.53758365147246, 6.71863081289633, 8.1939001702486, \n . 7.53259583410659, 7.69025357189215, 9.11811384004389, 8.52877482408816, \n . 8.66833317310773, 10.0568384694197, 9.52575456328789, 9.65090669315583, \n . 11.0063617967065, 10.523307464861, 10.6367288204598, 11.96411300515, \n . 11.5212846505934, 11.6249731182485, 8.36301381082203, 7.63806258157132, \n . 6.62872536767062, 7.23463889907437, 7.92085853932514, 8.66833317310773, \n . 6.98140387028282, 6.41404708432983, 5.96154342431555, 5.65154846037792, \n . 5.50817574156816, 5.54436651025164, 5.7567351858497, 6.12698947281616, \n . 12.9282636111738, 12.5195846576474, 12.6150703525585, 13.8974817862806, \n . 13.6945244532258, 13.5624481565829, 13.5033329219123, 13.5181359661752, \n . 13.6066160377957, 14.8707767113894, 14.681280598095, 14.5581592242976, \n . 14.50310311623, 14.5168867185771, 14.5993150524263, 15.8473972626422, \n . 15.6697160152952, 15.5544205935162, 15.5029029539632, 15.5157984003402, \n . 15.5929471236197, 16.8267643948562, 16.6595318061463, 16.5511328917389, \n . 16.5027270473701, 16.5148418097177, 16.5873445734994, 17.8084249724674, \n . 17.6504957437461, 17.5139944044755, 17.5823775411632, 18.792019582791, \n . 18.6424247349963, 18.545619428857, 18.5024322725419, 18.513238506539, \n . 18.5779439120695, 19.7772596686194, 19.5125600575629, 19.5739622968882, \n . 20.7639109996166, 20.5119477378429, 20.5703670361032, 21.7517815362328, \n . 21.5113923305768, 21.5671045808194, 5.58032257132148, 4.55411901469428, \n . 4.81040538832228, 22.7407123898967, 22.510886255321, 22.5641308274881, \n . 23.7305710002941, 23.5104232203506, 23.5614091259415, 24.7212459232944, \n . 24.6077223651438, 24.534465553584, 24.5018366658502, 24.5099979600162, \n . 24.558908770546, 25.7126428046593, 25.6035153836343, 25.5096060338062, \n . 25.5566038432339, 4.81040538832228, 3.56931365951495, 3.89101529166874, \n . 4.14004830889689, 2.59615099714943, 3.0232432915662, 3.62491379207837, \n . 1.65529453572468, 2.26715680975093, 3.33766385365573, 0.860232526704263, \n . 1.77200451466694, 3.33766385365573, 0.860232526704263, 1.77200451466694, \n . 3.62491379207837, 2.7459060435492, 1.65529453572468, 2.26715680975093, \n . 9.7948966303887, 9.18368117913509, 8.36301381082203, 8.85098864534353, \n . 9.42019108086455, 10.0568384694197, 8.64522989862039, 8.1939001702486, \n . 7.84474346298208, 7.53259583410659, 7.69025357189215, 7.97119815335185, \n . 9.05207158610668, 8.3868945385047, 7.47930478052606, 8.02122185206219, \n . 8.64522989862039, 9.33488082409197, 7.79358710735949, 7.28971878744304, \n . 6.89492567037528, 6.62872536767062, 6.50691939399898, 6.53758365147246, \n . 6.71863081289633, 7.03846574190711, 4.14004830889689, 3.39705755029261, \n . 2.81780056072107, 2.51793566240283, 2.59615099714943, 3.0232432915662, \n . 4.81040538832228, 4.18807831827438, 3.73363094051889, 3.51283361405006, \n . 3.56931365951495, 3.89101529166874, 5.58032257132148, 5.05371150739731, \n . 4.68401537145215, 4.50998891351187, 4.55411901469428, 4.81040538832228, \n . 6.41404708432983, 5.96154342431555, 5.65154846037792, 5.50817574156816, \n . 5.54436651025164, 5.7567351858497, 7.28971878744304, 6.53758365147246, \n . 6.71863081289633, 8.1939001702486, 7.53259583410659, 7.69025357189215, \n . 9.11811384004389, 8.52877482408816, 8.66833317310773, 10.0568384694197, \n . 9.52575456328789, 9.65090669315583, 11.0063617967065, 10.523307464861, \n . 10.6367288204598, 11.96411300515, 11.5212846505934, 11.6249731182485, \n . 8.36301381082203, 7.63806258157132, 6.62872536767062, 7.23463889907437, \n . 7.92085853932514, 8.66833317310773, 6.98140387028282, 6.41404708432983, \n . 5.96154342431555, 5.65154846037792, 5.50817574156816, 5.54436651025164, \n . 5.7567351858497, 6.12698947281616, 12.9282636111738, 12.5195846576474, \n . 12.6150703525585, 13.8974817862806, 13.6945244532258, 13.5624481565829, \n . 13.5033329219123, 13.5181359661752, 13.6066160377957, 14.8707767113894, \n . 14.681280598095, 14.5581592242976, 14.50310311623, 14.5168867185771, \n . 14.5993150524263, 15.8473972626422, 15.6697160152952, 15.5544205935162, \n . 15.5029029539632, 15.5157984003402, 15.5929471236197, 16.8267643948562, \n . 16.6595318061463, 16.5511328917389, 16.5027270473701, 16.5148418097177, \n . 16.5873445734994, 17.8084249724674, 17.6504957437461, 17.5139944044755, \n . 17.5823775411632, 18.792019582791, 18.6424247349963, 18.545619428857, \n . 18.5024322725419, 18.513238506539, 18.5779439120695, 19.7772596686194, \n . 19.5125600575629, 19.5739622968882, 20.7639109996166, 20.5119477378429, \n . 20.5703670361032, 21.7517815362328, 21.5113923305768, 21.5671045808194, \n . 5.58032257132148, 4.55411901469428, 4.81040538832228, 22.7407123898967, \n . 22.510886255321, 22.5641308274881, 23.7305710002941, 23.5104232203506, \n . 23.5614091259415, 24.7212459232944, 24.6077223651438, 24.534465553584, \n . 24.5018366658502, 24.5099979600162, 24.558908770546, 25.7126428046593, \n . 25.6035153836343, 25.5096060338062, 25.5566038432339, 4.81040538832228, \n . 3.56931365951495, 3.89101529166874, 4.14004830889689, 2.59615099714943, \n . 3.0232432915662, 3.62491379207837, 1.65529453572468, 2.26715680975093, \n . 3.33766385365573, 0.860232526704263, 1.77200451466694, 3.33766385365573, \n . 0.860232526704263, 1.77200451466694, 3.62491379207837, 2.7459060435492, \n . 1.65529453572468, 2.26715680975093, 9.7948966303887, 9.18368117913509, \n . 8.36301381082203, 8.85098864534353, 9.42019108086455, 10.0568384694197, \n . 8.64522989862039, 8.1939001702486, 7.84474346298208, 7.53259583410659, \n . 7.69025357189215, 7.97119815335185, 9.05207158610668, 8.3868945385047, \n . 7.47930478052606, 8.02122185206219, 8.64522989862039, 9.33488082409197, \n . 7.79358710735949, 7.28971878744304, 6.89492567037528, 6.62872536767062, \n . 6.50691939399898, 6.53758365147246, 6.71863081289633, 7.03846574190711, \n . 4.14004830889689, 3.39705755029261, 2.81780056072107, 2.51793566240283, \n . 2.59615099714943, 3.0232432915662, 4.81040538832228, 4.18807831827438, \n . 3.73363094051889, 3.51283361405006, 3.56931365951495, 3.89101529166874, \n . 5.58032257132148, 5.05371150739731, 4.68401537145215, 4.50998891351187, \n . 4.55411901469428, 4.81040538832228, 6.41404708432983, 5.96154342431555, \n . 5.65154846037792, 5.50817574156816, 5.54436651025164, 5.7567351858497, \n . 7.28971878744304, 6.53758365147246, 6.71863081289633, 8.1939001702486, \n . 7.53259583410659, 7.69025357189215, 9.11811384004389, 8.52877482408816, \n . 8.66833317310773, 10.0568384694197, 9.52575456328789, 9.65090669315583, \n . 11.0063617967065, 10.523307464861, 10.6367288204598, 11.96411300515, \n . 11.5212846505934, 11.6249731182485, 8.36301381082203, 7.63806258157132, \n . 6.62872536767062, 7.23463889907437, 7.92085853932514, 8.66833317310773, \n . 6.98140387028282, 6.41404708432983, 5.96154342431555, 5.65154846037792, \n . 5.50817574156816, 5.54436651025164, 5.7567351858497, 6.12698947281616, \n . 12.9282636111738, 12.5195846576474, 12.6150703525585, 13.8974817862806, \n . 13.6945244532258, 13.5624481565829, 13.5033329219123, 13.5181359661752, \n . 13.6066160377957, 14.8707767113894, 14.681280598095, 14.5581592242976, \n . 14.50310311623, 14.5168867185771, 14.5993150524263, 15.8473972626422, \n . 15.6697160152952, 15.5544205935162, 15.5029029539632, 15.5157984003402, \n . 15.5929471236197, 16.8267643948562, 16.6595318061463, 16.5511328917389, \n . 16.5027270473701, 16.5148418097177, 16.5873445734994, 17.8084249724674, \n . 17.6504957437461, 17.5139944044755, 17.5823775411632, 18.792019582791, \n . 18.6424247349963, 18.545619428857, 18.5024322725419, 18.513238506539, \n . 18.5779439120695, 19.7772596686194, 19.5125600575629, 19.5739622968882, \n . 20.7639109996166, 20.5119477378429, 20.5703670361032, 21.7517815362328, \n . 21.5113923305768, 21.5671045808194, 5.58032257132148, 4.55411901469428, \n . 4.81040538832228, 22.7407123898967, 22.510886255321, 22.5641308274881, \n . 23.7305710002941, 23.5104232203506, 23.5614091259415, 24.7212459232944, \n . 24.6077223651438, 24.534465553584, 24.5018366658502, 24.5099979600162, \n . 24.558908770546, 25.7126428046593, 25.6035153836343, 25.5096060338062, \n . 25.5566038432339, 4.81040538832228, 3.56931365951495, 3.89101529166874, \n . 4.14004830889689, 2.59615099714943, 3.0232432915662, 3.62491379207837, \n . 1.65529453572468, 2.26715680975093, 3.33766385365573, 0.860232526704263, \n . 1.77200451466694, 3.33766385365573, 0.860232526704263, 1.77200451466694, \n . 3.62491379207837, 2.7459060435492, 1.65529453572468, 2.26715680975093, \n . 9.7948966303887, 9.18368117913509, 8.36301381082203, 8.85098864534353, \n . 9.42019108086455, 10.0568384694197, 8.64522989862039, 8.1939001702486, \n . 7.84474346298208, 7.53259583410659, 7.69025357189215, 7.97119815335185, \n . 9.05207158610668, 8.3868945385047, 7.47930478052606, 8.02122185206219, \n . 8.64522989862039, 9.33488082409197, 7.79358710735949, 7.28971878744304, \n . 6.89492567037528, 6.62872536767062, 6.50691939399898, 6.53758365147246, \n . 6.71863081289633, 7.03846574190711, 4.14004830889689, 3.39705755029261, \n . 2.81780056072107, 2.51793566240283, 2.59615099714943, 3.0232432915662, \n . 4.81040538832228, 4.18807831827438, 3.73363094051889, 3.51283361405006, \n . 3.56931365951495, 3.89101529166874, 5.58032257132148, 5.05371150739731, \n . 4.68401537145215, 4.50998891351187, 4.55411901469428, 4.81040538832228, \n . 6.41404708432983, 5.96154342431555, 5.65154846037792, 5.50817574156816, \n . 5.54436651025164, 5.7567351858497, 7.28971878744304, 6.53758365147246, \n . 6.71863081289633, 8.1939001702486, 7.53259583410659, 7.69025357189215, \n . 9.11811384004389, 8.52877482408816, 8.66833317310773, 10.0568384694197, \n . 9.52575456328789, 9.65090669315583, 11.0063617967065, 10.523307464861, \n . 10.6367288204598, 11.96411300515, 11.5212846505934, 11.6249731182485, \n . 8.36301381082203, 7.63806258157132, 6.62872536767062, 7.23463889907437, \n . 7.92085853932514, 8.66833317310773, 6.98140387028282, 6.41404708432983, \n . 5.96154342431555, 5.65154846037792, 5.50817574156816, 5.54436651025164, \n . 5.7567351858497, 6.12698947281616, 12.9282636111738, 12.5195846576474, \n . 12.6150703525585, 13.8974817862806, 13.6945244532258, 13.5624481565829, \n . 13.5033329219123, 13.5181359661752, 13.6066160377957, 14.8707767113894, \n . 14.681280598095, 14.5581592242976, 14.50310311623, 14.5168867185771, \n . 14.5993150524263, 15.8473972626422, 15.6697160152952, 15.5544205935162, \n . 15.5029029539632, 15.5157984003402, 15.5929471236197, 16.8267643948562, \n . 16.6595318061463, 16.5511328917389, 16.5027270473701, 16.5148418097177, \n . 16.5873445734994, 17.8084249724674, 17.6504957437461, 17.5139944044755, \n . 17.5823775411632, 18.792019582791, 18.6424247349963, 18.545619428857, \n . 18.5024322725419, 18.513238506539, 18.5779439120695, 19.7772596686194, \n . 19.5125600575629, 19.5739622968882, 20.7639109996166, 20.5119477378429, \n . 20.5703670361032, 21.7517815362328, 21.5113923305768, 21.5671045808194, \n . 5.58032257132148, 4.55411901469428, 4.81040538832228, 22.7407123898967, \n . 22.510886255321, 22.5641308274881, 23.7305710002941, 23.5104232203506, \n . 23.5614091259415, 24.7212459232944, 24.6077223651438, 24.534465553584, \n . 24.5018366658502, 24.5099979600162, 24.558908770546, 25.7126428046593, \n . 25.6035153836343, 25.5096060338062, 25.5566038432339, 4.81040538832228, \n . 3.56931365951495, 3.89101529166874, 4.14004830889689, 2.59615099714943, \n . 3.0232432915662, 3.62491379207837, 1.65529453572468, 2.26715680975093, \n . 3.33766385365573, 0.860232526704263, 1.77200451466694, 3.33766385365573, \n . 0.860232526704263, 1.77200451466694, 3.62491379207837, 2.7459060435492, \n . 1.65529453572468, 2.26715680975093, 13.1026714833274, 13.3521533843796, \n . 18.1019335983756, 18.8223271674891, 19.567319693816, 20.3342076314766, \n . 13.6704059925081, 14.0527577364729, 14.4941367455948, 16.1207940251093, \n . 16.7475371323667, 17.4091929738285, 12.1276543486364, 12.3967737738494, \n . 17.4091929738285, 18.1570922782256, 18.9282857121293, 19.7200405679096, \n . 12.7389167514353, 13.1483839311149, 13.6191042289866, 14.1449637680695, \n . 14.7200543477258, 15.3388395910512, 15.9962495604438, 16.6877200360025, \n . 6.44049687524185, 7.35391052434009, 8.28733974204027, 9.23471710449216, \n . 10.1921538449927, 11.1570605447851, 6.07289058027559, 7.03420215802759, \n . 8.0049984384758, 8.98220462915425, 9.96393496566492, 10.9489725545368, \n . 5.85491246732178, 6.84689710744948, 7.84091831356506, 8.83628881374981, \n . 9.83259884262548, 10.8295890965447, 5.80344725141876, 6.80294054067798, \n . 7.80256368125246, 8.80227243386616, 9.80204060387428, 10.8018516931126, \n . 5.92283715798434, 9.87319603775799, 10.8664621657649, 6.20322496770833, \n . 10.0439036235918, 11.0217965867639, 6.62419806467168, 10.3092191750879, \n . 11.264102272263, 7.16100551598726, 10.6620823482095, 11.5879247494968, \n . 7.78973683766018, 11.0941425986869, 11.9866592510174, 8.48999411071645, \n . 11.5965512114594, 12.4531120608465, 11.1570605447851, 11.4490174250894, \n . 16.7475371323667, 17.5236982398123, 18.3215719849581, 19.1384429878713, \n . 11.8186293621553, 12.2588743365776, 12.7624449068351, 13.3221619867047, \n . 13.9312598138144, 14.5835523793073, 15.2735064736294, 15.9962495604438, \n . 9.24553946506098, 12.1605920908482, 12.9799845916704, 10.0439036235918, \n . 10.6526991884686, 11.3172434806361, 12.0282999630039, 12.7781062759706, \n . 13.5602359861471, 10.875660899458, 11.4402797168601, 12.0615090266517, \n . 12.7310643702716, 13.4417260796372, 14.1873182807746, 11.7337121150981, \n . 12.2588743365776, 12.8405607354196, 13.4714512952391, 14.1449637680695, \n . 14.8553020837679, 12.612692020342, 13.1026714833274, 13.6484431346583, \n . 14.2435950518119, 14.8822041378285, 15.5589202710214, 13.5085158326146, \n . 13.9671042095346, 15.6486421136148, 16.2935570088302, 14.4180442501748, \n . 14.8485689546165, 15.3323188070168, 15.8644256120416, 16.4401946460497, \n . 17.0552044842623, 15.3388395910512, 17.2534054609518, 17.8404035828789, \n . 16.2689889052762, 18.0853531898053, 18.6461792332907, 17.20697532979, \n . 18.9335680736622, 19.4699768875055, 11.3877126763894, 13.8592929112563, \n . 14.5835523793073, 18.1515839529227, 19.7959591836314, 20.3096036396578, \n . 19.101832372838, 20.6707522843268, 21.1631755651178, 20.0569190056698, \n . 20.3686032903584, 20.7238992470047, 21.1206060519105, 21.5564375535477, \n . 22.029071700823, 21.016184239771, 21.3138452654607, 22.451725991558, \n . 22.9058944378952, 10.5394497010043, 13.1711806608216, 13.9312598138144, \n . 9.72008230417829, 12.5251746494809, 13.3221619867047, 8.93756118860173, \n . 11.9281180409988, 12.7624449068351, 8.20243866176395, 11.3877126763894, \n . 12.2588743365776, 7.52861208988748, 10.912378292563, 11.8186293621553, \n . 6.93397432934389, 7.78973683766018, 10.5109466747767, 11.4490174250894, \n . 13.1026714833274, 13.3521533843796, 18.1019335983756, 18.8223271674891, \n . 19.567319693816, 20.3342076314766, 13.6704059925081, 14.0527577364729, \n . 14.4941367455948, 16.1207940251093, 16.7475371323667, 17.4091929738285, \n . 12.1276543486364, 12.3967737738494, 17.4091929738285, 18.1570922782256, \n . 18.9282857121293, 19.7200405679096, 12.7389167514353, 13.1483839311149, \n . 13.6191042289866, 14.1449637680695, 14.7200543477258, 15.3388395910512, \n . 15.9962495604438, 16.6877200360025, 6.44049687524185, 7.35391052434009, \n . 8.28733974204027, 9.23471710449216, 10.1921538449927, 11.1570605447851, \n . 6.07289058027559, 7.03420215802759, 8.0049984384758, 8.98220462915425, \n . 9.96393496566492, 10.9489725545368, 5.85491246732178, 6.84689710744948, \n . 7.84091831356506, 8.83628881374981, 9.83259884262548, 10.8295890965447, \n . 5.80344725141876, 6.80294054067798, 7.80256368125246, 8.80227243386616, \n . 9.80204060387428, 10.8018516931126, 5.92283715798434, 9.87319603775799, \n . 10.8664621657649, 6.20322496770833, 10.0439036235918, 11.0217965867639, \n . 6.62419806467168, 10.3092191750879, 11.264102272263, 7.16100551598726, \n . 10.6620823482095, 11.5879247494968, 7.78973683766018, 11.0941425986869, \n . 11.9866592510174, 8.48999411071645, 11.5965512114594, 12.4531120608465, \n . 11.1570605447851, 11.4490174250894, 16.7475371323667, 17.5236982398123, \n . 18.3215719849581, 19.1384429878713, 11.8186293621553, 12.2588743365776, \n . 12.7624449068351, 13.3221619867047, 13.9312598138144, 14.5835523793073, \n . 15.2735064736294, 15.9962495604438, 9.24553946506098, 12.1605920908482, \n . 12.9799845916704, 10.0439036235918, 10.6526991884686, 11.3172434806361, \n . 12.0282999630039, 12.7781062759706, 13.5602359861471, 10.875660899458, \n . 11.4402797168601, 12.0615090266517, 12.7310643702716, 13.4417260796372, \n . 14.1873182807746, 11.7337121150981, 12.2588743365776, 12.8405607354196, \n . 13.4714512952391, 14.1449637680695, 14.8553020837679, 12.612692020342, \n . 13.1026714833274, 13.6484431346583, 14.2435950518119, 14.8822041378285, \n . 15.5589202710214, 13.5085158326146, 13.9671042095346, 15.6486421136148, \n . 16.2935570088302, 14.4180442501748, 14.8485689546165, 15.3323188070168, \n . 15.8644256120416, 16.4401946460497, 17.0552044842623, 15.3388395910512, \n . 17.2534054609518, 17.8404035828789, 16.2689889052762, 18.0853531898053, \n . 18.6461792332907, 17.20697532979, 18.9335680736622, 19.4699768875055, \n . 11.3877126763894, 13.8592929112563, 14.5835523793073, 18.1515839529227, \n . 19.7959591836314, 20.3096036396578, 19.101832372838, 20.6707522843268, \n . 21.1631755651178, 20.0569190056698, 20.3686032903584, 20.7238992470047, \n . 21.1206060519105, 21.5564375535477, 22.029071700823, 21.016184239771, \n . 21.3138452654607, 22.451725991558, 22.9058944378952, 10.5394497010043, \n . 13.1711806608216, 13.9312598138144, 9.72008230417829, 12.5251746494809, \n . 13.3221619867047, 8.93756118860173, 11.9281180409988, 12.7624449068351, \n . 8.20243866176395, 11.3877126763894, 12.2588743365776, 7.52861208988748, \n . 10.912378292563, 11.8186293621553, 6.93397432934389, 7.78973683766018, \n . 10.5109466747767, 11.4490174250894, 13.1026714833274, 13.3521533843796, \n . 18.1019335983756, 18.8223271674891, 19.567319693816, 20.3342076314766, \n . 13.6704059925081, 14.0527577364729, 14.4941367455948, 16.1207940251093, \n . 16.7475371323667, 17.4091929738285, 12.1276543486364, 12.3967737738494, \n . 17.4091929738285, 18.1570922782256, 18.9282857121293, 19.7200405679096, \n . 12.7389167514353, 13.1483839311149, 13.6191042289866, 14.1449637680695, \n . 14.7200543477258, 15.3388395910512, 15.9962495604438, 16.6877200360025, \n . 6.44049687524185, 7.35391052434009, 8.28733974204027, 9.23471710449216, \n . 10.1921538449927, 11.1570605447851, 6.07289058027559, 7.03420215802759, \n . 8.0049984384758, 8.98220462915425, 9.96393496566492, 10.9489725545368, \n . 5.85491246732178, 6.84689710744948, 7.84091831356506, 8.83628881374981, \n . 9.83259884262548, 10.8295890965447, 5.80344725141876, 6.80294054067798, \n . 7.80256368125246, 8.80227243386616, 9.80204060387428, 10.8018516931126, \n . 5.92283715798434, 9.87319603775799, 10.8664621657649, 6.20322496770833, \n . 10.0439036235918, 11.0217965867639, 6.62419806467168, 10.3092191750879, \n . 11.264102272263, 7.16100551598726, 10.6620823482095, 11.5879247494968, \n . 7.78973683766018, 11.0941425986869, 11.9866592510174, 8.48999411071645, \n . 11.5965512114594, 12.4531120608465, 11.1570605447851, 11.4490174250894, \n . 16.7475371323667, 17.5236982398123, 18.3215719849581, 19.1384429878713, \n . 11.8186293621553, 12.2588743365776, 12.7624449068351, 13.3221619867047, \n . 13.9312598138144, 14.5835523793073, 15.2735064736294, 15.9962495604438, \n . 9.24553946506098, 12.1605920908482, 12.9799845916704, 10.0439036235918, \n . 10.6526991884686, 11.3172434806361, 12.0282999630039, 12.7781062759706, \n . 13.5602359861471, 10.875660899458, 11.4402797168601, 12.0615090266517, \n . 12.7310643702716, 13.4417260796372, 14.1873182807746, 11.7337121150981, \n . 12.2588743365776, 12.8405607354196, 13.4714512952391, 14.1449637680695, \n . 14.8553020837679, 12.612692020342, 13.1026714833274, 13.6484431346583, \n . 14.2435950518119, 14.8822041378285, 15.5589202710214, 13.5085158326146, \n . 13.9671042095346, 15.6486421136148, 16.2935570088302, 14.4180442501748, \n . 14.8485689546165, 15.3323188070168, 15.8644256120416, 16.4401946460497, \n . 17.0552044842623, 15.3388395910512, 17.2534054609518, 17.8404035828789, \n . 16.2689889052762, 18.0853531898053, 18.6461792332907, 17.20697532979, \n . 18.9335680736622, 19.4699768875055, 11.3877126763894, 13.8592929112563, \n . 14.5835523793073, 18.1515839529227, 19.7959591836314, 20.3096036396578, \n . 19.101832372838, 20.6707522843268, 21.1631755651178, 20.0569190056698, \n . 20.3686032903584, 20.7238992470047, 21.1206060519105, 21.5564375535477, \n . 22.029071700823, 21.016184239771, 21.3138452654607, 22.451725991558, \n . 22.9058944378952, 10.5394497010043, 13.1711806608216, 13.9312598138144, \n . 9.72008230417829, 12.5251746494809, 13.3221619867047, 8.93756118860173, \n . 11.9281180409988, 12.7624449068351, 8.20243866176395, 11.3877126763894, \n . 12.2588743365776, 7.52861208988748, 10.912378292563, 11.8186293621553, \n . 6.93397432934389, 7.78973683766018, 10.5109466747767, 11.4490174250894, \n . 13.1026714833274, 13.3521533843796, 18.1019335983756, 18.8223271674891, \n . 19.567319693816, 20.3342076314766, 13.6704059925081, 14.0527577364729, \n . 14.4941367455948, 16.1207940251093, 16.7475371323667, 17.4091929738285, \n . 12.1276543486364, 12.3967737738494, 17.4091929738285, 18.1570922782256, \n . 18.9282857121293, 19.7200405679096, 12.7389167514353, 13.1483839311149, \n . 13.6191042289866, 14.1449637680695, 14.7200543477258, 15.3388395910512, \n . 15.9962495604438, 16.6877200360025, 6.44049687524185, 7.35391052434009, \n . 8.28733974204027, 9.23471710449216, 10.1921538449927, 11.1570605447851, \n . 6.07289058027559, 7.03420215802759, 8.0049984384758, 8.98220462915425, \n . 9.96393496566492, 10.9489725545368, 5.85491246732178, 6.84689710744948, \n . 7.84091831356506, 8.83628881374981, 9.83259884262548, 10.8295890965447, \n . 5.80344725141876, 6.80294054067798, 7.80256368125246, 8.80227243386616, \n . 9.80204060387428, 10.8018516931126, 5.92283715798434, 9.87319603775799, \n . 10.8664621657649, 6.20322496770833, 10.0439036235918, 11.0217965867639, \n . 6.62419806467168, 10.3092191750879, 11.264102272263, 7.16100551598726, \n . 10.6620823482095, 11.5879247494968, 7.78973683766018, 11.0941425986869, \n . 11.9866592510174, 8.48999411071645, 11.5965512114594, 12.4531120608465, \n . 11.1570605447851, 11.4490174250894, 16.7475371323667, 17.5236982398123, \n . 18.3215719849581, 19.1384429878713, 11.8186293621553, 12.2588743365776, \n . 12.7624449068351, 13.3221619867047, 13.9312598138144, 14.5835523793073, \n . 15.2735064736294, 15.9962495604438, 9.24553946506098, 12.1605920908482, \n . 12.9799845916704, 10.0439036235918, 10.6526991884686, 11.3172434806361, \n . 12.0282999630039, 12.7781062759706, 13.5602359861471, 10.875660899458, \n . 11.4402797168601, 12.0615090266517, 12.7310643702716, 13.4417260796372, \n . 14.1873182807746, 11.7337121150981, 12.2588743365776, 12.8405607354196, \n . 13.4714512952391, 14.1449637680695, 14.8553020837679, 12.612692020342, \n . 13.1026714833274, 13.6484431346583, 14.2435950518119, 14.8822041378285, \n . 15.5589202710214, 13.5085158326146, 13.9671042095346, 15.6486421136148, \n . 16.2935570088302, 14.4180442501748, 14.8485689546165, 15.3323188070168, \n . 15.8644256120416, 16.4401946460497, 17.0552044842623, 15.3388395910512, \n . 17.2534054609518, 17.8404035828789, 16.2689889052762, 18.0853531898053, \n . 18.6461792332907, 17.20697532979, 18.9335680736622, 19.4699768875055, \n . 11.3877126763894, 13.8592929112563, 14.5835523793073, 18.1515839529227, \n . 19.7959591836314, 20.3096036396578, 19.101832372838, 20.6707522843268, \n . 21.1631755651178, 20.0569190056698, 20.3686032903584, 20.7238992470047, \n . 21.1206060519105, 21.5564375535477, 22.029071700823, 21.016184239771, \n . 21.3138452654607, 22.451725991558, 22.9058944378952, 10.5394497010043, \n . 13.1711806608216, 13.9312598138144, 9.72008230417829, 12.5251746494809, \n . 13.3221619867047, 8.93756118860173, 11.9281180409988, 12.7624449068351, \n . 8.20243866176395, 11.3877126763894, 12.2588743365776, 7.52861208988748, \n . 10.912378292563, 11.8186293621553, 6.93397432934389, 7.78973683766018, \n . 10.5109466747767, 11.4490174250894, 13.1026714833274, 13.3521533843796, \n . 18.1019335983756, 18.8223271674891, 19.567319693816, 20.3342076314766, \n . 13.6704059925081, 14.0527577364729, 14.4941367455948, 16.1207940251093, \n . 16.7475371323667, 17.4091929738285, 12.1276543486364, 12.3967737738494, \n . 17.4091929738285, 18.1570922782256, 18.9282857121293, 19.7200405679096, \n . 12.7389167514353, 13.1483839311149, 13.6191042289866, 14.1449637680695, \n . 14.7200543477258, 15.3388395910512, 15.9962495604438, 16.6877200360025, \n . 6.44049687524185, 7.35391052434009, 8.28733974204027, 9.23471710449216, \n . 10.1921538449927, 11.1570605447851, 6.07289058027559, 7.03420215802759, \n . 8.0049984384758, 8.98220462915425, 9.96393496566492, 10.9489725545368, \n . 5.85491246732178, 6.84689710744948, 7.84091831356506, 8.83628881374981, \n . 9.83259884262548, 10.8295890965447, 5.80344725141876, 6.80294054067798, \n . 7.80256368125246, 8.80227243386616, 9.80204060387428, 10.8018516931126, \n . 5.92283715798434, 9.87319603775799, 10.8664621657649, 6.20322496770833, \n . 10.0439036235918, 11.0217965867639, 6.62419806467168, 10.3092191750879, \n . 11.264102272263, 7.16100551598726, 10.6620823482095, 11.5879247494968, \n . 7.78973683766018, 11.0941425986869, 11.9866592510174, 8.48999411071645, \n . 11.5965512114594, 12.4531120608465, 11.1570605447851, 11.4490174250894, \n . 16.7475371323667, 17.5236982398123, 18.3215719849581, 19.1384429878713, \n . 11.8186293621553, 12.2588743365776, 12.7624449068351, 13.3221619867047, \n . 13.9312598138144, 14.5835523793073, 15.2735064736294, 15.9962495604438, \n . 9.24553946506098, 12.1605920908482, 12.9799845916704, 10.0439036235918, \n . 10.6526991884686, 11.3172434806361, 12.0282999630039, 12.7781062759706, \n . 13.5602359861471, 10.875660899458, 11.4402797168601, 12.0615090266517, \n . 12.7310643702716, 13.4417260796372, 14.1873182807746, 11.7337121150981, \n . 12.2588743365776, 12.8405607354196, 13.4714512952391, 14.1449637680695, \n . 14.8553020837679, 12.612692020342, 13.1026714833274, 13.6484431346583, \n . 14.2435950518119, 14.8822041378285, 15.5589202710214, 13.5085158326146, \n . 13.9671042095346, 15.6486421136148, 16.2935570088302, 14.4180442501748, \n . 14.8485689546165, 15.3323188070168, 15.8644256120416, 16.4401946460497, \n . 17.0552044842623, 15.3388395910512, 17.2534054609518, 17.8404035828789, \n . 16.2689889052762, 18.0853531898053, 18.6461792332907, 17.20697532979, \n . 18.9335680736622, 19.4699768875055, 11.3877126763894, 13.8592929112563, \n . 14.5835523793073, 18.1515839529227, 19.7959591836314, 20.3096036396578, \n . 19.101832372838, 20.6707522843268, 21.1631755651178, 20.0569190056698, \n . 20.3686032903584, 20.7238992470047, 21.1206060519105, 21.5564375535477, \n . 22.029071700823, 21.016184239771, 21.3138452654607, 22.451725991558, \n . 22.9058944378952, 10.5394497010043, 13.1711806608216, 13.9312598138144, \n . 9.72008230417829, 12.5251746494809, 13.3221619867047, 8.93756118860173, \n . 11.9281180409988, 12.7624449068351, 8.20243866176395, 11.3877126763894, \n . 12.2588743365776, 7.52861208988748, 10.912378292563, 11.8186293621553, \n . 6.93397432934389, 7.78973683766018, 10.5109466747767, 11.4490174250894, \n . 13.1026714833274, 13.3521533843796, 18.1019335983756, 18.8223271674891, \n . 19.567319693816, 20.3342076314766, 13.6704059925081, 14.0527577364729, \n . 14.4941367455948, 16.1207940251093, 16.7475371323667, 17.4091929738285, \n . 12.1276543486364, 12.3967737738494, 17.4091929738285, 18.1570922782256, \n . 18.9282857121293, 19.7200405679096, 12.7389167514353, 13.1483839311149, \n . 13.6191042289866, 14.1449637680695, 14.7200543477258, 15.3388395910512, \n . 15.9962495604438, 16.6877200360025, 6.44049687524185, 7.35391052434009, \n . 8.28733974204027, 9.23471710449216, 10.1921538449927, 11.1570605447851, \n . 6.07289058027559, 7.03420215802759, 8.0049984384758, 8.98220462915425, \n . 9.96393496566492, 10.9489725545368, 5.85491246732178, 6.84689710744948, \n . 7.84091831356506, 8.83628881374981, 9.83259884262548, 10.8295890965447, \n . 5.80344725141876, 6.80294054067798, 7.80256368125246, 8.80227243386616, \n . 9.80204060387428, 10.8018516931126, 5.92283715798434, 9.87319603775799, \n . 10.8664621657649, 6.20322496770833, 10.0439036235918, 11.0217965867639, \n . 6.62419806467168, 10.3092191750879, 11.264102272263, 7.16100551598726, \n . 10.6620823482095, 11.5879247494968, 7.78973683766018, 11.0941425986869, \n . 11.9866592510174, 8.48999411071645, 11.5965512114594, 12.4531120608465, \n . 11.1570605447851, 11.4490174250894, 16.7475371323667, 17.5236982398123, \n . 18.3215719849581, 19.1384429878713, 11.8186293621553, 12.2588743365776, \n . 12.7624449068351, 13.3221619867047, 13.9312598138144, 14.5835523793073, \n . 15.2735064736294, 15.9962495604438, 9.24553946506098, 12.1605920908482, \n . 12.9799845916704, 10.0439036235918, 10.6526991884686, 11.3172434806361, \n . 12.0282999630039, 12.7781062759706, 13.5602359861471, 10.875660899458, \n . 11.4402797168601, 12.0615090266517, 12.7310643702716, 13.4417260796372, \n . 14.1873182807746, 11.7337121150981, 12.2588743365776, 12.8405607354196, \n . 13.4714512952391, 14.1449637680695, 14.8553020837679, 12.612692020342, \n . 13.1026714833274, 13.6484431346583, 14.2435950518119, 14.8822041378285, \n . 15.5589202710214, 13.5085158326146, 13.9671042095346, 15.6486421136148, \n . 16.2935570088302, 14.4180442501748, 14.8485689546165, 15.3323188070168, \n . 15.8644256120416, 16.4401946460497, 17.0552044842623, 15.3388395910512, \n . 17.2534054609518, 17.8404035828789, 16.2689889052762, 18.0853531898053, \n . 18.6461792332907, 17.20697532979, 18.9335680736622, 19.4699768875055, \n . 11.3877126763894, 13.8592929112563, 14.5835523793073, 18.1515839529227, \n . 19.7959591836314, 20.3096036396578, 19.101832372838, 20.6707522843268, \n . 21.1631755651178, 20.0569190056698, 20.3686032903584, 20.7238992470047, \n . 21.1206060519105, 21.5564375535477, 22.029071700823, 21.016184239771, \n . 21.3138452654607, 22.451725991558, 22.9058944378952, 10.5394497010043, \n . 13.1711806608216, 13.9312598138144, 9.72008230417829, 12.5251746494809, \n . 13.3221619867047, 8.93756118860173, 11.9281180409988, 12.7624449068351, \n . 8.20243866176395, 11.3877126763894, 12.2588743365776, 7.52861208988748, \n . 10.912378292563, 11.8186293621553, 6.93397432934389, 7.78973683766018, \n . 10.5109466747767, 11.4490174250894, 13.1026714833274, 13.3521533843796, \n . 18.1019335983756, 18.8223271674891, 19.567319693816, 20.3342076314766, \n . 13.6704059925081, 14.0527577364729, 14.4941367455948, 16.1207940251093, \n . 16.7475371323667, 17.4091929738285, 12.1276543486364, 12.3967737738494, \n . 17.4091929738285, 18.1570922782256, 18.9282857121293, 19.7200405679096, \n . 12.7389167514353, 13.1483839311149, 13.6191042289866, 14.1449637680695, \n . 14.7200543477258, 15.3388395910512, 15.9962495604438, 16.6877200360025, \n . 6.44049687524185, 7.35391052434009, 8.28733974204027, 9.23471710449216, \n . 10.1921538449927, 11.1570605447851, 6.07289058027559, 7.03420215802759, \n . 8.0049984384758, 8.98220462915425, 9.96393496566492, 10.9489725545368, \n . 5.85491246732178, 6.84689710744948, 7.84091831356506, 8.83628881374981, \n . 9.83259884262548, 10.8295890965447, 5.80344725141876, 6.80294054067798, \n . 7.80256368125246, 8.80227243386616, 9.80204060387428, 10.8018516931126, \n . 5.92283715798434, 9.87319603775799, 10.8664621657649, 6.20322496770833, \n . 10.0439036235918, 11.0217965867639, 6.62419806467168, 10.3092191750879, \n . 11.264102272263, 7.16100551598726, 10.6620823482095, 11.5879247494968, \n . 7.78973683766018, 11.0941425986869, 11.9866592510174, 8.48999411071645, \n . 11.5965512114594, 12.4531120608465, 11.1570605447851, 11.4490174250894, \n . 16.7475371323667, 17.5236982398123, 18.3215719849581, 19.1384429878713, \n . 11.8186293621553, 12.2588743365776, 12.7624449068351, 13.3221619867047, \n . 13.9312598138144, 14.5835523793073, 15.2735064736294, 15.9962495604438, \n . 9.24553946506098, 12.1605920908482, 12.9799845916704, 10.0439036235918, \n . 10.6526991884686, 11.3172434806361, 12.0282999630039, 12.7781062759706, \n . 13.5602359861471, 10.875660899458, 11.4402797168601, 12.0615090266517, \n . 12.7310643702716, 13.4417260796372, 14.1873182807746, 11.7337121150981, \n . 12.2588743365776, 12.8405607354196, 13.4714512952391, 14.1449637680695, \n . 14.8553020837679, 12.612692020342, 13.1026714833274, 13.6484431346583, \n . 14.2435950518119, 14.8822041378285, 15.5589202710214, 13.5085158326146, \n . 13.9671042095346, 15.6486421136148, 16.2935570088302, 14.4180442501748, \n . 14.8485689546165, 15.3323188070168, 15.8644256120416, 16.4401946460497, \n . 17.0552044842623, 15.3388395910512, 17.2534054609518, 17.8404035828789, \n . 16.2689889052762, 18.0853531898053, 18.6461792332907, 17.20697532979, \n . 18.9335680736622, 19.4699768875055, 11.3877126763894, 13.8592929112563, \n . 14.5835523793073, 18.1515839529227, 19.7959591836314, 20.3096036396578, \n . 19.101832372838, 20.6707522843268, 21.1631755651178, 20.0569190056698, \n . 20.3686032903584, 20.7238992470047, 21.1206060519105, 21.5564375535477, \n . 22.029071700823, 21.016184239771, 21.3138452654607, 22.451725991558, \n . 22.9058944378952, 10.5394497010043, 13.1711806608216, 13.9312598138144, \n . 9.72008230417829, 12.5251746494809, 13.3221619867047, 8.93756118860173, \n . 11.9281180409988, 12.7624449068351, 8.20243866176395, 11.3877126763894, \n . 12.2588743365776, 7.52861208988748, 10.912378292563, 11.8186293621553, \n . 6.93397432934389, 7.78973683766018, 10.5109466747767, 11.4490174250894, \n . 13.1026714833274, 13.3521533843796, 18.1019335983756, 18.8223271674891, \n . 19.567319693816, 20.3342076314766, 13.6704059925081, 14.0527577364729, \n . 14.4941367455948, 16.1207940251093, 16.7475371323667, 17.4091929738285, \n . 12.1276543486364, 12.3967737738494, 17.4091929738285, 18.1570922782256, \n . 18.9282857121293, 19.7200405679096, 12.7389167514353, 13.1483839311149, \n . 13.6191042289866, 14.1449637680695, 14.7200543477258, 15.3388395910512, \n . 15.9962495604438, 16.6877200360025, 6.44049687524185, 7.35391052434009, \n . 8.28733974204027, 9.23471710449216, 10.1921538449927, 11.1570605447851, \n . 6.07289058027559, 7.03420215802759, 8.0049984384758, 8.98220462915425, \n . 9.96393496566492, 10.9489725545368, 5.85491246732178, 6.84689710744948, \n . 7.84091831356506, 8.83628881374981, 9.83259884262548, 10.8295890965447, \n . 5.80344725141876, 6.80294054067798, 7.80256368125246, 8.80227243386616, \n . 9.80204060387428, 10.8018516931126, 5.92283715798434, 9.87319603775799, \n . 10.8664621657649, 6.20322496770833, 10.0439036235918, 11.0217965867639, \n . 6.62419806467168, 10.3092191750879, 11.264102272263, 7.16100551598726, \n . 10.6620823482095, 11.5879247494968, 7.78973683766018, 11.0941425986869, \n . 11.9866592510174, 8.48999411071645, 11.5965512114594, 12.4531120608465, \n . 11.1570605447851, 11.4490174250894, 16.7475371323667, 17.5236982398123, \n . 18.3215719849581, 19.1384429878713, 11.8186293621553, 12.2588743365776, \n . 12.7624449068351, 13.3221619867047, 13.9312598138144, 14.5835523793073, \n . 15.2735064736294, 15.9962495604438, 9.24553946506098, 12.1605920908482, \n . 12.9799845916704, 10.0439036235918, 10.6526991884686, 11.3172434806361, \n . 12.0282999630039, 12.7781062759706, 13.5602359861471, 10.875660899458, \n . 11.4402797168601, 12.0615090266517, 12.7310643702716, 13.4417260796372, \n . 14.1873182807746, 11.7337121150981, 12.2588743365776, 12.8405607354196, \n . 13.4714512952391, 14.1449637680695, 14.8553020837679, 12.612692020342, \n . 13.1026714833274, 13.6484431346583, 14.2435950518119, 14.8822041378285, \n . 15.5589202710214, 13.5085158326146, 13.9671042095346, 15.6486421136148, \n . 16.2935570088302, 14.4180442501748, 14.8485689546165, 15.3323188070168, \n . 15.8644256120416, 16.4401946460497, 17.0552044842623, 15.3388395910512, \n . 17.2534054609518, 17.8404035828789, 16.2689889052762, 18.0853531898053, \n . 18.6461792332907, 17.20697532979, 18.9335680736622, 19.4699768875055, \n . 11.3877126763894, 13.8592929112563, 14.5835523793073, 18.1515839529227, \n . 19.7959591836314, 20.3096036396578, 19.101832372838, 20.6707522843268, \n . 21.1631755651178, 20.0569190056698, 20.3686032903584, 20.7238992470047, \n . 21.1206060519105, 21.5564375535477, 22.029071700823, 21.016184239771, \n . 21.3138452654607, 22.451725991558, 22.9058944378952, 10.5394497010043, \n . 13.1711806608216, 13.9312598138144, 9.72008230417829, 12.5251746494809, \n . 13.3221619867047, 8.93756118860173, 11.9281180409988, 12.7624449068351, \n . 8.20243866176395, 11.3877126763894, 12.2588743365776, 7.52861208988748, \n . 10.912378292563, 11.8186293621553, 6.93397432934389, 7.78973683766018, \n . 10.5109466747767, 11.4490174250894, 33.6168112705533, 33.5483233560189, \n . 34.2649967167662, 34.4889837484377, 34.7403223934379, 35.0184237223779, \n . 33.5095508773245, 33.5005970096057, 33.5214856472681, 33.7622570335575, \n . 33.9011799204688, 34.0689007747535, 32.6203923949422, 32.5498079871449, \n . 33.2879858207132, 33.518502353178, 33.7770632234361, 34.0630298123934, \n . 32.5098446628094, 32.5006153787894, 32.5221463006364, 32.5743764330186, \n . 32.6571584801862, 32.7702609083297, 32.9133711430476, 33.0860998003693, \n . 23.5008510484195, 23.5306183514161, 23.6027540765903, 23.7168716318152, \n . 23.8723689649771, 24.0684440710238, 22.5008888713313, 22.5319772767505, \n . 22.6072997060684, 22.7264163475019, 22.888643472255, 23.0930725543398, \n . 21.500930212435, 21.533462331915, 21.6122650363168, 21.736835096214, \n . 21.9063917613102, 22.1199005422719, 20.5009755865422, 20.5350919160349, \n . 20.6177108331648, 20.7482529385006, 20.9258213697814, 21.149231664531, \n . 19.5010256140543, 19.9471802518551, 20.181427105138, 18.5010810494955, \n . 18.970766985022, 19.2169196282859, 17.5011428198275, 17.9969441850554, \n . 18.2562318127263, 16.501212076693, 17.0261563483953, 17.3, 15.5012902688776, \n . 16.0589538887189, 16.349006085998, 14.5013792447477, 15.0960259671213, \n . 15.4042202009709, 31.6241995946143, 31.5513866573246, 32.3123815278292, \n . 32.5498079871449, 32.8160021940516, 33.1102703099809, 31.5101570925948, \n . 31.5006349142363, 31.5228488560282, 31.5767319398319, 31.6621224809709, \n . 31.7787664958853, 31.9263214291907, 32.1043610744709, 13.501481400202, \n . 14.1382460015378, 14.4668586776812, 12.5015998976131, 12.5574678976297, \n . 12.6921235417876, 12.9031004026164, 13.186735759846, 13.538463723776, \n . 11.5017389989514, 11.5624391890293, 11.7085438889727, 11.9369175250565, \n . 12.2429571591181, 12.6210142223199, 10.5019045891686, 10.5683489722851, \n . 10.7280007457121, 10.9767937030811, 11.3088460949825, 11.7170815478941, \n . 9.50210502993942, 9.57548954362126, 9.75141015443408, 10.0244700608062, \n . 10.3870111196629, 10.8300507847378, 8.50235261559999, 8.5842879728024, \n . 9.48103369891701, 9.96443676280802, 7.50266619276108, 7.5953933407033, \n . 7.81600921186765, 8.15414005275848, 8.59592926913664, 9.12633551870629, \n . 6.50307619515564, 7.73886296557834, 8.3240615086627, 5.50363516232681, \n . 6.92026011071838, 7.5690157880665, 4.50444225182208, 6.15548535860496, \n . 6.87677249878168, 30.500655730656, 30.7878222679033, 30.9401034258129, \n . 3.50570962859162, 5.46717477313466, 6.26817357768593, 2.50798724079689, \n . 4.88773976393998, 5.76974869470066, 1.51327459504216, 1.92093727122985, \n . 2.66270539113887, 3.53411940941446, 4.45982062419555, 5.41202365109392, \n . 0.53851648071345, 1.3, 4.22965719651132, 5.22398315464359, 29.5006779583114, \n . 29.7974831151894, 29.9547992815842, 28.5007017457465, 28.8078114406492, \n . 28.9705022393468, 27.5007272631107, 27.8188784820668, 27.9873185568035, \n . 26.5007547062343, 26.8307659227239, 27.0053698363862, 25.5007843016641, \n . 25.8435678651381, 26.0247958685558, 24.5008163129313, 24.5293701509028, \n . 24.8573932663906, 25.045758123882, 33.6168112705533, 33.5483233560189, \n . 34.2649967167662, 34.4889837484377, 34.7403223934379, 35.0184237223779, \n . 33.5095508773245, 33.5005970096057, 33.5214856472681, 33.7622570335575, \n . 33.9011799204688, 34.0689007747535, 32.6203923949422, 32.5498079871449, \n . 33.2879858207132, 33.518502353178, 33.7770632234361, 34.0630298123934, \n . 32.5098446628094, 32.5006153787894, 32.5221463006364, 32.5743764330186, \n . 32.6571584801862, 32.7702609083297, 32.9133711430476, 33.0860998003693, \n . 23.5008510484195, 23.5306183514161, 23.6027540765903, 23.7168716318152, \n . 23.8723689649771, 24.0684440710238, 22.5008888713313, 22.5319772767505, \n . 22.6072997060684, 22.7264163475019, 22.888643472255, 23.0930725543398, \n . 21.500930212435, 21.533462331915, 21.6122650363168, 21.736835096214, \n . 21.9063917613102, 22.1199005422719, 20.5009755865422, 20.5350919160349, \n . 20.6177108331648, 20.7482529385006, 20.9258213697814, 21.149231664531, \n . 19.5010256140543, 19.9471802518551, 20.181427105138, 18.5010810494955, \n . 18.970766985022, 19.2169196282859, 17.5011428198275, 17.9969441850554, \n . 18.2562318127263, 16.501212076693, 17.0261563483953, 17.3, 15.5012902688776, \n . 16.0589538887189, 16.349006085998, 14.5013792447477, 15.0960259671213, \n . 15.4042202009709, 31.6241995946143, 31.5513866573246, 32.3123815278292, \n . 32.5498079871449, 32.8160021940516, 33.1102703099809, 31.5101570925948, \n . 31.5006349142363, 31.5228488560282, 31.5767319398319, 31.6621224809709, \n . 31.7787664958853, 31.9263214291907, 32.1043610744709, 13.501481400202, \n . 14.1382460015378, 14.4668586776812, 12.5015998976131, 12.5574678976297, \n . 12.6921235417876, 12.9031004026164, 13.186735759846, 13.538463723776, \n . 11.5017389989514, 11.5624391890293, 11.7085438889727, 11.9369175250565, \n . 12.2429571591181, 12.6210142223199, 10.5019045891686, 10.5683489722851, \n . 10.7280007457121, 10.9767937030811, 11.3088460949825, 11.7170815478941, \n . 9.50210502993942, 9.57548954362126, 9.75141015443408, 10.0244700608062, \n . 10.3870111196629, 10.8300507847378, 8.50235261559999, 8.5842879728024, \n . 9.48103369891701, 9.96443676280802, 7.50266619276108, 7.5953933407033, \n . 7.81600921186765, 8.15414005275848, 8.59592926913664, 9.12633551870629, \n . 6.50307619515564, 7.73886296557834, 8.3240615086627, 5.50363516232681, \n . 6.92026011071838, 7.5690157880665, 4.50444225182208, 6.15548535860496, \n . 6.87677249878168, 30.500655730656, 30.7878222679033, 30.9401034258129, \n . 3.50570962859162, 5.46717477313466, 6.26817357768593, 2.50798724079689, \n . 4.88773976393998, 5.76974869470066, 1.51327459504216, 1.92093727122985, \n . 2.66270539113887, 3.53411940941446, 4.45982062419555, 5.41202365109392, \n . 0.53851648071345, 1.3, 4.22965719651132, 5.22398315464359, 29.5006779583114, \n . 29.7974831151894, 29.9547992815842, 28.5007017457465, 28.8078114406492, \n . 28.9705022393468, 27.5007272631107, 27.8188784820668, 27.9873185568035, \n . 26.5007547062343, 26.8307659227239, 27.0053698363862, 25.5007843016641, \n . 25.8435678651381, 26.0247958685558, 24.5008163129313, 24.5293701509028, \n . 24.8573932663906, 25.045758123882, 33.6168112705533, 33.5483233560189, \n . 34.2649967167662, 34.4889837484377, 34.7403223934379, 35.0184237223779, \n . 33.5095508773245, 33.5005970096057, 33.5214856472681, 33.7622570335575, \n . 33.9011799204688, 34.0689007747535, 32.6203923949422, 32.5498079871449, \n . 33.2879858207132, 33.518502353178, 33.7770632234361, 34.0630298123934, \n . 32.5098446628094, 32.5006153787894, 32.5221463006364, 32.5743764330186, \n . 32.6571584801862, 32.7702609083297, 32.9133711430476, 33.0860998003693, \n . 23.5008510484195, 23.5306183514161, 23.6027540765903, 23.7168716318152, \n . 23.8723689649771, 24.0684440710238, 22.5008888713313, 22.5319772767505, \n . 22.6072997060684, 22.7264163475019, 22.888643472255, 23.0930725543398, \n . 21.500930212435, 21.533462331915, 21.6122650363168, 21.736835096214, \n . 21.9063917613102, 22.1199005422719, 20.5009755865422, 20.5350919160349, \n . 20.6177108331648, 20.7482529385006, 20.9258213697814, 21.149231664531, \n . 19.5010256140543, 19.9471802518551, 20.181427105138, 18.5010810494955, \n . 18.970766985022, 19.2169196282859, 17.5011428198275, 17.9969441850554, \n . 18.2562318127263, 16.501212076693, 17.0261563483953, 17.3, 15.5012902688776, \n . 16.0589538887189, 16.349006085998, 14.5013792447477, 15.0960259671213, \n . 15.4042202009709, 31.6241995946143, 31.5513866573246, 32.3123815278292, \n . 32.5498079871449, 32.8160021940516, 33.1102703099809, 31.5101570925948, \n . 31.5006349142363, 31.5228488560282, 31.5767319398319, 31.6621224809709, \n . 31.7787664958853, 31.9263214291907, 32.1043610744709, 13.501481400202, \n . 14.1382460015378, 14.4668586776812, 12.5015998976131, 12.5574678976297, \n . 12.6921235417876, 12.9031004026164, 13.186735759846, 13.538463723776, \n . 11.5017389989514, 11.5624391890293, 11.7085438889727, 11.9369175250565, \n . 12.2429571591181, 12.6210142223199, 10.5019045891686, 10.5683489722851, \n . 10.7280007457121, 10.9767937030811, 11.3088460949825, 11.7170815478941, \n . 9.50210502993942, 9.57548954362126, 9.75141015443408, 10.0244700608062, \n . 10.3870111196629, 10.8300507847378, 8.50235261559999, 8.5842879728024, \n . 9.48103369891701, 9.96443676280802, 7.50266619276108, 7.5953933407033, \n . 7.81600921186765, 8.15414005275848, 8.59592926913664, 9.12633551870629, \n . 6.50307619515564, 7.73886296557834, 8.3240615086627, 5.50363516232681, \n . 6.92026011071838, 7.5690157880665, 4.50444225182208, 6.15548535860496, \n . 6.87677249878168, 30.500655730656, 30.7878222679033, 30.9401034258129, \n . 3.50570962859162, 5.46717477313466, 6.26817357768593, 2.50798724079689, \n . 4.88773976393998, 5.76974869470066, 1.51327459504216, 1.92093727122985, \n . 2.66270539113887, 3.53411940941446, 4.45982062419555, 5.41202365109392, \n . 0.53851648071345, 1.3, 4.22965719651132, 5.22398315464359, 29.5006779583114, \n . 29.7974831151894, 29.9547992815842, 28.5007017457465, 28.8078114406492, \n . 28.9705022393468, 27.5007272631107, 27.8188784820668, 27.9873185568035, \n . 26.5007547062343, 26.8307659227239, 27.0053698363862, 25.5007843016641, \n . 25.8435678651381, 26.0247958685558, 24.5008163129313, 24.5293701509028, \n . 24.8573932663906, 25.045758123882, 33.6168112705533, 33.5483233560189, \n . 34.2649967167662, 34.4889837484377, 34.7403223934379, 35.0184237223779, \n . 33.5095508773245, 33.5005970096057, 33.5214856472681, 33.7622570335575, \n . 33.9011799204688, 34.0689007747535, 32.6203923949422, 32.5498079871449, \n . 33.2879858207132, 33.518502353178, 33.7770632234361, 34.0630298123934, \n . 32.5098446628094, 32.5006153787894, 32.5221463006364, 32.5743764330186, \n . 32.6571584801862, 32.7702609083297, 32.9133711430476, 33.0860998003693, \n . 23.5008510484195, 23.5306183514161, 23.6027540765903, 23.7168716318152, \n . 23.8723689649771, 24.0684440710238, 22.5008888713313, 22.5319772767505, \n . 22.6072997060684, 22.7264163475019, 22.888643472255, 23.0930725543398, \n . 21.500930212435, 21.533462331915, 21.6122650363168, 21.736835096214, \n . 21.9063917613102, 22.1199005422719, 20.5009755865422, 20.5350919160349, \n . 20.6177108331648, 20.7482529385006, 20.9258213697814, 21.149231664531, \n . 19.5010256140543, 19.9471802518551, 20.181427105138, 18.5010810494955, \n . 18.970766985022, 19.2169196282859, 17.5011428198275, 17.9969441850554, \n . 18.2562318127263, 16.501212076693, 17.0261563483953, 17.3, 15.5012902688776, \n . 16.0589538887189, 16.349006085998, 14.5013792447477, 15.0960259671213, \n . 15.4042202009709, 31.6241995946143, 31.5513866573246, 32.3123815278292, \n . 32.5498079871449, 32.8160021940516, 33.1102703099809, 31.5101570925948, \n . 31.5006349142363, 31.5228488560282, 31.5767319398319, 31.6621224809709, \n . 31.7787664958853, 31.9263214291907, 32.1043610744709, 13.501481400202, \n . 14.1382460015378, 14.4668586776812, 12.5015998976131, 12.5574678976297, \n . 12.6921235417876, 12.9031004026164, 13.186735759846, 13.538463723776, \n . 11.5017389989514, 11.5624391890293, 11.7085438889727, 11.9369175250565, \n . 12.2429571591181, 12.6210142223199, 10.5019045891686, 10.5683489722851, \n . 10.7280007457121, 10.9767937030811, 11.3088460949825, 11.7170815478941, \n . 9.50210502993942, 9.57548954362126, 9.75141015443408, 10.0244700608062, \n . 10.3870111196629, 10.8300507847378, 8.50235261559999, 8.5842879728024, \n . 9.48103369891701, 9.96443676280802, 7.50266619276108, 7.5953933407033, \n . 7.81600921186765, 8.15414005275848, 8.59592926913664, 9.12633551870629, \n . 6.50307619515564, 7.73886296557834, 8.3240615086627, 5.50363516232681, \n . 6.92026011071838, 7.5690157880665, 4.50444225182208, 6.15548535860496, \n . 6.87677249878168, 30.500655730656, 30.7878222679033, 30.9401034258129, \n . 3.50570962859162, 5.46717477313466, 6.26817357768593, 2.50798724079689, \n . 4.88773976393998, 5.76974869470066, 1.51327459504216, 1.92093727122985, \n . 2.66270539113887, 3.53411940941446, 4.45982062419555, 5.41202365109392, \n . 0.53851648071345, 1.3, 4.22965719651132, 5.22398315464359, 29.5006779583114, \n . 29.7974831151894, 29.9547992815842, 28.5007017457465, 28.8078114406492, \n . 28.9705022393468, 27.5007272631107, 27.8188784820668, 27.9873185568035, \n . 26.5007547062343, 26.8307659227239, 27.0053698363862, 25.5007843016641, \n . 25.8435678651381, 26.0247958685558, 24.5008163129313, 24.5293701509028, \n . 24.8573932663906, 25.045758123882, 33.6168112705533, 33.5483233560189, \n . 34.2649967167662, 34.4889837484377, 34.7403223934379, 35.0184237223779, \n . 33.5095508773245, 33.5005970096057, 33.5214856472681, 33.7622570335575, \n . 33.9011799204688, 34.0689007747535, 32.6203923949422, 32.5498079871449, \n . 33.2879858207132, 33.518502353178, 33.7770632234361, 34.0630298123934, \n . 32.5098446628094, 32.5006153787894, 32.5221463006364, 32.5743764330186, \n . 32.6571584801862, 32.7702609083297, 32.9133711430476, 33.0860998003693, \n . 23.5008510484195, 23.5306183514161, 23.6027540765903, 23.7168716318152, \n . 23.8723689649771, 24.0684440710238, 22.5008888713313, 22.5319772767505, \n . 22.6072997060684, 22.7264163475019, 22.888643472255, 23.0930725543398, \n . 21.500930212435, 21.533462331915, 21.6122650363168, 21.736835096214, \n . 21.9063917613102, 22.1199005422719, 20.5009755865422, 20.5350919160349, \n . 20.6177108331648, 20.7482529385006, 20.9258213697814, 21.149231664531, \n . 19.5010256140543, 19.9471802518551, 20.181427105138, 18.5010810494955, \n . 18.970766985022, 19.2169196282859, 17.5011428198275, 17.9969441850554, \n . 18.2562318127263, 16.501212076693, 17.0261563483953, 17.3, 15.5012902688776, \n . 16.0589538887189, 16.349006085998, 14.5013792447477, 15.0960259671213, \n . 15.4042202009709, 31.6241995946143, 31.5513866573246, 32.3123815278292, \n . 32.5498079871449, 32.8160021940516, 33.1102703099809, 31.5101570925948, \n . 31.5006349142363, 31.5228488560282, 31.5767319398319, 31.6621224809709, \n . 31.7787664958853, 31.9263214291907, 32.1043610744709, 13.501481400202, \n . 14.1382460015378, 14.4668586776812, 12.5015998976131, 12.5574678976297, \n . 12.6921235417876, 12.9031004026164, 13.186735759846, 13.538463723776, \n . 11.5017389989514, 11.5624391890293, 11.7085438889727, 11.9369175250565, \n . 12.2429571591181, 12.6210142223199, 10.5019045891686, 10.5683489722851, \n . 10.7280007457121, 10.9767937030811, 11.3088460949825, 11.7170815478941, \n . 9.50210502993942, 9.57548954362126, 9.75141015443408, 10.0244700608062, \n . 10.3870111196629, 10.8300507847378, 8.50235261559999, 8.5842879728024, \n . 9.48103369891701, 9.96443676280802, 7.50266619276108, 7.5953933407033, \n . 7.81600921186765, 8.15414005275848, 8.59592926913664, 9.12633551870629, \n . 6.50307619515564, 7.73886296557834, 8.3240615086627, 5.50363516232681, \n . 6.92026011071838, 7.5690157880665, 4.50444225182208, 6.15548535860496, \n . 6.87677249878168, 30.500655730656, 30.7878222679033, 30.9401034258129, \n . 3.50570962859162, 5.46717477313466, 6.26817357768593, 2.50798724079689, \n . 4.88773976393998, 5.76974869470066, 1.51327459504216, 1.92093727122985, \n . 2.66270539113887, 3.53411940941446, 4.45982062419555, 5.41202365109392, \n . 0.53851648071345, 1.3, 4.22965719651132, 5.22398315464359, 29.5006779583114, \n . 29.7974831151894, 29.9547992815842, 28.5007017457465, 28.8078114406492, \n . 28.9705022393468, 27.5007272631107, 27.8188784820668, 27.9873185568035, \n . 26.5007547062343, 26.8307659227239, 27.0053698363862, 25.5007843016641, \n . 25.8435678651381, 26.0247958685558, 24.5008163129313, 24.5293701509028, \n . 24.8573932663906, 25.045758123882, 33.6168112705533, 33.5483233560189, \n . 34.2649967167662, 34.4889837484377, 34.7403223934379, 35.0184237223779, \n . 33.5095508773245, 33.5005970096057, 33.5214856472681, 33.7622570335575, \n . 33.9011799204688, 34.0689007747535, 32.6203923949422, 32.5498079871449, \n . 33.2879858207132, 33.518502353178, 33.7770632234361, 34.0630298123934, \n . 32.5098446628094, 32.5006153787894, 32.5221463006364, 32.5743764330186, \n . 32.6571584801862, 32.7702609083297, 32.9133711430476, 33.0860998003693, \n . 23.5008510484195, 23.5306183514161, 23.6027540765903, 23.7168716318152, \n . 23.8723689649771, 24.0684440710238, 22.5008888713313, 22.5319772767505, \n . 22.6072997060684, 22.7264163475019, 22.888643472255, 23.0930725543398, \n . 21.500930212435, 21.533462331915, 21.6122650363168, 21.736835096214, \n . 21.9063917613102, 22.1199005422719, 20.5009755865422, 20.5350919160349, \n . 20.6177108331648, 20.7482529385006, 20.9258213697814, 21.149231664531, \n . 19.5010256140543, 19.9471802518551, 20.181427105138, 18.5010810494955, \n . 18.970766985022, 19.2169196282859, 17.5011428198275, 17.9969441850554, \n . 18.2562318127263, 16.501212076693, 17.0261563483953, 17.3, 15.5012902688776, \n . 16.0589538887189, 16.349006085998, 14.5013792447477, 15.0960259671213, \n . 15.4042202009709, 31.6241995946143, 31.5513866573246, 32.3123815278292, \n . 32.5498079871449, 32.8160021940516, 33.1102703099809, 31.5101570925948, \n . 31.5006349142363, 31.5228488560282, 31.5767319398319, 31.6621224809709, \n . 31.7787664958853, 31.9263214291907, 32.1043610744709, 13.501481400202, \n . 14.1382460015378, 14.4668586776812, 12.5015998976131, 12.5574678976297, \n . 12.6921235417876, 12.9031004026164, 13.186735759846, 13.538463723776, \n . 11.5017389989514, 11.5624391890293, 11.7085438889727, 11.9369175250565, \n . 12.2429571591181, 12.6210142223199, 10.5019045891686, 10.5683489722851, \n . 10.7280007457121, 10.9767937030811, 11.3088460949825, 11.7170815478941, \n . 9.50210502993942, 9.57548954362126, 9.75141015443408, 10.0244700608062, \n . 10.3870111196629, 10.8300507847378, 8.50235261559999, 8.5842879728024, \n . 9.48103369891701, 9.96443676280802, 7.50266619276108, 7.5953933407033, \n . 7.81600921186765, 8.15414005275848, 8.59592926913664, 9.12633551870629, \n . 6.50307619515564, 7.73886296557834, 8.3240615086627, 5.50363516232681, \n . 6.92026011071838, 7.5690157880665, 4.50444225182208, 6.15548535860496, \n . 6.87677249878168, 30.500655730656, 30.7878222679033, 30.9401034258129, \n . 3.50570962859162, 5.46717477313466, 6.26817357768593, 2.50798724079689, \n . 4.88773976393998, 5.76974869470066, 1.51327459504216, 1.92093727122985, \n . 2.66270539113887, 3.53411940941446, 4.45982062419555, 5.41202365109392, \n . 0.53851648071345, 1.3, 4.22965719651132, 5.22398315464359, 29.5006779583114, \n . 29.7974831151894, 29.9547992815842, 28.5007017457465, 28.8078114406492, \n . 28.9705022393468, 27.5007272631107, 27.8188784820668, 27.9873185568035, \n . 26.5007547062343, 26.8307659227239, 27.0053698363862, 25.5007843016641, \n . 25.8435678651381, 26.0247958685558, 24.5008163129313, 24.5293701509028, \n . 24.8573932663906, 25.045758123882, 33.6168112705533, 33.5483233560189, \n . 34.2649967167662, 34.4889837484377, 34.7403223934379, 35.0184237223779, \n . 33.5095508773245, 33.5005970096057, 33.5214856472681, 33.7622570335575, \n . 33.9011799204688, 34.0689007747535, 32.6203923949422, 32.5498079871449, \n . 33.2879858207132, 33.518502353178, 33.7770632234361, 34.0630298123934, \n . 32.5098446628094, 32.5006153787894, 32.5221463006364, 32.5743764330186, \n . 32.6571584801862, 32.7702609083297, 32.9133711430476, 33.0860998003693, \n . 23.5008510484195, 23.5306183514161, 23.6027540765903, 23.7168716318152, \n . 23.8723689649771, 24.0684440710238, 22.5008888713313, 22.5319772767505, \n . 22.6072997060684, 22.7264163475019, 22.888643472255, 23.0930725543398, \n . 21.500930212435, 21.533462331915, 21.6122650363168, 21.736835096214, \n . 21.9063917613102, 22.1199005422719, 20.5009755865422, 20.5350919160349, \n . 20.6177108331648, 20.7482529385006, 20.9258213697814, 21.149231664531, \n . 19.5010256140543, 19.9471802518551, 20.181427105138, 18.5010810494955, \n . 18.970766985022, 19.2169196282859, 17.5011428198275, 17.9969441850554, \n . 18.2562318127263, 16.501212076693, 17.0261563483953, 17.3, 15.5012902688776, \n . 16.0589538887189, 16.349006085998, 14.5013792447477, 15.0960259671213, \n . 15.4042202009709, 31.6241995946143, 31.5513866573246, 32.3123815278292, \n . 32.5498079871449, 32.8160021940516, 33.1102703099809, 31.5101570925948, \n . 31.5006349142363, 31.5228488560282, 31.5767319398319, 31.6621224809709, \n . 31.7787664958853, 31.9263214291907, 32.1043610744709, 13.501481400202, \n . 14.1382460015378, 14.4668586776812, 12.5015998976131, 12.5574678976297, \n . 12.6921235417876, 12.9031004026164, 13.186735759846, 13.538463723776, \n . 11.5017389989514, 11.5624391890293, 11.7085438889727, 11.9369175250565, \n . 12.2429571591181, 12.6210142223199, 10.5019045891686, 10.5683489722851, \n . 10.7280007457121, 10.9767937030811, 11.3088460949825, 11.7170815478941, \n . 9.50210502993942, 9.57548954362126, 9.75141015443408, 10.0244700608062, \n . 10.3870111196629, 10.8300507847378, 8.50235261559999, 8.5842879728024, \n . 9.48103369891701, 9.96443676280802, 7.50266619276108, 7.5953933407033, \n . 7.81600921186765, 8.15414005275848, 8.59592926913664, 9.12633551870629, \n . 6.50307619515564, 7.73886296557834, 8.3240615086627, 5.50363516232681, \n . 6.92026011071838, 7.5690157880665, 4.50444225182208, 6.15548535860496, \n . 6.87677249878168, 30.500655730656, 30.7878222679033, 30.9401034258129, \n . 3.50570962859162, 5.46717477313466, 6.26817357768593, 2.50798724079689, \n . 4.88773976393998, 5.76974869470066, 1.51327459504216, 1.92093727122985, \n . 2.66270539113887, 3.53411940941446, 4.45982062419555, 5.41202365109392, \n . 0.53851648071345, 1.3, 4.22965719651132, 5.22398315464359, 29.5006779583114, \n . 29.7974831151894, 29.9547992815842, 28.5007017457465, 28.8078114406492, \n . 28.9705022393468, 27.5007272631107, 27.8188784820668, 27.9873185568035, \n . 26.5007547062343, 26.8307659227239, 27.0053698363862, 25.5007843016641, \n . 25.8435678651381, 26.0247958685558, 24.5008163129313, 24.5293701509028, \n . 24.8573932663906, 25.045758123882, 33.6168112705533, 33.5483233560189, \n . 34.2649967167662, 34.4889837484377, 34.7403223934379, 35.0184237223779, \n . 33.5095508773245, 33.5005970096057, 33.5214856472681, 33.7622570335575, \n . 33.9011799204688, 34.0689007747535, 32.6203923949422, 32.5498079871449, \n . 33.2879858207132, 33.518502353178, 33.7770632234361, 34.0630298123934, \n . 32.5098446628094, 32.5006153787894, 32.5221463006364, 32.5743764330186, \n . 32.6571584801862, 32.7702609083297, 32.9133711430476, 33.0860998003693, \n . 23.5008510484195, 23.5306183514161, 23.6027540765903, 23.7168716318152, \n . 23.8723689649771, 24.0684440710238, 22.5008888713313, 22.5319772767505, \n . 22.6072997060684, 22.7264163475019, 22.888643472255, 23.0930725543398, \n . 21.500930212435, 21.533462331915, 21.6122650363168, 21.736835096214, \n . 21.9063917613102, 22.1199005422719, 20.5009755865422, 20.5350919160349, \n . 20.6177108331648, 20.7482529385006, 20.9258213697814, 21.149231664531, \n . 19.5010256140543, 19.9471802518551, 20.181427105138, 18.5010810494955, \n . 18.970766985022, 19.2169196282859, 17.5011428198275, 17.9969441850554, \n . 18.2562318127263, 16.501212076693, 17.0261563483953, 17.3, 15.5012902688776, \n . 16.0589538887189, 16.349006085998, 14.5013792447477, 15.0960259671213, \n . 15.4042202009709, 31.6241995946143, 31.5513866573246, 32.3123815278292, \n . 32.5498079871449, 32.8160021940516, 33.1102703099809, 31.5101570925948, \n . 31.5006349142363, 31.5228488560282, 31.5767319398319, 31.6621224809709, \n . 31.7787664958853, 31.9263214291907, 32.1043610744709, 13.501481400202, \n . 14.1382460015378, 14.4668586776812, 12.5015998976131, 12.5574678976297, \n . 12.6921235417876, 12.9031004026164, 13.186735759846, 13.538463723776, \n . 11.5017389989514, 11.5624391890293, 11.7085438889727, 11.9369175250565, \n . 12.2429571591181, 12.6210142223199, 10.5019045891686, 10.5683489722851, \n . 10.7280007457121, 10.9767937030811, 11.3088460949825, 11.7170815478941, \n . 9.50210502993942, 9.57548954362126, 9.75141015443408, 10.0244700608062, \n . 10.3870111196629, 10.8300507847378, 8.50235261559999, 8.5842879728024, \n . 9.48103369891701, 9.96443676280802, 7.50266619276108, 7.5953933407033, \n . 7.81600921186765, 8.15414005275848, 8.59592926913664, 9.12633551870629, \n . 6.50307619515564, 7.73886296557834, 8.3240615086627, 5.50363516232681, \n . 6.92026011071838, 7.5690157880665, 4.50444225182208, 6.15548535860496, \n . 6.87677249878168, 30.500655730656, 30.7878222679033, 30.9401034258129, \n . 3.50570962859162, 5.46717477313466, 6.26817357768593, 2.50798724079689, \n . 4.88773976393998, 5.76974869470066, 1.51327459504216, 1.92093727122985, \n . 2.66270539113887, 3.53411940941446, 4.45982062419555, 5.41202365109392, \n . 0.53851648071345, 1.3, 4.22965719651132, 5.22398315464359, 29.5006779583114, \n . 29.7974831151894, 29.9547992815842, 28.5007017457465, 28.8078114406492, \n . 28.9705022393468, 27.5007272631107, 27.8188784820668, 27.9873185568035, \n . 26.5007547062343, 26.8307659227239, 27.0053698363862, 25.5007843016641, \n . 25.8435678651381, 26.0247958685558, 24.5008163129313, 24.5293701509028, \n . 24.8573932663906, 25.045758123882, 2.62488094968134, 3.08058436014987, \n . 11.0855762141623, 12.0619235613562, 13.0418556961807, 14.0246212070059, \n . 3.75366487582469, 4.54862616621766, 5.41202365109392, 8.19084855189009, \n . 9.14822387133153, 10.1138518873869, 1.7, 2.343074902772, 10.9036691072317, \n . 11.894956914592, 12.887590930814, 13.8812823615111, 3.17647603485372, \n . 4.0853396431631, 5.02891638427206, 5.99082632030006, 6.96347614342147, \n . 7.94292137692424, 8.92692556258872, 9.91413132856329, 8.40773453434396, \n . 8.9044932477935, 9.48103369891701, 10.1237344888139, 10.8208132781229, \n . 11.5624391890293, 9.31074647920348, 9.76165969494942, 10.2902866821095, \n . 10.8853112036358, 11.536463929645, 12.2347864713692, 10.2318131335556, \n . 10.6437775249204, 11.1305884839931, 11.682893477217, 12.2918672300021, \n . 12.9495173655237, 11.1664676599182, 11.5451288429363, 11.9954157910428, \n . 12.5095963164284, 13.080137613955, 13.7, 12.1115647213727, 13.8956827827926, \n . 14.4806767797641, 13.0648383074572, 14.7339743450299, 15.2869225156668, \n . 14.0246212070059, 15.5913437522235, 16.1148999376354, 14.9896631049534, \n . 16.4648109615628, 16.9614268267737, 15.9590099943574, 17.3519451359206, \n . 17.8238604123798, 16.9319225134064, 18.2507534091062, 18.7, 0.94339811320566, \n . 1.86815416922694, 10.8115678788971, 11.8105884696742, 12.8097619025492, \n . 13.8090550002526, 2.84429253066558, 3.83275357934736, 4.82597140480546, \n . 5.82151183113115, 6.81835757349231, 7.81600921186765, 8.81419309976812, \n . 9.81274681218261, 17.9078195210919, 19.159592897554, 19.5880065346119, \n . 18.8862383761299, 19.1125613144863, 19.3878828137577, 19.7101496696499, \n . 20.077101384413, 20.4863369102434, 19.8668064872037, 20.0820815654155, \n . 20.3442866672685, 20.6516343178936, 21.0021427478246, 21.3936906586965, \n . 20.849220608934, 21.0544532106631, 21.3046943183891, 21.5983795688473, \n . 21.9337639268777, 22.3089668070935, 21.8332315519256, 22.0292986724498, \n . 22.2685877414802, 22.5497228364342, 22.8711608800253, 23.2312289816962, \n . 22.8186327373048, 23.0063034840454, 23.8136515469594, 24.1596771501608, \n . 23.8052515214606, 23.985203772326, 24.2051647381298, 24.4640552648166, \n . 24.7606542724541, 25.0936246883546, 24.7929425442, 25.7116705019336, \n . 26.032479712851, 25.7815825736125, 26.6662708303955, 26.9757298325736, \n . 26.771066471099, 27.6240836952106, 27.9229296457231, 3.83275357934736, \n . 7.81600921186765, 8.81419309976812, 27.7613040039549, 28.5847861632722, \n . 28.8736904464947, 28.752217305801, 29.548096385385, 29.8276717160425, \n . 29.7437388369384, 29.8879574410832, 30.0647634283059, 30.2735858464107, \n . 30.5137673845758, 30.7845740590965, 30.7358097339244, 30.8753947343188, \n . 31.4815819170511, 31.7441333162523, 4.0853396431631, 7.94292137692424, \n . 8.92692556258872, 4.54862616621766, 8.19084855189009, 9.14822387133153, \n . 5.1662365412358, 8.5492689745966, 9.47048045243746, 5.88982172905089, \n . 9.00499861188218, 9.88382517044894, 6.68505796534331, 9.54410813015025, \n . 10.3773792452623, 7.52927619363243, 8.0802227692063, 10.1533245786787, \n . 10.9402925006601, 2.62488094968134, 3.08058436014987, 11.0855762141623, \n . 12.0619235613562, 13.0418556961807, 14.0246212070059, 3.75366487582469, \n . 4.54862616621766, 5.41202365109392, 8.19084855189009, 9.14822387133153, \n . 10.1138518873869, 1.7, 2.343074902772, 10.9036691072317, 11.894956914592, \n . 12.887590930814, 13.8812823615111, 3.17647603485372, 4.0853396431631, \n . 5.02891638427206, 5.99082632030006, 6.96347614342147, 7.94292137692424, \n . 8.92692556258872, 9.91413132856329, 8.40773453434396, 8.9044932477935, \n . 9.48103369891701, 10.1237344888139, 10.8208132781229, 11.5624391890293, \n . 9.31074647920348, 9.76165969494942, 10.2902866821095, 10.8853112036358, \n . 11.536463929645, 12.2347864713692, 10.2318131335556, 10.6437775249204, \n . 11.1305884839931, 11.682893477217, 12.2918672300021, 12.9495173655237, \n . 11.1664676599182, 11.5451288429363, 11.9954157910428, 12.5095963164284, \n . 13.080137613955, 13.7, 12.1115647213727, 13.8956827827926, 14.4806767797641, \n . 13.0648383074572, 14.7339743450299, 15.2869225156668, 14.0246212070059, \n . 15.5913437522235, 16.1148999376354, 14.9896631049534, 16.4648109615628, \n . 16.9614268267737, 15.9590099943574, 17.3519451359206, 17.8238604123798, \n . 16.9319225134064, 18.2507534091062, 18.7, 0.94339811320566, 1.86815416922694, \n . 10.8115678788971, 11.8105884696742, 12.8097619025492, 13.8090550002526, \n . 2.84429253066558, 3.83275357934736, 4.82597140480546, 5.82151183113115, \n . 6.81835757349231, 7.81600921186765, 8.81419309976812, 9.81274681218261, \n . 17.9078195210919, 19.159592897554, 19.5880065346119, 18.8862383761299, \n . 19.1125613144863, 19.3878828137577, 19.7101496696499, 20.077101384413, \n . 20.4863369102434, 19.8668064872037, 20.0820815654155, 20.3442866672685, \n . 20.6516343178936, 21.0021427478246, 21.3936906586965, 20.849220608934, \n . 21.0544532106631, 21.3046943183891, 21.5983795688473, 21.9337639268777, \n . 22.3089668070935, 21.8332315519256, 22.0292986724498, 22.2685877414802, \n . 22.5497228364342, 22.8711608800253, 23.2312289816962, 22.8186327373048, \n . 23.0063034840454, 23.8136515469594, 24.1596771501608, 23.8052515214606, \n . 23.985203772326, 24.2051647381298, 24.4640552648166, 24.7606542724541, \n . 25.0936246883546, 24.7929425442, 25.7116705019336, 26.032479712851, \n . 25.7815825736125, 26.6662708303955, 26.9757298325736, 26.771066471099, \n . 27.6240836952106, 27.9229296457231, 3.83275357934736, 7.81600921186765, \n . 8.81419309976812, 27.7613040039549, 28.5847861632722, 28.8736904464947, \n . 28.752217305801, 29.548096385385, 29.8276717160425, 29.7437388369384, \n . 29.8879574410832, 30.0647634283059, 30.2735858464107, 30.5137673845758, \n . 30.7845740590965, 30.7358097339244, 30.8753947343188, 31.4815819170511, \n . 31.7441333162523, 4.0853396431631, 7.94292137692424, 8.92692556258872, \n . 4.54862616621766, 8.19084855189009, 9.14822387133153, 5.1662365412358, \n . 8.5492689745966, 9.47048045243746, 5.88982172905089, 9.00499861188218, \n . 9.88382517044894, 6.68505796534331, 9.54410813015025, 10.3773792452623, \n . 7.52927619363243, 8.0802227692063, 10.1533245786787, 10.9402925006601, \n . 2.62488094968134, 3.08058436014987, 11.0855762141623, 12.0619235613562, \n . 13.0418556961807, 14.0246212070059, 3.75366487582469, 4.54862616621766, \n . 5.41202365109392, 8.19084855189009, 9.14822387133153, 10.1138518873869, \n . 1.7, 2.343074902772, 10.9036691072317, 11.894956914592, 12.887590930814, \n . 13.8812823615111, 3.17647603485372, 4.0853396431631, 5.02891638427206, \n . 5.99082632030006, 6.96347614342147, 7.94292137692424, 8.92692556258872, \n . 9.91413132856329, 8.40773453434396, 8.9044932477935, 9.48103369891701, \n . 10.1237344888139, 10.8208132781229, 11.5624391890293, 9.31074647920348, \n . 9.76165969494942, 10.2902866821095, 10.8853112036358, 11.536463929645, \n . 12.2347864713692, 10.2318131335556, 10.6437775249204, 11.1305884839931, \n . 11.682893477217, 12.2918672300021, 12.9495173655237, 11.1664676599182, \n . 11.5451288429363, 11.9954157910428, 12.5095963164284, 13.080137613955, \n . 13.7, 12.1115647213727, 13.8956827827926, 14.4806767797641, 13.0648383074572, \n . 14.7339743450299, 15.2869225156668, 14.0246212070059, 15.5913437522235, \n . 16.1148999376354, 14.9896631049534, 16.4648109615628, 16.9614268267737, \n . 15.9590099943574, 17.3519451359206, 17.8238604123798, 16.9319225134064, \n . 18.2507534091062, 18.7, 0.94339811320566, 1.86815416922694, 10.8115678788971, \n . 11.8105884696742, 12.8097619025492, 13.8090550002526, 2.84429253066558, \n . 3.83275357934736, 4.82597140480546, 5.82151183113115, 6.81835757349231, \n . 7.81600921186765, 8.81419309976812, 9.81274681218261, 17.9078195210919, \n . 19.159592897554, 19.5880065346119, 18.8862383761299, 19.1125613144863, \n . 19.3878828137577, 19.7101496696499, 20.077101384413, 20.4863369102434, \n . 19.8668064872037, 20.0820815654155, 20.3442866672685, 20.6516343178936, \n . 21.0021427478246, 21.3936906586965, 20.849220608934, 21.0544532106631, \n . 21.3046943183891, 21.5983795688473, 21.9337639268777, 22.3089668070935, \n . 21.8332315519256, 22.0292986724498, 22.2685877414802, 22.5497228364342, \n . 22.8711608800253, 23.2312289816962, 22.8186327373048, 23.0063034840454, \n . 23.8136515469594, 24.1596771501608, 23.8052515214606, 23.985203772326, \n . 24.2051647381298, 24.4640552648166, 24.7606542724541, 25.0936246883546, \n . 24.7929425442, 25.7116705019336, 26.032479712851, 25.7815825736125, \n . 26.6662708303955, 26.9757298325736, 26.771066471099, 27.6240836952106, \n . 27.9229296457231, 3.83275357934736, 7.81600921186765, 8.81419309976812, \n . 27.7613040039549, 28.5847861632722, 28.8736904464947, 28.752217305801, \n . 29.548096385385, 29.8276717160425, 29.7437388369384, 29.8879574410832, \n . 30.0647634283059, 30.2735858464107, 30.5137673845758, 30.7845740590965, \n . 30.7358097339244, 30.8753947343188, 31.4815819170511, 31.7441333162523, \n . 4.0853396431631, 7.94292137692424, 8.92692556258872, 4.54862616621766, \n . 8.19084855189009, 9.14822387133153, 5.1662365412358, 8.5492689745966, \n . 9.47048045243746, 5.88982172905089, 9.00499861188218, 9.88382517044894, \n . 6.68505796534331, 9.54410813015025, 10.3773792452623, 7.52927619363243, \n . 8.0802227692063, 10.1533245786787, 10.9402925006601, 2.62488094968134, \n . 3.08058436014987, 11.0855762141623, 12.0619235613562, 13.0418556961807, \n . 14.0246212070059, 3.75366487582469, 4.54862616621766, 5.41202365109392, \n . 8.19084855189009, 9.14822387133153, 10.1138518873869, 1.7, 2.343074902772, \n . 10.9036691072317, 11.894956914592, 12.887590930814, 13.8812823615111, \n . 3.17647603485372, 4.0853396431631, 5.02891638427206, 5.99082632030006, \n . 6.96347614342147, 7.94292137692424, 8.92692556258872, 9.91413132856329, \n . 8.40773453434396, 8.9044932477935, 9.48103369891701, 10.1237344888139, \n . 10.8208132781229, 11.5624391890293, 9.31074647920348, 9.76165969494942, \n . 10.2902866821095, 10.8853112036358, 11.536463929645, 12.2347864713692, \n . 10.2318131335556, 10.6437775249204, 11.1305884839931, 11.682893477217, \n . 12.2918672300021, 12.9495173655237, 11.1664676599182, 11.5451288429363, \n . 11.9954157910428, 12.5095963164284, 13.080137613955, 13.7, 12.1115647213727, \n . 13.8956827827926, 14.4806767797641, 13.0648383074572, 14.7339743450299, \n . 15.2869225156668, 14.0246212070059, 15.5913437522235, 16.1148999376354, \n . 14.9896631049534, 16.4648109615628, 16.9614268267737, 15.9590099943574, \n . 17.3519451359206, 17.8238604123798, 16.9319225134064, 18.2507534091062, \n . 18.7, 0.94339811320566, 1.86815416922694, 10.8115678788971, 11.8105884696742, \n . 12.8097619025492, 13.8090550002526, 2.84429253066558, 3.83275357934736, \n . 4.82597140480546, 5.82151183113115, 6.81835757349231, 7.81600921186765, \n . 8.81419309976812, 9.81274681218261, 17.9078195210919, 19.159592897554, \n . 19.5880065346119, 18.8862383761299, 19.1125613144863, 19.3878828137577, \n . 19.7101496696499, 20.077101384413, 20.4863369102434, 19.8668064872037, \n . 20.0820815654155, 20.3442866672685, 20.6516343178936, 21.0021427478246, \n . 21.3936906586965, 20.849220608934, 21.0544532106631, 21.3046943183891, \n . 21.5983795688473, 21.9337639268777, 22.3089668070935, 21.8332315519256, \n . 22.0292986724498, 22.2685877414802, 22.5497228364342, 22.8711608800253, \n . 23.2312289816962, 22.8186327373048, 23.0063034840454, 23.8136515469594, \n . 24.1596771501608, 23.8052515214606, 23.985203772326, 24.2051647381298, \n . 24.4640552648166, 24.7606542724541, 25.0936246883546, 24.7929425442, \n . 25.7116705019336, 26.032479712851, 25.7815825736125, 26.6662708303955, \n . 26.9757298325736, 26.771066471099, 27.6240836952106, 27.9229296457231, \n . 3.83275357934736, 7.81600921186765, 8.81419309976812, 27.7613040039549, \n . 28.5847861632722, 28.8736904464947, 28.752217305801, 29.548096385385, \n . 29.8276717160425, 29.7437388369384, 29.8879574410832, 30.0647634283059, \n . 30.2735858464107, 30.5137673845758, 30.7845740590965, 30.7358097339244, \n . 30.8753947343188, 31.4815819170511, 31.7441333162523, 4.0853396431631, \n . 7.94292137692424, 8.92692556258872, 4.54862616621766, 8.19084855189009, \n . 9.14822387133153, 5.1662365412358, 8.5492689745966, 9.47048045243746, \n . 5.88982172905089, 9.00499861188218, 9.88382517044894, 6.68505796534331, \n . 9.54410813015025, 10.3773792452623, 7.52927619363243, 8.0802227692063, \n . 10.1533245786787, 10.9402925006601, 2.62488094968134, 3.08058436014987, \n . 11.0855762141623, 12.0619235613562, 13.0418556961807, 14.0246212070059, \n . 3.75366487582469, 4.54862616621766, 5.41202365109392, 8.19084855189009, \n . 9.14822387133153, 10.1138518873869, 1.7, 2.343074902772, 10.9036691072317, \n . 11.894956914592, 12.887590930814, 13.8812823615111, 3.17647603485372, \n . 4.0853396431631, 5.02891638427206, 5.99082632030006, 6.96347614342147, \n . 7.94292137692424, 8.92692556258872, 9.91413132856329, 8.40773453434396, \n . 8.9044932477935, 9.48103369891701, 10.1237344888139, 10.8208132781229, \n . 11.5624391890293, 9.31074647920348, 9.76165969494942, 10.2902866821095, \n . 10.8853112036358, 11.536463929645, 12.2347864713692, 10.2318131335556, \n . 10.6437775249204, 11.1305884839931, 11.682893477217, 12.2918672300021, \n . 12.9495173655237, 11.1664676599182, 11.5451288429363, 11.9954157910428, \n . 12.5095963164284, 13.080137613955, 13.7, 12.1115647213727, 13.8956827827926, \n . 14.4806767797641, 13.0648383074572, 14.7339743450299, 15.2869225156668, \n . 14.0246212070059, 15.5913437522235, 16.1148999376354, 14.9896631049534, \n . 16.4648109615628, 16.9614268267737, 15.9590099943574, 17.3519451359206, \n . 17.8238604123798, 16.9319225134064, 18.2507534091062, 18.7, 0.94339811320566, \n . 1.86815416922694, 10.8115678788971, 11.8105884696742, 12.8097619025492, \n . 13.8090550002526, 2.84429253066558, 3.83275357934736, 4.82597140480546, \n . 5.82151183113115, 6.81835757349231, 7.81600921186765, 8.81419309976812, \n . 9.81274681218261, 17.9078195210919, 19.159592897554, 19.5880065346119, \n . 18.8862383761299, 19.1125613144863, 19.3878828137577, 19.7101496696499, \n . 20.077101384413, 20.4863369102434, 19.8668064872037, 20.0820815654155, \n . 20.3442866672685, 20.6516343178936, 21.0021427478246, 21.3936906586965, \n . 20.849220608934, 21.0544532106631, 21.3046943183891, 21.5983795688473, \n . 21.9337639268777, 22.3089668070935, 21.8332315519256, 22.0292986724498, \n . 22.2685877414802, 22.5497228364342, 22.8711608800253, 23.2312289816962, \n . 22.8186327373048, 23.0063034840454, 23.8136515469594, 24.1596771501608, \n . 23.8052515214606, 23.985203772326, 24.2051647381298, 24.4640552648166, \n . 24.7606542724541, 25.0936246883546, 24.7929425442, 25.7116705019336, \n . 26.032479712851, 25.7815825736125, 26.6662708303955, 26.9757298325736, \n . 26.771066471099, 27.6240836952106, 27.9229296457231, 3.83275357934736, \n . 7.81600921186765, 8.81419309976812, 27.7613040039549, 28.5847861632722, \n . 28.8736904464947, 28.752217305801, 29.548096385385, 29.8276717160425, \n . 29.7437388369384, 29.8879574410832, 30.0647634283059, 30.2735858464107, \n . 30.5137673845758, 30.7845740590965, 30.7358097339244, 30.8753947343188, \n . 31.4815819170511, 31.7441333162523, 4.0853396431631, 7.94292137692424, \n . 8.92692556258872, 4.54862616621766, 8.19084855189009, 9.14822387133153, \n . 5.1662365412358, 8.5492689745966, 9.47048045243746, 5.88982172905089, \n . 9.00499861188218, 9.88382517044894, 6.68505796534331, 9.54410813015025, \n . 10.3773792452623, 7.52927619363243, 8.0802227692063, 10.1533245786787, \n . 10.9402925006601, 2.62488094968134, 3.08058436014987, 11.0855762141623, \n . 12.0619235613562, 13.0418556961807, 14.0246212070059, 3.75366487582469, \n . 4.54862616621766, 5.41202365109392, 8.19084855189009, 9.14822387133153, \n . 10.1138518873869, 1.7, 2.343074902772, 10.9036691072317, 11.894956914592, \n . 12.887590930814, 13.8812823615111, 3.17647603485372, 4.0853396431631, \n . 5.02891638427206, 5.99082632030006, 6.96347614342147, 7.94292137692424, \n . 8.92692556258872, 9.91413132856329, 8.40773453434396, 8.9044932477935, \n . 9.48103369891701, 10.1237344888139, 10.8208132781229, 11.5624391890293, \n . 9.31074647920348, 9.76165969494942, 10.2902866821095, 10.8853112036358, \n . 11.536463929645, 12.2347864713692, 10.2318131335556, 10.6437775249204, \n . 11.1305884839931, 11.682893477217, 12.2918672300021, 12.9495173655237, \n . 11.1664676599182, 11.5451288429363, 11.9954157910428, 12.5095963164284, \n . 13.080137613955, 13.7, 12.1115647213727, 13.8956827827926, 14.4806767797641, \n . 13.0648383074572, 14.7339743450299, 15.2869225156668, 14.0246212070059, \n . 15.5913437522235, 16.1148999376354, 14.9896631049534, 16.4648109615628, \n . 16.9614268267737, 15.9590099943574, 17.3519451359206, 17.8238604123798, \n . 16.9319225134064, 18.2507534091062, 18.7, 0.94339811320566, 1.86815416922694, \n . 10.8115678788971, 11.8105884696742, 12.8097619025492, 13.8090550002526, \n . 2.84429253066558, 3.83275357934736, 4.82597140480546, 5.82151183113115, \n . 6.81835757349231, 7.81600921186765, 8.81419309976812, 9.81274681218261, \n . 17.9078195210919, 19.159592897554, 19.5880065346119, 18.8862383761299, \n . 19.1125613144863, 19.3878828137577, 19.7101496696499, 20.077101384413, \n . 20.4863369102434, 19.8668064872037, 20.0820815654155, 20.3442866672685, \n . 20.6516343178936, 21.0021427478246, 21.3936906586965, 20.849220608934, \n . 21.0544532106631, 21.3046943183891, 21.5983795688473, 21.9337639268777, \n . 22.3089668070935, 21.8332315519256, 22.0292986724498, 22.2685877414802, \n . 22.5497228364342, 22.8711608800253, 23.2312289816962, 22.8186327373048, \n . 23.0063034840454, 23.8136515469594, 24.1596771501608, 23.8052515214606, \n . 23.985203772326, 24.2051647381298, 24.4640552648166, 24.7606542724541, \n . 25.0936246883546, 24.7929425442, 25.7116705019336, 26.032479712851, \n . 25.7815825736125, 26.6662708303955, 26.9757298325736, 26.771066471099, \n . 27.6240836952106, 27.9229296457231, 3.83275357934736, 7.81600921186765, \n . 8.81419309976812, 27.7613040039549, 28.5847861632722, 28.8736904464947, \n . 28.752217305801, 29.548096385385, 29.8276717160425, 29.7437388369384, \n . 29.8879574410832, 30.0647634283059, 30.2735858464107, 30.5137673845758, \n . 30.7845740590965, 30.7358097339244, 30.8753947343188, 31.4815819170511, \n . 31.7441333162523, 4.0853396431631, 7.94292137692424, 8.92692556258872, \n . 4.54862616621766, 8.19084855189009, 9.14822387133153, 5.1662365412358, \n . 8.5492689745966, 9.47048045243746, 5.88982172905089, 9.00499861188218, \n . 9.88382517044894, 6.68505796534331, 9.54410813015025, 10.3773792452623, \n . 7.52927619363243, 8.0802227692063, 10.1533245786787, 10.9402925006601, \n . 2.62488094968134, 3.08058436014987, 11.0855762141623, 12.0619235613562, \n . 13.0418556961807, 14.0246212070059, 3.75366487582469, 4.54862616621766, \n . 5.41202365109392, 8.19084855189009, 9.14822387133153, 10.1138518873869, \n . 1.7, 2.343074902772, 10.9036691072317, 11.894956914592, 12.887590930814, \n . 13.8812823615111, 3.17647603485372, 4.0853396431631, 5.02891638427206, \n . 5.99082632030006, 6.96347614342147, 7.94292137692424, 8.92692556258872, \n . 9.91413132856329, 8.40773453434396, 8.9044932477935, 9.48103369891701, \n . 10.1237344888139, 10.8208132781229, 11.5624391890293, 9.31074647920348, \n . 9.76165969494942, 10.2902866821095, 10.8853112036358, 11.536463929645, \n . 12.2347864713692, 10.2318131335556, 10.6437775249204, 11.1305884839931, \n . 11.682893477217, 12.2918672300021, 12.9495173655237, 11.1664676599182, \n . 11.5451288429363, 11.9954157910428, 12.5095963164284, 13.080137613955, \n . 13.7, 12.1115647213727, 13.8956827827926, 14.4806767797641, 13.0648383074572, \n . 14.7339743450299, 15.2869225156668, 14.0246212070059, 15.5913437522235, \n . 16.1148999376354, 14.9896631049534, 16.4648109615628, 16.9614268267737, \n . 15.9590099943574, 17.3519451359206, 17.8238604123798, 16.9319225134064, \n . 18.2507534091062, 18.7, 0.94339811320566, 1.86815416922694, 10.8115678788971, \n . 11.8105884696742, 12.8097619025492, 13.8090550002526, 2.84429253066558, \n . 3.83275357934736, 4.82597140480546, 5.82151183113115, 6.81835757349231, \n . 7.81600921186765, 8.81419309976812, 9.81274681218261, 17.9078195210919, \n . 19.159592897554, 19.5880065346119, 18.8862383761299, 19.1125613144863, \n . 19.3878828137577, 19.7101496696499, 20.077101384413, 20.4863369102434, \n . 19.8668064872037, 20.0820815654155, 20.3442866672685, 20.6516343178936, \n . 21.0021427478246, 21.3936906586965, 20.849220608934, 21.0544532106631, \n . 21.3046943183891, 21.5983795688473, 21.9337639268777, 22.3089668070935, \n . 21.8332315519256, 22.0292986724498, 22.2685877414802, 22.5497228364342, \n . 22.8711608800253, 23.2312289816962, 22.8186327373048, 23.0063034840454, \n . 23.8136515469594, 24.1596771501608, 23.8052515214606, 23.985203772326, \n . 24.2051647381298, 24.4640552648166, 24.7606542724541, 25.0936246883546, \n . 24.7929425442, 25.7116705019336, 26.032479712851, 25.7815825736125, \n . 26.6662708303955, 26.9757298325736, 26.771066471099, 27.6240836952106, \n . 27.9229296457231, 3.83275357934736, 7.81600921186765, 8.81419309976812, \n . 27.7613040039549, 28.5847861632722, 28.8736904464947, 28.752217305801, \n . 29.548096385385, 29.8276717160425, 29.7437388369384, 29.8879574410832, \n . 30.0647634283059, 30.2735858464107, 30.5137673845758, 30.7845740590965, \n . 30.7358097339244, 30.8753947343188, 31.4815819170511, 31.7441333162523, \n . 4.0853396431631, 7.94292137692424, 8.92692556258872, 4.54862616621766, \n . 8.19084855189009, 9.14822387133153, 5.1662365412358, 8.5492689745966, \n . 9.47048045243746, 5.88982172905089, 9.00499861188218, 9.88382517044894, \n . 6.68505796534331, 9.54410813015025, 10.3773792452623, 7.52927619363243, \n . 8.0802227692063, 10.1533245786787, 10.9402925006601, 2.62488094968134, \n . 3.08058436014987, 11.0855762141623, 12.0619235613562, 13.0418556961807, \n . 14.0246212070059, 3.75366487582469, 4.54862616621766, 5.41202365109392, \n . 8.19084855189009, 9.14822387133153, 10.1138518873869, 1.7, 2.343074902772, \n . 10.9036691072317, 11.894956914592, 12.887590930814, 13.8812823615111, \n . 3.17647603485372, 4.0853396431631, 5.02891638427206, 5.99082632030006, \n . 6.96347614342147, 7.94292137692424, 8.92692556258872, 9.91413132856329, \n . 8.40773453434396, 8.9044932477935, 9.48103369891701, 10.1237344888139, \n . 10.8208132781229, 11.5624391890293, 9.31074647920348, 9.76165969494942, \n . 10.2902866821095, 10.8853112036358, 11.536463929645, 12.2347864713692, \n . 10.2318131335556, 10.6437775249204, 11.1305884839931, 11.682893477217, \n . 12.2918672300021, 12.9495173655237, 11.1664676599182, 11.5451288429363, \n . 11.9954157910428, 12.5095963164284, 13.080137613955, 13.7, 12.1115647213727, \n . 13.8956827827926, 14.4806767797641, 13.0648383074572, 14.7339743450299, \n . 15.2869225156668, 14.0246212070059, 15.5913437522235, 16.1148999376354, \n . 14.9896631049534, 16.4648109615628, 16.9614268267737, 15.9590099943574, \n . 17.3519451359206, 17.8238604123798, 16.9319225134064, 18.2507534091062, \n . 18.7, 0.94339811320566, 1.86815416922694, 10.8115678788971, 11.8105884696742, \n . 12.8097619025492, 13.8090550002526, 2.84429253066558, 3.83275357934736, \n . 4.82597140480546, 5.82151183113115, 6.81835757349231, 7.81600921186765, \n . 8.81419309976812, 9.81274681218261, 17.9078195210919, 19.159592897554, \n . 19.5880065346119, 18.8862383761299, 19.1125613144863, 19.3878828137577, \n . 19.7101496696499, 20.077101384413, 20.4863369102434, 19.8668064872037, \n . 20.0820815654155, 20.3442866672685, 20.6516343178936, 21.0021427478246, \n . 21.3936906586965, 20.849220608934, 21.0544532106631, 21.3046943183891, \n . 21.5983795688473, 21.9337639268777, 22.3089668070935, 21.8332315519256, \n . 22.0292986724498, 22.2685877414802, 22.5497228364342, 22.8711608800253, \n . 23.2312289816962, 22.8186327373048, 23.0063034840454, 23.8136515469594, \n . 24.1596771501608, 23.8052515214606, 23.985203772326, 24.2051647381298, \n . 24.4640552648166, 24.7606542724541, 25.0936246883546, 24.7929425442, \n . 25.7116705019336, 26.032479712851, 25.7815825736125, 26.6662708303955, \n . 26.9757298325736, 26.771066471099, 27.6240836952106, 27.9229296457231, \n . 3.83275357934736, 7.81600921186765, 8.81419309976812, 27.7613040039549, \n . 28.5847861632722, 28.8736904464947, 28.752217305801, 29.548096385385, \n . 29.8276717160425, 29.7437388369384, 29.8879574410832, 30.0647634283059, \n . 30.2735858464107, 30.5137673845758, 30.7845740590965, 30.7358097339244, \n . 30.8753947343188, 31.4815819170511, 31.7441333162523, 4.0853396431631, \n . 7.94292137692424, 8.92692556258872, 4.54862616621766, 8.19084855189009, \n . 9.14822387133153, 5.1662365412358, 8.5492689745966, 9.47048045243746, \n . 5.88982172905089, 9.00499861188218, 9.88382517044894, 6.68505796534331, \n . 9.54410813015025, 10.3773792452623, 7.52927619363243, 8.0802227692063, \n . 10.1533245786787, 10.9402925006601, 34.7669383178905, 34.5128961404284, \n . 33.5073126347071, 33.5431065943511, 33.6086298441338, 33.7037089947086, \n . 34.2861488067703, 34.0872410147844, 33.9166625716623, 33.5788623988366, \n . 33.5252143915591, 33.5013432566517, 33.8044375785192, 33.5431065943511, \n . 32.5075375874581, 32.544431167252, 32.6119609959291, 32.7099373279742, \n . 33.3097583299549, 33.1049845189512, 32.9293182437778, 32.7832274189104, \n . 32.6671088405448, 32.5812829704418, 32.5259896083117, 32.5013845858911, \n . 24.3298170975451, 24.0902469891863, 23.8901653405748, 23.7305710002941, \n . 23.6122849381418, 23.5359299795016, 23.3653589743449, 23.1157954654388, \n . 22.9072041070053, 22.7407123898967, 22.6172500538859, 22.5375242651006, \n . 22.4040174968687, 22.1436221066022, 21.925783908449, 21.7517815362328, \n . 21.6226732852346, 21.5392664684757, 21.4462117867002, 21.174040710266, \n . 20.9461213593352, 20.7639109996166, 20.6286208942818, 20.5411781551108, \n . 20.4924376295257, 19.6351725227969, 19.5432852918848, 19.5432852918848, \n . 18.6424247349963, 18.545619428857, 18.599462357821, 17.6504957437461, \n . 17.5482192828788, 17.661823235442, 16.6595318061463, 16.5511328917389, \n . 16.7314075917121, 15.6697160152952, 15.5544205935162, 15.8094908203901, \n . 14.681280598095, 14.5581592242976, 32.8441775661989, 32.5751438983775, \n . 31.5077768177953, 31.5458396623073, 31.6155025264505, 31.7165571902122, \n . 32.3348109627998, 32.1238229356345, 31.9427613083152, 31.792137392758, \n . 31.672385448526, 31.5838566359462, 31.5268139842896, 31.5014285390361, \n . 14.8976508215222, 13.6945244532258, 13.5624481565829, 13.9978569788379, \n . 13.5771867483658, 13.2189258262538, 12.9282636111738, 12.709838708654, \n . 12.5674181914982, 13.1125893705248, 12.6625431884752, 12.2776219195738, \n . 11.96411300515, 11.7277448812634, 11.5732450073434, 12.2449989791751, \n . 11.7618025829377, 11.3463650567043, 11.0063617967065, 10.7489534374282, \n . 10.5801701309573, 11.3991227732664, 10.8784190027779, 10.427847332983, \n . 10.0568384694197, 9.77445650662992, 9.5885348202945, 10.5801701309573, \n . 10.0169855745129, 8.80567998510053, 8.59883713068226, 9.7948966303887, \n . 9.18368117913509, 8.64522989862039, 8.1939001702486, 7.84474346298208, \n . 7.61183289359403, 9.05207158610669, 6.89492567037528, 6.62872536767062, \n . 8.36301381082203, 5.96154342431555, 5.65154846037792, 7.74209274033837, \n . 5.05371150739731, 4.68401537145215, 31.1438597479503, 30.5865983724899, \n . 30.5276923464582, 7.2069410986909, 4.18807831827439, 3.73363094051889, \n . 6.77790528113222, 3.39705755029261, 2.81780056072107, 6.47610994347687, \n . 5.50817574156817, 4.55411901469428, 3.62491379207837, 2.7459060435492, \n . 1.98494332412792, 6.31981012372998, 5.32353266168247, 2.35372045918796, \n . 1.39283882771841, 30.1652117512873, 29.5895251736151, 29.5286301747982, \n . 29.1880112374927, 28.592656399852, 28.5296337165411, 28.212408617486, \n . 27.5960142049536, 27.5307101252401, 27.2385755868401, 26.5996240574937, \n . 26.5318676312091, 26.266708967817, 25.6035153836343, 25.5331157519015, \n . 25.2970353994297, 25.0667109928686, 24.6077223651438, 24.534465553584, \n . 34.7669383178905, 34.5128961404284, 33.5073126347071, 33.5431065943511, \n . 33.6086298441338, 33.7037089947086, 34.2861488067703, 34.0872410147844, \n . 33.9166625716623, 33.5788623988366, 33.5252143915591, 33.5013432566517, \n . 33.8044375785192, 33.5431065943511, 32.5075375874581, 32.544431167252, \n . 32.6119609959291, 32.7099373279742, 33.3097583299549, 33.1049845189512, \n . 32.9293182437778, 32.7832274189104, 32.6671088405448, 32.5812829704418, \n . 32.5259896083117, 32.5013845858911, 24.3298170975451, 24.0902469891863, \n . 23.8901653405748, 23.7305710002941, 23.6122849381418, 23.5359299795016, \n . 23.3653589743449, 23.1157954654388, 22.9072041070053, 22.7407123898967, \n . 22.6172500538859, 22.5375242651006, 22.4040174968687, 22.1436221066022, \n . 21.925783908449, 21.7517815362328, 21.6226732852346, 21.5392664684757, \n . 21.4462117867002, 21.174040710266, 20.9461213593352, 20.7639109996166, \n . 20.6286208942818, 20.5411781551108, 20.4924376295257, 19.6351725227969, \n . 19.5432852918848, 19.5432852918848, 18.6424247349963, 18.545619428857, \n . 18.599462357821, 17.6504957437461, 17.5482192828788, 17.661823235442, \n . 16.6595318061463, 16.5511328917389, 16.7314075917121, 15.6697160152952, \n . 15.5544205935162, 15.8094908203901, 14.681280598095, 14.5581592242976, \n . 32.8441775661989, 32.5751438983775, 31.5077768177953, 31.5458396623073, \n . 31.6155025264505, 31.7165571902122, 32.3348109627998, 32.1238229356345, \n . 31.9427613083152, 31.792137392758, 31.672385448526, 31.5838566359462, \n . 31.5268139842896, 31.5014285390361, 14.8976508215222, 13.6945244532258, \n . 13.5624481565829, 13.9978569788379, 13.5771867483658, 13.2189258262538, \n . 12.9282636111738, 12.709838708654, 12.5674181914982, 13.1125893705248, \n . 12.6625431884752, 12.2776219195738, 11.96411300515, 11.7277448812634, \n . 11.5732450073434, 12.2449989791751, 11.7618025829377, 11.3463650567043, \n . 11.0063617967065, 10.7489534374282, 10.5801701309573, 11.3991227732664, \n . 10.8784190027779, 10.427847332983, 10.0568384694197, 9.77445650662992, \n . 9.5885348202945, 10.5801701309573, 10.0169855745129, 8.80567998510053, \n . 8.59883713068226, 9.7948966303887, 9.18368117913509, 8.64522989862039, \n . 8.1939001702486, 7.84474346298208, 7.61183289359403, 9.05207158610669, \n . 6.89492567037528, 6.62872536767062, 8.36301381082203, 5.96154342431555, \n . 5.65154846037792, 7.74209274033837, 5.05371150739731, 4.68401537145215, \n . 31.1438597479503, 30.5865983724899, 30.5276923464582, 7.2069410986909, \n . 4.18807831827439, 3.73363094051889, 6.77790528113222, 3.39705755029261, \n . 2.81780056072107, 6.47610994347687, 5.50817574156817, 4.55411901469428, \n . 3.62491379207837, 2.7459060435492, 1.98494332412792, 6.31981012372998, \n . 5.32353266168247, 2.35372045918796, 1.39283882771841, 30.1652117512873, \n . 29.5895251736151, 29.5286301747982, 29.1880112374927, 28.592656399852, \n . 28.5296337165411, 28.212408617486, 27.5960142049536, 27.5307101252401, \n . 27.2385755868401, 26.5996240574937, 26.5318676312091, 26.266708967817, \n . 25.6035153836343, 25.5331157519015, 25.2970353994297, 25.0667109928686, \n . 24.6077223651438, 24.534465553584, 34.7669383178905, 34.5128961404284, \n . 33.5073126347071, 33.5431065943511, 33.6086298441338, 33.7037089947086, \n . 34.2861488067703, 34.0872410147844, 33.9166625716623, 33.5788623988366, \n . 33.5252143915591, 33.5013432566517, 33.8044375785192, 33.5431065943511, \n . 32.5075375874581, 32.544431167252, 32.6119609959291, 32.7099373279742, \n . 33.3097583299549, 33.1049845189512, 32.9293182437778, 32.7832274189104, \n . 32.6671088405448, 32.5812829704418, 32.5259896083117, 32.5013845858911, \n . 24.3298170975451, 24.0902469891863, 23.8901653405748, 23.7305710002941, \n . 23.6122849381418, 23.5359299795016, 23.3653589743449, 23.1157954654388, \n . 22.9072041070053, 22.7407123898967, 22.6172500538859, 22.5375242651006, \n . 22.4040174968687, 22.1436221066022, 21.925783908449, 21.7517815362328, \n . 21.6226732852346, 21.5392664684757, 21.4462117867002, 21.174040710266, \n . 20.9461213593352, 20.7639109996166, 20.6286208942818, 20.5411781551108, \n . 20.4924376295257, 19.6351725227969, 19.5432852918848, 19.5432852918848, \n . 18.6424247349963, 18.545619428857, 18.599462357821, 17.6504957437461, \n . 17.5482192828788, 17.661823235442, 16.6595318061463, 16.5511328917389, \n . 16.7314075917121, 15.6697160152952, 15.5544205935162, 15.8094908203901, \n . 14.681280598095, 14.5581592242976, 32.8441775661989, 32.5751438983775, \n . 31.5077768177953, 31.5458396623073, 31.6155025264505, 31.7165571902122, \n . 32.3348109627998, 32.1238229356345, 31.9427613083152, 31.792137392758, \n . 31.672385448526, 31.5838566359462, 31.5268139842896, 31.5014285390361, \n . 14.8976508215222, 13.6945244532258, 13.5624481565829, 13.9978569788379, \n . 13.5771867483658, 13.2189258262538, 12.9282636111738, 12.709838708654, \n . 12.5674181914982, 13.1125893705248, 12.6625431884752, 12.2776219195738, \n . 11.96411300515, 11.7277448812634, 11.5732450073434, 12.2449989791751, \n . 11.7618025829377, 11.3463650567043, 11.0063617967065, 10.7489534374282, \n . 10.5801701309573, 11.3991227732664, 10.8784190027779, 10.427847332983, \n . 10.0568384694197, 9.77445650662992, 9.5885348202945, 10.5801701309573, \n . 10.0169855745129, 8.80567998510053, 8.59883713068226, 9.7948966303887, \n . 9.18368117913509, 8.64522989862039, 8.1939001702486, 7.84474346298208, \n . 7.61183289359403, 9.05207158610669, 6.89492567037528, 6.62872536767062, \n . 8.36301381082203, 5.96154342431555, 5.65154846037792, 7.74209274033837, \n . 5.05371150739731, 4.68401537145215, 31.1438597479503, 30.5865983724899, \n . 30.5276923464582, 7.2069410986909, 4.18807831827439, 3.73363094051889, \n . 6.77790528113222, 3.39705755029261, 2.81780056072107, 6.47610994347687, \n . 5.50817574156817, 4.55411901469428, 3.62491379207837, 2.7459060435492, \n . 1.98494332412792, 6.31981012372998, 5.32353266168247, 2.35372045918796, \n . 1.39283882771841, 30.1652117512873, 29.5895251736151, 29.5286301747982, \n . 29.1880112374927, 28.592656399852, 28.5296337165411, 28.212408617486, \n . 27.5960142049536, 27.5307101252401, 27.2385755868401, 26.5996240574937, \n . 26.5318676312091, 26.266708967817, 25.6035153836343, 25.5331157519015, \n . 25.2970353994297, 25.0667109928686, 24.6077223651438, 24.534465553584, \n . 34.7669383178905, 34.5128961404284, 33.5073126347071, 33.5431065943511, \n . 33.6086298441338, 33.7037089947086, 34.2861488067703, 34.0872410147844, \n . 33.9166625716623, 33.5788623988366, 33.5252143915591, 33.5013432566517, \n . 33.8044375785192, 33.5431065943511, 32.5075375874581, 32.544431167252, \n . 32.6119609959291, 32.7099373279742, 33.3097583299549, 33.1049845189512, \n . 32.9293182437778, 32.7832274189104, 32.6671088405448, 32.5812829704418, \n . 32.5259896083117, 32.5013845858911, 24.3298170975451, 24.0902469891863, \n . 23.8901653405748, 23.7305710002941, 23.6122849381418, 23.5359299795016, \n . 23.3653589743449, 23.1157954654388, 22.9072041070053, 22.7407123898967, \n . 22.6172500538859, 22.5375242651006, 22.4040174968687, 22.1436221066022, \n . 21.925783908449, 21.7517815362328, 21.6226732852346, 21.5392664684757, \n . 21.4462117867002, 21.174040710266, 20.9461213593352, 20.7639109996166, \n . 20.6286208942818, 20.5411781551108, 20.4924376295257, 19.6351725227969, \n . 19.5432852918848, 19.5432852918848, 18.6424247349963, 18.545619428857, \n . 18.599462357821, 17.6504957437461, 17.5482192828788, 17.661823235442, \n . 16.6595318061463, 16.5511328917389, 16.7314075917121, 15.6697160152952, \n . 15.5544205935162, 15.8094908203901, 14.681280598095, 14.5581592242976, \n . 32.8441775661989, 32.5751438983775, 31.5077768177953, 31.5458396623073, \n . 31.6155025264505, 31.7165571902122, 32.3348109627998, 32.1238229356345, \n . 31.9427613083152, 31.792137392758, 31.672385448526, 31.5838566359462, \n . 31.5268139842896, 31.5014285390361, 14.8976508215222, 13.6945244532258, \n . 13.5624481565829, 13.9978569788379, 13.5771867483658, 13.2189258262538, \n . 12.9282636111738, 12.709838708654, 12.5674181914982, 13.1125893705248, \n . 12.6625431884752, 12.2776219195738, 11.96411300515, 11.7277448812634, \n . 11.5732450073434, 12.2449989791751, 11.7618025829377, 11.3463650567043, \n . 11.0063617967065, 10.7489534374282, 10.5801701309573, 11.3991227732664, \n . 10.8784190027779, 10.427847332983, 10.0568384694197, 9.77445650662992, \n . 9.5885348202945, 10.5801701309573, 10.0169855745129, 8.80567998510053, \n . 8.59883713068226, 9.7948966303887, 9.18368117913509, 8.64522989862039, \n . 8.1939001702486, 7.84474346298208, 7.61183289359403, 9.05207158610669, \n . 6.89492567037528, 6.62872536767062, 8.36301381082203, 5.96154342431555, \n . 5.65154846037792, 7.74209274033837, 5.05371150739731, 4.68401537145215, \n . 31.1438597479503, 30.5865983724899, 30.5276923464582, 7.2069410986909, \n . 4.18807831827439, 3.73363094051889, 6.77790528113222, 3.39705755029261, \n . 2.81780056072107, 6.47610994347687, 5.50817574156817, 4.55411901469428, \n . 3.62491379207837, 2.7459060435492, 1.98494332412792, 6.31981012372998, \n . 5.32353266168247, 2.35372045918796, 1.39283882771841, 30.1652117512873, \n . 29.5895251736151, 29.5286301747982, 29.1880112374927, 28.592656399852, \n . 28.5296337165411, 28.212408617486, 27.5960142049536, 27.5307101252401, \n . 27.2385755868401, 26.5996240574937, 26.5318676312091, 26.266708967817, \n . 25.6035153836343, 25.5331157519015, 25.2970353994297, 25.0667109928686, \n . 24.6077223651438, 24.534465553584, 34.7669383178905, 34.5128961404284, \n . 33.5073126347071, 33.5431065943511, 33.6086298441338, 33.7037089947086, \n . 34.2861488067703, 34.0872410147844, 33.9166625716623, 33.5788623988366, \n . 33.5252143915591, 33.5013432566517, 33.8044375785192, 33.5431065943511, \n . 32.5075375874581, 32.544431167252, 32.6119609959291, 32.7099373279742, \n . 33.3097583299549, 33.1049845189512, 32.9293182437778, 32.7832274189104, \n . 32.6671088405448, 32.5812829704418, 32.5259896083117, 32.5013845858911, \n . 24.3298170975451, 24.0902469891863, 23.8901653405748, 23.7305710002941, \n . 23.6122849381418, 23.5359299795016, 23.3653589743449, 23.1157954654388, \n . 22.9072041070053, 22.7407123898967, 22.6172500538859, 22.5375242651006, \n . 22.4040174968687, 22.1436221066022, 21.925783908449, 21.7517815362328, \n . 21.6226732852346, 21.5392664684757, 21.4462117867002, 21.174040710266, \n . 20.9461213593352, 20.7639109996166, 20.6286208942818, 20.5411781551108, \n . 20.4924376295257, 19.6351725227969, 19.5432852918848, 19.5432852918848, \n . 18.6424247349963, 18.545619428857, 18.599462357821, 17.6504957437461, \n . 17.5482192828788, 17.661823235442, 16.6595318061463, 16.5511328917389, \n . 16.7314075917121, 15.6697160152952, 15.5544205935162, 15.8094908203901, \n . 14.681280598095, 14.5581592242976, 32.8441775661989, 32.5751438983775, \n . 31.5077768177953, 31.5458396623073, 31.6155025264505, 31.7165571902122, \n . 32.3348109627998, 32.1238229356345, 31.9427613083152, 31.792137392758, \n . 31.672385448526, 31.5838566359462, 31.5268139842896, 31.5014285390361, \n . 14.8976508215222, 13.6945244532258, 13.5624481565829, 13.9978569788379, \n . 13.5771867483658, 13.2189258262538, 12.9282636111738, 12.709838708654, \n . 12.5674181914982, 13.1125893705248, 12.6625431884752, 12.2776219195738, \n . 11.96411300515, 11.7277448812634, 11.5732450073434, 12.2449989791751, \n . 11.7618025829377, 11.3463650567043, 11.0063617967065, 10.7489534374282, \n . 10.5801701309573, 11.3991227732664, 10.8784190027779, 10.427847332983, \n . 10.0568384694197, 9.77445650662992, 9.5885348202945, 10.5801701309573, \n . 10.0169855745129, 8.80567998510053, 8.59883713068226, 9.7948966303887, \n . 9.18368117913509, 8.64522989862039, 8.1939001702486, 7.84474346298208, \n . 7.61183289359403, 9.05207158610669, 6.89492567037528, 6.62872536767062, \n . 8.36301381082203, 5.96154342431555, 5.65154846037792, 7.74209274033837, \n . 5.05371150739731, 4.68401537145215, 31.1438597479503, 30.5865983724899, \n . 30.5276923464582, 7.2069410986909, 4.18807831827439, 3.73363094051889, \n . 6.77790528113222, 3.39705755029261, 2.81780056072107, 6.47610994347687, \n . 5.50817574156817, 4.55411901469428, 3.62491379207837, 2.7459060435492, \n . 1.98494332412792, 6.31981012372998, 5.32353266168247, 2.35372045918796, \n . 1.39283882771841, 30.1652117512873, 29.5895251736151, 29.5286301747982, \n . 29.1880112374927, 28.592656399852, 28.5296337165411, 28.212408617486, \n . 27.5960142049536, 27.5307101252401, 27.2385755868401, 26.5996240574937, \n . 26.5318676312091, 26.266708967817, 25.6035153836343, 25.5331157519015, \n . 25.2970353994297, 25.0667109928686, 24.6077223651438, 24.534465553584, \n . 34.7669383178905, 34.5128961404284, 33.5073126347071, 33.5431065943511, \n . 33.6086298441338, 33.7037089947086, 34.2861488067703, 34.0872410147844, \n . 33.9166625716623, 33.5788623988366, 33.5252143915591, 33.5013432566517, \n . 33.8044375785192, 33.5431065943511, 32.5075375874581, 32.544431167252, \n . 32.6119609959291, 32.7099373279742, 33.3097583299549, 33.1049845189512, \n . 32.9293182437778, 32.7832274189104, 32.6671088405448, 32.5812829704418, \n . 32.5259896083117, 32.5013845858911, 24.3298170975451, 24.0902469891863, \n . 23.8901653405748, 23.7305710002941, 23.6122849381418, 23.5359299795016, \n . 23.3653589743449, 23.1157954654388, 22.9072041070053, 22.7407123898967, \n . 22.6172500538859, 22.5375242651006, 22.4040174968687, 22.1436221066022, \n . 21.925783908449, 21.7517815362328, 21.6226732852346, 21.5392664684757, \n . 21.4462117867002, 21.174040710266, 20.9461213593352, 20.7639109996166, \n . 20.6286208942818, 20.5411781551108, 20.4924376295257, 19.6351725227969, \n . 19.5432852918848, 19.5432852918848, 18.6424247349963, 18.545619428857, \n . 18.599462357821, 17.6504957437461, 17.5482192828788, 17.661823235442, \n . 16.6595318061463, 16.5511328917389, 16.7314075917121, 15.6697160152952, \n . 15.5544205935162, 15.8094908203901, 14.681280598095, 14.5581592242976, \n . 32.8441775661989, 32.5751438983775, 31.5077768177953, 31.5458396623073, \n . 31.6155025264505, 31.7165571902122, 32.3348109627998, 32.1238229356345, \n . 31.9427613083152, 31.792137392758, 31.672385448526, 31.5838566359462, \n . 31.5268139842896, 31.5014285390361, 14.8976508215222, 13.6945244532258, \n . 13.5624481565829, 13.9978569788379, 13.5771867483658, 13.2189258262538, \n . 12.9282636111738, 12.709838708654, 12.5674181914982, 13.1125893705248, \n . 12.6625431884752, 12.2776219195738, 11.96411300515, 11.7277448812634, \n . 11.5732450073434, 12.2449989791751, 11.7618025829377, 11.3463650567043, \n . 11.0063617967065, 10.7489534374282, 10.5801701309573, 11.3991227732664, \n . 10.8784190027779, 10.427847332983, 10.0568384694197, 9.77445650662992, \n . 9.5885348202945, 10.5801701309573, 10.0169855745129, 8.80567998510053, \n . 8.59883713068226, 9.7948966303887, 9.18368117913509, 8.64522989862039, \n . 8.1939001702486, 7.84474346298208, 7.61183289359403, 9.05207158610669, \n . 6.89492567037528, 6.62872536767062, 8.36301381082203, 5.96154342431555, \n . 5.65154846037792, 7.74209274033837, 5.05371150739731, 4.68401537145215, \n . 31.1438597479503, 30.5865983724899, 30.5276923464582, 7.2069410986909, \n . 4.18807831827439, 3.73363094051889, 6.77790528113222, 3.39705755029261, \n . 2.81780056072107, 6.47610994347687, 5.50817574156817, 4.55411901469428, \n . 3.62491379207837, 2.7459060435492, 1.98494332412792, 6.31981012372998, \n . 5.32353266168247, 2.35372045918796, 1.39283882771841, 30.1652117512873, \n . 29.5895251736151, 29.5286301747982, 29.1880112374927, 28.592656399852, \n . 28.5296337165411, 28.212408617486, 27.5960142049536, 27.5307101252401, \n . 27.2385755868401, 26.5996240574937, 26.5318676312091, 26.266708967817, \n . 25.6035153836343, 25.5331157519015, 25.2970353994297, 25.0667109928686, \n . 24.6077223651438, 24.534465553584, 34.7669383178905, 34.5128961404284, \n . 33.5073126347071, 33.5431065943511, 33.6086298441338, 33.7037089947086, \n . 34.2861488067703, 34.0872410147844, 33.9166625716623, 33.5788623988366, \n . 33.5252143915591, 33.5013432566517, 33.8044375785192, 33.5431065943511, \n . 32.5075375874581, 32.544431167252, 32.6119609959291, 32.7099373279742, \n . 33.3097583299549, 33.1049845189512, 32.9293182437778, 32.7832274189104, \n . 32.6671088405448, 32.5812829704418, 32.5259896083117, 32.5013845858911, \n . 24.3298170975451, 24.0902469891863, 23.8901653405748, 23.7305710002941, \n . 23.6122849381418, 23.5359299795016, 23.3653589743449, 23.1157954654388, \n . 22.9072041070053, 22.7407123898967, 22.6172500538859, 22.5375242651006, \n . 22.4040174968687, 22.1436221066022, 21.925783908449, 21.7517815362328, \n . 21.6226732852346, 21.5392664684757, 21.4462117867002, 21.174040710266, \n . 20.9461213593352, 20.7639109996166, 20.6286208942818, 20.5411781551108, \n . 20.4924376295257, 19.6351725227969, 19.5432852918848, 19.5432852918848, \n . 18.6424247349963, 18.545619428857, 18.599462357821, 17.6504957437461, \n . 17.5482192828788, 17.661823235442, 16.6595318061463, 16.5511328917389, \n . 16.7314075917121, 15.6697160152952, 15.5544205935162, 15.8094908203901, \n . 14.681280598095, 14.5581592242976, 32.8441775661989, 32.5751438983775, \n . 31.5077768177953, 31.5458396623073, 31.6155025264505, 31.7165571902122, \n . 32.3348109627998, 32.1238229356345, 31.9427613083152, 31.792137392758, \n . 31.672385448526, 31.5838566359462, 31.5268139842896, 31.5014285390361, \n . 14.8976508215222, 13.6945244532258, 13.5624481565829, 13.9978569788379, \n . 13.5771867483658, 13.2189258262538, 12.9282636111738, 12.709838708654, \n . 12.5674181914982, 13.1125893705248, 12.6625431884752, 12.2776219195738, \n . 11.96411300515, 11.7277448812634, 11.5732450073434, 12.2449989791751, \n . 11.7618025829377, 11.3463650567043, 11.0063617967065, 10.7489534374282, \n . 10.5801701309573, 11.3991227732664, 10.8784190027779, 10.427847332983, \n . 10.0568384694197, 9.77445650662992, 9.5885348202945, 10.5801701309573, \n . 10.0169855745129, 8.80567998510053, 8.59883713068226, 9.7948966303887, \n . 9.18368117913509, 8.64522989862039, 8.1939001702486, 7.84474346298208, \n . 7.61183289359403, 9.05207158610669, 6.89492567037528, 6.62872536767062, \n . 8.36301381082203, 5.96154342431555, 5.65154846037792, 7.74209274033837, \n . 5.05371150739731, 4.68401537145215, 31.1438597479503, 30.5865983724899, \n . 30.5276923464582, 7.2069410986909, 4.18807831827439, 3.73363094051889, \n . 6.77790528113222, 3.39705755029261, 2.81780056072107, 6.47610994347687, \n . 5.50817574156817, 4.55411901469428, 3.62491379207837, 2.7459060435492, \n . 1.98494332412792, 6.31981012372998, 5.32353266168247, 2.35372045918796, \n . 1.39283882771841, 30.1652117512873, 29.5895251736151, 29.5286301747982, \n . 29.1880112374927, 28.592656399852, 28.5296337165411, 28.212408617486, \n . 27.5960142049536, 27.5307101252401, 27.2385755868401, 26.5996240574937, \n . 26.5318676312091, 26.266708967817, 25.6035153836343, 25.5331157519015, \n . 25.2970353994297, 25.0667109928686, 24.6077223651438, 24.534465553584, \n . 34.7669383178905, 34.5128961404284, 33.5073126347071, 33.5431065943511, \n . 33.6086298441338, 33.7037089947086, 34.2861488067703, 34.0872410147844, \n . 33.9166625716623, 33.5788623988366, 33.5252143915591, 33.5013432566517, \n . 33.8044375785192, 33.5431065943511, 32.5075375874581, 32.544431167252, \n . 32.6119609959291, 32.7099373279742, 33.3097583299549, 33.1049845189512, \n . 32.9293182437778, 32.7832274189104, 32.6671088405448, 32.5812829704418, \n . 32.5259896083117, 32.5013845858911, 24.3298170975451, 24.0902469891863, \n . 23.8901653405748, 23.7305710002941, 23.6122849381418, 23.5359299795016, \n . 23.3653589743449, 23.1157954654388, 22.9072041070053, 22.7407123898967, \n . 22.6172500538859, 22.5375242651006, 22.4040174968687, 22.1436221066022, \n . 21.925783908449, 21.7517815362328, 21.6226732852346, 21.5392664684757, \n . 21.4462117867002, 21.174040710266, 20.9461213593352, 20.7639109996166, \n . 20.6286208942818, 20.5411781551108, 20.4924376295257, 19.6351725227969, \n . 19.5432852918848, 19.5432852918848, 18.6424247349963, 18.545619428857, \n . 18.599462357821, 17.6504957437461, 17.5482192828788, 17.661823235442, \n . 16.6595318061463, 16.5511328917389, 16.7314075917121, 15.6697160152952, \n . 15.5544205935162, 15.8094908203901, 14.681280598095, 14.5581592242976, \n . 32.8441775661989, 32.5751438983775, 31.5077768177953, 31.5458396623073, \n . 31.6155025264505, 31.7165571902122, 32.3348109627998, 32.1238229356345, \n . 31.9427613083152, 31.792137392758, 31.672385448526, 31.5838566359462, \n . 31.5268139842896, 31.5014285390361, 14.8976508215222, 13.6945244532258, \n . 13.5624481565829, 13.9978569788379, 13.5771867483658, 13.2189258262538, \n . 12.9282636111738, 12.709838708654, 12.5674181914982, 13.1125893705248, \n . 12.6625431884752, 12.2776219195738, 11.96411300515, 11.7277448812634, \n . 11.5732450073434, 12.2449989791751, 11.7618025829377, 11.3463650567043, \n . 11.0063617967065, 10.7489534374282, 10.5801701309573, 11.3991227732664, \n . 10.8784190027779, 10.427847332983, 10.0568384694197, 9.77445650662992, \n . 9.5885348202945, 10.5801701309573, 10.0169855745129, 8.80567998510053, \n . 8.59883713068226, 9.7948966303887, 9.18368117913509, 8.64522989862039, \n . 8.1939001702486, 7.84474346298208, 7.61183289359403, 9.05207158610669, \n . 6.89492567037528, 6.62872536767062, 8.36301381082203, 5.96154342431555, \n . 5.65154846037792, 7.74209274033837, 5.05371150739731, 4.68401537145215, \n . 31.1438597479503, 30.5865983724899, 30.5276923464582, 7.2069410986909, \n . 4.18807831827439, 3.73363094051889, 6.77790528113222, 3.39705755029261, \n . 2.81780056072107, 6.47610994347687, 5.50817574156817, 4.55411901469428, \n . 3.62491379207837, 2.7459060435492, 1.98494332412792, 6.31981012372998, \n . 5.32353266168247, 2.35372045918796, 1.39283882771841, 30.1652117512873, \n . 29.5895251736151, 29.5286301747982, 29.1880112374927, 28.592656399852, \n . 28.5296337165411, 28.212408617486, 27.5960142049536, 27.5307101252401, \n . 27.2385755868401, 26.5996240574937, 26.5318676312091, 26.266708967817, \n . 25.6035153836343, 25.5331157519015, 25.2970353994297, 25.0667109928686, \n . 24.6077223651438, 24.534465553584, 14.0356688476182, 13.0384048104053, \n . 4.12310562561766, 3.16227766016838, 2.23606797749979, 1.4142135623731, \n . 12.0415945787923, 11.0453610171873, 10.0498756211209, 7.07106781186548, \n . 6.08276253029822, 5.09901951359278, 14, 13, 4, 3, 2, 1, 12, 11, \n . 10, 9, 8, 7, 6, 5, 14.2126704035519, 13.4536240470737, 12.7279220613579, \n . 12.0415945787923, 11.4017542509914, 10.816653826392, 14.8660687473185, \n . 14.142135623731, 13.4536240470737, 12.8062484748657, 12.2065556157337, \n . 11.6619037896906, 15.556349186104, 14.8660687473185, 14.2126704035519, \n . 13.6014705087354, 13.0384048104053, 12.5299640861417, 16.2788205960997, \n . 15.6204993518133, 15, 14.422205101856, 13.8924439894498, 13.4164078649987, \n . 17.0293863659264, 14.7648230602334, 14.3178210632764, 17.8044938147649, \n . 15.6524758424985, 15.2315462117278, 18.6010752377383, 16.5529453572468, \n . 16.1554944214035, 19.4164878389476, 17.464249196573, 17.0880074906351, \n . 20.2484567313166, 18.3847763108502, 18.0277563773199, 21.095023109729, \n . 19.313207915828, 18.9736659610103, 14.0356688476182, 13.0384048104053, \n . 4.12310562561766, 3.16227766016838, 2.23606797749979, 1.4142135623731, \n . 12.0415945787923, 11.0453610171873, 10.0498756211209, 9.05538513813742, \n . 8.06225774829855, 7.07106781186548, 6.08276253029822, 5.09901951359278, \n . 21.9544984001001, 20.2484567313166, 19.9248588451713, 22.8254244210267, \n . 22.3606797749979, 21.9317121994613, 21.540659228538, 21.1896201004171, \n . 20.8806130178211, 23.7065391822594, 23.259406699226, 22.8473193175917, \n . 22.4722050542442, 22.1359436211787, 21.8403296678416, 24.5967477524977, \n . 24.1660919471891, 23.7697286480094, 23.4093998214393, 23.0867927612304, \n . 22.8035085019828, 25.4950975679639, 25.0798724079689, 24.6981780704569, \n . 24.3515913237718, 24.0416305603426, 23.7697286480094, 26.4007575648882, \n . 26, 25, 24.738633753706, 27.3130005674953, 26.9258240356725, \n . 26.5706605111728, 26.2488094968134, 25.9615099714943, 25.7099202643649, \n . 28.2311884269862, 26.9258240356725, 26.6833281282527, 29.1547594742265, \n . 27.8926513619627, 27.6586333718787, 30.0832179129826, 28.8617393793236, \n . 28.6356421265527, 11.1803398874989, 7.28010988928052, 6.32455532033676, \n . 31.0161248385416, 29.8328677803526, 29.6141857899217, 31.9530906173409, \n . 30.8058436014987, 30.5941170815567, 32.8937684067971, 32.5729949498047, \n . 32.2800247831379, 32.0156211871642, 31.7804971641414, 31.5753068076939, \n . 33.8378486313773, 33.5261092284804, 32.7566787083184, 32.5576411921994, \n . 11.4017542509914, 7.61577310586391, 6.70820393249937, 11.7046999107196, \n . 8.06225774829855, 7.21110255092798, 12.0830459735946, 8.60232526704263, \n . 7.81024967590665, 12.5299640861417, 9.21954445729289, 8.48528137423857, \n . 13.0384048104053, 9.89949493661167, 9.21954445729289, 13.6014705087354, \n . 12.8062484748657, 10.6301458127346, 10, 14.0356688476182, 13.0384048104053, \n . 4.12310562561766, 3.16227766016838, 2.23606797749979, 1.4142135623731, \n . 12.0415945787923, 11.0453610171873, 10.0498756211209, 7.07106781186548, \n . 6.08276253029822, 5.09901951359278, 14, 13, 4, 3, 2, 1, 12, 11, \n . 10, 9, 8, 7, 6, 5, 14.2126704035519, 13.4536240470737, 12.7279220613579, \n . 12.0415945787923, 11.4017542509914, 10.816653826392, 14.8660687473185, \n . 14.142135623731, 13.4536240470737, 12.8062484748657, 12.2065556157337, \n . 11.6619037896906, 15.556349186104, 14.8660687473185, 14.2126704035519, \n . 13.6014705087354, 13.0384048104053, 12.5299640861417, 16.2788205960997, \n . 15.6204993518133, 15, 14.422205101856, 13.8924439894498, 13.4164078649987, \n . 17.0293863659264, 14.7648230602334, 14.3178210632764, 17.8044938147649, \n . 15.6524758424985, 15.2315462117278, 18.6010752377383, 16.5529453572468, \n . 16.1554944214035, 19.4164878389476, 17.464249196573, 17.0880074906351, \n . 20.2484567313166, 18.3847763108502, 18.0277563773199, 21.095023109729, \n . 19.313207915828, 18.9736659610103, 14.0356688476182, 13.0384048104053, \n . 4.12310562561766, 3.16227766016838, 2.23606797749979, 1.4142135623731, \n . 12.0415945787923, 11.0453610171873, 10.0498756211209, 9.05538513813742, \n . 8.06225774829855, 7.07106781186548, 6.08276253029822, 5.09901951359278, \n . 21.9544984001001, 20.2484567313166, 19.9248588451713, 22.8254244210267, \n . 22.3606797749979, 21.9317121994613, 21.540659228538, 21.1896201004171, \n . 20.8806130178211, 23.7065391822594, 23.259406699226, 22.8473193175917, \n . 22.4722050542442, 22.1359436211787, 21.8403296678416, 24.5967477524977, \n . 24.1660919471891, 23.7697286480094, 23.4093998214393, 23.0867927612304, \n . 22.8035085019828, 25.4950975679639, 25.0798724079689, 24.6981780704569, \n . 24.3515913237718, 24.0416305603426, 23.7697286480094, 26.4007575648882, \n . 26, 25, 24.738633753706, 27.3130005674953, 26.9258240356725, \n . 26.5706605111728, 26.2488094968134, 25.9615099714943, 25.7099202643649, \n . 28.2311884269862, 26.9258240356725, 26.6833281282527, 29.1547594742265, \n . 27.8926513619627, 27.6586333718787, 30.0832179129826, 28.8617393793236, \n . 28.6356421265527, 11.1803398874989, 7.28010988928052, 6.32455532033676, \n . 31.0161248385416, 29.8328677803526, 29.6141857899217, 31.9530906173409, \n . 30.8058436014987, 30.5941170815567, 32.8937684067971, 32.5729949498047, \n . 32.2800247831379, 32.0156211871642, 31.7804971641414, 31.5753068076939, \n . 33.8378486313773, 33.5261092284804, 32.7566787083184, 32.5576411921994, \n . 11.4017542509914, 7.61577310586391, 6.70820393249937, 11.7046999107196, \n . 8.06225774829855, 7.21110255092798, 12.0830459735946, 8.60232526704263, \n . 7.81024967590665, 12.5299640861417, 9.21954445729289, 8.48528137423857, \n . 13.0384048104053, 9.89949493661167, 9.21954445729289, 13.6014705087354, \n . 12.8062484748657, 10.6301458127346, 10, 14.0356688476182, 13.0384048104053, \n . 4.12310562561766, 3.16227766016838, 2.23606797749979, 1.4142135623731, \n . 12.0415945787923, 11.0453610171873, 10.0498756211209, 7.07106781186548, \n . 6.08276253029822, 5.09901951359278, 14, 13, 4, 3, 2, 1, 12, 11, \n . 10, 9, 8, 7, 6, 5, 14.2126704035519, 13.4536240470737, 12.7279220613579, \n . 12.0415945787923, 11.4017542509914, 10.816653826392, 14.8660687473185, \n . 14.142135623731, 13.4536240470737, 12.8062484748657, 12.2065556157337, \n . 11.6619037896906, 15.556349186104, 14.8660687473185, 14.2126704035519, \n . 13.6014705087354, 13.0384048104053, 12.5299640861417, 16.2788205960997, \n . 15.6204993518133, 15, 14.422205101856, 13.8924439894498, 13.4164078649987, \n . 17.0293863659264, 14.7648230602334, 14.3178210632764, 17.8044938147649, \n . 15.6524758424985, 15.2315462117278, 18.6010752377383, 16.5529453572468, \n . 16.1554944214035, 19.4164878389476, 17.464249196573, 17.0880074906351, \n . 20.2484567313166, 18.3847763108502, 18.0277563773199, 21.095023109729, \n . 19.313207915828, 18.9736659610103, 14.0356688476182, 13.0384048104053, \n . 4.12310562561766, 3.16227766016838, 2.23606797749979, 1.4142135623731, \n . 12.0415945787923, 11.0453610171873, 10.0498756211209, 9.05538513813742, \n . 8.06225774829855, 7.07106781186548, 6.08276253029822, 5.09901951359278, \n . 21.9544984001001, 20.2484567313166, 19.9248588451713, 22.8254244210267, \n . 22.3606797749979, 21.9317121994613, 21.540659228538, 21.1896201004171, \n . 20.8806130178211, 23.7065391822594, 23.259406699226, 22.8473193175917, \n . 22.4722050542442, 22.1359436211787, 21.8403296678416, 24.5967477524977, \n . 24.1660919471891, 23.7697286480094, 23.4093998214393, 23.0867927612304, \n . 22.8035085019828, 25.4950975679639, 25.0798724079689, 24.6981780704569, \n . 24.3515913237718, 24.0416305603426, 23.7697286480094, 26.4007575648882, \n . 26, 25, 24.738633753706, 27.3130005674953, 26.9258240356725, \n . 26.5706605111728, 26.2488094968134, 25.9615099714943, 25.7099202643649, \n . 28.2311884269862, 26.9258240356725, 26.6833281282527, 29.1547594742265, \n . 27.8926513619627, 27.6586333718787, 30.0832179129826, 28.8617393793236, \n . 28.6356421265527, 11.1803398874989, 7.28010988928052, 6.32455532033676, \n . 31.0161248385416, 29.8328677803526, 29.6141857899217, 31.9530906173409, \n . 30.8058436014987, 30.5941170815567, 32.8937684067971, 32.5729949498047, \n . 32.2800247831379, 32.0156211871642, 31.7804971641414, 31.5753068076939, \n . 33.8378486313773, 33.5261092284804, 32.7566787083184, 32.5576411921994, \n . 11.4017542509914, 7.61577310586391, 6.70820393249937, 11.7046999107196, \n . 8.06225774829855, 7.21110255092798, 12.0830459735946, 8.60232526704263, \n . 7.81024967590665, 12.5299640861417, 9.21954445729289, 8.48528137423857, \n . 13.0384048104053, 9.89949493661167, 9.21954445729289, 13.6014705087354, \n . 12.8062484748657, 10.6301458127346, 10, 14.0356688476182, 13.0384048104053, \n . 4.12310562561766, 3.16227766016838, 2.23606797749979, 1.4142135623731, \n . 12.0415945787923, 11.0453610171873, 10.0498756211209, 7.07106781186548, \n . 6.08276253029822, 5.09901951359278, 14, 13, 4, 3, 2, 1, 12, 11, \n . 10, 9, 8, 7, 6, 5, 14.2126704035519, 13.4536240470737, 12.7279220613579, \n . 12.0415945787923, 11.4017542509914, 10.816653826392, 14.8660687473185, \n . 14.142135623731, 13.4536240470737, 12.8062484748657, 12.2065556157337, \n . 11.6619037896906, 15.556349186104, 14.8660687473185, 14.2126704035519, \n . 13.6014705087354, 13.0384048104053, 12.5299640861417, 16.2788205960997, \n . 15.6204993518133, 15, 14.422205101856, 13.8924439894498, 13.4164078649987, \n . 17.0293863659264, 14.7648230602334, 14.3178210632764, 17.8044938147649, \n . 15.6524758424985, 15.2315462117278, 18.6010752377383, 16.5529453572468, \n . 16.1554944214035, 19.4164878389476, 17.464249196573, 17.0880074906351, \n . 20.2484567313166, 18.3847763108502, 18.0277563773199, 21.095023109729, \n . 19.313207915828, 18.9736659610103, 14.0356688476182, 13.0384048104053, \n . 4.12310562561766, 3.16227766016838, 2.23606797749979, 1.4142135623731, \n . 12.0415945787923, 11.0453610171873, 10.0498756211209, 9.05538513813742, \n . 8.06225774829855, 7.07106781186548, 6.08276253029822, 5.09901951359278, \n . 21.9544984001001, 20.2484567313166, 19.9248588451713, 22.8254244210267, \n . 22.3606797749979, 21.9317121994613, 21.540659228538, 21.1896201004171, \n . 20.8806130178211, 23.7065391822594, 23.259406699226, 22.8473193175917, \n . 22.4722050542442, 22.1359436211787, 21.8403296678416, 24.5967477524977, \n . 24.1660919471891, 23.7697286480094, 23.4093998214393, 23.0867927612304, \n . 22.8035085019828, 25.4950975679639, 25.0798724079689, 24.6981780704569, \n . 24.3515913237718, 24.0416305603426, 23.7697286480094, 26.4007575648882, \n . 26, 25, 24.738633753706, 27.3130005674953, 26.9258240356725, \n . 26.5706605111728, 26.2488094968134, 25.9615099714943, 25.7099202643649, \n . 28.2311884269862, 26.9258240356725, 26.6833281282527, 29.1547594742265, \n . 27.8926513619627, 27.6586333718787, 30.0832179129826, 28.8617393793236, \n . 28.6356421265527, 11.1803398874989, 7.28010988928052, 6.32455532033676, \n . 31.0161248385416, 29.8328677803526, 29.6141857899217, 31.9530906173409, \n . 30.8058436014987, 30.5941170815567, 32.8937684067971, 32.5729949498047, \n . 32.2800247831379, 32.0156211871642, 31.7804971641414, 31.5753068076939, \n . 33.8378486313773, 33.5261092284804, 32.7566787083184, 32.5576411921994, \n . 11.4017542509914, 7.61577310586391, 6.70820393249937, 11.7046999107196, \n . 8.06225774829855, 7.21110255092798, 12.0830459735946, 8.60232526704263, \n . 7.81024967590665, 12.5299640861417, 9.21954445729289, 8.48528137423857, \n . 13.0384048104053, 9.89949493661167, 9.21954445729289, 13.6014705087354, \n . 12.8062484748657, 10.6301458127346, 10, 14.0356688476182, 13.0384048104053, \n . 4.12310562561766, 3.16227766016838, 2.23606797749979, 1.4142135623731, \n . 12.0415945787923, 11.0453610171873, 10.0498756211209, 7.07106781186548, \n . 6.08276253029822, 5.09901951359278, 14, 13, 4, 3, 2, 1, 12, 11, \n . 10, 9, 8, 7, 6, 5, 14.2126704035519, 13.4536240470737, 12.7279220613579, \n . 12.0415945787923, 11.4017542509914, 10.816653826392, 14.8660687473185, \n . 14.142135623731, 13.4536240470737, 12.8062484748657, 12.2065556157337, \n . 11.6619037896906, 15.556349186104, 14.8660687473185, 14.2126704035519, \n . 13.6014705087354, 13.0384048104053, 12.5299640861417, 16.2788205960997, \n . 15.6204993518133, 15, 14.422205101856, 13.8924439894498, 13.4164078649987, \n . 17.0293863659264, 14.7648230602334, 14.3178210632764, 17.8044938147649, \n . 15.6524758424985, 15.2315462117278, 18.6010752377383, 16.5529453572468, \n . 16.1554944214035, 19.4164878389476, 17.464249196573, 17.0880074906351, \n . 20.2484567313166, 18.3847763108502, 18.0277563773199, 21.095023109729, \n . 19.313207915828, 18.9736659610103, 14.0356688476182, 13.0384048104053, \n . 4.12310562561766, 3.16227766016838, 2.23606797749979, 1.4142135623731, \n . 12.0415945787923, 11.0453610171873, 10.0498756211209, 9.05538513813742, \n . 8.06225774829855, 7.07106781186548, 6.08276253029822, 5.09901951359278, \n . 21.9544984001001, 20.2484567313166, 19.9248588451713, 22.8254244210267, \n . 22.3606797749979, 21.9317121994613, 21.540659228538, 21.1896201004171, \n . 20.8806130178211, 23.7065391822594, 23.259406699226, 22.8473193175917, \n . 22.4722050542442, 22.1359436211787, 21.8403296678416, 24.5967477524977, \n . 24.1660919471891, 23.7697286480094, 23.4093998214393, 23.0867927612304, \n . 22.8035085019828, 25.4950975679639, 25.0798724079689, 24.6981780704569, \n . 24.3515913237718, 24.0416305603426, 23.7697286480094, 26.4007575648882, \n . 26, 25, 24.738633753706, 27.3130005674953, 26.9258240356725, \n . 26.5706605111728, 26.2488094968134, 25.9615099714943, 25.7099202643649, \n . 28.2311884269862, 26.9258240356725, 26.6833281282527, 29.1547594742265, \n . 27.8926513619627, 27.6586333718787, 30.0832179129826, 28.8617393793236, \n . 28.6356421265527, 11.1803398874989, 7.28010988928052, 6.32455532033676, \n . 31.0161248385416, 29.8328677803526, 29.6141857899217, 31.9530906173409, \n . 30.8058436014987, 30.5941170815567, 32.8937684067971, 32.5729949498047, \n . 32.2800247831379, 32.0156211871642, 31.7804971641414, 31.5753068076939, \n . 33.8378486313773, 33.5261092284804, 32.7566787083184, 32.5576411921994, \n . 11.4017542509914, 7.61577310586391, 6.70820393249937, 11.7046999107196, \n . 8.06225774829855, 7.21110255092798, 12.0830459735946, 8.60232526704263, \n . 7.81024967590665, 12.5299640861417, 9.21954445729289, 8.48528137423857, \n . 13.0384048104053, 9.89949493661167, 9.21954445729289, 13.6014705087354, \n . 12.8062484748657, 10.6301458127346, 10, 14.0356688476182, 13.0384048104053, \n . 4.12310562561766, 3.16227766016838, 2.23606797749979, 1.4142135623731, \n . 12.0415945787923, 11.0453610171873, 10.0498756211209, 7.07106781186548, \n . 6.08276253029822, 5.09901951359278, 14, 13, 4, 3, 2, 1, 12, 11, \n . 10, 9, 8, 7, 6, 5, 14.2126704035519, 13.4536240470737, 12.7279220613579, \n . 12.0415945787923, 11.4017542509914, 10.816653826392, 14.8660687473185, \n . 14.142135623731, 13.4536240470737, 12.8062484748657, 12.2065556157337, \n . 11.6619037896906, 15.556349186104, 14.8660687473185, 14.2126704035519, \n . 13.6014705087354, 13.0384048104053, 12.5299640861417, 16.2788205960997, \n . 15.6204993518133, 15, 14.422205101856, 13.8924439894498, 13.4164078649987, \n . 17.0293863659264, 14.7648230602334, 14.3178210632764, 17.8044938147649, \n . 15.6524758424985, 15.2315462117278, 18.6010752377383, 16.5529453572468, \n . 16.1554944214035, 19.4164878389476, 17.464249196573, 17.0880074906351, \n . 20.2484567313166, 18.3847763108502, 18.0277563773199, 21.095023109729, \n . 19.313207915828, 18.9736659610103, 14.0356688476182, 13.0384048104053, \n . 4.12310562561766, 3.16227766016838, 2.23606797749979, 1.4142135623731, \n . 12.0415945787923, 11.0453610171873, 10.0498756211209, 9.05538513813742, \n . 8.06225774829855, 7.07106781186548, 6.08276253029822, 5.09901951359278, \n . 21.9544984001001, 20.2484567313166, 19.9248588451713, 22.8254244210267, \n . 22.3606797749979, 21.9317121994613, 21.540659228538, 21.1896201004171, \n . 20.8806130178211, 23.7065391822594, 23.259406699226, 22.8473193175917, \n . 22.4722050542442, 22.1359436211787, 21.8403296678416, 24.5967477524977, \n . 24.1660919471891, 23.7697286480094, 23.4093998214393, 23.0867927612304, \n . 22.8035085019828, 25.4950975679639, 25.0798724079689, 24.6981780704569, \n . 24.3515913237718, 24.0416305603426, 23.7697286480094, 26.4007575648882, \n . 26, 25, 24.738633753706, 27.3130005674953, 26.9258240356725, \n . 26.5706605111728, 26.2488094968134, 25.9615099714943, 25.7099202643649, \n . 28.2311884269862, 26.9258240356725, 26.6833281282527, 29.1547594742265, \n . 27.8926513619627, 27.6586333718787, 30.0832179129826, 28.8617393793236, \n . 28.6356421265527, 11.1803398874989, 7.28010988928052, 6.32455532033676, \n . 31.0161248385416, 29.8328677803526, 29.6141857899217, 31.9530906173409, \n . 30.8058436014987, 30.5941170815567, 32.8937684067971, 32.5729949498047, \n . 32.2800247831379, 32.0156211871642, 31.7804971641414, 31.5753068076939, \n . 33.8378486313773, 33.5261092284804, 32.7566787083184, 32.5576411921994, \n . 11.4017542509914, 7.61577310586391, 6.70820393249937, 11.7046999107196, \n . 8.06225774829855, 7.21110255092798, 12.0830459735946, 8.60232526704263, \n . 7.81024967590665, 12.5299640861417, 9.21954445729289, 8.48528137423857, \n . 13.0384048104053, 9.89949493661167, 9.21954445729289, 13.6014705087354, \n . 12.8062484748657, 10.6301458127346, 10, 14.0356688476182, 13.0384048104053, \n . 4.12310562561766, 3.16227766016838, 2.23606797749979, 1.4142135623731, \n . 12.0415945787923, 11.0453610171873, 10.0498756211209, 7.07106781186548, \n . 6.08276253029822, 5.09901951359278, 14, 13, 4, 3, 2, 1, 12, 11, \n . 10, 9, 8, 7, 6, 5, 14.2126704035519, 13.4536240470737, 12.7279220613579, \n . 12.0415945787923, 11.4017542509914, 10.816653826392, 14.8660687473185, \n . 14.142135623731, 13.4536240470737, 12.8062484748657, 12.2065556157337, \n . 11.6619037896906, 15.556349186104, 14.8660687473185, 14.2126704035519, \n . 13.6014705087354, 13.0384048104053, 12.5299640861417, 16.2788205960997, \n . 15.6204993518133, 15, 14.422205101856, 13.8924439894498, 13.4164078649987, \n . 17.0293863659264, 14.7648230602334, 14.3178210632764, 17.8044938147649, \n . 15.6524758424985, 15.2315462117278, 18.6010752377383, 16.5529453572468, \n . 16.1554944214035, 19.4164878389476, 17.464249196573, 17.0880074906351, \n . 20.2484567313166, 18.3847763108502, 18.0277563773199, 21.095023109729, \n . 19.313207915828, 18.9736659610103, 14.0356688476182, 13.0384048104053, \n . 4.12310562561766, 3.16227766016838, 2.23606797749979, 1.4142135623731, \n . 12.0415945787923, 11.0453610171873, 10.0498756211209, 9.05538513813742, \n . 8.06225774829855, 7.07106781186548, 6.08276253029822, 5.09901951359278, \n . 21.9544984001001, 20.2484567313166, 19.9248588451713, 22.8254244210267, \n . 22.3606797749979, 21.9317121994613, 21.540659228538, 21.1896201004171, \n . 20.8806130178211, 23.7065391822594, 23.259406699226, 22.8473193175917, \n . 22.4722050542442, 22.1359436211787, 21.8403296678416, 24.5967477524977, \n . 24.1660919471891, 23.7697286480094, 23.4093998214393, 23.0867927612304, \n . 22.8035085019828, 25.4950975679639, 25.0798724079689, 24.6981780704569, \n . 24.3515913237718, 24.0416305603426, 23.7697286480094, 26.4007575648882, \n . 26, 25, 24.738633753706, 27.3130005674953, 26.9258240356725, \n . 26.5706605111728, 26.2488094968134, 25.9615099714943, 25.7099202643649, \n . 28.2311884269862, 26.9258240356725, 26.6833281282527, 29.1547594742265, \n . 27.8926513619627, 27.6586333718787, 30.0832179129826, 28.8617393793236, \n . 28.6356421265527, 11.1803398874989, 7.28010988928052, 6.32455532033676, \n . 31.0161248385416, 29.8328677803526, 29.6141857899217, 31.9530906173409, \n . 30.8058436014987, 30.5941170815567, 32.8937684067971, 32.5729949498047, \n . 32.2800247831379, 32.0156211871642, 31.7804971641414, 31.5753068076939, \n . 33.8378486313773, 33.5261092284804, 32.7566787083184, 32.5576411921994, \n . 11.4017542509914, 7.61577310586391, 6.70820393249937, 11.7046999107196, \n . 8.06225774829855, 7.21110255092798, 12.0830459735946, 8.60232526704263, \n . 7.81024967590665, 12.5299640861417, 9.21954445729289, 8.48528137423857, \n . 13.0384048104053, 9.89949493661167, 9.21954445729289, 13.6014705087354, \n . 12.8062484748657, 10.6301458127346, 10, 14.0356688476182, 13.0384048104053, \n . 4.12310562561766, 3.16227766016838, 2.23606797749979, 1.4142135623731, \n . 12.0415945787923, 11.0453610171873, 10.0498756211209, 7.07106781186548, \n . 6.08276253029822, 5.09901951359278, 14, 13, 4, 3, 2, 1, 12, 11, \n . 10, 9, 8, 7, 6, 5, 14.2126704035519, 13.4536240470737, 12.7279220613579, \n . 12.0415945787923, 11.4017542509914, 10.816653826392, 14.8660687473185, \n . 14.142135623731, 13.4536240470737, 12.8062484748657, 12.2065556157337, \n . 11.6619037896906, 15.556349186104, 14.8660687473185, 14.2126704035519, \n . 13.6014705087354, 13.0384048104053, 12.5299640861417, 16.2788205960997, \n . 15.6204993518133, 15, 14.422205101856, 13.8924439894498, 13.4164078649987, \n . 17.0293863659264, 14.7648230602334, 14.3178210632764, 17.8044938147649, \n . 15.6524758424985, 15.2315462117278, 18.6010752377383, 16.5529453572468, \n . 16.1554944214035, 19.4164878389476, 17.464249196573, 17.0880074906351, \n . 20.2484567313166, 18.3847763108502, 18.0277563773199, 21.095023109729, \n . 19.313207915828, 18.9736659610103, 14.0356688476182, 13.0384048104053, \n . 4.12310562561766, 3.16227766016838, 2.23606797749979, 1.4142135623731, \n . 12.0415945787923, 11.0453610171873, 10.0498756211209, 9.05538513813742, \n . 8.06225774829855, 7.07106781186548, 6.08276253029822, 5.09901951359278, \n . 21.9544984001001, 20.2484567313166, 19.9248588451713, 22.8254244210267, \n . 22.3606797749979, 21.9317121994613, 21.540659228538, 21.1896201004171, \n . 20.8806130178211, 23.7065391822594, 23.259406699226, 22.8473193175917, \n . 22.4722050542442, 22.1359436211787, 21.8403296678416, 24.5967477524977, \n . 24.1660919471891, 23.7697286480094, 23.4093998214393, 23.0867927612304, \n . 22.8035085019828, 25.4950975679639, 25.0798724079689, 24.6981780704569, \n . 24.3515913237718, 24.0416305603426, 23.7697286480094, 26.4007575648882, \n . 26, 25, 24.738633753706, 27.3130005674953, 26.9258240356725, \n . 26.5706605111728, 26.2488094968134, 25.9615099714943, 25.7099202643649, \n . 28.2311884269862, 26.9258240356725, 26.6833281282527, 29.1547594742265, \n . 27.8926513619627, 27.6586333718787, 30.0832179129826, 28.8617393793236, \n . 28.6356421265527, 11.1803398874989, 7.28010988928052, 6.32455532033676, \n . 31.0161248385416, 29.8328677803526, 29.6141857899217, 31.9530906173409, \n . 30.8058436014987, 30.5941170815567, 32.8937684067971, 32.5729949498047, \n . 32.2800247831379, 32.0156211871642, 31.7804971641414, 31.5753068076939, \n . 33.8378486313773, 33.5261092284804, 32.7566787083184, 32.5576411921994, \n . 11.4017542509914, 7.61577310586391, 6.70820393249937, 11.7046999107196, \n . 8.06225774829855, 7.21110255092798, 12.0830459735946, 8.60232526704263, \n . 7.81024967590665, 12.5299640861417, 9.21954445729289, 8.48528137423857, \n . 13.0384048104053, 9.89949493661167, 9.21954445729289, 13.6014705087354, \n . 12.8062484748657, 10.6301458127346, 10))",
      "2. `$<-.data.frame`(`*tmp*`, dist, value = c(9.7948966303887, 9.18368117913509, \n . 8.36301381082203, 8.85098864534353, 9.42019108086455, 10.0568384694197, \n . 8.64522989862039, 8.1939001702486, 7.84474346298208, 7.53259583410659, \n . 7.69025357189215, 7.97119815335185, 9.05207158610668, 8.3868945385047, \n . 7.47930478052606, 8.02122185206219, 8.64522989862039, 9.33488082409197, \n . 7.79358710735949, 7.28971878744304, 6.89492567037528, 6.62872536767062, \n . 6.50691939399898, 6.53758365147246, 6.71863081289633, 7.03846574190711, \n . 4.14004830889689, 3.39705755029261, 2.81780056072107, 2.51793566240283, \n . 2.59615099714943, 3.0232432915662, 4.81040538832228, 4.18807831827438, \n . 3.73363094051889, 3.51283361405006, 3.56931365951495, 3.89101529166874, \n . 5.58032257132148, 5.05371150739731, 4.68401537145215, 4.50998891351187, \n . 4.55411901469428, 4.81040538832228, 6.41404708432983, 5.96154342431555, \n . 5.65154846037792, 5.50817574156816, 5.54436651025164, 5.7567351858497, \n . 7.28971878744304, 6.53758365147246, 6.71863081289633, 8.1939001702486, \n . 7.53259583410659, 7.69025357189215, 9.11811384004389, 8.52877482408816, \n . 8.66833317310773, 10.0568384694197, 9.52575456328789, 9.65090669315583, \n . 11.0063617967065, 10.523307464861, 10.6367288204598, 11.96411300515, \n . 11.5212846505934, 11.6249731182485, 8.36301381082203, 7.63806258157132, \n . 6.62872536767062, 7.23463889907437, 7.92085853932514, 8.66833317310773, \n . 6.98140387028282, 6.41404708432983, 5.96154342431555, 5.65154846037792, \n . 5.50817574156816, 5.54436651025164, 5.7567351858497, 6.12698947281616, \n . 12.9282636111738, 12.5195846576474, 12.6150703525585, 13.8974817862806, \n . 13.6945244532258, 13.5624481565829, 13.5033329219123, 13.5181359661752, \n . 13.6066160377957, 14.8707767113894, 14.681280598095, 14.5581592242976, \n . 14.50310311623, 14.5168867185771, 14.5993150524263, 15.8473972626422, \n . 15.6697160152952, 15.5544205935162, 15.5029029539632, 15.5157984003402, \n . 15.5929471236197, 16.8267643948562, 16.6595318061463, 16.5511328917389, \n . 16.5027270473701, 16.5148418097177, 16.5873445734994, 17.8084249724674, \n . 17.6504957437461, 17.5139944044755, 17.5823775411632, 18.792019582791, \n . 18.6424247349963, 18.545619428857, 18.5024322725419, 18.513238506539, \n . 18.5779439120695, 19.7772596686194, 19.5125600575629, 19.5739622968882, \n . 20.7639109996166, 20.5119477378429, 20.5703670361032, 21.7517815362328, \n . 21.5113923305768, 21.5671045808194, 5.58032257132148, 4.55411901469428, \n . 4.81040538832228, 22.7407123898967, 22.510886255321, 22.5641308274881, \n . 23.7305710002941, 23.5104232203506, 23.5614091259415, 24.7212459232944, \n . 24.6077223651438, 24.534465553584, 24.5018366658502, 24.5099979600162, \n . 24.558908770546, 25.7126428046593, 25.6035153836343, 25.5096060338062, \n . 25.5566038432339, 4.81040538832228, 3.56931365951495, 3.89101529166874, \n . 4.14004830889689, 2.59615099714943, 3.0232432915662, 3.62491379207837, \n . 1.65529453572468, 2.26715680975093, 3.33766385365573, 0.860232526704263, \n . 1.77200451466694, 3.33766385365573, 0.860232526704263, 1.77200451466694, \n . 3.62491379207837, 2.7459060435492, 1.65529453572468, 2.26715680975093, \n . 9.7948966303887, 9.18368117913509, 8.36301381082203, 8.85098864534353, \n . 9.42019108086455, 10.0568384694197, 8.64522989862039, 8.1939001702486, \n . 7.84474346298208, 7.53259583410659, 7.69025357189215, 7.97119815335185, \n . 9.05207158610668, 8.3868945385047, 7.47930478052606, 8.02122185206219, \n . 8.64522989862039, 9.33488082409197, 7.79358710735949, 7.28971878744304, \n . 6.89492567037528, 6.62872536767062, 6.50691939399898, 6.53758365147246, \n . 6.71863081289633, 7.03846574190711, 4.14004830889689, 3.39705755029261, \n . 2.81780056072107, 2.51793566240283, 2.59615099714943, 3.0232432915662, \n . 4.81040538832228, 4.18807831827438, 3.73363094051889, 3.51283361405006, \n . 3.56931365951495, 3.89101529166874, 5.58032257132148, 5.05371150739731, \n . 4.68401537145215, 4.50998891351187, 4.55411901469428, 4.81040538832228, \n . 6.41404708432983, 5.96154342431555, 5.65154846037792, 5.50817574156816, \n . 5.54436651025164, 5.7567351858497, 7.28971878744304, 6.53758365147246, \n . 6.71863081289633, 8.1939001702486, 7.53259583410659, 7.69025357189215, \n . 9.11811384004389, 8.52877482408816, 8.66833317310773, 10.0568384694197, \n . 9.52575456328789, 9.65090669315583, 11.0063617967065, 10.523307464861, \n . 10.6367288204598, 11.96411300515, 11.5212846505934, 11.6249731182485, \n . 8.36301381082203, 7.63806258157132, 6.62872536767062, 7.23463889907437, \n . 7.92085853932514, 8.66833317310773, 6.98140387028282, 6.41404708432983, \n . 5.96154342431555, 5.65154846037792, 5.50817574156816, 5.54436651025164, \n . 5.7567351858497, 6.12698947281616, 12.9282636111738, 12.5195846576474, \n . 12.6150703525585, 13.8974817862806, 13.6945244532258, 13.5624481565829, \n . 13.5033329219123, 13.5181359661752, 13.6066160377957, 14.8707767113894, \n . 14.681280598095, 14.5581592242976, 14.50310311623, 14.5168867185771, \n . 14.5993150524263, 15.8473972626422, 15.6697160152952, 15.5544205935162, \n . 15.5029029539632, 15.5157984003402, 15.5929471236197, 16.8267643948562, \n . 16.6595318061463, 16.5511328917389, 16.5027270473701, 16.5148418097177, \n . 16.5873445734994, 17.8084249724674, 17.6504957437461, 17.5139944044755, \n . 17.5823775411632, 18.792019582791, 18.6424247349963, 18.545619428857, \n . 18.5024322725419, 18.513238506539, 18.5779439120695, 19.7772596686194, \n . 19.5125600575629, 19.5739622968882, 20.7639109996166, 20.5119477378429, \n . 20.5703670361032, 21.7517815362328, 21.5113923305768, 21.5671045808194, \n . 5.58032257132148, 4.55411901469428, 4.81040538832228, 22.7407123898967, \n . 22.510886255321, 22.5641308274881, 23.7305710002941, 23.5104232203506, \n . 23.5614091259415, 24.7212459232944, 24.6077223651438, 24.534465553584, \n . 24.5018366658502, 24.5099979600162, 24.558908770546, 25.7126428046593, \n . 25.6035153836343, 25.5096060338062, 25.5566038432339, 4.81040538832228, \n . 3.56931365951495, 3.89101529166874, 4.14004830889689, 2.59615099714943, \n . 3.0232432915662, 3.62491379207837, 1.65529453572468, 2.26715680975093, \n . 3.33766385365573, 0.860232526704263, 1.77200451466694, 3.33766385365573, \n . 0.860232526704263, 1.77200451466694, 3.62491379207837, 2.7459060435492, \n . 1.65529453572468, 2.26715680975093, 9.7948966303887, 9.18368117913509, \n . 8.36301381082203, 8.85098864534353, 9.42019108086455, 10.0568384694197, \n . 8.64522989862039, 8.1939001702486, 7.84474346298208, 7.53259583410659, \n . 7.69025357189215, 7.97119815335185, 9.05207158610668, 8.3868945385047, \n . 7.47930478052606, 8.02122185206219, 8.64522989862039, 9.33488082409197, \n . 7.79358710735949, 7.28971878744304, 6.89492567037528, 6.62872536767062, \n . 6.50691939399898, 6.53758365147246, 6.71863081289633, 7.03846574190711, \n . 4.14004830889689, 3.39705755029261, 2.81780056072107, 2.51793566240283, \n . 2.59615099714943, 3.0232432915662, 4.81040538832228, 4.18807831827438, \n . 3.73363094051889, 3.51283361405006, 3.56931365951495, 3.89101529166874, \n . 5.58032257132148, 5.05371150739731, 4.68401537145215, 4.50998891351187, \n . 4.55411901469428, 4.81040538832228, 6.41404708432983, 5.96154342431555, \n . 5.65154846037792, 5.50817574156816, 5.54436651025164, 5.7567351858497, \n . 7.28971878744304, 6.53758365147246, 6.71863081289633, 8.1939001702486, \n . 7.53259583410659, 7.69025357189215, 9.11811384004389, 8.52877482408816, \n . 8.66833317310773, 10.0568384694197, 9.52575456328789, 9.65090669315583, \n . 11.0063617967065, 10.523307464861, 10.6367288204598, 11.96411300515, \n . 11.5212846505934, 11.6249731182485, 8.36301381082203, 7.63806258157132, \n . 6.62872536767062, 7.23463889907437, 7.92085853932514, 8.66833317310773, \n . 6.98140387028282, 6.41404708432983, 5.96154342431555, 5.65154846037792, \n . 5.50817574156816, 5.54436651025164, 5.7567351858497, 6.12698947281616, \n . 12.9282636111738, 12.5195846576474, 12.6150703525585, 13.8974817862806, \n . 13.6945244532258, 13.5624481565829, 13.5033329219123, 13.5181359661752, \n . 13.6066160377957, 14.8707767113894, 14.681280598095, 14.5581592242976, \n . 14.50310311623, 14.5168867185771, 14.5993150524263, 15.8473972626422, \n . 15.6697160152952, 15.5544205935162, 15.5029029539632, 15.5157984003402, \n . 15.5929471236197, 16.8267643948562, 16.6595318061463, 16.5511328917389, \n . 16.5027270473701, 16.5148418097177, 16.5873445734994, 17.8084249724674, \n . 17.6504957437461, 17.5139944044755, 17.5823775411632, 18.792019582791, \n . 18.6424247349963, 18.545619428857, 18.5024322725419, 18.513238506539, \n . 18.5779439120695, 19.7772596686194, 19.5125600575629, 19.5739622968882, \n . 20.7639109996166, 20.5119477378429, 20.5703670361032, 21.7517815362328, \n . 21.5113923305768, 21.5671045808194, 5.58032257132148, 4.55411901469428, \n . 4.81040538832228, 22.7407123898967, 22.510886255321, 22.5641308274881, \n . 23.7305710002941, 23.5104232203506, 23.5614091259415, 24.7212459232944, \n . 24.6077223651438, 24.534465553584, 24.5018366658502, 24.5099979600162, \n . 24.558908770546, 25.7126428046593, 25.6035153836343, 25.5096060338062, \n . 25.5566038432339, 4.81040538832228, 3.56931365951495, 3.89101529166874, \n . 4.14004830889689, 2.59615099714943, 3.0232432915662, 3.62491379207837, \n . 1.65529453572468, 2.26715680975093, 3.33766385365573, 0.860232526704263, \n . 1.77200451466694, 3.33766385365573, 0.860232526704263, 1.77200451466694, \n . 3.62491379207837, 2.7459060435492, 1.65529453572468, 2.26715680975093, \n . 9.7948966303887, 9.18368117913509, 8.36301381082203, 8.85098864534353, \n . 9.42019108086455, 10.0568384694197, 8.64522989862039, 8.1939001702486, \n . 7.84474346298208, 7.53259583410659, 7.69025357189215, 7.97119815335185, \n . 9.05207158610668, 8.3868945385047, 7.47930478052606, 8.02122185206219, \n . 8.64522989862039, 9.33488082409197, 7.79358710735949, 7.28971878744304, \n . 6.89492567037528, 6.62872536767062, 6.50691939399898, 6.53758365147246, \n . 6.71863081289633, 7.03846574190711, 4.14004830889689, 3.39705755029261, \n . 2.81780056072107, 2.51793566240283, 2.59615099714943, 3.0232432915662, \n . 4.81040538832228, 4.18807831827438, 3.73363094051889, 3.51283361405006, \n . 3.56931365951495, 3.89101529166874, 5.58032257132148, 5.05371150739731, \n . 4.68401537145215, 4.50998891351187, 4.55411901469428, 4.81040538832228, \n . 6.41404708432983, 5.96154342431555, 5.65154846037792, 5.50817574156816, \n . 5.54436651025164, 5.7567351858497, 7.28971878744304, 6.53758365147246, \n . 6.71863081289633, 8.1939001702486, 7.53259583410659, 7.69025357189215, \n . 9.11811384004389, 8.52877482408816, 8.66833317310773, 10.0568384694197, \n . 9.52575456328789, 9.65090669315583, 11.0063617967065, 10.523307464861, \n . 10.6367288204598, 11.96411300515, 11.5212846505934, 11.6249731182485, \n . 8.36301381082203, 7.63806258157132, 6.62872536767062, 7.23463889907437, \n . 7.92085853932514, 8.66833317310773, 6.98140387028282, 6.41404708432983, \n . 5.96154342431555, 5.65154846037792, 5.50817574156816, 5.54436651025164, \n . 5.7567351858497, 6.12698947281616, 12.9282636111738, 12.5195846576474, \n . 12.6150703525585, 13.8974817862806, 13.6945244532258, 13.5624481565829, \n . 13.5033329219123, 13.5181359661752, 13.6066160377957, 14.8707767113894, \n . 14.681280598095, 14.5581592242976, 14.50310311623, 14.5168867185771, \n . 14.5993150524263, 15.8473972626422, 15.6697160152952, 15.5544205935162, \n . 15.5029029539632, 15.5157984003402, 15.5929471236197, 16.8267643948562, \n . 16.6595318061463, 16.5511328917389, 16.5027270473701, 16.5148418097177, \n . 16.5873445734994, 17.8084249724674, 17.6504957437461, 17.5139944044755, \n . 17.5823775411632, 18.792019582791, 18.6424247349963, 18.545619428857, \n . 18.5024322725419, 18.513238506539, 18.5779439120695, 19.7772596686194, \n . 19.5125600575629, 19.5739622968882, 20.7639109996166, 20.5119477378429, \n . 20.5703670361032, 21.7517815362328, 21.5113923305768, 21.5671045808194, \n . 5.58032257132148, 4.55411901469428, 4.81040538832228, 22.7407123898967, \n . 22.510886255321, 22.5641308274881, 23.7305710002941, 23.5104232203506, \n . 23.5614091259415, 24.7212459232944, 24.6077223651438, 24.534465553584, \n . 24.5018366658502, 24.5099979600162, 24.558908770546, 25.7126428046593, \n . 25.6035153836343, 25.5096060338062, 25.5566038432339, 4.81040538832228, \n . 3.56931365951495, 3.89101529166874, 4.14004830889689, 2.59615099714943, \n . 3.0232432915662, 3.62491379207837, 1.65529453572468, 2.26715680975093, \n . 3.33766385365573, 0.860232526704263, 1.77200451466694, 3.33766385365573, \n . 0.860232526704263, 1.77200451466694, 3.62491379207837, 2.7459060435492, \n . 1.65529453572468, 2.26715680975093, 9.7948966303887, 9.18368117913509, \n . 8.36301381082203, 8.85098864534353, 9.42019108086455, 10.0568384694197, \n . 8.64522989862039, 8.1939001702486, 7.84474346298208, 7.53259583410659, \n . 7.69025357189215, 7.97119815335185, 9.05207158610668, 8.3868945385047, \n . 7.47930478052606, 8.02122185206219, 8.64522989862039, 9.33488082409197, \n . 7.79358710735949, 7.28971878744304, 6.89492567037528, 6.62872536767062, \n . 6.50691939399898, 6.53758365147246, 6.71863081289633, 7.03846574190711, \n . 4.14004830889689, 3.39705755029261, 2.81780056072107, 2.51793566240283, \n . 2.59615099714943, 3.0232432915662, 4.81040538832228, 4.18807831827438, \n . 3.73363094051889, 3.51283361405006, 3.56931365951495, 3.89101529166874, \n . 5.58032257132148, 5.05371150739731, 4.68401537145215, 4.50998891351187, \n . 4.55411901469428, 4.81040538832228, 6.41404708432983, 5.96154342431555, \n . 5.65154846037792, 5.50817574156816, 5.54436651025164, 5.7567351858497, \n . 7.28971878744304, 6.53758365147246, 6.71863081289633, 8.1939001702486, \n . 7.53259583410659, 7.69025357189215, 9.11811384004389, 8.52877482408816, \n . 8.66833317310773, 10.0568384694197, 9.52575456328789, 9.65090669315583, \n . 11.0063617967065, 10.523307464861, 10.6367288204598, 11.96411300515, \n . 11.5212846505934, 11.6249731182485, 8.36301381082203, 7.63806258157132, \n . 6.62872536767062, 7.23463889907437, 7.92085853932514, 8.66833317310773, \n . 6.98140387028282, 6.41404708432983, 5.96154342431555, 5.65154846037792, \n . 5.50817574156816, 5.54436651025164, 5.7567351858497, 6.12698947281616, \n . 12.9282636111738, 12.5195846576474, 12.6150703525585, 13.8974817862806, \n . 13.6945244532258, 13.5624481565829, 13.5033329219123, 13.5181359661752, \n . 13.6066160377957, 14.8707767113894, 14.681280598095, 14.5581592242976, \n . 14.50310311623, 14.5168867185771, 14.5993150524263, 15.8473972626422, \n . 15.6697160152952, 15.5544205935162, 15.5029029539632, 15.5157984003402, \n . 15.5929471236197, 16.8267643948562, 16.6595318061463, 16.5511328917389, \n . 16.5027270473701, 16.5148418097177, 16.5873445734994, 17.8084249724674, \n . 17.6504957437461, 17.5139944044755, 17.5823775411632, 18.792019582791, \n . 18.6424247349963, 18.545619428857, 18.5024322725419, 18.513238506539, \n . 18.5779439120695, 19.7772596686194, 19.5125600575629, 19.5739622968882, \n . 20.7639109996166, 20.5119477378429, 20.5703670361032, 21.7517815362328, \n . 21.5113923305768, 21.5671045808194, 5.58032257132148, 4.55411901469428, \n . 4.81040538832228, 22.7407123898967, 22.510886255321, 22.5641308274881, \n . 23.7305710002941, 23.5104232203506, 23.5614091259415, 24.7212459232944, \n . 24.6077223651438, 24.534465553584, 24.5018366658502, 24.5099979600162, \n . 24.558908770546, 25.7126428046593, 25.6035153836343, 25.5096060338062, \n . 25.5566038432339, 4.81040538832228, 3.56931365951495, 3.89101529166874, \n . 4.14004830889689, 2.59615099714943, 3.0232432915662, 3.62491379207837, \n . 1.65529453572468, 2.26715680975093, 3.33766385365573, 0.860232526704263, \n . 1.77200451466694, 3.33766385365573, 0.860232526704263, 1.77200451466694, \n . 3.62491379207837, 2.7459060435492, 1.65529453572468, 2.26715680975093, \n . 9.7948966303887, 9.18368117913509, 8.36301381082203, 8.85098864534353, \n . 9.42019108086455, 10.0568384694197, 8.64522989862039, 8.1939001702486, \n . 7.84474346298208, 7.53259583410659, 7.69025357189215, 7.97119815335185, \n . 9.05207158610668, 8.3868945385047, 7.47930478052606, 8.02122185206219, \n . 8.64522989862039, 9.33488082409197, 7.79358710735949, 7.28971878744304, \n . 6.89492567037528, 6.62872536767062, 6.50691939399898, 6.53758365147246, \n . 6.71863081289633, 7.03846574190711, 4.14004830889689, 3.39705755029261, \n . 2.81780056072107, 2.51793566240283, 2.59615099714943, 3.0232432915662, \n . 4.81040538832228, 4.18807831827438, 3.73363094051889, 3.51283361405006, \n . 3.56931365951495, 3.89101529166874, 5.58032257132148, 5.05371150739731, \n . 4.68401537145215, 4.50998891351187, 4.55411901469428, 4.81040538832228, \n . 6.41404708432983, 5.96154342431555, 5.65154846037792, 5.50817574156816, \n . 5.54436651025164, 5.7567351858497, 7.28971878744304, 6.53758365147246, \n . 6.71863081289633, 8.1939001702486, 7.53259583410659, 7.69025357189215, \n . 9.11811384004389, 8.52877482408816, 8.66833317310773, 10.0568384694197, \n . 9.52575456328789, 9.65090669315583, 11.0063617967065, 10.523307464861, \n . 10.6367288204598, 11.96411300515, 11.5212846505934, 11.6249731182485, \n . 8.36301381082203, 7.63806258157132, 6.62872536767062, 7.23463889907437, \n . 7.92085853932514, 8.66833317310773, 6.98140387028282, 6.41404708432983, \n . 5.96154342431555, 5.65154846037792, 5.50817574156816, 5.54436651025164, \n . 5.7567351858497, 6.12698947281616, 12.9282636111738, 12.5195846576474, \n . 12.6150703525585, 13.8974817862806, 13.6945244532258, 13.5624481565829, \n . 13.5033329219123, 13.5181359661752, 13.6066160377957, 14.8707767113894, \n . 14.681280598095, 14.5581592242976, 14.50310311623, 14.5168867185771, \n . 14.5993150524263, 15.8473972626422, 15.6697160152952, 15.5544205935162, \n . 15.5029029539632, 15.5157984003402, 15.5929471236197, 16.8267643948562, \n . 16.6595318061463, 16.5511328917389, 16.5027270473701, 16.5148418097177, \n . 16.5873445734994, 17.8084249724674, 17.6504957437461, 17.5139944044755, \n . 17.5823775411632, 18.792019582791, 18.6424247349963, 18.545619428857, \n . 18.5024322725419, 18.513238506539, 18.5779439120695, 19.7772596686194, \n . 19.5125600575629, 19.5739622968882, 20.7639109996166, 20.5119477378429, \n . 20.5703670361032, 21.7517815362328, 21.5113923305768, 21.5671045808194, \n . 5.58032257132148, 4.55411901469428, 4.81040538832228, 22.7407123898967, \n . 22.510886255321, 22.5641308274881, 23.7305710002941, 23.5104232203506, \n . 23.5614091259415, 24.7212459232944, 24.6077223651438, 24.534465553584, \n . 24.5018366658502, 24.5099979600162, 24.558908770546, 25.7126428046593, \n . 25.6035153836343, 25.5096060338062, 25.5566038432339, 4.81040538832228, \n . 3.56931365951495, 3.89101529166874, 4.14004830889689, 2.59615099714943, \n . 3.0232432915662, 3.62491379207837, 1.65529453572468, 2.26715680975093, \n . 3.33766385365573, 0.860232526704263, 1.77200451466694, 3.33766385365573, \n . 0.860232526704263, 1.77200451466694, 3.62491379207837, 2.7459060435492, \n . 1.65529453572468, 2.26715680975093, 9.7948966303887, 9.18368117913509, \n . 8.36301381082203, 8.85098864534353, 9.42019108086455, 10.0568384694197, \n . 8.64522989862039, 8.1939001702486, 7.84474346298208, 7.53259583410659, \n . 7.69025357189215, 7.97119815335185, 9.05207158610668, 8.3868945385047, \n . 7.47930478052606, 8.02122185206219, 8.64522989862039, 9.33488082409197, \n . 7.79358710735949, 7.28971878744304, 6.89492567037528, 6.62872536767062, \n . 6.50691939399898, 6.53758365147246, 6.71863081289633, 7.03846574190711, \n . 4.14004830889689, 3.39705755029261, 2.81780056072107, 2.51793566240283, \n . 2.59615099714943, 3.0232432915662, 4.81040538832228, 4.18807831827438, \n . 3.73363094051889, 3.51283361405006, 3.56931365951495, 3.89101529166874, \n . 5.58032257132148, 5.05371150739731, 4.68401537145215, 4.50998891351187, \n . 4.55411901469428, 4.81040538832228, 6.41404708432983, 5.96154342431555, \n . 5.65154846037792, 5.50817574156816, 5.54436651025164, 5.7567351858497, \n . 7.28971878744304, 6.53758365147246, 6.71863081289633, 8.1939001702486, \n . 7.53259583410659, 7.69025357189215, 9.11811384004389, 8.52877482408816, \n . 8.66833317310773, 10.0568384694197, 9.52575456328789, 9.65090669315583, \n . 11.0063617967065, 10.523307464861, 10.6367288204598, 11.96411300515, \n . 11.5212846505934, 11.6249731182485, 8.36301381082203, 7.63806258157132, \n . 6.62872536767062, 7.23463889907437, 7.92085853932514, 8.66833317310773, \n . 6.98140387028282, 6.41404708432983, 5.96154342431555, 5.65154846037792, \n . 5.50817574156816, 5.54436651025164, 5.7567351858497, 6.12698947281616, \n . 12.9282636111738, 12.5195846576474, 12.6150703525585, 13.8974817862806, \n . 13.6945244532258, 13.5624481565829, 13.5033329219123, 13.5181359661752, \n . 13.6066160377957, 14.8707767113894, 14.681280598095, 14.5581592242976, \n . 14.50310311623, 14.5168867185771, 14.5993150524263, 15.8473972626422, \n . 15.6697160152952, 15.5544205935162, 15.5029029539632, 15.5157984003402, \n . 15.5929471236197, 16.8267643948562, 16.6595318061463, 16.5511328917389, \n . 16.5027270473701, 16.5148418097177, 16.5873445734994, 17.8084249724674, \n . 17.6504957437461, 17.5139944044755, 17.5823775411632, 18.792019582791, \n . 18.6424247349963, 18.545619428857, 18.5024322725419, 18.513238506539, \n . 18.5779439120695, 19.7772596686194, 19.5125600575629, 19.5739622968882, \n . 20.7639109996166, 20.5119477378429, 20.5703670361032, 21.7517815362328, \n . 21.5113923305768, 21.5671045808194, 5.58032257132148, 4.55411901469428, \n . 4.81040538832228, 22.7407123898967, 22.510886255321, 22.5641308274881, \n . 23.7305710002941, 23.5104232203506, 23.5614091259415, 24.7212459232944, \n . 24.6077223651438, 24.534465553584, 24.5018366658502, 24.5099979600162, \n . 24.558908770546, 25.7126428046593, 25.6035153836343, 25.5096060338062, \n . 25.5566038432339, 4.81040538832228, 3.56931365951495, 3.89101529166874, \n . 4.14004830889689, 2.59615099714943, 3.0232432915662, 3.62491379207837, \n . 1.65529453572468, 2.26715680975093, 3.33766385365573, 0.860232526704263, \n . 1.77200451466694, 3.33766385365573, 0.860232526704263, 1.77200451466694, \n . 3.62491379207837, 2.7459060435492, 1.65529453572468, 2.26715680975093, \n . 9.7948966303887, 9.18368117913509, 8.36301381082203, 8.85098864534353, \n . 9.42019108086455, 10.0568384694197, 8.64522989862039, 8.1939001702486, \n . 7.84474346298208, 7.53259583410659, 7.69025357189215, 7.97119815335185, \n . 9.05207158610668, 8.3868945385047, 7.47930478052606, 8.02122185206219, \n . 8.64522989862039, 9.33488082409197, 7.79358710735949, 7.28971878744304, \n . 6.89492567037528, 6.62872536767062, 6.50691939399898, 6.53758365147246, \n . 6.71863081289633, 7.03846574190711, 4.14004830889689, 3.39705755029261, \n . 2.81780056072107, 2.51793566240283, 2.59615099714943, 3.0232432915662, \n . 4.81040538832228, 4.18807831827438, 3.73363094051889, 3.51283361405006, \n . 3.56931365951495, 3.89101529166874, 5.58032257132148, 5.05371150739731, \n . 4.68401537145215, 4.50998891351187, 4.55411901469428, 4.81040538832228, \n . 6.41404708432983, 5.96154342431555, 5.65154846037792, 5.50817574156816, \n . 5.54436651025164, 5.7567351858497, 7.28971878744304, 6.53758365147246, \n . 6.71863081289633, 8.1939001702486, 7.53259583410659, 7.69025357189215, \n . 9.11811384004389, 8.52877482408816, 8.66833317310773, 10.0568384694197, \n . 9.52575456328789, 9.65090669315583, 11.0063617967065, 10.523307464861, \n . 10.6367288204598, 11.96411300515, 11.5212846505934, 11.6249731182485, \n . 8.36301381082203, 7.63806258157132, 6.62872536767062, 7.23463889907437, \n . 7.92085853932514, 8.66833317310773, 6.98140387028282, 6.41404708432983, \n . 5.96154342431555, 5.65154846037792, 5.50817574156816, 5.54436651025164, \n . 5.7567351858497, 6.12698947281616, 12.9282636111738, 12.5195846576474, \n . 12.6150703525585, 13.8974817862806, 13.6945244532258, 13.5624481565829, \n . 13.5033329219123, 13.5181359661752, 13.6066160377957, 14.8707767113894, \n . 14.681280598095, 14.5581592242976, 14.50310311623, 14.5168867185771, \n . 14.5993150524263, 15.8473972626422, 15.6697160152952, 15.5544205935162, \n . 15.5029029539632, 15.5157984003402, 15.5929471236197, 16.8267643948562, \n . 16.6595318061463, 16.5511328917389, 16.5027270473701, 16.5148418097177, \n . 16.5873445734994, 17.8084249724674, 17.6504957437461, 17.5139944044755, \n . 17.5823775411632, 18.792019582791, 18.6424247349963, 18.545619428857, \n . 18.5024322725419, 18.513238506539, 18.5779439120695, 19.7772596686194, \n . 19.5125600575629, 19.5739622968882, 20.7639109996166, 20.5119477378429, \n . 20.5703670361032, 21.7517815362328, 21.5113923305768, 21.5671045808194, \n . 5.58032257132148, 4.55411901469428, 4.81040538832228, 22.7407123898967, \n . 22.510886255321, 22.5641308274881, 23.7305710002941, 23.5104232203506, \n . 23.5614091259415, 24.7212459232944, 24.6077223651438, 24.534465553584, \n . 24.5018366658502, 24.5099979600162, 24.558908770546, 25.7126428046593, \n . 25.6035153836343, 25.5096060338062, 25.5566038432339, 4.81040538832228, \n . 3.56931365951495, 3.89101529166874, 4.14004830889689, 2.59615099714943, \n . 3.0232432915662, 3.62491379207837, 1.65529453572468, 2.26715680975093, \n . 3.33766385365573, 0.860232526704263, 1.77200451466694, 3.33766385365573, \n . 0.860232526704263, 1.77200451466694, 3.62491379207837, 2.7459060435492, \n . 1.65529453572468, 2.26715680975093, 13.1026714833274, 13.3521533843796, \n . 18.1019335983756, 18.8223271674891, 19.567319693816, 20.3342076314766, \n . 13.6704059925081, 14.0527577364729, 14.4941367455948, 16.1207940251093, \n . 16.7475371323667, 17.4091929738285, 12.1276543486364, 12.3967737738494, \n . 17.4091929738285, 18.1570922782256, 18.9282857121293, 19.7200405679096, \n . 12.7389167514353, 13.1483839311149, 13.6191042289866, 14.1449637680695, \n . 14.7200543477258, 15.3388395910512, 15.9962495604438, 16.6877200360025, \n . 6.44049687524185, 7.35391052434009, 8.28733974204027, 9.23471710449216, \n . 10.1921538449927, 11.1570605447851, 6.07289058027559, 7.03420215802759, \n . 8.0049984384758, 8.98220462915425, 9.96393496566492, 10.9489725545368, \n . 5.85491246732178, 6.84689710744948, 7.84091831356506, 8.83628881374981, \n . 9.83259884262548, 10.8295890965447, 5.80344725141876, 6.80294054067798, \n . 7.80256368125246, 8.80227243386616, 9.80204060387428, 10.8018516931126, \n . 5.92283715798434, 9.87319603775799, 10.8664621657649, 6.20322496770833, \n . 10.0439036235918, 11.0217965867639, 6.62419806467168, 10.3092191750879, \n . 11.264102272263, 7.16100551598726, 10.6620823482095, 11.5879247494968, \n . 7.78973683766018, 11.0941425986869, 11.9866592510174, 8.48999411071645, \n . 11.5965512114594, 12.4531120608465, 11.1570605447851, 11.4490174250894, \n . 16.7475371323667, 17.5236982398123, 18.3215719849581, 19.1384429878713, \n . 11.8186293621553, 12.2588743365776, 12.7624449068351, 13.3221619867047, \n . 13.9312598138144, 14.5835523793073, 15.2735064736294, 15.9962495604438, \n . 9.24553946506098, 12.1605920908482, 12.9799845916704, 10.0439036235918, \n . 10.6526991884686, 11.3172434806361, 12.0282999630039, 12.7781062759706, \n . 13.5602359861471, 10.875660899458, 11.4402797168601, 12.0615090266517, \n . 12.7310643702716, 13.4417260796372, 14.1873182807746, 11.7337121150981, \n . 12.2588743365776, 12.8405607354196, 13.4714512952391, 14.1449637680695, \n . 14.8553020837679, 12.612692020342, 13.1026714833274, 13.6484431346583, \n . 14.2435950518119, 14.8822041378285, 15.5589202710214, 13.5085158326146, \n . 13.9671042095346, 15.6486421136148, 16.2935570088302, 14.4180442501748, \n . 14.8485689546165, 15.3323188070168, 15.8644256120416, 16.4401946460497, \n . 17.0552044842623, 15.3388395910512, 17.2534054609518, 17.8404035828789, \n . 16.2689889052762, 18.0853531898053, 18.6461792332907, 17.20697532979, \n . 18.9335680736622, 19.4699768875055, 11.3877126763894, 13.8592929112563, \n . 14.5835523793073, 18.1515839529227, 19.7959591836314, 20.3096036396578, \n . 19.101832372838, 20.6707522843268, 21.1631755651178, 20.0569190056698, \n . 20.3686032903584, 20.7238992470047, 21.1206060519105, 21.5564375535477, \n . 22.029071700823, 21.016184239771, 21.3138452654607, 22.451725991558, \n . 22.9058944378952, 10.5394497010043, 13.1711806608216, 13.9312598138144, \n . 9.72008230417829, 12.5251746494809, 13.3221619867047, 8.93756118860173, \n . 11.9281180409988, 12.7624449068351, 8.20243866176395, 11.3877126763894, \n . 12.2588743365776, 7.52861208988748, 10.912378292563, 11.8186293621553, \n . 6.93397432934389, 7.78973683766018, 10.5109466747767, 11.4490174250894, \n . 13.1026714833274, 13.3521533843796, 18.1019335983756, 18.8223271674891, \n . 19.567319693816, 20.3342076314766, 13.6704059925081, 14.0527577364729, \n . 14.4941367455948, 16.1207940251093, 16.7475371323667, 17.4091929738285, \n . 12.1276543486364, 12.3967737738494, 17.4091929738285, 18.1570922782256, \n . 18.9282857121293, 19.7200405679096, 12.7389167514353, 13.1483839311149, \n . 13.6191042289866, 14.1449637680695, 14.7200543477258, 15.3388395910512, \n . 15.9962495604438, 16.6877200360025, 6.44049687524185, 7.35391052434009, \n . 8.28733974204027, 9.23471710449216, 10.1921538449927, 11.1570605447851, \n . 6.07289058027559, 7.03420215802759, 8.0049984384758, 8.98220462915425, \n . 9.96393496566492, 10.9489725545368, 5.85491246732178, 6.84689710744948, \n . 7.84091831356506, 8.83628881374981, 9.83259884262548, 10.8295890965447, \n . 5.80344725141876, 6.80294054067798, 7.80256368125246, 8.80227243386616, \n . 9.80204060387428, 10.8018516931126, 5.92283715798434, 9.87319603775799, \n . 10.8664621657649, 6.20322496770833, 10.0439036235918, 11.0217965867639, \n . 6.62419806467168, 10.3092191750879, 11.264102272263, 7.16100551598726, \n . 10.6620823482095, 11.5879247494968, 7.78973683766018, 11.0941425986869, \n . 11.9866592510174, 8.48999411071645, 11.5965512114594, 12.4531120608465, \n . 11.1570605447851, 11.4490174250894, 16.7475371323667, 17.5236982398123, \n . 18.3215719849581, 19.1384429878713, 11.8186293621553, 12.2588743365776, \n . 12.7624449068351, 13.3221619867047, 13.9312598138144, 14.5835523793073, \n . 15.2735064736294, 15.9962495604438, 9.24553946506098, 12.1605920908482, \n . 12.9799845916704, 10.0439036235918, 10.6526991884686, 11.3172434806361, \n . 12.0282999630039, 12.7781062759706, 13.5602359861471, 10.875660899458, \n . 11.4402797168601, 12.0615090266517, 12.7310643702716, 13.4417260796372, \n . 14.1873182807746, 11.7337121150981, 12.2588743365776, 12.8405607354196, \n . 13.4714512952391, 14.1449637680695, 14.8553020837679, 12.612692020342, \n . 13.1026714833274, 13.6484431346583, 14.2435950518119, 14.8822041378285, \n . 15.5589202710214, 13.5085158326146, 13.9671042095346, 15.6486421136148, \n . 16.2935570088302, 14.4180442501748, 14.8485689546165, 15.3323188070168, \n . 15.8644256120416, 16.4401946460497, 17.0552044842623, 15.3388395910512, \n . 17.2534054609518, 17.8404035828789, 16.2689889052762, 18.0853531898053, \n . 18.6461792332907, 17.20697532979, 18.9335680736622, 19.4699768875055, \n . 11.3877126763894, 13.8592929112563, 14.5835523793073, 18.1515839529227, \n . 19.7959591836314, 20.3096036396578, 19.101832372838, 20.6707522843268, \n . 21.1631755651178, 20.0569190056698, 20.3686032903584, 20.7238992470047, \n . 21.1206060519105, 21.5564375535477, 22.029071700823, 21.016184239771, \n . 21.3138452654607, 22.451725991558, 22.9058944378952, 10.5394497010043, \n . 13.1711806608216, 13.9312598138144, 9.72008230417829, 12.5251746494809, \n . 13.3221619867047, 8.93756118860173, 11.9281180409988, 12.7624449068351, \n . 8.20243866176395, 11.3877126763894, 12.2588743365776, 7.52861208988748, \n . 10.912378292563, 11.8186293621553, 6.93397432934389, 7.78973683766018, \n . 10.5109466747767, 11.4490174250894, 13.1026714833274, 13.3521533843796, \n . 18.1019335983756, 18.8223271674891, 19.567319693816, 20.3342076314766, \n . 13.6704059925081, 14.0527577364729, 14.4941367455948, 16.1207940251093, \n . 16.7475371323667, 17.4091929738285, 12.1276543486364, 12.3967737738494, \n . 17.4091929738285, 18.1570922782256, 18.9282857121293, 19.7200405679096, \n . 12.7389167514353, 13.1483839311149, 13.6191042289866, 14.1449637680695, \n . 14.7200543477258, 15.3388395910512, 15.9962495604438, 16.6877200360025, \n . 6.44049687524185, 7.35391052434009, 8.28733974204027, 9.23471710449216, \n . 10.1921538449927, 11.1570605447851, 6.07289058027559, 7.03420215802759, \n . 8.0049984384758, 8.98220462915425, 9.96393496566492, 10.9489725545368, \n . 5.85491246732178, 6.84689710744948, 7.84091831356506, 8.83628881374981, \n . 9.83259884262548, 10.8295890965447, 5.80344725141876, 6.80294054067798, \n . 7.80256368125246, 8.80227243386616, 9.80204060387428, 10.8018516931126, \n . 5.92283715798434, 9.87319603775799, 10.8664621657649, 6.20322496770833, \n . 10.0439036235918, 11.0217965867639, 6.62419806467168, 10.3092191750879, \n . 11.264102272263, 7.16100551598726, 10.6620823482095, 11.5879247494968, \n . 7.78973683766018, 11.0941425986869, 11.9866592510174, 8.48999411071645, \n . 11.5965512114594, 12.4531120608465, 11.1570605447851, 11.4490174250894, \n . 16.7475371323667, 17.5236982398123, 18.3215719849581, 19.1384429878713, \n . 11.8186293621553, 12.2588743365776, 12.7624449068351, 13.3221619867047, \n . 13.9312598138144, 14.5835523793073, 15.2735064736294, 15.9962495604438, \n . 9.24553946506098, 12.1605920908482, 12.9799845916704, 10.0439036235918, \n . 10.6526991884686, 11.3172434806361, 12.0282999630039, 12.7781062759706, \n . 13.5602359861471, 10.875660899458, 11.4402797168601, 12.0615090266517, \n . 12.7310643702716, 13.4417260796372, 14.1873182807746, 11.7337121150981, \n . 12.2588743365776, 12.8405607354196, 13.4714512952391, 14.1449637680695, \n . 14.8553020837679, 12.612692020342, 13.1026714833274, 13.6484431346583, \n . 14.2435950518119, 14.8822041378285, 15.5589202710214, 13.5085158326146, \n . 13.9671042095346, 15.6486421136148, 16.2935570088302, 14.4180442501748, \n . 14.8485689546165, 15.3323188070168, 15.8644256120416, 16.4401946460497, \n . 17.0552044842623, 15.3388395910512, 17.2534054609518, 17.8404035828789, \n . 16.2689889052762, 18.0853531898053, 18.6461792332907, 17.20697532979, \n . 18.9335680736622, 19.4699768875055, 11.3877126763894, 13.8592929112563, \n . 14.5835523793073, 18.1515839529227, 19.7959591836314, 20.3096036396578, \n . 19.101832372838, 20.6707522843268, 21.1631755651178, 20.0569190056698, \n . 20.3686032903584, 20.7238992470047, 21.1206060519105, 21.5564375535477, \n . 22.029071700823, 21.016184239771, 21.3138452654607, 22.451725991558, \n . 22.9058944378952, 10.5394497010043, 13.1711806608216, 13.9312598138144, \n . 9.72008230417829, 12.5251746494809, 13.3221619867047, 8.93756118860173, \n . 11.9281180409988, 12.7624449068351, 8.20243866176395, 11.3877126763894, \n . 12.2588743365776, 7.52861208988748, 10.912378292563, 11.8186293621553, \n . 6.93397432934389, 7.78973683766018, 10.5109466747767, 11.4490174250894, \n . 13.1026714833274, 13.3521533843796, 18.1019335983756, 18.8223271674891, \n . 19.567319693816, 20.3342076314766, 13.6704059925081, 14.0527577364729, \n . 14.4941367455948, 16.1207940251093, 16.7475371323667, 17.4091929738285, \n . 12.1276543486364, 12.3967737738494, 17.4091929738285, 18.1570922782256, \n . 18.9282857121293, 19.7200405679096, 12.7389167514353, 13.1483839311149, \n . 13.6191042289866, 14.1449637680695, 14.7200543477258, 15.3388395910512, \n . 15.9962495604438, 16.6877200360025, 6.44049687524185, 7.35391052434009, \n . 8.28733974204027, 9.23471710449216, 10.1921538449927, 11.1570605447851, \n . 6.07289058027559, 7.03420215802759, 8.0049984384758, 8.98220462915425, \n . 9.96393496566492, 10.9489725545368, 5.85491246732178, 6.84689710744948, \n . 7.84091831356506, 8.83628881374981, 9.83259884262548, 10.8295890965447, \n . 5.80344725141876, 6.80294054067798, 7.80256368125246, 8.80227243386616, \n . 9.80204060387428, 10.8018516931126, 5.92283715798434, 9.87319603775799, \n . 10.8664621657649, 6.20322496770833, 10.0439036235918, 11.0217965867639, \n . 6.62419806467168, 10.3092191750879, 11.264102272263, 7.16100551598726, \n . 10.6620823482095, 11.5879247494968, 7.78973683766018, 11.0941425986869, \n . 11.9866592510174, 8.48999411071645, 11.5965512114594, 12.4531120608465, \n . 11.1570605447851, 11.4490174250894, 16.7475371323667, 17.5236982398123, \n . 18.3215719849581, 19.1384429878713, 11.8186293621553, 12.2588743365776, \n . 12.7624449068351, 13.3221619867047, 13.9312598138144, 14.5835523793073, \n . 15.2735064736294, 15.9962495604438, 9.24553946506098, 12.1605920908482, \n . 12.9799845916704, 10.0439036235918, 10.6526991884686, 11.3172434806361, \n . 12.0282999630039, 12.7781062759706, 13.5602359861471, 10.875660899458, \n . 11.4402797168601, 12.0615090266517, 12.7310643702716, 13.4417260796372, \n . 14.1873182807746, 11.7337121150981, 12.2588743365776, 12.8405607354196, \n . 13.4714512952391, 14.1449637680695, 14.8553020837679, 12.612692020342, \n . 13.1026714833274, 13.6484431346583, 14.2435950518119, 14.8822041378285, \n . 15.5589202710214, 13.5085158326146, 13.9671042095346, 15.6486421136148, \n . 16.2935570088302, 14.4180442501748, 14.8485689546165, 15.3323188070168, \n . 15.8644256120416, 16.4401946460497, 17.0552044842623, 15.3388395910512, \n . 17.2534054609518, 17.8404035828789, 16.2689889052762, 18.0853531898053, \n . 18.6461792332907, 17.20697532979, 18.9335680736622, 19.4699768875055, \n . 11.3877126763894, 13.8592929112563, 14.5835523793073, 18.1515839529227, \n . 19.7959591836314, 20.3096036396578, 19.101832372838, 20.6707522843268, \n . 21.1631755651178, 20.0569190056698, 20.3686032903584, 20.7238992470047, \n . 21.1206060519105, 21.5564375535477, 22.029071700823, 21.016184239771, \n . 21.3138452654607, 22.451725991558, 22.9058944378952, 10.5394497010043, \n . 13.1711806608216, 13.9312598138144, 9.72008230417829, 12.5251746494809, \n . 13.3221619867047, 8.93756118860173, 11.9281180409988, 12.7624449068351, \n . 8.20243866176395, 11.3877126763894, 12.2588743365776, 7.52861208988748, \n . 10.912378292563, 11.8186293621553, 6.93397432934389, 7.78973683766018, \n . 10.5109466747767, 11.4490174250894, 13.1026714833274, 13.3521533843796, \n . 18.1019335983756, 18.8223271674891, 19.567319693816, 20.3342076314766, \n . 13.6704059925081, 14.0527577364729, 14.4941367455948, 16.1207940251093, \n . 16.7475371323667, 17.4091929738285, 12.1276543486364, 12.3967737738494, \n . 17.4091929738285, 18.1570922782256, 18.9282857121293, 19.7200405679096, \n . 12.7389167514353, 13.1483839311149, 13.6191042289866, 14.1449637680695, \n . 14.7200543477258, 15.3388395910512, 15.9962495604438, 16.6877200360025, \n . 6.44049687524185, 7.35391052434009, 8.28733974204027, 9.23471710449216, \n . 10.1921538449927, 11.1570605447851, 6.07289058027559, 7.03420215802759, \n . 8.0049984384758, 8.98220462915425, 9.96393496566492, 10.9489725545368, \n . 5.85491246732178, 6.84689710744948, 7.84091831356506, 8.83628881374981, \n . 9.83259884262548, 10.8295890965447, 5.80344725141876, 6.80294054067798, \n . 7.80256368125246, 8.80227243386616, 9.80204060387428, 10.8018516931126, \n . 5.92283715798434, 9.87319603775799, 10.8664621657649, 6.20322496770833, \n . 10.0439036235918, 11.0217965867639, 6.62419806467168, 10.3092191750879, \n . 11.264102272263, 7.16100551598726, 10.6620823482095, 11.5879247494968, \n . 7.78973683766018, 11.0941425986869, 11.9866592510174, 8.48999411071645, \n . 11.5965512114594, 12.4531120608465, 11.1570605447851, 11.4490174250894, \n . 16.7475371323667, 17.5236982398123, 18.3215719849581, 19.1384429878713, \n . 11.8186293621553, 12.2588743365776, 12.7624449068351, 13.3221619867047, \n . 13.9312598138144, 14.5835523793073, 15.2735064736294, 15.9962495604438, \n . 9.24553946506098, 12.1605920908482, 12.9799845916704, 10.0439036235918, \n . 10.6526991884686, 11.3172434806361, 12.0282999630039, 12.7781062759706, \n . 13.5602359861471, 10.875660899458, 11.4402797168601, 12.0615090266517, \n . 12.7310643702716, 13.4417260796372, 14.1873182807746, 11.7337121150981, \n . 12.2588743365776, 12.8405607354196, 13.4714512952391, 14.1449637680695, \n . 14.8553020837679, 12.612692020342, 13.1026714833274, 13.6484431346583, \n . 14.2435950518119, 14.8822041378285, 15.5589202710214, 13.5085158326146, \n . 13.9671042095346, 15.6486421136148, 16.2935570088302, 14.4180442501748, \n . 14.8485689546165, 15.3323188070168, 15.8644256120416, 16.4401946460497, \n . 17.0552044842623, 15.3388395910512, 17.2534054609518, 17.8404035828789, \n . 16.2689889052762, 18.0853531898053, 18.6461792332907, 17.20697532979, \n . 18.9335680736622, 19.4699768875055, 11.3877126763894, 13.8592929112563, \n . 14.5835523793073, 18.1515839529227, 19.7959591836314, 20.3096036396578, \n . 19.101832372838, 20.6707522843268, 21.1631755651178, 20.0569190056698, \n . 20.3686032903584, 20.7238992470047, 21.1206060519105, 21.5564375535477, \n . 22.029071700823, 21.016184239771, 21.3138452654607, 22.451725991558, \n . 22.9058944378952, 10.5394497010043, 13.1711806608216, 13.9312598138144, \n . 9.72008230417829, 12.5251746494809, 13.3221619867047, 8.93756118860173, \n . 11.9281180409988, 12.7624449068351, 8.20243866176395, 11.3877126763894, \n . 12.2588743365776, 7.52861208988748, 10.912378292563, 11.8186293621553, \n . 6.93397432934389, 7.78973683766018, 10.5109466747767, 11.4490174250894, \n . 13.1026714833274, 13.3521533843796, 18.1019335983756, 18.8223271674891, \n . 19.567319693816, 20.3342076314766, 13.6704059925081, 14.0527577364729, \n . 14.4941367455948, 16.1207940251093, 16.7475371323667, 17.4091929738285, \n . 12.1276543486364, 12.3967737738494, 17.4091929738285, 18.1570922782256, \n . 18.9282857121293, 19.7200405679096, 12.7389167514353, 13.1483839311149, \n . 13.6191042289866, 14.1449637680695, 14.7200543477258, 15.3388395910512, \n . 15.9962495604438, 16.6877200360025, 6.44049687524185, 7.35391052434009, \n . 8.28733974204027, 9.23471710449216, 10.1921538449927, 11.1570605447851, \n . 6.07289058027559, 7.03420215802759, 8.0049984384758, 8.98220462915425, \n . 9.96393496566492, 10.9489725545368, 5.85491246732178, 6.84689710744948, \n . 7.84091831356506, 8.83628881374981, 9.83259884262548, 10.8295890965447, \n . 5.80344725141876, 6.80294054067798, 7.80256368125246, 8.80227243386616, \n . 9.80204060387428, 10.8018516931126, 5.92283715798434, 9.87319603775799, \n . 10.8664621657649, 6.20322496770833, 10.0439036235918, 11.0217965867639, \n . 6.62419806467168, 10.3092191750879, 11.264102272263, 7.16100551598726, \n . 10.6620823482095, 11.5879247494968, 7.78973683766018, 11.0941425986869, \n . 11.9866592510174, 8.48999411071645, 11.5965512114594, 12.4531120608465, \n . 11.1570605447851, 11.4490174250894, 16.7475371323667, 17.5236982398123, \n . 18.3215719849581, 19.1384429878713, 11.8186293621553, 12.2588743365776, \n . 12.7624449068351, 13.3221619867047, 13.9312598138144, 14.5835523793073, \n . 15.2735064736294, 15.9962495604438, 9.24553946506098, 12.1605920908482, \n . 12.9799845916704, 10.0439036235918, 10.6526991884686, 11.3172434806361, \n . 12.0282999630039, 12.7781062759706, 13.5602359861471, 10.875660899458, \n . 11.4402797168601, 12.0615090266517, 12.7310643702716, 13.4417260796372, \n . 14.1873182807746, 11.7337121150981, 12.2588743365776, 12.8405607354196, \n . 13.4714512952391, 14.1449637680695, 14.8553020837679, 12.612692020342, \n . 13.1026714833274, 13.6484431346583, 14.2435950518119, 14.8822041378285, \n . 15.5589202710214, 13.5085158326146, 13.9671042095346, 15.6486421136148, \n . 16.2935570088302, 14.4180442501748, 14.8485689546165, 15.3323188070168, \n . 15.8644256120416, 16.4401946460497, 17.0552044842623, 15.3388395910512, \n . 17.2534054609518, 17.8404035828789, 16.2689889052762, 18.0853531898053, \n . 18.6461792332907, 17.20697532979, 18.9335680736622, 19.4699768875055, \n . 11.3877126763894, 13.8592929112563, 14.5835523793073, 18.1515839529227, \n . 19.7959591836314, 20.3096036396578, 19.101832372838, 20.6707522843268, \n . 21.1631755651178, 20.0569190056698, 20.3686032903584, 20.7238992470047, \n . 21.1206060519105, 21.5564375535477, 22.029071700823, 21.016184239771, \n . 21.3138452654607, 22.451725991558, 22.9058944378952, 10.5394497010043, \n . 13.1711806608216, 13.9312598138144, 9.72008230417829, 12.5251746494809, \n . 13.3221619867047, 8.93756118860173, 11.9281180409988, 12.7624449068351, \n . 8.20243866176395, 11.3877126763894, 12.2588743365776, 7.52861208988748, \n . 10.912378292563, 11.8186293621553, 6.93397432934389, 7.78973683766018, \n . 10.5109466747767, 11.4490174250894, 13.1026714833274, 13.3521533843796, \n . 18.1019335983756, 18.8223271674891, 19.567319693816, 20.3342076314766, \n . 13.6704059925081, 14.0527577364729, 14.4941367455948, 16.1207940251093, \n . 16.7475371323667, 17.4091929738285, 12.1276543486364, 12.3967737738494, \n . 17.4091929738285, 18.1570922782256, 18.9282857121293, 19.7200405679096, \n . 12.7389167514353, 13.1483839311149, 13.6191042289866, 14.1449637680695, \n . 14.7200543477258, 15.3388395910512, 15.9962495604438, 16.6877200360025, \n . 6.44049687524185, 7.35391052434009, 8.28733974204027, 9.23471710449216, \n . 10.1921538449927, 11.1570605447851, 6.07289058027559, 7.03420215802759, \n . 8.0049984384758, 8.98220462915425, 9.96393496566492, 10.9489725545368, \n . 5.85491246732178, 6.84689710744948, 7.84091831356506, 8.83628881374981, \n . 9.83259884262548, 10.8295890965447, 5.80344725141876, 6.80294054067798, \n . 7.80256368125246, 8.80227243386616, 9.80204060387428, 10.8018516931126, \n . 5.92283715798434, 9.87319603775799, 10.8664621657649, 6.20322496770833, \n . 10.0439036235918, 11.0217965867639, 6.62419806467168, 10.3092191750879, \n . 11.264102272263, 7.16100551598726, 10.6620823482095, 11.5879247494968, \n . 7.78973683766018, 11.0941425986869, 11.9866592510174, 8.48999411071645, \n . 11.5965512114594, 12.4531120608465, 11.1570605447851, 11.4490174250894, \n . 16.7475371323667, 17.5236982398123, 18.3215719849581, 19.1384429878713, \n . 11.8186293621553, 12.2588743365776, 12.7624449068351, 13.3221619867047, \n . 13.9312598138144, 14.5835523793073, 15.2735064736294, 15.9962495604438, \n . 9.24553946506098, 12.1605920908482, 12.9799845916704, 10.0439036235918, \n . 10.6526991884686, 11.3172434806361, 12.0282999630039, 12.7781062759706, \n . 13.5602359861471, 10.875660899458, 11.4402797168601, 12.0615090266517, \n . 12.7310643702716, 13.4417260796372, 14.1873182807746, 11.7337121150981, \n . 12.2588743365776, 12.8405607354196, 13.4714512952391, 14.1449637680695, \n . 14.8553020837679, 12.612692020342, 13.1026714833274, 13.6484431346583, \n . 14.2435950518119, 14.8822041378285, 15.5589202710214, 13.5085158326146, \n . 13.9671042095346, 15.6486421136148, 16.2935570088302, 14.4180442501748, \n . 14.8485689546165, 15.3323188070168, 15.8644256120416, 16.4401946460497, \n . 17.0552044842623, 15.3388395910512, 17.2534054609518, 17.8404035828789, \n . 16.2689889052762, 18.0853531898053, 18.6461792332907, 17.20697532979, \n . 18.9335680736622, 19.4699768875055, 11.3877126763894, 13.8592929112563, \n . 14.5835523793073, 18.1515839529227, 19.7959591836314, 20.3096036396578, \n . 19.101832372838, 20.6707522843268, 21.1631755651178, 20.0569190056698, \n . 20.3686032903584, 20.7238992470047, 21.1206060519105, 21.5564375535477, \n . 22.029071700823, 21.016184239771, 21.3138452654607, 22.451725991558, \n . 22.9058944378952, 10.5394497010043, 13.1711806608216, 13.9312598138144, \n . 9.72008230417829, 12.5251746494809, 13.3221619867047, 8.93756118860173, \n . 11.9281180409988, 12.7624449068351, 8.20243866176395, 11.3877126763894, \n . 12.2588743365776, 7.52861208988748, 10.912378292563, 11.8186293621553, \n . 6.93397432934389, 7.78973683766018, 10.5109466747767, 11.4490174250894, \n . 13.1026714833274, 13.3521533843796, 18.1019335983756, 18.8223271674891, \n . 19.567319693816, 20.3342076314766, 13.6704059925081, 14.0527577364729, \n . 14.4941367455948, 16.1207940251093, 16.7475371323667, 17.4091929738285, \n . 12.1276543486364, 12.3967737738494, 17.4091929738285, 18.1570922782256, \n . 18.9282857121293, 19.7200405679096, 12.7389167514353, 13.1483839311149, \n . 13.6191042289866, 14.1449637680695, 14.7200543477258, 15.3388395910512, \n . 15.9962495604438, 16.6877200360025, 6.44049687524185, 7.35391052434009, \n . 8.28733974204027, 9.23471710449216, 10.1921538449927, 11.1570605447851, \n . 6.07289058027559, 7.03420215802759, 8.0049984384758, 8.98220462915425, \n . 9.96393496566492, 10.9489725545368, 5.85491246732178, 6.84689710744948, \n . 7.84091831356506, 8.83628881374981, 9.83259884262548, 10.8295890965447, \n . 5.80344725141876, 6.80294054067798, 7.80256368125246, 8.80227243386616, \n . 9.80204060387428, 10.8018516931126, 5.92283715798434, 9.87319603775799, \n . 10.8664621657649, 6.20322496770833, 10.0439036235918, 11.0217965867639, \n . 6.62419806467168, 10.3092191750879, 11.264102272263, 7.16100551598726, \n . 10.6620823482095, 11.5879247494968, 7.78973683766018, 11.0941425986869, \n . 11.9866592510174, 8.48999411071645, 11.5965512114594, 12.4531120608465, \n . 11.1570605447851, 11.4490174250894, 16.7475371323667, 17.5236982398123, \n . 18.3215719849581, 19.1384429878713, 11.8186293621553, 12.2588743365776, \n . 12.7624449068351, 13.3221619867047, 13.9312598138144, 14.5835523793073, \n . 15.2735064736294, 15.9962495604438, 9.24553946506098, 12.1605920908482, \n . 12.9799845916704, 10.0439036235918, 10.6526991884686, 11.3172434806361, \n . 12.0282999630039, 12.7781062759706, 13.5602359861471, 10.875660899458, \n . 11.4402797168601, 12.0615090266517, 12.7310643702716, 13.4417260796372, \n . 14.1873182807746, 11.7337121150981, 12.2588743365776, 12.8405607354196, \n . 13.4714512952391, 14.1449637680695, 14.8553020837679, 12.612692020342, \n . 13.1026714833274, 13.6484431346583, 14.2435950518119, 14.8822041378285, \n . 15.5589202710214, 13.5085158326146, 13.9671042095346, 15.6486421136148, \n . 16.2935570088302, 14.4180442501748, 14.8485689546165, 15.3323188070168, \n . 15.8644256120416, 16.4401946460497, 17.0552044842623, 15.3388395910512, \n . 17.2534054609518, 17.8404035828789, 16.2689889052762, 18.0853531898053, \n . 18.6461792332907, 17.20697532979, 18.9335680736622, 19.4699768875055, \n . 11.3877126763894, 13.8592929112563, 14.5835523793073, 18.1515839529227, \n . 19.7959591836314, 20.3096036396578, 19.101832372838, 20.6707522843268, \n . 21.1631755651178, 20.0569190056698, 20.3686032903584, 20.7238992470047, \n . 21.1206060519105, 21.5564375535477, 22.029071700823, 21.016184239771, \n . 21.3138452654607, 22.451725991558, 22.9058944378952, 10.5394497010043, \n . 13.1711806608216, 13.9312598138144, 9.72008230417829, 12.5251746494809, \n . 13.3221619867047, 8.93756118860173, 11.9281180409988, 12.7624449068351, \n . 8.20243866176395, 11.3877126763894, 12.2588743365776, 7.52861208988748, \n . 10.912378292563, 11.8186293621553, 6.93397432934389, 7.78973683766018, \n . 10.5109466747767, 11.4490174250894, 33.6168112705533, 33.5483233560189, \n . 34.2649967167662, 34.4889837484377, 34.7403223934379, 35.0184237223779, \n . 33.5095508773245, 33.5005970096057, 33.5214856472681, 33.7622570335575, \n . 33.9011799204688, 34.0689007747535, 32.6203923949422, 32.5498079871449, \n . 33.2879858207132, 33.518502353178, 33.7770632234361, 34.0630298123934, \n . 32.5098446628094, 32.5006153787894, 32.5221463006364, 32.5743764330186, \n . 32.6571584801862, 32.7702609083297, 32.9133711430476, 33.0860998003693, \n . 23.5008510484195, 23.5306183514161, 23.6027540765903, 23.7168716318152, \n . 23.8723689649771, 24.0684440710238, 22.5008888713313, 22.5319772767505, \n . 22.6072997060684, 22.7264163475019, 22.888643472255, 23.0930725543398, \n . 21.500930212435, 21.533462331915, 21.6122650363168, 21.736835096214, \n . 21.9063917613102, 22.1199005422719, 20.5009755865422, 20.5350919160349, \n . 20.6177108331648, 20.7482529385006, 20.9258213697814, 21.149231664531, \n . 19.5010256140543, 19.9471802518551, 20.181427105138, 18.5010810494955, \n . 18.970766985022, 19.2169196282859, 17.5011428198275, 17.9969441850554, \n . 18.2562318127263, 16.501212076693, 17.0261563483953, 17.3, 15.5012902688776, \n . 16.0589538887189, 16.349006085998, 14.5013792447477, 15.0960259671213, \n . 15.4042202009709, 31.6241995946143, 31.5513866573246, 32.3123815278292, \n . 32.5498079871449, 32.8160021940516, 33.1102703099809, 31.5101570925948, \n . 31.5006349142363, 31.5228488560282, 31.5767319398319, 31.6621224809709, \n . 31.7787664958853, 31.9263214291907, 32.1043610744709, 13.501481400202, \n . 14.1382460015378, 14.4668586776812, 12.5015998976131, 12.5574678976297, \n . 12.6921235417876, 12.9031004026164, 13.186735759846, 13.538463723776, \n . 11.5017389989514, 11.5624391890293, 11.7085438889727, 11.9369175250565, \n . 12.2429571591181, 12.6210142223199, 10.5019045891686, 10.5683489722851, \n . 10.7280007457121, 10.9767937030811, 11.3088460949825, 11.7170815478941, \n . 9.50210502993942, 9.57548954362126, 9.75141015443408, 10.0244700608062, \n . 10.3870111196629, 10.8300507847378, 8.50235261559999, 8.5842879728024, \n . 9.48103369891701, 9.96443676280802, 7.50266619276108, 7.5953933407033, \n . 7.81600921186765, 8.15414005275848, 8.59592926913664, 9.12633551870629, \n . 6.50307619515564, 7.73886296557834, 8.3240615086627, 5.50363516232681, \n . 6.92026011071838, 7.5690157880665, 4.50444225182208, 6.15548535860496, \n . 6.87677249878168, 30.500655730656, 30.7878222679033, 30.9401034258129, \n . 3.50570962859162, 5.46717477313466, 6.26817357768593, 2.50798724079689, \n . 4.88773976393998, 5.76974869470066, 1.51327459504216, 1.92093727122985, \n . 2.66270539113887, 3.53411940941446, 4.45982062419555, 5.41202365109392, \n . 0.53851648071345, 1.3, 4.22965719651132, 5.22398315464359, 29.5006779583114, \n . 29.7974831151894, 29.9547992815842, 28.5007017457465, 28.8078114406492, \n . 28.9705022393468, 27.5007272631107, 27.8188784820668, 27.9873185568035, \n . 26.5007547062343, 26.8307659227239, 27.0053698363862, 25.5007843016641, \n . 25.8435678651381, 26.0247958685558, 24.5008163129313, 24.5293701509028, \n . 24.8573932663906, 25.045758123882, 33.6168112705533, 33.5483233560189, \n . 34.2649967167662, 34.4889837484377, 34.7403223934379, 35.0184237223779, \n . 33.5095508773245, 33.5005970096057, 33.5214856472681, 33.7622570335575, \n . 33.9011799204688, 34.0689007747535, 32.6203923949422, 32.5498079871449, \n . 33.2879858207132, 33.518502353178, 33.7770632234361, 34.0630298123934, \n . 32.5098446628094, 32.5006153787894, 32.5221463006364, 32.5743764330186, \n . 32.6571584801862, 32.7702609083297, 32.9133711430476, 33.0860998003693, \n . 23.5008510484195, 23.5306183514161, 23.6027540765903, 23.7168716318152, \n . 23.8723689649771, 24.0684440710238, 22.5008888713313, 22.5319772767505, \n . 22.6072997060684, 22.7264163475019, 22.888643472255, 23.0930725543398, \n . 21.500930212435, 21.533462331915, 21.6122650363168, 21.736835096214, \n . 21.9063917613102, 22.1199005422719, 20.5009755865422, 20.5350919160349, \n . 20.6177108331648, 20.7482529385006, 20.9258213697814, 21.149231664531, \n . 19.5010256140543, 19.9471802518551, 20.181427105138, 18.5010810494955, \n . 18.970766985022, 19.2169196282859, 17.5011428198275, 17.9969441850554, \n . 18.2562318127263, 16.501212076693, 17.0261563483953, 17.3, 15.5012902688776, \n . 16.0589538887189, 16.349006085998, 14.5013792447477, 15.0960259671213, \n . 15.4042202009709, 31.6241995946143, 31.5513866573246, 32.3123815278292, \n . 32.5498079871449, 32.8160021940516, 33.1102703099809, 31.5101570925948, \n . 31.5006349142363, 31.5228488560282, 31.5767319398319, 31.6621224809709, \n . 31.7787664958853, 31.9263214291907, 32.1043610744709, 13.501481400202, \n . 14.1382460015378, 14.4668586776812, 12.5015998976131, 12.5574678976297, \n . 12.6921235417876, 12.9031004026164, 13.186735759846, 13.538463723776, \n . 11.5017389989514, 11.5624391890293, 11.7085438889727, 11.9369175250565, \n . 12.2429571591181, 12.6210142223199, 10.5019045891686, 10.5683489722851, \n . 10.7280007457121, 10.9767937030811, 11.3088460949825, 11.7170815478941, \n . 9.50210502993942, 9.57548954362126, 9.75141015443408, 10.0244700608062, \n . 10.3870111196629, 10.8300507847378, 8.50235261559999, 8.5842879728024, \n . 9.48103369891701, 9.96443676280802, 7.50266619276108, 7.5953933407033, \n . 7.81600921186765, 8.15414005275848, 8.59592926913664, 9.12633551870629, \n . 6.50307619515564, 7.73886296557834, 8.3240615086627, 5.50363516232681, \n . 6.92026011071838, 7.5690157880665, 4.50444225182208, 6.15548535860496, \n . 6.87677249878168, 30.500655730656, 30.7878222679033, 30.9401034258129, \n . 3.50570962859162, 5.46717477313466, 6.26817357768593, 2.50798724079689, \n . 4.88773976393998, 5.76974869470066, 1.51327459504216, 1.92093727122985, \n . 2.66270539113887, 3.53411940941446, 4.45982062419555, 5.41202365109392, \n . 0.53851648071345, 1.3, 4.22965719651132, 5.22398315464359, 29.5006779583114, \n . 29.7974831151894, 29.9547992815842, 28.5007017457465, 28.8078114406492, \n . 28.9705022393468, 27.5007272631107, 27.8188784820668, 27.9873185568035, \n . 26.5007547062343, 26.8307659227239, 27.0053698363862, 25.5007843016641, \n . 25.8435678651381, 26.0247958685558, 24.5008163129313, 24.5293701509028, \n . 24.8573932663906, 25.045758123882, 33.6168112705533, 33.5483233560189, \n . 34.2649967167662, 34.4889837484377, 34.7403223934379, 35.0184237223779, \n . 33.5095508773245, 33.5005970096057, 33.5214856472681, 33.7622570335575, \n . 33.9011799204688, 34.0689007747535, 32.6203923949422, 32.5498079871449, \n . 33.2879858207132, 33.518502353178, 33.7770632234361, 34.0630298123934, \n . 32.5098446628094, 32.5006153787894, 32.5221463006364, 32.5743764330186, \n . 32.6571584801862, 32.7702609083297, 32.9133711430476, 33.0860998003693, \n . 23.5008510484195, 23.5306183514161, 23.6027540765903, 23.7168716318152, \n . 23.8723689649771, 24.0684440710238, 22.5008888713313, 22.5319772767505, \n . 22.6072997060684, 22.7264163475019, 22.888643472255, 23.0930725543398, \n . 21.500930212435, 21.533462331915, 21.6122650363168, 21.736835096214, \n . 21.9063917613102, 22.1199005422719, 20.5009755865422, 20.5350919160349, \n . 20.6177108331648, 20.7482529385006, 20.9258213697814, 21.149231664531, \n . 19.5010256140543, 19.9471802518551, 20.181427105138, 18.5010810494955, \n . 18.970766985022, 19.2169196282859, 17.5011428198275, 17.9969441850554, \n . 18.2562318127263, 16.501212076693, 17.0261563483953, 17.3, 15.5012902688776, \n . 16.0589538887189, 16.349006085998, 14.5013792447477, 15.0960259671213, \n . 15.4042202009709, 31.6241995946143, 31.5513866573246, 32.3123815278292, \n . 32.5498079871449, 32.8160021940516, 33.1102703099809, 31.5101570925948, \n . 31.5006349142363, 31.5228488560282, 31.5767319398319, 31.6621224809709, \n . 31.7787664958853, 31.9263214291907, 32.1043610744709, 13.501481400202, \n . 14.1382460015378, 14.4668586776812, 12.5015998976131, 12.5574678976297, \n . 12.6921235417876, 12.9031004026164, 13.186735759846, 13.538463723776, \n . 11.5017389989514, 11.5624391890293, 11.7085438889727, 11.9369175250565, \n . 12.2429571591181, 12.6210142223199, 10.5019045891686, 10.5683489722851, \n . 10.7280007457121, 10.9767937030811, 11.3088460949825, 11.7170815478941, \n . 9.50210502993942, 9.57548954362126, 9.75141015443408, 10.0244700608062, \n . 10.3870111196629, 10.8300507847378, 8.50235261559999, 8.5842879728024, \n . 9.48103369891701, 9.96443676280802, 7.50266619276108, 7.5953933407033, \n . 7.81600921186765, 8.15414005275848, 8.59592926913664, 9.12633551870629, \n . 6.50307619515564, 7.73886296557834, 8.3240615086627, 5.50363516232681, \n . 6.92026011071838, 7.5690157880665, 4.50444225182208, 6.15548535860496, \n . 6.87677249878168, 30.500655730656, 30.7878222679033, 30.9401034258129, \n . 3.50570962859162, 5.46717477313466, 6.26817357768593, 2.50798724079689, \n . 4.88773976393998, 5.76974869470066, 1.51327459504216, 1.92093727122985, \n . 2.66270539113887, 3.53411940941446, 4.45982062419555, 5.41202365109392, \n . 0.53851648071345, 1.3, 4.22965719651132, 5.22398315464359, 29.5006779583114, \n . 29.7974831151894, 29.9547992815842, 28.5007017457465, 28.8078114406492, \n . 28.9705022393468, 27.5007272631107, 27.8188784820668, 27.9873185568035, \n . 26.5007547062343, 26.8307659227239, 27.0053698363862, 25.5007843016641, \n . 25.8435678651381, 26.0247958685558, 24.5008163129313, 24.5293701509028, \n . 24.8573932663906, 25.045758123882, 33.6168112705533, 33.5483233560189, \n . 34.2649967167662, 34.4889837484377, 34.7403223934379, 35.0184237223779, \n . 33.5095508773245, 33.5005970096057, 33.5214856472681, 33.7622570335575, \n . 33.9011799204688, 34.0689007747535, 32.6203923949422, 32.5498079871449, \n . 33.2879858207132, 33.518502353178, 33.7770632234361, 34.0630298123934, \n . 32.5098446628094, 32.5006153787894, 32.5221463006364, 32.5743764330186, \n . 32.6571584801862, 32.7702609083297, 32.9133711430476, 33.0860998003693, \n . 23.5008510484195, 23.5306183514161, 23.6027540765903, 23.7168716318152, \n . 23.8723689649771, 24.0684440710238, 22.5008888713313, 22.5319772767505, \n . 22.6072997060684, 22.7264163475019, 22.888643472255, 23.0930725543398, \n . 21.500930212435, 21.533462331915, 21.6122650363168, 21.736835096214, \n . 21.9063917613102, 22.1199005422719, 20.5009755865422, 20.5350919160349, \n . 20.6177108331648, 20.7482529385006, 20.9258213697814, 21.149231664531, \n . 19.5010256140543, 19.9471802518551, 20.181427105138, 18.5010810494955, \n . 18.970766985022, 19.2169196282859, 17.5011428198275, 17.9969441850554, \n . 18.2562318127263, 16.501212076693, 17.0261563483953, 17.3, 15.5012902688776, \n . 16.0589538887189, 16.349006085998, 14.5013792447477, 15.0960259671213, \n . 15.4042202009709, 31.6241995946143, 31.5513866573246, 32.3123815278292, \n . 32.5498079871449, 32.8160021940516, 33.1102703099809, 31.5101570925948, \n . 31.5006349142363, 31.5228488560282, 31.5767319398319, 31.6621224809709, \n . 31.7787664958853, 31.9263214291907, 32.1043610744709, 13.501481400202, \n . 14.1382460015378, 14.4668586776812, 12.5015998976131, 12.5574678976297, \n . 12.6921235417876, 12.9031004026164, 13.186735759846, 13.538463723776, \n . 11.5017389989514, 11.5624391890293, 11.7085438889727, 11.9369175250565, \n . 12.2429571591181, 12.6210142223199, 10.5019045891686, 10.5683489722851, \n . 10.7280007457121, 10.9767937030811, 11.3088460949825, 11.7170815478941, \n . 9.50210502993942, 9.57548954362126, 9.75141015443408, 10.0244700608062, \n . 10.3870111196629, 10.8300507847378, 8.50235261559999, 8.5842879728024, \n . 9.48103369891701, 9.96443676280802, 7.50266619276108, 7.5953933407033, \n . 7.81600921186765, 8.15414005275848, 8.59592926913664, 9.12633551870629, \n . 6.50307619515564, 7.73886296557834, 8.3240615086627, 5.50363516232681, \n . 6.92026011071838, 7.5690157880665, 4.50444225182208, 6.15548535860496, \n . 6.87677249878168, 30.500655730656, 30.7878222679033, 30.9401034258129, \n . 3.50570962859162, 5.46717477313466, 6.26817357768593, 2.50798724079689, \n . 4.88773976393998, 5.76974869470066, 1.51327459504216, 1.92093727122985, \n . 2.66270539113887, 3.53411940941446, 4.45982062419555, 5.41202365109392, \n . 0.53851648071345, 1.3, 4.22965719651132, 5.22398315464359, 29.5006779583114, \n . 29.7974831151894, 29.9547992815842, 28.5007017457465, 28.8078114406492, \n . 28.9705022393468, 27.5007272631107, 27.8188784820668, 27.9873185568035, \n . 26.5007547062343, 26.8307659227239, 27.0053698363862, 25.5007843016641, \n . 25.8435678651381, 26.0247958685558, 24.5008163129313, 24.5293701509028, \n . 24.8573932663906, 25.045758123882, 33.6168112705533, 33.5483233560189, \n . 34.2649967167662, 34.4889837484377, 34.7403223934379, 35.0184237223779, \n . 33.5095508773245, 33.5005970096057, 33.5214856472681, 33.7622570335575, \n . 33.9011799204688, 34.0689007747535, 32.6203923949422, 32.5498079871449, \n . 33.2879858207132, 33.518502353178, 33.7770632234361, 34.0630298123934, \n . 32.5098446628094, 32.5006153787894, 32.5221463006364, 32.5743764330186, \n . 32.6571584801862, 32.7702609083297, 32.9133711430476, 33.0860998003693, \n . 23.5008510484195, 23.5306183514161, 23.6027540765903, 23.7168716318152, \n . 23.8723689649771, 24.0684440710238, 22.5008888713313, 22.5319772767505, \n . 22.6072997060684, 22.7264163475019, 22.888643472255, 23.0930725543398, \n . 21.500930212435, 21.533462331915, 21.6122650363168, 21.736835096214, \n . 21.9063917613102, 22.1199005422719, 20.5009755865422, 20.5350919160349, \n . 20.6177108331648, 20.7482529385006, 20.9258213697814, 21.149231664531, \n . 19.5010256140543, 19.9471802518551, 20.181427105138, 18.5010810494955, \n . 18.970766985022, 19.2169196282859, 17.5011428198275, 17.9969441850554, \n . 18.2562318127263, 16.501212076693, 17.0261563483953, 17.3, 15.5012902688776, \n . 16.0589538887189, 16.349006085998, 14.5013792447477, 15.0960259671213, \n . 15.4042202009709, 31.6241995946143, 31.5513866573246, 32.3123815278292, \n . 32.5498079871449, 32.8160021940516, 33.1102703099809, 31.5101570925948, \n . 31.5006349142363, 31.5228488560282, 31.5767319398319, 31.6621224809709, \n . 31.7787664958853, 31.9263214291907, 32.1043610744709, 13.501481400202, \n . 14.1382460015378, 14.4668586776812, 12.5015998976131, 12.5574678976297, \n . 12.6921235417876, 12.9031004026164, 13.186735759846, 13.538463723776, \n . 11.5017389989514, 11.5624391890293, 11.7085438889727, 11.9369175250565, \n . 12.2429571591181, 12.6210142223199, 10.5019045891686, 10.5683489722851, \n . 10.7280007457121, 10.9767937030811, 11.3088460949825, 11.7170815478941, \n . 9.50210502993942, 9.57548954362126, 9.75141015443408, 10.0244700608062, \n . 10.3870111196629, 10.8300507847378, 8.50235261559999, 8.5842879728024, \n . 9.48103369891701, 9.96443676280802, 7.50266619276108, 7.5953933407033, \n . 7.81600921186765, 8.15414005275848, 8.59592926913664, 9.12633551870629, \n . 6.50307619515564, 7.73886296557834, 8.3240615086627, 5.50363516232681, \n . 6.92026011071838, 7.5690157880665, 4.50444225182208, 6.15548535860496, \n . 6.87677249878168, 30.500655730656, 30.7878222679033, 30.9401034258129, \n . 3.50570962859162, 5.46717477313466, 6.26817357768593, 2.50798724079689, \n . 4.88773976393998, 5.76974869470066, 1.51327459504216, 1.92093727122985, \n . 2.66270539113887, 3.53411940941446, 4.45982062419555, 5.41202365109392, \n . 0.53851648071345, 1.3, 4.22965719651132, 5.22398315464359, 29.5006779583114, \n . 29.7974831151894, 29.9547992815842, 28.5007017457465, 28.8078114406492, \n . 28.9705022393468, 27.5007272631107, 27.8188784820668, 27.9873185568035, \n . 26.5007547062343, 26.8307659227239, 27.0053698363862, 25.5007843016641, \n . 25.8435678651381, 26.0247958685558, 24.5008163129313, 24.5293701509028, \n . 24.8573932663906, 25.045758123882, 33.6168112705533, 33.5483233560189, \n . 34.2649967167662, 34.4889837484377, 34.7403223934379, 35.0184237223779, \n . 33.5095508773245, 33.5005970096057, 33.5214856472681, 33.7622570335575, \n . 33.9011799204688, 34.0689007747535, 32.6203923949422, 32.5498079871449, \n . 33.2879858207132, 33.518502353178, 33.7770632234361, 34.0630298123934, \n . 32.5098446628094, 32.5006153787894, 32.5221463006364, 32.5743764330186, \n . 32.6571584801862, 32.7702609083297, 32.9133711430476, 33.0860998003693, \n . 23.5008510484195, 23.5306183514161, 23.6027540765903, 23.7168716318152, \n . 23.8723689649771, 24.0684440710238, 22.5008888713313, 22.5319772767505, \n . 22.6072997060684, 22.7264163475019, 22.888643472255, 23.0930725543398, \n . 21.500930212435, 21.533462331915, 21.6122650363168, 21.736835096214, \n . 21.9063917613102, 22.1199005422719, 20.5009755865422, 20.5350919160349, \n . 20.6177108331648, 20.7482529385006, 20.9258213697814, 21.149231664531, \n . 19.5010256140543, 19.9471802518551, 20.181427105138, 18.5010810494955, \n . 18.970766985022, 19.2169196282859, 17.5011428198275, 17.9969441850554, \n . 18.2562318127263, 16.501212076693, 17.0261563483953, 17.3, 15.5012902688776, \n . 16.0589538887189, 16.349006085998, 14.5013792447477, 15.0960259671213, \n . 15.4042202009709, 31.6241995946143, 31.5513866573246, 32.3123815278292, \n . 32.5498079871449, 32.8160021940516, 33.1102703099809, 31.5101570925948, \n . 31.5006349142363, 31.5228488560282, 31.5767319398319, 31.6621224809709, \n . 31.7787664958853, 31.9263214291907, 32.1043610744709, 13.501481400202, \n . 14.1382460015378, 14.4668586776812, 12.5015998976131, 12.5574678976297, \n . 12.6921235417876, 12.9031004026164, 13.186735759846, 13.538463723776, \n . 11.5017389989514, 11.5624391890293, 11.7085438889727, 11.9369175250565, \n . 12.2429571591181, 12.6210142223199, 10.5019045891686, 10.5683489722851, \n . 10.7280007457121, 10.9767937030811, 11.3088460949825, 11.7170815478941, \n . 9.50210502993942, 9.57548954362126, 9.75141015443408, 10.0244700608062, \n . 10.3870111196629, 10.8300507847378, 8.50235261559999, 8.5842879728024, \n . 9.48103369891701, 9.96443676280802, 7.50266619276108, 7.5953933407033, \n . 7.81600921186765, 8.15414005275848, 8.59592926913664, 9.12633551870629, \n . 6.50307619515564, 7.73886296557834, 8.3240615086627, 5.50363516232681, \n . 6.92026011071838, 7.5690157880665, 4.50444225182208, 6.15548535860496, \n . 6.87677249878168, 30.500655730656, 30.7878222679033, 30.9401034258129, \n . 3.50570962859162, 5.46717477313466, 6.26817357768593, 2.50798724079689, \n . 4.88773976393998, 5.76974869470066, 1.51327459504216, 1.92093727122985, \n . 2.66270539113887, 3.53411940941446, 4.45982062419555, 5.41202365109392, \n . 0.53851648071345, 1.3, 4.22965719651132, 5.22398315464359, 29.5006779583114, \n . 29.7974831151894, 29.9547992815842, 28.5007017457465, 28.8078114406492, \n . 28.9705022393468, 27.5007272631107, 27.8188784820668, 27.9873185568035, \n . 26.5007547062343, 26.8307659227239, 27.0053698363862, 25.5007843016641, \n . 25.8435678651381, 26.0247958685558, 24.5008163129313, 24.5293701509028, \n . 24.8573932663906, 25.045758123882, 33.6168112705533, 33.5483233560189, \n . 34.2649967167662, 34.4889837484377, 34.7403223934379, 35.0184237223779, \n . 33.5095508773245, 33.5005970096057, 33.5214856472681, 33.7622570335575, \n . 33.9011799204688, 34.0689007747535, 32.6203923949422, 32.5498079871449, \n . 33.2879858207132, 33.518502353178, 33.7770632234361, 34.0630298123934, \n . 32.5098446628094, 32.5006153787894, 32.5221463006364, 32.5743764330186, \n . 32.6571584801862, 32.7702609083297, 32.9133711430476, 33.0860998003693, \n . 23.5008510484195, 23.5306183514161, 23.6027540765903, 23.7168716318152, \n . 23.8723689649771, 24.0684440710238, 22.5008888713313, 22.5319772767505, \n . 22.6072997060684, 22.7264163475019, 22.888643472255, 23.0930725543398, \n . 21.500930212435, 21.533462331915, 21.6122650363168, 21.736835096214, \n . 21.9063917613102, 22.1199005422719, 20.5009755865422, 20.5350919160349, \n . 20.6177108331648, 20.7482529385006, 20.9258213697814, 21.149231664531, \n . 19.5010256140543, 19.9471802518551, 20.181427105138, 18.5010810494955, \n . 18.970766985022, 19.2169196282859, 17.5011428198275, 17.9969441850554, \n . 18.2562318127263, 16.501212076693, 17.0261563483953, 17.3, 15.5012902688776, \n . 16.0589538887189, 16.349006085998, 14.5013792447477, 15.0960259671213, \n . 15.4042202009709, 31.6241995946143, 31.5513866573246, 32.3123815278292, \n . 32.5498079871449, 32.8160021940516, 33.1102703099809, 31.5101570925948, \n . 31.5006349142363, 31.5228488560282, 31.5767319398319, 31.6621224809709, \n . 31.7787664958853, 31.9263214291907, 32.1043610744709, 13.501481400202, \n . 14.1382460015378, 14.4668586776812, 12.5015998976131, 12.5574678976297, \n . 12.6921235417876, 12.9031004026164, 13.186735759846, 13.538463723776, \n . 11.5017389989514, 11.5624391890293, 11.7085438889727, 11.9369175250565, \n . 12.2429571591181, 12.6210142223199, 10.5019045891686, 10.5683489722851, \n . 10.7280007457121, 10.9767937030811, 11.3088460949825, 11.7170815478941, \n . 9.50210502993942, 9.57548954362126, 9.75141015443408, 10.0244700608062, \n . 10.3870111196629, 10.8300507847378, 8.50235261559999, 8.5842879728024, \n . 9.48103369891701, 9.96443676280802, 7.50266619276108, 7.5953933407033, \n . 7.81600921186765, 8.15414005275848, 8.59592926913664, 9.12633551870629, \n . 6.50307619515564, 7.73886296557834, 8.3240615086627, 5.50363516232681, \n . 6.92026011071838, 7.5690157880665, 4.50444225182208, 6.15548535860496, \n . 6.87677249878168, 30.500655730656, 30.7878222679033, 30.9401034258129, \n . 3.50570962859162, 5.46717477313466, 6.26817357768593, 2.50798724079689, \n . 4.88773976393998, 5.76974869470066, 1.51327459504216, 1.92093727122985, \n . 2.66270539113887, 3.53411940941446, 4.45982062419555, 5.41202365109392, \n . 0.53851648071345, 1.3, 4.22965719651132, 5.22398315464359, 29.5006779583114, \n . 29.7974831151894, 29.9547992815842, 28.5007017457465, 28.8078114406492, \n . 28.9705022393468, 27.5007272631107, 27.8188784820668, 27.9873185568035, \n . 26.5007547062343, 26.8307659227239, 27.0053698363862, 25.5007843016641, \n . 25.8435678651381, 26.0247958685558, 24.5008163129313, 24.5293701509028, \n . 24.8573932663906, 25.045758123882, 33.6168112705533, 33.5483233560189, \n . 34.2649967167662, 34.4889837484377, 34.7403223934379, 35.0184237223779, \n . 33.5095508773245, 33.5005970096057, 33.5214856472681, 33.7622570335575, \n . 33.9011799204688, 34.0689007747535, 32.6203923949422, 32.5498079871449, \n . 33.2879858207132, 33.518502353178, 33.7770632234361, 34.0630298123934, \n . 32.5098446628094, 32.5006153787894, 32.5221463006364, 32.5743764330186, \n . 32.6571584801862, 32.7702609083297, 32.9133711430476, 33.0860998003693, \n . 23.5008510484195, 23.5306183514161, 23.6027540765903, 23.7168716318152, \n . 23.8723689649771, 24.0684440710238, 22.5008888713313, 22.5319772767505, \n . 22.6072997060684, 22.7264163475019, 22.888643472255, 23.0930725543398, \n . 21.500930212435, 21.533462331915, 21.6122650363168, 21.736835096214, \n . 21.9063917613102, 22.1199005422719, 20.5009755865422, 20.5350919160349, \n . 20.6177108331648, 20.7482529385006, 20.9258213697814, 21.149231664531, \n . 19.5010256140543, 19.9471802518551, 20.181427105138, 18.5010810494955, \n . 18.970766985022, 19.2169196282859, 17.5011428198275, 17.9969441850554, \n . 18.2562318127263, 16.501212076693, 17.0261563483953, 17.3, 15.5012902688776, \n . 16.0589538887189, 16.349006085998, 14.5013792447477, 15.0960259671213, \n . 15.4042202009709, 31.6241995946143, 31.5513866573246, 32.3123815278292, \n . 32.5498079871449, 32.8160021940516, 33.1102703099809, 31.5101570925948, \n . 31.5006349142363, 31.5228488560282, 31.5767319398319, 31.6621224809709, \n . 31.7787664958853, 31.9263214291907, 32.1043610744709, 13.501481400202, \n . 14.1382460015378, 14.4668586776812, 12.5015998976131, 12.5574678976297, \n . 12.6921235417876, 12.9031004026164, 13.186735759846, 13.538463723776, \n . 11.5017389989514, 11.5624391890293, 11.7085438889727, 11.9369175250565, \n . 12.2429571591181, 12.6210142223199, 10.5019045891686, 10.5683489722851, \n . 10.7280007457121, 10.9767937030811, 11.3088460949825, 11.7170815478941, \n . 9.50210502993942, 9.57548954362126, 9.75141015443408, 10.0244700608062, \n . 10.3870111196629, 10.8300507847378, 8.50235261559999, 8.5842879728024, \n . 9.48103369891701, 9.96443676280802, 7.50266619276108, 7.5953933407033, \n . 7.81600921186765, 8.15414005275848, 8.59592926913664, 9.12633551870629, \n . 6.50307619515564, 7.73886296557834, 8.3240615086627, 5.50363516232681, \n . 6.92026011071838, 7.5690157880665, 4.50444225182208, 6.15548535860496, \n . 6.87677249878168, 30.500655730656, 30.7878222679033, 30.9401034258129, \n . 3.50570962859162, 5.46717477313466, 6.26817357768593, 2.50798724079689, \n . 4.88773976393998, 5.76974869470066, 1.51327459504216, 1.92093727122985, \n . 2.66270539113887, 3.53411940941446, 4.45982062419555, 5.41202365109392, \n . 0.53851648071345, 1.3, 4.22965719651132, 5.22398315464359, 29.5006779583114, \n . 29.7974831151894, 29.9547992815842, 28.5007017457465, 28.8078114406492, \n . 28.9705022393468, 27.5007272631107, 27.8188784820668, 27.9873185568035, \n . 26.5007547062343, 26.8307659227239, 27.0053698363862, 25.5007843016641, \n . 25.8435678651381, 26.0247958685558, 24.5008163129313, 24.5293701509028, \n . 24.8573932663906, 25.045758123882, 2.62488094968134, 3.08058436014987, \n . 11.0855762141623, 12.0619235613562, 13.0418556961807, 14.0246212070059, \n . 3.75366487582469, 4.54862616621766, 5.41202365109392, 8.19084855189009, \n . 9.14822387133153, 10.1138518873869, 1.7, 2.343074902772, 10.9036691072317, \n . 11.894956914592, 12.887590930814, 13.8812823615111, 3.17647603485372, \n . 4.0853396431631, 5.02891638427206, 5.99082632030006, 6.96347614342147, \n . 7.94292137692424, 8.92692556258872, 9.91413132856329, 8.40773453434396, \n . 8.9044932477935, 9.48103369891701, 10.1237344888139, 10.8208132781229, \n . 11.5624391890293, 9.31074647920348, 9.76165969494942, 10.2902866821095, \n . 10.8853112036358, 11.536463929645, 12.2347864713692, 10.2318131335556, \n . 10.6437775249204, 11.1305884839931, 11.682893477217, 12.2918672300021, \n . 12.9495173655237, 11.1664676599182, 11.5451288429363, 11.9954157910428, \n . 12.5095963164284, 13.080137613955, 13.7, 12.1115647213727, 13.8956827827926, \n . 14.4806767797641, 13.0648383074572, 14.7339743450299, 15.2869225156668, \n . 14.0246212070059, 15.5913437522235, 16.1148999376354, 14.9896631049534, \n . 16.4648109615628, 16.9614268267737, 15.9590099943574, 17.3519451359206, \n . 17.8238604123798, 16.9319225134064, 18.2507534091062, 18.7, 0.94339811320566, \n . 1.86815416922694, 10.8115678788971, 11.8105884696742, 12.8097619025492, \n . 13.8090550002526, 2.84429253066558, 3.83275357934736, 4.82597140480546, \n . 5.82151183113115, 6.81835757349231, 7.81600921186765, 8.81419309976812, \n . 9.81274681218261, 17.9078195210919, 19.159592897554, 19.5880065346119, \n . 18.8862383761299, 19.1125613144863, 19.3878828137577, 19.7101496696499, \n . 20.077101384413, 20.4863369102434, 19.8668064872037, 20.0820815654155, \n . 20.3442866672685, 20.6516343178936, 21.0021427478246, 21.3936906586965, \n . 20.849220608934, 21.0544532106631, 21.3046943183891, 21.5983795688473, \n . 21.9337639268777, 22.3089668070935, 21.8332315519256, 22.0292986724498, \n . 22.2685877414802, 22.5497228364342, 22.8711608800253, 23.2312289816962, \n . 22.8186327373048, 23.0063034840454, 23.8136515469594, 24.1596771501608, \n . 23.8052515214606, 23.985203772326, 24.2051647381298, 24.4640552648166, \n . 24.7606542724541, 25.0936246883546, 24.7929425442, 25.7116705019336, \n . 26.032479712851, 25.7815825736125, 26.6662708303955, 26.9757298325736, \n . 26.771066471099, 27.6240836952106, 27.9229296457231, 3.83275357934736, \n . 7.81600921186765, 8.81419309976812, 27.7613040039549, 28.5847861632722, \n . 28.8736904464947, 28.752217305801, 29.548096385385, 29.8276717160425, \n . 29.7437388369384, 29.8879574410832, 30.0647634283059, 30.2735858464107, \n . 30.5137673845758, 30.7845740590965, 30.7358097339244, 30.8753947343188, \n . 31.4815819170511, 31.7441333162523, 4.0853396431631, 7.94292137692424, \n . 8.92692556258872, 4.54862616621766, 8.19084855189009, 9.14822387133153, \n . 5.1662365412358, 8.5492689745966, 9.47048045243746, 5.88982172905089, \n . 9.00499861188218, 9.88382517044894, 6.68505796534331, 9.54410813015025, \n . 10.3773792452623, 7.52927619363243, 8.0802227692063, 10.1533245786787, \n . 10.9402925006601, 2.62488094968134, 3.08058436014987, 11.0855762141623, \n . 12.0619235613562, 13.0418556961807, 14.0246212070059, 3.75366487582469, \n . 4.54862616621766, 5.41202365109392, 8.19084855189009, 9.14822387133153, \n . 10.1138518873869, 1.7, 2.343074902772, 10.9036691072317, 11.894956914592, \n . 12.887590930814, 13.8812823615111, 3.17647603485372, 4.0853396431631, \n . 5.02891638427206, 5.99082632030006, 6.96347614342147, 7.94292137692424, \n . 8.92692556258872, 9.91413132856329, 8.40773453434396, 8.9044932477935, \n . 9.48103369891701, 10.1237344888139, 10.8208132781229, 11.5624391890293, \n . 9.31074647920348, 9.76165969494942, 10.2902866821095, 10.8853112036358, \n . 11.536463929645, 12.2347864713692, 10.2318131335556, 10.6437775249204, \n . 11.1305884839931, 11.682893477217, 12.2918672300021, 12.9495173655237, \n . 11.1664676599182, 11.5451288429363, 11.9954157910428, 12.5095963164284, \n . 13.080137613955, 13.7, 12.1115647213727, 13.8956827827926, 14.4806767797641, \n . 13.0648383074572, 14.7339743450299, 15.2869225156668, 14.0246212070059, \n . 15.5913437522235, 16.1148999376354, 14.9896631049534, 16.4648109615628, \n . 16.9614268267737, 15.9590099943574, 17.3519451359206, 17.8238604123798, \n . 16.9319225134064, 18.2507534091062, 18.7, 0.94339811320566, 1.86815416922694, \n . 10.8115678788971, 11.8105884696742, 12.8097619025492, 13.8090550002526, \n . 2.84429253066558, 3.83275357934736, 4.82597140480546, 5.82151183113115, \n . 6.81835757349231, 7.81600921186765, 8.81419309976812, 9.81274681218261, \n . 17.9078195210919, 19.159592897554, 19.5880065346119, 18.8862383761299, \n . 19.1125613144863, 19.3878828137577, 19.7101496696499, 20.077101384413, \n . 20.4863369102434, 19.8668064872037, 20.0820815654155, 20.3442866672685, \n . 20.6516343178936, 21.0021427478246, 21.3936906586965, 20.849220608934, \n . 21.0544532106631, 21.3046943183891, 21.5983795688473, 21.9337639268777, \n . 22.3089668070935, 21.8332315519256, 22.0292986724498, 22.2685877414802, \n . 22.5497228364342, 22.8711608800253, 23.2312289816962, 22.8186327373048, \n . 23.0063034840454, 23.8136515469594, 24.1596771501608, 23.8052515214606, \n . 23.985203772326, 24.2051647381298, 24.4640552648166, 24.7606542724541, \n . 25.0936246883546, 24.7929425442, 25.7116705019336, 26.032479712851, \n . 25.7815825736125, 26.6662708303955, 26.9757298325736, 26.771066471099, \n . 27.6240836952106, 27.9229296457231, 3.83275357934736, 7.81600921186765, \n . 8.81419309976812, 27.7613040039549, 28.5847861632722, 28.8736904464947, \n . 28.752217305801, 29.548096385385, 29.8276717160425, 29.7437388369384, \n . 29.8879574410832, 30.0647634283059, 30.2735858464107, 30.5137673845758, \n . 30.7845740590965, 30.7358097339244, 30.8753947343188, 31.4815819170511, \n . 31.7441333162523, 4.0853396431631, 7.94292137692424, 8.92692556258872, \n . 4.54862616621766, 8.19084855189009, 9.14822387133153, 5.1662365412358, \n . 8.5492689745966, 9.47048045243746, 5.88982172905089, 9.00499861188218, \n . 9.88382517044894, 6.68505796534331, 9.54410813015025, 10.3773792452623, \n . 7.52927619363243, 8.0802227692063, 10.1533245786787, 10.9402925006601, \n . 2.62488094968134, 3.08058436014987, 11.0855762141623, 12.0619235613562, \n . 13.0418556961807, 14.0246212070059, 3.75366487582469, 4.54862616621766, \n . 5.41202365109392, 8.19084855189009, 9.14822387133153, 10.1138518873869, \n . 1.7, 2.343074902772, 10.9036691072317, 11.894956914592, 12.887590930814, \n . 13.8812823615111, 3.17647603485372, 4.0853396431631, 5.02891638427206, \n . 5.99082632030006, 6.96347614342147, 7.94292137692424, 8.92692556258872, \n . 9.91413132856329, 8.40773453434396, 8.9044932477935, 9.48103369891701, \n . 10.1237344888139, 10.8208132781229, 11.5624391890293, 9.31074647920348, \n . 9.76165969494942, 10.2902866821095, 10.8853112036358, 11.536463929645, \n . 12.2347864713692, 10.2318131335556, 10.6437775249204, 11.1305884839931, \n . 11.682893477217, 12.2918672300021, 12.9495173655237, 11.1664676599182, \n . 11.5451288429363, 11.9954157910428, 12.5095963164284, 13.080137613955, \n . 13.7, 12.1115647213727, 13.8956827827926, 14.4806767797641, 13.0648383074572, \n . 14.7339743450299, 15.2869225156668, 14.0246212070059, 15.5913437522235, \n . 16.1148999376354, 14.9896631049534, 16.4648109615628, 16.9614268267737, \n . 15.9590099943574, 17.3519451359206, 17.8238604123798, 16.9319225134064, \n . 18.2507534091062, 18.7, 0.94339811320566, 1.86815416922694, 10.8115678788971, \n . 11.8105884696742, 12.8097619025492, 13.8090550002526, 2.84429253066558, \n . 3.83275357934736, 4.82597140480546, 5.82151183113115, 6.81835757349231, \n . 7.81600921186765, 8.81419309976812, 9.81274681218261, 17.9078195210919, \n . 19.159592897554, 19.5880065346119, 18.8862383761299, 19.1125613144863, \n . 19.3878828137577, 19.7101496696499, 20.077101384413, 20.4863369102434, \n . 19.8668064872037, 20.0820815654155, 20.3442866672685, 20.6516343178936, \n . 21.0021427478246, 21.3936906586965, 20.849220608934, 21.0544532106631, \n . 21.3046943183891, 21.5983795688473, 21.9337639268777, 22.3089668070935, \n . 21.8332315519256, 22.0292986724498, 22.2685877414802, 22.5497228364342, \n . 22.8711608800253, 23.2312289816962, 22.8186327373048, 23.0063034840454, \n . 23.8136515469594, 24.1596771501608, 23.8052515214606, 23.985203772326, \n . 24.2051647381298, 24.4640552648166, 24.7606542724541, 25.0936246883546, \n . 24.7929425442, 25.7116705019336, 26.032479712851, 25.7815825736125, \n . 26.6662708303955, 26.9757298325736, 26.771066471099, 27.6240836952106, \n . 27.9229296457231, 3.83275357934736, 7.81600921186765, 8.81419309976812, \n . 27.7613040039549, 28.5847861632722, 28.8736904464947, 28.752217305801, \n . 29.548096385385, 29.8276717160425, 29.7437388369384, 29.8879574410832, \n . 30.0647634283059, 30.2735858464107, 30.5137673845758, 30.7845740590965, \n . 30.7358097339244, 30.8753947343188, 31.4815819170511, 31.7441333162523, \n . 4.0853396431631, 7.94292137692424, 8.92692556258872, 4.54862616621766, \n . 8.19084855189009, 9.14822387133153, 5.1662365412358, 8.5492689745966, \n . 9.47048045243746, 5.88982172905089, 9.00499861188218, 9.88382517044894, \n . 6.68505796534331, 9.54410813015025, 10.3773792452623, 7.52927619363243, \n . 8.0802227692063, 10.1533245786787, 10.9402925006601, 2.62488094968134, \n . 3.08058436014987, 11.0855762141623, 12.0619235613562, 13.0418556961807, \n . 14.0246212070059, 3.75366487582469, 4.54862616621766, 5.41202365109392, \n . 8.19084855189009, 9.14822387133153, 10.1138518873869, 1.7, 2.343074902772, \n . 10.9036691072317, 11.894956914592, 12.887590930814, 13.8812823615111, \n . 3.17647603485372, 4.0853396431631, 5.02891638427206, 5.99082632030006, \n . 6.96347614342147, 7.94292137692424, 8.92692556258872, 9.91413132856329, \n . 8.40773453434396, 8.9044932477935, 9.48103369891701, 10.1237344888139, \n . 10.8208132781229, 11.5624391890293, 9.31074647920348, 9.76165969494942, \n . 10.2902866821095, 10.8853112036358, 11.536463929645, 12.2347864713692, \n . 10.2318131335556, 10.6437775249204, 11.1305884839931, 11.682893477217, \n . 12.2918672300021, 12.9495173655237, 11.1664676599182, 11.5451288429363, \n . 11.9954157910428, 12.5095963164284, 13.080137613955, 13.7, 12.1115647213727, \n . 13.8956827827926, 14.4806767797641, 13.0648383074572, 14.7339743450299, \n . 15.2869225156668, 14.0246212070059, 15.5913437522235, 16.1148999376354, \n . 14.9896631049534, 16.4648109615628, 16.9614268267737, 15.9590099943574, \n . 17.3519451359206, 17.8238604123798, 16.9319225134064, 18.2507534091062, \n . 18.7, 0.94339811320566, 1.86815416922694, 10.8115678788971, 11.8105884696742, \n . 12.8097619025492, 13.8090550002526, 2.84429253066558, 3.83275357934736, \n . 4.82597140480546, 5.82151183113115, 6.81835757349231, 7.81600921186765, \n . 8.81419309976812, 9.81274681218261, 17.9078195210919, 19.159592897554, \n . 19.5880065346119, 18.8862383761299, 19.1125613144863, 19.3878828137577, \n . 19.7101496696499, 20.077101384413, 20.4863369102434, 19.8668064872037, \n . 20.0820815654155, 20.3442866672685, 20.6516343178936, 21.0021427478246, \n . 21.3936906586965, 20.849220608934, 21.0544532106631, 21.3046943183891, \n . 21.5983795688473, 21.9337639268777, 22.3089668070935, 21.8332315519256, \n . 22.0292986724498, 22.2685877414802, 22.5497228364342, 22.8711608800253, \n . 23.2312289816962, 22.8186327373048, 23.0063034840454, 23.8136515469594, \n . 24.1596771501608, 23.8052515214606, 23.985203772326, 24.2051647381298, \n . 24.4640552648166, 24.7606542724541, 25.0936246883546, 24.7929425442, \n . 25.7116705019336, 26.032479712851, 25.7815825736125, 26.6662708303955, \n . 26.9757298325736, 26.771066471099, 27.6240836952106, 27.9229296457231, \n . 3.83275357934736, 7.81600921186765, 8.81419309976812, 27.7613040039549, \n . 28.5847861632722, 28.8736904464947, 28.752217305801, 29.548096385385, \n . 29.8276717160425, 29.7437388369384, 29.8879574410832, 30.0647634283059, \n . 30.2735858464107, 30.5137673845758, 30.7845740590965, 30.7358097339244, \n . 30.8753947343188, 31.4815819170511, 31.7441333162523, 4.0853396431631, \n . 7.94292137692424, 8.92692556258872, 4.54862616621766, 8.19084855189009, \n . 9.14822387133153, 5.1662365412358, 8.5492689745966, 9.47048045243746, \n . 5.88982172905089, 9.00499861188218, 9.88382517044894, 6.68505796534331, \n . 9.54410813015025, 10.3773792452623, 7.52927619363243, 8.0802227692063, \n . 10.1533245786787, 10.9402925006601, 2.62488094968134, 3.08058436014987, \n . 11.0855762141623, 12.0619235613562, 13.0418556961807, 14.0246212070059, \n . 3.75366487582469, 4.54862616621766, 5.41202365109392, 8.19084855189009, \n . 9.14822387133153, 10.1138518873869, 1.7, 2.343074902772, 10.9036691072317, \n . 11.894956914592, 12.887590930814, 13.8812823615111, 3.17647603485372, \n . 4.0853396431631, 5.02891638427206, 5.99082632030006, 6.96347614342147, \n . 7.94292137692424, 8.92692556258872, 9.91413132856329, 8.40773453434396, \n . 8.9044932477935, 9.48103369891701, 10.1237344888139, 10.8208132781229, \n . 11.5624391890293, 9.31074647920348, 9.76165969494942, 10.2902866821095, \n . 10.8853112036358, 11.536463929645, 12.2347864713692, 10.2318131335556, \n . 10.6437775249204, 11.1305884839931, 11.682893477217, 12.2918672300021, \n . 12.9495173655237, 11.1664676599182, 11.5451288429363, 11.9954157910428, \n . 12.5095963164284, 13.080137613955, 13.7, 12.1115647213727, 13.8956827827926, \n . 14.4806767797641, 13.0648383074572, 14.7339743450299, 15.2869225156668, \n . 14.0246212070059, 15.5913437522235, 16.1148999376354, 14.9896631049534, \n . 16.4648109615628, 16.9614268267737, 15.9590099943574, 17.3519451359206, \n . 17.8238604123798, 16.9319225134064, 18.2507534091062, 18.7, 0.94339811320566, \n . 1.86815416922694, 10.8115678788971, 11.8105884696742, 12.8097619025492, \n . 13.8090550002526, 2.84429253066558, 3.83275357934736, 4.82597140480546, \n . 5.82151183113115, 6.81835757349231, 7.81600921186765, 8.81419309976812, \n . 9.81274681218261, 17.9078195210919, 19.159592897554, 19.5880065346119, \n . 18.8862383761299, 19.1125613144863, 19.3878828137577, 19.7101496696499, \n . 20.077101384413, 20.4863369102434, 19.8668064872037, 20.0820815654155, \n . 20.3442866672685, 20.6516343178936, 21.0021427478246, 21.3936906586965, \n . 20.849220608934, 21.0544532106631, 21.3046943183891, 21.5983795688473, \n . 21.9337639268777, 22.3089668070935, 21.8332315519256, 22.0292986724498, \n . 22.2685877414802, 22.5497228364342, 22.8711608800253, 23.2312289816962, \n . 22.8186327373048, 23.0063034840454, 23.8136515469594, 24.1596771501608, \n . 23.8052515214606, 23.985203772326, 24.2051647381298, 24.4640552648166, \n . 24.7606542724541, 25.0936246883546, 24.7929425442, 25.7116705019336, \n . 26.032479712851, 25.7815825736125, 26.6662708303955, 26.9757298325736, \n . 26.771066471099, 27.6240836952106, 27.9229296457231, 3.83275357934736, \n . 7.81600921186765, 8.81419309976812, 27.7613040039549, 28.5847861632722, \n . 28.8736904464947, 28.752217305801, 29.548096385385, 29.8276717160425, \n . 29.7437388369384, 29.8879574410832, 30.0647634283059, 30.2735858464107, \n . 30.5137673845758, 30.7845740590965, 30.7358097339244, 30.8753947343188, \n . 31.4815819170511, 31.7441333162523, 4.0853396431631, 7.94292137692424, \n . 8.92692556258872, 4.54862616621766, 8.19084855189009, 9.14822387133153, \n . 5.1662365412358, 8.5492689745966, 9.47048045243746, 5.88982172905089, \n . 9.00499861188218, 9.88382517044894, 6.68505796534331, 9.54410813015025, \n . 10.3773792452623, 7.52927619363243, 8.0802227692063, 10.1533245786787, \n . 10.9402925006601, 2.62488094968134, 3.08058436014987, 11.0855762141623, \n . 12.0619235613562, 13.0418556961807, 14.0246212070059, 3.75366487582469, \n . 4.54862616621766, 5.41202365109392, 8.19084855189009, 9.14822387133153, \n . 10.1138518873869, 1.7, 2.343074902772, 10.9036691072317, 11.894956914592, \n . 12.887590930814, 13.8812823615111, 3.17647603485372, 4.0853396431631, \n . 5.02891638427206, 5.99082632030006, 6.96347614342147, 7.94292137692424, \n . 8.92692556258872, 9.91413132856329, 8.40773453434396, 8.9044932477935, \n . 9.48103369891701, 10.1237344888139, 10.8208132781229, 11.5624391890293, \n . 9.31074647920348, 9.76165969494942, 10.2902866821095, 10.8853112036358, \n . 11.536463929645, 12.2347864713692, 10.2318131335556, 10.6437775249204, \n . 11.1305884839931, 11.682893477217, 12.2918672300021, 12.9495173655237, \n . 11.1664676599182, 11.5451288429363, 11.9954157910428, 12.5095963164284, \n . 13.080137613955, 13.7, 12.1115647213727, 13.8956827827926, 14.4806767797641, \n . 13.0648383074572, 14.7339743450299, 15.2869225156668, 14.0246212070059, \n . 15.5913437522235, 16.1148999376354, 14.9896631049534, 16.4648109615628, \n . 16.9614268267737, 15.9590099943574, 17.3519451359206, 17.8238604123798, \n . 16.9319225134064, 18.2507534091062, 18.7, 0.94339811320566, 1.86815416922694, \n . 10.8115678788971, 11.8105884696742, 12.8097619025492, 13.8090550002526, \n . 2.84429253066558, 3.83275357934736, 4.82597140480546, 5.82151183113115, \n . 6.81835757349231, 7.81600921186765, 8.81419309976812, 9.81274681218261, \n . 17.9078195210919, 19.159592897554, 19.5880065346119, 18.8862383761299, \n . 19.1125613144863, 19.3878828137577, 19.7101496696499, 20.077101384413, \n . 20.4863369102434, 19.8668064872037, 20.0820815654155, 20.3442866672685, \n . 20.6516343178936, 21.0021427478246, 21.3936906586965, 20.849220608934, \n . 21.0544532106631, 21.3046943183891, 21.5983795688473, 21.9337639268777, \n . 22.3089668070935, 21.8332315519256, 22.0292986724498, 22.2685877414802, \n . 22.5497228364342, 22.8711608800253, 23.2312289816962, 22.8186327373048, \n . 23.0063034840454, 23.8136515469594, 24.1596771501608, 23.8052515214606, \n . 23.985203772326, 24.2051647381298, 24.4640552648166, 24.7606542724541, \n . 25.0936246883546, 24.7929425442, 25.7116705019336, 26.032479712851, \n . 25.7815825736125, 26.6662708303955, 26.9757298325736, 26.771066471099, \n . 27.6240836952106, 27.9229296457231, 3.83275357934736, 7.81600921186765, \n . 8.81419309976812, 27.7613040039549, 28.5847861632722, 28.8736904464947, \n . 28.752217305801, 29.548096385385, 29.8276717160425, 29.7437388369384, \n . 29.8879574410832, 30.0647634283059, 30.2735858464107, 30.5137673845758, \n . 30.7845740590965, 30.7358097339244, 30.8753947343188, 31.4815819170511, \n . 31.7441333162523, 4.0853396431631, 7.94292137692424, 8.92692556258872, \n . 4.54862616621766, 8.19084855189009, 9.14822387133153, 5.1662365412358, \n . 8.5492689745966, 9.47048045243746, 5.88982172905089, 9.00499861188218, \n . 9.88382517044894, 6.68505796534331, 9.54410813015025, 10.3773792452623, \n . 7.52927619363243, 8.0802227692063, 10.1533245786787, 10.9402925006601, \n . 2.62488094968134, 3.08058436014987, 11.0855762141623, 12.0619235613562, \n . 13.0418556961807, 14.0246212070059, 3.75366487582469, 4.54862616621766, \n . 5.41202365109392, 8.19084855189009, 9.14822387133153, 10.1138518873869, \n . 1.7, 2.343074902772, 10.9036691072317, 11.894956914592, 12.887590930814, \n . 13.8812823615111, 3.17647603485372, 4.0853396431631, 5.02891638427206, \n . 5.99082632030006, 6.96347614342147, 7.94292137692424, 8.92692556258872, \n . 9.91413132856329, 8.40773453434396, 8.9044932477935, 9.48103369891701, \n . 10.1237344888139, 10.8208132781229, 11.5624391890293, 9.31074647920348, \n . 9.76165969494942, 10.2902866821095, 10.8853112036358, 11.536463929645, \n . 12.2347864713692, 10.2318131335556, 10.6437775249204, 11.1305884839931, \n . 11.682893477217, 12.2918672300021, 12.9495173655237, 11.1664676599182, \n . 11.5451288429363, 11.9954157910428, 12.5095963164284, 13.080137613955, \n . 13.7, 12.1115647213727, 13.8956827827926, 14.4806767797641, 13.0648383074572, \n . 14.7339743450299, 15.2869225156668, 14.0246212070059, 15.5913437522235, \n . 16.1148999376354, 14.9896631049534, 16.4648109615628, 16.9614268267737, \n . 15.9590099943574, 17.3519451359206, 17.8238604123798, 16.9319225134064, \n . 18.2507534091062, 18.7, 0.94339811320566, 1.86815416922694, 10.8115678788971, \n . 11.8105884696742, 12.8097619025492, 13.8090550002526, 2.84429253066558, \n . 3.83275357934736, 4.82597140480546, 5.82151183113115, 6.81835757349231, \n . 7.81600921186765, 8.81419309976812, 9.81274681218261, 17.9078195210919, \n . 19.159592897554, 19.5880065346119, 18.8862383761299, 19.1125613144863, \n . 19.3878828137577, 19.7101496696499, 20.077101384413, 20.4863369102434, \n . 19.8668064872037, 20.0820815654155, 20.3442866672685, 20.6516343178936, \n . 21.0021427478246, 21.3936906586965, 20.849220608934, 21.0544532106631, \n . 21.3046943183891, 21.5983795688473, 21.9337639268777, 22.3089668070935, \n . 21.8332315519256, 22.0292986724498, 22.2685877414802, 22.5497228364342, \n . 22.8711608800253, 23.2312289816962, 22.8186327373048, 23.0063034840454, \n . 23.8136515469594, 24.1596771501608, 23.8052515214606, 23.985203772326, \n . 24.2051647381298, 24.4640552648166, 24.7606542724541, 25.0936246883546, \n . 24.7929425442, 25.7116705019336, 26.032479712851, 25.7815825736125, \n . 26.6662708303955, 26.9757298325736, 26.771066471099, 27.6240836952106, \n . 27.9229296457231, 3.83275357934736, 7.81600921186765, 8.81419309976812, \n . 27.7613040039549, 28.5847861632722, 28.8736904464947, 28.752217305801, \n . 29.548096385385, 29.8276717160425, 29.7437388369384, 29.8879574410832, \n . 30.0647634283059, 30.2735858464107, 30.5137673845758, 30.7845740590965, \n . 30.7358097339244, 30.8753947343188, 31.4815819170511, 31.7441333162523, \n . 4.0853396431631, 7.94292137692424, 8.92692556258872, 4.54862616621766, \n . 8.19084855189009, 9.14822387133153, 5.1662365412358, 8.5492689745966, \n . 9.47048045243746, 5.88982172905089, 9.00499861188218, 9.88382517044894, \n . 6.68505796534331, 9.54410813015025, 10.3773792452623, 7.52927619363243, \n . 8.0802227692063, 10.1533245786787, 10.9402925006601, 2.62488094968134, \n . 3.08058436014987, 11.0855762141623, 12.0619235613562, 13.0418556961807, \n . 14.0246212070059, 3.75366487582469, 4.54862616621766, 5.41202365109392, \n . 8.19084855189009, 9.14822387133153, 10.1138518873869, 1.7, 2.343074902772, \n . 10.9036691072317, 11.894956914592, 12.887590930814, 13.8812823615111, \n . 3.17647603485372, 4.0853396431631, 5.02891638427206, 5.99082632030006, \n . 6.96347614342147, 7.94292137692424, 8.92692556258872, 9.91413132856329, \n . 8.40773453434396, 8.9044932477935, 9.48103369891701, 10.1237344888139, \n . 10.8208132781229, 11.5624391890293, 9.31074647920348, 9.76165969494942, \n . 10.2902866821095, 10.8853112036358, 11.536463929645, 12.2347864713692, \n . 10.2318131335556, 10.6437775249204, 11.1305884839931, 11.682893477217, \n . 12.2918672300021, 12.9495173655237, 11.1664676599182, 11.5451288429363, \n . 11.9954157910428, 12.5095963164284, 13.080137613955, 13.7, 12.1115647213727, \n . 13.8956827827926, 14.4806767797641, 13.0648383074572, 14.7339743450299, \n . 15.2869225156668, 14.0246212070059, 15.5913437522235, 16.1148999376354, \n . 14.9896631049534, 16.4648109615628, 16.9614268267737, 15.9590099943574, \n . 17.3519451359206, 17.8238604123798, 16.9319225134064, 18.2507534091062, \n . 18.7, 0.94339811320566, 1.86815416922694, 10.8115678788971, 11.8105884696742, \n . 12.8097619025492, 13.8090550002526, 2.84429253066558, 3.83275357934736, \n . 4.82597140480546, 5.82151183113115, 6.81835757349231, 7.81600921186765, \n . 8.81419309976812, 9.81274681218261, 17.9078195210919, 19.159592897554, \n . 19.5880065346119, 18.8862383761299, 19.1125613144863, 19.3878828137577, \n . 19.7101496696499, 20.077101384413, 20.4863369102434, 19.8668064872037, \n . 20.0820815654155, 20.3442866672685, 20.6516343178936, 21.0021427478246, \n . 21.3936906586965, 20.849220608934, 21.0544532106631, 21.3046943183891, \n . 21.5983795688473, 21.9337639268777, 22.3089668070935, 21.8332315519256, \n . 22.0292986724498, 22.2685877414802, 22.5497228364342, 22.8711608800253, \n . 23.2312289816962, 22.8186327373048, 23.0063034840454, 23.8136515469594, \n . 24.1596771501608, 23.8052515214606, 23.985203772326, 24.2051647381298, \n . 24.4640552648166, 24.7606542724541, 25.0936246883546, 24.7929425442, \n . 25.7116705019336, 26.032479712851, 25.7815825736125, 26.6662708303955, \n . 26.9757298325736, 26.771066471099, 27.6240836952106, 27.9229296457231, \n . 3.83275357934736, 7.81600921186765, 8.81419309976812, 27.7613040039549, \n . 28.5847861632722, 28.8736904464947, 28.752217305801, 29.548096385385, \n . 29.8276717160425, 29.7437388369384, 29.8879574410832, 30.0647634283059, \n . 30.2735858464107, 30.5137673845758, 30.7845740590965, 30.7358097339244, \n . 30.8753947343188, 31.4815819170511, 31.7441333162523, 4.0853396431631, \n . 7.94292137692424, 8.92692556258872, 4.54862616621766, 8.19084855189009, \n . 9.14822387133153, 5.1662365412358, 8.5492689745966, 9.47048045243746, \n . 5.88982172905089, 9.00499861188218, 9.88382517044894, 6.68505796534331, \n . 9.54410813015025, 10.3773792452623, 7.52927619363243, 8.0802227692063, \n . 10.1533245786787, 10.9402925006601, 34.7669383178905, 34.5128961404284, \n . 33.5073126347071, 33.5431065943511, 33.6086298441338, 33.7037089947086, \n . 34.2861488067703, 34.0872410147844, 33.9166625716623, 33.5788623988366, \n . 33.5252143915591, 33.5013432566517, 33.8044375785192, 33.5431065943511, \n . 32.5075375874581, 32.544431167252, 32.6119609959291, 32.7099373279742, \n . 33.3097583299549, 33.1049845189512, 32.9293182437778, 32.7832274189104, \n . 32.6671088405448, 32.5812829704418, 32.5259896083117, 32.5013845858911, \n . 24.3298170975451, 24.0902469891863, 23.8901653405748, 23.7305710002941, \n . 23.6122849381418, 23.5359299795016, 23.3653589743449, 23.1157954654388, \n . 22.9072041070053, 22.7407123898967, 22.6172500538859, 22.5375242651006, \n . 22.4040174968687, 22.1436221066022, 21.925783908449, 21.7517815362328, \n . 21.6226732852346, 21.5392664684757, 21.4462117867002, 21.174040710266, \n . 20.9461213593352, 20.7639109996166, 20.6286208942818, 20.5411781551108, \n . 20.4924376295257, 19.6351725227969, 19.5432852918848, 19.5432852918848, \n . 18.6424247349963, 18.545619428857, 18.599462357821, 17.6504957437461, \n . 17.5482192828788, 17.661823235442, 16.6595318061463, 16.5511328917389, \n . 16.7314075917121, 15.6697160152952, 15.5544205935162, 15.8094908203901, \n . 14.681280598095, 14.5581592242976, 32.8441775661989, 32.5751438983775, \n . 31.5077768177953, 31.5458396623073, 31.6155025264505, 31.7165571902122, \n . 32.3348109627998, 32.1238229356345, 31.9427613083152, 31.792137392758, \n . 31.672385448526, 31.5838566359462, 31.5268139842896, 31.5014285390361, \n . 14.8976508215222, 13.6945244532258, 13.5624481565829, 13.9978569788379, \n . 13.5771867483658, 13.2189258262538, 12.9282636111738, 12.709838708654, \n . 12.5674181914982, 13.1125893705248, 12.6625431884752, 12.2776219195738, \n . 11.96411300515, 11.7277448812634, 11.5732450073434, 12.2449989791751, \n . 11.7618025829377, 11.3463650567043, 11.0063617967065, 10.7489534374282, \n . 10.5801701309573, 11.3991227732664, 10.8784190027779, 10.427847332983, \n . 10.0568384694197, 9.77445650662992, 9.5885348202945, 10.5801701309573, \n . 10.0169855745129, 8.80567998510053, 8.59883713068226, 9.7948966303887, \n . 9.18368117913509, 8.64522989862039, 8.1939001702486, 7.84474346298208, \n . 7.61183289359403, 9.05207158610669, 6.89492567037528, 6.62872536767062, \n . 8.36301381082203, 5.96154342431555, 5.65154846037792, 7.74209274033837, \n . 5.05371150739731, 4.68401537145215, 31.1438597479503, 30.5865983724899, \n . 30.5276923464582, 7.2069410986909, 4.18807831827439, 3.73363094051889, \n . 6.77790528113222, 3.39705755029261, 2.81780056072107, 6.47610994347687, \n . 5.50817574156817, 4.55411901469428, 3.62491379207837, 2.7459060435492, \n . 1.98494332412792, 6.31981012372998, 5.32353266168247, 2.35372045918796, \n . 1.39283882771841, 30.1652117512873, 29.5895251736151, 29.5286301747982, \n . 29.1880112374927, 28.592656399852, 28.5296337165411, 28.212408617486, \n . 27.5960142049536, 27.5307101252401, 27.2385755868401, 26.5996240574937, \n . 26.5318676312091, 26.266708967817, 25.6035153836343, 25.5331157519015, \n . 25.2970353994297, 25.0667109928686, 24.6077223651438, 24.534465553584, \n . 34.7669383178905, 34.5128961404284, 33.5073126347071, 33.5431065943511, \n . 33.6086298441338, 33.7037089947086, 34.2861488067703, 34.0872410147844, \n . 33.9166625716623, 33.5788623988366, 33.5252143915591, 33.5013432566517, \n . 33.8044375785192, 33.5431065943511, 32.5075375874581, 32.544431167252, \n . 32.6119609959291, 32.7099373279742, 33.3097583299549, 33.1049845189512, \n . 32.9293182437778, 32.7832274189104, 32.6671088405448, 32.5812829704418, \n . 32.5259896083117, 32.5013845858911, 24.3298170975451, 24.0902469891863, \n . 23.8901653405748, 23.7305710002941, 23.6122849381418, 23.5359299795016, \n . 23.3653589743449, 23.1157954654388, 22.9072041070053, 22.7407123898967, \n . 22.6172500538859, 22.5375242651006, 22.4040174968687, 22.1436221066022, \n . 21.925783908449, 21.7517815362328, 21.6226732852346, 21.5392664684757, \n . 21.4462117867002, 21.174040710266, 20.9461213593352, 20.7639109996166, \n . 20.6286208942818, 20.5411781551108, 20.4924376295257, 19.6351725227969, \n . 19.5432852918848, 19.5432852918848, 18.6424247349963, 18.545619428857, \n . 18.599462357821, 17.6504957437461, 17.5482192828788, 17.661823235442, \n . 16.6595318061463, 16.5511328917389, 16.7314075917121, 15.6697160152952, \n . 15.5544205935162, 15.8094908203901, 14.681280598095, 14.5581592242976, \n . 32.8441775661989, 32.5751438983775, 31.5077768177953, 31.5458396623073, \n . 31.6155025264505, 31.7165571902122, 32.3348109627998, 32.1238229356345, \n . 31.9427613083152, 31.792137392758, 31.672385448526, 31.5838566359462, \n . 31.5268139842896, 31.5014285390361, 14.8976508215222, 13.6945244532258, \n . 13.5624481565829, 13.9978569788379, 13.5771867483658, 13.2189258262538, \n . 12.9282636111738, 12.709838708654, 12.5674181914982, 13.1125893705248, \n . 12.6625431884752, 12.2776219195738, 11.96411300515, 11.7277448812634, \n . 11.5732450073434, 12.2449989791751, 11.7618025829377, 11.3463650567043, \n . 11.0063617967065, 10.7489534374282, 10.5801701309573, 11.3991227732664, \n . 10.8784190027779, 10.427847332983, 10.0568384694197, 9.77445650662992, \n . 9.5885348202945, 10.5801701309573, 10.0169855745129, 8.80567998510053, \n . 8.59883713068226, 9.7948966303887, 9.18368117913509, 8.64522989862039, \n . 8.1939001702486, 7.84474346298208, 7.61183289359403, 9.05207158610669, \n . 6.89492567037528, 6.62872536767062, 8.36301381082203, 5.96154342431555, \n . 5.65154846037792, 7.74209274033837, 5.05371150739731, 4.68401537145215, \n . 31.1438597479503, 30.5865983724899, 30.5276923464582, 7.2069410986909, \n . 4.18807831827439, 3.73363094051889, 6.77790528113222, 3.39705755029261, \n . 2.81780056072107, 6.47610994347687, 5.50817574156817, 4.55411901469428, \n . 3.62491379207837, 2.7459060435492, 1.98494332412792, 6.31981012372998, \n . 5.32353266168247, 2.35372045918796, 1.39283882771841, 30.1652117512873, \n . 29.5895251736151, 29.5286301747982, 29.1880112374927, 28.592656399852, \n . 28.5296337165411, 28.212408617486, 27.5960142049536, 27.5307101252401, \n . 27.2385755868401, 26.5996240574937, 26.5318676312091, 26.266708967817, \n . 25.6035153836343, 25.5331157519015, 25.2970353994297, 25.0667109928686, \n . 24.6077223651438, 24.534465553584, 34.7669383178905, 34.5128961404284, \n . 33.5073126347071, 33.5431065943511, 33.6086298441338, 33.7037089947086, \n . 34.2861488067703, 34.0872410147844, 33.9166625716623, 33.5788623988366, \n . 33.5252143915591, 33.5013432566517, 33.8044375785192, 33.5431065943511, \n . 32.5075375874581, 32.544431167252, 32.6119609959291, 32.7099373279742, \n . 33.3097583299549, 33.1049845189512, 32.9293182437778, 32.7832274189104, \n . 32.6671088405448, 32.5812829704418, 32.5259896083117, 32.5013845858911, \n . 24.3298170975451, 24.0902469891863, 23.8901653405748, 23.7305710002941, \n . 23.6122849381418, 23.5359299795016, 23.3653589743449, 23.1157954654388, \n . 22.9072041070053, 22.7407123898967, 22.6172500538859, 22.5375242651006, \n . 22.4040174968687, 22.1436221066022, 21.925783908449, 21.7517815362328, \n . 21.6226732852346, 21.5392664684757, 21.4462117867002, 21.174040710266, \n . 20.9461213593352, 20.7639109996166, 20.6286208942818, 20.5411781551108, \n . 20.4924376295257, 19.6351725227969, 19.5432852918848, 19.5432852918848, \n . 18.6424247349963, 18.545619428857, 18.599462357821, 17.6504957437461, \n . 17.5482192828788, 17.661823235442, 16.6595318061463, 16.5511328917389, \n . 16.7314075917121, 15.6697160152952, 15.5544205935162, 15.8094908203901, \n . 14.681280598095, 14.5581592242976, 32.8441775661989, 32.5751438983775, \n . 31.5077768177953, 31.5458396623073, 31.6155025264505, 31.7165571902122, \n . 32.3348109627998, 32.1238229356345, 31.9427613083152, 31.792137392758, \n . 31.672385448526, 31.5838566359462, 31.5268139842896, 31.5014285390361, \n . 14.8976508215222, 13.6945244532258, 13.5624481565829, 13.9978569788379, \n . 13.5771867483658, 13.2189258262538, 12.9282636111738, 12.709838708654, \n . 12.5674181914982, 13.1125893705248, 12.6625431884752, 12.2776219195738, \n . 11.96411300515, 11.7277448812634, 11.5732450073434, 12.2449989791751, \n . 11.7618025829377, 11.3463650567043, 11.0063617967065, 10.7489534374282, \n . 10.5801701309573, 11.3991227732664, 10.8784190027779, 10.427847332983, \n . 10.0568384694197, 9.77445650662992, 9.5885348202945, 10.5801701309573, \n . 10.0169855745129, 8.80567998510053, 8.59883713068226, 9.7948966303887, \n . 9.18368117913509, 8.64522989862039, 8.1939001702486, 7.84474346298208, \n . 7.61183289359403, 9.05207158610669, 6.89492567037528, 6.62872536767062, \n . 8.36301381082203, 5.96154342431555, 5.65154846037792, 7.74209274033837, \n . 5.05371150739731, 4.68401537145215, 31.1438597479503, 30.5865983724899, \n . 30.5276923464582, 7.2069410986909, 4.18807831827439, 3.73363094051889, \n . 6.77790528113222, 3.39705755029261, 2.81780056072107, 6.47610994347687, \n . 5.50817574156817, 4.55411901469428, 3.62491379207837, 2.7459060435492, \n . 1.98494332412792, 6.31981012372998, 5.32353266168247, 2.35372045918796, \n . 1.39283882771841, 30.1652117512873, 29.5895251736151, 29.5286301747982, \n . 29.1880112374927, 28.592656399852, 28.5296337165411, 28.212408617486, \n . 27.5960142049536, 27.5307101252401, 27.2385755868401, 26.5996240574937, \n . 26.5318676312091, 26.266708967817, 25.6035153836343, 25.5331157519015, \n . 25.2970353994297, 25.0667109928686, 24.6077223651438, 24.534465553584, \n . 34.7669383178905, 34.5128961404284, 33.5073126347071, 33.5431065943511, \n . 33.6086298441338, 33.7037089947086, 34.2861488067703, 34.0872410147844, \n . 33.9166625716623, 33.5788623988366, 33.5252143915591, 33.5013432566517, \n . 33.8044375785192, 33.5431065943511, 32.5075375874581, 32.544431167252, \n . 32.6119609959291, 32.7099373279742, 33.3097583299549, 33.1049845189512, \n . 32.9293182437778, 32.7832274189104, 32.6671088405448, 32.5812829704418, \n . 32.5259896083117, 32.5013845858911, 24.3298170975451, 24.0902469891863, \n . 23.8901653405748, 23.7305710002941, 23.6122849381418, 23.5359299795016, \n . 23.3653589743449, 23.1157954654388, 22.9072041070053, 22.7407123898967, \n . 22.6172500538859, 22.5375242651006, 22.4040174968687, 22.1436221066022, \n . 21.925783908449, 21.7517815362328, 21.6226732852346, 21.5392664684757, \n . 21.4462117867002, 21.174040710266, 20.9461213593352, 20.7639109996166, \n . 20.6286208942818, 20.5411781551108, 20.4924376295257, 19.6351725227969, \n . 19.5432852918848, 19.5432852918848, 18.6424247349963, 18.545619428857, \n . 18.599462357821, 17.6504957437461, 17.5482192828788, 17.661823235442, \n . 16.6595318061463, 16.5511328917389, 16.7314075917121, 15.6697160152952, \n . 15.5544205935162, 15.8094908203901, 14.681280598095, 14.5581592242976, \n . 32.8441775661989, 32.5751438983775, 31.5077768177953, 31.5458396623073, \n . 31.6155025264505, 31.7165571902122, 32.3348109627998, 32.1238229356345, \n . 31.9427613083152, 31.792137392758, 31.672385448526, 31.5838566359462, \n . 31.5268139842896, 31.5014285390361, 14.8976508215222, 13.6945244532258, \n . 13.5624481565829, 13.9978569788379, 13.5771867483658, 13.2189258262538, \n . 12.9282636111738, 12.709838708654, 12.5674181914982, 13.1125893705248, \n . 12.6625431884752, 12.2776219195738, 11.96411300515, 11.7277448812634, \n . 11.5732450073434, 12.2449989791751, 11.7618025829377, 11.3463650567043, \n . 11.0063617967065, 10.7489534374282, 10.5801701309573, 11.3991227732664, \n . 10.8784190027779, 10.427847332983, 10.0568384694197, 9.77445650662992, \n . 9.5885348202945, 10.5801701309573, 10.0169855745129, 8.80567998510053, \n . 8.59883713068226, 9.7948966303887, 9.18368117913509, 8.64522989862039, \n . 8.1939001702486, 7.84474346298208, 7.61183289359403, 9.05207158610669, \n . 6.89492567037528, 6.62872536767062, 8.36301381082203, 5.96154342431555, \n . 5.65154846037792, 7.74209274033837, 5.05371150739731, 4.68401537145215, \n . 31.1438597479503, 30.5865983724899, 30.5276923464582, 7.2069410986909, \n . 4.18807831827439, 3.73363094051889, 6.77790528113222, 3.39705755029261, \n . 2.81780056072107, 6.47610994347687, 5.50817574156817, 4.55411901469428, \n . 3.62491379207837, 2.7459060435492, 1.98494332412792, 6.31981012372998, \n . 5.32353266168247, 2.35372045918796, 1.39283882771841, 30.1652117512873, \n . 29.5895251736151, 29.5286301747982, 29.1880112374927, 28.592656399852, \n . 28.5296337165411, 28.212408617486, 27.5960142049536, 27.5307101252401, \n . 27.2385755868401, 26.5996240574937, 26.5318676312091, 26.266708967817, \n . 25.6035153836343, 25.5331157519015, 25.2970353994297, 25.0667109928686, \n . 24.6077223651438, 24.534465553584, 34.7669383178905, 34.5128961404284, \n . 33.5073126347071, 33.5431065943511, 33.6086298441338, 33.7037089947086, \n . 34.2861488067703, 34.0872410147844, 33.9166625716623, 33.5788623988366, \n . 33.5252143915591, 33.5013432566517, 33.8044375785192, 33.5431065943511, \n . 32.5075375874581, 32.544431167252, 32.6119609959291, 32.7099373279742, \n . 33.3097583299549, 33.1049845189512, 32.9293182437778, 32.7832274189104, \n . 32.6671088405448, 32.5812829704418, 32.5259896083117, 32.5013845858911, \n . 24.3298170975451, 24.0902469891863, 23.8901653405748, 23.7305710002941, \n . 23.6122849381418, 23.5359299795016, 23.3653589743449, 23.1157954654388, \n . 22.9072041070053, 22.7407123898967, 22.6172500538859, 22.5375242651006, \n . 22.4040174968687, 22.1436221066022, 21.925783908449, 21.7517815362328, \n . 21.6226732852346, 21.5392664684757, 21.4462117867002, 21.174040710266, \n . 20.9461213593352, 20.7639109996166, 20.6286208942818, 20.5411781551108, \n . 20.4924376295257, 19.6351725227969, 19.5432852918848, 19.5432852918848, \n . 18.6424247349963, 18.545619428857, 18.599462357821, 17.6504957437461, \n . 17.5482192828788, 17.661823235442, 16.6595318061463, 16.5511328917389, \n . 16.7314075917121, 15.6697160152952, 15.5544205935162, 15.8094908203901, \n . 14.681280598095, 14.5581592242976, 32.8441775661989, 32.5751438983775, \n . 31.5077768177953, 31.5458396623073, 31.6155025264505, 31.7165571902122, \n . 32.3348109627998, 32.1238229356345, 31.9427613083152, 31.792137392758, \n . 31.672385448526, 31.5838566359462, 31.5268139842896, 31.5014285390361, \n . 14.8976508215222, 13.6945244532258, 13.5624481565829, 13.9978569788379, \n . 13.5771867483658, 13.2189258262538, 12.9282636111738, 12.709838708654, \n . 12.5674181914982, 13.1125893705248, 12.6625431884752, 12.2776219195738, \n . 11.96411300515, 11.7277448812634, 11.5732450073434, 12.2449989791751, \n . 11.7618025829377, 11.3463650567043, 11.0063617967065, 10.7489534374282, \n . 10.5801701309573, 11.3991227732664, 10.8784190027779, 10.427847332983, \n . 10.0568384694197, 9.77445650662992, 9.5885348202945, 10.5801701309573, \n . 10.0169855745129, 8.80567998510053, 8.59883713068226, 9.7948966303887, \n . 9.18368117913509, 8.64522989862039, 8.1939001702486, 7.84474346298208, \n . 7.61183289359403, 9.05207158610669, 6.89492567037528, 6.62872536767062, \n . 8.36301381082203, 5.96154342431555, 5.65154846037792, 7.74209274033837, \n . 5.05371150739731, 4.68401537145215, 31.1438597479503, 30.5865983724899, \n . 30.5276923464582, 7.2069410986909, 4.18807831827439, 3.73363094051889, \n . 6.77790528113222, 3.39705755029261, 2.81780056072107, 6.47610994347687, \n . 5.50817574156817, 4.55411901469428, 3.62491379207837, 2.7459060435492, \n . 1.98494332412792, 6.31981012372998, 5.32353266168247, 2.35372045918796, \n . 1.39283882771841, 30.1652117512873, 29.5895251736151, 29.5286301747982, \n . 29.1880112374927, 28.592656399852, 28.5296337165411, 28.212408617486, \n . 27.5960142049536, 27.5307101252401, 27.2385755868401, 26.5996240574937, \n . 26.5318676312091, 26.266708967817, 25.6035153836343, 25.5331157519015, \n . 25.2970353994297, 25.0667109928686, 24.6077223651438, 24.534465553584, \n . 34.7669383178905, 34.5128961404284, 33.5073126347071, 33.5431065943511, \n . 33.6086298441338, 33.7037089947086, 34.2861488067703, 34.0872410147844, \n . 33.9166625716623, 33.5788623988366, 33.5252143915591, 33.5013432566517, \n . 33.8044375785192, 33.5431065943511, 32.5075375874581, 32.544431167252, \n . 32.6119609959291, 32.7099373279742, 33.3097583299549, 33.1049845189512, \n . 32.9293182437778, 32.7832274189104, 32.6671088405448, 32.5812829704418, \n . 32.5259896083117, 32.5013845858911, 24.3298170975451, 24.0902469891863, \n . 23.8901653405748, 23.7305710002941, 23.6122849381418, 23.5359299795016, \n . 23.3653589743449, 23.1157954654388, 22.9072041070053, 22.7407123898967, \n . 22.6172500538859, 22.5375242651006, 22.4040174968687, 22.1436221066022, \n . 21.925783908449, 21.7517815362328, 21.6226732852346, 21.5392664684757, \n . 21.4462117867002, 21.174040710266, 20.9461213593352, 20.7639109996166, \n . 20.6286208942818, 20.5411781551108, 20.4924376295257, 19.6351725227969, \n . 19.5432852918848, 19.5432852918848, 18.6424247349963, 18.545619428857, \n . 18.599462357821, 17.6504957437461, 17.5482192828788, 17.661823235442, \n . 16.6595318061463, 16.5511328917389, 16.7314075917121, 15.6697160152952, \n . 15.5544205935162, 15.8094908203901, 14.681280598095, 14.5581592242976, \n . 32.8441775661989, 32.5751438983775, 31.5077768177953, 31.5458396623073, \n . 31.6155025264505, 31.7165571902122, 32.3348109627998, 32.1238229356345, \n . 31.9427613083152, 31.792137392758, 31.672385448526, 31.5838566359462, \n . 31.5268139842896, 31.5014285390361, 14.8976508215222, 13.6945244532258, \n . 13.5624481565829, 13.9978569788379, 13.5771867483658, 13.2189258262538, \n . 12.9282636111738, 12.709838708654, 12.5674181914982, 13.1125893705248, \n . 12.6625431884752, 12.2776219195738, 11.96411300515, 11.7277448812634, \n . 11.5732450073434, 12.2449989791751, 11.7618025829377, 11.3463650567043, \n . 11.0063617967065, 10.7489534374282, 10.5801701309573, 11.3991227732664, \n . 10.8784190027779, 10.427847332983, 10.0568384694197, 9.77445650662992, \n . 9.5885348202945, 10.5801701309573, 10.0169855745129, 8.80567998510053, \n . 8.59883713068226, 9.7948966303887, 9.18368117913509, 8.64522989862039, \n . 8.1939001702486, 7.84474346298208, 7.61183289359403, 9.05207158610669, \n . 6.89492567037528, 6.62872536767062, 8.36301381082203, 5.96154342431555, \n . 5.65154846037792, 7.74209274033837, 5.05371150739731, 4.68401537145215, \n . 31.1438597479503, 30.5865983724899, 30.5276923464582, 7.2069410986909, \n . 4.18807831827439, 3.73363094051889, 6.77790528113222, 3.39705755029261, \n . 2.81780056072107, 6.47610994347687, 5.50817574156817, 4.55411901469428, \n . 3.62491379207837, 2.7459060435492, 1.98494332412792, 6.31981012372998, \n . 5.32353266168247, 2.35372045918796, 1.39283882771841, 30.1652117512873, \n . 29.5895251736151, 29.5286301747982, 29.1880112374927, 28.592656399852, \n . 28.5296337165411, 28.212408617486, 27.5960142049536, 27.5307101252401, \n . 27.2385755868401, 26.5996240574937, 26.5318676312091, 26.266708967817, \n . 25.6035153836343, 25.5331157519015, 25.2970353994297, 25.0667109928686, \n . 24.6077223651438, 24.534465553584, 34.7669383178905, 34.5128961404284, \n . 33.5073126347071, 33.5431065943511, 33.6086298441338, 33.7037089947086, \n . 34.2861488067703, 34.0872410147844, 33.9166625716623, 33.5788623988366, \n . 33.5252143915591, 33.5013432566517, 33.8044375785192, 33.5431065943511, \n . 32.5075375874581, 32.544431167252, 32.6119609959291, 32.7099373279742, \n . 33.3097583299549, 33.1049845189512, 32.9293182437778, 32.7832274189104, \n . 32.6671088405448, 32.5812829704418, 32.5259896083117, 32.5013845858911, \n . 24.3298170975451, 24.0902469891863, 23.8901653405748, 23.7305710002941, \n . 23.6122849381418, 23.5359299795016, 23.3653589743449, 23.1157954654388, \n . 22.9072041070053, 22.7407123898967, 22.6172500538859, 22.5375242651006, \n . 22.4040174968687, 22.1436221066022, 21.925783908449, 21.7517815362328, \n . 21.6226732852346, 21.5392664684757, 21.4462117867002, 21.174040710266, \n . 20.9461213593352, 20.7639109996166, 20.6286208942818, 20.5411781551108, \n . 20.4924376295257, 19.6351725227969, 19.5432852918848, 19.5432852918848, \n . 18.6424247349963, 18.545619428857, 18.599462357821, 17.6504957437461, \n . 17.5482192828788, 17.661823235442, 16.6595318061463, 16.5511328917389, \n . 16.7314075917121, 15.6697160152952, 15.5544205935162, 15.8094908203901, \n . 14.681280598095, 14.5581592242976, 32.8441775661989, 32.5751438983775, \n . 31.5077768177953, 31.5458396623073, 31.6155025264505, 31.7165571902122, \n . 32.3348109627998, 32.1238229356345, 31.9427613083152, 31.792137392758, \n . 31.672385448526, 31.5838566359462, 31.5268139842896, 31.5014285390361, \n . 14.8976508215222, 13.6945244532258, 13.5624481565829, 13.9978569788379, \n . 13.5771867483658, 13.2189258262538, 12.9282636111738, 12.709838708654, \n . 12.5674181914982, 13.1125893705248, 12.6625431884752, 12.2776219195738, \n . 11.96411300515, 11.7277448812634, 11.5732450073434, 12.2449989791751, \n . 11.7618025829377, 11.3463650567043, 11.0063617967065, 10.7489534374282, \n . 10.5801701309573, 11.3991227732664, 10.8784190027779, 10.427847332983, \n . 10.0568384694197, 9.77445650662992, 9.5885348202945, 10.5801701309573, \n . 10.0169855745129, 8.80567998510053, 8.59883713068226, 9.7948966303887, \n . 9.18368117913509, 8.64522989862039, 8.1939001702486, 7.84474346298208, \n . 7.61183289359403, 9.05207158610669, 6.89492567037528, 6.62872536767062, \n . 8.36301381082203, 5.96154342431555, 5.65154846037792, 7.74209274033837, \n . 5.05371150739731, 4.68401537145215, 31.1438597479503, 30.5865983724899, \n . 30.5276923464582, 7.2069410986909, 4.18807831827439, 3.73363094051889, \n . 6.77790528113222, 3.39705755029261, 2.81780056072107, 6.47610994347687, \n . 5.50817574156817, 4.55411901469428, 3.62491379207837, 2.7459060435492, \n . 1.98494332412792, 6.31981012372998, 5.32353266168247, 2.35372045918796, \n . 1.39283882771841, 30.1652117512873, 29.5895251736151, 29.5286301747982, \n . 29.1880112374927, 28.592656399852, 28.5296337165411, 28.212408617486, \n . 27.5960142049536, 27.5307101252401, 27.2385755868401, 26.5996240574937, \n . 26.5318676312091, 26.266708967817, 25.6035153836343, 25.5331157519015, \n . 25.2970353994297, 25.0667109928686, 24.6077223651438, 24.534465553584, \n . 34.7669383178905, 34.5128961404284, 33.5073126347071, 33.5431065943511, \n . 33.6086298441338, 33.7037089947086, 34.2861488067703, 34.0872410147844, \n . 33.9166625716623, 33.5788623988366, 33.5252143915591, 33.5013432566517, \n . 33.8044375785192, 33.5431065943511, 32.5075375874581, 32.544431167252, \n . 32.6119609959291, 32.7099373279742, 33.3097583299549, 33.1049845189512, \n . 32.9293182437778, 32.7832274189104, 32.6671088405448, 32.5812829704418, \n . 32.5259896083117, 32.5013845858911, 24.3298170975451, 24.0902469891863, \n . 23.8901653405748, 23.7305710002941, 23.6122849381418, 23.5359299795016, \n . 23.3653589743449, 23.1157954654388, 22.9072041070053, 22.7407123898967, \n . 22.6172500538859, 22.5375242651006, 22.4040174968687, 22.1436221066022, \n . 21.925783908449, 21.7517815362328, 21.6226732852346, 21.5392664684757, \n . 21.4462117867002, 21.174040710266, 20.9461213593352, 20.7639109996166, \n . 20.6286208942818, 20.5411781551108, 20.4924376295257, 19.6351725227969, \n . 19.5432852918848, 19.5432852918848, 18.6424247349963, 18.545619428857, \n . 18.599462357821, 17.6504957437461, 17.5482192828788, 17.661823235442, \n . 16.6595318061463, 16.5511328917389, 16.7314075917121, 15.6697160152952, \n . 15.5544205935162, 15.8094908203901, 14.681280598095, 14.5581592242976, \n . 32.8441775661989, 32.5751438983775, 31.5077768177953, 31.5458396623073, \n . 31.6155025264505, 31.7165571902122, 32.3348109627998, 32.1238229356345, \n . 31.9427613083152, 31.792137392758, 31.672385448526, 31.5838566359462, \n . 31.5268139842896, 31.5014285390361, 14.8976508215222, 13.6945244532258, \n . 13.5624481565829, 13.9978569788379, 13.5771867483658, 13.2189258262538, \n . 12.9282636111738, 12.709838708654, 12.5674181914982, 13.1125893705248, \n . 12.6625431884752, 12.2776219195738, 11.96411300515, 11.7277448812634, \n . 11.5732450073434, 12.2449989791751, 11.7618025829377, 11.3463650567043, \n . 11.0063617967065, 10.7489534374282, 10.5801701309573, 11.3991227732664, \n . 10.8784190027779, 10.427847332983, 10.0568384694197, 9.77445650662992, \n . 9.5885348202945, 10.5801701309573, 10.0169855745129, 8.80567998510053, \n . 8.59883713068226, 9.7948966303887, 9.18368117913509, 8.64522989862039, \n . 8.1939001702486, 7.84474346298208, 7.61183289359403, 9.05207158610669, \n . 6.89492567037528, 6.62872536767062, 8.36301381082203, 5.96154342431555, \n . 5.65154846037792, 7.74209274033837, 5.05371150739731, 4.68401537145215, \n . 31.1438597479503, 30.5865983724899, 30.5276923464582, 7.2069410986909, \n . 4.18807831827439, 3.73363094051889, 6.77790528113222, 3.39705755029261, \n . 2.81780056072107, 6.47610994347687, 5.50817574156817, 4.55411901469428, \n . 3.62491379207837, 2.7459060435492, 1.98494332412792, 6.31981012372998, \n . 5.32353266168247, 2.35372045918796, 1.39283882771841, 30.1652117512873, \n . 29.5895251736151, 29.5286301747982, 29.1880112374927, 28.592656399852, \n . 28.5296337165411, 28.212408617486, 27.5960142049536, 27.5307101252401, \n . 27.2385755868401, 26.5996240574937, 26.5318676312091, 26.266708967817, \n . 25.6035153836343, 25.5331157519015, 25.2970353994297, 25.0667109928686, \n . 24.6077223651438, 24.534465553584, 14.0356688476182, 13.0384048104053, \n . 4.12310562561766, 3.16227766016838, 2.23606797749979, 1.4142135623731, \n . 12.0415945787923, 11.0453610171873, 10.0498756211209, 7.07106781186548, \n . 6.08276253029822, 5.09901951359278, 14, 13, 4, 3, 2, 1, 12, 11, \n . 10, 9, 8, 7, 6, 5, 14.2126704035519, 13.4536240470737, 12.7279220613579, \n . 12.0415945787923, 11.4017542509914, 10.816653826392, 14.8660687473185, \n . 14.142135623731, 13.4536240470737, 12.8062484748657, 12.2065556157337, \n . 11.6619037896906, 15.556349186104, 14.8660687473185, 14.2126704035519, \n . 13.6014705087354, 13.0384048104053, 12.5299640861417, 16.2788205960997, \n . 15.6204993518133, 15, 14.422205101856, 13.8924439894498, 13.4164078649987, \n . 17.0293863659264, 14.7648230602334, 14.3178210632764, 17.8044938147649, \n . 15.6524758424985, 15.2315462117278, 18.6010752377383, 16.5529453572468, \n . 16.1554944214035, 19.4164878389476, 17.464249196573, 17.0880074906351, \n . 20.2484567313166, 18.3847763108502, 18.0277563773199, 21.095023109729, \n . 19.313207915828, 18.9736659610103, 14.0356688476182, 13.0384048104053, \n . 4.12310562561766, 3.16227766016838, 2.23606797749979, 1.4142135623731, \n . 12.0415945787923, 11.0453610171873, 10.0498756211209, 9.05538513813742, \n . 8.06225774829855, 7.07106781186548, 6.08276253029822, 5.09901951359278, \n . 21.9544984001001, 20.2484567313166, 19.9248588451713, 22.8254244210267, \n . 22.3606797749979, 21.9317121994613, 21.540659228538, 21.1896201004171, \n . 20.8806130178211, 23.7065391822594, 23.259406699226, 22.8473193175917, \n . 22.4722050542442, 22.1359436211787, 21.8403296678416, 24.5967477524977, \n . 24.1660919471891, 23.7697286480094, 23.4093998214393, 23.0867927612304, \n . 22.8035085019828, 25.4950975679639, 25.0798724079689, 24.6981780704569, \n . 24.3515913237718, 24.0416305603426, 23.7697286480094, 26.4007575648882, \n . 26, 25, 24.738633753706, 27.3130005674953, 26.9258240356725, \n . 26.5706605111728, 26.2488094968134, 25.9615099714943, 25.7099202643649, \n . 28.2311884269862, 26.9258240356725, 26.6833281282527, 29.1547594742265, \n . 27.8926513619627, 27.6586333718787, 30.0832179129826, 28.8617393793236, \n . 28.6356421265527, 11.1803398874989, 7.28010988928052, 6.32455532033676, \n . 31.0161248385416, 29.8328677803526, 29.6141857899217, 31.9530906173409, \n . 30.8058436014987, 30.5941170815567, 32.8937684067971, 32.5729949498047, \n . 32.2800247831379, 32.0156211871642, 31.7804971641414, 31.5753068076939, \n . 33.8378486313773, 33.5261092284804, 32.7566787083184, 32.5576411921994, \n . 11.4017542509914, 7.61577310586391, 6.70820393249937, 11.7046999107196, \n . 8.06225774829855, 7.21110255092798, 12.0830459735946, 8.60232526704263, \n . 7.81024967590665, 12.5299640861417, 9.21954445729289, 8.48528137423857, \n . 13.0384048104053, 9.89949493661167, 9.21954445729289, 13.6014705087354, \n . 12.8062484748657, 10.6301458127346, 10, 14.0356688476182, 13.0384048104053, \n . 4.12310562561766, 3.16227766016838, 2.23606797749979, 1.4142135623731, \n . 12.0415945787923, 11.0453610171873, 10.0498756211209, 7.07106781186548, \n . 6.08276253029822, 5.09901951359278, 14, 13, 4, 3, 2, 1, 12, 11, \n . 10, 9, 8, 7, 6, 5, 14.2126704035519, 13.4536240470737, 12.7279220613579, \n . 12.0415945787923, 11.4017542509914, 10.816653826392, 14.8660687473185, \n . 14.142135623731, 13.4536240470737, 12.8062484748657, 12.2065556157337, \n . 11.6619037896906, 15.556349186104, 14.8660687473185, 14.2126704035519, \n . 13.6014705087354, 13.0384048104053, 12.5299640861417, 16.2788205960997, \n . 15.6204993518133, 15, 14.422205101856, 13.8924439894498, 13.4164078649987, \n . 17.0293863659264, 14.7648230602334, 14.3178210632764, 17.8044938147649, \n . 15.6524758424985, 15.2315462117278, 18.6010752377383, 16.5529453572468, \n . 16.1554944214035, 19.4164878389476, 17.464249196573, 17.0880074906351, \n . 20.2484567313166, 18.3847763108502, 18.0277563773199, 21.095023109729, \n . 19.313207915828, 18.9736659610103, 14.0356688476182, 13.0384048104053, \n . 4.12310562561766, 3.16227766016838, 2.23606797749979, 1.4142135623731, \n . 12.0415945787923, 11.0453610171873, 10.0498756211209, 9.05538513813742, \n . 8.06225774829855, 7.07106781186548, 6.08276253029822, 5.09901951359278, \n . 21.9544984001001, 20.2484567313166, 19.9248588451713, 22.8254244210267, \n . 22.3606797749979, 21.9317121994613, 21.540659228538, 21.1896201004171, \n . 20.8806130178211, 23.7065391822594, 23.259406699226, 22.8473193175917, \n . 22.4722050542442, 22.1359436211787, 21.8403296678416, 24.5967477524977, \n . 24.1660919471891, 23.7697286480094, 23.4093998214393, 23.0867927612304, \n . 22.8035085019828, 25.4950975679639, 25.0798724079689, 24.6981780704569, \n . 24.3515913237718, 24.0416305603426, 23.7697286480094, 26.4007575648882, \n . 26, 25, 24.738633753706, 27.3130005674953, 26.9258240356725, \n . 26.5706605111728, 26.2488094968134, 25.9615099714943, 25.7099202643649, \n . 28.2311884269862, 26.9258240356725, 26.6833281282527, 29.1547594742265, \n . 27.8926513619627, 27.6586333718787, 30.0832179129826, 28.8617393793236, \n . 28.6356421265527, 11.1803398874989, 7.28010988928052, 6.32455532033676, \n . 31.0161248385416, 29.8328677803526, 29.6141857899217, 31.9530906173409, \n . 30.8058436014987, 30.5941170815567, 32.8937684067971, 32.5729949498047, \n . 32.2800247831379, 32.0156211871642, 31.7804971641414, 31.5753068076939, \n . 33.8378486313773, 33.5261092284804, 32.7566787083184, 32.5576411921994, \n . 11.4017542509914, 7.61577310586391, 6.70820393249937, 11.7046999107196, \n . 8.06225774829855, 7.21110255092798, 12.0830459735946, 8.60232526704263, \n . 7.81024967590665, 12.5299640861417, 9.21954445729289, 8.48528137423857, \n . 13.0384048104053, 9.89949493661167, 9.21954445729289, 13.6014705087354, \n . 12.8062484748657, 10.6301458127346, 10, 14.0356688476182, 13.0384048104053, \n . 4.12310562561766, 3.16227766016838, 2.23606797749979, 1.4142135623731, \n . 12.0415945787923, 11.0453610171873, 10.0498756211209, 7.07106781186548, \n . 6.08276253029822, 5.09901951359278, 14, 13, 4, 3, 2, 1, 12, 11, \n . 10, 9, 8, 7, 6, 5, 14.2126704035519, 13.4536240470737, 12.7279220613579, \n . 12.0415945787923, 11.4017542509914, 10.816653826392, 14.8660687473185, \n . 14.142135623731, 13.4536240470737, 12.8062484748657, 12.2065556157337, \n . 11.6619037896906, 15.556349186104, 14.8660687473185, 14.2126704035519, \n . 13.6014705087354, 13.0384048104053, 12.5299640861417, 16.2788205960997, \n . 15.6204993518133, 15, 14.422205101856, 13.8924439894498, 13.4164078649987, \n . 17.0293863659264, 14.7648230602334, 14.3178210632764, 17.8044938147649, \n . 15.6524758424985, 15.2315462117278, 18.6010752377383, 16.5529453572468, \n . 16.1554944214035, 19.4164878389476, 17.464249196573, 17.0880074906351, \n . 20.2484567313166, 18.3847763108502, 18.0277563773199, 21.095023109729, \n . 19.313207915828, 18.9736659610103, 14.0356688476182, 13.0384048104053, \n . 4.12310562561766, 3.16227766016838, 2.23606797749979, 1.4142135623731, \n . 12.0415945787923, 11.0453610171873, 10.0498756211209, 9.05538513813742, \n . 8.06225774829855, 7.07106781186548, 6.08276253029822, 5.09901951359278, \n . 21.9544984001001, 20.2484567313166, 19.9248588451713, 22.8254244210267, \n . 22.3606797749979, 21.9317121994613, 21.540659228538, 21.1896201004171, \n . 20.8806130178211, 23.7065391822594, 23.259406699226, 22.8473193175917, \n . 22.4722050542442, 22.1359436211787, 21.8403296678416, 24.5967477524977, \n . 24.1660919471891, 23.7697286480094, 23.4093998214393, 23.0867927612304, \n . 22.8035085019828, 25.4950975679639, 25.0798724079689, 24.6981780704569, \n . 24.3515913237718, 24.0416305603426, 23.7697286480094, 26.4007575648882, \n . 26, 25, 24.738633753706, 27.3130005674953, 26.9258240356725, \n . 26.5706605111728, 26.2488094968134, 25.9615099714943, 25.7099202643649, \n . 28.2311884269862, 26.9258240356725, 26.6833281282527, 29.1547594742265, \n . 27.8926513619627, 27.6586333718787, 30.0832179129826, 28.8617393793236, \n . 28.6356421265527, 11.1803398874989, 7.28010988928052, 6.32455532033676, \n . 31.0161248385416, 29.8328677803526, 29.6141857899217, 31.9530906173409, \n . 30.8058436014987, 30.5941170815567, 32.8937684067971, 32.5729949498047, \n . 32.2800247831379, 32.0156211871642, 31.7804971641414, 31.5753068076939, \n . 33.8378486313773, 33.5261092284804, 32.7566787083184, 32.5576411921994, \n . 11.4017542509914, 7.61577310586391, 6.70820393249937, 11.7046999107196, \n . 8.06225774829855, 7.21110255092798, 12.0830459735946, 8.60232526704263, \n . 7.81024967590665, 12.5299640861417, 9.21954445729289, 8.48528137423857, \n . 13.0384048104053, 9.89949493661167, 9.21954445729289, 13.6014705087354, \n . 12.8062484748657, 10.6301458127346, 10, 14.0356688476182, 13.0384048104053, \n . 4.12310562561766, 3.16227766016838, 2.23606797749979, 1.4142135623731, \n . 12.0415945787923, 11.0453610171873, 10.0498756211209, 7.07106781186548, \n . 6.08276253029822, 5.09901951359278, 14, 13, 4, 3, 2, 1, 12, 11, \n . 10, 9, 8, 7, 6, 5, 14.2126704035519, 13.4536240470737, 12.7279220613579, \n . 12.0415945787923, 11.4017542509914, 10.816653826392, 14.8660687473185, \n . 14.142135623731, 13.4536240470737, 12.8062484748657, 12.2065556157337, \n . 11.6619037896906, 15.556349186104, 14.8660687473185, 14.2126704035519, \n . 13.6014705087354, 13.0384048104053, 12.5299640861417, 16.2788205960997, \n . 15.6204993518133, 15, 14.422205101856, 13.8924439894498, 13.4164078649987, \n . 17.0293863659264, 14.7648230602334, 14.3178210632764, 17.8044938147649, \n . 15.6524758424985, 15.2315462117278, 18.6010752377383, 16.5529453572468, \n . 16.1554944214035, 19.4164878389476, 17.464249196573, 17.0880074906351, \n . 20.2484567313166, 18.3847763108502, 18.0277563773199, 21.095023109729, \n . 19.313207915828, 18.9736659610103, 14.0356688476182, 13.0384048104053, \n . 4.12310562561766, 3.16227766016838, 2.23606797749979, 1.4142135623731, \n . 12.0415945787923, 11.0453610171873, 10.0498756211209, 9.05538513813742, \n . 8.06225774829855, 7.07106781186548, 6.08276253029822, 5.09901951359278, \n . 21.9544984001001, 20.2484567313166, 19.9248588451713, 22.8254244210267, \n . 22.3606797749979, 21.9317121994613, 21.540659228538, 21.1896201004171, \n . 20.8806130178211, 23.7065391822594, 23.259406699226, 22.8473193175917, \n . 22.4722050542442, 22.1359436211787, 21.8403296678416, 24.5967477524977, \n . 24.1660919471891, 23.7697286480094, 23.4093998214393, 23.0867927612304, \n . 22.8035085019828, 25.4950975679639, 25.0798724079689, 24.6981780704569, \n . 24.3515913237718, 24.0416305603426, 23.7697286480094, 26.4007575648882, \n . 26, 25, 24.738633753706, 27.3130005674953, 26.9258240356725, \n . 26.5706605111728, 26.2488094968134, 25.9615099714943, 25.7099202643649, \n . 28.2311884269862, 26.9258240356725, 26.6833281282527, 29.1547594742265, \n . 27.8926513619627, 27.6586333718787, 30.0832179129826, 28.8617393793236, \n . 28.6356421265527, 11.1803398874989, 7.28010988928052, 6.32455532033676, \n . 31.0161248385416, 29.8328677803526, 29.6141857899217, 31.9530906173409, \n . 30.8058436014987, 30.5941170815567, 32.8937684067971, 32.5729949498047, \n . 32.2800247831379, 32.0156211871642, 31.7804971641414, 31.5753068076939, \n . 33.8378486313773, 33.5261092284804, 32.7566787083184, 32.5576411921994, \n . 11.4017542509914, 7.61577310586391, 6.70820393249937, 11.7046999107196, \n . 8.06225774829855, 7.21110255092798, 12.0830459735946, 8.60232526704263, \n . 7.81024967590665, 12.5299640861417, 9.21954445729289, 8.48528137423857, \n . 13.0384048104053, 9.89949493661167, 9.21954445729289, 13.6014705087354, \n . 12.8062484748657, 10.6301458127346, 10, 14.0356688476182, 13.0384048104053, \n . 4.12310562561766, 3.16227766016838, 2.23606797749979, 1.4142135623731, \n . 12.0415945787923, 11.0453610171873, 10.0498756211209, 7.07106781186548, \n . 6.08276253029822, 5.09901951359278, 14, 13, 4, 3, 2, 1, 12, 11, \n . 10, 9, 8, 7, 6, 5, 14.2126704035519, 13.4536240470737, 12.7279220613579, \n . 12.0415945787923, 11.4017542509914, 10.816653826392, 14.8660687473185, \n . 14.142135623731, 13.4536240470737, 12.8062484748657, 12.2065556157337, \n . 11.6619037896906, 15.556349186104, 14.8660687473185, 14.2126704035519, \n . 13.6014705087354, 13.0384048104053, 12.5299640861417, 16.2788205960997, \n . 15.6204993518133, 15, 14.422205101856, 13.8924439894498, 13.4164078649987, \n . 17.0293863659264, 14.7648230602334, 14.3178210632764, 17.8044938147649, \n . 15.6524758424985, 15.2315462117278, 18.6010752377383, 16.5529453572468, \n . 16.1554944214035, 19.4164878389476, 17.464249196573, 17.0880074906351, \n . 20.2484567313166, 18.3847763108502, 18.0277563773199, 21.095023109729, \n . 19.313207915828, 18.9736659610103, 14.0356688476182, 13.0384048104053, \n . 4.12310562561766, 3.16227766016838, 2.23606797749979, 1.4142135623731, \n . 12.0415945787923, 11.0453610171873, 10.0498756211209, 9.05538513813742, \n . 8.06225774829855, 7.07106781186548, 6.08276253029822, 5.09901951359278, \n . 21.9544984001001, 20.2484567313166, 19.9248588451713, 22.8254244210267, \n . 22.3606797749979, 21.9317121994613, 21.540659228538, 21.1896201004171, \n . 20.8806130178211, 23.7065391822594, 23.259406699226, 22.8473193175917, \n . 22.4722050542442, 22.1359436211787, 21.8403296678416, 24.5967477524977, \n . 24.1660919471891, 23.7697286480094, 23.4093998214393, 23.0867927612304, \n . 22.8035085019828, 25.4950975679639, 25.0798724079689, 24.6981780704569, \n . 24.3515913237718, 24.0416305603426, 23.7697286480094, 26.4007575648882, \n . 26, 25, 24.738633753706, 27.3130005674953, 26.9258240356725, \n . 26.5706605111728, 26.2488094968134, 25.9615099714943, 25.7099202643649, \n . 28.2311884269862, 26.9258240356725, 26.6833281282527, 29.1547594742265, \n . 27.8926513619627, 27.6586333718787, 30.0832179129826, 28.8617393793236, \n . 28.6356421265527, 11.1803398874989, 7.28010988928052, 6.32455532033676, \n . 31.0161248385416, 29.8328677803526, 29.6141857899217, 31.9530906173409, \n . 30.8058436014987, 30.5941170815567, 32.8937684067971, 32.5729949498047, \n . 32.2800247831379, 32.0156211871642, 31.7804971641414, 31.5753068076939, \n . 33.8378486313773, 33.5261092284804, 32.7566787083184, 32.5576411921994, \n . 11.4017542509914, 7.61577310586391, 6.70820393249937, 11.7046999107196, \n . 8.06225774829855, 7.21110255092798, 12.0830459735946, 8.60232526704263, \n . 7.81024967590665, 12.5299640861417, 9.21954445729289, 8.48528137423857, \n . 13.0384048104053, 9.89949493661167, 9.21954445729289, 13.6014705087354, \n . 12.8062484748657, 10.6301458127346, 10, 14.0356688476182, 13.0384048104053, \n . 4.12310562561766, 3.16227766016838, 2.23606797749979, 1.4142135623731, \n . 12.0415945787923, 11.0453610171873, 10.0498756211209, 7.07106781186548, \n . 6.08276253029822, 5.09901951359278, 14, 13, 4, 3, 2, 1, 12, 11, \n . 10, 9, 8, 7, 6, 5, 14.2126704035519, 13.4536240470737, 12.7279220613579, \n . 12.0415945787923, 11.4017542509914, 10.816653826392, 14.8660687473185, \n . 14.142135623731, 13.4536240470737, 12.8062484748657, 12.2065556157337, \n . 11.6619037896906, 15.556349186104, 14.8660687473185, 14.2126704035519, \n . 13.6014705087354, 13.0384048104053, 12.5299640861417, 16.2788205960997, \n . 15.6204993518133, 15, 14.422205101856, 13.8924439894498, 13.4164078649987, \n . 17.0293863659264, 14.7648230602334, 14.3178210632764, 17.8044938147649, \n . 15.6524758424985, 15.2315462117278, 18.6010752377383, 16.5529453572468, \n . 16.1554944214035, 19.4164878389476, 17.464249196573, 17.0880074906351, \n . 20.2484567313166, 18.3847763108502, 18.0277563773199, 21.095023109729, \n . 19.313207915828, 18.9736659610103, 14.0356688476182, 13.0384048104053, \n . 4.12310562561766, 3.16227766016838, 2.23606797749979, 1.4142135623731, \n . 12.0415945787923, 11.0453610171873, 10.0498756211209, 9.05538513813742, \n . 8.06225774829855, 7.07106781186548, 6.08276253029822, 5.09901951359278, \n . 21.9544984001001, 20.2484567313166, 19.9248588451713, 22.8254244210267, \n . 22.3606797749979, 21.9317121994613, 21.540659228538, 21.1896201004171, \n . 20.8806130178211, 23.7065391822594, 23.259406699226, 22.8473193175917, \n . 22.4722050542442, 22.1359436211787, 21.8403296678416, 24.5967477524977, \n . 24.1660919471891, 23.7697286480094, 23.4093998214393, 23.0867927612304, \n . 22.8035085019828, 25.4950975679639, 25.0798724079689, 24.6981780704569, \n . 24.3515913237718, 24.0416305603426, 23.7697286480094, 26.4007575648882, \n . 26, 25, 24.738633753706, 27.3130005674953, 26.9258240356725, \n . 26.5706605111728, 26.2488094968134, 25.9615099714943, 25.7099202643649, \n . 28.2311884269862, 26.9258240356725, 26.6833281282527, 29.1547594742265, \n . 27.8926513619627, 27.6586333718787, 30.0832179129826, 28.8617393793236, \n . 28.6356421265527, 11.1803398874989, 7.28010988928052, 6.32455532033676, \n . 31.0161248385416, 29.8328677803526, 29.6141857899217, 31.9530906173409, \n . 30.8058436014987, 30.5941170815567, 32.8937684067971, 32.5729949498047, \n . 32.2800247831379, 32.0156211871642, 31.7804971641414, 31.5753068076939, \n . 33.8378486313773, 33.5261092284804, 32.7566787083184, 32.5576411921994, \n . 11.4017542509914, 7.61577310586391, 6.70820393249937, 11.7046999107196, \n . 8.06225774829855, 7.21110255092798, 12.0830459735946, 8.60232526704263, \n . 7.81024967590665, 12.5299640861417, 9.21954445729289, 8.48528137423857, \n . 13.0384048104053, 9.89949493661167, 9.21954445729289, 13.6014705087354, \n . 12.8062484748657, 10.6301458127346, 10, 14.0356688476182, 13.0384048104053, \n . 4.12310562561766, 3.16227766016838, 2.23606797749979, 1.4142135623731, \n . 12.0415945787923, 11.0453610171873, 10.0498756211209, 7.07106781186548, \n . 6.08276253029822, 5.09901951359278, 14, 13, 4, 3, 2, 1, 12, 11, \n . 10, 9, 8, 7, 6, 5, 14.2126704035519, 13.4536240470737, 12.7279220613579, \n . 12.0415945787923, 11.4017542509914, 10.816653826392, 14.8660687473185, \n . 14.142135623731, 13.4536240470737, 12.8062484748657, 12.2065556157337, \n . 11.6619037896906, 15.556349186104, 14.8660687473185, 14.2126704035519, \n . 13.6014705087354, 13.0384048104053, 12.5299640861417, 16.2788205960997, \n . 15.6204993518133, 15, 14.422205101856, 13.8924439894498, 13.4164078649987, \n . 17.0293863659264, 14.7648230602334, 14.3178210632764, 17.8044938147649, \n . 15.6524758424985, 15.2315462117278, 18.6010752377383, 16.5529453572468, \n . 16.1554944214035, 19.4164878389476, 17.464249196573, 17.0880074906351, \n . 20.2484567313166, 18.3847763108502, 18.0277563773199, 21.095023109729, \n . 19.313207915828, 18.9736659610103, 14.0356688476182, 13.0384048104053, \n . 4.12310562561766, 3.16227766016838, 2.23606797749979, 1.4142135623731, \n . 12.0415945787923, 11.0453610171873, 10.0498756211209, 9.05538513813742, \n . 8.06225774829855, 7.07106781186548, 6.08276253029822, 5.09901951359278, \n . 21.9544984001001, 20.2484567313166, 19.9248588451713, 22.8254244210267, \n . 22.3606797749979, 21.9317121994613, 21.540659228538, 21.1896201004171, \n . 20.8806130178211, 23.7065391822594, 23.259406699226, 22.8473193175917, \n . 22.4722050542442, 22.1359436211787, 21.8403296678416, 24.5967477524977, \n . 24.1660919471891, 23.7697286480094, 23.4093998214393, 23.0867927612304, \n . 22.8035085019828, 25.4950975679639, 25.0798724079689, 24.6981780704569, \n . 24.3515913237718, 24.0416305603426, 23.7697286480094, 26.4007575648882, \n . 26, 25, 24.738633753706, 27.3130005674953, 26.9258240356725, \n . 26.5706605111728, 26.2488094968134, 25.9615099714943, 25.7099202643649, \n . 28.2311884269862, 26.9258240356725, 26.6833281282527, 29.1547594742265, \n . 27.8926513619627, 27.6586333718787, 30.0832179129826, 28.8617393793236, \n . 28.6356421265527, 11.1803398874989, 7.28010988928052, 6.32455532033676, \n . 31.0161248385416, 29.8328677803526, 29.6141857899217, 31.9530906173409, \n . 30.8058436014987, 30.5941170815567, 32.8937684067971, 32.5729949498047, \n . 32.2800247831379, 32.0156211871642, 31.7804971641414, 31.5753068076939, \n . 33.8378486313773, 33.5261092284804, 32.7566787083184, 32.5576411921994, \n . 11.4017542509914, 7.61577310586391, 6.70820393249937, 11.7046999107196, \n . 8.06225774829855, 7.21110255092798, 12.0830459735946, 8.60232526704263, \n . 7.81024967590665, 12.5299640861417, 9.21954445729289, 8.48528137423857, \n . 13.0384048104053, 9.89949493661167, 9.21954445729289, 13.6014705087354, \n . 12.8062484748657, 10.6301458127346, 10, 14.0356688476182, 13.0384048104053, \n . 4.12310562561766, 3.16227766016838, 2.23606797749979, 1.4142135623731, \n . 12.0415945787923, 11.0453610171873, 10.0498756211209, 7.07106781186548, \n . 6.08276253029822, 5.09901951359278, 14, 13, 4, 3, 2, 1, 12, 11, \n . 10, 9, 8, 7, 6, 5, 14.2126704035519, 13.4536240470737, 12.7279220613579, \n . 12.0415945787923, 11.4017542509914, 10.816653826392, 14.8660687473185, \n . 14.142135623731, 13.4536240470737, 12.8062484748657, 12.2065556157337, \n . 11.6619037896906, 15.556349186104, 14.8660687473185, 14.2126704035519, \n . 13.6014705087354, 13.0384048104053, 12.5299640861417, 16.2788205960997, \n . 15.6204993518133, 15, 14.422205101856, 13.8924439894498, 13.4164078649987, \n . 17.0293863659264, 14.7648230602334, 14.3178210632764, 17.8044938147649, \n . 15.6524758424985, 15.2315462117278, 18.6010752377383, 16.5529453572468, \n . 16.1554944214035, 19.4164878389476, 17.464249196573, 17.0880074906351, \n . 20.2484567313166, 18.3847763108502, 18.0277563773199, 21.095023109729, \n . 19.313207915828, 18.9736659610103, 14.0356688476182, 13.0384048104053, \n . 4.12310562561766, 3.16227766016838, 2.23606797749979, 1.4142135623731, \n . 12.0415945787923, 11.0453610171873, 10.0498756211209, 9.05538513813742, \n . 8.06225774829855, 7.07106781186548, 6.08276253029822, 5.09901951359278, \n . 21.9544984001001, 20.2484567313166, 19.9248588451713, 22.8254244210267, \n . 22.3606797749979, 21.9317121994613, 21.540659228538, 21.1896201004171, \n . 20.8806130178211, 23.7065391822594, 23.259406699226, 22.8473193175917, \n . 22.4722050542442, 22.1359436211787, 21.8403296678416, 24.5967477524977, \n . 24.1660919471891, 23.7697286480094, 23.4093998214393, 23.0867927612304, \n . 22.8035085019828, 25.4950975679639, 25.0798724079689, 24.6981780704569, \n . 24.3515913237718, 24.0416305603426, 23.7697286480094, 26.4007575648882, \n . 26, 25, 24.738633753706, 27.3130005674953, 26.9258240356725, \n . 26.5706605111728, 26.2488094968134, 25.9615099714943, 25.7099202643649, \n . 28.2311884269862, 26.9258240356725, 26.6833281282527, 29.1547594742265, \n . 27.8926513619627, 27.6586333718787, 30.0832179129826, 28.8617393793236, \n . 28.6356421265527, 11.1803398874989, 7.28010988928052, 6.32455532033676, \n . 31.0161248385416, 29.8328677803526, 29.6141857899217, 31.9530906173409, \n . 30.8058436014987, 30.5941170815567, 32.8937684067971, 32.5729949498047, \n . 32.2800247831379, 32.0156211871642, 31.7804971641414, 31.5753068076939, \n . 33.8378486313773, 33.5261092284804, 32.7566787083184, 32.5576411921994, \n . 11.4017542509914, 7.61577310586391, 6.70820393249937, 11.7046999107196, \n . 8.06225774829855, 7.21110255092798, 12.0830459735946, 8.60232526704263, \n . 7.81024967590665, 12.5299640861417, 9.21954445729289, 8.48528137423857, \n . 13.0384048104053, 9.89949493661167, 9.21954445729289, 13.6014705087354, \n . 12.8062484748657, 10.6301458127346, 10))",
      "3. stop(sprintf(ngettext(N, \"replacement has %d row, data has %d\", \n .     \"replacement has %d rows, data has %d\"), N, nrows), domain = NA)"
     ]
    }
   ],
   "source": [
    "# Use differnces to find Euclidean distance between position of hand-held device and access point.\n",
    "\n",
    "offlineSummary$dist <- sqrt(diffs[, 1]^2 + diffs[, 2]^2)"
   ]
  },
  {
   "cell_type": "markdown",
   "metadata": {},
   "source": [
    "Appears to be curvature to plots. A log transform might improve relationship; but signals are negative so need to be cautious. "
   ]
  },
  {
   "cell_type": "code",
   "execution_count": 58,
   "metadata": {},
   "outputs": [
    {
     "data": {
      "image/png": "[encoded data removed]",
      "text/plain": [
       "plot without title"
      ]
     },
     "metadata": {},
     "output_type": "display_data"
    }
   ],
   "source": [
    "# Make series of scatter plots for access point and device orientation. \n",
    "\n",
    "xyplot(signal ~ dist | factor(mac) + factor(angle), data = offlineSummary, pch = 19, \n",
    "    cex = 0.3, xlab = \"distance\")"
   ]
  },
  {
   "cell_type": "markdown",
   "metadata": {},
   "source": [
    "## 1.5 Nearest Neighbor Methods to Predict Location"
   ]
  },
  {
   "cell_type": "markdown",
   "metadata": {},
   "source": [
    "#### Numerous statistical techniques to estimate location of device from signal strength between device and several access points. Here, using simple and intuitive k-NN: have training data where signal is measured to several access points from known position throughout building; when get a new observation (new set of signal strengths from unknown location), find observation in training data that is close to new observation. "
   ]
  },
  {
   "cell_type": "markdown",
   "metadata": {},
   "source": [
    "### 1.5.1 Preparing Test Data\n",
    "#### Online data are in online.final.trace.txt; use readData() from Section 1.2 to process raw data. "
   ]
  },
  {
   "cell_type": "code",
   "execution_count": 42,
   "metadata": {},
   "outputs": [],
   "source": [
    "macs <- unique(offlineSummary$mac)"
   ]
  },
  {
   "cell_type": "code",
   "execution_count": 137,
   "metadata": {},
   "outputs": [
    {
     "data": {
      "text/html": [
       "<ol class=list-inline>\n",
       "\t<li>'00:14:bf:b1:97:8a'</li>\n",
       "\t<li>'00:0f:a3:39:e1:c0'</li>\n",
       "\t<li>'00:14:bf:3b:c7:c6'</li>\n",
       "\t<li>'00:14:bf:b1:97:81'</li>\n",
       "\t<li>'00:14:bf:b1:97:8d'</li>\n",
       "\t<li>'00:14:bf:b1:97:90'</li>\n",
       "\t<li>'00:0f:a3:39:dd:cd'</li>\n",
       "</ol>\n"
      ],
      "text/latex": [
       "\\begin{enumerate*}\n",
       "\\item '00:14:bf:b1:97:8a'\n",
       "\\item '00:0f:a3:39:e1:c0'\n",
       "\\item '00:14:bf:3b:c7:c6'\n",
       "\\item '00:14:bf:b1:97:81'\n",
       "\\item '00:14:bf:b1:97:8d'\n",
       "\\item '00:14:bf:b1:97:90'\n",
       "\\item '00:0f:a3:39:dd:cd'\n",
       "\\end{enumerate*}\n"
      ],
      "text/markdown": [
       "1. '00:14:bf:b1:97:8a'\n",
       "2. '00:0f:a3:39:e1:c0'\n",
       "3. '00:14:bf:3b:c7:c6'\n",
       "4. '00:14:bf:b1:97:81'\n",
       "5. '00:14:bf:b1:97:8d'\n",
       "6. '00:14:bf:b1:97:90'\n",
       "7. '00:0f:a3:39:dd:cd'\n",
       "\n",
       "\n"
      ],
      "text/plain": [
       "[1] \"00:14:bf:b1:97:8a\" \"00:0f:a3:39:e1:c0\" \"00:14:bf:3b:c7:c6\"\n",
       "[4] \"00:14:bf:b1:97:81\" \"00:14:bf:b1:97:8d\" \"00:14:bf:b1:97:90\"\n",
       "[7] \"00:0f:a3:39:dd:cd\""
      ]
     },
     "metadata": {},
     "output_type": "display_data"
    },
    {
     "data": {
      "text/html": [
       "60"
      ],
      "text/latex": [
       "60"
      ],
      "text/markdown": [
       "60"
      ],
      "text/plain": [
       "[1] 60"
      ]
     },
     "metadata": {},
     "output_type": "display_data"
    }
   ],
   "source": [
    "# edited to match book\n",
    "#online <- readLines(\"C:/Users/jjschued/Documents/SMU/7333 QTW//online.final.trace.txt\", subMacs = macs)\n",
    "\n",
    "# Joe's code; SEE REMAINDER OF CODE BELOW\n",
    "online <- readLines(\"C:/Users/jjschued/Documents/SMU/7333 QTW//online.final.trace.txt\")\n",
    "    # subMacs = macs)\n",
    "\n",
    "onlines = online[ substr(online, 1, 1) != \"#\" ]\n",
    "tmp = lapply(onlines, processLine)\n",
    "online = as.data.frame(do.call(\"rbind\", tmp),stringsAsFactors = FALSE)\n",
    "\n",
    "\n",
    "names(online) = c(\"time\", \"scanMac\", \"posX\", \"posY\", \"posZ\", \"orientation\", \n",
    "        \"mac\", \"signal\", \"channel\", \"type\")\n",
    "\n",
    "roundOrientation = function(angles) {\n",
    "    refs = seq(0, by = 45, length = 9)\n",
    "    q = sapply(angles, function(o) which.min(abs(o - refs)))\n",
    "    c(refs[1:8], 0)[q]\n",
    "}\n",
    "# keep only signals from access points\n",
    "online = online[online$type == \"3\", ]\n",
    "               \n",
    "            \n",
    "\n",
    "# drop scanMac, posZ, channel, and type - no info in them\n",
    "dropVars = c(\"scanMac\", \"posZ\", \"channel\", \"type\")\n",
    "online = online[, !(names(online) %in% dropVars)]\n",
    "\n",
    "# convert numeric values\n",
    "numVars = c(\"time\", \"posX\", \"posY\", \"orientation\", \"signal\")\n",
    "online[numVars] = lapply(online[numVars], as.numeric)\n",
    "\n",
    "\n",
    "# drop more unwanted access points\n",
    "subMacs = c(\"00:0f:a3:39:e1:c0\", \"00:14:bf:b1:97:8a\",\n",
    "        \"00:14:bf:3b:c7:c6\", \"00:14:bf:b1:97:90\", \"00:14:bf:b1:97:8d\", \"00:14:bf:b1:97:81\", \"00:0f:a3:39:dd:cd\")               \n",
    "online = online[online$mac %in% subMacs, ]\n",
    "               \n",
    "# convert time to POSIX\n",
    "online$rawTime = online$time\n",
    "online$time = online$time/1000\n",
    "class(online$time) = c(\"POSIXt\", \"POSIXct\")\n",
    "    \n",
    "# round orientations to nearest 45\n",
    "online$angle = roundOrientation(online$orientation)\n",
    "# Create unique location identifier\n",
    "online$posXY <- paste(online$posX, online$posY, sep = \"-\")\n",
    "macs <-unique(online$mac)\n",
    "macs   \n",
    "length(unique(online$posXY))               "
   ]
  },
  {
   "cell_type": "code",
   "execution_count": 138,
   "metadata": {},
   "outputs": [
    {
     "data": {
      "text/html": [
       "<ol class=list-inline>\n",
       "\t<li>'00:0f:a3:39:e1:c0'</li>\n",
       "\t<li>'00:14:bf:b1:97:8a'</li>\n",
       "\t<li>'00:14:bf:3b:c7:c6'</li>\n",
       "\t<li>'00:14:bf:b1:97:90'</li>\n",
       "\t<li>'00:14:bf:b1:97:8d'</li>\n",
       "\t<li>'00:14:bf:b1:97:81'</li>\n",
       "\t<li>'00:0f:a3:39:dd:cd'</li>\n",
       "</ol>\n"
      ],
      "text/latex": [
       "\\begin{enumerate*}\n",
       "\\item '00:0f:a3:39:e1:c0'\n",
       "\\item '00:14:bf:b1:97:8a'\n",
       "\\item '00:14:bf:3b:c7:c6'\n",
       "\\item '00:14:bf:b1:97:90'\n",
       "\\item '00:14:bf:b1:97:8d'\n",
       "\\item '00:14:bf:b1:97:81'\n",
       "\\item '00:0f:a3:39:dd:cd'\n",
       "\\end{enumerate*}\n"
      ],
      "text/markdown": [
       "1. '00:0f:a3:39:e1:c0'\n",
       "2. '00:14:bf:b1:97:8a'\n",
       "3. '00:14:bf:3b:c7:c6'\n",
       "4. '00:14:bf:b1:97:90'\n",
       "5. '00:14:bf:b1:97:8d'\n",
       "6. '00:14:bf:b1:97:81'\n",
       "7. '00:0f:a3:39:dd:cd'\n",
       "\n",
       "\n"
      ],
      "text/plain": [
       "[1] \"00:0f:a3:39:e1:c0\" \"00:14:bf:b1:97:8a\" \"00:14:bf:3b:c7:c6\"\n",
       "[4] \"00:14:bf:b1:97:90\" \"00:14:bf:b1:97:8d\" \"00:14:bf:b1:97:81\"\n",
       "[7] \"00:0f:a3:39:dd:cd\""
      ]
     },
     "metadata": {},
     "output_type": "display_data"
    }
   ],
   "source": [
    "subMacs"
   ]
  },
  {
   "cell_type": "code",
   "execution_count": 139,
   "metadata": {},
   "outputs": [],
   "source": [
    "online2 = online[online$mac %in% subMacs, ]"
   ]
  },
  {
   "cell_type": "code",
   "execution_count": 140,
   "metadata": {},
   "outputs": [
    {
     "data": {
      "text/html": [
       "<ol class=list-inline>\n",
       "\t<li>'00:14:bf:b1:97:8a'</li>\n",
       "\t<li>'00:0f:a3:39:e1:c0'</li>\n",
       "\t<li>'00:14:bf:3b:c7:c6'</li>\n",
       "\t<li>'00:14:bf:b1:97:81'</li>\n",
       "\t<li>'00:14:bf:b1:97:8d'</li>\n",
       "\t<li>'00:14:bf:b1:97:90'</li>\n",
       "\t<li>'00:0f:a3:39:dd:cd'</li>\n",
       "</ol>\n"
      ],
      "text/latex": [
       "\\begin{enumerate*}\n",
       "\\item '00:14:bf:b1:97:8a'\n",
       "\\item '00:0f:a3:39:e1:c0'\n",
       "\\item '00:14:bf:3b:c7:c6'\n",
       "\\item '00:14:bf:b1:97:81'\n",
       "\\item '00:14:bf:b1:97:8d'\n",
       "\\item '00:14:bf:b1:97:90'\n",
       "\\item '00:0f:a3:39:dd:cd'\n",
       "\\end{enumerate*}\n"
      ],
      "text/markdown": [
       "1. '00:14:bf:b1:97:8a'\n",
       "2. '00:0f:a3:39:e1:c0'\n",
       "3. '00:14:bf:3b:c7:c6'\n",
       "4. '00:14:bf:b1:97:81'\n",
       "5. '00:14:bf:b1:97:8d'\n",
       "6. '00:14:bf:b1:97:90'\n",
       "7. '00:0f:a3:39:dd:cd'\n",
       "\n",
       "\n"
      ],
      "text/plain": [
       "[1] \"00:14:bf:b1:97:8a\" \"00:0f:a3:39:e1:c0\" \"00:14:bf:3b:c7:c6\"\n",
       "[4] \"00:14:bf:b1:97:81\" \"00:14:bf:b1:97:8d\" \"00:14:bf:b1:97:90\"\n",
       "[7] \"00:0f:a3:39:dd:cd\""
      ]
     },
     "metadata": {},
     "output_type": "display_data"
    }
   ],
   "source": [
    "unique(online$mac)"
   ]
  },
  {
   "cell_type": "code",
   "execution_count": 141,
   "metadata": {},
   "outputs": [
    {
     "data": {
      "text/html": [
       "<ol class=list-inline>\n",
       "\t<li>'00:14:bf:b1:97:8a'</li>\n",
       "\t<li>'00:0f:a3:39:e1:c0'</li>\n",
       "\t<li>'00:14:bf:3b:c7:c6'</li>\n",
       "\t<li>'00:14:bf:b1:97:81'</li>\n",
       "\t<li>'00:14:bf:b1:97:8d'</li>\n",
       "\t<li>'00:14:bf:b1:97:90'</li>\n",
       "\t<li>'00:0f:a3:39:dd:cd'</li>\n",
       "</ol>\n"
      ],
      "text/latex": [
       "\\begin{enumerate*}\n",
       "\\item '00:14:bf:b1:97:8a'\n",
       "\\item '00:0f:a3:39:e1:c0'\n",
       "\\item '00:14:bf:3b:c7:c6'\n",
       "\\item '00:14:bf:b1:97:81'\n",
       "\\item '00:14:bf:b1:97:8d'\n",
       "\\item '00:14:bf:b1:97:90'\n",
       "\\item '00:0f:a3:39:dd:cd'\n",
       "\\end{enumerate*}\n"
      ],
      "text/markdown": [
       "1. '00:14:bf:b1:97:8a'\n",
       "2. '00:0f:a3:39:e1:c0'\n",
       "3. '00:14:bf:3b:c7:c6'\n",
       "4. '00:14:bf:b1:97:81'\n",
       "5. '00:14:bf:b1:97:8d'\n",
       "6. '00:14:bf:b1:97:90'\n",
       "7. '00:0f:a3:39:dd:cd'\n",
       "\n",
       "\n"
      ],
      "text/plain": [
       "[1] \"00:14:bf:b1:97:8a\" \"00:0f:a3:39:e1:c0\" \"00:14:bf:3b:c7:c6\"\n",
       "[4] \"00:14:bf:b1:97:81\" \"00:14:bf:b1:97:8d\" \"00:14:bf:b1:97:90\"\n",
       "[7] \"00:0f:a3:39:dd:cd\""
      ]
     },
     "metadata": {},
     "output_type": "display_data"
    }
   ],
   "source": [
    "unique(online2$mac)"
   ]
  },
  {
   "cell_type": "code",
   "execution_count": 142,
   "metadata": {},
   "outputs": [
    {
     "data": {
      "text/html": [
       "60"
      ],
      "text/latex": [
       "60"
      ],
      "text/markdown": [
       "60"
      ],
      "text/plain": [
       "[1] 60"
      ]
     },
     "metadata": {},
     "output_type": "display_data"
    }
   ],
   "source": [
    "# Use new variable to determine that we have 60 unique test locations\n",
    "\n",
    "length(unique(online$posXY))"
   ]
  },
  {
   "cell_type": "code",
   "execution_count": 143,
   "metadata": {},
   "outputs": [
    {
     "data": {
      "text/plain": [
       "            \n",
       "               0  45  90 135 180 225 270 315\n",
       "  0-0.05       0   0   0 704   0   0   0   0\n",
       "  0.15-9.42    0   0 717   0   0   0   0   0\n",
       "  0.31-11.09   0   0   0   0   0 684   0   0\n",
       "  0.47-8.2   701   0   0   0   0   0   0   0\n",
       "  0.78-10.94 695   0   0   0   0   0   0   0\n",
       "  0.93-11.69   0   0   0   0 691   0   0   0"
      ]
     },
     "metadata": {},
     "output_type": "display_data"
    }
   ],
   "source": [
    "# Tally number of signal strengths recorded at each location\n",
    "\n",
    "tabonlineXYA = table(online$posXY, online$angle)\n",
    "tabonlineXYA[1:6, ]\n",
    "\n",
    "# Output indicates that signal strengths were recorded at one orientation for each location"
   ]
  },
  {
   "cell_type": "code",
   "execution_count": 144,
   "metadata": {},
   "outputs": [],
   "source": [
    "# Organize data in different structure; organize data into 6 columns of signal strengths\n",
    "# Summarize online data into new format, providing average signal strength at each location\n",
    "\n",
    "keepVars = c(\"posXY\", \"posX\",\"posY\", \"orientation\", \"angle\")\n",
    "byLoc = with(online, \n",
    "             by(online, list(posXY), \n",
    "                function(x) {\n",
    "                  ans = x[1, keepVars]\n",
    "                  avgSS = tapply(x$signal, x$mac, mean)\n",
    "                  y = matrix(avgSS, nrow = 1, ncol = 7,\n",
    "                             dimnames = list(ans$posXY, names(avgSS)))\n",
    "                  cbind(ans, y)\n",
    "                }))\n",
    "\n",
    "onlineSummary = do.call(\"rbind\", byLoc)  \n"
   ]
  },
  {
   "cell_type": "code",
   "execution_count": 145,
   "metadata": {},
   "outputs": [
    {
     "data": {
      "text/html": [
       "<ol class=list-inline>\n",
       "\t<li>60</li>\n",
       "\t<li>12</li>\n",
       "</ol>\n"
      ],
      "text/latex": [
       "\\begin{enumerate*}\n",
       "\\item 60\n",
       "\\item 12\n",
       "\\end{enumerate*}\n"
      ],
      "text/markdown": [
       "1. 60\n",
       "2. 12\n",
       "\n",
       "\n"
      ],
      "text/plain": [
       "[1] 60 12"
      ]
     },
     "metadata": {},
     "output_type": "display_data"
    }
   ],
   "source": [
    "# New Frame should have 60 rows and 11 variables, including 6 average signal strengths at the corresponding MAC addresses\n",
    "\n",
    "dim(onlineSummary)"
   ]
  },
  {
   "cell_type": "code",
   "execution_count": 146,
   "metadata": {},
   "outputs": [
    {
     "data": {
      "text/html": [
       "<ol class=list-inline>\n",
       "\t<li>'posXY'</li>\n",
       "\t<li>'posX'</li>\n",
       "\t<li>'posY'</li>\n",
       "\t<li>'orientation'</li>\n",
       "\t<li>'angle'</li>\n",
       "\t<li>'00:0f:a3:39:dd:cd'</li>\n",
       "\t<li>'00:0f:a3:39:e1:c0'</li>\n",
       "\t<li>'00:14:bf:3b:c7:c6'</li>\n",
       "\t<li>'00:14:bf:b1:97:81'</li>\n",
       "\t<li>'00:14:bf:b1:97:8a'</li>\n",
       "\t<li>'00:14:bf:b1:97:8d'</li>\n",
       "\t<li>'00:14:bf:b1:97:90'</li>\n",
       "</ol>\n"
      ],
      "text/latex": [
       "\\begin{enumerate*}\n",
       "\\item 'posXY'\n",
       "\\item 'posX'\n",
       "\\item 'posY'\n",
       "\\item 'orientation'\n",
       "\\item 'angle'\n",
       "\\item '00:0f:a3:39:dd:cd'\n",
       "\\item '00:0f:a3:39:e1:c0'\n",
       "\\item '00:14:bf:3b:c7:c6'\n",
       "\\item '00:14:bf:b1:97:81'\n",
       "\\item '00:14:bf:b1:97:8a'\n",
       "\\item '00:14:bf:b1:97:8d'\n",
       "\\item '00:14:bf:b1:97:90'\n",
       "\\end{enumerate*}\n"
      ],
      "text/markdown": [
       "1. 'posXY'\n",
       "2. 'posX'\n",
       "3. 'posY'\n",
       "4. 'orientation'\n",
       "5. 'angle'\n",
       "6. '00:0f:a3:39:dd:cd'\n",
       "7. '00:0f:a3:39:e1:c0'\n",
       "8. '00:14:bf:3b:c7:c6'\n",
       "9. '00:14:bf:b1:97:81'\n",
       "10. '00:14:bf:b1:97:8a'\n",
       "11. '00:14:bf:b1:97:8d'\n",
       "12. '00:14:bf:b1:97:90'\n",
       "\n",
       "\n"
      ],
      "text/plain": [
       " [1] \"posXY\"             \"posX\"              \"posY\"             \n",
       " [4] \"orientation\"       \"angle\"             \"00:0f:a3:39:dd:cd\"\n",
       " [7] \"00:0f:a3:39:e1:c0\" \"00:14:bf:3b:c7:c6\" \"00:14:bf:b1:97:81\"\n",
       "[10] \"00:14:bf:b1:97:8a\" \"00:14:bf:b1:97:8d\" \"00:14:bf:b1:97:90\""
      ]
     },
     "metadata": {},
     "output_type": "display_data"
    }
   ],
   "source": [
    "# Confirm\n",
    "\n",
    "names(onlineSummary)"
   ]
  },
  {
   "cell_type": "code",
   "execution_count": 147,
   "metadata": {},
   "outputs": [
    {
     "data": {
      "text/html": [
       "<table>\n",
       "<thead><tr><th></th><th scope=col>posXY</th><th scope=col>posX</th><th scope=col>posY</th><th scope=col>orientation</th><th scope=col>angle</th><th scope=col>00:0f:a3:39:dd:cd</th><th scope=col>00:0f:a3:39:e1:c0</th><th scope=col>00:14:bf:3b:c7:c6</th><th scope=col>00:14:bf:b1:97:81</th><th scope=col>00:14:bf:b1:97:8a</th><th scope=col>00:14:bf:b1:97:8d</th><th scope=col>00:14:bf:b1:97:90</th></tr></thead>\n",
       "<tbody>\n",
       "\t<tr><th scope=row>0-0.05</th><td>0-0.05    </td><td>0.00      </td><td> 0.05     </td><td>130.5     </td><td>135       </td><td>-63       </td><td>-52       </td><td>-63       </td><td>-62       </td><td>-40       </td><td>-63       </td><td>-55       </td></tr>\n",
       "\t<tr><th scope=row>0.15-9.42</th><td>0.15-9.42 </td><td>0.15      </td><td> 9.42     </td><td>112.3     </td><td> 90       </td><td>-66       </td><td>-55       </td><td>-74       </td><td>-73       </td><td>-48       </td><td>-69       </td><td>-47       </td></tr>\n",
       "\t<tr><th scope=row>0.31-11.09</th><td>0.31-11.09</td><td>0.31      </td><td>11.09     </td><td>230.1     </td><td>225       </td><td>-67       </td><td>-52       </td><td>-70       </td><td>-70       </td><td>-54       </td><td>-69       </td><td>-54       </td></tr>\n",
       "\t<tr><th scope=row>0.47-8.2</th><td>0.47-8.2  </td><td>0.47      </td><td> 8.20     </td><td>  5.8     </td><td>  0       </td><td>-74       </td><td>-50       </td><td>-64       </td><td>-73       </td><td>-46       </td><td>-61       </td><td>-50       </td></tr>\n",
       "\t<tr><th scope=row>0.78-10.94</th><td>0.78-10.94</td><td>0.78      </td><td>10.94     </td><td>348.3     </td><td>  0       </td><td>-71       </td><td>-53       </td><td>-67       </td><td>-67       </td><td>-48       </td><td>-65       </td><td>-55       </td></tr>\n",
       "\t<tr><th scope=row>0.93-11.69</th><td>0.93-11.69</td><td>0.93      </td><td>11.69     </td><td>158.3     </td><td>180       </td><td>-70       </td><td>-58       </td><td>-70       </td><td>-71       </td><td>-44       </td><td>-66       </td><td>-47       </td></tr>\n",
       "</tbody>\n",
       "</table>\n"
      ],
      "text/latex": [
       "\\begin{tabular}{r|llllllllllll}\n",
       "  & posXY & posX & posY & orientation & angle & 00:0f:a3:39:dd:cd & 00:0f:a3:39:e1:c0 & 00:14:bf:3b:c7:c6 & 00:14:bf:b1:97:81 & 00:14:bf:b1:97:8a & 00:14:bf:b1:97:8d & 00:14:bf:b1:97:90\\\\\n",
       "\\hline\n",
       "\t0-0.05 & 0-0.05     & 0.00       &  0.05      & 130.5      & 135        & -63        & -52        & -63        & -62        & -40        & -63        & -55       \\\\\n",
       "\t0.15-9.42 & 0.15-9.42  & 0.15       &  9.42      & 112.3      &  90        & -66        & -55        & -74        & -73        & -48        & -69        & -47       \\\\\n",
       "\t0.31-11.09 & 0.31-11.09 & 0.31       & 11.09      & 230.1      & 225        & -67        & -52        & -70        & -70        & -54        & -69        & -54       \\\\\n",
       "\t0.47-8.2 & 0.47-8.2   & 0.47       &  8.20      &   5.8      &   0        & -74        & -50        & -64        & -73        & -46        & -61        & -50       \\\\\n",
       "\t0.78-10.94 & 0.78-10.94 & 0.78       & 10.94      & 348.3      &   0        & -71        & -53        & -67        & -67        & -48        & -65        & -55       \\\\\n",
       "\t0.93-11.69 & 0.93-11.69 & 0.93       & 11.69      & 158.3      & 180        & -70        & -58        & -70        & -71        & -44        & -66        & -47       \\\\\n",
       "\\end{tabular}\n"
      ],
      "text/markdown": [
       "\n",
       "| <!--/--> | posXY | posX | posY | orientation | angle | 00:0f:a3:39:dd:cd | 00:0f:a3:39:e1:c0 | 00:14:bf:3b:c7:c6 | 00:14:bf:b1:97:81 | 00:14:bf:b1:97:8a | 00:14:bf:b1:97:8d | 00:14:bf:b1:97:90 |\n",
       "|---|---|---|---|---|---|---|---|---|---|---|---|---|\n",
       "| 0-0.05 | 0-0.05     | 0.00       |  0.05      | 130.5      | 135        | -63        | -52        | -63        | -62        | -40        | -63        | -55        |\n",
       "| 0.15-9.42 | 0.15-9.42  | 0.15       |  9.42      | 112.3      |  90        | -66        | -55        | -74        | -73        | -48        | -69        | -47        |\n",
       "| 0.31-11.09 | 0.31-11.09 | 0.31       | 11.09      | 230.1      | 225        | -67        | -52        | -70        | -70        | -54        | -69        | -54        |\n",
       "| 0.47-8.2 | 0.47-8.2   | 0.47       |  8.20      |   5.8      |   0        | -74        | -50        | -64        | -73        | -46        | -61        | -50        |\n",
       "| 0.78-10.94 | 0.78-10.94 | 0.78       | 10.94      | 348.3      |   0        | -71        | -53        | -67        | -67        | -48        | -65        | -55        |\n",
       "| 0.93-11.69 | 0.93-11.69 | 0.93       | 11.69      | 158.3      | 180        | -70        | -58        | -70        | -71        | -44        | -66        | -47        |\n",
       "\n"
      ],
      "text/plain": [
       "           posXY      posX posY  orientation angle 00:0f:a3:39:dd:cd\n",
       "0-0.05     0-0.05     0.00  0.05 130.5       135   -63              \n",
       "0.15-9.42  0.15-9.42  0.15  9.42 112.3        90   -66              \n",
       "0.31-11.09 0.31-11.09 0.31 11.09 230.1       225   -67              \n",
       "0.47-8.2   0.47-8.2   0.47  8.20   5.8         0   -74              \n",
       "0.78-10.94 0.78-10.94 0.78 10.94 348.3         0   -71              \n",
       "0.93-11.69 0.93-11.69 0.93 11.69 158.3       180   -70              \n",
       "           00:0f:a3:39:e1:c0 00:14:bf:3b:c7:c6 00:14:bf:b1:97:81\n",
       "0-0.05     -52               -63               -62              \n",
       "0.15-9.42  -55               -74               -73              \n",
       "0.31-11.09 -52               -70               -70              \n",
       "0.47-8.2   -50               -64               -73              \n",
       "0.78-10.94 -53               -67               -67              \n",
       "0.93-11.69 -58               -70               -71              \n",
       "           00:14:bf:b1:97:8a 00:14:bf:b1:97:8d 00:14:bf:b1:97:90\n",
       "0-0.05     -40               -63               -55              \n",
       "0.15-9.42  -48               -69               -47              \n",
       "0.31-11.09 -54               -69               -54              \n",
       "0.47-8.2   -46               -61               -50              \n",
       "0.78-10.94 -48               -65               -55              \n",
       "0.93-11.69 -44               -66               -47              "
      ]
     },
     "metadata": {},
     "output_type": "display_data"
    }
   ],
   "source": [
    "head(onlineSummary)"
   ]
  },
  {
   "cell_type": "code",
   "execution_count": 149,
   "metadata": {},
   "outputs": [],
   "source": [
    "write.csv(onlineSummary,\"C:/Users/jjschued/Documents/SMU/7333 QTW/onlinewithcd.csv\", row.names = TRUE)"
   ]
  },
  {
   "cell_type": "markdown",
   "metadata": {},
   "source": [
    "### 1.5.2 Choice of Orientation\n",
    "#### Find records in offline data that have similar orientations to our new observations. This helps calculated the nears neighbor by using known point with similar signal strength. As we saw from above, orientation impact signal strength "
   ]
  },
  {
   "cell_type": "code",
   "execution_count": 85,
   "metadata": {},
   "outputs": [],
   "source": [
    "# m for the number of angles and angleNewObs the angle of new observation. Find angles to include.\n",
    "\n",
    "m = 3; angleNewObs = 230\n",
    "refs = seq(0, by = 45, length  = 8)\n",
    "nearestAngle = roundOrientation(angleNewObs)\n",
    "\n",
    "if (m %% 2 == 1) {\n",
    "  angles = seq(-45 * (m - 1) /2, 45 * (m - 1) /2, length = m)\n",
    "} else {\n",
    "  m = m + 1\n",
    "  angles = seq(-45 * (m - 1) /2, 45 * (m - 1) /2, length = m)\n",
    "  if (sign(angleNewObs - nearestAngle) > -1) \n",
    "    angles = angles[ -1 ]\n",
    "  else \n",
    "    angles = angles[ -m ]\n",
    "}\n"
   ]
  },
  {
   "cell_type": "code",
   "execution_count": 86,
   "metadata": {},
   "outputs": [],
   "source": [
    "# Handle case of m odd and even separately; must also map angles to values in refs, -45 to 355 and 405 maps to 45. So adjust angles:\n",
    "\n",
    "angles = angles + nearestAngle\n",
    "angles[angles < 0] = angles[ angles < 0 ] + 360\n",
    "angles[angles > 360] = angles[ angles > 360 ] - 360\n"
   ]
  },
  {
   "cell_type": "code",
   "execution_count": 87,
   "metadata": {},
   "outputs": [],
   "source": [
    "# Select observations from offlineSummary to analyze\n",
    "\n",
    "offlineSubset = \n",
    "  offlineSummary[ offlineSummary$angle %in% angles, ]\n"
   ]
  },
  {
   "cell_type": "code",
   "execution_count": 164,
   "metadata": {},
   "outputs": [
    {
     "data": {
      "text/html": [
       "<table>\n",
       "<thead><tr><th></th><th scope=col>time</th><th scope=col>posX</th><th scope=col>posY</th><th scope=col>orientation</th><th scope=col>mac</th><th scope=col>signal</th><th scope=col>rawTime</th><th scope=col>angle</th><th scope=col>posXY</th><th scope=col>medSignal</th><th scope=col>avgSignal</th><th scope=col>num</th><th scope=col>sdSignal</th><th scope=col>iqrSignal</th></tr></thead>\n",
       "<tbody>\n",
       "\t<tr><th scope=row>7</th><td>2006-02-11 01:31:58</td><td>0                  </td><td> 0                 </td><td>0.0                </td><td>00:0f:a3:39:dd:cd  </td><td>-75                </td><td>1.1e+12            </td><td>0                  </td><td>0-0                </td><td>-67                </td><td>-68                </td><td>111                </td><td>3.2                </td><td>4.5                </td></tr>\n",
       "\t<tr><th scope=row>24512</th><td>2006-02-11 02:03:44</td><td>0                  </td><td> 1                 </td><td>0.7                </td><td>00:0f:a3:39:dd:cd  </td><td>-73                </td><td>1.1e+12            </td><td>0                  </td><td>0-1                </td><td>-70                </td><td>-70                </td><td>110                </td><td>2.4                </td><td>3.0                </td></tr>\n",
       "\t<tr><th scope=row>221777</th><td>2006-02-11 05:46:02</td><td>0                  </td><td>10                 </td><td>0.9                </td><td>00:0f:a3:39:dd:cd  </td><td>-69                </td><td>1.1e+12            </td><td>0                  </td><td>0-10               </td><td>-67                </td><td>-69                </td><td>111                </td><td>4.4                </td><td>6.5                </td></tr>\n",
       "\t<tr><th scope=row>229191</th><td>2006-02-11 05:54:05</td><td>0                  </td><td>11                 </td><td>0.4                </td><td>00:0f:a3:39:dd:cd  </td><td>-72                </td><td>1.1e+12            </td><td>0                  </td><td>0-11               </td><td>-73                </td><td>-74                </td><td>111                </td><td>5.4                </td><td>7.0                </td></tr>\n",
       "\t<tr><th scope=row>236493</th><td>2006-02-11 06:02:32</td><td>0                  </td><td>12                 </td><td>0.2                </td><td>00:0f:a3:39:dd:cd  </td><td>-72                </td><td>1.1e+12            </td><td>0                  </td><td>0-12               </td><td>-70                </td><td>-70                </td><td>114                </td><td>2.4                </td><td>3.0                </td></tr>\n",
       "\t<tr><th scope=row>243546</th><td>2006-02-11 06:14:12</td><td>0                  </td><td>13                 </td><td>0.1                </td><td>00:0f:a3:39:dd:cd  </td><td>-69                </td><td>1.1e+12            </td><td>0                  </td><td>0-13               </td><td>-74                </td><td>-74                </td><td>109                </td><td>3.5                </td><td>4.0                </td></tr>\n",
       "</tbody>\n",
       "</table>\n"
      ],
      "text/latex": [
       "\\begin{tabular}{r|llllllllllllll}\n",
       "  & time & posX & posY & orientation & mac & signal & rawTime & angle & posXY & medSignal & avgSignal & num & sdSignal & iqrSignal\\\\\n",
       "\\hline\n",
       "\t7 & 2006-02-11 01:31:58 & 0                   &  0                  & 0.0                 & 00:0f:a3:39:dd:cd   & -75                 & 1.1e+12             & 0                   & 0-0                 & -67                 & -68                 & 111                 & 3.2                 & 4.5                \\\\\n",
       "\t24512 & 2006-02-11 02:03:44 & 0                   &  1                  & 0.7                 & 00:0f:a3:39:dd:cd   & -73                 & 1.1e+12             & 0                   & 0-1                 & -70                 & -70                 & 110                 & 2.4                 & 3.0                \\\\\n",
       "\t221777 & 2006-02-11 05:46:02 & 0                   & 10                  & 0.9                 & 00:0f:a3:39:dd:cd   & -69                 & 1.1e+12             & 0                   & 0-10                & -67                 & -69                 & 111                 & 4.4                 & 6.5                \\\\\n",
       "\t229191 & 2006-02-11 05:54:05 & 0                   & 11                  & 0.4                 & 00:0f:a3:39:dd:cd   & -72                 & 1.1e+12             & 0                   & 0-11                & -73                 & -74                 & 111                 & 5.4                 & 7.0                \\\\\n",
       "\t236493 & 2006-02-11 06:02:32 & 0                   & 12                  & 0.2                 & 00:0f:a3:39:dd:cd   & -72                 & 1.1e+12             & 0                   & 0-12                & -70                 & -70                 & 114                 & 2.4                 & 3.0                \\\\\n",
       "\t243546 & 2006-02-11 06:14:12 & 0                   & 13                  & 0.1                 & 00:0f:a3:39:dd:cd   & -69                 & 1.1e+12             & 0                   & 0-13                & -74                 & -74                 & 109                 & 3.5                 & 4.0                \\\\\n",
       "\\end{tabular}\n"
      ],
      "text/markdown": [
       "\n",
       "| <!--/--> | time | posX | posY | orientation | mac | signal | rawTime | angle | posXY | medSignal | avgSignal | num | sdSignal | iqrSignal |\n",
       "|---|---|---|---|---|---|---|---|---|---|---|---|---|---|---|\n",
       "| 7 | 2006-02-11 01:31:58 | 0                   |  0                  | 0.0                 | 00:0f:a3:39:dd:cd   | -75                 | 1.1e+12             | 0                   | 0-0                 | -67                 | -68                 | 111                 | 3.2                 | 4.5                 |\n",
       "| 24512 | 2006-02-11 02:03:44 | 0                   |  1                  | 0.7                 | 00:0f:a3:39:dd:cd   | -73                 | 1.1e+12             | 0                   | 0-1                 | -70                 | -70                 | 110                 | 2.4                 | 3.0                 |\n",
       "| 221777 | 2006-02-11 05:46:02 | 0                   | 10                  | 0.9                 | 00:0f:a3:39:dd:cd   | -69                 | 1.1e+12             | 0                   | 0-10                | -67                 | -69                 | 111                 | 4.4                 | 6.5                 |\n",
       "| 229191 | 2006-02-11 05:54:05 | 0                   | 11                  | 0.4                 | 00:0f:a3:39:dd:cd   | -72                 | 1.1e+12             | 0                   | 0-11                | -73                 | -74                 | 111                 | 5.4                 | 7.0                 |\n",
       "| 236493 | 2006-02-11 06:02:32 | 0                   | 12                  | 0.2                 | 00:0f:a3:39:dd:cd   | -72                 | 1.1e+12             | 0                   | 0-12                | -70                 | -70                 | 114                 | 2.4                 | 3.0                 |\n",
       "| 243546 | 2006-02-11 06:14:12 | 0                   | 13                  | 0.1                 | 00:0f:a3:39:dd:cd   | -69                 | 1.1e+12             | 0                   | 0-13                | -74                 | -74                 | 109                 | 3.5                 | 4.0                 |\n",
       "\n"
      ],
      "text/plain": [
       "       time                posX posY orientation mac               signal\n",
       "7      2006-02-11 01:31:58 0     0   0.0         00:0f:a3:39:dd:cd -75   \n",
       "24512  2006-02-11 02:03:44 0     1   0.7         00:0f:a3:39:dd:cd -73   \n",
       "221777 2006-02-11 05:46:02 0    10   0.9         00:0f:a3:39:dd:cd -69   \n",
       "229191 2006-02-11 05:54:05 0    11   0.4         00:0f:a3:39:dd:cd -72   \n",
       "236493 2006-02-11 06:02:32 0    12   0.2         00:0f:a3:39:dd:cd -72   \n",
       "243546 2006-02-11 06:14:12 0    13   0.1         00:0f:a3:39:dd:cd -69   \n",
       "       rawTime angle posXY medSignal avgSignal num sdSignal iqrSignal\n",
       "7      1.1e+12 0     0-0   -67       -68       111 3.2      4.5      \n",
       "24512  1.1e+12 0     0-1   -70       -70       110 2.4      3.0      \n",
       "221777 1.1e+12 0     0-10  -67       -69       111 4.4      6.5      \n",
       "229191 1.1e+12 0     0-11  -73       -74       111 5.4      7.0      \n",
       "236493 1.1e+12 0     0-12  -70       -70       114 2.4      3.0      \n",
       "243546 1.1e+12 0     0-13  -74       -74       109 3.5      4.0      "
      ]
     },
     "metadata": {},
     "output_type": "display_data"
    }
   ],
   "source": [
    "head(offlineSummary)"
   ]
  },
  {
   "cell_type": "code",
   "execution_count": 169,
   "metadata": {},
   "outputs": [],
   "source": [
    "# Aggregate signal strengths from angles and create data structure that is similar to onlineSummary\n",
    "# Use helper function reshapeSS()\n",
    "\n",
    "reshapeSS = function(data, varSignal = \"signal\", \n",
    "                     keepVars = c(\"posXY\", \"posX\",\"posY\",\"orientation\", \"angle\")) {\n",
    "  byLocation =\n",
    "    with(data, by(data, list(posXY), \n",
    "                  function(x) {\n",
    "                    ans = x[1, keepVars]\n",
    "                    avgSS = tapply(x[ , varSignal ], x$mac, mean)\n",
    "                    y = matrix(avgSS, nrow = 1, ncol = 7,\n",
    "                               dimnames = list(ans$posXY,\n",
    "                                               names(avgSS)))\n",
    "                    cbind(ans, y)\n",
    "                  }))\n",
    "  \n",
    "  newDataSS = do.call(\"rbind\", byLocation)\n",
    "  return(newDataSS)\n",
    "}\n"
   ]
  },
  {
   "cell_type": "code",
   "execution_count": 170,
   "metadata": {},
   "outputs": [],
   "source": [
    "# Summarize and Reshape offlineSubset (Set Training Set)\n",
    "\n",
    "#trainSS = reshapeSS(offlineSubset, varSignal = \"avgSignal\")\n",
    "trainofflinecdss = reshapeSS(offlineSummary, varSignal = \"avgSignal\")"
   ]
  },
  {
   "cell_type": "code",
   "execution_count": 172,
   "metadata": {},
   "outputs": [],
   "source": [
    "write.csv(trainofflinecdss,\"C:/Users/jjschued/Documents/SMU/7333 QTW/trainofflinecdss.csv\", row.names = TRUE)"
   ]
  },
  {
   "cell_type": "code",
   "execution_count": 171,
   "metadata": {},
   "outputs": [
    {
     "data": {
      "text/html": [
       "<table>\n",
       "<thead><tr><th></th><th scope=col>posXY</th><th scope=col>posX</th><th scope=col>posY</th><th scope=col>orientation</th><th scope=col>angle</th><th scope=col>00:0f:a3:39:dd:cd</th><th scope=col>00:0f:a3:39:e1:c0</th><th scope=col>00:14:bf:3b:c7:c6</th><th scope=col>00:14:bf:b1:97:81</th><th scope=col>00:14:bf:b1:97:8a</th><th scope=col>00:14:bf:b1:97:8d</th><th scope=col>00:14:bf:b1:97:90</th></tr></thead>\n",
       "<tbody>\n",
       "\t<tr><th scope=row>0-0</th><td>0-0 </td><td>0   </td><td> 0  </td><td>0.0 </td><td>0   </td><td>-70 </td><td>-53 </td><td>-66 </td><td>-65 </td><td>-39 </td><td>-66 </td><td>-56 </td></tr>\n",
       "\t<tr><th scope=row>0-1</th><td>0-1 </td><td>0   </td><td> 1  </td><td>0.7 </td><td>0   </td><td>-71 </td><td>-53 </td><td>-66 </td><td>-66 </td><td>-40 </td><td>-66 </td><td>-58 </td></tr>\n",
       "\t<tr><th scope=row>0-10</th><td>0-10</td><td>0   </td><td>10  </td><td>0.9 </td><td>0   </td><td>-69 </td><td>-55 </td><td>-65 </td><td>-66 </td><td>-45 </td><td>-66 </td><td>-52 </td></tr>\n",
       "\t<tr><th scope=row>0-11</th><td>0-11</td><td>0   </td><td>11  </td><td>0.4 </td><td>0   </td><td>-71 </td><td>-54 </td><td>-68 </td><td>-69 </td><td>-48 </td><td>-67 </td><td>-55 </td></tr>\n",
       "\t<tr><th scope=row>0-12</th><td>0-12</td><td>0   </td><td>12  </td><td>0.2 </td><td>0   </td><td>-69 </td><td>-54 </td><td>-68 </td><td>-71 </td><td>-46 </td><td>-68 </td><td>-53 </td></tr>\n",
       "\t<tr><th scope=row>0-13</th><td>0-13</td><td>0   </td><td>13  </td><td>0.1 </td><td>0   </td><td>-73 </td><td>-55 </td><td>-71 </td><td>-72 </td><td>-45 </td><td>-69 </td><td>-55 </td></tr>\n",
       "</tbody>\n",
       "</table>\n"
      ],
      "text/latex": [
       "\\begin{tabular}{r|llllllllllll}\n",
       "  & posXY & posX & posY & orientation & angle & 00:0f:a3:39:dd:cd & 00:0f:a3:39:e1:c0 & 00:14:bf:3b:c7:c6 & 00:14:bf:b1:97:81 & 00:14:bf:b1:97:8a & 00:14:bf:b1:97:8d & 00:14:bf:b1:97:90\\\\\n",
       "\\hline\n",
       "\t0-0 & 0-0  & 0    &  0   & 0.0  & 0    & -70  & -53  & -66  & -65  & -39  & -66  & -56 \\\\\n",
       "\t0-1 & 0-1  & 0    &  1   & 0.7  & 0    & -71  & -53  & -66  & -66  & -40  & -66  & -58 \\\\\n",
       "\t0-10 & 0-10 & 0    & 10   & 0.9  & 0    & -69  & -55  & -65  & -66  & -45  & -66  & -52 \\\\\n",
       "\t0-11 & 0-11 & 0    & 11   & 0.4  & 0    & -71  & -54  & -68  & -69  & -48  & -67  & -55 \\\\\n",
       "\t0-12 & 0-12 & 0    & 12   & 0.2  & 0    & -69  & -54  & -68  & -71  & -46  & -68  & -53 \\\\\n",
       "\t0-13 & 0-13 & 0    & 13   & 0.1  & 0    & -73  & -55  & -71  & -72  & -45  & -69  & -55 \\\\\n",
       "\\end{tabular}\n"
      ],
      "text/markdown": [
       "\n",
       "| <!--/--> | posXY | posX | posY | orientation | angle | 00:0f:a3:39:dd:cd | 00:0f:a3:39:e1:c0 | 00:14:bf:3b:c7:c6 | 00:14:bf:b1:97:81 | 00:14:bf:b1:97:8a | 00:14:bf:b1:97:8d | 00:14:bf:b1:97:90 |\n",
       "|---|---|---|---|---|---|---|---|---|---|---|---|---|\n",
       "| 0-0 | 0-0  | 0    |  0   | 0.0  | 0    | -70  | -53  | -66  | -65  | -39  | -66  | -56  |\n",
       "| 0-1 | 0-1  | 0    |  1   | 0.7  | 0    | -71  | -53  | -66  | -66  | -40  | -66  | -58  |\n",
       "| 0-10 | 0-10 | 0    | 10   | 0.9  | 0    | -69  | -55  | -65  | -66  | -45  | -66  | -52  |\n",
       "| 0-11 | 0-11 | 0    | 11   | 0.4  | 0    | -71  | -54  | -68  | -69  | -48  | -67  | -55  |\n",
       "| 0-12 | 0-12 | 0    | 12   | 0.2  | 0    | -69  | -54  | -68  | -71  | -46  | -68  | -53  |\n",
       "| 0-13 | 0-13 | 0    | 13   | 0.1  | 0    | -73  | -55  | -71  | -72  | -45  | -69  | -55  |\n",
       "\n"
      ],
      "text/plain": [
       "     posXY posX posY orientation angle 00:0f:a3:39:dd:cd 00:0f:a3:39:e1:c0\n",
       "0-0  0-0   0     0   0.0         0     -70               -53              \n",
       "0-1  0-1   0     1   0.7         0     -71               -53              \n",
       "0-10 0-10  0    10   0.9         0     -69               -55              \n",
       "0-11 0-11  0    11   0.4         0     -71               -54              \n",
       "0-12 0-12  0    12   0.2         0     -69               -54              \n",
       "0-13 0-13  0    13   0.1         0     -73               -55              \n",
       "     00:14:bf:3b:c7:c6 00:14:bf:b1:97:81 00:14:bf:b1:97:8a 00:14:bf:b1:97:8d\n",
       "0-0  -66               -65               -39               -66              \n",
       "0-1  -66               -66               -40               -66              \n",
       "0-10 -65               -66               -45               -66              \n",
       "0-11 -68               -69               -48               -67              \n",
       "0-12 -68               -71               -46               -68              \n",
       "0-13 -71               -72               -45               -69              \n",
       "     00:14:bf:b1:97:90\n",
       "0-0  -56              \n",
       "0-1  -58              \n",
       "0-10 -52              \n",
       "0-11 -55              \n",
       "0-12 -53              \n",
       "0-13 -55              "
      ]
     },
     "metadata": {},
     "output_type": "display_data"
    }
   ],
   "source": [
    "head(trainofflinecdss)"
   ]
  },
  {
   "cell_type": "code",
   "execution_count": 167,
   "metadata": {},
   "outputs": [
    {
     "data": {
      "text/html": [
       "15"
      ],
      "text/latex": [
       "15"
      ],
      "text/markdown": [
       "15"
      ],
      "text/plain": [
       "[1] 15"
      ]
     },
     "metadata": {},
     "output_type": "display_data"
    }
   ],
   "source": [
    "length(offlineSubset)"
   ]
  },
  {
   "cell_type": "code",
   "execution_count": 91,
   "metadata": {},
   "outputs": [],
   "source": [
    "# Wrap code to select angles and call to reshapeSS() into function called selectTrain()\n",
    "# selectTrain() has 3 args: angleNewObs, angle of new observation; singals, the training data/data in format of offlineSummary; m, number of angles to include form signals.\n",
    "# Returns data frame that matches trainSS\n",
    "\n",
    "selectTrain = function(angleNewObs, signals = NULL, m = 1){\n",
    "  # m is the number of angles to keep between 1 and 5\n",
    "  refs = seq(0, by = 45, length  = 8)\n",
    "  nearestAngle = roundOrientation(angleNewObs)\n",
    "  \n",
    "  if (m %% 2 == 1) \n",
    "    angles = seq(-45 * (m - 1) /2, 45 * (m - 1) /2, length = m)\n",
    "  else {\n",
    "    m = m + 1\n",
    "    angles = seq(-45 * (m - 1) /2, 45 * (m - 1) /2, length = m)\n",
    "    if (sign(angleNewObs - nearestAngle) > -1) \n",
    "      angles = angles[ -1 ]\n",
    "    else \n",
    "      angles = angles[ -m ]\n",
    "  }\n",
    "  angles = angles + nearestAngle\n",
    "  angles[angles < 0] = angles[ angles < 0 ] + 360\n",
    "  angles[angles > 360] = angles[ angles > 360 ] - 360\n",
    "  angles = sort(angles) \n",
    "  \n",
    "  offlineSubset = signals[ signals$angle %in% angles, ]\n",
    "  reshapeSS(offlineSubset, varSignal = \"avgSignal\")\n",
    "}\n"
   ]
  },
  {
   "cell_type": "code",
   "execution_count": 92,
   "metadata": {},
   "outputs": [
    {
     "data": {
      "text/html": [
       "<table>\n",
       "<thead><tr><th></th><th scope=col>posXY</th><th scope=col>posX</th><th scope=col>posY</th><th scope=col>00:0f:a3:39:e1:c0</th><th scope=col>00:14:bf:3b:c7:c6</th><th scope=col>00:14:bf:b1:97:81</th><th scope=col>00:14:bf:b1:97:8a</th><th scope=col>00:14:bf:b1:97:8d</th><th scope=col>00:14:bf:b1:97:90</th></tr></thead>\n",
       "<tbody>\n",
       "\t<tr><th scope=row>0-0</th><td>0-0 </td><td>0   </td><td> 0  </td><td>-52 </td><td>-66 </td><td>-63 </td><td>-36 </td><td>-64 </td><td>-55 </td></tr>\n",
       "\t<tr><th scope=row>0-1</th><td>0-1 </td><td>0   </td><td> 1  </td><td>-53 </td><td>-65 </td><td>-64 </td><td>-39 </td><td>-65 </td><td>-59 </td></tr>\n",
       "\t<tr><th scope=row>0-10</th><td>0-10</td><td>0   </td><td>10  </td><td>-56 </td><td>-66 </td><td>-69 </td><td>-45 </td><td>-67 </td><td>-50 </td></tr>\n",
       "\t<tr><th scope=row>0-11</th><td>0-11</td><td>0   </td><td>11  </td><td>-55 </td><td>-67 </td><td>-70 </td><td>-48 </td><td>-67 </td><td>-55 </td></tr>\n",
       "\t<tr><th scope=row>0-12</th><td>0-12</td><td>0   </td><td>12  </td><td>-56 </td><td>-70 </td><td>-72 </td><td>-45 </td><td>-67 </td><td>-50 </td></tr>\n",
       "\t<tr><th scope=row>0-13</th><td>0-13</td><td>0   </td><td>13  </td><td>-55 </td><td>-71 </td><td>-73 </td><td>-43 </td><td>-69 </td><td>-54 </td></tr>\n",
       "</tbody>\n",
       "</table>\n"
      ],
      "text/latex": [
       "\\begin{tabular}{r|lllllllll}\n",
       "  & posXY & posX & posY & 00:0f:a3:39:e1:c0 & 00:14:bf:3b:c7:c6 & 00:14:bf:b1:97:81 & 00:14:bf:b1:97:8a & 00:14:bf:b1:97:8d & 00:14:bf:b1:97:90\\\\\n",
       "\\hline\n",
       "\t0-0 & 0-0  & 0    &  0   & -52  & -66  & -63  & -36  & -64  & -55 \\\\\n",
       "\t0-1 & 0-1  & 0    &  1   & -53  & -65  & -64  & -39  & -65  & -59 \\\\\n",
       "\t0-10 & 0-10 & 0    & 10   & -56  & -66  & -69  & -45  & -67  & -50 \\\\\n",
       "\t0-11 & 0-11 & 0    & 11   & -55  & -67  & -70  & -48  & -67  & -55 \\\\\n",
       "\t0-12 & 0-12 & 0    & 12   & -56  & -70  & -72  & -45  & -67  & -50 \\\\\n",
       "\t0-13 & 0-13 & 0    & 13   & -55  & -71  & -73  & -43  & -69  & -54 \\\\\n",
       "\\end{tabular}\n"
      ],
      "text/markdown": [
       "\n",
       "| <!--/--> | posXY | posX | posY | 00:0f:a3:39:e1:c0 | 00:14:bf:3b:c7:c6 | 00:14:bf:b1:97:81 | 00:14:bf:b1:97:8a | 00:14:bf:b1:97:8d | 00:14:bf:b1:97:90 |\n",
       "|---|---|---|---|---|---|---|---|---|---|\n",
       "| 0-0 | 0-0  | 0    |  0   | -52  | -66  | -63  | -36  | -64  | -55  |\n",
       "| 0-1 | 0-1  | 0    |  1   | -53  | -65  | -64  | -39  | -65  | -59  |\n",
       "| 0-10 | 0-10 | 0    | 10   | -56  | -66  | -69  | -45  | -67  | -50  |\n",
       "| 0-11 | 0-11 | 0    | 11   | -55  | -67  | -70  | -48  | -67  | -55  |\n",
       "| 0-12 | 0-12 | 0    | 12   | -56  | -70  | -72  | -45  | -67  | -50  |\n",
       "| 0-13 | 0-13 | 0    | 13   | -55  | -71  | -73  | -43  | -69  | -54  |\n",
       "\n"
      ],
      "text/plain": [
       "     posXY posX posY 00:0f:a3:39:e1:c0 00:14:bf:3b:c7:c6 00:14:bf:b1:97:81\n",
       "0-0  0-0   0     0   -52               -66               -63              \n",
       "0-1  0-1   0     1   -53               -65               -64              \n",
       "0-10 0-10  0    10   -56               -66               -69              \n",
       "0-11 0-11  0    11   -55               -67               -70              \n",
       "0-12 0-12  0    12   -56               -70               -72              \n",
       "0-13 0-13  0    13   -55               -71               -73              \n",
       "     00:14:bf:b1:97:8a 00:14:bf:b1:97:8d 00:14:bf:b1:97:90\n",
       "0-0  -36               -64               -55              \n",
       "0-1  -39               -65               -59              \n",
       "0-10 -45               -67               -50              \n",
       "0-11 -48               -67               -55              \n",
       "0-12 -45               -67               -50              \n",
       "0-13 -43               -69               -54              "
      ]
     },
     "metadata": {},
     "output_type": "display_data"
    }
   ],
   "source": [
    "# Test function for angle of 130 and m of 3; aggregate offline data angles of 90, 135, 180\n",
    "train130 = selectTrain(130, offlineSummary, m = 3)\n",
    "\n",
    "# Reformatted results for readability\n",
    "head(train130)\n"
   ]
  },
  {
   "cell_type": "code",
   "execution_count": 93,
   "metadata": {},
   "outputs": [
    {
     "data": {
      "text/html": [
       "166"
      ],
      "text/latex": [
       "166"
      ],
      "text/markdown": [
       "166"
      ],
      "text/plain": [
       "[1] 166"
      ]
     },
     "metadata": {},
     "output_type": "display_data"
    }
   ],
   "source": [
    "# selectTrain() averages signal strength for different angles to produce one set of signal strengths for each 166 location in training data\n",
    "length(train130[[1]])"
   ]
  },
  {
   "cell_type": "code",
   "execution_count": 94,
   "metadata": {},
   "outputs": [],
   "source": [
    "# May not want to collapse signal strengths across m angles and instead return a set of mX166 signals\n",
    "# Try alternative approach"
   ]
  },
  {
   "cell_type": "markdown",
   "metadata": {},
   "source": [
    "### 1.5.3 Finding the Nearest Neighbors\n",
    "#### have training data to use to predict location of new points; look at distance in terms of signal strengths from these training data to new point. "
   ]
  },
  {
   "cell_type": "code",
   "execution_count": 95,
   "metadata": {},
   "outputs": [],
   "source": [
    "m <- 3\n",
    "angleNewObs <- 230\n",
    "refs <- seq(0, by = 45, length = 8)\n",
    "nearestAngle <- roundOrientation(angleNewObs)\n",
    "\n",
    "if (m%%2 == 1) {\n",
    "    angles = seq(-45 * (m - 1)/2, 45 * (m - 1)/2, length = m)\n",
    "} else {\n",
    "    m = m + 1\n",
    "    angles = seq(-45 * (m - 1)/2, 45 * (m - 1)/2, length = m)\n",
    "    if (sign(angleNewObs - nearestAngle) > -1) \n",
    "        angles = angles[-1] else angles = angles[-m]\n",
    "}\n",
    "\n",
    "## m odd and even are handled seperatly. Map angles to refs Adjustments\n",
    "angles <- angles + nearestAngle\n",
    "angles[angles < 0] = angles[angles < 0] + 360\n",
    "angles[angles > 360] = angles[angles > 360] - 360"
   ]
  },
  {
   "cell_type": "code",
   "execution_count": 96,
   "metadata": {},
   "outputs": [],
   "source": [
    "offlineSubset <- offlineSummary[offlineSummary$angle %in% angles, ]"
   ]
  },
  {
   "cell_type": "code",
   "execution_count": 97,
   "metadata": {},
   "outputs": [],
   "source": [
    "reshapeSS <- function(data, varSignal = \"signal\", keepVars = c(\"posXY\", \"posX\", \n",
    "    \"posY\")) {\n",
    "    byLocation <- with(data, by(data, list(posXY), function(x) {\n",
    "        ans = x[1, keepVars]\n",
    "        avgSS = tapply(x[, varSignal], x$mac, mean)\n",
    "        y = matrix(avgSS, nrow = 1, ncol = 6, dimnames = list(ans$posXY, names(avgSS)))\n",
    "        cbind(ans, y)\n",
    "    }))\n",
    "    \n",
    "    newDataSS <- do.call(\"rbind\", byLocation)\n",
    "    return(newDataSS)\n",
    "}"
   ]
  },
  {
   "cell_type": "code",
   "execution_count": 98,
   "metadata": {},
   "outputs": [],
   "source": [
    "trainSS <- reshapeSS(offlineSubset, varSignal = \"avgSignal\")"
   ]
  },
  {
   "cell_type": "code",
   "execution_count": 99,
   "metadata": {},
   "outputs": [],
   "source": [
    "trainSS = reshapeSS(offlineSubset, varSignal = \"avgSignal\")\n",
    "\n",
    "selectTrain = function(angleNewObs, signals = NULL, m = 1) {\n",
    "    # m is the number of angles to keep between 1 and 5\n",
    "    refs = seq(0, by = 45, length = 8)\n",
    "    nearestAngle = roundOrientation(angleNewObs)\n",
    "    \n",
    "    if (m%%2 == 1) \n",
    "        angles = seq(-45 * (m - 1)/2, 45 * (m - 1)/2, length = m) else {\n",
    "        m = m + 1\n",
    "        angles = seq(-45 * (m - 1)/2, 45 * (m - 1)/2, length = m)\n",
    "        if (sign(angleNewObs - nearestAngle) > -1) \n",
    "            angles = angles[-1] else angles = angles[-m]\n",
    "    }\n",
    "    angles = angles + nearestAngle\n",
    "    angles[angles < 0] = angles[angles < 0] + 360\n",
    "    angles[angles > 360] = angles[angles > 360] - 360\n",
    "    angles = sort(angles)\n",
    "    \n",
    "    offlineSubset = signals[signals$angle %in% angles, ]\n",
    "    reshapeSS(offlineSubset, varSignal = \"avgSignal\")\n",
    "}"
   ]
  },
  {
   "cell_type": "code",
   "execution_count": 100,
   "metadata": {},
   "outputs": [
    {
     "data": {
      "text/html": [
       "<table>\n",
       "<thead><tr><th></th><th scope=col>posXY</th><th scope=col>posX</th><th scope=col>posY</th><th scope=col>00:0f:a3:39:e1:c0</th><th scope=col>00:14:bf:3b:c7:c6</th><th scope=col>00:14:bf:b1:97:81</th><th scope=col>00:14:bf:b1:97:8a</th><th scope=col>00:14:bf:b1:97:8d</th><th scope=col>00:14:bf:b1:97:90</th></tr></thead>\n",
       "<tbody>\n",
       "\t<tr><th scope=row>0-0</th><td>0-0 </td><td>0   </td><td> 0  </td><td>-52 </td><td>-66 </td><td>-63 </td><td>-36 </td><td>-64 </td><td>-55 </td></tr>\n",
       "\t<tr><th scope=row>0-1</th><td>0-1 </td><td>0   </td><td> 1  </td><td>-53 </td><td>-65 </td><td>-64 </td><td>-39 </td><td>-65 </td><td>-59 </td></tr>\n",
       "\t<tr><th scope=row>0-10</th><td>0-10</td><td>0   </td><td>10  </td><td>-56 </td><td>-66 </td><td>-69 </td><td>-45 </td><td>-67 </td><td>-50 </td></tr>\n",
       "\t<tr><th scope=row>0-11</th><td>0-11</td><td>0   </td><td>11  </td><td>-55 </td><td>-67 </td><td>-70 </td><td>-48 </td><td>-67 </td><td>-55 </td></tr>\n",
       "\t<tr><th scope=row>0-12</th><td>0-12</td><td>0   </td><td>12  </td><td>-56 </td><td>-70 </td><td>-72 </td><td>-45 </td><td>-67 </td><td>-50 </td></tr>\n",
       "\t<tr><th scope=row>0-13</th><td>0-13</td><td>0   </td><td>13  </td><td>-55 </td><td>-71 </td><td>-73 </td><td>-43 </td><td>-69 </td><td>-54 </td></tr>\n",
       "</tbody>\n",
       "</table>\n"
      ],
      "text/latex": [
       "\\begin{tabular}{r|lllllllll}\n",
       "  & posXY & posX & posY & 00:0f:a3:39:e1:c0 & 00:14:bf:3b:c7:c6 & 00:14:bf:b1:97:81 & 00:14:bf:b1:97:8a & 00:14:bf:b1:97:8d & 00:14:bf:b1:97:90\\\\\n",
       "\\hline\n",
       "\t0-0 & 0-0  & 0    &  0   & -52  & -66  & -63  & -36  & -64  & -55 \\\\\n",
       "\t0-1 & 0-1  & 0    &  1   & -53  & -65  & -64  & -39  & -65  & -59 \\\\\n",
       "\t0-10 & 0-10 & 0    & 10   & -56  & -66  & -69  & -45  & -67  & -50 \\\\\n",
       "\t0-11 & 0-11 & 0    & 11   & -55  & -67  & -70  & -48  & -67  & -55 \\\\\n",
       "\t0-12 & 0-12 & 0    & 12   & -56  & -70  & -72  & -45  & -67  & -50 \\\\\n",
       "\t0-13 & 0-13 & 0    & 13   & -55  & -71  & -73  & -43  & -69  & -54 \\\\\n",
       "\\end{tabular}\n"
      ],
      "text/markdown": [
       "\n",
       "| <!--/--> | posXY | posX | posY | 00:0f:a3:39:e1:c0 | 00:14:bf:3b:c7:c6 | 00:14:bf:b1:97:81 | 00:14:bf:b1:97:8a | 00:14:bf:b1:97:8d | 00:14:bf:b1:97:90 |\n",
       "|---|---|---|---|---|---|---|---|---|---|\n",
       "| 0-0 | 0-0  | 0    |  0   | -52  | -66  | -63  | -36  | -64  | -55  |\n",
       "| 0-1 | 0-1  | 0    |  1   | -53  | -65  | -64  | -39  | -65  | -59  |\n",
       "| 0-10 | 0-10 | 0    | 10   | -56  | -66  | -69  | -45  | -67  | -50  |\n",
       "| 0-11 | 0-11 | 0    | 11   | -55  | -67  | -70  | -48  | -67  | -55  |\n",
       "| 0-12 | 0-12 | 0    | 12   | -56  | -70  | -72  | -45  | -67  | -50  |\n",
       "| 0-13 | 0-13 | 0    | 13   | -55  | -71  | -73  | -43  | -69  | -54  |\n",
       "\n"
      ],
      "text/plain": [
       "     posXY posX posY 00:0f:a3:39:e1:c0 00:14:bf:3b:c7:c6 00:14:bf:b1:97:81\n",
       "0-0  0-0   0     0   -52               -66               -63              \n",
       "0-1  0-1   0     1   -53               -65               -64              \n",
       "0-10 0-10  0    10   -56               -66               -69              \n",
       "0-11 0-11  0    11   -55               -67               -70              \n",
       "0-12 0-12  0    12   -56               -70               -72              \n",
       "0-13 0-13  0    13   -55               -71               -73              \n",
       "     00:14:bf:b1:97:8a 00:14:bf:b1:97:8d 00:14:bf:b1:97:90\n",
       "0-0  -36               -64               -55              \n",
       "0-1  -39               -65               -59              \n",
       "0-10 -45               -67               -50              \n",
       "0-11 -48               -67               -55              \n",
       "0-12 -45               -67               -50              \n",
       "0-13 -43               -69               -54              "
      ]
     },
     "metadata": {},
     "output_type": "display_data"
    }
   ],
   "source": [
    "train130 <- selectTrain(130, offlineSummary, m = 3)\n",
    "head(train130)"
   ]
  },
  {
   "cell_type": "code",
   "execution_count": 150,
   "metadata": {},
   "outputs": [
    {
     "ename": "ERROR",
     "evalue": "Error in eval(expr, envir, enclos): object 'trainSubset' not found\n",
     "output_type": "error",
     "traceback": [
      "Error in eval(expr, envir, enclos): object 'trainSubset' not found\nTraceback:\n"
     ]
    }
   ],
   "source": [
    "trainSubset"
   ]
  },
  {
   "cell_type": "code",
   "execution_count": 101,
   "metadata": {},
   "outputs": [],
   "source": [
    "# Use findNN() to calcluate distance from new point to all observations in training set\n",
    "# Parameters are numeric vector of 6 new signal strengths and the return value from selectTrain()\n",
    "# Returns locations of training observations in order of closeness to new observation's signal strength\n",
    "\n",
    "findNN = function(newSignal, trainSubset) {\n",
    "  diffs = apply(trainSubset[ , 4:9], 1, \n",
    "                function(x) x - newSignal)\n",
    "  dists = apply(diffs, 2, function(x) sqrt(sum(x^2)) )\n",
    "  closest = order(dists)\n",
    "  return(trainSubset[closest, 1:3 ])\n",
    "}\n"
   ]
  },
  {
   "cell_type": "code",
   "execution_count": 102,
   "metadata": {},
   "outputs": [],
   "source": [
    "# Two functions, trainSelect() and findNN(), to provide locations in trainig data that have signals strengths close to test obsercvation.\n",
    "# Formalize approach to make predictions for all test data, with predXY()\n",
    "predXY <- function(newSignals, newAngles, trainData, numAngles = 1, k = 5) {\n",
    "    \n",
    "    closeXY = list(length = nrow(newSignals))\n",
    "    \n",
    "    for (i in 1:nrow(newSignals)) {\n",
    "        trainSS = selectTrain(newAngles[i], trainData, m = numAngles)\n",
    "        closeXY[[i]] = findNN(newSignal = as.numeric(newSignals[i, ]), trainSS)\n",
    "    }\n",
    "    \n",
    "    estXY = lapply(closeXY, function(x) sapply(x[, 2:3], function(x) mean(x[1:k])))\n",
    "    estXY = do.call(\"rbind\", estXY)\n",
    "    return(estXY)\n",
    "}"
   ]
  },
  {
   "cell_type": "markdown",
   "metadata": {},
   "source": [
    "### 1.5.4 Cross-Validation and Choice of k\n",
    "#### Choice of k - number of neighbors to include in estimate of new observation's position - is a model select problem. Cross validation can help here. "
   ]
  },
  {
   "cell_type": "code",
   "execution_count": 103,
   "metadata": {},
   "outputs": [
    {
     "name": "stderr",
     "output_type": "stream",
     "text": [
      "Warning message in matrix(permuteLocs, ncol = v, nrow = floor(length(permuteLocs)/v)):\n",
      "\"data length [166] is not a sub-multiple or multiple of the number of rows [15]\""
     ]
    }
   ],
   "source": [
    "# Use all 8 orientations and 6 MAC addresses with each location\n",
    "# Cross Validate on 166 locations\n",
    "# try v = 11, each fold has floor(166/v), or 15 locations\n",
    "\n",
    "v = 11\n",
    "permuteLocs = sample(unique(offlineSummary$posXY))\n",
    "permuteLocs = matrix(permuteLocs, ncol = v, \n",
    "                     nrow = floor(length(permuteLocs)/v))\n",
    "\n",
    "onlineFold = subset(offlineSummary, posXY %in% permuteLocs[ , 1])\n",
    "\n",
    "# Warning message with matrix() because v doesn't divide evenly into 166, so permuteLocs doesn't have all 166 locations."
   ]
  },
  {
   "cell_type": "code",
   "execution_count": 104,
   "metadata": {},
   "outputs": [],
   "source": [
    "# Summarize data so data structure matches online Summary, includes selecting an orientation at random because each test observation has only 1 orientation\n",
    "# Online data has structure that had 6 columns of signal strength, one for each access point\n",
    "# Create test data from offline and divide into folds, augment reshapeSS()\n",
    "\n",
    "reshapeSS = function(data, varSignal = \"signal\", \n",
    "                     keepVars = c(\"posXY\", \"posX\",\"posY\"),\n",
    "                     sampleAngle = FALSE, \n",
    "                     refs = seq(0, 315, by = 45)) {\n",
    "  byLocation =\n",
    "    with(data, by(data, list(posXY), \n",
    "                  function(x) {\n",
    "                    if (sampleAngle) {\n",
    "                      x = x[x$angle == sample(refs, size = 1), ]}\n",
    "                    ans = x[1, keepVars]\n",
    "                    avgSS = tapply(x[ , varSignal ], x$mac, mean)\n",
    "                    y = matrix(avgSS, nrow = 1, ncol = 6,\n",
    "                               dimnames = list(ans$posXY,\n",
    "                                               names(avgSS)))\n",
    "                    cbind(ans, y)\n",
    "                  }))\n",
    "  \n",
    "  newDataSS = do.call(\"rbind\", byLocation)\n",
    "  return(newDataSS)\n",
    "}\n"
   ]
  },
  {
   "cell_type": "code",
   "execution_count": 112,
   "metadata": {},
   "outputs": [],
   "source": [
    "# Summarize and format offline (after revising reshapeSS() and augmenting with sampleAngle with default = FALSE)\n",
    "\n",
    "offline = offline[ offline$mac != \"00:0f:a3:39:dd:cd\", ]\n",
    "\n",
    "keepVars = c(\"posXY\", \"posX\",\"posY\", \"orientation\", \"angle\")\n",
    "\n",
    "onlineCVSummary = reshapeSS(offline, keepVars = keepVars, \n",
    "                            sampleAngle = TRUE)"
   ]
  },
  {
   "cell_type": "code",
   "execution_count": 106,
   "metadata": {},
   "outputs": [],
   "source": [
    "# First fold\n",
    "onlineFold = subset(onlineCVSummary, \n",
    "                    posXY %in% permuteLocs[ , 1])"
   ]
  },
  {
   "cell_type": "code",
   "execution_count": 109,
   "metadata": {},
   "outputs": [
    {
     "data": {
      "text/html": [
       "<table>\n",
       "<thead><tr><th></th><th scope=col>posXY</th><th scope=col>posX</th><th scope=col>posY</th><th scope=col>orientation</th><th scope=col>angle</th><th scope=col>00:0f:a3:39:e1:c0</th><th scope=col>00:14:bf:3b:c7:c6</th><th scope=col>00:14:bf:b1:97:81</th><th scope=col>00:14:bf:b1:97:8a</th><th scope=col>00:14:bf:b1:97:8d</th><th scope=col>00:14:bf:b1:97:90</th></tr></thead>\n",
       "<tbody>\n",
       "\t<tr><th scope=row>0-0</th><td>0-0  </td><td> 0   </td><td> 0   </td><td>270.1</td><td>270  </td><td>-55  </td><td>-68  </td><td>-68  </td><td>-39  </td><td>-64  </td><td>-58  </td></tr>\n",
       "\t<tr><th scope=row>0-1</th><td>0-1  </td><td> 0   </td><td> 1   </td><td>180.1</td><td>180  </td><td>-50  </td><td>-64  </td><td>-63  </td><td>-37  </td><td>-68  </td><td>-59  </td></tr>\n",
       "\t<tr><th scope=row>0-10</th><td>0-10 </td><td> 0   </td><td>10   </td><td>314.7</td><td>315  </td><td>-55  </td><td>-65  </td><td>-61  </td><td>-40  </td><td>-60  </td><td>-58  </td></tr>\n",
       "\t<tr><th scope=row>0-11</th><td>0-11 </td><td> 0   </td><td>11   </td><td>270.2</td><td>270  </td><td>-58  </td><td>-66  </td><td>-60  </td><td>-49  </td><td>-66  </td><td>-53  </td></tr>\n",
       "\t<tr><th scope=row>0-12</th><td>0-12 </td><td> 0   </td><td>12   </td><td> 90.3</td><td> 90  </td><td>-58  </td><td>-71  </td><td>-75  </td><td>-49  </td><td>-68  </td><td>-53  </td></tr>\n",
       "\t<tr><th scope=row>0-13</th><td>0-13 </td><td> 0   </td><td>13   </td><td> 44.9</td><td> 45  </td><td>-59  </td><td>-72  </td><td>-75  </td><td>-46  </td><td>-70  </td><td>-54  </td></tr>\n",
       "\t<tr><th scope=row>0-2</th><td>0-2  </td><td> 0   </td><td> 2   </td><td> 90.3</td><td> 90  </td><td>-54  </td><td>-61  </td><td>-61  </td><td>-46  </td><td>-58  </td><td>-51  </td></tr>\n",
       "\t<tr><th scope=row>0-3</th><td>0-3  </td><td> 0   </td><td> 3   </td><td>270.5</td><td>270  </td><td>-59  </td><td>-68  </td><td>-57  </td><td>-35  </td><td>-65  </td><td>-56  </td></tr>\n",
       "\t<tr><th scope=row>0-4</th><td>0-4  </td><td> 0   </td><td> 4   </td><td>226.0</td><td>225  </td><td>-55  </td><td>-61  </td><td>-56  </td><td>-44  </td><td>-63  </td><td>-53  </td></tr>\n",
       "\t<tr><th scope=row>0-7</th><td>0-7  </td><td> 0   </td><td> 7   </td><td>  0.3</td><td>  0  </td><td>-57  </td><td>-66  </td><td>-66  </td><td>-46  </td><td>-55  </td><td>-62  </td></tr>\n",
       "\t<tr><th scope=row>0-8</th><td>0-8  </td><td> 0   </td><td> 8   </td><td> 90.2</td><td> 90  </td><td>-56  </td><td>-70  </td><td>-65  </td><td>-50  </td><td>-55  </td><td>-52  </td></tr>\n",
       "\t<tr><th scope=row>0-9</th><td>0-9  </td><td> 0   </td><td> 9   </td><td> 90.1</td><td> 90  </td><td>-49  </td><td>-69  </td><td>-66  </td><td>-49  </td><td>-65  </td><td>-52  </td></tr>\n",
       "\t<tr><th scope=row>1-0</th><td>1-0  </td><td> 1   </td><td> 0   </td><td> 90.7</td><td> 90  </td><td>-47  </td><td>-64  </td><td>-64  </td><td>-33  </td><td>-66  </td><td>-56  </td></tr>\n",
       "\t<tr><th scope=row>1-1</th><td>1-1  </td><td> 1   </td><td> 1   </td><td>180.4</td><td>180  </td><td>-55  </td><td>-62  </td><td>-66  </td><td>-42  </td><td>-67  </td><td>-57  </td></tr>\n",
       "\t<tr><th scope=row>1-10</th><td>1-10 </td><td> 1   </td><td>10   </td><td>315.0</td><td>315  </td><td>-53  </td><td>-68  </td><td>-72  </td><td>-50  </td><td>-67  </td><td>-52  </td></tr>\n",
       "\t<tr><th scope=row>1-11</th><td>1-11 </td><td> 1   </td><td>11   </td><td>135.3</td><td>135  </td><td>-56  </td><td>-70  </td><td>-70  </td><td>-45  </td><td>-62  </td><td>-52  </td></tr>\n",
       "\t<tr><th scope=row>1-12</th><td>1-12 </td><td> 1   </td><td>12   </td><td>315.2</td><td>315  </td><td>-50  </td><td>-68  </td><td>-70  </td><td>-45  </td><td>-63  </td><td>-47  </td></tr>\n",
       "\t<tr><th scope=row>1-13</th><td>1-13 </td><td> 1   </td><td>13   </td><td>180.3</td><td>180  </td><td>-57  </td><td>-70  </td><td>-74  </td><td>-42  </td><td>-68  </td><td>-49  </td></tr>\n",
       "\t<tr><th scope=row>1-2</th><td>1-2  </td><td> 1   </td><td> 2   </td><td>269.4</td><td>270  </td><td>-61  </td><td>-66  </td><td>-61  </td><td>-38  </td><td>-68  </td><td>-59  </td></tr>\n",
       "\t<tr><th scope=row>1-3</th><td>1-3  </td><td> 1   </td><td> 3   </td><td>180.0</td><td>180  </td><td>-55  </td><td>-63  </td><td>-54  </td><td>-42  </td><td>-57  </td><td>-59  </td></tr>\n",
       "\t<tr><th scope=row>1-4</th><td>1-4  </td><td> 1   </td><td> 4   </td><td> 89.2</td><td> 90  </td><td>-54  </td><td>-60  </td><td>-59  </td><td>-44  </td><td>-61  </td><td>-53  </td></tr>\n",
       "\t<tr><th scope=row>1-5</th><td>1-5  </td><td> 1   </td><td> 5   </td><td>315.5</td><td>315  </td><td>-58  </td><td>-70  </td><td>-63  </td><td>-42  </td><td>-62  </td><td>-51  </td></tr>\n",
       "\t<tr><th scope=row>1-6</th><td>1-6  </td><td> 1   </td><td> 6   </td><td>225.1</td><td>225  </td><td>-52  </td><td>-67  </td><td>-58  </td><td>-48  </td><td>-61  </td><td>-57  </td></tr>\n",
       "\t<tr><th scope=row>1-7</th><td>1-7  </td><td> 1   </td><td> 7   </td><td> 45.3</td><td> 45  </td><td>-52  </td><td>-69  </td><td>-65  </td><td>-45  </td><td>-50  </td><td>-54  </td></tr>\n",
       "\t<tr><th scope=row>1-8</th><td>1-8  </td><td> 1   </td><td> 8   </td><td>270.2</td><td>270  </td><td>-53  </td><td>-66  </td><td>-59  </td><td>-50  </td><td>-50  </td><td>-55  </td></tr>\n",
       "\t<tr><th scope=row>1-9</th><td>1-9  </td><td> 1   </td><td> 9   </td><td>315.1</td><td>315  </td><td>-51  </td><td>-64  </td><td>-61  </td><td>-41  </td><td>-63  </td><td>-53  </td></tr>\n",
       "\t<tr><th scope=row>10-3</th><td>10-3 </td><td>10   </td><td> 3   </td><td>135.4</td><td>135  </td><td>-50  </td><td>-49  </td><td>-51  </td><td>-61  </td><td>-57  </td><td>-67  </td></tr>\n",
       "\t<tr><th scope=row>10-4</th><td>10-4 </td><td>10   </td><td> 4   </td><td>314.8</td><td>315  </td><td>-47  </td><td>-54  </td><td>-60  </td><td>-53  </td><td>-60  </td><td>-66  </td></tr>\n",
       "\t<tr><th scope=row>10-5</th><td>10-5 </td><td>10   </td><td> 5   </td><td>  0.1</td><td>  0  </td><td>-44  </td><td>-54  </td><td>-55  </td><td>-55  </td><td>-58  </td><td>-73  </td></tr>\n",
       "\t<tr><th scope=row>10-6</th><td>10-6 </td><td>10   </td><td> 6   </td><td>180.8</td><td>180  </td><td>-42  </td><td>-54  </td><td>-58  </td><td>-58  </td><td>-57  </td><td>-62  </td></tr>\n",
       "\t<tr><th scope=row>...</th><td>...</td><td>...</td><td>...</td><td>...</td><td>...</td><td>...</td><td>...</td><td>...</td><td>...</td><td>...</td><td>...</td></tr>\n",
       "\t<tr><th scope=row>31-8</th><td>31-8 </td><td>31   </td><td>8    </td><td> 46.8</td><td> 45  </td><td>-59  </td><td>-64  </td><td>-47  </td><td>-63  </td><td>-46  </td><td>-77  </td></tr>\n",
       "\t<tr><th scope=row>32-3</th><td>32-3 </td><td>32   </td><td>3    </td><td>270.4</td><td>270  </td><td>-64  </td><td>-66  </td><td>-46  </td><td>-64  </td><td>-50  </td><td>-75  </td></tr>\n",
       "\t<tr><th scope=row>32-4</th><td>32-4 </td><td>32   </td><td>4    </td><td>225.0</td><td>225  </td><td>-62  </td><td>-67  </td><td>-35  </td><td>-74  </td><td>-42  </td><td>-74  </td></tr>\n",
       "\t<tr><th scope=row>32-5</th><td>32-5 </td><td>32   </td><td>5    </td><td>314.2</td><td>315  </td><td>-64  </td><td>-71  </td><td>-47  </td><td>-68  </td><td>-42  </td><td>-82  </td></tr>\n",
       "\t<tr><th scope=row>32-6</th><td>32-6 </td><td>32   </td><td>6    </td><td>  0.2</td><td>  0  </td><td>-58  </td><td>-69  </td><td>-51  </td><td>-70  </td><td>-44  </td><td>-81  </td></tr>\n",
       "\t<tr><th scope=row>32-7</th><td>32-7 </td><td>32   </td><td>7    </td><td>225.1</td><td>225  </td><td>-58  </td><td>-61  </td><td>-46  </td><td>-61  </td><td>-39  </td><td>-74  </td></tr>\n",
       "\t<tr><th scope=row>32-8</th><td>32-8 </td><td>32   </td><td>8    </td><td>270.9</td><td>270  </td><td>-55  </td><td>-68  </td><td>-44  </td><td>-69  </td><td>-46  </td><td>-78  </td></tr>\n",
       "\t<tr><th scope=row>33-3</th><td>33-3 </td><td>33   </td><td>3    </td><td>269.7</td><td>270  </td><td>-64  </td><td>-71  </td><td>-47  </td><td>-65  </td><td>-46  </td><td>-84  </td></tr>\n",
       "\t<tr><th scope=row>33-4</th><td>33-4 </td><td>33   </td><td>4    </td><td>225.7</td><td>225  </td><td>-60  </td><td>-66  </td><td>-45  </td><td>-64  </td><td>-48  </td><td>-75  </td></tr>\n",
       "\t<tr><th scope=row>33-7</th><td>33-7 </td><td>33   </td><td>7    </td><td> 90.3</td><td> 90  </td><td>-54  </td><td>-65  </td><td>-47  </td><td>-66  </td><td>-34  </td><td>-69  </td></tr>\n",
       "\t<tr><th scope=row>33-8</th><td>33-8 </td><td>33   </td><td>8    </td><td>179.6</td><td>180  </td><td>-56  </td><td>-71  </td><td>-46  </td><td>-67  </td><td>-33  </td><td>-76  </td></tr>\n",
       "\t<tr><th scope=row>4-3</th><td>4-3  </td><td> 4   </td><td>3    </td><td> 90.3</td><td> 90  </td><td>-47  </td><td>-59  </td><td>-55  </td><td>-52  </td><td>-57  </td><td>-57  </td></tr>\n",
       "\t<tr><th scope=row>4-7</th><td>4-7  </td><td> 4   </td><td>7    </td><td>315.9</td><td>315  </td><td>-51  </td><td>-64  </td><td>-63  </td><td>-49  </td><td>-57  </td><td>-55  </td></tr>\n",
       "\t<tr><th scope=row>4-8</th><td>4-8  </td><td> 4   </td><td>8    </td><td> 45.2</td><td> 45  </td><td>-45  </td><td>-62  </td><td>-55  </td><td>-52  </td><td>-51  </td><td>-65  </td></tr>\n",
       "\t<tr><th scope=row>5-3</th><td>5-3  </td><td> 5   </td><td>3    </td><td>225.3</td><td>225  </td><td>-44  </td><td>-59  </td><td>-58  </td><td>-50  </td><td>-57  </td><td>-60  </td></tr>\n",
       "\t<tr><th scope=row>5-7</th><td>5-7  </td><td> 5   </td><td>7    </td><td> 90.5</td><td> 90  </td><td>-47  </td><td>-61  </td><td>-58  </td><td>-51  </td><td>-49  </td><td>-59  </td></tr>\n",
       "\t<tr><th scope=row>5-8</th><td>5-8  </td><td> 5   </td><td>8    </td><td>179.4</td><td>180  </td><td>-50  </td><td>-62  </td><td>-61  </td><td>-52  </td><td>-48  </td><td>-56  </td></tr>\n",
       "\t<tr><th scope=row>6-3</th><td>6-3  </td><td> 6   </td><td>3    </td><td>225.7</td><td>225  </td><td>-50  </td><td>-57  </td><td>-56  </td><td>-53  </td><td>-58  </td><td>-56  </td></tr>\n",
       "\t<tr><th scope=row>6-7</th><td>6-7  </td><td> 6   </td><td>7    </td><td>316.5</td><td>315  </td><td>-45  </td><td>-58  </td><td>-67  </td><td>-46  </td><td>-56  </td><td>-56  </td></tr>\n",
       "\t<tr><th scope=row>6-8</th><td>6-8  </td><td> 6   </td><td>8    </td><td>271.5</td><td>270  </td><td>-45  </td><td>-59  </td><td>-64  </td><td>-54  </td><td>-57  </td><td>-58  </td></tr>\n",
       "\t<tr><th scope=row>7-3</th><td>7-3  </td><td> 7   </td><td>3    </td><td>225.0</td><td>225  </td><td>-49  </td><td>-53  </td><td>-51  </td><td>-52  </td><td>-54  </td><td>-60  </td></tr>\n",
       "\t<tr><th scope=row>7-7</th><td>7-7  </td><td> 7   </td><td>7    </td><td>314.9</td><td>315  </td><td>-47  </td><td>-58  </td><td>-64  </td><td>-52  </td><td>-58  </td><td>-61  </td></tr>\n",
       "\t<tr><th scope=row>7-8</th><td>7-8  </td><td> 7   </td><td>8    </td><td>270.9</td><td>270  </td><td>-43  </td><td>-54  </td><td>-59  </td><td>-50  </td><td>-53  </td><td>-71  </td></tr>\n",
       "\t<tr><th scope=row>8-3</th><td>8-3  </td><td> 8   </td><td>3    </td><td>225.6</td><td>225  </td><td>-47  </td><td>-52  </td><td>-57  </td><td>-48  </td><td>-60  </td><td>-63  </td></tr>\n",
       "\t<tr><th scope=row>8-7</th><td>8-7  </td><td> 8   </td><td>7    </td><td>314.6</td><td>315  </td><td>-53  </td><td>-59  </td><td>-60  </td><td>-53  </td><td>-61  </td><td>-63  </td></tr>\n",
       "\t<tr><th scope=row>8-8</th><td>8-8  </td><td> 8   </td><td>8    </td><td> 44.9</td><td> 45  </td><td>-52  </td><td>-60  </td><td>-59  </td><td>-59  </td><td>-54  </td><td>-65  </td></tr>\n",
       "\t<tr><th scope=row>9-3</th><td>9-3  </td><td> 9   </td><td>3    </td><td>  0.4</td><td>  0  </td><td>-49  </td><td>-49  </td><td>-57  </td><td>-47  </td><td>-56  </td><td>-60  </td></tr>\n",
       "\t<tr><th scope=row>9-4</th><td>9-4  </td><td> 9   </td><td>4    </td><td>270.4</td><td>270  </td><td>-45  </td><td>-52  </td><td>-62  </td><td>-58  </td><td>-61  </td><td>-65  </td></tr>\n",
       "\t<tr><th scope=row>9-7</th><td>9-7  </td><td> 9   </td><td>7    </td><td>  0.3</td><td>  0  </td><td>-53  </td><td>-59  </td><td>-60  </td><td>-59  </td><td>-56  </td><td>-68  </td></tr>\n",
       "\t<tr><th scope=row>9-8</th><td>9-8  </td><td> 9   </td><td>8    </td><td>225.0</td><td>225  </td><td>-53  </td><td>-53  </td><td>-57  </td><td>-59  </td><td>-47  </td><td>-66  </td></tr>\n",
       "</tbody>\n",
       "</table>\n"
      ],
      "text/latex": [
       "\\begin{tabular}{r|lllllllllll}\n",
       "  & posXY & posX & posY & orientation & angle & 00:0f:a3:39:e1:c0 & 00:14:bf:3b:c7:c6 & 00:14:bf:b1:97:81 & 00:14:bf:b1:97:8a & 00:14:bf:b1:97:8d & 00:14:bf:b1:97:90\\\\\n",
       "\\hline\n",
       "\t0-0 & 0-0   &  0    &  0    & 270.1 & 270   & -55   & -68   & -68   & -39   & -64   & -58  \\\\\n",
       "\t0-1 & 0-1   &  0    &  1    & 180.1 & 180   & -50   & -64   & -63   & -37   & -68   & -59  \\\\\n",
       "\t0-10 & 0-10  &  0    & 10    & 314.7 & 315   & -55   & -65   & -61   & -40   & -60   & -58  \\\\\n",
       "\t0-11 & 0-11  &  0    & 11    & 270.2 & 270   & -58   & -66   & -60   & -49   & -66   & -53  \\\\\n",
       "\t0-12 & 0-12  &  0    & 12    &  90.3 &  90   & -58   & -71   & -75   & -49   & -68   & -53  \\\\\n",
       "\t0-13 & 0-13  &  0    & 13    &  44.9 &  45   & -59   & -72   & -75   & -46   & -70   & -54  \\\\\n",
       "\t0-2 & 0-2   &  0    &  2    &  90.3 &  90   & -54   & -61   & -61   & -46   & -58   & -51  \\\\\n",
       "\t0-3 & 0-3   &  0    &  3    & 270.5 & 270   & -59   & -68   & -57   & -35   & -65   & -56  \\\\\n",
       "\t0-4 & 0-4   &  0    &  4    & 226.0 & 225   & -55   & -61   & -56   & -44   & -63   & -53  \\\\\n",
       "\t0-7 & 0-7   &  0    &  7    &   0.3 &   0   & -57   & -66   & -66   & -46   & -55   & -62  \\\\\n",
       "\t0-8 & 0-8   &  0    &  8    &  90.2 &  90   & -56   & -70   & -65   & -50   & -55   & -52  \\\\\n",
       "\t0-9 & 0-9   &  0    &  9    &  90.1 &  90   & -49   & -69   & -66   & -49   & -65   & -52  \\\\\n",
       "\t1-0 & 1-0   &  1    &  0    &  90.7 &  90   & -47   & -64   & -64   & -33   & -66   & -56  \\\\\n",
       "\t1-1 & 1-1   &  1    &  1    & 180.4 & 180   & -55   & -62   & -66   & -42   & -67   & -57  \\\\\n",
       "\t1-10 & 1-10  &  1    & 10    & 315.0 & 315   & -53   & -68   & -72   & -50   & -67   & -52  \\\\\n",
       "\t1-11 & 1-11  &  1    & 11    & 135.3 & 135   & -56   & -70   & -70   & -45   & -62   & -52  \\\\\n",
       "\t1-12 & 1-12  &  1    & 12    & 315.2 & 315   & -50   & -68   & -70   & -45   & -63   & -47  \\\\\n",
       "\t1-13 & 1-13  &  1    & 13    & 180.3 & 180   & -57   & -70   & -74   & -42   & -68   & -49  \\\\\n",
       "\t1-2 & 1-2   &  1    &  2    & 269.4 & 270   & -61   & -66   & -61   & -38   & -68   & -59  \\\\\n",
       "\t1-3 & 1-3   &  1    &  3    & 180.0 & 180   & -55   & -63   & -54   & -42   & -57   & -59  \\\\\n",
       "\t1-4 & 1-4   &  1    &  4    &  89.2 &  90   & -54   & -60   & -59   & -44   & -61   & -53  \\\\\n",
       "\t1-5 & 1-5   &  1    &  5    & 315.5 & 315   & -58   & -70   & -63   & -42   & -62   & -51  \\\\\n",
       "\t1-6 & 1-6   &  1    &  6    & 225.1 & 225   & -52   & -67   & -58   & -48   & -61   & -57  \\\\\n",
       "\t1-7 & 1-7   &  1    &  7    &  45.3 &  45   & -52   & -69   & -65   & -45   & -50   & -54  \\\\\n",
       "\t1-8 & 1-8   &  1    &  8    & 270.2 & 270   & -53   & -66   & -59   & -50   & -50   & -55  \\\\\n",
       "\t1-9 & 1-9   &  1    &  9    & 315.1 & 315   & -51   & -64   & -61   & -41   & -63   & -53  \\\\\n",
       "\t10-3 & 10-3  & 10    &  3    & 135.4 & 135   & -50   & -49   & -51   & -61   & -57   & -67  \\\\\n",
       "\t10-4 & 10-4  & 10    &  4    & 314.8 & 315   & -47   & -54   & -60   & -53   & -60   & -66  \\\\\n",
       "\t10-5 & 10-5  & 10    &  5    &   0.1 &   0   & -44   & -54   & -55   & -55   & -58   & -73  \\\\\n",
       "\t10-6 & 10-6  & 10    &  6    & 180.8 & 180   & -42   & -54   & -58   & -58   & -57   & -62  \\\\\n",
       "\t... & ... & ... & ... & ... & ... & ... & ... & ... & ... & ... & ...\\\\\n",
       "\t31-8 & 31-8  & 31    & 8     &  46.8 &  45   & -59   & -64   & -47   & -63   & -46   & -77  \\\\\n",
       "\t32-3 & 32-3  & 32    & 3     & 270.4 & 270   & -64   & -66   & -46   & -64   & -50   & -75  \\\\\n",
       "\t32-4 & 32-4  & 32    & 4     & 225.0 & 225   & -62   & -67   & -35   & -74   & -42   & -74  \\\\\n",
       "\t32-5 & 32-5  & 32    & 5     & 314.2 & 315   & -64   & -71   & -47   & -68   & -42   & -82  \\\\\n",
       "\t32-6 & 32-6  & 32    & 6     &   0.2 &   0   & -58   & -69   & -51   & -70   & -44   & -81  \\\\\n",
       "\t32-7 & 32-7  & 32    & 7     & 225.1 & 225   & -58   & -61   & -46   & -61   & -39   & -74  \\\\\n",
       "\t32-8 & 32-8  & 32    & 8     & 270.9 & 270   & -55   & -68   & -44   & -69   & -46   & -78  \\\\\n",
       "\t33-3 & 33-3  & 33    & 3     & 269.7 & 270   & -64   & -71   & -47   & -65   & -46   & -84  \\\\\n",
       "\t33-4 & 33-4  & 33    & 4     & 225.7 & 225   & -60   & -66   & -45   & -64   & -48   & -75  \\\\\n",
       "\t33-7 & 33-7  & 33    & 7     &  90.3 &  90   & -54   & -65   & -47   & -66   & -34   & -69  \\\\\n",
       "\t33-8 & 33-8  & 33    & 8     & 179.6 & 180   & -56   & -71   & -46   & -67   & -33   & -76  \\\\\n",
       "\t4-3 & 4-3   &  4    & 3     &  90.3 &  90   & -47   & -59   & -55   & -52   & -57   & -57  \\\\\n",
       "\t4-7 & 4-7   &  4    & 7     & 315.9 & 315   & -51   & -64   & -63   & -49   & -57   & -55  \\\\\n",
       "\t4-8 & 4-8   &  4    & 8     &  45.2 &  45   & -45   & -62   & -55   & -52   & -51   & -65  \\\\\n",
       "\t5-3 & 5-3   &  5    & 3     & 225.3 & 225   & -44   & -59   & -58   & -50   & -57   & -60  \\\\\n",
       "\t5-7 & 5-7   &  5    & 7     &  90.5 &  90   & -47   & -61   & -58   & -51   & -49   & -59  \\\\\n",
       "\t5-8 & 5-8   &  5    & 8     & 179.4 & 180   & -50   & -62   & -61   & -52   & -48   & -56  \\\\\n",
       "\t6-3 & 6-3   &  6    & 3     & 225.7 & 225   & -50   & -57   & -56   & -53   & -58   & -56  \\\\\n",
       "\t6-7 & 6-7   &  6    & 7     & 316.5 & 315   & -45   & -58   & -67   & -46   & -56   & -56  \\\\\n",
       "\t6-8 & 6-8   &  6    & 8     & 271.5 & 270   & -45   & -59   & -64   & -54   & -57   & -58  \\\\\n",
       "\t7-3 & 7-3   &  7    & 3     & 225.0 & 225   & -49   & -53   & -51   & -52   & -54   & -60  \\\\\n",
       "\t7-7 & 7-7   &  7    & 7     & 314.9 & 315   & -47   & -58   & -64   & -52   & -58   & -61  \\\\\n",
       "\t7-8 & 7-8   &  7    & 8     & 270.9 & 270   & -43   & -54   & -59   & -50   & -53   & -71  \\\\\n",
       "\t8-3 & 8-3   &  8    & 3     & 225.6 & 225   & -47   & -52   & -57   & -48   & -60   & -63  \\\\\n",
       "\t8-7 & 8-7   &  8    & 7     & 314.6 & 315   & -53   & -59   & -60   & -53   & -61   & -63  \\\\\n",
       "\t8-8 & 8-8   &  8    & 8     &  44.9 &  45   & -52   & -60   & -59   & -59   & -54   & -65  \\\\\n",
       "\t9-3 & 9-3   &  9    & 3     &   0.4 &   0   & -49   & -49   & -57   & -47   & -56   & -60  \\\\\n",
       "\t9-4 & 9-4   &  9    & 4     & 270.4 & 270   & -45   & -52   & -62   & -58   & -61   & -65  \\\\\n",
       "\t9-7 & 9-7   &  9    & 7     &   0.3 &   0   & -53   & -59   & -60   & -59   & -56   & -68  \\\\\n",
       "\t9-8 & 9-8   &  9    & 8     & 225.0 & 225   & -53   & -53   & -57   & -59   & -47   & -66  \\\\\n",
       "\\end{tabular}\n"
      ],
      "text/markdown": [
       "\n",
       "| <!--/--> | posXY | posX | posY | orientation | angle | 00:0f:a3:39:e1:c0 | 00:14:bf:3b:c7:c6 | 00:14:bf:b1:97:81 | 00:14:bf:b1:97:8a | 00:14:bf:b1:97:8d | 00:14:bf:b1:97:90 |\n",
       "|---|---|---|---|---|---|---|---|---|---|---|---|\n",
       "| 0-0 | 0-0   |  0    |  0    | 270.1 | 270   | -55   | -68   | -68   | -39   | -64   | -58   |\n",
       "| 0-1 | 0-1   |  0    |  1    | 180.1 | 180   | -50   | -64   | -63   | -37   | -68   | -59   |\n",
       "| 0-10 | 0-10  |  0    | 10    | 314.7 | 315   | -55   | -65   | -61   | -40   | -60   | -58   |\n",
       "| 0-11 | 0-11  |  0    | 11    | 270.2 | 270   | -58   | -66   | -60   | -49   | -66   | -53   |\n",
       "| 0-12 | 0-12  |  0    | 12    |  90.3 |  90   | -58   | -71   | -75   | -49   | -68   | -53   |\n",
       "| 0-13 | 0-13  |  0    | 13    |  44.9 |  45   | -59   | -72   | -75   | -46   | -70   | -54   |\n",
       "| 0-2 | 0-2   |  0    |  2    |  90.3 |  90   | -54   | -61   | -61   | -46   | -58   | -51   |\n",
       "| 0-3 | 0-3   |  0    |  3    | 270.5 | 270   | -59   | -68   | -57   | -35   | -65   | -56   |\n",
       "| 0-4 | 0-4   |  0    |  4    | 226.0 | 225   | -55   | -61   | -56   | -44   | -63   | -53   |\n",
       "| 0-7 | 0-7   |  0    |  7    |   0.3 |   0   | -57   | -66   | -66   | -46   | -55   | -62   |\n",
       "| 0-8 | 0-8   |  0    |  8    |  90.2 |  90   | -56   | -70   | -65   | -50   | -55   | -52   |\n",
       "| 0-9 | 0-9   |  0    |  9    |  90.1 |  90   | -49   | -69   | -66   | -49   | -65   | -52   |\n",
       "| 1-0 | 1-0   |  1    |  0    |  90.7 |  90   | -47   | -64   | -64   | -33   | -66   | -56   |\n",
       "| 1-1 | 1-1   |  1    |  1    | 180.4 | 180   | -55   | -62   | -66   | -42   | -67   | -57   |\n",
       "| 1-10 | 1-10  |  1    | 10    | 315.0 | 315   | -53   | -68   | -72   | -50   | -67   | -52   |\n",
       "| 1-11 | 1-11  |  1    | 11    | 135.3 | 135   | -56   | -70   | -70   | -45   | -62   | -52   |\n",
       "| 1-12 | 1-12  |  1    | 12    | 315.2 | 315   | -50   | -68   | -70   | -45   | -63   | -47   |\n",
       "| 1-13 | 1-13  |  1    | 13    | 180.3 | 180   | -57   | -70   | -74   | -42   | -68   | -49   |\n",
       "| 1-2 | 1-2   |  1    |  2    | 269.4 | 270   | -61   | -66   | -61   | -38   | -68   | -59   |\n",
       "| 1-3 | 1-3   |  1    |  3    | 180.0 | 180   | -55   | -63   | -54   | -42   | -57   | -59   |\n",
       "| 1-4 | 1-4   |  1    |  4    |  89.2 |  90   | -54   | -60   | -59   | -44   | -61   | -53   |\n",
       "| 1-5 | 1-5   |  1    |  5    | 315.5 | 315   | -58   | -70   | -63   | -42   | -62   | -51   |\n",
       "| 1-6 | 1-6   |  1    |  6    | 225.1 | 225   | -52   | -67   | -58   | -48   | -61   | -57   |\n",
       "| 1-7 | 1-7   |  1    |  7    |  45.3 |  45   | -52   | -69   | -65   | -45   | -50   | -54   |\n",
       "| 1-8 | 1-8   |  1    |  8    | 270.2 | 270   | -53   | -66   | -59   | -50   | -50   | -55   |\n",
       "| 1-9 | 1-9   |  1    |  9    | 315.1 | 315   | -51   | -64   | -61   | -41   | -63   | -53   |\n",
       "| 10-3 | 10-3  | 10    |  3    | 135.4 | 135   | -50   | -49   | -51   | -61   | -57   | -67   |\n",
       "| 10-4 | 10-4  | 10    |  4    | 314.8 | 315   | -47   | -54   | -60   | -53   | -60   | -66   |\n",
       "| 10-5 | 10-5  | 10    |  5    |   0.1 |   0   | -44   | -54   | -55   | -55   | -58   | -73   |\n",
       "| 10-6 | 10-6  | 10    |  6    | 180.8 | 180   | -42   | -54   | -58   | -58   | -57   | -62   |\n",
       "| ... | ... | ... | ... | ... | ... | ... | ... | ... | ... | ... | ... |\n",
       "| 31-8 | 31-8  | 31    | 8     |  46.8 |  45   | -59   | -64   | -47   | -63   | -46   | -77   |\n",
       "| 32-3 | 32-3  | 32    | 3     | 270.4 | 270   | -64   | -66   | -46   | -64   | -50   | -75   |\n",
       "| 32-4 | 32-4  | 32    | 4     | 225.0 | 225   | -62   | -67   | -35   | -74   | -42   | -74   |\n",
       "| 32-5 | 32-5  | 32    | 5     | 314.2 | 315   | -64   | -71   | -47   | -68   | -42   | -82   |\n",
       "| 32-6 | 32-6  | 32    | 6     |   0.2 |   0   | -58   | -69   | -51   | -70   | -44   | -81   |\n",
       "| 32-7 | 32-7  | 32    | 7     | 225.1 | 225   | -58   | -61   | -46   | -61   | -39   | -74   |\n",
       "| 32-8 | 32-8  | 32    | 8     | 270.9 | 270   | -55   | -68   | -44   | -69   | -46   | -78   |\n",
       "| 33-3 | 33-3  | 33    | 3     | 269.7 | 270   | -64   | -71   | -47   | -65   | -46   | -84   |\n",
       "| 33-4 | 33-4  | 33    | 4     | 225.7 | 225   | -60   | -66   | -45   | -64   | -48   | -75   |\n",
       "| 33-7 | 33-7  | 33    | 7     |  90.3 |  90   | -54   | -65   | -47   | -66   | -34   | -69   |\n",
       "| 33-8 | 33-8  | 33    | 8     | 179.6 | 180   | -56   | -71   | -46   | -67   | -33   | -76   |\n",
       "| 4-3 | 4-3   |  4    | 3     |  90.3 |  90   | -47   | -59   | -55   | -52   | -57   | -57   |\n",
       "| 4-7 | 4-7   |  4    | 7     | 315.9 | 315   | -51   | -64   | -63   | -49   | -57   | -55   |\n",
       "| 4-8 | 4-8   |  4    | 8     |  45.2 |  45   | -45   | -62   | -55   | -52   | -51   | -65   |\n",
       "| 5-3 | 5-3   |  5    | 3     | 225.3 | 225   | -44   | -59   | -58   | -50   | -57   | -60   |\n",
       "| 5-7 | 5-7   |  5    | 7     |  90.5 |  90   | -47   | -61   | -58   | -51   | -49   | -59   |\n",
       "| 5-8 | 5-8   |  5    | 8     | 179.4 | 180   | -50   | -62   | -61   | -52   | -48   | -56   |\n",
       "| 6-3 | 6-3   |  6    | 3     | 225.7 | 225   | -50   | -57   | -56   | -53   | -58   | -56   |\n",
       "| 6-7 | 6-7   |  6    | 7     | 316.5 | 315   | -45   | -58   | -67   | -46   | -56   | -56   |\n",
       "| 6-8 | 6-8   |  6    | 8     | 271.5 | 270   | -45   | -59   | -64   | -54   | -57   | -58   |\n",
       "| 7-3 | 7-3   |  7    | 3     | 225.0 | 225   | -49   | -53   | -51   | -52   | -54   | -60   |\n",
       "| 7-7 | 7-7   |  7    | 7     | 314.9 | 315   | -47   | -58   | -64   | -52   | -58   | -61   |\n",
       "| 7-8 | 7-8   |  7    | 8     | 270.9 | 270   | -43   | -54   | -59   | -50   | -53   | -71   |\n",
       "| 8-3 | 8-3   |  8    | 3     | 225.6 | 225   | -47   | -52   | -57   | -48   | -60   | -63   |\n",
       "| 8-7 | 8-7   |  8    | 7     | 314.6 | 315   | -53   | -59   | -60   | -53   | -61   | -63   |\n",
       "| 8-8 | 8-8   |  8    | 8     |  44.9 |  45   | -52   | -60   | -59   | -59   | -54   | -65   |\n",
       "| 9-3 | 9-3   |  9    | 3     |   0.4 |   0   | -49   | -49   | -57   | -47   | -56   | -60   |\n",
       "| 9-4 | 9-4   |  9    | 4     | 270.4 | 270   | -45   | -52   | -62   | -58   | -61   | -65   |\n",
       "| 9-7 | 9-7   |  9    | 7     |   0.3 |   0   | -53   | -59   | -60   | -59   | -56   | -68   |\n",
       "| 9-8 | 9-8   |  9    | 8     | 225.0 | 225   | -53   | -53   | -57   | -59   | -47   | -66   |\n",
       "\n"
      ],
      "text/plain": [
       "     posXY posX posY orientation angle 00:0f:a3:39:e1:c0 00:14:bf:3b:c7:c6\n",
       "0-0  0-0    0    0   270.1       270   -55               -68              \n",
       "0-1  0-1    0    1   180.1       180   -50               -64              \n",
       "0-10 0-10   0   10   314.7       315   -55               -65              \n",
       "0-11 0-11   0   11   270.2       270   -58               -66              \n",
       "0-12 0-12   0   12    90.3        90   -58               -71              \n",
       "0-13 0-13   0   13    44.9        45   -59               -72              \n",
       "0-2  0-2    0    2    90.3        90   -54               -61              \n",
       "0-3  0-3    0    3   270.5       270   -59               -68              \n",
       "0-4  0-4    0    4   226.0       225   -55               -61              \n",
       "0-7  0-7    0    7     0.3         0   -57               -66              \n",
       "0-8  0-8    0    8    90.2        90   -56               -70              \n",
       "0-9  0-9    0    9    90.1        90   -49               -69              \n",
       "1-0  1-0    1    0    90.7        90   -47               -64              \n",
       "1-1  1-1    1    1   180.4       180   -55               -62              \n",
       "1-10 1-10   1   10   315.0       315   -53               -68              \n",
       "1-11 1-11   1   11   135.3       135   -56               -70              \n",
       "1-12 1-12   1   12   315.2       315   -50               -68              \n",
       "1-13 1-13   1   13   180.3       180   -57               -70              \n",
       "1-2  1-2    1    2   269.4       270   -61               -66              \n",
       "1-3  1-3    1    3   180.0       180   -55               -63              \n",
       "1-4  1-4    1    4    89.2        90   -54               -60              \n",
       "1-5  1-5    1    5   315.5       315   -58               -70              \n",
       "1-6  1-6    1    6   225.1       225   -52               -67              \n",
       "1-7  1-7    1    7    45.3        45   -52               -69              \n",
       "1-8  1-8    1    8   270.2       270   -53               -66              \n",
       "1-9  1-9    1    9   315.1       315   -51               -64              \n",
       "10-3 10-3  10    3   135.4       135   -50               -49              \n",
       "10-4 10-4  10    4   314.8       315   -47               -54              \n",
       "10-5 10-5  10    5     0.1         0   -44               -54              \n",
       "10-6 10-6  10    6   180.8       180   -42               -54              \n",
       "...  ...   ...  ...  ...         ...   ...               ...              \n",
       "31-8 31-8  31   8     46.8        45   -59               -64              \n",
       "32-3 32-3  32   3    270.4       270   -64               -66              \n",
       "32-4 32-4  32   4    225.0       225   -62               -67              \n",
       "32-5 32-5  32   5    314.2       315   -64               -71              \n",
       "32-6 32-6  32   6      0.2         0   -58               -69              \n",
       "32-7 32-7  32   7    225.1       225   -58               -61              \n",
       "32-8 32-8  32   8    270.9       270   -55               -68              \n",
       "33-3 33-3  33   3    269.7       270   -64               -71              \n",
       "33-4 33-4  33   4    225.7       225   -60               -66              \n",
       "33-7 33-7  33   7     90.3        90   -54               -65              \n",
       "33-8 33-8  33   8    179.6       180   -56               -71              \n",
       "4-3  4-3    4   3     90.3        90   -47               -59              \n",
       "4-7  4-7    4   7    315.9       315   -51               -64              \n",
       "4-8  4-8    4   8     45.2        45   -45               -62              \n",
       "5-3  5-3    5   3    225.3       225   -44               -59              \n",
       "5-7  5-7    5   7     90.5        90   -47               -61              \n",
       "5-8  5-8    5   8    179.4       180   -50               -62              \n",
       "6-3  6-3    6   3    225.7       225   -50               -57              \n",
       "6-7  6-7    6   7    316.5       315   -45               -58              \n",
       "6-8  6-8    6   8    271.5       270   -45               -59              \n",
       "7-3  7-3    7   3    225.0       225   -49               -53              \n",
       "7-7  7-7    7   7    314.9       315   -47               -58              \n",
       "7-8  7-8    7   8    270.9       270   -43               -54              \n",
       "8-3  8-3    8   3    225.6       225   -47               -52              \n",
       "8-7  8-7    8   7    314.6       315   -53               -59              \n",
       "8-8  8-8    8   8     44.9        45   -52               -60              \n",
       "9-3  9-3    9   3      0.4         0   -49               -49              \n",
       "9-4  9-4    9   4    270.4       270   -45               -52              \n",
       "9-7  9-7    9   7      0.3         0   -53               -59              \n",
       "9-8  9-8    9   8    225.0       225   -53               -53              \n",
       "     00:14:bf:b1:97:81 00:14:bf:b1:97:8a 00:14:bf:b1:97:8d 00:14:bf:b1:97:90\n",
       "0-0  -68               -39               -64               -58              \n",
       "0-1  -63               -37               -68               -59              \n",
       "0-10 -61               -40               -60               -58              \n",
       "0-11 -60               -49               -66               -53              \n",
       "0-12 -75               -49               -68               -53              \n",
       "0-13 -75               -46               -70               -54              \n",
       "0-2  -61               -46               -58               -51              \n",
       "0-3  -57               -35               -65               -56              \n",
       "0-4  -56               -44               -63               -53              \n",
       "0-7  -66               -46               -55               -62              \n",
       "0-8  -65               -50               -55               -52              \n",
       "0-9  -66               -49               -65               -52              \n",
       "1-0  -64               -33               -66               -56              \n",
       "1-1  -66               -42               -67               -57              \n",
       "1-10 -72               -50               -67               -52              \n",
       "1-11 -70               -45               -62               -52              \n",
       "1-12 -70               -45               -63               -47              \n",
       "1-13 -74               -42               -68               -49              \n",
       "1-2  -61               -38               -68               -59              \n",
       "1-3  -54               -42               -57               -59              \n",
       "1-4  -59               -44               -61               -53              \n",
       "1-5  -63               -42               -62               -51              \n",
       "1-6  -58               -48               -61               -57              \n",
       "1-7  -65               -45               -50               -54              \n",
       "1-8  -59               -50               -50               -55              \n",
       "1-9  -61               -41               -63               -53              \n",
       "10-3 -51               -61               -57               -67              \n",
       "10-4 -60               -53               -60               -66              \n",
       "10-5 -55               -55               -58               -73              \n",
       "10-6 -58               -58               -57               -62              \n",
       "...  ...               ...               ...               ...              \n",
       "31-8 -47               -63               -46               -77              \n",
       "32-3 -46               -64               -50               -75              \n",
       "32-4 -35               -74               -42               -74              \n",
       "32-5 -47               -68               -42               -82              \n",
       "32-6 -51               -70               -44               -81              \n",
       "32-7 -46               -61               -39               -74              \n",
       "32-8 -44               -69               -46               -78              \n",
       "33-3 -47               -65               -46               -84              \n",
       "33-4 -45               -64               -48               -75              \n",
       "33-7 -47               -66               -34               -69              \n",
       "33-8 -46               -67               -33               -76              \n",
       "4-3  -55               -52               -57               -57              \n",
       "4-7  -63               -49               -57               -55              \n",
       "4-8  -55               -52               -51               -65              \n",
       "5-3  -58               -50               -57               -60              \n",
       "5-7  -58               -51               -49               -59              \n",
       "5-8  -61               -52               -48               -56              \n",
       "6-3  -56               -53               -58               -56              \n",
       "6-7  -67               -46               -56               -56              \n",
       "6-8  -64               -54               -57               -58              \n",
       "7-3  -51               -52               -54               -60              \n",
       "7-7  -64               -52               -58               -61              \n",
       "7-8  -59               -50               -53               -71              \n",
       "8-3  -57               -48               -60               -63              \n",
       "8-7  -60               -53               -61               -63              \n",
       "8-8  -59               -59               -54               -65              \n",
       "9-3  -57               -47               -56               -60              \n",
       "9-4  -62               -58               -61               -65              \n",
       "9-7  -60               -59               -56               -68              \n",
       "9-8  -57               -59               -47               -66              "
      ]
     },
     "metadata": {},
     "output_type": "display_data"
    }
   ],
   "source": [
    "onlineCVSummary"
   ]
  },
  {
   "cell_type": "code",
   "execution_count": 107,
   "metadata": {},
   "outputs": [],
   "source": [
    "# Training data for first fold\n",
    "offlineFold = subset(offlineSummary,\n",
    "                     posXY %in% permuteLocs[ , -1])"
   ]
  },
  {
   "cell_type": "code",
   "execution_count": 108,
   "metadata": {},
   "outputs": [],
   "source": [
    "# Use predXY() with cross-validated versions of online and offline data\n",
    "estFold = predXY(newSignals = onlineFold[ , 6:11], \n",
    "                 newAngles = onlineFold[ , 4], \n",
    "                 offlineFold, numAngles = 3, k = 3)\n"
   ]
  },
  {
   "cell_type": "code",
   "execution_count": 93,
   "metadata": {},
   "outputs": [
    {
     "data": {
      "text/html": [
       "58"
      ],
      "text/latex": [
       "58"
      ],
      "text/markdown": [
       "58"
      ],
      "text/plain": [
       "[1] 58"
      ]
     },
     "metadata": {},
     "output_type": "display_data"
    }
   ],
   "source": [
    "# Find Error in Estimates\n",
    "\n",
    "actualFold = onlineFold[ , c(\"posX\", \"posY\")]\n",
    "calcError(estFold, actualFold)"
   ]
  },
  {
   "cell_type": "code",
   "execution_count": 151,
   "metadata": {},
   "outputs": [
    {
     "data": {
      "text/html": [
       "<table>\n",
       "<thead><tr><th></th><th scope=col>time</th><th scope=col>posX</th><th scope=col>posY</th><th scope=col>orientation</th><th scope=col>mac</th><th scope=col>signal</th><th scope=col>rawTime</th><th scope=col>angle</th><th scope=col>posXY</th><th scope=col>medSignal</th><th scope=col>avgSignal</th><th scope=col>num</th><th scope=col>sdSignal</th><th scope=col>iqrSignal</th><th scope=col>dist</th></tr></thead>\n",
       "<tbody>\n",
       "\t<tr><th scope=row>3</th><td>2006-02-11 01:31:58</td><td> 0                 </td><td> 0                 </td><td>  0.0              </td><td>00:0f:a3:39:e1:c0  </td><td>-53                </td><td>1.1e+12            </td><td>0                  </td><td>0-0                </td><td>-51                </td><td>-51                </td><td>110                </td><td>1.4                </td><td> 2.0               </td><td> 9.8               </td></tr>\n",
       "\t<tr><th scope=row>24507</th><td>2006-02-11 02:03:44</td><td> 0                 </td><td> 1                 </td><td>  0.7              </td><td>00:0f:a3:39:e1:c0  </td><td>-49                </td><td>1.1e+12            </td><td>0                  </td><td>0-1                </td><td>-51                </td><td>-51                </td><td>110                </td><td>2.2                </td><td> 3.0               </td><td> 9.2               </td></tr>\n",
       "\t<tr><th scope=row>221774</th><td>2006-02-11 05:46:02</td><td> 0                 </td><td>10                 </td><td>  0.9              </td><td>00:0f:a3:39:e1:c0  </td><td>-53                </td><td>1.1e+12            </td><td>0                  </td><td>0-10               </td><td>-56                </td><td>-56                </td><td>110                </td><td>1.1                </td><td> 1.0               </td><td> 8.4               </td></tr>\n",
       "\t<tr><th scope=row>229185</th><td>2006-02-11 05:54:05</td><td> 0                 </td><td>11                 </td><td>  0.4              </td><td>00:0f:a3:39:e1:c0  </td><td>-53                </td><td>1.1e+12            </td><td>0                  </td><td>0-11               </td><td>-53                </td><td>-55                </td><td>110                </td><td>3.4                </td><td> 7.0               </td><td> 8.9               </td></tr>\n",
       "\t<tr><th scope=row>236489</th><td>2006-02-11 06:02:32</td><td> 0                 </td><td>12                 </td><td>  0.2              </td><td>00:0f:a3:39:e1:c0  </td><td>-54                </td><td>1.1e+12            </td><td>0                  </td><td>0-12               </td><td>-55                </td><td>-57                </td><td>110                </td><td>3.6                </td><td> 7.8               </td><td> 9.4               </td></tr>\n",
       "\t<tr><th scope=row>243539</th><td>2006-02-11 06:14:12</td><td> 0                 </td><td>13                 </td><td>  0.1              </td><td>00:0f:a3:39:e1:c0  </td><td>-57                </td><td>1.1e+12            </td><td>0                  </td><td>0-13               </td><td>-57                </td><td>-57                </td><td>110                </td><td>1.4                </td><td> 1.0               </td><td>10.1               </td></tr>\n",
       "\t<tr><th scope=row>49625</th><td>2006-02-11 02:26:28</td><td> 0                 </td><td> 2                 </td><td>  0.3              </td><td>00:0f:a3:39:e1:c0  </td><td>-58                </td><td>1.1e+12            </td><td>0                  </td><td>0-2                </td><td>-60                </td><td>-60                </td><td>110                </td><td>2.7                </td><td> 4.0               </td><td> 8.6               </td></tr>\n",
       "\t<tr><th scope=row>73864</th><td>2006-02-11 02:47:06</td><td> 0                 </td><td> 3                 </td><td>  0.2              </td><td>00:0f:a3:39:e1:c0  </td><td>-53                </td><td>1.1e+12            </td><td>0                  </td><td>0-3                </td><td>-55                </td><td>-56                </td><td>110                </td><td>2.2                </td><td> 3.0               </td><td> 8.2               </td></tr>\n",
       "\t<tr><th scope=row>99008</th><td>2006-02-11 03:05:57</td><td> 0                 </td><td> 4                 </td><td>  0.5              </td><td>00:0f:a3:39:e1:c0  </td><td>-48                </td><td>1.1e+12            </td><td>0                  </td><td>0-4                </td><td>-47                </td><td>-48                </td><td>110                </td><td>2.7                </td><td> 5.0               </td><td> 7.8               </td></tr>\n",
       "\t<tr><th scope=row>199295</th><td>2006-02-11 05:22:44</td><td> 0                 </td><td> 7                 </td><td>  0.3              </td><td>00:0f:a3:39:e1:c0  </td><td>-58                </td><td>1.1e+12            </td><td>0                  </td><td>0-7                </td><td>-57                </td><td>-57                </td><td>110                </td><td>2.0                </td><td> 2.0               </td><td> 7.5               </td></tr>\n",
       "\t<tr><th scope=row>207187</th><td>2006-02-11 05:31:51</td><td> 0                 </td><td> 8                 </td><td>  0.7              </td><td>00:0f:a3:39:e1:c0  </td><td>-50                </td><td>1.1e+12            </td><td>0                  </td><td>0-8                </td><td>-48                </td><td>-50                </td><td>110                </td><td>5.8                </td><td> 3.0               </td><td> 7.7               </td></tr>\n",
       "\t<tr><th scope=row>214634</th><td>2006-02-11 05:38:04</td><td> 0                 </td><td> 9                 </td><td>  0.3              </td><td>00:0f:a3:39:e1:c0  </td><td>-59                </td><td>1.1e+12            </td><td>0                  </td><td>0-9                </td><td>-49                </td><td>-51                </td><td>110                </td><td>4.5                </td><td> 2.0               </td><td> 8.0               </td></tr>\n",
       "\t<tr><th scope=row>8313</th><td>2006-02-11 01:46:17</td><td> 1                 </td><td> 0                 </td><td>  0.0              </td><td>00:0f:a3:39:e1:c0  </td><td>-45                </td><td>1.1e+12            </td><td>0                  </td><td>1-0                </td><td>-50                </td><td>-49                </td><td>110                </td><td>3.0                </td><td> 5.0               </td><td> 9.1               </td></tr>\n",
       "\t<tr><th scope=row>32848</th><td>2006-02-11 02:11:49</td><td> 1                 </td><td> 1                 </td><td>  0.4              </td><td>00:0f:a3:39:e1:c0  </td><td>-60                </td><td>1.1e+12            </td><td>0                  </td><td>1-1                </td><td>-52                </td><td>-54                </td><td>110                </td><td>7.2                </td><td> 3.0               </td><td> 8.4               </td></tr>\n",
       "\t<tr><th scope=row>170127</th><td>2006-02-11 04:31:54</td><td> 1                 </td><td>10                 </td><td>  0.1              </td><td>00:0f:a3:39:e1:c0  </td><td>-56                </td><td>1.1e+12            </td><td>0                  </td><td>1-10               </td><td>-61                </td><td>-60                </td><td>109                </td><td>2.8                </td><td> 5.0               </td><td> 7.5               </td></tr>\n",
       "\t<tr><th scope=row>177657</th><td>2006-02-11 04:43:13</td><td> 1                 </td><td>11                 </td><td>  0.9              </td><td>00:0f:a3:39:e1:c0  </td><td>-54                </td><td>1.1e+12            </td><td>0                  </td><td>1-11               </td><td>-54                </td><td>-54                </td><td>110                </td><td>1.7                </td><td> 1.0               </td><td> 8.0               </td></tr>\n",
       "\t<tr><th scope=row>184971</th><td>2006-02-11 04:59:28</td><td> 1                 </td><td>12                 </td><td>359.9              </td><td>00:0f:a3:39:e1:c0  </td><td>-54                </td><td>1.1e+12            </td><td>0                  </td><td>1-12               </td><td>-55                </td><td>-55                </td><td>110                </td><td>1.3                </td><td> 2.0               </td><td> 8.6               </td></tr>\n",
       "\t<tr><th scope=row>192298</th><td>2006-02-11 05:06:15</td><td> 1                 </td><td>13                 </td><td>  0.7              </td><td>00:0f:a3:39:e1:c0  </td><td>-60                </td><td>1.1e+12            </td><td>0                  </td><td>1-13               </td><td>-57                </td><td>-57                </td><td>110                </td><td>2.0                </td><td> 3.8               </td><td> 9.3               </td></tr>\n",
       "\t<tr><th scope=row>57598</th><td>2006-02-11 02:33:18</td><td> 1                 </td><td> 2                 </td><td>  0.2              </td><td>00:0f:a3:39:e1:c0  </td><td>-57                </td><td>1.1e+12            </td><td>0                  </td><td>1-2                </td><td>-57                </td><td>-57                </td><td>110                </td><td>1.9                </td><td> 2.0               </td><td> 7.8               </td></tr>\n",
       "\t<tr><th scope=row>82305</th><td>2006-02-11 02:53:26</td><td> 1                 </td><td> 3                 </td><td>  0.2              </td><td>00:0f:a3:39:e1:c0  </td><td>-51                </td><td>1.1e+12            </td><td>0                  </td><td>1-3                </td><td>-49                </td><td>-50                </td><td>110                </td><td>3.6                </td><td> 5.8               </td><td> 7.3               </td></tr>\n",
       "\t<tr><th scope=row>107322</th><td>2006-02-11 03:12:20</td><td> 1                 </td><td> 4                 </td><td>  0.8              </td><td>00:0f:a3:39:e1:c0  </td><td>-58                </td><td>1.1e+12            </td><td>0                  </td><td>1-4                </td><td>-51                </td><td>-51                </td><td>110                </td><td>2.5                </td><td> 3.0               </td><td> 6.9               </td></tr>\n",
       "\t<tr><th scope=row>123372</th><td>2006-02-11 03:42:49</td><td> 1                 </td><td> 5                 </td><td>  0.3              </td><td>00:0f:a3:39:e1:c0  </td><td>-52                </td><td>1.1e+12            </td><td>0                  </td><td>1-5                </td><td>-51                </td><td>-52                </td><td>110                </td><td>2.6                </td><td> 5.0               </td><td> 6.6               </td></tr>\n",
       "\t<tr><th scope=row>138863</th><td>2006-02-11 03:58:42</td><td> 1                 </td><td> 6                 </td><td>  0.6              </td><td>00:0f:a3:39:e1:c0  </td><td>-49                </td><td>1.1e+12            </td><td>0                  </td><td>1-6                </td><td>-47                </td><td>-47                </td><td>110                </td><td>3.4                </td><td> 1.0               </td><td> 6.5               </td></tr>\n",
       "\t<tr><th scope=row>146964</th><td>2006-02-11 04:09:28</td><td> 1                 </td><td> 7                 </td><td>  0.1              </td><td>00:0f:a3:39:e1:c0  </td><td>-54                </td><td>1.1e+12            </td><td>0                  </td><td>1-7                </td><td>-55                </td><td>-52                </td><td>110                </td><td>5.3                </td><td>10.0               </td><td> 6.5               </td></tr>\n",
       "\t<tr><th scope=row>154734</th><td>2006-02-11 04:16:55</td><td> 1                 </td><td> 8                 </td><td>  0.7              </td><td>00:0f:a3:39:e1:c0  </td><td>-52                </td><td>1.1e+12            </td><td>0                  </td><td>1-8                </td><td>-55                </td><td>-56                </td><td>110                </td><td>3.4                </td><td> 6.0               </td><td> 6.7               </td></tr>\n",
       "\t<tr><th scope=row>162553</th><td>2006-02-11 04:24:26</td><td> 1                 </td><td> 9                 </td><td>  0.5              </td><td>00:0f:a3:39:e1:c0  </td><td>-61                </td><td>1.1e+12            </td><td>0                  </td><td>1-9                </td><td>-54                </td><td>-55                </td><td>110                </td><td>5.1                </td><td> 9.0               </td><td> 7.0               </td></tr>\n",
       "\t<tr><th scope=row>363611</th><td>2006-02-11 08:54:08</td><td>10                 </td><td> 3                 </td><td>  0.4              </td><td>00:0f:a3:39:e1:c0  </td><td>-44                </td><td>1.1e+12            </td><td>0                  </td><td>10-3               </td><td>-44                </td><td>-45                </td><td>110                </td><td>2.7                </td><td> 4.0               </td><td> 4.1               </td></tr>\n",
       "\t<tr><th scope=row>397974</th><td>2006-02-11 09:50:44</td><td>10                 </td><td> 4                 </td><td>  0.4              </td><td>00:0f:a3:39:e1:c0  </td><td>-54                </td><td>1.1e+12            </td><td>0                  </td><td>10-4               </td><td>-50                </td><td>-50                </td><td>109                </td><td>2.0                </td><td> 3.0               </td><td> 3.4               </td></tr>\n",
       "\t<tr><th scope=row>425213</th><td>2006-02-11 10:41:37</td><td>10                 </td><td> 5                 </td><td>  0.1              </td><td>00:0f:a3:39:e1:c0  </td><td>-44                </td><td>1.1e+12            </td><td>0                  </td><td>10-5               </td><td>-45                </td><td>-44                </td><td>110                </td><td>1.3                </td><td> 2.0               </td><td> 2.8               </td></tr>\n",
       "\t<tr><th scope=row>453660</th><td>2006-02-11 11:12:14</td><td>10                 </td><td> 6                 </td><td>  1.0              </td><td>00:0f:a3:39:e1:c0  </td><td>-44                </td><td>1.1e+12            </td><td>0                  </td><td>10-6               </td><td>-43                </td><td>-43                </td><td>110                </td><td>1.1                </td><td> 1.0               </td><td> 2.5               </td></tr>\n",
       "\t<tr><th scope=row>...</th><td>...</td><td>...</td><td>...</td><td>...</td><td>...</td><td>...</td><td>...</td><td>...</td><td>...</td><td>...</td><td>...</td><td>...</td><td>...</td><td>...</td><td>...</td></tr>\n",
       "\t<tr><th scope=row>1035594</th><td>2006-02-19 13:04:59</td><td>31                 </td><td>8                  </td><td>316                </td><td>00:14:bf:b1:97:90  </td><td>-81                </td><td>1.1e+12            </td><td>315                </td><td>31-8               </td><td>-79                </td><td>-80                </td><td> 91                </td><td>0.83               </td><td>1.0                </td><td>30.6               </td></tr>\n",
       "\t<tr><th scope=row>1083286</th><td>2006-02-19 14:02:05</td><td>32                 </td><td>3                  </td><td>316                </td><td>00:14:bf:b1:97:90  </td><td>-80                </td><td>1.1e+12            </td><td>315                </td><td>32-3               </td><td>-81                </td><td>-81                </td><td> 94                </td><td>0.89               </td><td>1.8                </td><td>32.9               </td></tr>\n",
       "\t<tr><th scope=row>1069564</th><td>2006-02-19 13:50:18</td><td>32                 </td><td>4                  </td><td>315                </td><td>00:14:bf:b1:97:90  </td><td>-79                </td><td>1.1e+12            </td><td>315                </td><td>32-4               </td><td>-80                </td><td>-80                </td><td> 85                </td><td>0.94               </td><td>1.0                </td><td>32.6               </td></tr>\n",
       "\t<tr><th scope=row>1062687</th><td>2006-02-19 13:32:43</td><td>32                 </td><td>5                  </td><td>315                </td><td>00:14:bf:b1:97:90  </td><td>-84                </td><td>1.1e+12            </td><td>315                </td><td>32-5               </td><td>-82                </td><td>-82                </td><td> 86                </td><td>1.38               </td><td>1.0                </td><td>32.3               </td></tr>\n",
       "\t<tr><th scope=row>1055693</th><td>2006-02-19 13:26:38</td><td>32                 </td><td>6                  </td><td>315                </td><td>00:14:bf:b1:97:90  </td><td>-84                </td><td>1.1e+12            </td><td>315                </td><td>32-6               </td><td>-83                </td><td>-83                </td><td>100                </td><td>1.18               </td><td>2.0                </td><td>32.0               </td></tr>\n",
       "\t<tr><th scope=row>995107</th><td>2006-02-19 11:07:40</td><td>32                 </td><td>7                  </td><td>315                </td><td>00:14:bf:b1:97:90  </td><td>-80                </td><td>1.1e+12            </td><td>315                </td><td>32-7               </td><td>-77                </td><td>-77                </td><td> 95                </td><td>2.05               </td><td>3.0                </td><td>31.8               </td></tr>\n",
       "\t<tr><th scope=row>1042381</th><td>2006-02-19 13:12:18</td><td>32                 </td><td>8                  </td><td>316                </td><td>00:14:bf:b1:97:90  </td><td>-79                </td><td>1.1e+12            </td><td>315                </td><td>32-8               </td><td>-79                </td><td>-79                </td><td> 90                </td><td>0.85               </td><td>2.0                </td><td>31.6               </td></tr>\n",
       "\t<tr><th scope=row>1090205</th><td>2006-02-19 14:24:51</td><td>33                 </td><td>3                  </td><td>314                </td><td>00:14:bf:b1:97:90  </td><td>-74                </td><td>1.1e+12            </td><td>315                </td><td>33-3               </td><td>-78                </td><td>-78                </td><td> 86                </td><td>1.33               </td><td>0.0                </td><td>33.8               </td></tr>\n",
       "\t<tr><th scope=row>1076378</th><td>2006-02-19 13:56:02</td><td>33                 </td><td>4                  </td><td>314                </td><td>00:14:bf:b1:97:90  </td><td>-85                </td><td>1.1e+12            </td><td>315                </td><td>33-4               </td><td>-86                </td><td>-86                </td><td>102                </td><td>1.95               </td><td>2.0                </td><td>33.5               </td></tr>\n",
       "\t<tr><th scope=row>1001811</th><td>2006-02-19 11:16:34</td><td>33                 </td><td>7                  </td><td>315                </td><td>00:14:bf:b1:97:90  </td><td>-76                </td><td>1.1e+12            </td><td>315                </td><td>33-7               </td><td>-77                </td><td>-77                </td><td> 98                </td><td>1.96               </td><td>2.0                </td><td>32.8               </td></tr>\n",
       "\t<tr><th scope=row>1048910</th><td>2006-02-19 13:19:03</td><td>33                 </td><td>8                  </td><td>315                </td><td>00:14:bf:b1:97:90  </td><td>-84                </td><td>1.1e+12            </td><td>315                </td><td>33-8               </td><td>-81                </td><td>-81                </td><td>102                </td><td>2.24               </td><td>3.0                </td><td>32.6               </td></tr>\n",
       "\t<tr><th scope=row>325913</th><td>2006-02-11 08:05:21</td><td> 4                 </td><td>3                  </td><td>315                </td><td>00:14:bf:b1:97:90  </td><td>-58                </td><td>1.1e+12            </td><td>315                </td><td>4-3                </td><td>-57                </td><td>-57                </td><td>100                </td><td>2.50               </td><td>4.0                </td><td>11.4               </td></tr>\n",
       "\t<tr><th scope=row>586527</th><td>2006-02-11 14:01:42</td><td> 4                 </td><td>7                  </td><td>316                </td><td>00:14:bf:b1:97:90  </td><td>-51                </td><td>1.1e+12            </td><td>315                </td><td>4-7                </td><td>-54                </td><td>-55                </td><td> 94                </td><td>3.28               </td><td>6.8                </td><td> 7.6               </td></tr>\n",
       "\t<tr><th scope=row>630534</th><td>2006-02-11 14:59:17</td><td> 4                 </td><td>8                  </td><td>315                </td><td>00:14:bf:b1:97:90  </td><td>-61                </td><td>1.1e+12            </td><td>315                </td><td>4-8                </td><td>-58                </td><td>-58                </td><td> 99                </td><td>1.26               </td><td>2.0                </td><td> 6.7               </td></tr>\n",
       "\t<tr><th scope=row>333028</th><td>2006-02-11 08:11:42</td><td> 5                 </td><td>3                  </td><td>316                </td><td>00:14:bf:b1:97:90  </td><td>-55                </td><td>1.1e+12            </td><td>315                </td><td>5-3                </td><td>-54                </td><td>-54                </td><td> 96                </td><td>1.77               </td><td>2.0                </td><td>11.7               </td></tr>\n",
       "\t<tr><th scope=row>579089</th><td>2006-02-11 13:54:49</td><td> 5                 </td><td>7                  </td><td>316                </td><td>00:14:bf:b1:97:90  </td><td>-59                </td><td>1.1e+12            </td><td>315                </td><td>5-7                </td><td>-59                </td><td>-59                </td><td> 95                </td><td>3.11               </td><td>2.5                </td><td> 8.1               </td></tr>\n",
       "\t<tr><th scope=row>623292</th><td>2006-02-11 14:53:24</td><td> 5                 </td><td>8                  </td><td>324                </td><td>00:14:bf:b1:97:90  </td><td>-55                </td><td>1.1e+12            </td><td>315                </td><td>5-8                </td><td>-56                </td><td>-56                </td><td>100                </td><td>2.90               </td><td>4.0                </td><td> 7.2               </td></tr>\n",
       "\t<tr><th scope=row>340661</th><td>2006-02-11 08:18:13</td><td> 6                 </td><td>3                  </td><td>315                </td><td>00:14:bf:b1:97:90  </td><td>-58                </td><td>1.1e+12            </td><td>315                </td><td>6-3                </td><td>-56                </td><td>-56                </td><td> 93                </td><td>1.54               </td><td>2.0                </td><td>12.1               </td></tr>\n",
       "\t<tr><th scope=row>571874</th><td>2006-02-11 13:48:14</td><td> 6                 </td><td>7                  </td><td>316                </td><td>00:14:bf:b1:97:90  </td><td>-52                </td><td>1.1e+12            </td><td>315                </td><td>6-7                </td><td>-56                </td><td>-56                </td><td>103                </td><td>3.28               </td><td>3.0                </td><td> 8.6               </td></tr>\n",
       "\t<tr><th scope=row>615982</th><td>2006-02-11 14:42:15</td><td> 6                 </td><td>8                  </td><td>314                </td><td>00:14:bf:b1:97:90  </td><td>-71                </td><td>1.1e+12            </td><td>315                </td><td>6-8                </td><td>-68                </td><td>-68                </td><td> 91                </td><td>2.11               </td><td>2.0                </td><td> 7.8               </td></tr>\n",
       "\t<tr><th scope=row>348056</th><td>2006-02-11 08:24:14</td><td> 7                 </td><td>3                  </td><td>315                </td><td>00:14:bf:b1:97:90  </td><td>-62                </td><td>1.1e+12            </td><td>315                </td><td>7-3                </td><td>-62                </td><td>-62                </td><td> 91                </td><td>1.42               </td><td>2.0                </td><td>12.5               </td></tr>\n",
       "\t<tr><th scope=row>565066</th><td>2006-02-11 13:41:40</td><td> 7                 </td><td>7                  </td><td>315                </td><td>00:14:bf:b1:97:90  </td><td>-58                </td><td>1.1e+12            </td><td>315                </td><td>7-7                </td><td>-62                </td><td>-61                </td><td> 93                </td><td>2.83               </td><td>4.0                </td><td> 9.2               </td></tr>\n",
       "\t<tr><th scope=row>608632</th><td>2006-02-11 14:34:48</td><td> 7                 </td><td>8                  </td><td>314                </td><td>00:14:bf:b1:97:90  </td><td>-59                </td><td>1.1e+12            </td><td>315                </td><td>7-8                </td><td>-59                </td><td>-59                </td><td>109                </td><td>1.83               </td><td>3.0                </td><td> 8.5               </td></tr>\n",
       "\t<tr><th scope=row>355433</th><td>2006-02-11 08:46:59</td><td> 8                 </td><td>3                  </td><td>316                </td><td>00:14:bf:b1:97:90  </td><td>-67                </td><td>1.1e+12            </td><td>315                </td><td>8-3                </td><td>-69                </td><td>-70                </td><td> 94                </td><td>1.21               </td><td>1.0                </td><td>13.0               </td></tr>\n",
       "\t<tr><th scope=row>557927</th><td>2006-02-11 13:35:26</td><td> 8                 </td><td>7                  </td><td>315                </td><td>00:14:bf:b1:97:90  </td><td>-64                </td><td>1.1e+12            </td><td>315                </td><td>8-7                </td><td>-63                </td><td>-63                </td><td> 85                </td><td>3.01               </td><td>2.0                </td><td> 9.9               </td></tr>\n",
       "\t<tr><th scope=row>601447</th><td>2006-02-11 14:28:09</td><td> 8                 </td><td>8                  </td><td>315                </td><td>00:14:bf:b1:97:90  </td><td>-64                </td><td>1.1e+12            </td><td>315                </td><td>8-8                </td><td>-59                </td><td>-59                </td><td> 91                </td><td>2.29               </td><td>2.0                </td><td> 9.2               </td></tr>\n",
       "\t<tr><th scope=row>362613</th><td>2006-02-11 08:53:08</td><td> 9                 </td><td>3                  </td><td>315                </td><td>00:14:bf:b1:97:90  </td><td>-67                </td><td>1.1e+12            </td><td>315                </td><td>9-3                </td><td>-59                </td><td>-60                </td><td> 91                </td><td>3.67               </td><td>1.0                </td><td>13.6               </td></tr>\n",
       "\t<tr><th scope=row>397165</th><td>2006-02-11 09:49:44</td><td> 9                 </td><td>4                  </td><td>315                </td><td>00:14:bf:b1:97:90  </td><td>-66                </td><td>1.1e+12            </td><td>315                </td><td>9-4                </td><td>-70                </td><td>-70                </td><td> 84                </td><td>2.79               </td><td>4.0                </td><td>12.8               </td></tr>\n",
       "\t<tr><th scope=row>487867</th><td>2006-02-11 12:01:56</td><td> 9                 </td><td>7                  </td><td>315                </td><td>00:14:bf:b1:97:90  </td><td>-63                </td><td>1.1e+12            </td><td>315                </td><td>9-7                </td><td>-63                </td><td>-63                </td><td> 92                </td><td>2.91               </td><td>2.0                </td><td>10.6               </td></tr>\n",
       "\t<tr><th scope=row>522466</th><td>2006-02-11 12:42:31</td><td> 9                 </td><td>8                  </td><td>315                </td><td>00:14:bf:b1:97:90  </td><td>-73                </td><td>1.1e+12            </td><td>315                </td><td>9-8                </td><td>-69                </td><td>-69                </td><td> 88                </td><td>2.87               </td><td>2.2                </td><td>10.0               </td></tr>\n",
       "</tbody>\n",
       "</table>\n"
      ],
      "text/latex": [
       "\\begin{tabular}{r|lllllllllllllll}\n",
       "  & time & posX & posY & orientation & mac & signal & rawTime & angle & posXY & medSignal & avgSignal & num & sdSignal & iqrSignal & dist\\\\\n",
       "\\hline\n",
       "\t3 & 2006-02-11 01:31:58 &  0                  &  0                  &   0.0               & 00:0f:a3:39:e1:c0   & -53                 & 1.1e+12             & 0                   & 0-0                 & -51                 & -51                 & 110                 & 1.4                 &  2.0                &  9.8               \\\\\n",
       "\t24507 & 2006-02-11 02:03:44 &  0                  &  1                  &   0.7               & 00:0f:a3:39:e1:c0   & -49                 & 1.1e+12             & 0                   & 0-1                 & -51                 & -51                 & 110                 & 2.2                 &  3.0                &  9.2               \\\\\n",
       "\t221774 & 2006-02-11 05:46:02 &  0                  & 10                  &   0.9               & 00:0f:a3:39:e1:c0   & -53                 & 1.1e+12             & 0                   & 0-10                & -56                 & -56                 & 110                 & 1.1                 &  1.0                &  8.4               \\\\\n",
       "\t229185 & 2006-02-11 05:54:05 &  0                  & 11                  &   0.4               & 00:0f:a3:39:e1:c0   & -53                 & 1.1e+12             & 0                   & 0-11                & -53                 & -55                 & 110                 & 3.4                 &  7.0                &  8.9               \\\\\n",
       "\t236489 & 2006-02-11 06:02:32 &  0                  & 12                  &   0.2               & 00:0f:a3:39:e1:c0   & -54                 & 1.1e+12             & 0                   & 0-12                & -55                 & -57                 & 110                 & 3.6                 &  7.8                &  9.4               \\\\\n",
       "\t243539 & 2006-02-11 06:14:12 &  0                  & 13                  &   0.1               & 00:0f:a3:39:e1:c0   & -57                 & 1.1e+12             & 0                   & 0-13                & -57                 & -57                 & 110                 & 1.4                 &  1.0                & 10.1               \\\\\n",
       "\t49625 & 2006-02-11 02:26:28 &  0                  &  2                  &   0.3               & 00:0f:a3:39:e1:c0   & -58                 & 1.1e+12             & 0                   & 0-2                 & -60                 & -60                 & 110                 & 2.7                 &  4.0                &  8.6               \\\\\n",
       "\t73864 & 2006-02-11 02:47:06 &  0                  &  3                  &   0.2               & 00:0f:a3:39:e1:c0   & -53                 & 1.1e+12             & 0                   & 0-3                 & -55                 & -56                 & 110                 & 2.2                 &  3.0                &  8.2               \\\\\n",
       "\t99008 & 2006-02-11 03:05:57 &  0                  &  4                  &   0.5               & 00:0f:a3:39:e1:c0   & -48                 & 1.1e+12             & 0                   & 0-4                 & -47                 & -48                 & 110                 & 2.7                 &  5.0                &  7.8               \\\\\n",
       "\t199295 & 2006-02-11 05:22:44 &  0                  &  7                  &   0.3               & 00:0f:a3:39:e1:c0   & -58                 & 1.1e+12             & 0                   & 0-7                 & -57                 & -57                 & 110                 & 2.0                 &  2.0                &  7.5               \\\\\n",
       "\t207187 & 2006-02-11 05:31:51 &  0                  &  8                  &   0.7               & 00:0f:a3:39:e1:c0   & -50                 & 1.1e+12             & 0                   & 0-8                 & -48                 & -50                 & 110                 & 5.8                 &  3.0                &  7.7               \\\\\n",
       "\t214634 & 2006-02-11 05:38:04 &  0                  &  9                  &   0.3               & 00:0f:a3:39:e1:c0   & -59                 & 1.1e+12             & 0                   & 0-9                 & -49                 & -51                 & 110                 & 4.5                 &  2.0                &  8.0               \\\\\n",
       "\t8313 & 2006-02-11 01:46:17 &  1                  &  0                  &   0.0               & 00:0f:a3:39:e1:c0   & -45                 & 1.1e+12             & 0                   & 1-0                 & -50                 & -49                 & 110                 & 3.0                 &  5.0                &  9.1               \\\\\n",
       "\t32848 & 2006-02-11 02:11:49 &  1                  &  1                  &   0.4               & 00:0f:a3:39:e1:c0   & -60                 & 1.1e+12             & 0                   & 1-1                 & -52                 & -54                 & 110                 & 7.2                 &  3.0                &  8.4               \\\\\n",
       "\t170127 & 2006-02-11 04:31:54 &  1                  & 10                  &   0.1               & 00:0f:a3:39:e1:c0   & -56                 & 1.1e+12             & 0                   & 1-10                & -61                 & -60                 & 109                 & 2.8                 &  5.0                &  7.5               \\\\\n",
       "\t177657 & 2006-02-11 04:43:13 &  1                  & 11                  &   0.9               & 00:0f:a3:39:e1:c0   & -54                 & 1.1e+12             & 0                   & 1-11                & -54                 & -54                 & 110                 & 1.7                 &  1.0                &  8.0               \\\\\n",
       "\t184971 & 2006-02-11 04:59:28 &  1                  & 12                  & 359.9               & 00:0f:a3:39:e1:c0   & -54                 & 1.1e+12             & 0                   & 1-12                & -55                 & -55                 & 110                 & 1.3                 &  2.0                &  8.6               \\\\\n",
       "\t192298 & 2006-02-11 05:06:15 &  1                  & 13                  &   0.7               & 00:0f:a3:39:e1:c0   & -60                 & 1.1e+12             & 0                   & 1-13                & -57                 & -57                 & 110                 & 2.0                 &  3.8                &  9.3               \\\\\n",
       "\t57598 & 2006-02-11 02:33:18 &  1                  &  2                  &   0.2               & 00:0f:a3:39:e1:c0   & -57                 & 1.1e+12             & 0                   & 1-2                 & -57                 & -57                 & 110                 & 1.9                 &  2.0                &  7.8               \\\\\n",
       "\t82305 & 2006-02-11 02:53:26 &  1                  &  3                  &   0.2               & 00:0f:a3:39:e1:c0   & -51                 & 1.1e+12             & 0                   & 1-3                 & -49                 & -50                 & 110                 & 3.6                 &  5.8                &  7.3               \\\\\n",
       "\t107322 & 2006-02-11 03:12:20 &  1                  &  4                  &   0.8               & 00:0f:a3:39:e1:c0   & -58                 & 1.1e+12             & 0                   & 1-4                 & -51                 & -51                 & 110                 & 2.5                 &  3.0                &  6.9               \\\\\n",
       "\t123372 & 2006-02-11 03:42:49 &  1                  &  5                  &   0.3               & 00:0f:a3:39:e1:c0   & -52                 & 1.1e+12             & 0                   & 1-5                 & -51                 & -52                 & 110                 & 2.6                 &  5.0                &  6.6               \\\\\n",
       "\t138863 & 2006-02-11 03:58:42 &  1                  &  6                  &   0.6               & 00:0f:a3:39:e1:c0   & -49                 & 1.1e+12             & 0                   & 1-6                 & -47                 & -47                 & 110                 & 3.4                 &  1.0                &  6.5               \\\\\n",
       "\t146964 & 2006-02-11 04:09:28 &  1                  &  7                  &   0.1               & 00:0f:a3:39:e1:c0   & -54                 & 1.1e+12             & 0                   & 1-7                 & -55                 & -52                 & 110                 & 5.3                 & 10.0                &  6.5               \\\\\n",
       "\t154734 & 2006-02-11 04:16:55 &  1                  &  8                  &   0.7               & 00:0f:a3:39:e1:c0   & -52                 & 1.1e+12             & 0                   & 1-8                 & -55                 & -56                 & 110                 & 3.4                 &  6.0                &  6.7               \\\\\n",
       "\t162553 & 2006-02-11 04:24:26 &  1                  &  9                  &   0.5               & 00:0f:a3:39:e1:c0   & -61                 & 1.1e+12             & 0                   & 1-9                 & -54                 & -55                 & 110                 & 5.1                 &  9.0                &  7.0               \\\\\n",
       "\t363611 & 2006-02-11 08:54:08 & 10                  &  3                  &   0.4               & 00:0f:a3:39:e1:c0   & -44                 & 1.1e+12             & 0                   & 10-3                & -44                 & -45                 & 110                 & 2.7                 &  4.0                &  4.1               \\\\\n",
       "\t397974 & 2006-02-11 09:50:44 & 10                  &  4                  &   0.4               & 00:0f:a3:39:e1:c0   & -54                 & 1.1e+12             & 0                   & 10-4                & -50                 & -50                 & 109                 & 2.0                 &  3.0                &  3.4               \\\\\n",
       "\t425213 & 2006-02-11 10:41:37 & 10                  &  5                  &   0.1               & 00:0f:a3:39:e1:c0   & -44                 & 1.1e+12             & 0                   & 10-5                & -45                 & -44                 & 110                 & 1.3                 &  2.0                &  2.8               \\\\\n",
       "\t453660 & 2006-02-11 11:12:14 & 10                  &  6                  &   1.0               & 00:0f:a3:39:e1:c0   & -44                 & 1.1e+12             & 0                   & 10-6                & -43                 & -43                 & 110                 & 1.1                 &  1.0                &  2.5               \\\\\n",
       "\t... & ... & ... & ... & ... & ... & ... & ... & ... & ... & ... & ... & ... & ... & ... & ...\\\\\n",
       "\t1035594 & 2006-02-19 13:04:59 & 31                  & 8                   & 316                 & 00:14:bf:b1:97:90   & -81                 & 1.1e+12             & 315                 & 31-8                & -79                 & -80                 &  91                 & 0.83                & 1.0                 & 30.6               \\\\\n",
       "\t1083286 & 2006-02-19 14:02:05 & 32                  & 3                   & 316                 & 00:14:bf:b1:97:90   & -80                 & 1.1e+12             & 315                 & 32-3                & -81                 & -81                 &  94                 & 0.89                & 1.8                 & 32.9               \\\\\n",
       "\t1069564 & 2006-02-19 13:50:18 & 32                  & 4                   & 315                 & 00:14:bf:b1:97:90   & -79                 & 1.1e+12             & 315                 & 32-4                & -80                 & -80                 &  85                 & 0.94                & 1.0                 & 32.6               \\\\\n",
       "\t1062687 & 2006-02-19 13:32:43 & 32                  & 5                   & 315                 & 00:14:bf:b1:97:90   & -84                 & 1.1e+12             & 315                 & 32-5                & -82                 & -82                 &  86                 & 1.38                & 1.0                 & 32.3               \\\\\n",
       "\t1055693 & 2006-02-19 13:26:38 & 32                  & 6                   & 315                 & 00:14:bf:b1:97:90   & -84                 & 1.1e+12             & 315                 & 32-6                & -83                 & -83                 & 100                 & 1.18                & 2.0                 & 32.0               \\\\\n",
       "\t995107 & 2006-02-19 11:07:40 & 32                  & 7                   & 315                 & 00:14:bf:b1:97:90   & -80                 & 1.1e+12             & 315                 & 32-7                & -77                 & -77                 &  95                 & 2.05                & 3.0                 & 31.8               \\\\\n",
       "\t1042381 & 2006-02-19 13:12:18 & 32                  & 8                   & 316                 & 00:14:bf:b1:97:90   & -79                 & 1.1e+12             & 315                 & 32-8                & -79                 & -79                 &  90                 & 0.85                & 2.0                 & 31.6               \\\\\n",
       "\t1090205 & 2006-02-19 14:24:51 & 33                  & 3                   & 314                 & 00:14:bf:b1:97:90   & -74                 & 1.1e+12             & 315                 & 33-3                & -78                 & -78                 &  86                 & 1.33                & 0.0                 & 33.8               \\\\\n",
       "\t1076378 & 2006-02-19 13:56:02 & 33                  & 4                   & 314                 & 00:14:bf:b1:97:90   & -85                 & 1.1e+12             & 315                 & 33-4                & -86                 & -86                 & 102                 & 1.95                & 2.0                 & 33.5               \\\\\n",
       "\t1001811 & 2006-02-19 11:16:34 & 33                  & 7                   & 315                 & 00:14:bf:b1:97:90   & -76                 & 1.1e+12             & 315                 & 33-7                & -77                 & -77                 &  98                 & 1.96                & 2.0                 & 32.8               \\\\\n",
       "\t1048910 & 2006-02-19 13:19:03 & 33                  & 8                   & 315                 & 00:14:bf:b1:97:90   & -84                 & 1.1e+12             & 315                 & 33-8                & -81                 & -81                 & 102                 & 2.24                & 3.0                 & 32.6               \\\\\n",
       "\t325913 & 2006-02-11 08:05:21 &  4                  & 3                   & 315                 & 00:14:bf:b1:97:90   & -58                 & 1.1e+12             & 315                 & 4-3                 & -57                 & -57                 & 100                 & 2.50                & 4.0                 & 11.4               \\\\\n",
       "\t586527 & 2006-02-11 14:01:42 &  4                  & 7                   & 316                 & 00:14:bf:b1:97:90   & -51                 & 1.1e+12             & 315                 & 4-7                 & -54                 & -55                 &  94                 & 3.28                & 6.8                 &  7.6               \\\\\n",
       "\t630534 & 2006-02-11 14:59:17 &  4                  & 8                   & 315                 & 00:14:bf:b1:97:90   & -61                 & 1.1e+12             & 315                 & 4-8                 & -58                 & -58                 &  99                 & 1.26                & 2.0                 &  6.7               \\\\\n",
       "\t333028 & 2006-02-11 08:11:42 &  5                  & 3                   & 316                 & 00:14:bf:b1:97:90   & -55                 & 1.1e+12             & 315                 & 5-3                 & -54                 & -54                 &  96                 & 1.77                & 2.0                 & 11.7               \\\\\n",
       "\t579089 & 2006-02-11 13:54:49 &  5                  & 7                   & 316                 & 00:14:bf:b1:97:90   & -59                 & 1.1e+12             & 315                 & 5-7                 & -59                 & -59                 &  95                 & 3.11                & 2.5                 &  8.1               \\\\\n",
       "\t623292 & 2006-02-11 14:53:24 &  5                  & 8                   & 324                 & 00:14:bf:b1:97:90   & -55                 & 1.1e+12             & 315                 & 5-8                 & -56                 & -56                 & 100                 & 2.90                & 4.0                 &  7.2               \\\\\n",
       "\t340661 & 2006-02-11 08:18:13 &  6                  & 3                   & 315                 & 00:14:bf:b1:97:90   & -58                 & 1.1e+12             & 315                 & 6-3                 & -56                 & -56                 &  93                 & 1.54                & 2.0                 & 12.1               \\\\\n",
       "\t571874 & 2006-02-11 13:48:14 &  6                  & 7                   & 316                 & 00:14:bf:b1:97:90   & -52                 & 1.1e+12             & 315                 & 6-7                 & -56                 & -56                 & 103                 & 3.28                & 3.0                 &  8.6               \\\\\n",
       "\t615982 & 2006-02-11 14:42:15 &  6                  & 8                   & 314                 & 00:14:bf:b1:97:90   & -71                 & 1.1e+12             & 315                 & 6-8                 & -68                 & -68                 &  91                 & 2.11                & 2.0                 &  7.8               \\\\\n",
       "\t348056 & 2006-02-11 08:24:14 &  7                  & 3                   & 315                 & 00:14:bf:b1:97:90   & -62                 & 1.1e+12             & 315                 & 7-3                 & -62                 & -62                 &  91                 & 1.42                & 2.0                 & 12.5               \\\\\n",
       "\t565066 & 2006-02-11 13:41:40 &  7                  & 7                   & 315                 & 00:14:bf:b1:97:90   & -58                 & 1.1e+12             & 315                 & 7-7                 & -62                 & -61                 &  93                 & 2.83                & 4.0                 &  9.2               \\\\\n",
       "\t608632 & 2006-02-11 14:34:48 &  7                  & 8                   & 314                 & 00:14:bf:b1:97:90   & -59                 & 1.1e+12             & 315                 & 7-8                 & -59                 & -59                 & 109                 & 1.83                & 3.0                 &  8.5               \\\\\n",
       "\t355433 & 2006-02-11 08:46:59 &  8                  & 3                   & 316                 & 00:14:bf:b1:97:90   & -67                 & 1.1e+12             & 315                 & 8-3                 & -69                 & -70                 &  94                 & 1.21                & 1.0                 & 13.0               \\\\\n",
       "\t557927 & 2006-02-11 13:35:26 &  8                  & 7                   & 315                 & 00:14:bf:b1:97:90   & -64                 & 1.1e+12             & 315                 & 8-7                 & -63                 & -63                 &  85                 & 3.01                & 2.0                 &  9.9               \\\\\n",
       "\t601447 & 2006-02-11 14:28:09 &  8                  & 8                   & 315                 & 00:14:bf:b1:97:90   & -64                 & 1.1e+12             & 315                 & 8-8                 & -59                 & -59                 &  91                 & 2.29                & 2.0                 &  9.2               \\\\\n",
       "\t362613 & 2006-02-11 08:53:08 &  9                  & 3                   & 315                 & 00:14:bf:b1:97:90   & -67                 & 1.1e+12             & 315                 & 9-3                 & -59                 & -60                 &  91                 & 3.67                & 1.0                 & 13.6               \\\\\n",
       "\t397165 & 2006-02-11 09:49:44 &  9                  & 4                   & 315                 & 00:14:bf:b1:97:90   & -66                 & 1.1e+12             & 315                 & 9-4                 & -70                 & -70                 &  84                 & 2.79                & 4.0                 & 12.8               \\\\\n",
       "\t487867 & 2006-02-11 12:01:56 &  9                  & 7                   & 315                 & 00:14:bf:b1:97:90   & -63                 & 1.1e+12             & 315                 & 9-7                 & -63                 & -63                 &  92                 & 2.91                & 2.0                 & 10.6               \\\\\n",
       "\t522466 & 2006-02-11 12:42:31 &  9                  & 8                   & 315                 & 00:14:bf:b1:97:90   & -73                 & 1.1e+12             & 315                 & 9-8                 & -69                 & -69                 &  88                 & 2.87                & 2.2                 & 10.0               \\\\\n",
       "\\end{tabular}\n"
      ],
      "text/markdown": [
       "\n",
       "| <!--/--> | time | posX | posY | orientation | mac | signal | rawTime | angle | posXY | medSignal | avgSignal | num | sdSignal | iqrSignal | dist |\n",
       "|---|---|---|---|---|---|---|---|---|---|---|---|---|---|---|---|\n",
       "| 3 | 2006-02-11 01:31:58 |  0                  |  0                  |   0.0               | 00:0f:a3:39:e1:c0   | -53                 | 1.1e+12             | 0                   | 0-0                 | -51                 | -51                 | 110                 | 1.4                 |  2.0                |  9.8                |\n",
       "| 24507 | 2006-02-11 02:03:44 |  0                  |  1                  |   0.7               | 00:0f:a3:39:e1:c0   | -49                 | 1.1e+12             | 0                   | 0-1                 | -51                 | -51                 | 110                 | 2.2                 |  3.0                |  9.2                |\n",
       "| 221774 | 2006-02-11 05:46:02 |  0                  | 10                  |   0.9               | 00:0f:a3:39:e1:c0   | -53                 | 1.1e+12             | 0                   | 0-10                | -56                 | -56                 | 110                 | 1.1                 |  1.0                |  8.4                |\n",
       "| 229185 | 2006-02-11 05:54:05 |  0                  | 11                  |   0.4               | 00:0f:a3:39:e1:c0   | -53                 | 1.1e+12             | 0                   | 0-11                | -53                 | -55                 | 110                 | 3.4                 |  7.0                |  8.9                |\n",
       "| 236489 | 2006-02-11 06:02:32 |  0                  | 12                  |   0.2               | 00:0f:a3:39:e1:c0   | -54                 | 1.1e+12             | 0                   | 0-12                | -55                 | -57                 | 110                 | 3.6                 |  7.8                |  9.4                |\n",
       "| 243539 | 2006-02-11 06:14:12 |  0                  | 13                  |   0.1               | 00:0f:a3:39:e1:c0   | -57                 | 1.1e+12             | 0                   | 0-13                | -57                 | -57                 | 110                 | 1.4                 |  1.0                | 10.1                |\n",
       "| 49625 | 2006-02-11 02:26:28 |  0                  |  2                  |   0.3               | 00:0f:a3:39:e1:c0   | -58                 | 1.1e+12             | 0                   | 0-2                 | -60                 | -60                 | 110                 | 2.7                 |  4.0                |  8.6                |\n",
       "| 73864 | 2006-02-11 02:47:06 |  0                  |  3                  |   0.2               | 00:0f:a3:39:e1:c0   | -53                 | 1.1e+12             | 0                   | 0-3                 | -55                 | -56                 | 110                 | 2.2                 |  3.0                |  8.2                |\n",
       "| 99008 | 2006-02-11 03:05:57 |  0                  |  4                  |   0.5               | 00:0f:a3:39:e1:c0   | -48                 | 1.1e+12             | 0                   | 0-4                 | -47                 | -48                 | 110                 | 2.7                 |  5.0                |  7.8                |\n",
       "| 199295 | 2006-02-11 05:22:44 |  0                  |  7                  |   0.3               | 00:0f:a3:39:e1:c0   | -58                 | 1.1e+12             | 0                   | 0-7                 | -57                 | -57                 | 110                 | 2.0                 |  2.0                |  7.5                |\n",
       "| 207187 | 2006-02-11 05:31:51 |  0                  |  8                  |   0.7               | 00:0f:a3:39:e1:c0   | -50                 | 1.1e+12             | 0                   | 0-8                 | -48                 | -50                 | 110                 | 5.8                 |  3.0                |  7.7                |\n",
       "| 214634 | 2006-02-11 05:38:04 |  0                  |  9                  |   0.3               | 00:0f:a3:39:e1:c0   | -59                 | 1.1e+12             | 0                   | 0-9                 | -49                 | -51                 | 110                 | 4.5                 |  2.0                |  8.0                |\n",
       "| 8313 | 2006-02-11 01:46:17 |  1                  |  0                  |   0.0               | 00:0f:a3:39:e1:c0   | -45                 | 1.1e+12             | 0                   | 1-0                 | -50                 | -49                 | 110                 | 3.0                 |  5.0                |  9.1                |\n",
       "| 32848 | 2006-02-11 02:11:49 |  1                  |  1                  |   0.4               | 00:0f:a3:39:e1:c0   | -60                 | 1.1e+12             | 0                   | 1-1                 | -52                 | -54                 | 110                 | 7.2                 |  3.0                |  8.4                |\n",
       "| 170127 | 2006-02-11 04:31:54 |  1                  | 10                  |   0.1               | 00:0f:a3:39:e1:c0   | -56                 | 1.1e+12             | 0                   | 1-10                | -61                 | -60                 | 109                 | 2.8                 |  5.0                |  7.5                |\n",
       "| 177657 | 2006-02-11 04:43:13 |  1                  | 11                  |   0.9               | 00:0f:a3:39:e1:c0   | -54                 | 1.1e+12             | 0                   | 1-11                | -54                 | -54                 | 110                 | 1.7                 |  1.0                |  8.0                |\n",
       "| 184971 | 2006-02-11 04:59:28 |  1                  | 12                  | 359.9               | 00:0f:a3:39:e1:c0   | -54                 | 1.1e+12             | 0                   | 1-12                | -55                 | -55                 | 110                 | 1.3                 |  2.0                |  8.6                |\n",
       "| 192298 | 2006-02-11 05:06:15 |  1                  | 13                  |   0.7               | 00:0f:a3:39:e1:c0   | -60                 | 1.1e+12             | 0                   | 1-13                | -57                 | -57                 | 110                 | 2.0                 |  3.8                |  9.3                |\n",
       "| 57598 | 2006-02-11 02:33:18 |  1                  |  2                  |   0.2               | 00:0f:a3:39:e1:c0   | -57                 | 1.1e+12             | 0                   | 1-2                 | -57                 | -57                 | 110                 | 1.9                 |  2.0                |  7.8                |\n",
       "| 82305 | 2006-02-11 02:53:26 |  1                  |  3                  |   0.2               | 00:0f:a3:39:e1:c0   | -51                 | 1.1e+12             | 0                   | 1-3                 | -49                 | -50                 | 110                 | 3.6                 |  5.8                |  7.3                |\n",
       "| 107322 | 2006-02-11 03:12:20 |  1                  |  4                  |   0.8               | 00:0f:a3:39:e1:c0   | -58                 | 1.1e+12             | 0                   | 1-4                 | -51                 | -51                 | 110                 | 2.5                 |  3.0                |  6.9                |\n",
       "| 123372 | 2006-02-11 03:42:49 |  1                  |  5                  |   0.3               | 00:0f:a3:39:e1:c0   | -52                 | 1.1e+12             | 0                   | 1-5                 | -51                 | -52                 | 110                 | 2.6                 |  5.0                |  6.6                |\n",
       "| 138863 | 2006-02-11 03:58:42 |  1                  |  6                  |   0.6               | 00:0f:a3:39:e1:c0   | -49                 | 1.1e+12             | 0                   | 1-6                 | -47                 | -47                 | 110                 | 3.4                 |  1.0                |  6.5                |\n",
       "| 146964 | 2006-02-11 04:09:28 |  1                  |  7                  |   0.1               | 00:0f:a3:39:e1:c0   | -54                 | 1.1e+12             | 0                   | 1-7                 | -55                 | -52                 | 110                 | 5.3                 | 10.0                |  6.5                |\n",
       "| 154734 | 2006-02-11 04:16:55 |  1                  |  8                  |   0.7               | 00:0f:a3:39:e1:c0   | -52                 | 1.1e+12             | 0                   | 1-8                 | -55                 | -56                 | 110                 | 3.4                 |  6.0                |  6.7                |\n",
       "| 162553 | 2006-02-11 04:24:26 |  1                  |  9                  |   0.5               | 00:0f:a3:39:e1:c0   | -61                 | 1.1e+12             | 0                   | 1-9                 | -54                 | -55                 | 110                 | 5.1                 |  9.0                |  7.0                |\n",
       "| 363611 | 2006-02-11 08:54:08 | 10                  |  3                  |   0.4               | 00:0f:a3:39:e1:c0   | -44                 | 1.1e+12             | 0                   | 10-3                | -44                 | -45                 | 110                 | 2.7                 |  4.0                |  4.1                |\n",
       "| 397974 | 2006-02-11 09:50:44 | 10                  |  4                  |   0.4               | 00:0f:a3:39:e1:c0   | -54                 | 1.1e+12             | 0                   | 10-4                | -50                 | -50                 | 109                 | 2.0                 |  3.0                |  3.4                |\n",
       "| 425213 | 2006-02-11 10:41:37 | 10                  |  5                  |   0.1               | 00:0f:a3:39:e1:c0   | -44                 | 1.1e+12             | 0                   | 10-5                | -45                 | -44                 | 110                 | 1.3                 |  2.0                |  2.8                |\n",
       "| 453660 | 2006-02-11 11:12:14 | 10                  |  6                  |   1.0               | 00:0f:a3:39:e1:c0   | -44                 | 1.1e+12             | 0                   | 10-6                | -43                 | -43                 | 110                 | 1.1                 |  1.0                |  2.5                |\n",
       "| ... | ... | ... | ... | ... | ... | ... | ... | ... | ... | ... | ... | ... | ... | ... | ... |\n",
       "| 1035594 | 2006-02-19 13:04:59 | 31                  | 8                   | 316                 | 00:14:bf:b1:97:90   | -81                 | 1.1e+12             | 315                 | 31-8                | -79                 | -80                 |  91                 | 0.83                | 1.0                 | 30.6                |\n",
       "| 1083286 | 2006-02-19 14:02:05 | 32                  | 3                   | 316                 | 00:14:bf:b1:97:90   | -80                 | 1.1e+12             | 315                 | 32-3                | -81                 | -81                 |  94                 | 0.89                | 1.8                 | 32.9                |\n",
       "| 1069564 | 2006-02-19 13:50:18 | 32                  | 4                   | 315                 | 00:14:bf:b1:97:90   | -79                 | 1.1e+12             | 315                 | 32-4                | -80                 | -80                 |  85                 | 0.94                | 1.0                 | 32.6                |\n",
       "| 1062687 | 2006-02-19 13:32:43 | 32                  | 5                   | 315                 | 00:14:bf:b1:97:90   | -84                 | 1.1e+12             | 315                 | 32-5                | -82                 | -82                 |  86                 | 1.38                | 1.0                 | 32.3                |\n",
       "| 1055693 | 2006-02-19 13:26:38 | 32                  | 6                   | 315                 | 00:14:bf:b1:97:90   | -84                 | 1.1e+12             | 315                 | 32-6                | -83                 | -83                 | 100                 | 1.18                | 2.0                 | 32.0                |\n",
       "| 995107 | 2006-02-19 11:07:40 | 32                  | 7                   | 315                 | 00:14:bf:b1:97:90   | -80                 | 1.1e+12             | 315                 | 32-7                | -77                 | -77                 |  95                 | 2.05                | 3.0                 | 31.8                |\n",
       "| 1042381 | 2006-02-19 13:12:18 | 32                  | 8                   | 316                 | 00:14:bf:b1:97:90   | -79                 | 1.1e+12             | 315                 | 32-8                | -79                 | -79                 |  90                 | 0.85                | 2.0                 | 31.6                |\n",
       "| 1090205 | 2006-02-19 14:24:51 | 33                  | 3                   | 314                 | 00:14:bf:b1:97:90   | -74                 | 1.1e+12             | 315                 | 33-3                | -78                 | -78                 |  86                 | 1.33                | 0.0                 | 33.8                |\n",
       "| 1076378 | 2006-02-19 13:56:02 | 33                  | 4                   | 314                 | 00:14:bf:b1:97:90   | -85                 | 1.1e+12             | 315                 | 33-4                | -86                 | -86                 | 102                 | 1.95                | 2.0                 | 33.5                |\n",
       "| 1001811 | 2006-02-19 11:16:34 | 33                  | 7                   | 315                 | 00:14:bf:b1:97:90   | -76                 | 1.1e+12             | 315                 | 33-7                | -77                 | -77                 |  98                 | 1.96                | 2.0                 | 32.8                |\n",
       "| 1048910 | 2006-02-19 13:19:03 | 33                  | 8                   | 315                 | 00:14:bf:b1:97:90   | -84                 | 1.1e+12             | 315                 | 33-8                | -81                 | -81                 | 102                 | 2.24                | 3.0                 | 32.6                |\n",
       "| 325913 | 2006-02-11 08:05:21 |  4                  | 3                   | 315                 | 00:14:bf:b1:97:90   | -58                 | 1.1e+12             | 315                 | 4-3                 | -57                 | -57                 | 100                 | 2.50                | 4.0                 | 11.4                |\n",
       "| 586527 | 2006-02-11 14:01:42 |  4                  | 7                   | 316                 | 00:14:bf:b1:97:90   | -51                 | 1.1e+12             | 315                 | 4-7                 | -54                 | -55                 |  94                 | 3.28                | 6.8                 |  7.6                |\n",
       "| 630534 | 2006-02-11 14:59:17 |  4                  | 8                   | 315                 | 00:14:bf:b1:97:90   | -61                 | 1.1e+12             | 315                 | 4-8                 | -58                 | -58                 |  99                 | 1.26                | 2.0                 |  6.7                |\n",
       "| 333028 | 2006-02-11 08:11:42 |  5                  | 3                   | 316                 | 00:14:bf:b1:97:90   | -55                 | 1.1e+12             | 315                 | 5-3                 | -54                 | -54                 |  96                 | 1.77                | 2.0                 | 11.7                |\n",
       "| 579089 | 2006-02-11 13:54:49 |  5                  | 7                   | 316                 | 00:14:bf:b1:97:90   | -59                 | 1.1e+12             | 315                 | 5-7                 | -59                 | -59                 |  95                 | 3.11                | 2.5                 |  8.1                |\n",
       "| 623292 | 2006-02-11 14:53:24 |  5                  | 8                   | 324                 | 00:14:bf:b1:97:90   | -55                 | 1.1e+12             | 315                 | 5-8                 | -56                 | -56                 | 100                 | 2.90                | 4.0                 |  7.2                |\n",
       "| 340661 | 2006-02-11 08:18:13 |  6                  | 3                   | 315                 | 00:14:bf:b1:97:90   | -58                 | 1.1e+12             | 315                 | 6-3                 | -56                 | -56                 |  93                 | 1.54                | 2.0                 | 12.1                |\n",
       "| 571874 | 2006-02-11 13:48:14 |  6                  | 7                   | 316                 | 00:14:bf:b1:97:90   | -52                 | 1.1e+12             | 315                 | 6-7                 | -56                 | -56                 | 103                 | 3.28                | 3.0                 |  8.6                |\n",
       "| 615982 | 2006-02-11 14:42:15 |  6                  | 8                   | 314                 | 00:14:bf:b1:97:90   | -71                 | 1.1e+12             | 315                 | 6-8                 | -68                 | -68                 |  91                 | 2.11                | 2.0                 |  7.8                |\n",
       "| 348056 | 2006-02-11 08:24:14 |  7                  | 3                   | 315                 | 00:14:bf:b1:97:90   | -62                 | 1.1e+12             | 315                 | 7-3                 | -62                 | -62                 |  91                 | 1.42                | 2.0                 | 12.5                |\n",
       "| 565066 | 2006-02-11 13:41:40 |  7                  | 7                   | 315                 | 00:14:bf:b1:97:90   | -58                 | 1.1e+12             | 315                 | 7-7                 | -62                 | -61                 |  93                 | 2.83                | 4.0                 |  9.2                |\n",
       "| 608632 | 2006-02-11 14:34:48 |  7                  | 8                   | 314                 | 00:14:bf:b1:97:90   | -59                 | 1.1e+12             | 315                 | 7-8                 | -59                 | -59                 | 109                 | 1.83                | 3.0                 |  8.5                |\n",
       "| 355433 | 2006-02-11 08:46:59 |  8                  | 3                   | 316                 | 00:14:bf:b1:97:90   | -67                 | 1.1e+12             | 315                 | 8-3                 | -69                 | -70                 |  94                 | 1.21                | 1.0                 | 13.0                |\n",
       "| 557927 | 2006-02-11 13:35:26 |  8                  | 7                   | 315                 | 00:14:bf:b1:97:90   | -64                 | 1.1e+12             | 315                 | 8-7                 | -63                 | -63                 |  85                 | 3.01                | 2.0                 |  9.9                |\n",
       "| 601447 | 2006-02-11 14:28:09 |  8                  | 8                   | 315                 | 00:14:bf:b1:97:90   | -64                 | 1.1e+12             | 315                 | 8-8                 | -59                 | -59                 |  91                 | 2.29                | 2.0                 |  9.2                |\n",
       "| 362613 | 2006-02-11 08:53:08 |  9                  | 3                   | 315                 | 00:14:bf:b1:97:90   | -67                 | 1.1e+12             | 315                 | 9-3                 | -59                 | -60                 |  91                 | 3.67                | 1.0                 | 13.6                |\n",
       "| 397165 | 2006-02-11 09:49:44 |  9                  | 4                   | 315                 | 00:14:bf:b1:97:90   | -66                 | 1.1e+12             | 315                 | 9-4                 | -70                 | -70                 |  84                 | 2.79                | 4.0                 | 12.8                |\n",
       "| 487867 | 2006-02-11 12:01:56 |  9                  | 7                   | 315                 | 00:14:bf:b1:97:90   | -63                 | 1.1e+12             | 315                 | 9-7                 | -63                 | -63                 |  92                 | 2.91                | 2.0                 | 10.6                |\n",
       "| 522466 | 2006-02-11 12:42:31 |  9                  | 8                   | 315                 | 00:14:bf:b1:97:90   | -73                 | 1.1e+12             | 315                 | 9-8                 | -69                 | -69                 |  88                 | 2.87                | 2.2                 | 10.0                |\n",
       "\n"
      ],
      "text/plain": [
       "        time                posX posY orientation mac               signal\n",
       "3       2006-02-11 01:31:58  0    0     0.0       00:0f:a3:39:e1:c0 -53   \n",
       "24507   2006-02-11 02:03:44  0    1     0.7       00:0f:a3:39:e1:c0 -49   \n",
       "221774  2006-02-11 05:46:02  0   10     0.9       00:0f:a3:39:e1:c0 -53   \n",
       "229185  2006-02-11 05:54:05  0   11     0.4       00:0f:a3:39:e1:c0 -53   \n",
       "236489  2006-02-11 06:02:32  0   12     0.2       00:0f:a3:39:e1:c0 -54   \n",
       "243539  2006-02-11 06:14:12  0   13     0.1       00:0f:a3:39:e1:c0 -57   \n",
       "49625   2006-02-11 02:26:28  0    2     0.3       00:0f:a3:39:e1:c0 -58   \n",
       "73864   2006-02-11 02:47:06  0    3     0.2       00:0f:a3:39:e1:c0 -53   \n",
       "99008   2006-02-11 03:05:57  0    4     0.5       00:0f:a3:39:e1:c0 -48   \n",
       "199295  2006-02-11 05:22:44  0    7     0.3       00:0f:a3:39:e1:c0 -58   \n",
       "207187  2006-02-11 05:31:51  0    8     0.7       00:0f:a3:39:e1:c0 -50   \n",
       "214634  2006-02-11 05:38:04  0    9     0.3       00:0f:a3:39:e1:c0 -59   \n",
       "8313    2006-02-11 01:46:17  1    0     0.0       00:0f:a3:39:e1:c0 -45   \n",
       "32848   2006-02-11 02:11:49  1    1     0.4       00:0f:a3:39:e1:c0 -60   \n",
       "170127  2006-02-11 04:31:54  1   10     0.1       00:0f:a3:39:e1:c0 -56   \n",
       "177657  2006-02-11 04:43:13  1   11     0.9       00:0f:a3:39:e1:c0 -54   \n",
       "184971  2006-02-11 04:59:28  1   12   359.9       00:0f:a3:39:e1:c0 -54   \n",
       "192298  2006-02-11 05:06:15  1   13     0.7       00:0f:a3:39:e1:c0 -60   \n",
       "57598   2006-02-11 02:33:18  1    2     0.2       00:0f:a3:39:e1:c0 -57   \n",
       "82305   2006-02-11 02:53:26  1    3     0.2       00:0f:a3:39:e1:c0 -51   \n",
       "107322  2006-02-11 03:12:20  1    4     0.8       00:0f:a3:39:e1:c0 -58   \n",
       "123372  2006-02-11 03:42:49  1    5     0.3       00:0f:a3:39:e1:c0 -52   \n",
       "138863  2006-02-11 03:58:42  1    6     0.6       00:0f:a3:39:e1:c0 -49   \n",
       "146964  2006-02-11 04:09:28  1    7     0.1       00:0f:a3:39:e1:c0 -54   \n",
       "154734  2006-02-11 04:16:55  1    8     0.7       00:0f:a3:39:e1:c0 -52   \n",
       "162553  2006-02-11 04:24:26  1    9     0.5       00:0f:a3:39:e1:c0 -61   \n",
       "363611  2006-02-11 08:54:08 10    3     0.4       00:0f:a3:39:e1:c0 -44   \n",
       "397974  2006-02-11 09:50:44 10    4     0.4       00:0f:a3:39:e1:c0 -54   \n",
       "425213  2006-02-11 10:41:37 10    5     0.1       00:0f:a3:39:e1:c0 -44   \n",
       "453660  2006-02-11 11:12:14 10    6     1.0       00:0f:a3:39:e1:c0 -44   \n",
       "...     ...                 ...  ...  ...         ...               ...   \n",
       "1035594 2006-02-19 13:04:59 31   8    316         00:14:bf:b1:97:90 -81   \n",
       "1083286 2006-02-19 14:02:05 32   3    316         00:14:bf:b1:97:90 -80   \n",
       "1069564 2006-02-19 13:50:18 32   4    315         00:14:bf:b1:97:90 -79   \n",
       "1062687 2006-02-19 13:32:43 32   5    315         00:14:bf:b1:97:90 -84   \n",
       "1055693 2006-02-19 13:26:38 32   6    315         00:14:bf:b1:97:90 -84   \n",
       "995107  2006-02-19 11:07:40 32   7    315         00:14:bf:b1:97:90 -80   \n",
       "1042381 2006-02-19 13:12:18 32   8    316         00:14:bf:b1:97:90 -79   \n",
       "1090205 2006-02-19 14:24:51 33   3    314         00:14:bf:b1:97:90 -74   \n",
       "1076378 2006-02-19 13:56:02 33   4    314         00:14:bf:b1:97:90 -85   \n",
       "1001811 2006-02-19 11:16:34 33   7    315         00:14:bf:b1:97:90 -76   \n",
       "1048910 2006-02-19 13:19:03 33   8    315         00:14:bf:b1:97:90 -84   \n",
       "325913  2006-02-11 08:05:21  4   3    315         00:14:bf:b1:97:90 -58   \n",
       "586527  2006-02-11 14:01:42  4   7    316         00:14:bf:b1:97:90 -51   \n",
       "630534  2006-02-11 14:59:17  4   8    315         00:14:bf:b1:97:90 -61   \n",
       "333028  2006-02-11 08:11:42  5   3    316         00:14:bf:b1:97:90 -55   \n",
       "579089  2006-02-11 13:54:49  5   7    316         00:14:bf:b1:97:90 -59   \n",
       "623292  2006-02-11 14:53:24  5   8    324         00:14:bf:b1:97:90 -55   \n",
       "340661  2006-02-11 08:18:13  6   3    315         00:14:bf:b1:97:90 -58   \n",
       "571874  2006-02-11 13:48:14  6   7    316         00:14:bf:b1:97:90 -52   \n",
       "615982  2006-02-11 14:42:15  6   8    314         00:14:bf:b1:97:90 -71   \n",
       "348056  2006-02-11 08:24:14  7   3    315         00:14:bf:b1:97:90 -62   \n",
       "565066  2006-02-11 13:41:40  7   7    315         00:14:bf:b1:97:90 -58   \n",
       "608632  2006-02-11 14:34:48  7   8    314         00:14:bf:b1:97:90 -59   \n",
       "355433  2006-02-11 08:46:59  8   3    316         00:14:bf:b1:97:90 -67   \n",
       "557927  2006-02-11 13:35:26  8   7    315         00:14:bf:b1:97:90 -64   \n",
       "601447  2006-02-11 14:28:09  8   8    315         00:14:bf:b1:97:90 -64   \n",
       "362613  2006-02-11 08:53:08  9   3    315         00:14:bf:b1:97:90 -67   \n",
       "397165  2006-02-11 09:49:44  9   4    315         00:14:bf:b1:97:90 -66   \n",
       "487867  2006-02-11 12:01:56  9   7    315         00:14:bf:b1:97:90 -63   \n",
       "522466  2006-02-11 12:42:31  9   8    315         00:14:bf:b1:97:90 -73   \n",
       "        rawTime angle posXY medSignal avgSignal num sdSignal iqrSignal dist\n",
       "3       1.1e+12 0     0-0   -51       -51       110 1.4       2.0       9.8\n",
       "24507   1.1e+12 0     0-1   -51       -51       110 2.2       3.0       9.2\n",
       "221774  1.1e+12 0     0-10  -56       -56       110 1.1       1.0       8.4\n",
       "229185  1.1e+12 0     0-11  -53       -55       110 3.4       7.0       8.9\n",
       "236489  1.1e+12 0     0-12  -55       -57       110 3.6       7.8       9.4\n",
       "243539  1.1e+12 0     0-13  -57       -57       110 1.4       1.0      10.1\n",
       "49625   1.1e+12 0     0-2   -60       -60       110 2.7       4.0       8.6\n",
       "73864   1.1e+12 0     0-3   -55       -56       110 2.2       3.0       8.2\n",
       "99008   1.1e+12 0     0-4   -47       -48       110 2.7       5.0       7.8\n",
       "199295  1.1e+12 0     0-7   -57       -57       110 2.0       2.0       7.5\n",
       "207187  1.1e+12 0     0-8   -48       -50       110 5.8       3.0       7.7\n",
       "214634  1.1e+12 0     0-9   -49       -51       110 4.5       2.0       8.0\n",
       "8313    1.1e+12 0     1-0   -50       -49       110 3.0       5.0       9.1\n",
       "32848   1.1e+12 0     1-1   -52       -54       110 7.2       3.0       8.4\n",
       "170127  1.1e+12 0     1-10  -61       -60       109 2.8       5.0       7.5\n",
       "177657  1.1e+12 0     1-11  -54       -54       110 1.7       1.0       8.0\n",
       "184971  1.1e+12 0     1-12  -55       -55       110 1.3       2.0       8.6\n",
       "192298  1.1e+12 0     1-13  -57       -57       110 2.0       3.8       9.3\n",
       "57598   1.1e+12 0     1-2   -57       -57       110 1.9       2.0       7.8\n",
       "82305   1.1e+12 0     1-3   -49       -50       110 3.6       5.8       7.3\n",
       "107322  1.1e+12 0     1-4   -51       -51       110 2.5       3.0       6.9\n",
       "123372  1.1e+12 0     1-5   -51       -52       110 2.6       5.0       6.6\n",
       "138863  1.1e+12 0     1-6   -47       -47       110 3.4       1.0       6.5\n",
       "146964  1.1e+12 0     1-7   -55       -52       110 5.3      10.0       6.5\n",
       "154734  1.1e+12 0     1-8   -55       -56       110 3.4       6.0       6.7\n",
       "162553  1.1e+12 0     1-9   -54       -55       110 5.1       9.0       7.0\n",
       "363611  1.1e+12 0     10-3  -44       -45       110 2.7       4.0       4.1\n",
       "397974  1.1e+12 0     10-4  -50       -50       109 2.0       3.0       3.4\n",
       "425213  1.1e+12 0     10-5  -45       -44       110 1.3       2.0       2.8\n",
       "453660  1.1e+12 0     10-6  -43       -43       110 1.1       1.0       2.5\n",
       "...     ...     ...   ...   ...       ...       ... ...      ...       ... \n",
       "1035594 1.1e+12 315   31-8  -79       -80        91 0.83     1.0       30.6\n",
       "1083286 1.1e+12 315   32-3  -81       -81        94 0.89     1.8       32.9\n",
       "1069564 1.1e+12 315   32-4  -80       -80        85 0.94     1.0       32.6\n",
       "1062687 1.1e+12 315   32-5  -82       -82        86 1.38     1.0       32.3\n",
       "1055693 1.1e+12 315   32-6  -83       -83       100 1.18     2.0       32.0\n",
       "995107  1.1e+12 315   32-7  -77       -77        95 2.05     3.0       31.8\n",
       "1042381 1.1e+12 315   32-8  -79       -79        90 0.85     2.0       31.6\n",
       "1090205 1.1e+12 315   33-3  -78       -78        86 1.33     0.0       33.8\n",
       "1076378 1.1e+12 315   33-4  -86       -86       102 1.95     2.0       33.5\n",
       "1001811 1.1e+12 315   33-7  -77       -77        98 1.96     2.0       32.8\n",
       "1048910 1.1e+12 315   33-8  -81       -81       102 2.24     3.0       32.6\n",
       "325913  1.1e+12 315   4-3   -57       -57       100 2.50     4.0       11.4\n",
       "586527  1.1e+12 315   4-7   -54       -55        94 3.28     6.8        7.6\n",
       "630534  1.1e+12 315   4-8   -58       -58        99 1.26     2.0        6.7\n",
       "333028  1.1e+12 315   5-3   -54       -54        96 1.77     2.0       11.7\n",
       "579089  1.1e+12 315   5-7   -59       -59        95 3.11     2.5        8.1\n",
       "623292  1.1e+12 315   5-8   -56       -56       100 2.90     4.0        7.2\n",
       "340661  1.1e+12 315   6-3   -56       -56        93 1.54     2.0       12.1\n",
       "571874  1.1e+12 315   6-7   -56       -56       103 3.28     3.0        8.6\n",
       "615982  1.1e+12 315   6-8   -68       -68        91 2.11     2.0        7.8\n",
       "348056  1.1e+12 315   7-3   -62       -62        91 1.42     2.0       12.5\n",
       "565066  1.1e+12 315   7-7   -62       -61        93 2.83     4.0        9.2\n",
       "608632  1.1e+12 315   7-8   -59       -59       109 1.83     3.0        8.5\n",
       "355433  1.1e+12 315   8-3   -69       -70        94 1.21     1.0       13.0\n",
       "557927  1.1e+12 315   8-7   -63       -63        85 3.01     2.0        9.9\n",
       "601447  1.1e+12 315   8-8   -59       -59        91 2.29     2.0        9.2\n",
       "362613  1.1e+12 315   9-3   -59       -60        91 3.67     1.0       13.6\n",
       "397165  1.1e+12 315   9-4   -70       -70        84 2.79     4.0       12.8\n",
       "487867  1.1e+12 315   9-7   -63       -63        92 2.91     2.0       10.6\n",
       "522466  1.1e+12 315   9-8   -69       -69        88 2.87     2.2       10.0"
      ]
     },
     "metadata": {},
     "output_type": "display_data"
    }
   ],
   "source": [
    "offlineSummary"
   ]
  },
  {
   "cell_type": "code",
   "execution_count": 99,
   "metadata": {},
   "outputs": [],
   "source": [
    "# For each fold, find k-NN for k=1, 2,...,K. Aggregate errors over v folds.\n",
    "# Wrap code from above in loops over folds and number of neighbors\n",
    "\n",
    "K = 20\n",
    "err = rep(0, K)\n",
    "\n",
    "for (j in 1:v) {\n",
    "  onlineFold = subset(onlineCVSummary, \n",
    "                      posXY %in% permuteLocs[ , j])\n",
    "  offlineFold = subset(offlineSummary,\n",
    "                       posXY %in% permuteLocs[ , -j])\n",
    "  actualFold = onlineFold[ , c(\"posX\", \"posY\")]\n",
    "  \n",
    "  for (k in 1:K) {\n",
    "    estFold = predXY(newSignals = onlineFold[ , 6:11],\n",
    "                     newAngles = onlineFold[ , 4], \n",
    "                     offlineFold, numAngles = 3, k = k)\n",
    "    err[k] = err[k] + calcError(estFold, actualFold)\n",
    "  }\n",
    "}\n"
   ]
  },
  {
   "cell_type": "code",
   "execution_count": 100,
   "metadata": {},
   "outputs": [
    {
     "data": {
      "text/html": [
       "<strong>null device:</strong> 1"
      ],
      "text/latex": [
       "\\textbf{null device:} 1"
      ],
      "text/markdown": [
       "**null device:** 1"
      ],
      "text/plain": [
       "null device \n",
       "          1 "
      ]
     },
     "metadata": {},
     "output_type": "display_data"
    },
    {
     "data": {
      "image/png": "[encoded data removed]",
      "text/plain": [
       "plot without title"
      ]
     },
     "metadata": {},
     "output_type": "display_data"
    }
   ],
   "source": [
    "# Plot Sum of Squared Errors as function of k (figure 1.13)\n",
    "\n",
    "#pdf(file = \"Geo_CVChoiceOfK.pdf\", width = 10, height = 6)\n",
    "oldPar = par(mar = c(4, 3, 1, 1))\n",
    "plot(y = err, x = (1:K),  type = \"l\", lwd= 2,\n",
    "     ylim = c(1200, 2100),\n",
    "     xlab = \"Number of Neighbors\",\n",
    "     ylab = \"Sum of Square Errors\")\n",
    "\n",
    "rmseMin = min(err)\n",
    "kMin = which(err == rmseMin)[1]\n",
    "segments(x0 = 0, x1 = kMin, y0 = rmseMin, col = gray(0.4), \n",
    "         lty = 2, lwd = 2)\n",
    "segments(x0 = kMin, x1 = kMin, y0 = 1100,  y1 = rmseMin, \n",
    "         col = grey(0.4), lty = 2, lwd = 2)\n",
    "\n",
    "#mtext(kMin, side = 1, line = 1, at = kMin, col = grey(0.4))\n",
    "text(x = kMin - 2, y = rmseMin + 40, \n",
    "     label = as.character(round(rmseMin)), col = grey(0.4))\n",
    "par(oldPar)\n",
    "dev.off()\n"
   ]
  },
  {
   "cell_type": "code",
   "execution_count": 101,
   "metadata": {},
   "outputs": [],
   "source": [
    "# Use value of 5 for nearest neighbor from cross-validation and apply to original training and test\n",
    "estXYk5 = predXY(newSignals = onlineSummary[ , 6:11], \n",
    "                 newAngles = onlineSummary[ , 4], \n",
    "                 offlineSummary, numAngles = 3, k = 5)"
   ]
  },
  {
   "cell_type": "code",
   "execution_count": 102,
   "metadata": {},
   "outputs": [
    {
     "data": {
      "text/html": [
       "275.5083"
      ],
      "text/latex": [
       "275.5083"
      ],
      "text/markdown": [
       "275.5083"
      ],
      "text/plain": [
       "[1] 276"
      ]
     },
     "metadata": {},
     "output_type": "display_data"
    }
   ],
   "source": [
    "# Tally errors in preidctions\n",
    "\n",
    "calcError(estXYk5, actualXY)\n",
    "\n",
    "# values for k = 1 and k = 3 were 659 and 307\n",
    "# value of k = 5 may not minimize value for online data because it was chosen without refernce to online data\n",
    "# hence use cross validation (don't use online data in both selection of k and assessment of prediction"
   ]
  },
  {
   "cell_type": "code",
   "execution_count": 103,
   "metadata": {},
   "outputs": [],
   "source": [
    "# Speed up Cross Validation Code, consider predXY()\n",
    "\n",
    "predXY = function(newSignals, newAngles, trainData, \n",
    "                  numAngles = 1, k = 3){\n",
    "  \n",
    "  closeXY = list(length = nrow(newSignals))\n",
    "  \n",
    "  for (i in 1:nrow(newSignals)) {\n",
    "    trainSS = selectTrain(newAngles[i], trainData, m = numAngles)\n",
    "    closeXY[[i]] = findNN(newSignal = as.numeric(newSignals[i, ]),\n",
    "                          trainSS)\n",
    "  }\n",
    "  \n",
    "  estXY = lapply(closeXY, function(x)\n",
    "    sapply(x[ , 2:3], \n",
    "           function(x) mean(x[1:k])))\n",
    "  estXY = do.call(\"rbind\", estXY)\n",
    "  return(estXY)\n",
    "}\n",
    "\n",
    "# Recall findNN() returns all positions for training data, ordered according to their distance from the new observation's signal strength.\n",
    "# Use first k positions but we have all locations so we can calculate estimates for all values of k; cumsum() helpful\n",
    "# cumsum(x[1-:K])/(1:K) provides K means\n",
    "# modify predXY() to return all K estiates and eliminate inner loop over k \n"
   ]
  },
  {
   "cell_type": "markdown",
   "metadata": {},
   "source": [
    "## Investigate number of angles to include in the trainig data; can use cross-validation to select parameter.\n",
    "## Can be selected jointly via cross-valudation\n",
    "\n",
    "## Ideas -\n",
    "\n",
    "* KNN regression  \n",
    "* Manhattan distance  \n",
    "* creating a larger grid size e.g. instead of 15 by 26 in 1 meter increments positions do 5 meter increments. This would reduce the number of classes, while hopefully being granular enough for the purpose.   \n",
    "* dimensionality reduction  \n",
    "* scaling signals  "
   ]
  },
  {
   "cell_type": "markdown",
   "metadata": {},
   "source": [
    "### 1.6 Results"
   ]
  },
  {
   "cell_type": "markdown",
   "metadata": {},
   "source": [
    "### 1.7 Conclusion"
   ]
  },
  {
   "cell_type": "markdown",
   "metadata": {},
   "source": [
    "### 1.8 References"
   ]
  },
  {
   "cell_type": "code",
   "execution_count": null,
   "metadata": {},
   "outputs": [],
   "source": []
  }
 ],
 "metadata": {
  "kernelspec": {
   "display_name": "R",
   "language": "R",
   "name": "ir"
  },
  "language_info": {
   "codemirror_mode": "r",
   "file_extension": ".r",
   "mimetype": "text/x-r-source",
   "name": "R",
   "pygments_lexer": "r",
   "version": "3.6.1"
  }
 },
 "nbformat": 4,
 "nbformat_minor": 4
}
