{
 "cells": [
  {
   "cell_type": "markdown",
   "metadata": {
    "colab_type": "text",
    "id": "fTFj8ft5dlbS"
   },
   "source": [
    "##### Copyright 2018 The TensorFlow Authors."
   ]
  },
  {
   "cell_type": "code",
   "execution_count": 1,
   "metadata": {
    "cellView": "form",
    "colab": {},
    "colab_type": "code",
    "id": "lzyBOpYMdp3F"
   },
   "outputs": [],
   "source": [
    "#@title Licensed under the Apache License, Version 2.0 (the \"License\");\n",
    "# you may not use this file except in compliance with the License.\n",
    "# You may obtain a copy of the License at\n",
    "#\n",
    "# https://www.apache.org/licenses/LICENSE-2.0\n",
    "#\n",
    "# Unless required by applicable law or agreed to in writing, software\n",
    "# distributed under the License is distributed on an \"AS IS\" BASIS,\n",
    "# WITHOUT WARRANTIES OR CONDITIONS OF ANY KIND, either express or implied.\n",
    "# See the License for the specific language governing permissions and\n",
    "# limitations under the License."
   ]
  },
  {
   "cell_type": "code",
   "execution_count": 2,
   "metadata": {
    "cellView": "form",
    "colab": {},
    "colab_type": "code",
    "id": "m_x4KfSJ7Vt7"
   },
   "outputs": [],
   "source": [
    "#@title MIT License\n",
    "#\n",
    "# Copyright (c) 2017 François Chollet\n",
    "#\n",
    "# Permission is hereby granted, free of charge, to any person obtaining a\n",
    "# copy of this software and associated documentation files (the \"Software\"),\n",
    "# to deal in the Software without restriction, including without limitation\n",
    "# the rights to use, copy, modify, merge, publish, distribute, sublicense,\n",
    "# and/or sell copies of the Software, and to permit persons to whom the\n",
    "# Software is furnished to do so, subject to the following conditions:\n",
    "#\n",
    "# The above copyright notice and this permission notice shall be included in\n",
    "# all copies or substantial portions of the Software.\n",
    "#\n",
    "# THE SOFTWARE IS PROVIDED \"AS IS\", WITHOUT WARRANTY OF ANY KIND, EXPRESS OR\n",
    "# IMPLIED, INCLUDING BUT NOT LIMITED TO THE WARRANTIES OF MERCHANTABILITY,\n",
    "# FITNESS FOR A PARTICULAR PURPOSE AND NONINFRINGEMENT. IN NO EVENT SHALL\n",
    "# THE AUTHORS OR COPYRIGHT HOLDERS BE LIABLE FOR ANY CLAIM, DAMAGES OR OTHER\n",
    "# LIABILITY, WHETHER IN AN ACTION OF CONTRACT, TORT OR OTHERWISE, ARISING\n",
    "# FROM, OUT OF OR IN CONNECTION WITH THE SOFTWARE OR THE USE OR OTHER\n",
    "# DEALINGS IN THE SOFTWARE."
   ]
  },
  {
   "cell_type": "markdown",
   "metadata": {
    "colab_type": "text",
    "id": "C9HmC2T4ld5B"
   },
   "source": [
    "# Overfit and underfit"
   ]
  },
  {
   "cell_type": "markdown",
   "metadata": {
    "colab_type": "text",
    "id": "kRTxFhXAlnl1"
   },
   "source": [
    "<table class=\"tfo-notebook-buttons\" align=\"left\">\n",
    "  <td>\n",
    "    <a target=\"_blank\" href=\"https://www.tensorflow.org/tutorials/keras/overfit_and_underfit\"><img src=\"https://www.tensorflow.org/images/tf_logo_32px.png\" />View on TensorFlow.org</a>\n",
    "  </td>\n",
    "  <td>\n",
    "    <a target=\"_blank\" href=\"https://colab.research.google.com/github/tensorflow/docs/blob/master/site/en/tutorials/keras/overfit_and_underfit.ipynb\"><img src=\"https://www.tensorflow.org/images/colab_logo_32px.png\" />Run in Google Colab</a>\n",
    "  </td>\n",
    "  <td>\n",
    "    <a target=\"_blank\" href=\"https://github.com/tensorflow/docs/blob/master/site/en/tutorials/keras/overfit_and_underfit.ipynb\"><img src=\"https://www.tensorflow.org/images/GitHub-Mark-32px.png\" />View source on GitHub</a>\n",
    "  </td>\n",
    "  <td>\n",
    "    <a href=\"https://storage.googleapis.com/tensorflow_docs/docs/site/en/tutorials/keras/overfit_and_underfit.ipynb\"><img src=\"https://www.tensorflow.org/images/download_logo_32px.png\" />Download notebook</a>\n",
    "  </td>\n",
    "</table>"
   ]
  },
  {
   "cell_type": "markdown",
   "metadata": {
    "colab_type": "text",
    "id": "19rPukKZsPG6"
   },
   "source": [
    "As always, the code in this example will use the `tf.keras` API, which you can learn more about in the TensorFlow [Keras guide](https://www.tensorflow.org/guide/keras).\n",
    "\n",
    "In both of the previous examples—[classifying text](https://www.tensorflow.org/tutorials/keras/text_classification_with_hub) and [predicting fuel efficiency](https://www.tensorflow.org/tutorials/keras/regression) — we saw that the accuracy of our model on the validation data would peak after training for a number of epochs, and would then stagnate or start decreasing.\n",
    "\n",
    "In other words, our model would *overfit* to the training data. Learning how to deal with overfitting is important. Although it's often possible to achieve high accuracy on the *training set*, what we really want is to develop models that generalize well to a *testing set* (or data they haven't seen before).\n",
    "\n",
    "The opposite of overfitting is *underfitting*. Underfitting occurs when there is still room for improvement on the test data. This can happen for a number of reasons: If the model is not powerful enough, is over-regularized, or has simply not been trained long enough. This means the network has not learned the relevant patterns in the training data.\n",
    "\n",
    "If you train for too long though, the model will start to overfit and learn patterns from the training data that don't generalize to the test data. We need to strike a balance. Understanding how to train for an appropriate number of epochs as we'll explore below is a useful skill.\n",
    "\n",
    "To prevent overfitting, the best solution is to use more complete training data. The dataset should cover the full range of inputs that the model is expected to handle. Additional data may only be useful if it covers new and interesting cases.\n",
    "\n",
    "A model trained on more complete data will naturally generalize better. When that is no longer possible, the next best solution is to use techniques like regularization. These place constraints on the quantity and type of information your model can store.  If a network can only afford to memorize a small number of patterns, the optimization process will force it to focus on the most prominent patterns, which have a better chance of generalizing well.\n",
    "\n",
    "In this notebook, we'll explore several common regularization techniques, and use them to improve on a classification model."
   ]
  },
  {
   "cell_type": "markdown",
   "metadata": {
    "colab_type": "text",
    "id": "WL8UoOTmGGsL"
   },
   "source": [
    "## Setup"
   ]
  },
  {
   "cell_type": "markdown",
   "metadata": {
    "colab_type": "text",
    "id": "9FklhSI0Gg9R"
   },
   "source": [
    "Before getting started, import the necessary packages:"
   ]
  },
  {
   "cell_type": "code",
   "execution_count": 3,
   "metadata": {
    "colab": {},
    "colab_type": "code",
    "id": "5pZ8A2liqvgk"
   },
   "outputs": [
    {
     "name": "stdout",
     "output_type": "stream",
     "text": [
      "2.1.0\n"
     ]
    }
   ],
   "source": [
    "from __future__ import absolute_import, division, print_function, unicode_literals\n",
    "\n",
    "try:\n",
    "  # %tensorflow_version only exists in Colab.\n",
    "  %tensorflow_version 2.x\n",
    "except Exception:\n",
    "  pass\n",
    "import tensorflow as tf\n",
    "\n",
    "from tensorflow.keras import layers\n",
    "from tensorflow.keras import regularizers\n",
    "\n",
    "print(tf.__version__)"
   ]
  },
  {
   "cell_type": "code",
   "execution_count": 4,
   "metadata": {
    "colab": {},
    "colab_type": "code",
    "id": "QnAtAjqRYVXe",
    "scrolled": true
   },
   "outputs": [],
   "source": [
    "#!pip install -q git+https://github.com/tensorflow/docs\n",
    "#!pip install git+https://github.com/tensorflow/docs\n"
   ]
  },
  {
   "cell_type": "code",
   "execution_count": 5,
   "metadata": {
    "colab": {},
    "colab_type": "code",
    "id": "Z3S2qD9OrICX"
   },
   "outputs": [],
   "source": [
    "import tensorflow_docs as tfdocs\n",
    "import tensorflow_docs.modeling\n",
    "import tensorflow_docs.plots"
   ]
  },
  {
   "cell_type": "code",
   "execution_count": 6,
   "metadata": {
    "colab": {},
    "colab_type": "code",
    "id": "-pnOU-ctX27Q"
   },
   "outputs": [],
   "source": [
    "from  IPython import display\n",
    "from matplotlib import pyplot as plt\n",
    "\n",
    "import numpy as np\n",
    "\n",
    "import pathlib\n",
    "import shutil\n",
    "import tempfile\n"
   ]
  },
  {
   "cell_type": "code",
   "execution_count": 7,
   "metadata": {
    "colab": {},
    "colab_type": "code",
    "id": "jj6I4dvTtbUe"
   },
   "outputs": [],
   "source": [
    "logdir = pathlib.Path(tempfile.mkdtemp())/\"tensorboard_logs\"\n",
    "shutil.rmtree(logdir, ignore_errors=True)"
   ]
  },
  {
   "cell_type": "markdown",
   "metadata": {
    "colab_type": "text",
    "id": "1cweoTiruj8O"
   },
   "source": [
    "\n",
    "## The Higgs Dataset\n",
    "\n",
    "The goal of this tutorial is not to do particle physics, so don't dwell on the details of the dataset. It contains 11&#x202F;000&#x202F;000 examples, each with 28 features, and a binary class label."
   ]
  },
  {
   "cell_type": "markdown",
   "metadata": {
    "colab_type": "text",
    "id": "FvrEErCirICm"
   },
   "source": [
    "https://www.tensorflow.org/datasets/catalog/higgs"
   ]
  },
  {
   "cell_type": "code",
   "execution_count": 8,
   "metadata": {
    "colab": {},
    "colab_type": "code",
    "id": "YPjAvwb-6dFd"
   },
   "outputs": [],
   "source": [
    "#gz = tf.keras.utils.get_file('HIGGS.csv.gz', 'https://archive.ics.uci.edu/ml/machine-learning-databases/00280/HIGGS.csv.gz')\n",
    "#gz = 'C:/Users/kevinm/Documents/SMU/MSDS7337_NaturalLanguageProcessing/Week11/HIGGS.csv.gz'\n",
    "#gz = 'C:/Users/shayden/Downloads/HIGGS.csv.gz'\n",
    "#gz = tf.keras.utils.get_file('HIGGS.csv.gz', '/home/jjschued/HIGGS.csv')"
   ]
  },
  {
   "cell_type": "code",
   "execution_count": 9,
   "metadata": {},
   "outputs": [],
   "source": [
    "import os\n",
    "proxy = 'http://proxy.rockwellcollins.com:9090'\n",
    "os.environ['http_proxy'] = proxy\n",
    "os.environ['https_proxy'] = proxy\n",
    "os.environ['HTTP_PROXY'] = proxy\n",
    "os.environ['HTTPS_PROXY'] = proxy"
   ]
  },
  {
   "cell_type": "code",
   "execution_count": 10,
   "metadata": {},
   "outputs": [],
   "source": [
    "import pandas as pd\n",
    "import requests\n",
    "from io import StringIO"
   ]
  },
  {
   "cell_type": "code",
   "execution_count": 23,
   "metadata": {},
   "outputs": [],
   "source": [
    "#https://drive.google.com/file/d/17vHho4WOidi1xsU5nuYIxvgaxKTK2L75/view?usp=sharing\n",
    "file_id = '17vHho4WOidi1xsU5nuYIxvgaxKTK2L75'\n",
    "#url_dataset = 'https://drive.google.com/uc?export=download&id=' + file_id\n",
    "#url_dataset = '/user/jjschued/HIGGS.csv'\n",
    "#url_dataset = 'https://drive.google.com/u/1/uc?export=download&confirm=cg02&id=17vHho4WOidi1xsU5nuYIxvgaxKTK2L75'\n",
    "#url_dataset = \"https://doc-0g-4c-docs.googleusercontent.com/docs/securesc/aplji487l37jpmjrtc3fc7mkdck4ah8r/qd2imheo9cvohf9r82e90395lm9o7bva/1595540025000/05402358165231425872/05402358165231425872/17vHho4WOidi1xsU5nuYIxvgaxKTK2L75?e=download&authuser=1\"\n",
    "#url = requests.get(url_dataset).text\n",
    "#csv_raw = StringIO(url)\n",
    "url_dataset = '/home/jjschued/HIGGS.csv'\n",
    "#df = pd.read_csv('C:/Users/shayden/Downloads/HIGGS.csv.gz', compression = 'gzip', header = None)\n",
    "#url_dataset = 'C:/Users/shayden/Downloads/HIGGS.csv'\n",
    "#df = pd.read_csv(url_dataset, nrows=1000000)\n",
    "df = pd.read_csv(url_dataset, nrows=11000)"
   ]
  },
  {
   "cell_type": "code",
   "execution_count": 24,
   "metadata": {},
   "outputs": [
    {
     "data": {
      "text/plain": [
       "'/home/jjschued/HIGGS.csv'"
      ]
     },
     "execution_count": 24,
     "metadata": {},
     "output_type": "execute_result"
    }
   ],
   "source": [
    "url_dataset"
   ]
  },
  {
   "cell_type": "code",
   "execution_count": 25,
   "metadata": {},
   "outputs": [
    {
     "data": {
      "text/html": [
       "<div>\n",
       "<style scoped>\n",
       "    .dataframe tbody tr th:only-of-type {\n",
       "        vertical-align: middle;\n",
       "    }\n",
       "\n",
       "    .dataframe tbody tr th {\n",
       "        vertical-align: top;\n",
       "    }\n",
       "\n",
       "    .dataframe thead th {\n",
       "        text-align: right;\n",
       "    }\n",
       "</style>\n",
       "<table border=\"1\" class=\"dataframe\">\n",
       "  <thead>\n",
       "    <tr style=\"text-align: right;\">\n",
       "      <th></th>\n",
       "      <th>1.000000000000000000e+00</th>\n",
       "      <th>8.692932128906250000e-01</th>\n",
       "      <th>-6.350818276405334473e-01</th>\n",
       "      <th>2.256902605295181274e-01</th>\n",
       "      <th>3.274700641632080078e-01</th>\n",
       "      <th>-6.899932026863098145e-01</th>\n",
       "      <th>7.542022466659545898e-01</th>\n",
       "      <th>-2.485731393098831177e-01</th>\n",
       "      <th>-1.092063903808593750e+00</th>\n",
       "      <th>0.000000000000000000e+00</th>\n",
       "      <th>...</th>\n",
       "      <th>-1.045456994324922562e-02</th>\n",
       "      <th>-4.576716944575309753e-02</th>\n",
       "      <th>3.101961374282836914e+00</th>\n",
       "      <th>1.353760004043579102e+00</th>\n",
       "      <th>9.795631170272827148e-01</th>\n",
       "      <th>9.780761599540710449e-01</th>\n",
       "      <th>9.200048446655273438e-01</th>\n",
       "      <th>7.216574549674987793e-01</th>\n",
       "      <th>9.887509346008300781e-01</th>\n",
       "      <th>8.766783475875854492e-01</th>\n",
       "    </tr>\n",
       "  </thead>\n",
       "  <tbody>\n",
       "    <tr>\n",
       "      <th>0</th>\n",
       "      <td>1.0</td>\n",
       "      <td>0.907542</td>\n",
       "      <td>0.329147</td>\n",
       "      <td>0.359412</td>\n",
       "      <td>1.497970</td>\n",
       "      <td>-0.313010</td>\n",
       "      <td>1.095531</td>\n",
       "      <td>-0.557525</td>\n",
       "      <td>-1.588230</td>\n",
       "      <td>2.173076</td>\n",
       "      <td>...</td>\n",
       "      <td>-1.138930</td>\n",
       "      <td>-0.000819</td>\n",
       "      <td>0.000000</td>\n",
       "      <td>0.302220</td>\n",
       "      <td>0.833048</td>\n",
       "      <td>0.985700</td>\n",
       "      <td>0.978098</td>\n",
       "      <td>0.779732</td>\n",
       "      <td>0.992356</td>\n",
       "      <td>0.798343</td>\n",
       "    </tr>\n",
       "    <tr>\n",
       "      <th>1</th>\n",
       "      <td>1.0</td>\n",
       "      <td>0.798835</td>\n",
       "      <td>1.470639</td>\n",
       "      <td>-1.635975</td>\n",
       "      <td>0.453773</td>\n",
       "      <td>0.425629</td>\n",
       "      <td>1.104875</td>\n",
       "      <td>1.282322</td>\n",
       "      <td>1.381664</td>\n",
       "      <td>0.000000</td>\n",
       "      <td>...</td>\n",
       "      <td>1.128848</td>\n",
       "      <td>0.900461</td>\n",
       "      <td>0.000000</td>\n",
       "      <td>0.909753</td>\n",
       "      <td>1.108330</td>\n",
       "      <td>0.985692</td>\n",
       "      <td>0.951331</td>\n",
       "      <td>0.803252</td>\n",
       "      <td>0.865924</td>\n",
       "      <td>0.780118</td>\n",
       "    </tr>\n",
       "    <tr>\n",
       "      <th>2</th>\n",
       "      <td>0.0</td>\n",
       "      <td>1.344385</td>\n",
       "      <td>-0.876626</td>\n",
       "      <td>0.935913</td>\n",
       "      <td>1.992050</td>\n",
       "      <td>0.882454</td>\n",
       "      <td>1.786066</td>\n",
       "      <td>-1.646778</td>\n",
       "      <td>-0.942383</td>\n",
       "      <td>0.000000</td>\n",
       "      <td>...</td>\n",
       "      <td>-0.678379</td>\n",
       "      <td>-1.360356</td>\n",
       "      <td>0.000000</td>\n",
       "      <td>0.946652</td>\n",
       "      <td>1.028704</td>\n",
       "      <td>0.998656</td>\n",
       "      <td>0.728281</td>\n",
       "      <td>0.869200</td>\n",
       "      <td>1.026736</td>\n",
       "      <td>0.957904</td>\n",
       "    </tr>\n",
       "    <tr>\n",
       "      <th>3</th>\n",
       "      <td>1.0</td>\n",
       "      <td>1.105009</td>\n",
       "      <td>0.321356</td>\n",
       "      <td>1.522401</td>\n",
       "      <td>0.882808</td>\n",
       "      <td>-1.205349</td>\n",
       "      <td>0.681466</td>\n",
       "      <td>-1.070464</td>\n",
       "      <td>-0.921871</td>\n",
       "      <td>0.000000</td>\n",
       "      <td>...</td>\n",
       "      <td>-0.373566</td>\n",
       "      <td>0.113041</td>\n",
       "      <td>0.000000</td>\n",
       "      <td>0.755856</td>\n",
       "      <td>1.361057</td>\n",
       "      <td>0.986610</td>\n",
       "      <td>0.838085</td>\n",
       "      <td>1.133295</td>\n",
       "      <td>0.872245</td>\n",
       "      <td>0.808487</td>\n",
       "    </tr>\n",
       "    <tr>\n",
       "      <th>4</th>\n",
       "      <td>0.0</td>\n",
       "      <td>1.595839</td>\n",
       "      <td>-0.607811</td>\n",
       "      <td>0.007075</td>\n",
       "      <td>1.818450</td>\n",
       "      <td>-0.111906</td>\n",
       "      <td>0.847550</td>\n",
       "      <td>-0.566437</td>\n",
       "      <td>1.581239</td>\n",
       "      <td>2.173076</td>\n",
       "      <td>...</td>\n",
       "      <td>-0.654227</td>\n",
       "      <td>-1.274345</td>\n",
       "      <td>3.101961</td>\n",
       "      <td>0.823761</td>\n",
       "      <td>0.938191</td>\n",
       "      <td>0.971758</td>\n",
       "      <td>0.789176</td>\n",
       "      <td>0.430553</td>\n",
       "      <td>0.961357</td>\n",
       "      <td>0.957818</td>\n",
       "    </tr>\n",
       "    <tr>\n",
       "      <th>...</th>\n",
       "      <td>...</td>\n",
       "      <td>...</td>\n",
       "      <td>...</td>\n",
       "      <td>...</td>\n",
       "      <td>...</td>\n",
       "      <td>...</td>\n",
       "      <td>...</td>\n",
       "      <td>...</td>\n",
       "      <td>...</td>\n",
       "      <td>...</td>\n",
       "      <td>...</td>\n",
       "      <td>...</td>\n",
       "      <td>...</td>\n",
       "      <td>...</td>\n",
       "      <td>...</td>\n",
       "      <td>...</td>\n",
       "      <td>...</td>\n",
       "      <td>...</td>\n",
       "      <td>...</td>\n",
       "      <td>...</td>\n",
       "      <td>...</td>\n",
       "    </tr>\n",
       "    <tr>\n",
       "      <th>10995</th>\n",
       "      <td>1.0</td>\n",
       "      <td>0.767357</td>\n",
       "      <td>1.084947</td>\n",
       "      <td>0.299487</td>\n",
       "      <td>0.511042</td>\n",
       "      <td>-0.374340</td>\n",
       "      <td>0.774997</td>\n",
       "      <td>-0.218866</td>\n",
       "      <td>-0.547110</td>\n",
       "      <td>1.086538</td>\n",
       "      <td>...</td>\n",
       "      <td>1.377029</td>\n",
       "      <td>-1.557350</td>\n",
       "      <td>0.000000</td>\n",
       "      <td>1.077976</td>\n",
       "      <td>1.028331</td>\n",
       "      <td>0.984388</td>\n",
       "      <td>1.004476</td>\n",
       "      <td>0.925660</td>\n",
       "      <td>1.012436</td>\n",
       "      <td>1.057740</td>\n",
       "    </tr>\n",
       "    <tr>\n",
       "      <th>10996</th>\n",
       "      <td>0.0</td>\n",
       "      <td>0.306174</td>\n",
       "      <td>-1.808714</td>\n",
       "      <td>-1.240359</td>\n",
       "      <td>1.365489</td>\n",
       "      <td>-1.740858</td>\n",
       "      <td>1.695741</td>\n",
       "      <td>0.731754</td>\n",
       "      <td>0.156495</td>\n",
       "      <td>0.000000</td>\n",
       "      <td>...</td>\n",
       "      <td>1.232118</td>\n",
       "      <td>-0.143431</td>\n",
       "      <td>0.000000</td>\n",
       "      <td>0.886896</td>\n",
       "      <td>0.935988</td>\n",
       "      <td>0.973462</td>\n",
       "      <td>0.879262</td>\n",
       "      <td>0.605018</td>\n",
       "      <td>0.853274</td>\n",
       "      <td>1.018208</td>\n",
       "    </tr>\n",
       "    <tr>\n",
       "      <th>10997</th>\n",
       "      <td>1.0</td>\n",
       "      <td>0.794809</td>\n",
       "      <td>-0.059466</td>\n",
       "      <td>0.526425</td>\n",
       "      <td>0.736569</td>\n",
       "      <td>1.662992</td>\n",
       "      <td>0.614593</td>\n",
       "      <td>-1.320002</td>\n",
       "      <td>-0.025997</td>\n",
       "      <td>0.000000</td>\n",
       "      <td>...</td>\n",
       "      <td>-1.238036</td>\n",
       "      <td>-1.050715</td>\n",
       "      <td>3.101961</td>\n",
       "      <td>1.443730</td>\n",
       "      <td>1.199071</td>\n",
       "      <td>0.990352</td>\n",
       "      <td>0.697507</td>\n",
       "      <td>0.799412</td>\n",
       "      <td>1.002388</td>\n",
       "      <td>0.846745</td>\n",
       "    </tr>\n",
       "    <tr>\n",
       "      <th>10998</th>\n",
       "      <td>0.0</td>\n",
       "      <td>0.839097</td>\n",
       "      <td>0.202531</td>\n",
       "      <td>0.619642</td>\n",
       "      <td>0.497209</td>\n",
       "      <td>-1.177904</td>\n",
       "      <td>0.544788</td>\n",
       "      <td>1.262518</td>\n",
       "      <td>0.130439</td>\n",
       "      <td>0.000000</td>\n",
       "      <td>...</td>\n",
       "      <td>-1.053149</td>\n",
       "      <td>-0.947502</td>\n",
       "      <td>3.101961</td>\n",
       "      <td>0.806380</td>\n",
       "      <td>1.075156</td>\n",
       "      <td>0.987699</td>\n",
       "      <td>0.624265</td>\n",
       "      <td>0.887372</td>\n",
       "      <td>0.718604</td>\n",
       "      <td>0.641227</td>\n",
       "    </tr>\n",
       "    <tr>\n",
       "      <th>10999</th>\n",
       "      <td>1.0</td>\n",
       "      <td>2.265836</td>\n",
       "      <td>-0.984737</td>\n",
       "      <td>0.296158</td>\n",
       "      <td>1.097784</td>\n",
       "      <td>1.345723</td>\n",
       "      <td>0.668183</td>\n",
       "      <td>-0.723884</td>\n",
       "      <td>-0.941828</td>\n",
       "      <td>2.173076</td>\n",
       "      <td>...</td>\n",
       "      <td>0.112803</td>\n",
       "      <td>1.656251</td>\n",
       "      <td>0.000000</td>\n",
       "      <td>0.704588</td>\n",
       "      <td>0.594713</td>\n",
       "      <td>1.772387</td>\n",
       "      <td>1.243505</td>\n",
       "      <td>0.677384</td>\n",
       "      <td>0.990824</td>\n",
       "      <td>0.782038</td>\n",
       "    </tr>\n",
       "  </tbody>\n",
       "</table>\n",
       "<p>11000 rows × 29 columns</p>\n",
       "</div>"
      ],
      "text/plain": [
       "       1.000000000000000000e+00  8.692932128906250000e-01  \\\n",
       "0                           1.0                  0.907542   \n",
       "1                           1.0                  0.798835   \n",
       "2                           0.0                  1.344385   \n",
       "3                           1.0                  1.105009   \n",
       "4                           0.0                  1.595839   \n",
       "...                         ...                       ...   \n",
       "10995                       1.0                  0.767357   \n",
       "10996                       0.0                  0.306174   \n",
       "10997                       1.0                  0.794809   \n",
       "10998                       0.0                  0.839097   \n",
       "10999                       1.0                  2.265836   \n",
       "\n",
       "       -6.350818276405334473e-01  2.256902605295181274e-01  \\\n",
       "0                       0.329147                  0.359412   \n",
       "1                       1.470639                 -1.635975   \n",
       "2                      -0.876626                  0.935913   \n",
       "3                       0.321356                  1.522401   \n",
       "4                      -0.607811                  0.007075   \n",
       "...                          ...                       ...   \n",
       "10995                   1.084947                  0.299487   \n",
       "10996                  -1.808714                 -1.240359   \n",
       "10997                  -0.059466                  0.526425   \n",
       "10998                   0.202531                  0.619642   \n",
       "10999                  -0.984737                  0.296158   \n",
       "\n",
       "       3.274700641632080078e-01  -6.899932026863098145e-01  \\\n",
       "0                      1.497970                  -0.313010   \n",
       "1                      0.453773                   0.425629   \n",
       "2                      1.992050                   0.882454   \n",
       "3                      0.882808                  -1.205349   \n",
       "4                      1.818450                  -0.111906   \n",
       "...                         ...                        ...   \n",
       "10995                  0.511042                  -0.374340   \n",
       "10996                  1.365489                  -1.740858   \n",
       "10997                  0.736569                   1.662992   \n",
       "10998                  0.497209                  -1.177904   \n",
       "10999                  1.097784                   1.345723   \n",
       "\n",
       "       7.542022466659545898e-01  -2.485731393098831177e-01  \\\n",
       "0                      1.095531                  -0.557525   \n",
       "1                      1.104875                   1.282322   \n",
       "2                      1.786066                  -1.646778   \n",
       "3                      0.681466                  -1.070464   \n",
       "4                      0.847550                  -0.566437   \n",
       "...                         ...                        ...   \n",
       "10995                  0.774997                  -0.218866   \n",
       "10996                  1.695741                   0.731754   \n",
       "10997                  0.614593                  -1.320002   \n",
       "10998                  0.544788                   1.262518   \n",
       "10999                  0.668183                  -0.723884   \n",
       "\n",
       "       -1.092063903808593750e+00  0.000000000000000000e+00  ...  \\\n",
       "0                      -1.588230                  2.173076  ...   \n",
       "1                       1.381664                  0.000000  ...   \n",
       "2                      -0.942383                  0.000000  ...   \n",
       "3                      -0.921871                  0.000000  ...   \n",
       "4                       1.581239                  2.173076  ...   \n",
       "...                          ...                       ...  ...   \n",
       "10995                  -0.547110                  1.086538  ...   \n",
       "10996                   0.156495                  0.000000  ...   \n",
       "10997                  -0.025997                  0.000000  ...   \n",
       "10998                   0.130439                  0.000000  ...   \n",
       "10999                  -0.941828                  2.173076  ...   \n",
       "\n",
       "       -1.045456994324922562e-02  -4.576716944575309753e-02  \\\n",
       "0                      -1.138930                  -0.000819   \n",
       "1                       1.128848                   0.900461   \n",
       "2                      -0.678379                  -1.360356   \n",
       "3                      -0.373566                   0.113041   \n",
       "4                      -0.654227                  -1.274345   \n",
       "...                          ...                        ...   \n",
       "10995                   1.377029                  -1.557350   \n",
       "10996                   1.232118                  -0.143431   \n",
       "10997                  -1.238036                  -1.050715   \n",
       "10998                  -1.053149                  -0.947502   \n",
       "10999                   0.112803                   1.656251   \n",
       "\n",
       "       3.101961374282836914e+00  1.353760004043579102e+00  \\\n",
       "0                      0.000000                  0.302220   \n",
       "1                      0.000000                  0.909753   \n",
       "2                      0.000000                  0.946652   \n",
       "3                      0.000000                  0.755856   \n",
       "4                      3.101961                  0.823761   \n",
       "...                         ...                       ...   \n",
       "10995                  0.000000                  1.077976   \n",
       "10996                  0.000000                  0.886896   \n",
       "10997                  3.101961                  1.443730   \n",
       "10998                  3.101961                  0.806380   \n",
       "10999                  0.000000                  0.704588   \n",
       "\n",
       "       9.795631170272827148e-01  9.780761599540710449e-01  \\\n",
       "0                      0.833048                  0.985700   \n",
       "1                      1.108330                  0.985692   \n",
       "2                      1.028704                  0.998656   \n",
       "3                      1.361057                  0.986610   \n",
       "4                      0.938191                  0.971758   \n",
       "...                         ...                       ...   \n",
       "10995                  1.028331                  0.984388   \n",
       "10996                  0.935988                  0.973462   \n",
       "10997                  1.199071                  0.990352   \n",
       "10998                  1.075156                  0.987699   \n",
       "10999                  0.594713                  1.772387   \n",
       "\n",
       "       9.200048446655273438e-01  7.216574549674987793e-01  \\\n",
       "0                      0.978098                  0.779732   \n",
       "1                      0.951331                  0.803252   \n",
       "2                      0.728281                  0.869200   \n",
       "3                      0.838085                  1.133295   \n",
       "4                      0.789176                  0.430553   \n",
       "...                         ...                       ...   \n",
       "10995                  1.004476                  0.925660   \n",
       "10996                  0.879262                  0.605018   \n",
       "10997                  0.697507                  0.799412   \n",
       "10998                  0.624265                  0.887372   \n",
       "10999                  1.243505                  0.677384   \n",
       "\n",
       "       9.887509346008300781e-01  8.766783475875854492e-01  \n",
       "0                      0.992356                  0.798343  \n",
       "1                      0.865924                  0.780118  \n",
       "2                      1.026736                  0.957904  \n",
       "3                      0.872245                  0.808487  \n",
       "4                      0.961357                  0.957818  \n",
       "...                         ...                       ...  \n",
       "10995                  1.012436                  1.057740  \n",
       "10996                  0.853274                  1.018208  \n",
       "10997                  1.002388                  0.846745  \n",
       "10998                  0.718604                  0.641227  \n",
       "10999                  0.990824                  0.782038  \n",
       "\n",
       "[11000 rows x 29 columns]"
      ]
     },
     "execution_count": 25,
     "metadata": {},
     "output_type": "execute_result"
    }
   ],
   "source": [
    "df"
   ]
  },
  {
   "cell_type": "code",
   "execution_count": 26,
   "metadata": {},
   "outputs": [
    {
     "name": "stdout",
     "output_type": "stream",
     "text": [
      "<class 'pandas.core.frame.DataFrame'>\n",
      "RangeIndex: 11000 entries, 0 to 10999\n",
      "Data columns (total 29 columns):\n",
      " #   Column                      Non-Null Count  Dtype  \n",
      "---  ------                      --------------  -----  \n",
      " 0   1.000000000000000000e+00    11000 non-null  float64\n",
      " 1   8.692932128906250000e-01    11000 non-null  float64\n",
      " 2   -6.350818276405334473e-01   11000 non-null  float64\n",
      " 3   2.256902605295181274e-01    11000 non-null  float64\n",
      " 4   3.274700641632080078e-01    11000 non-null  float64\n",
      " 5   -6.899932026863098145e-01   11000 non-null  float64\n",
      " 6   7.542022466659545898e-01    11000 non-null  float64\n",
      " 7   -2.485731393098831177e-01   11000 non-null  float64\n",
      " 8   -1.092063903808593750e+00   11000 non-null  float64\n",
      " 9   0.000000000000000000e+00    11000 non-null  float64\n",
      " 10  1.374992132186889648e+00    11000 non-null  float64\n",
      " 11  -6.536741852760314941e-01   11000 non-null  float64\n",
      " 12  9.303491115570068359e-01    11000 non-null  float64\n",
      " 13  1.107436060905456543e+00    11000 non-null  float64\n",
      " 14  1.138904333114624023e+00    11000 non-null  float64\n",
      " 15  -1.578198313713073730e+00   11000 non-null  float64\n",
      " 16  -1.046985387802124023e+00   11000 non-null  float64\n",
      " 17  0.000000000000000000e+00.1  11000 non-null  float64\n",
      " 18  6.579295396804809570e-01    11000 non-null  float64\n",
      " 19  -1.045456994324922562e-02   11000 non-null  float64\n",
      " 20  -4.576716944575309753e-02   11000 non-null  float64\n",
      " 21  3.101961374282836914e+00    11000 non-null  float64\n",
      " 22  1.353760004043579102e+00    11000 non-null  float64\n",
      " 23  9.795631170272827148e-01    11000 non-null  float64\n",
      " 24  9.780761599540710449e-01    11000 non-null  float64\n",
      " 25  9.200048446655273438e-01    11000 non-null  float64\n",
      " 26  7.216574549674987793e-01    11000 non-null  float64\n",
      " 27  9.887509346008300781e-01    11000 non-null  float64\n",
      " 28  8.766783475875854492e-01    11000 non-null  float64\n",
      "dtypes: float64(29)\n",
      "memory usage: 2.4 MB\n"
     ]
    }
   ],
   "source": [
    "df.info()"
   ]
  },
  {
   "cell_type": "code",
   "execution_count": 27,
   "metadata": {
    "colab": {},
    "colab_type": "code",
    "id": "AkiyUdaWIrww"
   },
   "outputs": [],
   "source": [
    "FEATURES = 28"
   ]
  },
  {
   "cell_type": "markdown",
   "metadata": {
    "colab_type": "text",
    "id": "SFggl9gYKKRJ"
   },
   "source": [
    "The `tf.data.experimental.CsvDataset` class can be used to read csv records directly from a gzip file with no intermediate decompression step."
   ]
  },
  {
   "cell_type": "markdown",
   "metadata": {
    "colab_type": "text",
    "id": "ICKZRY7gN-QM"
   },
   "source": [
    "To keep this tutorial relatively short use just the first 1000 samples for validation, and the next 10 000 for training:"
   ]
  },
  {
   "cell_type": "code",
   "execution_count": 28,
   "metadata": {
    "colab": {},
    "colab_type": "code",
    "id": "hmk49OqZIFZP"
   },
   "outputs": [],
   "source": [
    "N_VALIDATION = int(1e3)\n",
    "N_TRAIN = int(1e4)\n",
    "BUFFER_SIZE = int(1e4)\n",
    "BATCH_SIZE = 100\n",
    "STEPS_PER_EPOCH = N_TRAIN//BATCH_SIZE"
   ]
  },
  {
   "cell_type": "markdown",
   "metadata": {
    "colab_type": "text",
    "id": "FP3M9DmvON32"
   },
   "source": [
    "The `Dataset.skip` and `Dataset.take` methods make this easy.\n",
    "\n",
    "At the same time, use the `Dataset.cache` method to ensure that the loader doesn't need to re-read the data form the file on each epoch:"
   ]
  },
  {
   "cell_type": "markdown",
   "metadata": {
    "colab_type": "text",
    "id": "lglk41MwvU5o"
   },
   "source": [
    "## Demonstrate overfitting\n",
    "\n",
    "The simplest way to prevent overfitting is to start with a small model: A model with a small number of learnable parameters (which is determined by the number of layers and the number of units per layer). In deep learning, the number of learnable parameters in a model is often referred to as the model's \"capacity\".\n",
    "\n",
    "Intuitively, a model with more parameters will have more \"memorization capacity\" and therefore will be able to easily learn a perfect dictionary-like mapping between training samples and their targets, a mapping without any generalization power, but this would be useless when making predictions on previously unseen data.\n",
    "\n",
    "Always keep this in mind: deep learning models tend to be good at fitting to the training data, but the real challenge is generalization, not fitting.\n",
    "\n",
    "On the other hand, if the network has limited memorization resources, it will not be able to learn the mapping as easily. To minimize its loss, it will have to learn compressed representations that have more predictive power. At the same time, if you make your model too small, it will have difficulty fitting to the training data. There is a balance between \"too much capacity\" and \"not enough capacity\".\n",
    "\n",
    "Unfortunately, there is no magical formula to determine the right size or architecture of your model (in terms of the number of layers, or the right size for each layer). You will have to experiment using a series of different architectures.\n",
    "\n",
    "To find an appropriate model size, it's best to start with relatively few layers and parameters, then begin increasing the size of the layers or adding new layers until you see diminishing returns on the validation loss.\n",
    "\n",
    "Start with a simple model using only `layers.Dense` as a baseline, then create larger versions, and compare them."
   ]
  },
  {
   "cell_type": "markdown",
   "metadata": {
    "colab_type": "text",
    "id": "_ReKHdC2EgVu"
   },
   "source": [
    "### Training procedure"
   ]
  },
  {
   "cell_type": "markdown",
   "metadata": {
    "colab_type": "text",
    "id": "pNzkSkkXSP5l"
   },
   "source": [
    "Many models train better if you gradually reduce the learning rate during training. Use `optimizers.schedules` to reduce the learning rate over time:"
   ]
  },
  {
   "cell_type": "code",
   "execution_count": 29,
   "metadata": {},
   "outputs": [],
   "source": [
    "dfx = df.rename(columns={x:y for x,y in zip(df.columns,range(0,len(df.columns)))})"
   ]
  },
  {
   "cell_type": "code",
   "execution_count": 30,
   "metadata": {},
   "outputs": [
    {
     "data": {
      "text/html": [
       "<div>\n",
       "<style scoped>\n",
       "    .dataframe tbody tr th:only-of-type {\n",
       "        vertical-align: middle;\n",
       "    }\n",
       "\n",
       "    .dataframe tbody tr th {\n",
       "        vertical-align: top;\n",
       "    }\n",
       "\n",
       "    .dataframe thead th {\n",
       "        text-align: right;\n",
       "    }\n",
       "</style>\n",
       "<table border=\"1\" class=\"dataframe\">\n",
       "  <thead>\n",
       "    <tr style=\"text-align: right;\">\n",
       "      <th></th>\n",
       "      <th>0</th>\n",
       "      <th>1</th>\n",
       "      <th>2</th>\n",
       "      <th>3</th>\n",
       "      <th>4</th>\n",
       "      <th>5</th>\n",
       "      <th>6</th>\n",
       "      <th>7</th>\n",
       "      <th>8</th>\n",
       "      <th>9</th>\n",
       "      <th>...</th>\n",
       "      <th>19</th>\n",
       "      <th>20</th>\n",
       "      <th>21</th>\n",
       "      <th>22</th>\n",
       "      <th>23</th>\n",
       "      <th>24</th>\n",
       "      <th>25</th>\n",
       "      <th>26</th>\n",
       "      <th>27</th>\n",
       "      <th>28</th>\n",
       "    </tr>\n",
       "  </thead>\n",
       "  <tbody>\n",
       "    <tr>\n",
       "      <th>0</th>\n",
       "      <td>1.0</td>\n",
       "      <td>0.907542</td>\n",
       "      <td>0.329147</td>\n",
       "      <td>0.359412</td>\n",
       "      <td>1.497970</td>\n",
       "      <td>-0.313010</td>\n",
       "      <td>1.095531</td>\n",
       "      <td>-0.557525</td>\n",
       "      <td>-1.588230</td>\n",
       "      <td>2.173076</td>\n",
       "      <td>...</td>\n",
       "      <td>-1.138930</td>\n",
       "      <td>-0.000819</td>\n",
       "      <td>0.000000</td>\n",
       "      <td>0.302220</td>\n",
       "      <td>0.833048</td>\n",
       "      <td>0.985700</td>\n",
       "      <td>0.978098</td>\n",
       "      <td>0.779732</td>\n",
       "      <td>0.992356</td>\n",
       "      <td>0.798343</td>\n",
       "    </tr>\n",
       "    <tr>\n",
       "      <th>1</th>\n",
       "      <td>1.0</td>\n",
       "      <td>0.798835</td>\n",
       "      <td>1.470639</td>\n",
       "      <td>-1.635975</td>\n",
       "      <td>0.453773</td>\n",
       "      <td>0.425629</td>\n",
       "      <td>1.104875</td>\n",
       "      <td>1.282322</td>\n",
       "      <td>1.381664</td>\n",
       "      <td>0.000000</td>\n",
       "      <td>...</td>\n",
       "      <td>1.128848</td>\n",
       "      <td>0.900461</td>\n",
       "      <td>0.000000</td>\n",
       "      <td>0.909753</td>\n",
       "      <td>1.108330</td>\n",
       "      <td>0.985692</td>\n",
       "      <td>0.951331</td>\n",
       "      <td>0.803252</td>\n",
       "      <td>0.865924</td>\n",
       "      <td>0.780118</td>\n",
       "    </tr>\n",
       "    <tr>\n",
       "      <th>2</th>\n",
       "      <td>0.0</td>\n",
       "      <td>1.344385</td>\n",
       "      <td>-0.876626</td>\n",
       "      <td>0.935913</td>\n",
       "      <td>1.992050</td>\n",
       "      <td>0.882454</td>\n",
       "      <td>1.786066</td>\n",
       "      <td>-1.646778</td>\n",
       "      <td>-0.942383</td>\n",
       "      <td>0.000000</td>\n",
       "      <td>...</td>\n",
       "      <td>-0.678379</td>\n",
       "      <td>-1.360356</td>\n",
       "      <td>0.000000</td>\n",
       "      <td>0.946652</td>\n",
       "      <td>1.028704</td>\n",
       "      <td>0.998656</td>\n",
       "      <td>0.728281</td>\n",
       "      <td>0.869200</td>\n",
       "      <td>1.026736</td>\n",
       "      <td>0.957904</td>\n",
       "    </tr>\n",
       "    <tr>\n",
       "      <th>3</th>\n",
       "      <td>1.0</td>\n",
       "      <td>1.105009</td>\n",
       "      <td>0.321356</td>\n",
       "      <td>1.522401</td>\n",
       "      <td>0.882808</td>\n",
       "      <td>-1.205349</td>\n",
       "      <td>0.681466</td>\n",
       "      <td>-1.070464</td>\n",
       "      <td>-0.921871</td>\n",
       "      <td>0.000000</td>\n",
       "      <td>...</td>\n",
       "      <td>-0.373566</td>\n",
       "      <td>0.113041</td>\n",
       "      <td>0.000000</td>\n",
       "      <td>0.755856</td>\n",
       "      <td>1.361057</td>\n",
       "      <td>0.986610</td>\n",
       "      <td>0.838085</td>\n",
       "      <td>1.133295</td>\n",
       "      <td>0.872245</td>\n",
       "      <td>0.808487</td>\n",
       "    </tr>\n",
       "    <tr>\n",
       "      <th>4</th>\n",
       "      <td>0.0</td>\n",
       "      <td>1.595839</td>\n",
       "      <td>-0.607811</td>\n",
       "      <td>0.007075</td>\n",
       "      <td>1.818450</td>\n",
       "      <td>-0.111906</td>\n",
       "      <td>0.847550</td>\n",
       "      <td>-0.566437</td>\n",
       "      <td>1.581239</td>\n",
       "      <td>2.173076</td>\n",
       "      <td>...</td>\n",
       "      <td>-0.654227</td>\n",
       "      <td>-1.274345</td>\n",
       "      <td>3.101961</td>\n",
       "      <td>0.823761</td>\n",
       "      <td>0.938191</td>\n",
       "      <td>0.971758</td>\n",
       "      <td>0.789176</td>\n",
       "      <td>0.430553</td>\n",
       "      <td>0.961357</td>\n",
       "      <td>0.957818</td>\n",
       "    </tr>\n",
       "    <tr>\n",
       "      <th>...</th>\n",
       "      <td>...</td>\n",
       "      <td>...</td>\n",
       "      <td>...</td>\n",
       "      <td>...</td>\n",
       "      <td>...</td>\n",
       "      <td>...</td>\n",
       "      <td>...</td>\n",
       "      <td>...</td>\n",
       "      <td>...</td>\n",
       "      <td>...</td>\n",
       "      <td>...</td>\n",
       "      <td>...</td>\n",
       "      <td>...</td>\n",
       "      <td>...</td>\n",
       "      <td>...</td>\n",
       "      <td>...</td>\n",
       "      <td>...</td>\n",
       "      <td>...</td>\n",
       "      <td>...</td>\n",
       "      <td>...</td>\n",
       "      <td>...</td>\n",
       "    </tr>\n",
       "    <tr>\n",
       "      <th>10995</th>\n",
       "      <td>1.0</td>\n",
       "      <td>0.767357</td>\n",
       "      <td>1.084947</td>\n",
       "      <td>0.299487</td>\n",
       "      <td>0.511042</td>\n",
       "      <td>-0.374340</td>\n",
       "      <td>0.774997</td>\n",
       "      <td>-0.218866</td>\n",
       "      <td>-0.547110</td>\n",
       "      <td>1.086538</td>\n",
       "      <td>...</td>\n",
       "      <td>1.377029</td>\n",
       "      <td>-1.557350</td>\n",
       "      <td>0.000000</td>\n",
       "      <td>1.077976</td>\n",
       "      <td>1.028331</td>\n",
       "      <td>0.984388</td>\n",
       "      <td>1.004476</td>\n",
       "      <td>0.925660</td>\n",
       "      <td>1.012436</td>\n",
       "      <td>1.057740</td>\n",
       "    </tr>\n",
       "    <tr>\n",
       "      <th>10996</th>\n",
       "      <td>0.0</td>\n",
       "      <td>0.306174</td>\n",
       "      <td>-1.808714</td>\n",
       "      <td>-1.240359</td>\n",
       "      <td>1.365489</td>\n",
       "      <td>-1.740858</td>\n",
       "      <td>1.695741</td>\n",
       "      <td>0.731754</td>\n",
       "      <td>0.156495</td>\n",
       "      <td>0.000000</td>\n",
       "      <td>...</td>\n",
       "      <td>1.232118</td>\n",
       "      <td>-0.143431</td>\n",
       "      <td>0.000000</td>\n",
       "      <td>0.886896</td>\n",
       "      <td>0.935988</td>\n",
       "      <td>0.973462</td>\n",
       "      <td>0.879262</td>\n",
       "      <td>0.605018</td>\n",
       "      <td>0.853274</td>\n",
       "      <td>1.018208</td>\n",
       "    </tr>\n",
       "    <tr>\n",
       "      <th>10997</th>\n",
       "      <td>1.0</td>\n",
       "      <td>0.794809</td>\n",
       "      <td>-0.059466</td>\n",
       "      <td>0.526425</td>\n",
       "      <td>0.736569</td>\n",
       "      <td>1.662992</td>\n",
       "      <td>0.614593</td>\n",
       "      <td>-1.320002</td>\n",
       "      <td>-0.025997</td>\n",
       "      <td>0.000000</td>\n",
       "      <td>...</td>\n",
       "      <td>-1.238036</td>\n",
       "      <td>-1.050715</td>\n",
       "      <td>3.101961</td>\n",
       "      <td>1.443730</td>\n",
       "      <td>1.199071</td>\n",
       "      <td>0.990352</td>\n",
       "      <td>0.697507</td>\n",
       "      <td>0.799412</td>\n",
       "      <td>1.002388</td>\n",
       "      <td>0.846745</td>\n",
       "    </tr>\n",
       "    <tr>\n",
       "      <th>10998</th>\n",
       "      <td>0.0</td>\n",
       "      <td>0.839097</td>\n",
       "      <td>0.202531</td>\n",
       "      <td>0.619642</td>\n",
       "      <td>0.497209</td>\n",
       "      <td>-1.177904</td>\n",
       "      <td>0.544788</td>\n",
       "      <td>1.262518</td>\n",
       "      <td>0.130439</td>\n",
       "      <td>0.000000</td>\n",
       "      <td>...</td>\n",
       "      <td>-1.053149</td>\n",
       "      <td>-0.947502</td>\n",
       "      <td>3.101961</td>\n",
       "      <td>0.806380</td>\n",
       "      <td>1.075156</td>\n",
       "      <td>0.987699</td>\n",
       "      <td>0.624265</td>\n",
       "      <td>0.887372</td>\n",
       "      <td>0.718604</td>\n",
       "      <td>0.641227</td>\n",
       "    </tr>\n",
       "    <tr>\n",
       "      <th>10999</th>\n",
       "      <td>1.0</td>\n",
       "      <td>2.265836</td>\n",
       "      <td>-0.984737</td>\n",
       "      <td>0.296158</td>\n",
       "      <td>1.097784</td>\n",
       "      <td>1.345723</td>\n",
       "      <td>0.668183</td>\n",
       "      <td>-0.723884</td>\n",
       "      <td>-0.941828</td>\n",
       "      <td>2.173076</td>\n",
       "      <td>...</td>\n",
       "      <td>0.112803</td>\n",
       "      <td>1.656251</td>\n",
       "      <td>0.000000</td>\n",
       "      <td>0.704588</td>\n",
       "      <td>0.594713</td>\n",
       "      <td>1.772387</td>\n",
       "      <td>1.243505</td>\n",
       "      <td>0.677384</td>\n",
       "      <td>0.990824</td>\n",
       "      <td>0.782038</td>\n",
       "    </tr>\n",
       "  </tbody>\n",
       "</table>\n",
       "<p>11000 rows × 29 columns</p>\n",
       "</div>"
      ],
      "text/plain": [
       "        0         1         2         3         4         5         6   \\\n",
       "0      1.0  0.907542  0.329147  0.359412  1.497970 -0.313010  1.095531   \n",
       "1      1.0  0.798835  1.470639 -1.635975  0.453773  0.425629  1.104875   \n",
       "2      0.0  1.344385 -0.876626  0.935913  1.992050  0.882454  1.786066   \n",
       "3      1.0  1.105009  0.321356  1.522401  0.882808 -1.205349  0.681466   \n",
       "4      0.0  1.595839 -0.607811  0.007075  1.818450 -0.111906  0.847550   \n",
       "...    ...       ...       ...       ...       ...       ...       ...   \n",
       "10995  1.0  0.767357  1.084947  0.299487  0.511042 -0.374340  0.774997   \n",
       "10996  0.0  0.306174 -1.808714 -1.240359  1.365489 -1.740858  1.695741   \n",
       "10997  1.0  0.794809 -0.059466  0.526425  0.736569  1.662992  0.614593   \n",
       "10998  0.0  0.839097  0.202531  0.619642  0.497209 -1.177904  0.544788   \n",
       "10999  1.0  2.265836 -0.984737  0.296158  1.097784  1.345723  0.668183   \n",
       "\n",
       "             7         8         9   ...        19        20        21  \\\n",
       "0     -0.557525 -1.588230  2.173076  ... -1.138930 -0.000819  0.000000   \n",
       "1      1.282322  1.381664  0.000000  ...  1.128848  0.900461  0.000000   \n",
       "2     -1.646778 -0.942383  0.000000  ... -0.678379 -1.360356  0.000000   \n",
       "3     -1.070464 -0.921871  0.000000  ... -0.373566  0.113041  0.000000   \n",
       "4     -0.566437  1.581239  2.173076  ... -0.654227 -1.274345  3.101961   \n",
       "...         ...       ...       ...  ...       ...       ...       ...   \n",
       "10995 -0.218866 -0.547110  1.086538  ...  1.377029 -1.557350  0.000000   \n",
       "10996  0.731754  0.156495  0.000000  ...  1.232118 -0.143431  0.000000   \n",
       "10997 -1.320002 -0.025997  0.000000  ... -1.238036 -1.050715  3.101961   \n",
       "10998  1.262518  0.130439  0.000000  ... -1.053149 -0.947502  3.101961   \n",
       "10999 -0.723884 -0.941828  2.173076  ...  0.112803  1.656251  0.000000   \n",
       "\n",
       "             22        23        24        25        26        27        28  \n",
       "0      0.302220  0.833048  0.985700  0.978098  0.779732  0.992356  0.798343  \n",
       "1      0.909753  1.108330  0.985692  0.951331  0.803252  0.865924  0.780118  \n",
       "2      0.946652  1.028704  0.998656  0.728281  0.869200  1.026736  0.957904  \n",
       "3      0.755856  1.361057  0.986610  0.838085  1.133295  0.872245  0.808487  \n",
       "4      0.823761  0.938191  0.971758  0.789176  0.430553  0.961357  0.957818  \n",
       "...         ...       ...       ...       ...       ...       ...       ...  \n",
       "10995  1.077976  1.028331  0.984388  1.004476  0.925660  1.012436  1.057740  \n",
       "10996  0.886896  0.935988  0.973462  0.879262  0.605018  0.853274  1.018208  \n",
       "10997  1.443730  1.199071  0.990352  0.697507  0.799412  1.002388  0.846745  \n",
       "10998  0.806380  1.075156  0.987699  0.624265  0.887372  0.718604  0.641227  \n",
       "10999  0.704588  0.594713  1.772387  1.243505  0.677384  0.990824  0.782038  \n",
       "\n",
       "[11000 rows x 29 columns]"
      ]
     },
     "execution_count": 30,
     "metadata": {},
     "output_type": "execute_result"
    }
   ],
   "source": [
    "dfx"
   ]
  },
  {
   "cell_type": "markdown",
   "metadata": {},
   "source": [
    "Case parms\n",
    "* (Done) We selected a five-layer neural network with 300 hidden units in each layer,\n",
    "* (Done) a learning rate of 0.05, and a weight decay coefficient of 1 × 10−5.\n",
    "* (Done)Hidden layers have tanh activation function\n",
    "* (Done)Gradient computations were made on mini-batches of size 100\n",
    "* (Done)An additional boost in performance is obtained by using the dropout training algorithm, in which we stochastically drop neurons in the top hidden layer with 50% probability during training.\n",
    "* (Done)Weights were initialized from a normal distribution with zero mean and standard deviation 0.1 in the first layer, 0.001 in the output layer, and 0.05 all other hidden layers.\n",
    "* A momentum term increased linearly over the first 200 epochs from 0.9 to 0.99, at which point it remained constant.\n",
    "* (Done)The learning rate decayed by a factor of 1.0000002 every batch update until it reached a minimum of 10^−6,"
   ]
  },
  {
   "cell_type": "markdown",
   "metadata": {},
   "source": [
    "#### Dropout -\n",
    "Dropout technique works by randomly reducing the number of interconnecting neurons within a neural network. At every training step, each neuron has a chance of being left out, or rather, dropped out of the collated contribution from connected neurons.\n",
    "This technique minimizes overfitting because each neuron becomes independently sufficient, in the sense that the neurons within the layers learn weight values that are not based on the cooperation of its neighbouring neurons.\n",
    "\n",
    "#### Momentum -\n",
    "momentum helps SGD to navigate along the relevant directions and softens the oscillations in the irrelevant. It simply adds a fraction of the direction of the previous step to a current step. This achieves amplification of speed in the correct direction and softens oscillation in wrong directions. This fraction is usually in the (0, 1) range. It also makes sense to use adaptive momentum. In the beginning of learning a big momentum will only hinder your progress, so it makes sense to use something like 0.01 and once all the high gradients disappeared you can use a bigger momentum. There is one problem with momentum: when we are very close to the goal, our momentum in most of the cases is very high and it does not know that it should slow down. This can cause it to miss or oscillate around the minima"
   ]
  },
  {
   "cell_type": "code",
   "execution_count": 31,
   "metadata": {},
   "outputs": [],
   "source": [
    "lr_schedule = tf.keras.optimizers.schedules.InverseTimeDecay(\n",
    "  0.001,\n",
    "  decay_steps=STEPS_PER_EPOCH*1000,\n",
    "  decay_rate=1,\n",
    "  staircase=False)\n",
    "\n",
    "def get_optimizer():\n",
    "  return tf.keras.optimizers.Adam(lr_schedule)"
   ]
  },
  {
   "cell_type": "code",
   "execution_count": 35,
   "metadata": {},
   "outputs": [
    {
     "name": "stdout",
     "output_type": "stream",
     "text": [
      "Train on 7700 samples\n",
      "Epoch 1/50\n",
      "7700/7700 - 2s - loss: 0.6665 - accuracy: 0.5943 - auc_2: 0.6255\n",
      "Epoch 2/50\n",
      "7700/7700 - 1s - loss: 0.6544 - accuracy: 0.6191 - auc_2: 0.6533\n",
      "Epoch 3/50\n",
      "7700/7700 - 1s - loss: 0.6526 - accuracy: 0.6194 - auc_2: 0.6586\n",
      "Epoch 4/50\n",
      "7700/7700 - 1s - loss: 0.6492 - accuracy: 0.6242 - auc_2: 0.6639\n",
      "Epoch 5/50\n",
      "7700/7700 - 1s - loss: 0.6466 - accuracy: 0.6256 - auc_2: 0.6685\n",
      "Epoch 6/50\n",
      "7700/7700 - 1s - loss: 0.6369 - accuracy: 0.6287 - auc_2: 0.6820\n",
      "Epoch 7/50\n",
      "7700/7700 - 1s - loss: 0.6312 - accuracy: 0.6462 - auc_2: 0.6942\n",
      "Epoch 8/50\n",
      "7700/7700 - 1s - loss: 0.6296 - accuracy: 0.6495 - auc_2: 0.6969\n",
      "Epoch 9/50\n",
      "7700/7700 - 1s - loss: 0.6265 - accuracy: 0.6532 - auc_2: 0.7020\n",
      "Epoch 10/50\n",
      "7700/7700 - 1s - loss: 0.6233 - accuracy: 0.6527 - auc_2: 0.7053\n",
      "Epoch 11/50\n",
      "7700/7700 - 1s - loss: 0.6183 - accuracy: 0.6577 - auc_2: 0.7134\n",
      "Epoch 12/50\n",
      "7700/7700 - 1s - loss: 0.6150 - accuracy: 0.6629 - auc_2: 0.7185\n",
      "Epoch 13/50\n",
      "7700/7700 - 1s - loss: 0.6104 - accuracy: 0.6686 - auc_2: 0.7243\n",
      "Epoch 14/50\n",
      "7700/7700 - 1s - loss: 0.6052 - accuracy: 0.6738 - auc_2: 0.7313\n",
      "Epoch 15/50\n",
      "7700/7700 - 1s - loss: 0.6025 - accuracy: 0.6771 - auc_2: 0.7355\n",
      "Epoch 16/50\n",
      "7700/7700 - 1s - loss: 0.5934 - accuracy: 0.6803 - auc_2: 0.7451\n",
      "Epoch 17/50\n",
      "7700/7700 - 1s - loss: 0.5947 - accuracy: 0.6790 - auc_2: 0.7442\n",
      "Epoch 18/50\n",
      "7700/7700 - 1s - loss: 0.5831 - accuracy: 0.6886 - auc_2: 0.7559\n",
      "Epoch 19/50\n",
      "7700/7700 - 1s - loss: 0.5835 - accuracy: 0.6886 - auc_2: 0.7550\n",
      "Epoch 20/50\n",
      "7700/7700 - 1s - loss: 0.5766 - accuracy: 0.6975 - auc_2: 0.7651\n",
      "Epoch 21/50\n",
      "7700/7700 - 1s - loss: 0.5626 - accuracy: 0.7105 - auc_2: 0.7797\n",
      "Epoch 22/50\n",
      "7700/7700 - 1s - loss: 0.5590 - accuracy: 0.7103 - auc_2: 0.7822\n",
      "Epoch 23/50\n",
      "7700/7700 - 1s - loss: 0.5529 - accuracy: 0.7173 - auc_2: 0.7892\n",
      "Epoch 24/50\n",
      "7700/7700 - 1s - loss: 0.5474 - accuracy: 0.7170 - auc_2: 0.7933\n",
      "Epoch 25/50\n",
      "7700/7700 - 1s - loss: 0.5389 - accuracy: 0.7255 - auc_2: 0.8022\n",
      "Epoch 26/50\n",
      "7700/7700 - 1s - loss: 0.5364 - accuracy: 0.7303 - auc_2: 0.8049\n",
      "Epoch 27/50\n",
      "7700/7700 - 1s - loss: 0.5207 - accuracy: 0.7453 - auc_2: 0.8178\n",
      "Epoch 28/50\n",
      "7700/7700 - 1s - loss: 0.5124 - accuracy: 0.7416 - auc_2: 0.8238\n",
      "Epoch 29/50\n",
      "7700/7700 - 1s - loss: 0.4983 - accuracy: 0.7556 - auc_2: 0.8361\n",
      "Epoch 30/50\n",
      "7700/7700 - 1s - loss: 0.4840 - accuracy: 0.7631 - auc_2: 0.8460\n",
      "Epoch 31/50\n",
      "7700/7700 - 1s - loss: 0.4832 - accuracy: 0.7626 - auc_2: 0.8461\n",
      "Epoch 32/50\n",
      "7700/7700 - 1s - loss: 0.4635 - accuracy: 0.7771 - auc_2: 0.8603\n",
      "Epoch 33/50\n",
      "7700/7700 - 1s - loss: 0.4512 - accuracy: 0.7882 - auc_2: 0.8687\n",
      "Epoch 34/50\n",
      "7700/7700 - 1s - loss: 0.4379 - accuracy: 0.7884 - auc_2: 0.8764\n",
      "Epoch 35/50\n",
      "7700/7700 - 1s - loss: 0.4254 - accuracy: 0.8036 - auc_2: 0.8845\n",
      "Epoch 36/50\n",
      "7700/7700 - 1s - loss: 0.4104 - accuracy: 0.8130 - auc_2: 0.8935\n",
      "Epoch 37/50\n",
      "7700/7700 - 1s - loss: 0.3961 - accuracy: 0.8152 - auc_2: 0.9011\n",
      "Epoch 38/50\n",
      "7700/7700 - 1s - loss: 0.3864 - accuracy: 0.8262 - auc_2: 0.9065\n",
      "Epoch 39/50\n",
      "7700/7700 - 1s - loss: 0.3654 - accuracy: 0.8340 - auc_2: 0.9165\n",
      "Epoch 40/50\n",
      "7700/7700 - 1s - loss: 0.3541 - accuracy: 0.8371 - auc_2: 0.9218\n",
      "Epoch 41/50\n",
      "7700/7700 - 1s - loss: 0.3364 - accuracy: 0.8516 - auc_2: 0.9299\n",
      "Epoch 42/50\n",
      "7700/7700 - 1s - loss: 0.3210 - accuracy: 0.8604 - auc_2: 0.9365\n",
      "Epoch 43/50\n",
      "7700/7700 - 1s - loss: 0.3081 - accuracy: 0.8634 - auc_2: 0.9417\n",
      "Epoch 44/50\n",
      "7700/7700 - 1s - loss: 0.2997 - accuracy: 0.8682 - auc_2: 0.9449\n",
      "Epoch 45/50\n",
      "7700/7700 - 1s - loss: 0.2949 - accuracy: 0.8762 - auc_2: 0.9465\n",
      "Epoch 46/50\n",
      "7700/7700 - 1s - loss: 0.2708 - accuracy: 0.8870 - auc_2: 0.9551\n",
      "Epoch 47/50\n",
      "7700/7700 - 1s - loss: 0.2643 - accuracy: 0.8878 - auc_2: 0.9572\n",
      "Epoch 48/50\n",
      "7700/7700 - 1s - loss: 0.2621 - accuracy: 0.8906 - auc_2: 0.9579\n",
      "Epoch 49/50\n",
      "7700/7700 - 1s - loss: 0.2481 - accuracy: 0.8913 - auc_2: 0.9625\n",
      "Epoch 50/50\n",
      "7700/7700 - 1s - loss: 0.2333 - accuracy: 0.9019 - auc_2: 0.9668\n"
     ]
    }
   ],
   "source": [
    "#from tensorflow.keras.callbacks import EarlyStopping\n",
    "#from tensorflow.keras.layers import LeakyReLU\n",
    "#import pandas as pd\n",
    "#import io\n",
    "#import os\n",
    "#import requests\n",
    "#import numpy as np\n",
    "#from sklearn import metrics\n",
    "#from tensorflow.keras import optimizers\n",
    "\n",
    "#Parms needed for case study  \n",
    "\n",
    "#We selected a five-layer neural network with 300 hidden units in each layer,\n",
    "#a learning rate of 0.05, and a weight decay coefficient of 1 × 10−5.\n",
    "# Hidden layer have tanh activation function\n",
    "#Gradient computations were made on mini-batches of size 100\n",
    "#The learning rate decayed by a factor of 1.0000002 every batch update until it reached a minimum of 10^−6,\n",
    "\n",
    "def define_predictor(n_input):\n",
    "    \n",
    "    optimizer = get_optimizer()\n",
    "    model = tf.keras.Sequential()\n",
    "    model.add(tf.keras.layers.Dense(300, kernel_initializer = tf.keras.initializers.RandomNormal(mean=0.0, stddev=0.1, seed=None), input_dim = n_input, activation='tanh')) # Hidden 1\n",
    "    model.add(layers.Dropout(0.5))\n",
    "    model.add(tf.keras.layers.Dense(300,kernel_initializer = tf.keras.initializers.RandomNormal(mean=0.0, stddev=0.05, seed=None), activation='tanh')) # Hidden 2\n",
    "    model.add(tf.keras.layers.Dense(300,kernel_initializer = tf.keras.initializers.RandomNormal(mean=0.0, stddev=0.05, seed=None), activation='tanh')) # Hidden 3\n",
    "    model.add(tf.keras.layers.Dense(300,kernel_initializer = tf.keras.initializers.RandomNormal(mean=0.0, stddev=0.05, seed=None), activation='tanh')) # Hidden 4\n",
    "    model.add(tf.keras.layers.Dense(300,kernel_initializer = tf.keras.initializers.RandomNormal(mean=0.0, stddev=0.05, seed=None), activation='tanh')) # Hidden 5\n",
    "    model.add(tf.keras.layers.Dense(1,kernel_initializer = tf.keras.initializers.RandomNormal(mean=0.0, stddev=0.001, seed=None),activation='sigmoid')) # Output #1.2\n",
    "    #model.add(tf.keras.layers.Dense(1,activation='softmax')) # Output\n",
    "    sgd = tf.keras.optimizers.SGD(lr=.05, decay = 1.0000002, momentum=0.99)\n",
    "    model.compile(loss='binary_crossentropy', optimizer=optimizer , metrics=['accuracy', tf.keras.metrics.AUC()])\n",
    "    return model\n",
    "\n",
    "    \n",
    "#setup scaler\n",
    "from sklearn import preprocessing\n",
    "scaler = preprocessing.StandardScaler()\n",
    "dfx\n",
    "X = dfx.loc[:, 1:28]\n",
    "#X = dfx[features].copy()\n",
    "Y = dfx[0].copy()\n",
    "y = Y.values\n",
    "\n",
    "# the cv=cvx parameter sets the grid search to split the training and testing data 10 times. \n",
    "from sklearn.model_selection import train_test_split, GridSearchCV, KFold, TimeSeriesSplit, StratifiedShuffleSplit\n",
    "from sklearn import metrics as mt\n",
    "X_train, X_test, y_train, y_test = train_test_split(X, y, test_size = 0.3, random_state = 101)\n",
    "\n",
    "Att_model = define_predictor(X_train.shape[1])\n",
    "history = Att_model.fit(scaler.fit_transform(X_train),np.array(y_train), verbose=2, epochs=50, batch_size=100)"
   ]
  },
  {
   "cell_type": "code",
   "execution_count": 92,
   "metadata": {},
   "outputs": [
    {
     "name": "stdout",
     "output_type": "stream",
     "text": [
      "3300000/3300000 [==============================] - 387s 117us/sample - loss: 0.6368 - accuracy: 0.6351 - auc_2: 0.6810\n"
     ]
    }
   ],
   "source": [
    "results = Att_model.evaluate(scaler.fit_transform(X_test),np.array(y_test), batch_size=100)"
   ]
  },
  {
   "cell_type": "code",
   "execution_count": 93,
   "metadata": {},
   "outputs": [
    {
     "data": {
      "text/plain": [
       "[0.6367858866796349, 0.6351109, 0.68097997]"
      ]
     },
     "execution_count": 93,
     "metadata": {},
     "output_type": "execute_result"
    }
   ],
   "source": [
    "results"
   ]
  },
  {
   "cell_type": "code",
   "execution_count": 94,
   "metadata": {},
   "outputs": [],
   "source": [
    "predictions = Att_model.predict(X_test)"
   ]
  },
  {
   "cell_type": "code",
   "execution_count": 95,
   "metadata": {},
   "outputs": [
    {
     "data": {
      "text/plain": [
       "array([[0.53745663],\n",
       "       [0.47315976],\n",
       "       [0.2537364 ],\n",
       "       ...,\n",
       "       [0.40031382],\n",
       "       [0.43969497],\n",
       "       [0.36572742]], dtype=float32)"
      ]
     },
     "execution_count": 95,
     "metadata": {},
     "output_type": "execute_result"
    }
   ],
   "source": [
    "predictions"
   ]
  },
  {
   "cell_type": "code",
   "execution_count": 96,
   "metadata": {},
   "outputs": [
    {
     "data": {
      "text/html": [
       "<div>\n",
       "<style scoped>\n",
       "    .dataframe tbody tr th:only-of-type {\n",
       "        vertical-align: middle;\n",
       "    }\n",
       "\n",
       "    .dataframe tbody tr th {\n",
       "        vertical-align: top;\n",
       "    }\n",
       "\n",
       "    .dataframe thead th {\n",
       "        text-align: right;\n",
       "    }\n",
       "</style>\n",
       "<table border=\"1\" class=\"dataframe\">\n",
       "  <thead>\n",
       "    <tr style=\"text-align: right;\">\n",
       "      <th></th>\n",
       "      <th>0</th>\n",
       "    </tr>\n",
       "  </thead>\n",
       "  <tbody>\n",
       "    <tr>\n",
       "      <th>0</th>\n",
       "      <td>0.537457</td>\n",
       "    </tr>\n",
       "    <tr>\n",
       "      <th>1</th>\n",
       "      <td>0.473160</td>\n",
       "    </tr>\n",
       "    <tr>\n",
       "      <th>2</th>\n",
       "      <td>0.253736</td>\n",
       "    </tr>\n",
       "    <tr>\n",
       "      <th>3</th>\n",
       "      <td>0.426297</td>\n",
       "    </tr>\n",
       "    <tr>\n",
       "      <th>4</th>\n",
       "      <td>0.443935</td>\n",
       "    </tr>\n",
       "  </tbody>\n",
       "</table>\n",
       "</div>"
      ],
      "text/plain": [
       "          0\n",
       "0  0.537457\n",
       "1  0.473160\n",
       "2  0.253736\n",
       "3  0.426297\n",
       "4  0.443935"
      ]
     },
     "execution_count": 96,
     "metadata": {},
     "output_type": "execute_result"
    }
   ],
   "source": [
    "preddf = pd.DataFrame(predictions)\n",
    "preddf.head()"
   ]
  },
  {
   "cell_type": "code",
   "execution_count": 97,
   "metadata": {},
   "outputs": [],
   "source": [
    "preddf['round'] = preddf.round(preddf[0])"
   ]
  },
  {
   "cell_type": "code",
   "execution_count": 98,
   "metadata": {},
   "outputs": [
    {
     "data": {
      "text/html": [
       "<div>\n",
       "<style scoped>\n",
       "    .dataframe tbody tr th:only-of-type {\n",
       "        vertical-align: middle;\n",
       "    }\n",
       "\n",
       "    .dataframe tbody tr th {\n",
       "        vertical-align: top;\n",
       "    }\n",
       "\n",
       "    .dataframe thead th {\n",
       "        text-align: right;\n",
       "    }\n",
       "</style>\n",
       "<table border=\"1\" class=\"dataframe\">\n",
       "  <thead>\n",
       "    <tr style=\"text-align: right;\">\n",
       "      <th></th>\n",
       "      <th>0</th>\n",
       "      <th>round</th>\n",
       "    </tr>\n",
       "  </thead>\n",
       "  <tbody>\n",
       "    <tr>\n",
       "      <th>0</th>\n",
       "      <td>0.537457</td>\n",
       "      <td>1.0</td>\n",
       "    </tr>\n",
       "    <tr>\n",
       "      <th>1</th>\n",
       "      <td>0.473160</td>\n",
       "      <td>0.0</td>\n",
       "    </tr>\n",
       "    <tr>\n",
       "      <th>2</th>\n",
       "      <td>0.253736</td>\n",
       "      <td>0.0</td>\n",
       "    </tr>\n",
       "    <tr>\n",
       "      <th>3</th>\n",
       "      <td>0.426297</td>\n",
       "      <td>0.0</td>\n",
       "    </tr>\n",
       "    <tr>\n",
       "      <th>4</th>\n",
       "      <td>0.443935</td>\n",
       "      <td>0.0</td>\n",
       "    </tr>\n",
       "    <tr>\n",
       "      <th>...</th>\n",
       "      <td>...</td>\n",
       "      <td>...</td>\n",
       "    </tr>\n",
       "    <tr>\n",
       "      <th>3299995</th>\n",
       "      <td>0.369861</td>\n",
       "      <td>0.0</td>\n",
       "    </tr>\n",
       "    <tr>\n",
       "      <th>3299996</th>\n",
       "      <td>0.425234</td>\n",
       "      <td>0.0</td>\n",
       "    </tr>\n",
       "    <tr>\n",
       "      <th>3299997</th>\n",
       "      <td>0.400314</td>\n",
       "      <td>0.0</td>\n",
       "    </tr>\n",
       "    <tr>\n",
       "      <th>3299998</th>\n",
       "      <td>0.439695</td>\n",
       "      <td>0.0</td>\n",
       "    </tr>\n",
       "    <tr>\n",
       "      <th>3299999</th>\n",
       "      <td>0.365727</td>\n",
       "      <td>0.0</td>\n",
       "    </tr>\n",
       "  </tbody>\n",
       "</table>\n",
       "<p>3300000 rows × 2 columns</p>\n",
       "</div>"
      ],
      "text/plain": [
       "                0  round\n",
       "0        0.537457    1.0\n",
       "1        0.473160    0.0\n",
       "2        0.253736    0.0\n",
       "3        0.426297    0.0\n",
       "4        0.443935    0.0\n",
       "...           ...    ...\n",
       "3299995  0.369861    0.0\n",
       "3299996  0.425234    0.0\n",
       "3299997  0.400314    0.0\n",
       "3299998  0.439695    0.0\n",
       "3299999  0.365727    0.0\n",
       "\n",
       "[3300000 rows x 2 columns]"
      ]
     },
     "execution_count": 98,
     "metadata": {},
     "output_type": "execute_result"
    }
   ],
   "source": [
    "preddf"
   ]
  },
  {
   "cell_type": "code",
   "execution_count": 99,
   "metadata": {},
   "outputs": [],
   "source": [
    "yresultsround = preddf['round'].tolist()"
   ]
  },
  {
   "cell_type": "code",
   "execution_count": 100,
   "metadata": {},
   "outputs": [
    {
     "data": {
      "text/plain": [
       "0.0"
      ]
     },
     "execution_count": 100,
     "metadata": {},
     "output_type": "execute_result"
    }
   ],
   "source": [
    "yresultsround[2]"
   ]
  },
  {
   "cell_type": "code",
   "execution_count": 101,
   "metadata": {},
   "outputs": [
    {
     "data": {
      "text/plain": [
       "(3300000,)"
      ]
     },
     "execution_count": 101,
     "metadata": {},
     "output_type": "execute_result"
    }
   ],
   "source": [
    "y_test.shape"
   ]
  },
  {
   "cell_type": "code",
   "execution_count": 102,
   "metadata": {},
   "outputs": [
    {
     "data": {
      "text/plain": [
       "0.0"
      ]
     },
     "execution_count": 102,
     "metadata": {},
     "output_type": "execute_result"
    }
   ],
   "source": [
    "y_test[2]"
   ]
  },
  {
   "cell_type": "code",
   "execution_count": 103,
   "metadata": {},
   "outputs": [],
   "source": [
    "ybinary = label_binarize(y_test, classes=[0,1])"
   ]
  },
  {
   "cell_type": "code",
   "execution_count": 104,
   "metadata": {},
   "outputs": [],
   "source": [
    "y_score = label_binarize(yresultsround, classes=[0,1])"
   ]
  },
  {
   "cell_type": "code",
   "execution_count": 105,
   "metadata": {},
   "outputs": [
    {
     "name": "stdout",
     "output_type": "stream",
     "text": [
      "Automatically created module for IPython interactive environment\n"
     ]
    }
   ],
   "source": [
    "\n",
    "print(__doc__)\n",
    "\n",
    "import numpy as np\n",
    "import matplotlib.pyplot as plt\n",
    "from itertools import cycle\n",
    "\n",
    "from sklearn import svm, datasets\n",
    "from sklearn.metrics import roc_curve, auc\n",
    "from sklearn.model_selection import train_test_split\n",
    "from sklearn.preprocessing import label_binarize\n",
    "from sklearn.multiclass import OneVsRestClassifier\n",
    "from scipy import interp\n",
    "from sklearn.metrics import roc_auc_score\n",
    "\n",
    "n_classes = ybinary.shape[1]\n",
    "#X1_train, X1_test, y1_train, y1_test\n",
    "#y_score = classifier.fit(X_train3, y_train3).decision_function(X_test3)\n",
    "# Compute ROC curve and ROC area for each class\n",
    "fpr = dict()\n",
    "tpr = dict()\n",
    "roc_auc = dict()\n",
    "for i in range(n_classes):\n",
    "    fpr[i], tpr[i], _ = roc_curve(ybinary[:, i], y_score[:, i])\n",
    "    roc_auc[i] = auc(fpr[i], tpr[i])\n",
    "\n",
    "# Compute micro-average ROC curve and ROC area\n",
    "fpr[\"micro\"], tpr[\"micro\"], _ = roc_curve(ybinary.ravel(), y_score.ravel())\n",
    "roc_auc[\"micro\"] = auc(fpr[\"micro\"], tpr[\"micro\"])\n",
    "#Plot of a ROC curve for a specific class\n",
    "\n"
   ]
  },
  {
   "cell_type": "code",
   "execution_count": 106,
   "metadata": {},
   "outputs": [
    {
     "data": {
      "text/plain": [
       "array([0.        , 0.16587329, 1.        ])"
      ]
     },
     "execution_count": 106,
     "metadata": {},
     "output_type": "execute_result"
    }
   ],
   "source": [
    "fpr[0]"
   ]
  },
  {
   "cell_type": "code",
   "execution_count": 107,
   "metadata": {},
   "outputs": [
    {
     "data": {
      "text/plain": [
       "{0: 0.583418757106494, 'micro': 0.583418757106494}"
      ]
     },
     "execution_count": 107,
     "metadata": {},
     "output_type": "execute_result"
    }
   ],
   "source": [
    "roc_auc"
   ]
  },
  {
   "cell_type": "code",
   "execution_count": 108,
   "metadata": {},
   "outputs": [
    {
     "data": {
      "image/png": "[encoded data removed]",
      "text/plain": [
       "<Figure size 432x288 with 1 Axes>"
      ]
     },
     "metadata": {
      "needs_background": "light"
     },
     "output_type": "display_data"
    }
   ],
   "source": [
    "plt.figure()\n",
    "lw = 2\n",
    "plt.plot(fpr[0], tpr[0], color='darkorange',\n",
    "         lw=lw, label='ROC curve (area = %0.2f)' % roc_auc[0])\n",
    "plt.plot([0, 1], [0, 1], color='navy', lw=lw, linestyle='--')\n",
    "plt.xlim([0.0, 1.0])\n",
    "plt.ylim([0.0, 1.05])\n",
    "plt.xlabel('False Positive Rate')\n",
    "plt.ylabel('True Positive Rate')\n",
    "plt.title('Receiver operating characteristic Higgs')\n",
    "plt.legend(loc=\"lower right\")\n",
    "plt.show()"
   ]
  },
  {
   "cell_type": "code",
   "execution_count": 109,
   "metadata": {},
   "outputs": [
    {
     "name": "stdout",
     "output_type": "stream",
     "text": [
      "Model: \"sequential_2\"\n",
      "_________________________________________________________________\n",
      "Layer (type)                 Output Shape              Param #   \n",
      "=================================================================\n",
      "dense_12 (Dense)             (None, 300)               8700      \n",
      "_________________________________________________________________\n",
      "dropout_2 (Dropout)          (None, 300)               0         \n",
      "_________________________________________________________________\n",
      "dense_13 (Dense)             (None, 300)               90300     \n",
      "_________________________________________________________________\n",
      "dense_14 (Dense)             (None, 300)               90300     \n",
      "_________________________________________________________________\n",
      "dense_15 (Dense)             (None, 300)               90300     \n",
      "_________________________________________________________________\n",
      "dense_16 (Dense)             (None, 300)               90300     \n",
      "_________________________________________________________________\n",
      "dense_17 (Dense)             (None, 1)                 301       \n",
      "=================================================================\n",
      "Total params: 370,201\n",
      "Trainable params: 370,201\n",
      "Non-trainable params: 0\n",
      "_________________________________________________________________\n"
     ]
    }
   ],
   "source": [
    "Att_model.summary()"
   ]
  },
  {
   "cell_type": "code",
   "execution_count": 110,
   "metadata": {},
   "outputs": [
    {
     "data": {
      "text/plain": [
       "{'loss': [0.6575804856194369,\n",
       "  0.6498665150175226,\n",
       "  0.6491678124157377,\n",
       "  0.6487105784715035,\n",
       "  0.6484905509586539,\n",
       "  0.6483771005886071,\n",
       "  0.6481777050707198,\n",
       "  0.6480669391480594,\n",
       "  0.6479537688507456,\n",
       "  0.6478786802897714,\n",
       "  0.647769174354559,\n",
       "  0.6477800174997014,\n",
       "  0.6476682366859828,\n",
       "  0.6475936811962071,\n",
       "  0.6476208858368728,\n",
       "  0.6475229449407568,\n",
       "  0.6474221309233635,\n",
       "  0.6474460795156036,\n",
       "  0.6473785711847662,\n",
       "  0.6473424261474819,\n",
       "  0.6472231196007564,\n",
       "  0.6472462438763197,\n",
       "  0.6472504043213023,\n",
       "  0.6471769842672972,\n",
       "  0.647210466591482,\n",
       "  0.6471537504817934,\n",
       "  0.6471439246124138,\n",
       "  0.6471241563553063,\n",
       "  0.647074049818501,\n",
       "  0.6470876337968994,\n",
       "  0.6470723407763895,\n",
       "  0.6469288005318288,\n",
       "  0.6470454698623203,\n",
       "  0.6468924524914476,\n",
       "  0.6469443892517938,\n",
       "  0.6469954406249157,\n",
       "  0.6468496953727445,\n",
       "  0.6468145757987813,\n",
       "  0.64687286761276,\n",
       "  0.6468287678276792,\n",
       "  0.6468787300589656,\n",
       "  0.6467500197122916,\n",
       "  0.6468645424590649,\n",
       "  0.6467699600236781,\n",
       "  0.6467824132101896,\n",
       "  0.6466988870417756,\n",
       "  0.6467542907332634,\n",
       "  0.6467712351949549,\n",
       "  0.6467779971784599,\n",
       "  0.6466235483545293],\n",
       " 'accuracy': [0.6070194,\n",
       "  0.6168414,\n",
       "  0.6179153,\n",
       "  0.6185724,\n",
       "  0.61875814,\n",
       "  0.61907136,\n",
       "  0.6192488,\n",
       "  0.61943513,\n",
       "  0.6194245,\n",
       "  0.6199192,\n",
       "  0.6199723,\n",
       "  0.6199575,\n",
       "  0.6200854,\n",
       "  0.6201902,\n",
       "  0.62021816,\n",
       "  0.62024474,\n",
       "  0.62044996,\n",
       "  0.6205324,\n",
       "  0.6207518,\n",
       "  0.6205318,\n",
       "  0.62079996,\n",
       "  0.62052685,\n",
       "  0.62081033,\n",
       "  0.62090915,\n",
       "  0.62083465,\n",
       "  0.62109244,\n",
       "  0.6211307,\n",
       "  0.6209723,\n",
       "  0.6209032,\n",
       "  0.62108177,\n",
       "  0.6211786,\n",
       "  0.62132907,\n",
       "  0.6213509,\n",
       "  0.6212689,\n",
       "  0.6213381,\n",
       "  0.6211631,\n",
       "  0.62148434,\n",
       "  0.6212737,\n",
       "  0.6213629,\n",
       "  0.62161267,\n",
       "  0.6212122,\n",
       "  0.6214788,\n",
       "  0.6215641,\n",
       "  0.6214071,\n",
       "  0.6215006,\n",
       "  0.6217553,\n",
       "  0.62156296,\n",
       "  0.6215677,\n",
       "  0.62145966,\n",
       "  0.62177163],\n",
       " 'auc_2': [0.6429999,\n",
       "  0.6577114,\n",
       "  0.6591394,\n",
       "  0.65999186,\n",
       "  0.66039,\n",
       "  0.6605856,\n",
       "  0.6610203,\n",
       "  0.6612195,\n",
       "  0.66139007,\n",
       "  0.6615855,\n",
       "  0.6618389,\n",
       "  0.6618069,\n",
       "  0.661986,\n",
       "  0.66212666,\n",
       "  0.6620337,\n",
       "  0.66229296,\n",
       "  0.6624479,\n",
       "  0.6624195,\n",
       "  0.66255826,\n",
       "  0.6626474,\n",
       "  0.66282463,\n",
       "  0.66276574,\n",
       "  0.6627897,\n",
       "  0.6629473,\n",
       "  0.6628506,\n",
       "  0.6629814,\n",
       "  0.6630108,\n",
       "  0.6630438,\n",
       "  0.6631197,\n",
       "  0.66313124,\n",
       "  0.66308033,\n",
       "  0.6634306,\n",
       "  0.66322017,\n",
       "  0.6635085,\n",
       "  0.663409,\n",
       "  0.66328645,\n",
       "  0.66351396,\n",
       "  0.66358256,\n",
       "  0.6635233,\n",
       "  0.66364455,\n",
       "  0.6635182,\n",
       "  0.66375303,\n",
       "  0.6635478,\n",
       "  0.6636858,\n",
       "  0.663691,\n",
       "  0.663844,\n",
       "  0.6637708,\n",
       "  0.6636648,\n",
       "  0.6636641,\n",
       "  0.6639924]}"
      ]
     },
     "execution_count": 110,
     "metadata": {},
     "output_type": "execute_result"
    }
   ],
   "source": [
    "history.history"
   ]
  },
  {
   "cell_type": "code",
   "execution_count": 111,
   "metadata": {},
   "outputs": [],
   "source": [
    "#%%time\n",
    "#size_histories['Tiny3'], Tinypred3, Tinyvalres3 = compile_and_fit(tiny_model3, 'sizes/Tiny')"
   ]
  },
  {
   "cell_type": "markdown",
   "metadata": {
    "colab_type": "text",
    "id": "UekcaQdmZxnW"
   },
   "source": [
    "Note: All the above training runs used the `callbacks.EarlyStopping` to end the training once it was clear the model was not making progress."
   ]
  },
  {
   "cell_type": "markdown",
   "metadata": {
    "colab_type": "text",
    "id": "DEQNKadHA0M3"
   },
   "source": [
    "### View in TensorBoard\n",
    "\n",
    "These models all wrote TensorBoard logs during training.\n",
    "\n",
    "To open an embedded  TensorBoard viewer inside a notebook, copy the following into a code-cell:\n",
    "\n",
    "```\n",
    "%tensorboard --logdir {logdir}/sizes\n",
    "```"
   ]
  },
  {
   "cell_type": "markdown",
   "metadata": {
    "colab_type": "text",
    "id": "fjqx3bywDPjf"
   },
   "source": [
    "You can view the [results of a previous run](https://tensorboard.dev/experiment/vW7jmmF9TmKmy3rbheMQpw/#scalars&_smoothingWeight=0.97) of this notebook on [TensorBoard.dev](https://tensorboard.dev/).\n",
    "\n",
    "TensorBoard.dev is a managed experience for hosting, tracking, and sharing ML experiments with everyone.\n",
    "\n",
    "It's also included in an `<iframe>` for convenience:"
   ]
  },
  {
   "cell_type": "code",
   "execution_count": 40,
   "metadata": {
    "colab": {},
    "colab_type": "code",
    "id": "dX5fcgrADwym"
   },
   "outputs": [
    {
     "data": {
      "text/html": [
       "\n",
       "        <iframe\n",
       "            width=\"100%\"\n",
       "            height=\"800px\"\n",
       "            src=\"https://tensorboard.dev/experiment/vW7jmmF9TmKmy3rbheMQpw/#scalars&_smoothingWeight=0.97\"\n",
       "            frameborder=\"0\"\n",
       "            allowfullscreen\n",
       "        ></iframe>\n",
       "        "
      ],
      "text/plain": [
       "<IPython.lib.display.IFrame at 0x7fd66552aef0>"
      ]
     },
     "execution_count": 40,
     "metadata": {},
     "output_type": "execute_result"
    }
   ],
   "source": [
    "display.IFrame(\n",
    "    src=\"https://tensorboard.dev/experiment/vW7jmmF9TmKmy3rbheMQpw/#scalars&_smoothingWeight=0.97\",\n",
    "    width=\"100%\", height=\"800px\")"
   ]
  },
  {
   "cell_type": "markdown",
   "metadata": {
    "colab_type": "text",
    "id": "RDQDBKYZBXF_"
   },
   "source": [
    "If you want to share TensorBoard results you can upload the logs to [TensorBoard.dev](https://tensorboard.dev/) by copying the following into a code-cell.\n",
    "\n",
    "Note: This step requires a Google account.\n",
    "\n",
    "```\n",
    "!tensorboard dev upload --logdir  {logdir}/sizes\n",
    "```\n",
    "\n",
    "Caution: This command does not terminate. It's designed to continuously upload the results of long-running experiments. Once your data is uploaded you need to stop it using the \"interrupt execution\" option in your notebook tool."
   ]
  },
  {
   "cell_type": "code",
   "execution_count": 41,
   "metadata": {
    "colab": {},
    "colab_type": "code",
    "id": "40k1eBtnQzNo"
   },
   "outputs": [
    {
     "ename": "FileNotFoundError",
     "evalue": "[Errno 2] No such file or directory: '/tmp/tmp91k2zj_4/tensorboard_logs/sizes/Tiny'",
     "output_type": "error",
     "traceback": [
      "\u001b[0;31m---------------------------------------------------------------------------\u001b[0m",
      "\u001b[0;31mFileNotFoundError\u001b[0m                         Traceback (most recent call last)",
      "\u001b[0;32m<ipython-input-41-de68c6b319db>\u001b[0m in \u001b[0;36m<module>\u001b[0;34m\u001b[0m\n\u001b[1;32m      1\u001b[0m \u001b[0mshutil\u001b[0m\u001b[0;34m.\u001b[0m\u001b[0mrmtree\u001b[0m\u001b[0;34m(\u001b[0m\u001b[0mlogdir\u001b[0m\u001b[0;34m/\u001b[0m\u001b[0;34m'regularizers/Tiny'\u001b[0m\u001b[0;34m,\u001b[0m \u001b[0mignore_errors\u001b[0m\u001b[0;34m=\u001b[0m\u001b[0;32mTrue\u001b[0m\u001b[0;34m)\u001b[0m\u001b[0;34m\u001b[0m\u001b[0;34m\u001b[0m\u001b[0m\n\u001b[0;32m----> 2\u001b[0;31m \u001b[0mshutil\u001b[0m\u001b[0;34m.\u001b[0m\u001b[0mcopytree\u001b[0m\u001b[0;34m(\u001b[0m\u001b[0mlogdir\u001b[0m\u001b[0;34m/\u001b[0m\u001b[0;34m'sizes/Tiny'\u001b[0m\u001b[0;34m,\u001b[0m \u001b[0mlogdir\u001b[0m\u001b[0;34m/\u001b[0m\u001b[0;34m'regularizers/Tiny'\u001b[0m\u001b[0;34m)\u001b[0m\u001b[0;34m\u001b[0m\u001b[0;34m\u001b[0m\u001b[0m\n\u001b[0m",
      "\u001b[0;32m/home/ubuntu/anaconda3/envs/tensorflow2_p36/lib/python3.6/shutil.py\u001b[0m in \u001b[0;36mcopytree\u001b[0;34m(src, dst, symlinks, ignore, copy_function, ignore_dangling_symlinks)\u001b[0m\n\u001b[1;32m    313\u001b[0m \u001b[0;34m\u001b[0m\u001b[0m\n\u001b[1;32m    314\u001b[0m     \"\"\"\n\u001b[0;32m--> 315\u001b[0;31m     \u001b[0mnames\u001b[0m \u001b[0;34m=\u001b[0m \u001b[0mos\u001b[0m\u001b[0;34m.\u001b[0m\u001b[0mlistdir\u001b[0m\u001b[0;34m(\u001b[0m\u001b[0msrc\u001b[0m\u001b[0;34m)\u001b[0m\u001b[0;34m\u001b[0m\u001b[0;34m\u001b[0m\u001b[0m\n\u001b[0m\u001b[1;32m    316\u001b[0m     \u001b[0;32mif\u001b[0m \u001b[0mignore\u001b[0m \u001b[0;32mis\u001b[0m \u001b[0;32mnot\u001b[0m \u001b[0;32mNone\u001b[0m\u001b[0;34m:\u001b[0m\u001b[0;34m\u001b[0m\u001b[0;34m\u001b[0m\u001b[0m\n\u001b[1;32m    317\u001b[0m         \u001b[0mignored_names\u001b[0m \u001b[0;34m=\u001b[0m \u001b[0mignore\u001b[0m\u001b[0;34m(\u001b[0m\u001b[0msrc\u001b[0m\u001b[0;34m,\u001b[0m \u001b[0mnames\u001b[0m\u001b[0;34m)\u001b[0m\u001b[0;34m\u001b[0m\u001b[0;34m\u001b[0m\u001b[0m\n",
      "\u001b[0;31mFileNotFoundError\u001b[0m: [Errno 2] No such file or directory: '/tmp/tmp91k2zj_4/tensorboard_logs/sizes/Tiny'"
     ]
    }
   ],
   "source": [
    "shutil.rmtree(logdir/'regularizers/Tiny', ignore_errors=True)\n",
    "shutil.copytree(logdir/'sizes/Tiny', logdir/'regularizers/Tiny')"
   ]
  },
  {
   "cell_type": "code",
   "execution_count": null,
   "metadata": {
    "colab": {},
    "colab_type": "code",
    "id": "vFWMeFo7jLpN"
   },
   "outputs": [],
   "source": [
    "regularizer_histories = {}\n",
    "regularizer_histories['Tiny'] = size_histories['Tiny']"
   ]
  },
  {
   "cell_type": "markdown",
   "metadata": {
    "colab_type": "text",
    "id": "uXJxtwBWIhjG"
   },
   "source": [
    "## Conclusions"
   ]
  },
  {
   "cell_type": "markdown",
   "metadata": {
    "colab_type": "text",
    "id": "gjfnkEeQyAFG"
   },
   "source": [
    "To recap: here are the most common ways to prevent overfitting in neural networks:\n",
    "\n",
    "* Get more training data.\n",
    "* Reduce the capacity of the network.\n",
    "* Add weight regularization.\n",
    "* Add dropout.\n",
    "\n",
    "Two important approaches not covered in this guide are:\n",
    "\n",
    "* data-augmentation\n",
    "* batch normalization\n",
    "\n",
    "Remember that each method can help on its own, but often combining them can be even more effective."
   ]
  },
  {
   "cell_type": "code",
   "execution_count": null,
   "metadata": {
    "colab": {},
    "colab_type": "code",
    "id": "bkAbvht_rIGj"
   },
   "outputs": [],
   "source": []
  }
 ],
 "metadata": {
  "accelerator": "GPU",
  "colab": {
   "collapsed_sections": [],
   "machine_shape": "hm",
   "name": "overfit_and_underfit.ipynb",
   "private_outputs": true,
   "provenance": [],
   "toc_visible": true
  },
  "kernelspec": {
   "display_name": "Python [conda env:tensorflow2_p36]",
   "language": "python",
   "name": "conda-env-tensorflow2_p36-py"
  },
  "language_info": {
   "codemirror_mode": {
    "name": "ipython",
    "version": 3
   },
   "file_extension": ".py",
   "mimetype": "text/x-python",
   "name": "python",
   "nbconvert_exporter": "python",
   "pygments_lexer": "ipython3",
   "version": "3.6.10"
  }
 },
 "nbformat": 4,
 "nbformat_minor": 1
}
