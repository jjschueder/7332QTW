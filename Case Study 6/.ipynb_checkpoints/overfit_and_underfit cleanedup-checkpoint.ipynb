{
 "cells": [
  {
   "cell_type": "markdown",
   "metadata": {
    "colab_type": "text",
    "id": "fTFj8ft5dlbS"
   },
   "source": [
    "##### Copyright 2018 The TensorFlow Authors."
   ]
  },
  {
   "cell_type": "code",
   "execution_count": 1,
   "metadata": {
    "cellView": "form",
    "colab": {},
    "colab_type": "code",
    "id": "lzyBOpYMdp3F"
   },
   "outputs": [],
   "source": [
    "#@title Licensed under the Apache License, Version 2.0 (the \"License\");\n",
    "# you may not use this file except in compliance with the License.\n",
    "# You may obtain a copy of the License at\n",
    "#\n",
    "# https://www.apache.org/licenses/LICENSE-2.0\n",
    "#\n",
    "# Unless required by applicable law or agreed to in writing, software\n",
    "# distributed under the License is distributed on an \"AS IS\" BASIS,\n",
    "# WITHOUT WARRANTIES OR CONDITIONS OF ANY KIND, either express or implied.\n",
    "# See the License for the specific language governing permissions and\n",
    "# limitations under the License."
   ]
  },
  {
   "cell_type": "code",
   "execution_count": 2,
   "metadata": {
    "cellView": "form",
    "colab": {},
    "colab_type": "code",
    "id": "m_x4KfSJ7Vt7"
   },
   "outputs": [],
   "source": [
    "#@title MIT License\n",
    "#\n",
    "# Copyright (c) 2017 François Chollet\n",
    "#\n",
    "# Permission is hereby granted, free of charge, to any person obtaining a\n",
    "# copy of this software and associated documentation files (the \"Software\"),\n",
    "# to deal in the Software without restriction, including without limitation\n",
    "# the rights to use, copy, modify, merge, publish, distribute, sublicense,\n",
    "# and/or sell copies of the Software, and to permit persons to whom the\n",
    "# Software is furnished to do so, subject to the following conditions:\n",
    "#\n",
    "# The above copyright notice and this permission notice shall be included in\n",
    "# all copies or substantial portions of the Software.\n",
    "#\n",
    "# THE SOFTWARE IS PROVIDED \"AS IS\", WITHOUT WARRANTY OF ANY KIND, EXPRESS OR\n",
    "# IMPLIED, INCLUDING BUT NOT LIMITED TO THE WARRANTIES OF MERCHANTABILITY,\n",
    "# FITNESS FOR A PARTICULAR PURPOSE AND NONINFRINGEMENT. IN NO EVENT SHALL\n",
    "# THE AUTHORS OR COPYRIGHT HOLDERS BE LIABLE FOR ANY CLAIM, DAMAGES OR OTHER\n",
    "# LIABILITY, WHETHER IN AN ACTION OF CONTRACT, TORT OR OTHERWISE, ARISING\n",
    "# FROM, OUT OF OR IN CONNECTION WITH THE SOFTWARE OR THE USE OR OTHER\n",
    "# DEALINGS IN THE SOFTWARE."
   ]
  },
  {
   "cell_type": "markdown",
   "metadata": {
    "colab_type": "text",
    "id": "C9HmC2T4ld5B"
   },
   "source": [
    "# Overfit and underfit"
   ]
  },
  {
   "cell_type": "markdown",
   "metadata": {
    "colab_type": "text",
    "id": "kRTxFhXAlnl1"
   },
   "source": [
    "<table class=\"tfo-notebook-buttons\" align=\"left\">\n",
    "  <td>\n",
    "    <a target=\"_blank\" href=\"https://www.tensorflow.org/tutorials/keras/overfit_and_underfit\"><img src=\"https://www.tensorflow.org/images/tf_logo_32px.png\" />View on TensorFlow.org</a>\n",
    "  </td>\n",
    "  <td>\n",
    "    <a target=\"_blank\" href=\"https://colab.research.google.com/github/tensorflow/docs/blob/master/site/en/tutorials/keras/overfit_and_underfit.ipynb\"><img src=\"https://www.tensorflow.org/images/colab_logo_32px.png\" />Run in Google Colab</a>\n",
    "  </td>\n",
    "  <td>\n",
    "    <a target=\"_blank\" href=\"https://github.com/tensorflow/docs/blob/master/site/en/tutorials/keras/overfit_and_underfit.ipynb\"><img src=\"https://www.tensorflow.org/images/GitHub-Mark-32px.png\" />View source on GitHub</a>\n",
    "  </td>\n",
    "  <td>\n",
    "    <a href=\"https://storage.googleapis.com/tensorflow_docs/docs/site/en/tutorials/keras/overfit_and_underfit.ipynb\"><img src=\"https://www.tensorflow.org/images/download_logo_32px.png\" />Download notebook</a>\n",
    "  </td>\n",
    "</table>"
   ]
  },
  {
   "cell_type": "markdown",
   "metadata": {
    "colab_type": "text",
    "id": "19rPukKZsPG6"
   },
   "source": [
    "As always, the code in this example will use the `tf.keras` API, which you can learn more about in the TensorFlow [Keras guide](https://www.tensorflow.org/guide/keras).\n",
    "\n",
    "In both of the previous examples—[classifying text](https://www.tensorflow.org/tutorials/keras/text_classification_with_hub) and [predicting fuel efficiency](https://www.tensorflow.org/tutorials/keras/regression) — we saw that the accuracy of our model on the validation data would peak after training for a number of epochs, and would then stagnate or start decreasing.\n",
    "\n",
    "In other words, our model would *overfit* to the training data. Learning how to deal with overfitting is important. Although it's often possible to achieve high accuracy on the *training set*, what we really want is to develop models that generalize well to a *testing set* (or data they haven't seen before).\n",
    "\n",
    "The opposite of overfitting is *underfitting*. Underfitting occurs when there is still room for improvement on the test data. This can happen for a number of reasons: If the model is not powerful enough, is over-regularized, or has simply not been trained long enough. This means the network has not learned the relevant patterns in the training data.\n",
    "\n",
    "If you train for too long though, the model will start to overfit and learn patterns from the training data that don't generalize to the test data. We need to strike a balance. Understanding how to train for an appropriate number of epochs as we'll explore below is a useful skill.\n",
    "\n",
    "To prevent overfitting, the best solution is to use more complete training data. The dataset should cover the full range of inputs that the model is expected to handle. Additional data may only be useful if it covers new and interesting cases.\n",
    "\n",
    "A model trained on more complete data will naturally generalize better. When that is no longer possible, the next best solution is to use techniques like regularization. These place constraints on the quantity and type of information your model can store.  If a network can only afford to memorize a small number of patterns, the optimization process will force it to focus on the most prominent patterns, which have a better chance of generalizing well.\n",
    "\n",
    "In this notebook, we'll explore several common regularization techniques, and use them to improve on a classification model."
   ]
  },
  {
   "cell_type": "markdown",
   "metadata": {
    "colab_type": "text",
    "id": "WL8UoOTmGGsL"
   },
   "source": [
    "## Setup"
   ]
  },
  {
   "cell_type": "markdown",
   "metadata": {
    "colab_type": "text",
    "id": "9FklhSI0Gg9R"
   },
   "source": [
    "Before getting started, import the necessary packages:"
   ]
  },
  {
   "cell_type": "code",
   "execution_count": 1,
   "metadata": {
    "colab": {},
    "colab_type": "code",
    "id": "5pZ8A2liqvgk"
   },
   "outputs": [
    {
     "name": "stdout",
     "output_type": "stream",
     "text": [
      "2.2.0\n"
     ]
    }
   ],
   "source": [
    "from __future__ import absolute_import, division, print_function, unicode_literals\n",
    "\n",
    "try:\n",
    "  # %tensorflow_version only exists in Colab.\n",
    "  %tensorflow_version 2.x\n",
    "except Exception:\n",
    "  pass\n",
    "import tensorflow as tf\n",
    "\n",
    "from tensorflow.keras import layers\n",
    "from tensorflow.keras import regularizers\n",
    "\n",
    "print(tf.__version__)"
   ]
  },
  {
   "cell_type": "code",
   "execution_count": 2,
   "metadata": {
    "colab": {},
    "colab_type": "code",
    "id": "QnAtAjqRYVXe",
    "scrolled": true
   },
   "outputs": [],
   "source": [
    "#!pip install -q git+https://github.com/tensorflow/docs\n",
    "#!pip install git+https://github.com/tensorflow/docs\n"
   ]
  },
  {
   "cell_type": "code",
   "execution_count": 3,
   "metadata": {
    "colab": {},
    "colab_type": "code",
    "id": "Z3S2qD9OrICX"
   },
   "outputs": [],
   "source": [
    "import tensorflow_docs as tfdocs\n",
    "import tensorflow_docs.modeling\n",
    "import tensorflow_docs.plots"
   ]
  },
  {
   "cell_type": "code",
   "execution_count": 4,
   "metadata": {
    "colab": {},
    "colab_type": "code",
    "id": "-pnOU-ctX27Q"
   },
   "outputs": [],
   "source": [
    "from  IPython import display\n",
    "from matplotlib import pyplot as plt\n",
    "\n",
    "import numpy as np\n",
    "\n",
    "import pathlib\n",
    "import shutil\n",
    "import tempfile\n"
   ]
  },
  {
   "cell_type": "code",
   "execution_count": 5,
   "metadata": {
    "colab": {},
    "colab_type": "code",
    "id": "jj6I4dvTtbUe"
   },
   "outputs": [],
   "source": [
    "logdir = pathlib.Path(tempfile.mkdtemp())/\"tensorboard_logs\"\n",
    "shutil.rmtree(logdir, ignore_errors=True)"
   ]
  },
  {
   "cell_type": "markdown",
   "metadata": {
    "colab_type": "text",
    "id": "1cweoTiruj8O"
   },
   "source": [
    "\n",
    "## The Higgs Dataset\n",
    "\n",
    "The goal of this tutorial is not to do particle physics, so don't dwell on the details of the dataset. It contains 11&#x202F;000&#x202F;000 examples, each with 28 features, and a binary class label."
   ]
  },
  {
   "cell_type": "markdown",
   "metadata": {
    "colab_type": "text",
    "id": "FvrEErCirICm"
   },
   "source": [
    "https://www.tensorflow.org/datasets/catalog/higgs"
   ]
  },
  {
   "cell_type": "code",
   "execution_count": 6,
   "metadata": {
    "colab": {},
    "colab_type": "code",
    "id": "YPjAvwb-6dFd"
   },
   "outputs": [],
   "source": [
    "#gz = tf.keras.utils.get_file('HIGGS.csv.gz', 'https://archive.ics.uci.edu/ml/machine-learning-databases/00280/HIGGS.csv.gz')\n",
    "#gz = 'C:/Users/kevinm/Documents/SMU/MSDS7337_NaturalLanguageProcessing/Week11/HIGGS.csv.gz'\n",
    "gz = 'C:/Users/shayden/Downloads/HIGGS.csv.gz'\n",
    "#gz = tf.keras.utils.get_file('HIGGS.csv.gz', '/home/jjschued/HIGGS.csv')"
   ]
  },
  {
   "cell_type": "code",
   "execution_count": 7,
   "metadata": {},
   "outputs": [],
   "source": [
    "import os\n",
    "proxy = 'http://proxy.rockwellcollins.com:9090'\n",
    "os.environ['http_proxy'] = proxy\n",
    "os.environ['https_proxy'] = proxy\n",
    "os.environ['HTTP_PROXY'] = proxy\n",
    "os.environ['HTTPS_PROXY'] = proxy"
   ]
  },
  {
   "cell_type": "code",
   "execution_count": 8,
   "metadata": {},
   "outputs": [],
   "source": [
    "import pandas as pd\n",
    "import requests\n",
    "from io import StringIO"
   ]
  },
  {
   "cell_type": "code",
   "execution_count": 13,
   "metadata": {},
   "outputs": [],
   "source": [
    "#https://drive.google.com/file/d/17vHho4WOidi1xsU5nuYIxvgaxKTK2L75/view?usp=sharing\n",
    "file_id = '17vHho4WOidi1xsU5nuYIxvgaxKTK2L75'\n",
    "#url_dataset = 'https://drive.google.com/uc?export=download&id=' + file_id\n",
    "#url_dataset = '/user/jjschued/HIGGS.csv'\n",
    "#url_dataset = 'https://drive.google.com/u/1/uc?export=download&confirm=cg02&id=17vHho4WOidi1xsU5nuYIxvgaxKTK2L75'\n",
    "#url_dataset = \"https://doc-0g-4c-docs.googleusercontent.com/docs/securesc/aplji487l37jpmjrtc3fc7mkdck4ah8r/qd2imheo9cvohf9r82e90395lm9o7bva/1595540025000/05402358165231425872/05402358165231425872/17vHho4WOidi1xsU5nuYIxvgaxKTK2L75?e=download&authuser=1\"\n",
    "#url = requests.get(url_dataset).text\n",
    "#csv_raw = StringIO(url)\n",
    "#url_dataset = '/home/jjschued/HIGGS.csv'\n",
    "df = pd.read_csv('C:/Users/shayden/Downloads/HIGGS.csv.gz', compression = 'gzip', header = None)\n",
    "#url_dataset = 'C:/Users/shayden/Downloads/HIGGS.csv'\n",
    "#df = pd.read_csv(url_dataset, nrows=11000)"
   ]
  },
  {
   "cell_type": "code",
   "execution_count": null,
   "metadata": {},
   "outputs": [],
   "source": [
    "url_dataset"
   ]
  },
  {
   "cell_type": "code",
   "execution_count": 14,
   "metadata": {},
   "outputs": [
    {
     "data": {
      "text/html": [
       "<div>\n",
       "<style scoped>\n",
       "    .dataframe tbody tr th:only-of-type {\n",
       "        vertical-align: middle;\n",
       "    }\n",
       "\n",
       "    .dataframe tbody tr th {\n",
       "        vertical-align: top;\n",
       "    }\n",
       "\n",
       "    .dataframe thead th {\n",
       "        text-align: right;\n",
       "    }\n",
       "</style>\n",
       "<table border=\"1\" class=\"dataframe\">\n",
       "  <thead>\n",
       "    <tr style=\"text-align: right;\">\n",
       "      <th></th>\n",
       "      <th>0</th>\n",
       "      <th>1</th>\n",
       "      <th>2</th>\n",
       "      <th>3</th>\n",
       "      <th>4</th>\n",
       "      <th>5</th>\n",
       "      <th>6</th>\n",
       "      <th>7</th>\n",
       "      <th>8</th>\n",
       "      <th>9</th>\n",
       "      <th>...</th>\n",
       "      <th>19</th>\n",
       "      <th>20</th>\n",
       "      <th>21</th>\n",
       "      <th>22</th>\n",
       "      <th>23</th>\n",
       "      <th>24</th>\n",
       "      <th>25</th>\n",
       "      <th>26</th>\n",
       "      <th>27</th>\n",
       "      <th>28</th>\n",
       "    </tr>\n",
       "  </thead>\n",
       "  <tbody>\n",
       "    <tr>\n",
       "      <th>0</th>\n",
       "      <td>1.0</td>\n",
       "      <td>0.869293</td>\n",
       "      <td>-0.635082</td>\n",
       "      <td>0.225690</td>\n",
       "      <td>0.327470</td>\n",
       "      <td>-0.689993</td>\n",
       "      <td>0.754202</td>\n",
       "      <td>-0.248573</td>\n",
       "      <td>-1.092064</td>\n",
       "      <td>0.000000</td>\n",
       "      <td>...</td>\n",
       "      <td>-0.010455</td>\n",
       "      <td>-0.045767</td>\n",
       "      <td>3.101961</td>\n",
       "      <td>1.353760</td>\n",
       "      <td>0.979563</td>\n",
       "      <td>0.978076</td>\n",
       "      <td>0.920005</td>\n",
       "      <td>0.721657</td>\n",
       "      <td>0.988751</td>\n",
       "      <td>0.876678</td>\n",
       "    </tr>\n",
       "    <tr>\n",
       "      <th>1</th>\n",
       "      <td>1.0</td>\n",
       "      <td>0.907542</td>\n",
       "      <td>0.329147</td>\n",
       "      <td>0.359412</td>\n",
       "      <td>1.497970</td>\n",
       "      <td>-0.313010</td>\n",
       "      <td>1.095531</td>\n",
       "      <td>-0.557525</td>\n",
       "      <td>-1.588230</td>\n",
       "      <td>2.173076</td>\n",
       "      <td>...</td>\n",
       "      <td>-1.138930</td>\n",
       "      <td>-0.000819</td>\n",
       "      <td>0.000000</td>\n",
       "      <td>0.302220</td>\n",
       "      <td>0.833048</td>\n",
       "      <td>0.985700</td>\n",
       "      <td>0.978098</td>\n",
       "      <td>0.779732</td>\n",
       "      <td>0.992356</td>\n",
       "      <td>0.798343</td>\n",
       "    </tr>\n",
       "    <tr>\n",
       "      <th>2</th>\n",
       "      <td>1.0</td>\n",
       "      <td>0.798835</td>\n",
       "      <td>1.470639</td>\n",
       "      <td>-1.635975</td>\n",
       "      <td>0.453773</td>\n",
       "      <td>0.425629</td>\n",
       "      <td>1.104875</td>\n",
       "      <td>1.282322</td>\n",
       "      <td>1.381664</td>\n",
       "      <td>0.000000</td>\n",
       "      <td>...</td>\n",
       "      <td>1.128848</td>\n",
       "      <td>0.900461</td>\n",
       "      <td>0.000000</td>\n",
       "      <td>0.909753</td>\n",
       "      <td>1.108330</td>\n",
       "      <td>0.985692</td>\n",
       "      <td>0.951331</td>\n",
       "      <td>0.803252</td>\n",
       "      <td>0.865924</td>\n",
       "      <td>0.780118</td>\n",
       "    </tr>\n",
       "    <tr>\n",
       "      <th>3</th>\n",
       "      <td>0.0</td>\n",
       "      <td>1.344385</td>\n",
       "      <td>-0.876626</td>\n",
       "      <td>0.935913</td>\n",
       "      <td>1.992050</td>\n",
       "      <td>0.882454</td>\n",
       "      <td>1.786066</td>\n",
       "      <td>-1.646778</td>\n",
       "      <td>-0.942383</td>\n",
       "      <td>0.000000</td>\n",
       "      <td>...</td>\n",
       "      <td>-0.678379</td>\n",
       "      <td>-1.360356</td>\n",
       "      <td>0.000000</td>\n",
       "      <td>0.946652</td>\n",
       "      <td>1.028704</td>\n",
       "      <td>0.998656</td>\n",
       "      <td>0.728281</td>\n",
       "      <td>0.869200</td>\n",
       "      <td>1.026736</td>\n",
       "      <td>0.957904</td>\n",
       "    </tr>\n",
       "    <tr>\n",
       "      <th>4</th>\n",
       "      <td>1.0</td>\n",
       "      <td>1.105009</td>\n",
       "      <td>0.321356</td>\n",
       "      <td>1.522401</td>\n",
       "      <td>0.882808</td>\n",
       "      <td>-1.205349</td>\n",
       "      <td>0.681466</td>\n",
       "      <td>-1.070464</td>\n",
       "      <td>-0.921871</td>\n",
       "      <td>0.000000</td>\n",
       "      <td>...</td>\n",
       "      <td>-0.373566</td>\n",
       "      <td>0.113041</td>\n",
       "      <td>0.000000</td>\n",
       "      <td>0.755856</td>\n",
       "      <td>1.361057</td>\n",
       "      <td>0.986610</td>\n",
       "      <td>0.838085</td>\n",
       "      <td>1.133295</td>\n",
       "      <td>0.872245</td>\n",
       "      <td>0.808487</td>\n",
       "    </tr>\n",
       "    <tr>\n",
       "      <th>...</th>\n",
       "      <td>...</td>\n",
       "      <td>...</td>\n",
       "      <td>...</td>\n",
       "      <td>...</td>\n",
       "      <td>...</td>\n",
       "      <td>...</td>\n",
       "      <td>...</td>\n",
       "      <td>...</td>\n",
       "      <td>...</td>\n",
       "      <td>...</td>\n",
       "      <td>...</td>\n",
       "      <td>...</td>\n",
       "      <td>...</td>\n",
       "      <td>...</td>\n",
       "      <td>...</td>\n",
       "      <td>...</td>\n",
       "      <td>...</td>\n",
       "      <td>...</td>\n",
       "      <td>...</td>\n",
       "      <td>...</td>\n",
       "      <td>...</td>\n",
       "    </tr>\n",
       "    <tr>\n",
       "      <th>10999995</th>\n",
       "      <td>1.0</td>\n",
       "      <td>1.159912</td>\n",
       "      <td>1.013847</td>\n",
       "      <td>0.108615</td>\n",
       "      <td>1.495524</td>\n",
       "      <td>-0.537545</td>\n",
       "      <td>2.342396</td>\n",
       "      <td>-0.839740</td>\n",
       "      <td>1.320683</td>\n",
       "      <td>0.000000</td>\n",
       "      <td>...</td>\n",
       "      <td>-0.097068</td>\n",
       "      <td>1.190680</td>\n",
       "      <td>3.101961</td>\n",
       "      <td>0.822136</td>\n",
       "      <td>0.766772</td>\n",
       "      <td>1.002191</td>\n",
       "      <td>1.061233</td>\n",
       "      <td>0.837004</td>\n",
       "      <td>0.860472</td>\n",
       "      <td>0.772484</td>\n",
       "    </tr>\n",
       "    <tr>\n",
       "      <th>10999996</th>\n",
       "      <td>1.0</td>\n",
       "      <td>0.618388</td>\n",
       "      <td>-1.012982</td>\n",
       "      <td>1.110139</td>\n",
       "      <td>0.941023</td>\n",
       "      <td>-0.379199</td>\n",
       "      <td>1.004656</td>\n",
       "      <td>0.348535</td>\n",
       "      <td>-1.678593</td>\n",
       "      <td>2.173076</td>\n",
       "      <td>...</td>\n",
       "      <td>-0.216995</td>\n",
       "      <td>1.049177</td>\n",
       "      <td>3.101961</td>\n",
       "      <td>0.826829</td>\n",
       "      <td>0.989809</td>\n",
       "      <td>1.029104</td>\n",
       "      <td>1.199679</td>\n",
       "      <td>0.891481</td>\n",
       "      <td>0.938490</td>\n",
       "      <td>0.865269</td>\n",
       "    </tr>\n",
       "    <tr>\n",
       "      <th>10999997</th>\n",
       "      <td>1.0</td>\n",
       "      <td>0.700559</td>\n",
       "      <td>0.774251</td>\n",
       "      <td>1.520182</td>\n",
       "      <td>0.847112</td>\n",
       "      <td>0.211230</td>\n",
       "      <td>1.095531</td>\n",
       "      <td>0.052457</td>\n",
       "      <td>0.024553</td>\n",
       "      <td>2.173076</td>\n",
       "      <td>...</td>\n",
       "      <td>1.585235</td>\n",
       "      <td>1.713962</td>\n",
       "      <td>0.000000</td>\n",
       "      <td>0.337374</td>\n",
       "      <td>0.845208</td>\n",
       "      <td>0.987610</td>\n",
       "      <td>0.883422</td>\n",
       "      <td>1.888438</td>\n",
       "      <td>1.153766</td>\n",
       "      <td>0.931279</td>\n",
       "    </tr>\n",
       "    <tr>\n",
       "      <th>10999998</th>\n",
       "      <td>0.0</td>\n",
       "      <td>1.178030</td>\n",
       "      <td>0.117796</td>\n",
       "      <td>-1.276980</td>\n",
       "      <td>1.864457</td>\n",
       "      <td>-0.584370</td>\n",
       "      <td>0.998519</td>\n",
       "      <td>-1.264549</td>\n",
       "      <td>1.276333</td>\n",
       "      <td>0.000000</td>\n",
       "      <td>...</td>\n",
       "      <td>1.399515</td>\n",
       "      <td>-1.313189</td>\n",
       "      <td>0.000000</td>\n",
       "      <td>0.838842</td>\n",
       "      <td>0.882890</td>\n",
       "      <td>1.201380</td>\n",
       "      <td>0.939216</td>\n",
       "      <td>0.339705</td>\n",
       "      <td>0.759070</td>\n",
       "      <td>0.719119</td>\n",
       "    </tr>\n",
       "    <tr>\n",
       "      <th>10999999</th>\n",
       "      <td>0.0</td>\n",
       "      <td>0.464477</td>\n",
       "      <td>-0.337047</td>\n",
       "      <td>0.229019</td>\n",
       "      <td>0.954596</td>\n",
       "      <td>-0.868466</td>\n",
       "      <td>0.430004</td>\n",
       "      <td>-0.271348</td>\n",
       "      <td>-1.252278</td>\n",
       "      <td>2.173076</td>\n",
       "      <td>...</td>\n",
       "      <td>-1.652782</td>\n",
       "      <td>-0.586254</td>\n",
       "      <td>0.000000</td>\n",
       "      <td>0.752535</td>\n",
       "      <td>0.740727</td>\n",
       "      <td>0.986917</td>\n",
       "      <td>0.663952</td>\n",
       "      <td>0.576084</td>\n",
       "      <td>0.541427</td>\n",
       "      <td>0.517420</td>\n",
       "    </tr>\n",
       "  </tbody>\n",
       "</table>\n",
       "<p>11000000 rows × 29 columns</p>\n",
       "</div>"
      ],
      "text/plain": [
       "           0         1         2         3         4         5         6   \\\n",
       "0         1.0  0.869293 -0.635082  0.225690  0.327470 -0.689993  0.754202   \n",
       "1         1.0  0.907542  0.329147  0.359412  1.497970 -0.313010  1.095531   \n",
       "2         1.0  0.798835  1.470639 -1.635975  0.453773  0.425629  1.104875   \n",
       "3         0.0  1.344385 -0.876626  0.935913  1.992050  0.882454  1.786066   \n",
       "4         1.0  1.105009  0.321356  1.522401  0.882808 -1.205349  0.681466   \n",
       "...       ...       ...       ...       ...       ...       ...       ...   \n",
       "10999995  1.0  1.159912  1.013847  0.108615  1.495524 -0.537545  2.342396   \n",
       "10999996  1.0  0.618388 -1.012982  1.110139  0.941023 -0.379199  1.004656   \n",
       "10999997  1.0  0.700559  0.774251  1.520182  0.847112  0.211230  1.095531   \n",
       "10999998  0.0  1.178030  0.117796 -1.276980  1.864457 -0.584370  0.998519   \n",
       "10999999  0.0  0.464477 -0.337047  0.229019  0.954596 -0.868466  0.430004   \n",
       "\n",
       "                7         8         9   ...        19        20        21  \\\n",
       "0        -0.248573 -1.092064  0.000000  ... -0.010455 -0.045767  3.101961   \n",
       "1        -0.557525 -1.588230  2.173076  ... -1.138930 -0.000819  0.000000   \n",
       "2         1.282322  1.381664  0.000000  ...  1.128848  0.900461  0.000000   \n",
       "3        -1.646778 -0.942383  0.000000  ... -0.678379 -1.360356  0.000000   \n",
       "4        -1.070464 -0.921871  0.000000  ... -0.373566  0.113041  0.000000   \n",
       "...            ...       ...       ...  ...       ...       ...       ...   \n",
       "10999995 -0.839740  1.320683  0.000000  ... -0.097068  1.190680  3.101961   \n",
       "10999996  0.348535 -1.678593  2.173076  ... -0.216995  1.049177  3.101961   \n",
       "10999997  0.052457  0.024553  2.173076  ...  1.585235  1.713962  0.000000   \n",
       "10999998 -1.264549  1.276333  0.000000  ...  1.399515 -1.313189  0.000000   \n",
       "10999999 -0.271348 -1.252278  2.173076  ... -1.652782 -0.586254  0.000000   \n",
       "\n",
       "                22        23        24        25        26        27        28  \n",
       "0         1.353760  0.979563  0.978076  0.920005  0.721657  0.988751  0.876678  \n",
       "1         0.302220  0.833048  0.985700  0.978098  0.779732  0.992356  0.798343  \n",
       "2         0.909753  1.108330  0.985692  0.951331  0.803252  0.865924  0.780118  \n",
       "3         0.946652  1.028704  0.998656  0.728281  0.869200  1.026736  0.957904  \n",
       "4         0.755856  1.361057  0.986610  0.838085  1.133295  0.872245  0.808487  \n",
       "...            ...       ...       ...       ...       ...       ...       ...  \n",
       "10999995  0.822136  0.766772  1.002191  1.061233  0.837004  0.860472  0.772484  \n",
       "10999996  0.826829  0.989809  1.029104  1.199679  0.891481  0.938490  0.865269  \n",
       "10999997  0.337374  0.845208  0.987610  0.883422  1.888438  1.153766  0.931279  \n",
       "10999998  0.838842  0.882890  1.201380  0.939216  0.339705  0.759070  0.719119  \n",
       "10999999  0.752535  0.740727  0.986917  0.663952  0.576084  0.541427  0.517420  \n",
       "\n",
       "[11000000 rows x 29 columns]"
      ]
     },
     "execution_count": 14,
     "metadata": {},
     "output_type": "execute_result"
    }
   ],
   "source": [
    "df"
   ]
  },
  {
   "cell_type": "code",
   "execution_count": 14,
   "metadata": {},
   "outputs": [
    {
     "name": "stdout",
     "output_type": "stream",
     "text": [
      "<class 'pandas.core.frame.DataFrame'>\n",
      "RangeIndex: 11000 entries, 0 to 10999\n",
      "Data columns (total 29 columns):\n",
      " #   Column                      Non-Null Count  Dtype  \n",
      "---  ------                      --------------  -----  \n",
      " 0   1.000000000000000000e+00    11000 non-null  float64\n",
      " 1   8.692932128906250000e-01    11000 non-null  float64\n",
      " 2   -6.350818276405334473e-01   11000 non-null  float64\n",
      " 3   2.256902605295181274e-01    11000 non-null  float64\n",
      " 4   3.274700641632080078e-01    11000 non-null  float64\n",
      " 5   -6.899932026863098145e-01   11000 non-null  float64\n",
      " 6   7.542022466659545898e-01    11000 non-null  float64\n",
      " 7   -2.485731393098831177e-01   11000 non-null  float64\n",
      " 8   -1.092063903808593750e+00   11000 non-null  float64\n",
      " 9   0.000000000000000000e+00    11000 non-null  float64\n",
      " 10  1.374992132186889648e+00    11000 non-null  float64\n",
      " 11  -6.536741852760314941e-01   11000 non-null  float64\n",
      " 12  9.303491115570068359e-01    11000 non-null  float64\n",
      " 13  1.107436060905456543e+00    11000 non-null  float64\n",
      " 14  1.138904333114624023e+00    11000 non-null  float64\n",
      " 15  -1.578198313713073730e+00   11000 non-null  float64\n",
      " 16  -1.046985387802124023e+00   11000 non-null  float64\n",
      " 17  0.000000000000000000e+00.1  11000 non-null  float64\n",
      " 18  6.579295396804809570e-01    11000 non-null  float64\n",
      " 19  -1.045456994324922562e-02   11000 non-null  float64\n",
      " 20  -4.576716944575309753e-02   11000 non-null  float64\n",
      " 21  3.101961374282836914e+00    11000 non-null  float64\n",
      " 22  1.353760004043579102e+00    11000 non-null  float64\n",
      " 23  9.795631170272827148e-01    11000 non-null  float64\n",
      " 24  9.780761599540710449e-01    11000 non-null  float64\n",
      " 25  9.200048446655273438e-01    11000 non-null  float64\n",
      " 26  7.216574549674987793e-01    11000 non-null  float64\n",
      " 27  9.887509346008300781e-01    11000 non-null  float64\n",
      " 28  8.766783475875854492e-01    11000 non-null  float64\n",
      "dtypes: float64(29)\n",
      "memory usage: 2.4 MB\n"
     ]
    }
   ],
   "source": [
    "df.info()"
   ]
  },
  {
   "cell_type": "code",
   "execution_count": 15,
   "metadata": {
    "colab": {},
    "colab_type": "code",
    "id": "AkiyUdaWIrww"
   },
   "outputs": [],
   "source": [
    "FEATURES = 28"
   ]
  },
  {
   "cell_type": "markdown",
   "metadata": {
    "colab_type": "text",
    "id": "SFggl9gYKKRJ"
   },
   "source": [
    "The `tf.data.experimental.CsvDataset` class can be used to read csv records directly from a gzip file with no intermediate decompression step."
   ]
  },
  {
   "cell_type": "code",
   "execution_count": 16,
   "metadata": {
    "colab": {},
    "colab_type": "code",
    "id": "QHz4sLVQEVIU"
   },
   "outputs": [],
   "source": [
    "ds = tf.data.experimental.CsvDataset(gz,[float(),]*(FEATURES+1), compression_type=\"GZIP\")"
   ]
  },
  {
   "cell_type": "markdown",
   "metadata": {
    "colab_type": "text",
    "id": "HzahEELTKlSV"
   },
   "source": [
    "That csv reader class returns a list of scalars for each record. The following function repacks that list of scalars into a (feature_vector, label) pair."
   ]
  },
  {
   "cell_type": "code",
   "execution_count": 17,
   "metadata": {
    "colab": {},
    "colab_type": "code",
    "id": "zPD6ICDlF6Wf"
   },
   "outputs": [],
   "source": [
    "def pack_row(*row):\n",
    "  label = row[0]\n",
    "  features = tf.stack(row[1:],1)\n",
    "  return features, label"
   ]
  },
  {
   "cell_type": "markdown",
   "metadata": {
    "colab_type": "text",
    "id": "4oa8tLuwLsbO"
   },
   "source": [
    "TensorFlow is most efficient when operating on large batches of data.\n",
    "\n",
    "So instead of repacking each row individually make a new `Dataset` that takes batches of 10000-examples, applies the `pack_row` function to each batch, and then splits the batches back up into individual records:"
   ]
  },
  {
   "cell_type": "code",
   "execution_count": 18,
   "metadata": {
    "colab": {},
    "colab_type": "code",
    "id": "-w-VHTwwGVoZ"
   },
   "outputs": [],
   "source": [
    "packed_ds = ds.batch(10000).map(pack_row).unbatch()"
   ]
  },
  {
   "cell_type": "markdown",
   "metadata": {
    "colab_type": "text",
    "id": "lUbxc5bxNSXV"
   },
   "source": [
    "Have a look at some of the records from this new `packed_ds`.\n",
    "\n",
    "The features are not perfectly normalized, but this is sufficient for this tutorial."
   ]
  },
  {
   "cell_type": "code",
   "execution_count": 19,
   "metadata": {
    "colab": {},
    "colab_type": "code",
    "id": "TfcXuv33Fvka"
   },
   "outputs": [
    {
     "name": "stdout",
     "output_type": "stream",
     "text": [
      "tf.Tensor(\n",
      "[ 0.8692932  -0.6350818   0.22569026  0.32747006 -0.6899932   0.75420225\n",
      " -0.24857314 -1.0920639   0.          1.3749921  -0.6536742   0.9303491\n",
      "  1.1074361   1.1389043  -1.5781983  -1.0469854   0.          0.65792954\n",
      " -0.01045457 -0.04576717  3.1019614   1.35376     0.9795631   0.97807616\n",
      "  0.92000484  0.72165745  0.98875093  0.87667835], shape=(28,), dtype=float32)\n"
     ]
    },
    {
     "data": {
      "image/png": "[encoded data removed]",
      "text/plain": [
       "<Figure size 432x288 with 1 Axes>"
      ]
     },
     "metadata": {
      "needs_background": "light"
     },
     "output_type": "display_data"
    }
   ],
   "source": [
    "for features,label in packed_ds.batch(1000).take(1):\n",
    "  print(features[0])\n",
    "  plt.hist(features.numpy().flatten(), bins = 101)"
   ]
  },
  {
   "cell_type": "markdown",
   "metadata": {
    "colab_type": "text",
    "id": "ICKZRY7gN-QM"
   },
   "source": [
    "To keep this tutorial relatively short use just the first 1000 samples for validation, and the next 10 000 for training:"
   ]
  },
  {
   "cell_type": "code",
   "execution_count": 20,
   "metadata": {
    "colab": {},
    "colab_type": "code",
    "id": "hmk49OqZIFZP"
   },
   "outputs": [],
   "source": [
    "N_VALIDATION = int(1e3)\n",
    "N_TRAIN = int(1e4)\n",
    "BUFFER_SIZE = int(1e4)\n",
    "BATCH_SIZE = 100\n",
    "STEPS_PER_EPOCH = N_TRAIN//BATCH_SIZE"
   ]
  },
  {
   "cell_type": "markdown",
   "metadata": {
    "colab_type": "text",
    "id": "FP3M9DmvON32"
   },
   "source": [
    "The `Dataset.skip` and `Dataset.take` methods make this easy.\n",
    "\n",
    "At the same time, use the `Dataset.cache` method to ensure that the loader doesn't need to re-read the data form the file on each epoch:"
   ]
  },
  {
   "cell_type": "code",
   "execution_count": 21,
   "metadata": {
    "colab": {},
    "colab_type": "code",
    "id": "H8H_ZzpBOOk-"
   },
   "outputs": [],
   "source": [
    "validate_ds = packed_ds.take(N_VALIDATION).cache()\n",
    "train_ds = packed_ds.skip(N_VALIDATION).take(N_TRAIN).cache()"
   ]
  },
  {
   "cell_type": "code",
   "execution_count": 22,
   "metadata": {
    "colab": {},
    "colab_type": "code",
    "id": "9zAOqk2_Px7K"
   },
   "outputs": [
    {
     "data": {
      "text/plain": [
       "<CacheDataset shapes: ((28,), ()), types: (tf.float32, tf.float32)>"
      ]
     },
     "execution_count": 22,
     "metadata": {},
     "output_type": "execute_result"
    }
   ],
   "source": [
    "train_ds"
   ]
  },
  {
   "cell_type": "code",
   "execution_count": 23,
   "metadata": {
    "colab": {},
    "colab_type": "code",
    "id": "GxwwxMRQrIDm"
   },
   "outputs": [
    {
     "data": {
      "text/plain": [
       "<CacheDataset shapes: ((28,), ()), types: (tf.float32, tf.float32)>"
      ]
     },
     "execution_count": 23,
     "metadata": {},
     "output_type": "execute_result"
    }
   ],
   "source": [
    "validate_ds"
   ]
  },
  {
   "cell_type": "markdown",
   "metadata": {
    "colab_type": "text",
    "id": "6PMliHoVO3OL"
   },
   "source": [
    "These datasets return individual examples. Use the `.batch` method to create batches of an appropriate size for training. Before batching also remember to `.shuffle` and `.repeat` the training set."
   ]
  },
  {
   "cell_type": "code",
   "execution_count": 24,
   "metadata": {
    "colab": {},
    "colab_type": "code",
    "id": "Y7I4J355O223"
   },
   "outputs": [],
   "source": [
    "validate_ds = validate_ds.batch(BATCH_SIZE)\n",
    "train_ds = train_ds.shuffle(BUFFER_SIZE).repeat().batch(BATCH_SIZE)"
   ]
  },
  {
   "cell_type": "code",
   "execution_count": 25,
   "metadata": {
    "colab": {},
    "colab_type": "code",
    "id": "oTDdrrEbrIDw"
   },
   "outputs": [
    {
     "data": {
      "text/plain": [
       "<BatchDataset shapes: ((None, 28), (None,)), types: (tf.float32, tf.float32)>"
      ]
     },
     "execution_count": 25,
     "metadata": {},
     "output_type": "execute_result"
    }
   ],
   "source": [
    "validate_ds"
   ]
  },
  {
   "cell_type": "code",
   "execution_count": 26,
   "metadata": {
    "colab": {},
    "colab_type": "code",
    "id": "E9vkcK9crID3"
   },
   "outputs": [
    {
     "data": {
      "text/plain": [
       "<BatchDataset shapes: ((None, 28), (None,)), types: (tf.float32, tf.float32)>"
      ]
     },
     "execution_count": 26,
     "metadata": {},
     "output_type": "execute_result"
    }
   ],
   "source": [
    "train_ds"
   ]
  },
  {
   "cell_type": "markdown",
   "metadata": {
    "colab_type": "text",
    "id": "lglk41MwvU5o"
   },
   "source": [
    "## Demonstrate overfitting\n",
    "\n",
    "The simplest way to prevent overfitting is to start with a small model: A model with a small number of learnable parameters (which is determined by the number of layers and the number of units per layer). In deep learning, the number of learnable parameters in a model is often referred to as the model's \"capacity\".\n",
    "\n",
    "Intuitively, a model with more parameters will have more \"memorization capacity\" and therefore will be able to easily learn a perfect dictionary-like mapping between training samples and their targets, a mapping without any generalization power, but this would be useless when making predictions on previously unseen data.\n",
    "\n",
    "Always keep this in mind: deep learning models tend to be good at fitting to the training data, but the real challenge is generalization, not fitting.\n",
    "\n",
    "On the other hand, if the network has limited memorization resources, it will not be able to learn the mapping as easily. To minimize its loss, it will have to learn compressed representations that have more predictive power. At the same time, if you make your model too small, it will have difficulty fitting to the training data. There is a balance between \"too much capacity\" and \"not enough capacity\".\n",
    "\n",
    "Unfortunately, there is no magical formula to determine the right size or architecture of your model (in terms of the number of layers, or the right size for each layer). You will have to experiment using a series of different architectures.\n",
    "\n",
    "To find an appropriate model size, it's best to start with relatively few layers and parameters, then begin increasing the size of the layers or adding new layers until you see diminishing returns on the validation loss.\n",
    "\n",
    "Start with a simple model using only `layers.Dense` as a baseline, then create larger versions, and compare them."
   ]
  },
  {
   "cell_type": "markdown",
   "metadata": {
    "colab_type": "text",
    "id": "_ReKHdC2EgVu"
   },
   "source": [
    "### Training procedure"
   ]
  },
  {
   "cell_type": "markdown",
   "metadata": {
    "colab_type": "text",
    "id": "pNzkSkkXSP5l"
   },
   "source": [
    "Many models train better if you gradually reduce the learning rate during training. Use `optimizers.schedules` to reduce the learning rate over time:"
   ]
  },
  {
   "cell_type": "code",
   "execution_count": 27,
   "metadata": {
    "colab": {},
    "colab_type": "code",
    "id": "LwQp-ERhAD6F"
   },
   "outputs": [],
   "source": [
    "lr_schedule = tf.keras.optimizers.schedules.InverseTimeDecay(\n",
    "  0.001,\n",
    "  decay_steps=STEPS_PER_EPOCH*1000,\n",
    "  decay_rate=1,\n",
    "  staircase=False)\n",
    "\n",
    "def get_optimizer():\n",
    "  return tf.keras.optimizers.Adam(lr_schedule)"
   ]
  },
  {
   "cell_type": "markdown",
   "metadata": {
    "colab_type": "text",
    "id": "kANLx6OYTQ8B"
   },
   "source": [
    "The code above sets a `schedules.InverseTimeDecay` to hyperbolically decrease the learning rate to 1/2 of the base rate at 1000 epochs, 1/3 at 2000 epochs and so on."
   ]
  },
  {
   "cell_type": "code",
   "execution_count": 28,
   "metadata": {
    "colab": {},
    "colab_type": "code",
    "id": "HIo_yPjEAFgn"
   },
   "outputs": [
    {
     "data": {
      "image/png": "[encoded data removed]",
      "text/plain": [
       "<Figure size 576x432 with 1 Axes>"
      ]
     },
     "metadata": {
      "needs_background": "light"
     },
     "output_type": "display_data"
    }
   ],
   "source": [
    "step = np.linspace(0,100000)\n",
    "lr = lr_schedule(step)\n",
    "plt.figure(figsize = (8,6))\n",
    "plt.plot(step/STEPS_PER_EPOCH, lr)\n",
    "plt.ylim([0,max(plt.ylim())])\n",
    "plt.xlabel('Epoch')\n",
    "_ = plt.ylabel('Learning Rate')\n"
   ]
  },
  {
   "cell_type": "markdown",
   "metadata": {
    "colab_type": "text",
    "id": "ya7x7gr9UjU0"
   },
   "source": [
    "Each model in this tutorial will use the same training configuration. So set these up in a reusable way, starting with the list of callbacks.\n",
    "\n",
    "The training for this tutorial runs for many short epochs. To reduce the logging noise use the `tfdocs.EpochDots` which simply a `.` for each epoch and, and a full set of metrics every 100 epochs.\n",
    "\n",
    "Next include `callbacks.EarlyStopping` to avoid long and unnecessary training times. Note that this callback is set to monitor the `val_binary_crossentropy`, not the `val_loss`. This difference will be important later.\n",
    "\n",
    "Use `callbacks.TensorBoard` to generate TensorBoard logs for the training.\n",
    "\n"
   ]
  },
  {
   "cell_type": "code",
   "execution_count": 29,
   "metadata": {
    "colab": {},
    "colab_type": "code",
    "id": "vSv8rfw_T85n"
   },
   "outputs": [],
   "source": [
    "def schedule(lr):\n",
    "    if lr > 0.000001:\n",
    "        return float(lr)\n",
    "    else:\n",
    "        return float(0.000001)\n",
    "def\n",
    "\n",
    "def get_callbacks(name):\n",
    "    \n",
    "  return [\n",
    "    tfdocs.modeling.EpochDots(),\n",
    "    tf.keras.callbacks.EarlyStopping(monitor='val_binary_crossentropy', patience=200),\n",
    "    tf.keras.callbacks.TensorBoard(logdir/name),\n",
    "    tf.keras.callbacks.LearningRateScheduler(schedule)\n",
    "  ]"
   ]
  },
  {
   "cell_type": "markdown",
   "metadata": {
    "colab_type": "text",
    "id": "VhctzKhBWVDD"
   },
   "source": [
    "Similarly each model will use the same `Model.compile` and `Model.fit` settings:"
   ]
  },
  {
   "cell_type": "code",
   "execution_count": 78,
   "metadata": {
    "colab": {},
    "colab_type": "code",
    "id": "xRCGwU3YH5sT"
   },
   "outputs": [],
   "source": [
    "def compile_and_fit(model, name, optimizer=None, max_epochs=500):\n",
    "  sgd = tf.keras.optimizers.SGD(lr=.05, decay = 1.0000002 )\n",
    "    \n",
    "  if optimizer is None:\n",
    "    optimizer = sgd # Steven's optimizer\n",
    "    #optimizer = get_optimizer()#example optimizer tuned to match case study parms\n",
    "  model.compile(optimizer=optimizer,\n",
    "                loss=tf.keras.losses.BinaryCrossentropy(from_logits=True),\n",
    "                metrics=[\n",
    "                  tf.keras.losses.BinaryCrossentropy(\n",
    "                      from_logits=True, name='binary_crossentropy'),\n",
    "                  'accuracy',\n",
    "#                  keras.metrics.AUC(name='auc')\n",
    "                ])\n",
    "#https://www.tensorflow.org/api_docs/python/tf/keras/metrics\n",
    "#tf.keras.metrics.AUC(\n",
    "#    num_thresholds=200, curve='ROC', summation_method='interpolation', name=None,\n",
    "#    dtype=None, thresholds=None, multi_label=False, label_weights=None\n",
    "#)\n",
    "  model.summary()\n",
    "\n",
    "  history = model.fit(\n",
    "    train_ds,\n",
    "    steps_per_epoch = STEPS_PER_EPOCH,\n",
    "    epochs=max_epochs,\n",
    "    validation_data=validate_ds,\n",
    "    callbacks=get_callbacks(name),\n",
    "    verbose=0)\n",
    "\n",
    "  #historypredict = model.predict(train_ds, steps = 10)\n",
    "  #eval_result = model.evaluate(train_ds, steps=10)  \n",
    "  return history\n",
    "#, historypredict, eval_result"
   ]
  },
  {
   "cell_type": "code",
   "execution_count": 79,
   "metadata": {
    "colab": {},
    "colab_type": "code",
    "id": "vw0AoNIUrIES"
   },
   "outputs": [],
   "source": [
    "#understand models how to determine what the actual values and what was predicted\n",
    "#simple output in dataframe like format of data"
   ]
  },
  {
   "cell_type": "markdown",
   "metadata": {
    "colab_type": "text",
    "id": "mxBeiLUiWHJV"
   },
   "source": [
    "### Tiny model"
   ]
  },
  {
   "cell_type": "markdown",
   "metadata": {
    "colab_type": "text",
    "id": "a6JDv12scLTI"
   },
   "source": [
    "Start by training a model:\n",
    "#### Case parms \n",
    "* (Done) We selected a five-layer neural network with 300 hidden units in each layer, \n",
    "* (Done) a learning rate of 0.05, and a weight decay coefficient of 1 × 10−5.\n",
    "* (Done)Hidden layers have tanh activation function\n",
    "* (Done)Gradient computations were made on mini-batches of size 100\n",
    "* An additional boost in performance is obtained by using the dropout training algorithm, in which we stochastically drop neurons in the top hidden layer with 50% probability during training.\n",
    "* Weights were initialized from a normal distribution with zero mean and standard deviation 0.1 in the first layer, 0.001 in the output layer, and 0.05 all other hidden layers. \n",
    "* A momentum term increased linearly over the first 200 epochs from 0.9 to 0.99, at which point it remained constant. \n",
    "* The learning rate decayed by a factor of 1.0000002 every batch update until it reached a minimum of 10^−6,\n"
   ]
  },
  {
   "cell_type": "code",
   "execution_count": 80,
   "metadata": {
    "colab": {},
    "colab_type": "code",
    "id": "MzZ0_MzPrIEb"
   },
   "outputs": [],
   "source": [
    "tiny_model2 = tf.keras.Sequential([\n",
    "    layers.Dense(300, activation='tanh', input_shape=(FEATURES,)),#input + hidden 1 # maybe set weights at each layer\n",
    "    layers.Dense(300, activation='tanh'), #hidden 2\n",
    "    layers.Dense(300, activation='tanh'), #hidden 3\n",
    "    layers.Dense(300, activation='tanh'), #hidden 4\n",
    "    layers.Dense(300, activation='tanh'), #hidden 5\n",
    "    layers.Dense(1,activation='sigmoid') #output\n",
    "])"
   ]
  },
  {
   "cell_type": "code",
   "execution_count": 86,
   "metadata": {},
   "outputs": [],
   "source": [
    "tiny_model3 = tf.keras.Sequential([\n",
    "    layers.Dense(300, activation='tanh', kernel_regularizer=regularizers.l2(0.05), input_shape=(FEATURES,)),#input + hidden 1 # maybe set weights at each layer\n",
    "    layers.Dense(300, activation='tanh', kernel_regularizer=regularizers.l2(0.05)), #hidden 2\n",
    "    layers.Dense(300, activation='tanh', kernel_regularizer=regularizers.l2(0.05)), #hidden 3\n",
    "    layers.Dense(300, activation='tanh', kernel_regularizer=regularizers.l2(0.05)), #hidden 4\n",
    "    layers.Dense(300, activation='tanh', kernel_regularizer=regularizers.l2(0.05)), #hidden 5\n",
    "    layers.Dense(1,activation='sigmoid')\n",
    "#    kernel_regularizer=regularizers.l2(0.001)) #output\n",
    "])"
   ]
  },
  {
   "cell_type": "code",
   "execution_count": 84,
   "metadata": {
    "colab": {},
    "colab_type": "code",
    "id": "X72IUdWYipIS"
   },
   "outputs": [],
   "source": [
    "size_histories = {}"
   ]
  },
  {
   "cell_type": "code",
   "execution_count": 66,
   "metadata": {
    "colab": {},
    "colab_type": "code",
    "id": "bdOcJtPGHhJ5"
   },
   "outputs": [
    {
     "name": "stdout",
     "output_type": "stream",
     "text": [
      "Model: \"sequential_1\"\n",
      "_________________________________________________________________\n",
      "Layer (type)                 Output Shape              Param #   \n",
      "=================================================================\n",
      "dense_6 (Dense)              (None, 300)               8700      \n",
      "_________________________________________________________________\n",
      "dense_7 (Dense)              (None, 300)               90300     \n",
      "_________________________________________________________________\n",
      "dense_8 (Dense)              (None, 300)               90300     \n",
      "_________________________________________________________________\n",
      "dense_9 (Dense)              (None, 300)               90300     \n",
      "_________________________________________________________________\n",
      "dense_10 (Dense)             (None, 300)               90300     \n",
      "_________________________________________________________________\n",
      "dense_11 (Dense)             (None, 1)                 301       \n",
      "=================================================================\n",
      "Total params: 370,201\n",
      "Trainable params: 370,201\n",
      "Non-trainable params: 0\n",
      "_________________________________________________________________\n",
      "\n",
      "Epoch: 0, accuracy:0.7745,  binary_crossentropy:0.5952,  loss:0.5952,  val_accuracy:0.6410,  val_binary_crossentropy:0.6494,  val_loss:0.6494,  \n",
      "....................................................................................................\n",
      "Epoch: 100, accuracy:0.7873,  binary_crossentropy:0.5888,  loss:0.5888,  val_accuracy:0.6020,  val_binary_crossentropy:0.6543,  val_loss:0.6543,  \n",
      "....................................................................................................\n",
      "Epoch: 200, accuracy:0.7969,  binary_crossentropy:0.5837,  loss:0.5837,  val_accuracy:0.6560,  val_binary_crossentropy:0.6469,  val_loss:0.6469,  \n",
      "....................................................................................................\n",
      "Epoch: 300, accuracy:0.8191,  binary_crossentropy:0.5744,  loss:0.5744,  val_accuracy:0.6400,  val_binary_crossentropy:0.6503,  val_loss:0.6503,  \n",
      "................CPU times: user 51min 1s, sys: 37min 40s, total: 1h 28min 42s\n",
      "Wall time: 4min 16s\n"
     ]
    }
   ],
   "source": [
    "%%time\n",
    "size_histories['Tiny'] = compile_and_fit(tiny_model2, 'sizes/Tiny')"
   ]
  },
  {
   "cell_type": "code",
   "execution_count": 67,
   "metadata": {
    "colab": {},
    "colab_type": "code",
    "id": "uAW8oihArIEt"
   },
   "outputs": [
    {
     "name": "stdout",
     "output_type": "stream",
     "text": [
      "Eval result: [0.5938187420368195, 0.5938187, 0.792]\n"
     ]
    }
   ],
   "source": [
    "print('Eval result: {}'.format(Tinyvalres))"
   ]
  },
  {
   "cell_type": "code",
   "execution_count": 68,
   "metadata": {
    "colab": {},
    "colab_type": "code",
    "id": "NQ-aquzsrIEx"
   },
   "outputs": [
    {
     "data": {
      "text/plain": [
       "<tensorflow.python.keras.callbacks.History at 0x7f69c0569978>"
      ]
     },
     "execution_count": 68,
     "metadata": {},
     "output_type": "execute_result"
    }
   ],
   "source": [
    "size_histories['Tiny']"
   ]
  },
  {
   "cell_type": "markdown",
   "metadata": {
    "colab_type": "text",
    "id": "rS_QGT6icwdI"
   },
   "source": [
    "Now check how the model did:"
   ]
  },
  {
   "cell_type": "code",
   "execution_count": 69,
   "metadata": {
    "colab": {},
    "colab_type": "code",
    "id": "dkEvb2x5XsjE"
   },
   "outputs": [
    {
     "data": {
      "text/plain": [
       "(0.5, 0.7)"
      ]
     },
     "execution_count": 69,
     "metadata": {},
     "output_type": "execute_result"
    },
    {
     "data": {
      "image/png": "[encoded data removed]",
      "text/plain": [
       "<Figure size 432x288 with 1 Axes>"
      ]
     },
     "metadata": {
      "needs_background": "light"
     },
     "output_type": "display_data"
    }
   ],
   "source": [
    "plotter = tfdocs.plots.HistoryPlotter(metric = 'binary_crossentropy', smoothing_std=10)\n",
    "plotter.plot(size_histories)\n",
    "plt.ylim([0.5, 0.7])"
   ]
  },
  {
   "cell_type": "code",
   "execution_count": 70,
   "metadata": {
    "colab": {},
    "colab_type": "code",
    "id": "0XmKDtOWzOpk"
   },
   "outputs": [
    {
     "data": {
      "text/plain": [
       "Text(0.5, 0, 'Epochs [Log Scale]')"
      ]
     },
     "execution_count": 70,
     "metadata": {},
     "output_type": "execute_result"
    },
    {
     "data": {
      "image/png": "[encoded data removed]",
      "text/plain": [
       "<Figure size 432x288 with 1 Axes>"
      ]
     },
     "metadata": {
      "needs_background": "light"
     },
     "output_type": "display_data"
    }
   ],
   "source": [
    "plotter.plot(size_histories)\n",
    "a = plt.xscale('log')\n",
    "plt.xlim([5, max(plt.xlim())])\n",
    "plt.ylim([0.5, 0.7])\n",
    "plt.xlabel(\"Epochs [Log Scale]\")"
   ]
  },
  {
   "cell_type": "code",
   "execution_count": 91,
   "metadata": {},
   "outputs": [],
   "source": [
    "dfx = df.rename(columns={x:y for x,y in zip(df.columns,range(0,len(df.columns)))})"
   ]
  },
  {
   "cell_type": "code",
   "execution_count": 92,
   "metadata": {},
   "outputs": [
    {
     "data": {
      "text/html": [
       "<div>\n",
       "<style scoped>\n",
       "    .dataframe tbody tr th:only-of-type {\n",
       "        vertical-align: middle;\n",
       "    }\n",
       "\n",
       "    .dataframe tbody tr th {\n",
       "        vertical-align: top;\n",
       "    }\n",
       "\n",
       "    .dataframe thead th {\n",
       "        text-align: right;\n",
       "    }\n",
       "</style>\n",
       "<table border=\"1\" class=\"dataframe\">\n",
       "  <thead>\n",
       "    <tr style=\"text-align: right;\">\n",
       "      <th></th>\n",
       "      <th>0</th>\n",
       "      <th>1</th>\n",
       "      <th>2</th>\n",
       "      <th>3</th>\n",
       "      <th>4</th>\n",
       "      <th>5</th>\n",
       "      <th>6</th>\n",
       "      <th>7</th>\n",
       "      <th>8</th>\n",
       "      <th>9</th>\n",
       "      <th>...</th>\n",
       "      <th>19</th>\n",
       "      <th>20</th>\n",
       "      <th>21</th>\n",
       "      <th>22</th>\n",
       "      <th>23</th>\n",
       "      <th>24</th>\n",
       "      <th>25</th>\n",
       "      <th>26</th>\n",
       "      <th>27</th>\n",
       "      <th>28</th>\n",
       "    </tr>\n",
       "  </thead>\n",
       "  <tbody>\n",
       "    <tr>\n",
       "      <th>0</th>\n",
       "      <td>1.0</td>\n",
       "      <td>0.907542</td>\n",
       "      <td>0.329147</td>\n",
       "      <td>0.359412</td>\n",
       "      <td>1.497970</td>\n",
       "      <td>-0.313010</td>\n",
       "      <td>1.095531</td>\n",
       "      <td>-0.557525</td>\n",
       "      <td>-1.588230</td>\n",
       "      <td>2.173076</td>\n",
       "      <td>...</td>\n",
       "      <td>-1.138930</td>\n",
       "      <td>-0.000819</td>\n",
       "      <td>0.000000</td>\n",
       "      <td>0.302220</td>\n",
       "      <td>0.833048</td>\n",
       "      <td>0.985700</td>\n",
       "      <td>0.978098</td>\n",
       "      <td>0.779732</td>\n",
       "      <td>0.992356</td>\n",
       "      <td>0.798343</td>\n",
       "    </tr>\n",
       "    <tr>\n",
       "      <th>1</th>\n",
       "      <td>1.0</td>\n",
       "      <td>0.798835</td>\n",
       "      <td>1.470639</td>\n",
       "      <td>-1.635975</td>\n",
       "      <td>0.453773</td>\n",
       "      <td>0.425629</td>\n",
       "      <td>1.104875</td>\n",
       "      <td>1.282322</td>\n",
       "      <td>1.381664</td>\n",
       "      <td>0.000000</td>\n",
       "      <td>...</td>\n",
       "      <td>1.128848</td>\n",
       "      <td>0.900461</td>\n",
       "      <td>0.000000</td>\n",
       "      <td>0.909753</td>\n",
       "      <td>1.108330</td>\n",
       "      <td>0.985692</td>\n",
       "      <td>0.951331</td>\n",
       "      <td>0.803252</td>\n",
       "      <td>0.865924</td>\n",
       "      <td>0.780118</td>\n",
       "    </tr>\n",
       "    <tr>\n",
       "      <th>2</th>\n",
       "      <td>0.0</td>\n",
       "      <td>1.344385</td>\n",
       "      <td>-0.876626</td>\n",
       "      <td>0.935913</td>\n",
       "      <td>1.992050</td>\n",
       "      <td>0.882454</td>\n",
       "      <td>1.786066</td>\n",
       "      <td>-1.646778</td>\n",
       "      <td>-0.942383</td>\n",
       "      <td>0.000000</td>\n",
       "      <td>...</td>\n",
       "      <td>-0.678379</td>\n",
       "      <td>-1.360356</td>\n",
       "      <td>0.000000</td>\n",
       "      <td>0.946652</td>\n",
       "      <td>1.028704</td>\n",
       "      <td>0.998656</td>\n",
       "      <td>0.728281</td>\n",
       "      <td>0.869200</td>\n",
       "      <td>1.026736</td>\n",
       "      <td>0.957904</td>\n",
       "    </tr>\n",
       "    <tr>\n",
       "      <th>3</th>\n",
       "      <td>1.0</td>\n",
       "      <td>1.105009</td>\n",
       "      <td>0.321356</td>\n",
       "      <td>1.522401</td>\n",
       "      <td>0.882808</td>\n",
       "      <td>-1.205349</td>\n",
       "      <td>0.681466</td>\n",
       "      <td>-1.070464</td>\n",
       "      <td>-0.921871</td>\n",
       "      <td>0.000000</td>\n",
       "      <td>...</td>\n",
       "      <td>-0.373566</td>\n",
       "      <td>0.113041</td>\n",
       "      <td>0.000000</td>\n",
       "      <td>0.755856</td>\n",
       "      <td>1.361057</td>\n",
       "      <td>0.986610</td>\n",
       "      <td>0.838085</td>\n",
       "      <td>1.133295</td>\n",
       "      <td>0.872245</td>\n",
       "      <td>0.808487</td>\n",
       "    </tr>\n",
       "    <tr>\n",
       "      <th>4</th>\n",
       "      <td>0.0</td>\n",
       "      <td>1.595839</td>\n",
       "      <td>-0.607811</td>\n",
       "      <td>0.007075</td>\n",
       "      <td>1.818450</td>\n",
       "      <td>-0.111906</td>\n",
       "      <td>0.847550</td>\n",
       "      <td>-0.566437</td>\n",
       "      <td>1.581239</td>\n",
       "      <td>2.173076</td>\n",
       "      <td>...</td>\n",
       "      <td>-0.654227</td>\n",
       "      <td>-1.274345</td>\n",
       "      <td>3.101961</td>\n",
       "      <td>0.823761</td>\n",
       "      <td>0.938191</td>\n",
       "      <td>0.971758</td>\n",
       "      <td>0.789176</td>\n",
       "      <td>0.430553</td>\n",
       "      <td>0.961357</td>\n",
       "      <td>0.957818</td>\n",
       "    </tr>\n",
       "    <tr>\n",
       "      <th>...</th>\n",
       "      <td>...</td>\n",
       "      <td>...</td>\n",
       "      <td>...</td>\n",
       "      <td>...</td>\n",
       "      <td>...</td>\n",
       "      <td>...</td>\n",
       "      <td>...</td>\n",
       "      <td>...</td>\n",
       "      <td>...</td>\n",
       "      <td>...</td>\n",
       "      <td>...</td>\n",
       "      <td>...</td>\n",
       "      <td>...</td>\n",
       "      <td>...</td>\n",
       "      <td>...</td>\n",
       "      <td>...</td>\n",
       "      <td>...</td>\n",
       "      <td>...</td>\n",
       "      <td>...</td>\n",
       "      <td>...</td>\n",
       "      <td>...</td>\n",
       "    </tr>\n",
       "    <tr>\n",
       "      <th>10995</th>\n",
       "      <td>1.0</td>\n",
       "      <td>0.767357</td>\n",
       "      <td>1.084947</td>\n",
       "      <td>0.299487</td>\n",
       "      <td>0.511042</td>\n",
       "      <td>-0.374340</td>\n",
       "      <td>0.774997</td>\n",
       "      <td>-0.218866</td>\n",
       "      <td>-0.547110</td>\n",
       "      <td>1.086538</td>\n",
       "      <td>...</td>\n",
       "      <td>1.377029</td>\n",
       "      <td>-1.557350</td>\n",
       "      <td>0.000000</td>\n",
       "      <td>1.077976</td>\n",
       "      <td>1.028331</td>\n",
       "      <td>0.984388</td>\n",
       "      <td>1.004476</td>\n",
       "      <td>0.925660</td>\n",
       "      <td>1.012436</td>\n",
       "      <td>1.057740</td>\n",
       "    </tr>\n",
       "    <tr>\n",
       "      <th>10996</th>\n",
       "      <td>0.0</td>\n",
       "      <td>0.306174</td>\n",
       "      <td>-1.808714</td>\n",
       "      <td>-1.240359</td>\n",
       "      <td>1.365489</td>\n",
       "      <td>-1.740858</td>\n",
       "      <td>1.695741</td>\n",
       "      <td>0.731754</td>\n",
       "      <td>0.156495</td>\n",
       "      <td>0.000000</td>\n",
       "      <td>...</td>\n",
       "      <td>1.232118</td>\n",
       "      <td>-0.143431</td>\n",
       "      <td>0.000000</td>\n",
       "      <td>0.886896</td>\n",
       "      <td>0.935988</td>\n",
       "      <td>0.973462</td>\n",
       "      <td>0.879262</td>\n",
       "      <td>0.605018</td>\n",
       "      <td>0.853274</td>\n",
       "      <td>1.018208</td>\n",
       "    </tr>\n",
       "    <tr>\n",
       "      <th>10997</th>\n",
       "      <td>1.0</td>\n",
       "      <td>0.794809</td>\n",
       "      <td>-0.059466</td>\n",
       "      <td>0.526425</td>\n",
       "      <td>0.736569</td>\n",
       "      <td>1.662992</td>\n",
       "      <td>0.614593</td>\n",
       "      <td>-1.320002</td>\n",
       "      <td>-0.025997</td>\n",
       "      <td>0.000000</td>\n",
       "      <td>...</td>\n",
       "      <td>-1.238036</td>\n",
       "      <td>-1.050715</td>\n",
       "      <td>3.101961</td>\n",
       "      <td>1.443730</td>\n",
       "      <td>1.199071</td>\n",
       "      <td>0.990352</td>\n",
       "      <td>0.697507</td>\n",
       "      <td>0.799412</td>\n",
       "      <td>1.002388</td>\n",
       "      <td>0.846745</td>\n",
       "    </tr>\n",
       "    <tr>\n",
       "      <th>10998</th>\n",
       "      <td>0.0</td>\n",
       "      <td>0.839097</td>\n",
       "      <td>0.202531</td>\n",
       "      <td>0.619642</td>\n",
       "      <td>0.497209</td>\n",
       "      <td>-1.177904</td>\n",
       "      <td>0.544788</td>\n",
       "      <td>1.262518</td>\n",
       "      <td>0.130439</td>\n",
       "      <td>0.000000</td>\n",
       "      <td>...</td>\n",
       "      <td>-1.053149</td>\n",
       "      <td>-0.947502</td>\n",
       "      <td>3.101961</td>\n",
       "      <td>0.806380</td>\n",
       "      <td>1.075156</td>\n",
       "      <td>0.987699</td>\n",
       "      <td>0.624265</td>\n",
       "      <td>0.887372</td>\n",
       "      <td>0.718604</td>\n",
       "      <td>0.641227</td>\n",
       "    </tr>\n",
       "    <tr>\n",
       "      <th>10999</th>\n",
       "      <td>1.0</td>\n",
       "      <td>2.265836</td>\n",
       "      <td>-0.984737</td>\n",
       "      <td>0.296158</td>\n",
       "      <td>1.097784</td>\n",
       "      <td>1.345723</td>\n",
       "      <td>0.668183</td>\n",
       "      <td>-0.723884</td>\n",
       "      <td>-0.941828</td>\n",
       "      <td>2.173076</td>\n",
       "      <td>...</td>\n",
       "      <td>0.112803</td>\n",
       "      <td>1.656251</td>\n",
       "      <td>0.000000</td>\n",
       "      <td>0.704588</td>\n",
       "      <td>0.594713</td>\n",
       "      <td>1.772387</td>\n",
       "      <td>1.243505</td>\n",
       "      <td>0.677384</td>\n",
       "      <td>0.990824</td>\n",
       "      <td>0.782038</td>\n",
       "    </tr>\n",
       "  </tbody>\n",
       "</table>\n",
       "<p>11000 rows × 29 columns</p>\n",
       "</div>"
      ],
      "text/plain": [
       "        0         1         2         3         4         5         6   \\\n",
       "0      1.0  0.907542  0.329147  0.359412  1.497970 -0.313010  1.095531   \n",
       "1      1.0  0.798835  1.470639 -1.635975  0.453773  0.425629  1.104875   \n",
       "2      0.0  1.344385 -0.876626  0.935913  1.992050  0.882454  1.786066   \n",
       "3      1.0  1.105009  0.321356  1.522401  0.882808 -1.205349  0.681466   \n",
       "4      0.0  1.595839 -0.607811  0.007075  1.818450 -0.111906  0.847550   \n",
       "...    ...       ...       ...       ...       ...       ...       ...   \n",
       "10995  1.0  0.767357  1.084947  0.299487  0.511042 -0.374340  0.774997   \n",
       "10996  0.0  0.306174 -1.808714 -1.240359  1.365489 -1.740858  1.695741   \n",
       "10997  1.0  0.794809 -0.059466  0.526425  0.736569  1.662992  0.614593   \n",
       "10998  0.0  0.839097  0.202531  0.619642  0.497209 -1.177904  0.544788   \n",
       "10999  1.0  2.265836 -0.984737  0.296158  1.097784  1.345723  0.668183   \n",
       "\n",
       "             7         8         9   ...        19        20        21  \\\n",
       "0     -0.557525 -1.588230  2.173076  ... -1.138930 -0.000819  0.000000   \n",
       "1      1.282322  1.381664  0.000000  ...  1.128848  0.900461  0.000000   \n",
       "2     -1.646778 -0.942383  0.000000  ... -0.678379 -1.360356  0.000000   \n",
       "3     -1.070464 -0.921871  0.000000  ... -0.373566  0.113041  0.000000   \n",
       "4     -0.566437  1.581239  2.173076  ... -0.654227 -1.274345  3.101961   \n",
       "...         ...       ...       ...  ...       ...       ...       ...   \n",
       "10995 -0.218866 -0.547110  1.086538  ...  1.377029 -1.557350  0.000000   \n",
       "10996  0.731754  0.156495  0.000000  ...  1.232118 -0.143431  0.000000   \n",
       "10997 -1.320002 -0.025997  0.000000  ... -1.238036 -1.050715  3.101961   \n",
       "10998  1.262518  0.130439  0.000000  ... -1.053149 -0.947502  3.101961   \n",
       "10999 -0.723884 -0.941828  2.173076  ...  0.112803  1.656251  0.000000   \n",
       "\n",
       "             22        23        24        25        26        27        28  \n",
       "0      0.302220  0.833048  0.985700  0.978098  0.779732  0.992356  0.798343  \n",
       "1      0.909753  1.108330  0.985692  0.951331  0.803252  0.865924  0.780118  \n",
       "2      0.946652  1.028704  0.998656  0.728281  0.869200  1.026736  0.957904  \n",
       "3      0.755856  1.361057  0.986610  0.838085  1.133295  0.872245  0.808487  \n",
       "4      0.823761  0.938191  0.971758  0.789176  0.430553  0.961357  0.957818  \n",
       "...         ...       ...       ...       ...       ...       ...       ...  \n",
       "10995  1.077976  1.028331  0.984388  1.004476  0.925660  1.012436  1.057740  \n",
       "10996  0.886896  0.935988  0.973462  0.879262  0.605018  0.853274  1.018208  \n",
       "10997  1.443730  1.199071  0.990352  0.697507  0.799412  1.002388  0.846745  \n",
       "10998  0.806380  1.075156  0.987699  0.624265  0.887372  0.718604  0.641227  \n",
       "10999  0.704588  0.594713  1.772387  1.243505  0.677384  0.990824  0.782038  \n",
       "\n",
       "[11000 rows x 29 columns]"
      ]
     },
     "execution_count": 92,
     "metadata": {},
     "output_type": "execute_result"
    }
   ],
   "source": [
    "dfx"
   ]
  },
  {
   "cell_type": "markdown",
   "metadata": {},
   "source": [
    "Case parms\n",
    "* (Done) We selected a five-layer neural network with 300 hidden units in each layer,\n",
    "* (Done) a learning rate of 0.05, and a weight decay coefficient of 1 × 10−5.\n",
    "* (Done)Hidden layers have tanh activation function\n",
    "* (Done)Gradient computations were made on mini-batches of size 100\n",
    "* (Done)An additional boost in performance is obtained by using the dropout training algorithm, in which we stochastically drop neurons in the top hidden layer with 50% probability during training.\n",
    "* (Done)Weights were initialized from a normal distribution with zero mean and standard deviation 0.1 in the first layer, 0.001 in the output layer, and 0.05 all other hidden layers.\n",
    "* A momentum term increased linearly over the first 200 epochs from 0.9 to 0.99, at which point it remained constant.\n",
    "* (Done)The learning rate decayed by a factor of 1.0000002 every batch update until it reached a minimum of 10^−6,"
   ]
  },
  {
   "cell_type": "markdown",
   "metadata": {},
   "source": [
    "#### Dropout -\n",
    "Dropout technique works by randomly reducing the number of interconnecting neurons within a neural network. At every training step, each neuron has a chance of being left out, or rather, dropped out of the collated contribution from connected neurons.\n",
    "This technique minimizes overfitting because each neuron becomes independently sufficient, in the sense that the neurons within the layers learn weight values that are not based on the cooperation of its neighbouring neurons.\n",
    "\n",
    "#### Momentum -\n",
    "momentum helps SGD to navigate along the relevant directions and softens the oscillations in the irrelevant. It simply adds a fraction of the direction of the previous step to a current step. This achieves amplification of speed in the correct direction and softens oscillation in wrong directions. This fraction is usually in the (0, 1) range. It also makes sense to use adaptive momentum. In the beginning of learning a big momentum will only hinder your progress, so it makes sense to use something like 0.01 and once all the high gradients disappeared you can use a bigger momentum. There is one problem with momentum: when we are very close to the goal, our momentum in most of the cases is very high and it does not know that it should slow down. This can cause it to miss or oscillate around the minima"
   ]
  },
  {
   "cell_type": "code",
   "execution_count": 118,
   "metadata": {},
   "outputs": [
    {
     "name": "stdout",
     "output_type": "stream",
     "text": [
      "Train on 8800 samples\n",
      "Epoch 1/50\n",
      "8800/8800 - 2s - loss: 0.6572 - accuracy: 0.6036 - auc: 0.6433\n",
      "Epoch 2/50\n",
      "8800/8800 - 1s - loss: 0.6452 - accuracy: 0.6245 - auc: 0.6679\n",
      "Epoch 3/50\n",
      "8800/8800 - 1s - loss: 0.6393 - accuracy: 0.6338 - auc: 0.6787\n",
      "Epoch 4/50\n",
      "8800/8800 - 1s - loss: 0.6366 - accuracy: 0.6359 - auc: 0.6828\n",
      "Epoch 5/50\n",
      "8800/8800 - 1s - loss: 0.6351 - accuracy: 0.6401 - auc: 0.6869\n",
      "Epoch 6/50\n",
      "8800/8800 - 1s - loss: 0.6320 - accuracy: 0.6413 - auc: 0.6898\n",
      "Epoch 7/50\n",
      "8800/8800 - 1s - loss: 0.6299 - accuracy: 0.6495 - auc: 0.6952\n",
      "Epoch 8/50\n",
      "8800/8800 - 1s - loss: 0.6279 - accuracy: 0.6482 - auc: 0.6982\n",
      "Epoch 9/50\n",
      "8800/8800 - 1s - loss: 0.6265 - accuracy: 0.6500 - auc: 0.7002\n",
      "Epoch 10/50\n",
      "8800/8800 - 1s - loss: 0.6234 - accuracy: 0.6540 - auc: 0.7057\n",
      "Epoch 11/50\n",
      "8800/8800 - 1s - loss: 0.6203 - accuracy: 0.6592 - auc: 0.7097\n",
      "Epoch 12/50\n",
      "8800/8800 - 1s - loss: 0.6181 - accuracy: 0.6587 - auc: 0.7144\n",
      "Epoch 13/50\n",
      "8800/8800 - 1s - loss: 0.6140 - accuracy: 0.6615 - auc: 0.7197\n",
      "Epoch 14/50\n",
      "8800/8800 - 1s - loss: 0.6118 - accuracy: 0.6682 - auc: 0.7226\n",
      "Epoch 15/50\n",
      "8800/8800 - 1s - loss: 0.6084 - accuracy: 0.6724 - auc: 0.7280\n",
      "Epoch 16/50\n",
      "8800/8800 - 1s - loss: 0.6029 - accuracy: 0.6725 - auc: 0.7345\n",
      "Epoch 17/50\n",
      "8800/8800 - 1s - loss: 0.5996 - accuracy: 0.6770 - auc: 0.7388\n",
      "Epoch 18/50\n",
      "8800/8800 - 1s - loss: 0.5941 - accuracy: 0.6831 - auc: 0.7468\n",
      "Epoch 19/50\n",
      "8800/8800 - 1s - loss: 0.5887 - accuracy: 0.6841 - auc: 0.7519\n",
      "Epoch 20/50\n",
      "8800/8800 - 1s - loss: 0.5828 - accuracy: 0.6927 - auc: 0.7582\n",
      "Epoch 21/50\n",
      "8800/8800 - 1s - loss: 0.5759 - accuracy: 0.7017 - auc: 0.7663\n",
      "Epoch 22/50\n",
      "8800/8800 - 1s - loss: 0.5725 - accuracy: 0.7000 - auc: 0.7696\n",
      "Epoch 23/50\n",
      "8800/8800 - 1s - loss: 0.5665 - accuracy: 0.7055 - auc: 0.7757\n",
      "Epoch 24/50\n",
      "8800/8800 - 1s - loss: 0.5608 - accuracy: 0.7136 - auc: 0.7818\n",
      "Epoch 25/50\n",
      "8800/8800 - 1s - loss: 0.5541 - accuracy: 0.7180 - auc: 0.7876\n",
      "Epoch 26/50\n",
      "8800/8800 - 1s - loss: 0.5508 - accuracy: 0.7206 - auc: 0.7918\n",
      "Epoch 27/50\n",
      "8800/8800 - 1s - loss: 0.5453 - accuracy: 0.7202 - auc: 0.7957\n",
      "Epoch 28/50\n",
      "8800/8800 - 1s - loss: 0.5415 - accuracy: 0.7255 - auc: 0.8004\n",
      "Epoch 29/50\n",
      "8800/8800 - 1s - loss: 0.5348 - accuracy: 0.7335 - auc: 0.8055\n",
      "Epoch 30/50\n",
      "8800/8800 - 1s - loss: 0.5329 - accuracy: 0.7309 - auc: 0.8074\n",
      "Epoch 31/50\n",
      "8800/8800 - 1s - loss: 0.5285 - accuracy: 0.7367 - auc: 0.8114\n",
      "Epoch 32/50\n",
      "8800/8800 - 1s - loss: 0.5225 - accuracy: 0.7383 - auc: 0.8162\n",
      "Epoch 33/50\n",
      "8800/8800 - 1s - loss: 0.5132 - accuracy: 0.7418 - auc: 0.8235\n",
      "Epoch 34/50\n",
      "8800/8800 - 1s - loss: 0.5085 - accuracy: 0.7470 - auc: 0.8277\n",
      "Epoch 35/50\n",
      "8800/8800 - 1s - loss: 0.5016 - accuracy: 0.7550 - auc: 0.8336\n",
      "Epoch 36/50\n",
      "8800/8800 - 1s - loss: 0.4938 - accuracy: 0.7555 - auc: 0.8392\n",
      "Epoch 37/50\n",
      "8800/8800 - 1s - loss: 0.4891 - accuracy: 0.7584 - auc: 0.8424\n",
      "Epoch 38/50\n",
      "8800/8800 - 1s - loss: 0.4811 - accuracy: 0.7632 - auc: 0.8487\n",
      "Epoch 39/50\n",
      "8800/8800 - 1s - loss: 0.4770 - accuracy: 0.7673 - auc: 0.8513\n",
      "Epoch 40/50\n",
      "8800/8800 - 1s - loss: 0.4663 - accuracy: 0.7752 - auc: 0.8593\n",
      "Epoch 41/50\n",
      "8800/8800 - 1s - loss: 0.4564 - accuracy: 0.7803 - auc: 0.8654\n",
      "Epoch 42/50\n",
      "8800/8800 - 1s - loss: 0.4513 - accuracy: 0.7811 - auc: 0.8686\n",
      "Epoch 43/50\n",
      "8800/8800 - 1s - loss: 0.4446 - accuracy: 0.7890 - auc: 0.8736\n",
      "Epoch 44/50\n",
      "8800/8800 - 1s - loss: 0.4339 - accuracy: 0.7939 - auc: 0.8807\n",
      "Epoch 45/50\n",
      "8800/8800 - 1s - loss: 0.4240 - accuracy: 0.7993 - auc: 0.8860\n",
      "Epoch 46/50\n",
      "8800/8800 - 1s - loss: 0.4169 - accuracy: 0.8055 - auc: 0.8903\n",
      "Epoch 47/50\n",
      "8800/8800 - 1s - loss: 0.4058 - accuracy: 0.8134 - auc: 0.8963\n",
      "Epoch 48/50\n",
      "8800/8800 - 1s - loss: 0.3915 - accuracy: 0.8233 - auc: 0.9048\n",
      "Epoch 49/50\n",
      "8800/8800 - 1s - loss: 0.3815 - accuracy: 0.8238 - auc: 0.9095\n",
      "Epoch 50/50\n",
      "8800/8800 - 1s - loss: 0.3697 - accuracy: 0.8351 - auc: 0.9161\n"
     ]
    }
   ],
   "source": [
    "#from tensorflow.keras.callbacks import EarlyStopping\n",
    "#from tensorflow.keras.layers import LeakyReLU\n",
    "#import pandas as pd\n",
    "#import io\n",
    "#import os\n",
    "#import requests\n",
    "#import numpy as np\n",
    "#from sklearn import metrics\n",
    "#from tensorflow.keras import optimizers\n",
    "\n",
    "#Parms needed for case study  \n",
    "\n",
    "#We selected a five-layer neural network with 300 hidden units in each layer,\n",
    "#a learning rate of 0.05, and a weight decay coefficient of 1 × 10−5.\n",
    "# Hidden layer have tanh activation function\n",
    "#Gradient computations were made on mini-batches of size 100\n",
    "#The learning rate decayed by a factor of 1.0000002 every batch update until it reached a minimum of 10^−6,\n",
    "\n",
    "def define_predictor(n_input):\n",
    " \n",
    "    model = tf.keras.Sequential()\n",
    "    model.add(tf.keras.layers.Dense(300, kernel_initializer = tf.keras.initializers.RandomNormal(mean=0.0, stddev=0.1, seed=None), input_dim = n_input, activation='tanh')) # Hidden 1\n",
    "        model.add(layers.Dropout(0.5))\n",
    "    model.add(tf.keras.layers.Dense(300,kernel_initializer = tf.keras.initializers.RandomNormal(mean=0.0, stddev=0.05, seed=None), activation='tanh')) # Hidden 2\n",
    "    model.add(tf.keras.layers.Dense(300,kernel_initializer = tf.keras.initializers.RandomNormal(mean=0.0, stddev=0.05, seed=None), activation='tanh')) # Hidden 3\n",
    "    model.add(tf.keras.layers.Dense(300,kernel_initializer = tf.keras.initializers.RandomNormal(mean=0.0, stddev=0.05, seed=None), activation='tanh')) # Hidden 4\n",
    "    model.add(tf.keras.layers.Dense(300,kernel_initializer = tf.keras.initializers.RandomNormal(mean=0.0, stddev=0.05, seed=None), activation='tanh')) # Hidden 5\n",
    "    model.add(tf.keras.layers.Dense(1,kernel_initializer = tf.keras.initializers.RandomNormal(mean=0.0, stddev=0.001, seed=None),activation='sigmoid')) # Output #1.2\n",
    "    #model.add(tf.keras.layers.Dense(1,activation='softmax')) # Output\n",
    "    sgd = tf.keras.optimizers.SGD(lr=.05, decay = 1.0000002, momentum=0.99)\n",
    "    model.compile(loss='binary_crossentropy', optimizer=sgd , metrics=['accuracy', tf.keras.metrics.AUC()])\n",
    "    return model\n",
    "\n",
    "    \n",
    "#setup scaler\n",
    "from sklearn import preprocessing\n",
    "scaler = preprocessing.StandardScaler()\n",
    "dfx\n",
    "X = dfx.loc[:, 1:28]\n",
    "#X = dfx[features].copy()\n",
    "Y = dfx[0].copy()\n",
    "y = Y.values\n",
    "\n",
    "# the cv=cvx parameter sets the grid search to split the training and testing data 10 times. \n",
    "from sklearn.model_selection import train_test_split, GridSearchCV, KFold, TimeSeriesSplit, StratifiedShuffleSplit\n",
    "from sklearn import metrics as mt\n",
    "X_train, X_test, y_train, y_test = train_test_split(X, y, test_size = 0.2, random_state = 101)\n",
    "\n",
    "Att_model = define_predictor(X_train.shape[1])\n",
    "history = Att_model.fit(scaler.fit_transform(X_train),np.array(y_train), verbose=2, epochs=50, batch_size=100)"
   ]
  },
  {
   "cell_type": "code",
   "execution_count": 115,
   "metadata": {},
   "outputs": [
    {
     "name": "stdout",
     "output_type": "stream",
     "text": [
      "Model: \"sequential_12\"\n",
      "_________________________________________________________________\n",
      "Layer (type)                 Output Shape              Param #   \n",
      "=================================================================\n",
      "dense_60 (Dense)             (None, 300)               8700      \n",
      "_________________________________________________________________\n",
      "dense_61 (Dense)             (None, 300)               90300     \n",
      "_________________________________________________________________\n",
      "dense_62 (Dense)             (None, 300)               90300     \n",
      "_________________________________________________________________\n",
      "dense_63 (Dense)             (None, 300)               90300     \n",
      "_________________________________________________________________\n",
      "dense_64 (Dense)             (None, 300)               90300     \n",
      "_________________________________________________________________\n",
      "dense_65 (Dense)             (None, 1)                 301       \n",
      "=================================================================\n",
      "Total params: 370,201\n",
      "Trainable params: 370,201\n",
      "Non-trainable params: 0\n",
      "_________________________________________________________________\n"
     ]
    }
   ],
   "source": [
    "Att_model.summary()"
   ]
  },
  {
   "cell_type": "code",
   "execution_count": 119,
   "metadata": {},
   "outputs": [
    {
     "data": {
      "text/plain": [
       "{'loss': [0.6571563876758922,\n",
       "  0.6451599910042503,\n",
       "  0.6393206540021029,\n",
       "  0.6365889770334417,\n",
       "  0.6351459620215676,\n",
       "  0.632022726319053,\n",
       "  0.6299112811955538,\n",
       "  0.6278824225339023,\n",
       "  0.6265260841629722,\n",
       "  0.6233547865260731,\n",
       "  0.6203326708620245,\n",
       "  0.6181080332669345,\n",
       "  0.6139661247080023,\n",
       "  0.6117591753872959,\n",
       "  0.6084144574945624,\n",
       "  0.6028794667937539,\n",
       "  0.5996392462470315,\n",
       "  0.5941123262318698,\n",
       "  0.5886754343726418,\n",
       "  0.5827725547010248,\n",
       "  0.5758814484422857,\n",
       "  0.5724782414869829,\n",
       "  0.5664510674910112,\n",
       "  0.5607989998297258,\n",
       "  0.5540679315003482,\n",
       "  0.5508389516310258,\n",
       "  0.5453073200312528,\n",
       "  0.5414554762840271,\n",
       "  0.5347706621343439,\n",
       "  0.5329407605257901,\n",
       "  0.5284980921311812,\n",
       "  0.5224655214222995,\n",
       "  0.5132276472178372,\n",
       "  0.5085079901868647,\n",
       "  0.5015570425987244,\n",
       "  0.4937599340352145,\n",
       "  0.48912333466789937,\n",
       "  0.4811018681526184,\n",
       "  0.47699236848137594,\n",
       "  0.46630282878875734,\n",
       "  0.45635651902718977,\n",
       "  0.45127150665629995,\n",
       "  0.444645285172896,\n",
       "  0.43388305100527674,\n",
       "  0.42397350159558383,\n",
       "  0.41693418090993706,\n",
       "  0.40582965222272005,\n",
       "  0.3914793762293729,\n",
       "  0.38147627494551917,\n",
       "  0.36970856254751033],\n",
       " 'accuracy': [0.6036364,\n",
       "  0.62454545,\n",
       "  0.63375,\n",
       "  0.6359091,\n",
       "  0.64011365,\n",
       "  0.64125,\n",
       "  0.64954543,\n",
       "  0.6481818,\n",
       "  0.65,\n",
       "  0.6539773,\n",
       "  0.65920454,\n",
       "  0.65875,\n",
       "  0.66147727,\n",
       "  0.66818184,\n",
       "  0.67238635,\n",
       "  0.6725,\n",
       "  0.67704546,\n",
       "  0.68306816,\n",
       "  0.6840909,\n",
       "  0.69272727,\n",
       "  0.70170456,\n",
       "  0.7,\n",
       "  0.7054545,\n",
       "  0.71363634,\n",
       "  0.7179545,\n",
       "  0.7205682,\n",
       "  0.7202273,\n",
       "  0.72545457,\n",
       "  0.7335227,\n",
       "  0.7309091,\n",
       "  0.7367045,\n",
       "  0.73829544,\n",
       "  0.7418182,\n",
       "  0.74704546,\n",
       "  0.755,\n",
       "  0.75545454,\n",
       "  0.7584091,\n",
       "  0.7631818,\n",
       "  0.7672727,\n",
       "  0.77522725,\n",
       "  0.7803409,\n",
       "  0.78113633,\n",
       "  0.78897727,\n",
       "  0.79386365,\n",
       "  0.7993182,\n",
       "  0.80545455,\n",
       "  0.8134091,\n",
       "  0.8232955,\n",
       "  0.82375,\n",
       "  0.83511364],\n",
       " 'auc': [0.64332473,\n",
       "  0.6679386,\n",
       "  0.6787412,\n",
       "  0.68282443,\n",
       "  0.6869157,\n",
       "  0.6897572,\n",
       "  0.6951942,\n",
       "  0.69815385,\n",
       "  0.70015836,\n",
       "  0.70569396,\n",
       "  0.7097394,\n",
       "  0.71437216,\n",
       "  0.71967506,\n",
       "  0.7226175,\n",
       "  0.7279764,\n",
       "  0.7345458,\n",
       "  0.73876673,\n",
       "  0.746764,\n",
       "  0.75186753,\n",
       "  0.758176,\n",
       "  0.76633686,\n",
       "  0.76959157,\n",
       "  0.77569115,\n",
       "  0.7818465,\n",
       "  0.78764486,\n",
       "  0.79181284,\n",
       "  0.7957259,\n",
       "  0.80039746,\n",
       "  0.8055142,\n",
       "  0.8074161,\n",
       "  0.81143415,\n",
       "  0.8162462,\n",
       "  0.8234735,\n",
       "  0.82765484,\n",
       "  0.83364177,\n",
       "  0.8392443,\n",
       "  0.8424327,\n",
       "  0.84866774,\n",
       "  0.851338,\n",
       "  0.85934025,\n",
       "  0.865439,\n",
       "  0.8686479,\n",
       "  0.87360513,\n",
       "  0.88071525,\n",
       "  0.88602895,\n",
       "  0.8903444,\n",
       "  0.8963058,\n",
       "  0.9048125,\n",
       "  0.9094707,\n",
       "  0.9160601]}"
      ]
     },
     "execution_count": 119,
     "metadata": {},
     "output_type": "execute_result"
    }
   ],
   "source": [
    "history.history"
   ]
  },
  {
   "cell_type": "code",
   "execution_count": 116,
   "metadata": {},
   "outputs": [],
   "source": [
    "#%%time\n",
    "#size_histories['Tiny3'], Tinypred3, Tinyvalres3 = compile_and_fit(tiny_model3, 'sizes/Tiny')"
   ]
  },
  {
   "cell_type": "markdown",
   "metadata": {
    "colab_type": "text",
    "id": "UekcaQdmZxnW"
   },
   "source": [
    "Note: All the above training runs used the `callbacks.EarlyStopping` to end the training once it was clear the model was not making progress."
   ]
  },
  {
   "cell_type": "markdown",
   "metadata": {
    "colab_type": "text",
    "id": "DEQNKadHA0M3"
   },
   "source": [
    "### View in TensorBoard\n",
    "\n",
    "These models all wrote TensorBoard logs during training.\n",
    "\n",
    "To open an embedded  TensorBoard viewer inside a notebook, copy the following into a code-cell:\n",
    "\n",
    "```\n",
    "%tensorboard --logdir {logdir}/sizes\n",
    "```"
   ]
  },
  {
   "cell_type": "markdown",
   "metadata": {
    "colab_type": "text",
    "id": "fjqx3bywDPjf"
   },
   "source": [
    "You can view the [results of a previous run](https://tensorboard.dev/experiment/vW7jmmF9TmKmy3rbheMQpw/#scalars&_smoothingWeight=0.97) of this notebook on [TensorBoard.dev](https://tensorboard.dev/).\n",
    "\n",
    "TensorBoard.dev is a managed experience for hosting, tracking, and sharing ML experiments with everyone.\n",
    "\n",
    "It's also included in an `<iframe>` for convenience:"
   ]
  },
  {
   "cell_type": "code",
   "execution_count": 75,
   "metadata": {
    "colab": {},
    "colab_type": "code",
    "id": "dX5fcgrADwym"
   },
   "outputs": [
    {
     "data": {
      "text/html": [
       "\n",
       "        <iframe\n",
       "            width=\"100%\"\n",
       "            height=\"800px\"\n",
       "            src=\"https://tensorboard.dev/experiment/vW7jmmF9TmKmy3rbheMQpw/#scalars&_smoothingWeight=0.97\"\n",
       "            frameborder=\"0\"\n",
       "            allowfullscreen\n",
       "        ></iframe>\n",
       "        "
      ],
      "text/plain": [
       "<IPython.lib.display.IFrame at 0x7f69c0590550>"
      ]
     },
     "execution_count": 75,
     "metadata": {},
     "output_type": "execute_result"
    }
   ],
   "source": [
    "display.IFrame(\n",
    "    src=\"https://tensorboard.dev/experiment/vW7jmmF9TmKmy3rbheMQpw/#scalars&_smoothingWeight=0.97\",\n",
    "    width=\"100%\", height=\"800px\")"
   ]
  },
  {
   "cell_type": "markdown",
   "metadata": {
    "colab_type": "text",
    "id": "RDQDBKYZBXF_"
   },
   "source": [
    "If you want to share TensorBoard results you can upload the logs to [TensorBoard.dev](https://tensorboard.dev/) by copying the following into a code-cell.\n",
    "\n",
    "Note: This step requires a Google account.\n",
    "\n",
    "```\n",
    "!tensorboard dev upload --logdir  {logdir}/sizes\n",
    "```\n",
    "\n",
    "Caution: This command does not terminate. It's designed to continuously upload the results of long-running experiments. Once your data is uploaded you need to stop it using the \"interrupt execution\" option in your notebook tool."
   ]
  },
  {
   "cell_type": "code",
   "execution_count": 76,
   "metadata": {
    "colab": {},
    "colab_type": "code",
    "id": "40k1eBtnQzNo"
   },
   "outputs": [
    {
     "data": {
      "text/plain": [
       "PosixPath('/tmp/tmpuu20wvxa/tensorboard_logs/regularizers/Tiny')"
      ]
     },
     "execution_count": 76,
     "metadata": {},
     "output_type": "execute_result"
    }
   ],
   "source": [
    "shutil.rmtree(logdir/'regularizers/Tiny', ignore_errors=True)\n",
    "shutil.copytree(logdir/'sizes/Tiny', logdir/'regularizers/Tiny')"
   ]
  },
  {
   "cell_type": "code",
   "execution_count": 77,
   "metadata": {
    "colab": {},
    "colab_type": "code",
    "id": "vFWMeFo7jLpN"
   },
   "outputs": [],
   "source": [
    "regularizer_histories = {}\n",
    "regularizer_histories['Tiny'] = size_histories['Tiny']"
   ]
  },
  {
   "cell_type": "markdown",
   "metadata": {
    "colab_type": "text",
    "id": "uXJxtwBWIhjG"
   },
   "source": [
    "## Conclusions"
   ]
  },
  {
   "cell_type": "markdown",
   "metadata": {
    "colab_type": "text",
    "id": "gjfnkEeQyAFG"
   },
   "source": [
    "To recap: here are the most common ways to prevent overfitting in neural networks:\n",
    "\n",
    "* Get more training data.\n",
    "* Reduce the capacity of the network.\n",
    "* Add weight regularization.\n",
    "* Add dropout.\n",
    "\n",
    "Two important approaches not covered in this guide are:\n",
    "\n",
    "* data-augmentation\n",
    "* batch normalization\n",
    "\n",
    "Remember that each method can help on its own, but often combining them can be even more effective."
   ]
  },
  {
   "cell_type": "code",
   "execution_count": null,
   "metadata": {
    "colab": {},
    "colab_type": "code",
    "id": "bkAbvht_rIGj"
   },
   "outputs": [],
   "source": []
  }
 ],
 "metadata": {
  "accelerator": "GPU",
  "colab": {
   "collapsed_sections": [],
   "machine_shape": "hm",
   "name": "overfit_and_underfit.ipynb",
   "private_outputs": true,
   "provenance": [],
   "toc_visible": true
  },
  "kernelspec": {
   "display_name": "Python 3",
   "language": "python",
   "name": "python3"
  },
  "language_info": {
   "codemirror_mode": {
    "name": "ipython",
    "version": 3
   },
   "file_extension": ".py",
   "mimetype": "text/x-python",
   "name": "python",
   "nbconvert_exporter": "python",
   "pygments_lexer": "ipython3",
   "version": "3.7.7"
  }
 },
 "nbformat": 4,
 "nbformat_minor": 1
}
